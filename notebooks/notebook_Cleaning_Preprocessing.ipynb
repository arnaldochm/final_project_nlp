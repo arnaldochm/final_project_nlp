{
 "cells": [
  {
   "cell_type": "code",
   "execution_count": 4,
   "metadata": {},
   "outputs": [],
   "source": [
    "# Dataset: Amazon Books Reviews\n",
    "# Author: Mohamed Bekheet\n",
    "# Source: Mohamed Bekheet. (2022). Amazon Books Reviews [Data set]. Kaggle. https://www.kaggle.com/datasets/mohamedbakhet/amazon-books-reviews\n",
    "# URL: https://www.kaggle.com/datasets/mohamedbakhet/amazon-books-reviews\n",
    "# This dataset contains 2 files\n",
    "# The first Dataset contain feedback about 3M user on 212404 unique books the data set is \n",
    "# part of the Amazon review Dataset it contains product reviews and metadata from Amazon, including \n",
    "# 142.8 million reviews spanning May 1996 - July 2014.\n",
    "# Reviews Dataset Data Dictionary:\n",
    "# -id:                  The Id of Book\n",
    "# -Title:   \t        Book Title\n",
    "# -Price:               The price of Book\n",
    "# -User_id:             Id of the user who rates the book\n",
    "# -profileName:         Name of the user who rates the book\n",
    "# -review/helpfulness:  helpfulness rating of the review, e.g. 2/3\n",
    "# -review/score:        rating from 0 to 5 for the book\n",
    "# -review/time:         time of given the review\n",
    "# -review/summary:      the summary of a text review\n",
    "# -review/text:         the full text of a review\n",
    "\n",
    "# The second file Books Details file contains details information about 212404 unique books it file is built by using\n",
    "# google books API to get details information about books it rated in the first file\n",
    "# and this file contains\n",
    "\n",
    "# Book Details Dataset Data Dictionary:\n",
    "# Title:\t        Book Title\n",
    "# Descripe:\t        Decription of book\n",
    "# authors:\t        Name of book authors\n",
    "# image:\t        Url for book cover\n",
    "# previewLink:\t    Link to access this book on google Books\n",
    "# publisher:\t    Name of the publisheer\n",
    "# publishedDate:\tThe date of publish\n",
    "# infoLink:\t        Link to get more information about the book on google books\n",
    "# categories:\t    Genres of books\n",
    "# ratingsCount:\t    Averaging rating for book\n",
    "\n",
    "# Both Datasets are linked through the unique tittle of the book."
   ]
  },
  {
   "cell_type": "code",
   "execution_count": 5,
   "metadata": {},
   "outputs": [],
   "source": [
    "# Step 0. Load libraries and custom modules\n",
    "# ----------------- Common Libraries --------------------\n",
    "import pandas as pd\n",
    "import numpy as np\n",
    "import matplotlib.pyplot as plt\n",
    "import seaborn as sns\n",
    "from dateutil.parser import parse\n",
    "from datetime import datetime\n",
    "from datetime import date\n",
    "import re\n",
    "# ------------  PREPROCESING -------------\n",
    "from sklearn.model_selection import train_test_split\n",
    "from sklearn.decomposition import PCA\n",
    "from sklearn.decomposition import FastICA\n",
    "from sklearn.preprocessing import OneHotEncoder\n",
    "from sklearn.preprocessing import StandardScaler\n",
    "from sklearn.feature_extraction.text import TfidfVectorizer\n",
    "from sklearn.feature_extraction.text import CountVectorizer\n",
    "import nltk\n",
    "from nltk import download\n",
    "from nltk.stem import WordNetLemmatizer\n",
    "from nltk.corpus import stopwords\n",
    "from nltk.sentiment.vader import SentimentIntensityAnalyzer\n",
    "from nltk.tokenize import word_tokenize\n",
    "from wordcloud import WordCloud\n",
    "from textstat import flesch_kincaid_grade\n",
    "#-------------- TRANSFORMERS --------------\n",
    "import transformers\n",
    "from transformers.pipelines import PIPELINE_REGISTRY\n",
    "from transformers import pipeline\n",
    "from evaluate import load\n",
    "from transformers import Conversation\n",
    "transformers.logging.set_verbosity_error()"
   ]
  },
  {
   "cell_type": "markdown",
   "metadata": {},
   "source": [
    "# Data Loading and Cleaning"
   ]
  },
  {
   "cell_type": "code",
   "execution_count": 6,
   "metadata": {},
   "outputs": [
    {
     "name": "stdout",
     "output_type": "stream",
     "text": [
      "<class 'pandas.core.frame.DataFrame'>\n",
      "RangeIndex: 3000000 entries, 0 to 2999999\n",
      "Data columns (total 10 columns):\n",
      " #   Column              Dtype  \n",
      "---  ------              -----  \n",
      " 0   Id                  object \n",
      " 1   Title               object \n",
      " 2   Price               float64\n",
      " 3   User_id             object \n",
      " 4   profileName         object \n",
      " 5   review/helpfulness  object \n",
      " 6   review/score        float64\n",
      " 7   review/time         int64  \n",
      " 8   review/summary      object \n",
      " 9   review/text         object \n",
      "dtypes: float64(2), int64(1), object(7)\n",
      "memory usage: 228.9+ MB\n"
     ]
    }
   ],
   "source": [
    "# Loading the Datasets\n",
    "\n",
    "# Load Books Rating Dataset\n",
    "df_rating_raw = pd.read_csv('../data/raw/Books_rating.csv')\n",
    "df_rating_raw.info()"
   ]
  },
  {
   "cell_type": "code",
   "execution_count": 7,
   "metadata": {},
   "outputs": [
    {
     "data": {
      "text/html": [
       "<div>\n",
       "<style scoped>\n",
       "    .dataframe tbody tr th:only-of-type {\n",
       "        vertical-align: middle;\n",
       "    }\n",
       "\n",
       "    .dataframe tbody tr th {\n",
       "        vertical-align: top;\n",
       "    }\n",
       "\n",
       "    .dataframe thead th {\n",
       "        text-align: right;\n",
       "    }\n",
       "</style>\n",
       "<table border=\"1\" class=\"dataframe\">\n",
       "  <thead>\n",
       "    <tr style=\"text-align: right;\">\n",
       "      <th></th>\n",
       "      <th>Id</th>\n",
       "      <th>Title</th>\n",
       "      <th>Price</th>\n",
       "      <th>User_id</th>\n",
       "      <th>profileName</th>\n",
       "      <th>review/helpfulness</th>\n",
       "      <th>review/score</th>\n",
       "      <th>review/time</th>\n",
       "      <th>review/summary</th>\n",
       "      <th>review/text</th>\n",
       "    </tr>\n",
       "  </thead>\n",
       "  <tbody>\n",
       "    <tr>\n",
       "      <th>1107230</th>\n",
       "      <td>B0006AL5RG</td>\n",
       "      <td>Moby Dick;: Or, The whale,</td>\n",
       "      <td>NaN</td>\n",
       "      <td>A3IDVPHK010YCS</td>\n",
       "      <td>Samson Gebre</td>\n",
       "      <td>2/7</td>\n",
       "      <td>5.0</td>\n",
       "      <td>988502400</td>\n",
       "      <td>A HARD READ BUT WORTH IT IN THE END</td>\n",
       "      <td>Moby Dick is one of the rare novels where I th...</td>\n",
       "    </tr>\n",
       "    <tr>\n",
       "      <th>1349418</th>\n",
       "      <td>0786280816</td>\n",
       "      <td>The Warrior: Caleb (Sons of Encouragement Seri...</td>\n",
       "      <td>NaN</td>\n",
       "      <td>A2RN09CHUFKP7V</td>\n",
       "      <td>N. M. Batten \"nicbat\"</td>\n",
       "      <td>4/6</td>\n",
       "      <td>2.0</td>\n",
       "      <td>1125360000</td>\n",
       "      <td>A disappointment</td>\n",
       "      <td>I am an avid reader of Francine Rivers books. ...</td>\n",
       "    </tr>\n",
       "    <tr>\n",
       "      <th>1391954</th>\n",
       "      <td>0754054241</td>\n",
       "      <td>Alias Grace: Complete &amp; Unabridged</td>\n",
       "      <td>NaN</td>\n",
       "      <td>A2K9FXOFFHVNWG</td>\n",
       "      <td>Lilly Flora \"by Lilo Drandoff\"</td>\n",
       "      <td>4/5</td>\n",
       "      <td>5.0</td>\n",
       "      <td>1216339200</td>\n",
       "      <td>Amazing Grace: how sweet the read</td>\n",
       "      <td>\"Alias Grace\" is probably the book that sat fo...</td>\n",
       "    </tr>\n",
       "    <tr>\n",
       "      <th>429309</th>\n",
       "      <td>0898795516</td>\n",
       "      <td>Scene and Structure (Elements of Fiction Writing)</td>\n",
       "      <td>NaN</td>\n",
       "      <td>A2JANKGO7NCIM6</td>\n",
       "      <td>cile</td>\n",
       "      <td>10/14</td>\n",
       "      <td>5.0</td>\n",
       "      <td>1095552000</td>\n",
       "      <td>For the serious professional</td>\n",
       "      <td>This book is the best book I've read to date o...</td>\n",
       "    </tr>\n",
       "    <tr>\n",
       "      <th>1776643</th>\n",
       "      <td>B000K0DB8I</td>\n",
       "      <td>Left Behind - A Novel Of The Earth's Last Days</td>\n",
       "      <td>NaN</td>\n",
       "      <td>A39N6TG3PMIP4J</td>\n",
       "      <td>matt nicolin</td>\n",
       "      <td>0/3</td>\n",
       "      <td>5.0</td>\n",
       "      <td>958435200</td>\n",
       "      <td>The Greatest Story on Earth</td>\n",
       "      <td>When I first picked up this book and started t...</td>\n",
       "    </tr>\n",
       "  </tbody>\n",
       "</table>\n",
       "</div>"
      ],
      "text/plain": [
       "                 Id                                              Title  Price  \\\n",
       "1107230  B0006AL5RG                         Moby Dick;: Or, The whale,    NaN   \n",
       "1349418  0786280816  The Warrior: Caleb (Sons of Encouragement Seri...    NaN   \n",
       "1391954  0754054241                 Alias Grace: Complete & Unabridged    NaN   \n",
       "429309   0898795516  Scene and Structure (Elements of Fiction Writing)    NaN   \n",
       "1776643  B000K0DB8I     Left Behind - A Novel Of The Earth's Last Days    NaN   \n",
       "\n",
       "                User_id                     profileName review/helpfulness  \\\n",
       "1107230  A3IDVPHK010YCS                    Samson Gebre                2/7   \n",
       "1349418  A2RN09CHUFKP7V           N. M. Batten \"nicbat\"                4/6   \n",
       "1391954  A2K9FXOFFHVNWG  Lilly Flora \"by Lilo Drandoff\"                4/5   \n",
       "429309   A2JANKGO7NCIM6                            cile              10/14   \n",
       "1776643  A39N6TG3PMIP4J                    matt nicolin                0/3   \n",
       "\n",
       "         review/score  review/time                       review/summary  \\\n",
       "1107230           5.0    988502400  A HARD READ BUT WORTH IT IN THE END   \n",
       "1349418           2.0   1125360000                     A disappointment   \n",
       "1391954           5.0   1216339200    Amazing Grace: how sweet the read   \n",
       "429309            5.0   1095552000         For the serious professional   \n",
       "1776643           5.0    958435200          The Greatest Story on Earth   \n",
       "\n",
       "                                               review/text  \n",
       "1107230  Moby Dick is one of the rare novels where I th...  \n",
       "1349418  I am an avid reader of Francine Rivers books. ...  \n",
       "1391954  \"Alias Grace\" is probably the book that sat fo...  \n",
       "429309   This book is the best book I've read to date o...  \n",
       "1776643  When I first picked up this book and started t...  "
      ]
     },
     "execution_count": 7,
     "metadata": {},
     "output_type": "execute_result"
    }
   ],
   "source": [
    "df_rating_raw.sample(5, random_state= 5)"
   ]
  },
  {
   "cell_type": "code",
   "execution_count": 8,
   "metadata": {},
   "outputs": [
    {
     "name": "stdout",
     "output_type": "stream",
     "text": [
      "<class 'pandas.core.frame.DataFrame'>\n",
      "RangeIndex: 212404 entries, 0 to 212403\n",
      "Data columns (total 10 columns):\n",
      " #   Column         Non-Null Count   Dtype  \n",
      "---  ------         --------------   -----  \n",
      " 0   Title          212403 non-null  object \n",
      " 1   description    143962 non-null  object \n",
      " 2   authors        180991 non-null  object \n",
      " 3   image          160329 non-null  object \n",
      " 4   previewLink    188568 non-null  object \n",
      " 5   publisher      136518 non-null  object \n",
      " 6   publishedDate  187099 non-null  object \n",
      " 7   infoLink       188568 non-null  object \n",
      " 8   categories     171205 non-null  object \n",
      " 9   ratingsCount   49752 non-null   float64\n",
      "dtypes: float64(1), object(9)\n",
      "memory usage: 16.2+ MB\n"
     ]
    }
   ],
   "source": [
    "# Load Books Data Dataset\n",
    "df_data_raw = pd.read_csv('../data/raw/books_data.csv')\n",
    "\n",
    "df_data_raw.info()"
   ]
  },
  {
   "cell_type": "code",
   "execution_count": 9,
   "metadata": {},
   "outputs": [
    {
     "data": {
      "text/html": [
       "<div>\n",
       "<style scoped>\n",
       "    .dataframe tbody tr th:only-of-type {\n",
       "        vertical-align: middle;\n",
       "    }\n",
       "\n",
       "    .dataframe tbody tr th {\n",
       "        vertical-align: top;\n",
       "    }\n",
       "\n",
       "    .dataframe thead th {\n",
       "        text-align: right;\n",
       "    }\n",
       "</style>\n",
       "<table border=\"1\" class=\"dataframe\">\n",
       "  <thead>\n",
       "    <tr style=\"text-align: right;\">\n",
       "      <th></th>\n",
       "      <th>Title</th>\n",
       "      <th>description</th>\n",
       "      <th>authors</th>\n",
       "      <th>image</th>\n",
       "      <th>previewLink</th>\n",
       "      <th>publisher</th>\n",
       "      <th>publishedDate</th>\n",
       "      <th>infoLink</th>\n",
       "      <th>categories</th>\n",
       "      <th>ratingsCount</th>\n",
       "    </tr>\n",
       "  </thead>\n",
       "  <tbody>\n",
       "    <tr>\n",
       "      <th>8704</th>\n",
       "      <td>The troll garden, (A plume book)</td>\n",
       "      <td>This collection of Willa Cather stories&amp; ... h...</td>\n",
       "      <td>['Willa Cather']</td>\n",
       "      <td>http://books.google.com/books/content?id=2YvWA...</td>\n",
       "      <td>http://books.google.nl/books?id=2YvWAAAAMAAJ&amp;q...</td>\n",
       "      <td>Plume Books</td>\n",
       "      <td>1971</td>\n",
       "      <td>http://books.google.nl/books?id=2YvWAAAAMAAJ&amp;d...</td>\n",
       "      <td>['Man-woman relationships']</td>\n",
       "      <td>1.0</td>\n",
       "    </tr>\n",
       "    <tr>\n",
       "      <th>178135</th>\n",
       "      <td>Know Peace Within</td>\n",
       "      <td>Find out what all of the rave is about. See ho...</td>\n",
       "      <td>['L. David Harris']</td>\n",
       "      <td>http://books.google.com/books/content?id=lt-iT...</td>\n",
       "      <td>http://books.google.com/books?id=lt-iTLae00AC&amp;...</td>\n",
       "      <td>Xulon Press</td>\n",
       "      <td>2005-09-01</td>\n",
       "      <td>http://books.google.com/books?id=lt-iTLae00AC&amp;...</td>\n",
       "      <td>['Religion']</td>\n",
       "      <td>NaN</td>\n",
       "    </tr>\n",
       "    <tr>\n",
       "      <th>203200</th>\n",
       "      <td>DICTIONARY OF AMERICAN NAVAL FIGHTING SHIPS IN...</td>\n",
       "      <td>NaN</td>\n",
       "      <td>['United States. Naval History Division']</td>\n",
       "      <td>http://books.google.com/books/content?id=zk4SA...</td>\n",
       "      <td>http://books.google.com/books?id=zk4SAAAAYAAJ&amp;...</td>\n",
       "      <td>Department of the Navy</td>\n",
       "      <td>1964</td>\n",
       "      <td>https://play.google.com/store/books/details?id...</td>\n",
       "      <td>['Government publications']</td>\n",
       "      <td>NaN</td>\n",
       "    </tr>\n",
       "    <tr>\n",
       "      <th>105072</th>\n",
       "      <td>Real Prophecy Unveiled: Why the Christ Will No...</td>\n",
       "      <td>Religious hypocrites wage \"holy war\" while the...</td>\n",
       "      <td>['Joseph Adamson']</td>\n",
       "      <td>http://books.google.com/books/content?id=85Uxw...</td>\n",
       "      <td>http://books.google.com/books?id=85Uxwx4nyAsC&amp;...</td>\n",
       "      <td>iUniverse</td>\n",
       "      <td>2002-01</td>\n",
       "      <td>http://books.google.com/books?id=85Uxwx4nyAsC&amp;...</td>\n",
       "      <td>['Religion']</td>\n",
       "      <td>NaN</td>\n",
       "    </tr>\n",
       "    <tr>\n",
       "      <th>110546</th>\n",
       "      <td>The Burg: An Italian-American Community at Bay...</td>\n",
       "      <td>A sociological and historical account of the d...</td>\n",
       "      <td>['Peter A. Peroni']</td>\n",
       "      <td>http://books.google.com/books/content?id=NphuA...</td>\n",
       "      <td>http://books.google.nl/books?id=NphuAAAAMAAJ&amp;q...</td>\n",
       "      <td>University Press of Amer</td>\n",
       "      <td>1979</td>\n",
       "      <td>http://books.google.nl/books?id=NphuAAAAMAAJ&amp;d...</td>\n",
       "      <td>['Social Science']</td>\n",
       "      <td>NaN</td>\n",
       "    </tr>\n",
       "  </tbody>\n",
       "</table>\n",
       "</div>"
      ],
      "text/plain": [
       "                                                    Title  \\\n",
       "8704                     The troll garden, (A plume book)   \n",
       "178135                                  Know Peace Within   \n",
       "203200  DICTIONARY OF AMERICAN NAVAL FIGHTING SHIPS IN...   \n",
       "105072  Real Prophecy Unveiled: Why the Christ Will No...   \n",
       "110546  The Burg: An Italian-American Community at Bay...   \n",
       "\n",
       "                                              description  \\\n",
       "8704    This collection of Willa Cather stories& ... h...   \n",
       "178135  Find out what all of the rave is about. See ho...   \n",
       "203200                                                NaN   \n",
       "105072  Religious hypocrites wage \"holy war\" while the...   \n",
       "110546  A sociological and historical account of the d...   \n",
       "\n",
       "                                          authors  \\\n",
       "8704                             ['Willa Cather']   \n",
       "178135                        ['L. David Harris']   \n",
       "203200  ['United States. Naval History Division']   \n",
       "105072                         ['Joseph Adamson']   \n",
       "110546                        ['Peter A. Peroni']   \n",
       "\n",
       "                                                    image  \\\n",
       "8704    http://books.google.com/books/content?id=2YvWA...   \n",
       "178135  http://books.google.com/books/content?id=lt-iT...   \n",
       "203200  http://books.google.com/books/content?id=zk4SA...   \n",
       "105072  http://books.google.com/books/content?id=85Uxw...   \n",
       "110546  http://books.google.com/books/content?id=NphuA...   \n",
       "\n",
       "                                              previewLink  \\\n",
       "8704    http://books.google.nl/books?id=2YvWAAAAMAAJ&q...   \n",
       "178135  http://books.google.com/books?id=lt-iTLae00AC&...   \n",
       "203200  http://books.google.com/books?id=zk4SAAAAYAAJ&...   \n",
       "105072  http://books.google.com/books?id=85Uxwx4nyAsC&...   \n",
       "110546  http://books.google.nl/books?id=NphuAAAAMAAJ&q...   \n",
       "\n",
       "                       publisher publishedDate  \\\n",
       "8704                 Plume Books          1971   \n",
       "178135               Xulon Press    2005-09-01   \n",
       "203200    Department of the Navy          1964   \n",
       "105072                 iUniverse       2002-01   \n",
       "110546  University Press of Amer          1979   \n",
       "\n",
       "                                                 infoLink  \\\n",
       "8704    http://books.google.nl/books?id=2YvWAAAAMAAJ&d...   \n",
       "178135  http://books.google.com/books?id=lt-iTLae00AC&...   \n",
       "203200  https://play.google.com/store/books/details?id...   \n",
       "105072  http://books.google.com/books?id=85Uxwx4nyAsC&...   \n",
       "110546  http://books.google.nl/books?id=NphuAAAAMAAJ&d...   \n",
       "\n",
       "                         categories  ratingsCount  \n",
       "8704    ['Man-woman relationships']           1.0  \n",
       "178135                 ['Religion']           NaN  \n",
       "203200  ['Government publications']           NaN  \n",
       "105072                 ['Religion']           NaN  \n",
       "110546           ['Social Science']           NaN  "
      ]
     },
     "execution_count": 9,
     "metadata": {},
     "output_type": "execute_result"
    }
   ],
   "source": [
    "df_data_raw.sample(5, random_state= 5)"
   ]
  },
  {
   "cell_type": "code",
   "execution_count": 10,
   "metadata": {},
   "outputs": [
    {
     "data": {
      "text/plain": [
       "Id                          0\n",
       "Title                     208\n",
       "Price                 2518829\n",
       "User_id                561787\n",
       "profileName            561905\n",
       "review/helpfulness          0\n",
       "review/score                0\n",
       "review/time                 0\n",
       "review/summary            407\n",
       "review/text                 8\n",
       "dtype: int64"
      ]
     },
     "execution_count": 10,
     "metadata": {},
     "output_type": "execute_result"
    }
   ],
   "source": [
    "#Check for Nan Entries\n",
    "df_rating_raw.isna().sum()"
   ]
  },
  {
   "cell_type": "code",
   "execution_count": 11,
   "metadata": {},
   "outputs": [
    {
     "data": {
      "text/plain": [
       "Title                 1\n",
       "description       68442\n",
       "authors           31413\n",
       "image             52075\n",
       "previewLink       23836\n",
       "publisher         75886\n",
       "publishedDate     25305\n",
       "infoLink          23836\n",
       "categories        41199\n",
       "ratingsCount     162652\n",
       "dtype: int64"
      ]
     },
     "execution_count": 11,
     "metadata": {},
     "output_type": "execute_result"
    }
   ],
   "source": [
    "#Check for Nan Entries\n",
    "df_data_raw.isna().sum()"
   ]
  },
  {
   "cell_type": "markdown",
   "metadata": {},
   "source": [
    "## Processed Dataset Creation and data cleaning\n",
    "\n",
    "Innecesary Columns are removed\n",
    "\n",
    "\n",
    "- **df_rating**: \n",
    "    - **Price**: Almost 84% of the entries are null. \n",
    "    - **profileName**: Unique identifier for each user performing the review. Variable with cardinality excess. \n",
    "    - **User_id**: Unique identifier for each user performing the review. Variable with cardinality excess.\n",
    "    - **Id**: Innecesary column.\n",
    "    - **review/summary**: Unncesary column for current analysis. Many summaries used are the same Book Title.\n",
    "    - **Title Feature Removal**: This feature is unique for each book. And it is extremly correlated with Authors. As the same book Title will always have the same author. So, authors feature is kept and Title is removed. This feature is removed later as it will be used to join both Datasets. \n",
    "    - **review/time**: This is the datetime of the review in UTC format. This column is removed as the goal of the model is to be used to predict newer entries in the future. This variable is kept until Dataset reduction by time scope.\n",
    "- **df_data**:\n",
    "    - **image**: Out of the Scope\n",
    "    - **previewLink**: Out of the Scope\n",
    "    - **infoLink**: Out of the Scope.\n",
    "    - **ratingsCount**: Information from Google API. Not useful for the analysis.\n",
    "    - **description**: Non necesary information for Analysis\n",
    "    - **publishedDate**: Out of the Scope of the current Analysis as newer books will have less oportunity to be reviewed. This variable is kept until Dataset reduction by time scope."
   ]
  },
  {
   "cell_type": "code",
   "execution_count": 12,
   "metadata": {},
   "outputs": [],
   "source": [
    "df_rating_processed = df_rating_raw.drop(['Id','profileName', 'User_id','Price','review/summary'], axis=1).copy()\n",
    "df_data_processed = df_data_raw.drop(['image','previewLink','infoLink','ratingsCount','description'], axis=1).copy()"
   ]
  },
  {
   "cell_type": "code",
   "execution_count": 13,
   "metadata": {},
   "outputs": [
    {
     "name": "stdout",
     "output_type": "stream",
     "text": [
      "<class 'pandas.core.frame.DataFrame'>\n",
      "RangeIndex: 3000000 entries, 0 to 2999999\n",
      "Data columns (total 5 columns):\n",
      " #   Column              Dtype  \n",
      "---  ------              -----  \n",
      " 0   Title               object \n",
      " 1   review/helpfulness  object \n",
      " 2   review/score        float64\n",
      " 3   review/time         int64  \n",
      " 4   review/text         object \n",
      "dtypes: float64(1), int64(1), object(3)\n",
      "memory usage: 114.4+ MB\n"
     ]
    }
   ],
   "source": [
    "df_rating_processed.info()"
   ]
  },
  {
   "cell_type": "code",
   "execution_count": 14,
   "metadata": {},
   "outputs": [
    {
     "name": "stdout",
     "output_type": "stream",
     "text": [
      "<class 'pandas.core.frame.DataFrame'>\n",
      "RangeIndex: 212404 entries, 0 to 212403\n",
      "Data columns (total 5 columns):\n",
      " #   Column         Non-Null Count   Dtype \n",
      "---  ------         --------------   ----- \n",
      " 0   Title          212403 non-null  object\n",
      " 1   authors        180991 non-null  object\n",
      " 2   publisher      136518 non-null  object\n",
      " 3   publishedDate  187099 non-null  object\n",
      " 4   categories     171205 non-null  object\n",
      "dtypes: object(5)\n",
      "memory usage: 8.1+ MB\n"
     ]
    }
   ],
   "source": [
    "df_data_processed.info()"
   ]
  },
  {
   "cell_type": "markdown",
   "metadata": {},
   "source": [
    "Renaming the Columns"
   ]
  },
  {
   "cell_type": "code",
   "execution_count": 15,
   "metadata": {},
   "outputs": [],
   "source": [
    "df_rating_processed = df_rating_processed.rename(columns={'Title':'title',                                                        \n",
    "                                                        'review/helpfulness': 'helpfulness',\n",
    "                                                        'review/score': 'review',\n",
    "                                                        'review/time': 'review_time',\n",
    "                                                        'review/text': 'text'\n",
    "                                                        })\n",
    "df_data_processed = df_data_processed.rename(columns={'Title':'title', \n",
    "                                                        'publishedDate':'published_date'\n",
    "                                                        })"
   ]
  },
  {
   "cell_type": "code",
   "execution_count": 16,
   "metadata": {},
   "outputs": [
    {
     "data": {
      "text/plain": [
       "title          208\n",
       "helpfulness      0\n",
       "review           0\n",
       "review_time      0\n",
       "text             8\n",
       "dtype: int64"
      ]
     },
     "execution_count": 16,
     "metadata": {},
     "output_type": "execute_result"
    }
   ],
   "source": [
    "df_rating_processed.isna().sum()"
   ]
  },
  {
   "cell_type": "code",
   "execution_count": 17,
   "metadata": {},
   "outputs": [
    {
     "data": {
      "text/plain": [
       "title                 1\n",
       "authors           31413\n",
       "publisher         75886\n",
       "published_date    25305\n",
       "categories        41199\n",
       "dtype: int64"
      ]
     },
     "execution_count": 17,
     "metadata": {},
     "output_type": "execute_result"
    }
   ],
   "source": [
    "df_data_processed.isna().sum()"
   ]
  },
  {
   "cell_type": "markdown",
   "metadata": {},
   "source": [
    "As both datasets are going to be merged by Title, Rows with Null Title are removed.\n",
    "\n",
    "Drop rows from df_data_processed where everything except title is null"
   ]
  },
  {
   "cell_type": "code",
   "execution_count": 18,
   "metadata": {},
   "outputs": [],
   "source": [
    "df_rating_processed = df_rating_processed.dropna(subset=['text'], how='any')\n",
    "\n",
    "df_data_processed = df_data_processed.dropna(subset=['title'])\n",
    "\n",
    "df_data_processed = df_data_processed.dropna(subset=['authors', 'publisher', 'published_date', 'categories'], how='all')"
   ]
  },
  {
   "cell_type": "code",
   "execution_count": 19,
   "metadata": {},
   "outputs": [
    {
     "data": {
      "text/html": [
       "<div>\n",
       "<style scoped>\n",
       "    .dataframe tbody tr th:only-of-type {\n",
       "        vertical-align: middle;\n",
       "    }\n",
       "\n",
       "    .dataframe tbody tr th {\n",
       "        vertical-align: top;\n",
       "    }\n",
       "\n",
       "    .dataframe thead th {\n",
       "        text-align: right;\n",
       "    }\n",
       "</style>\n",
       "<table border=\"1\" class=\"dataframe\">\n",
       "  <thead>\n",
       "    <tr style=\"text-align: right;\">\n",
       "      <th></th>\n",
       "      <th>title</th>\n",
       "      <th>authors</th>\n",
       "      <th>publisher</th>\n",
       "      <th>published_date</th>\n",
       "      <th>categories</th>\n",
       "    </tr>\n",
       "  </thead>\n",
       "  <tbody>\n",
       "    <tr>\n",
       "      <th>5333</th>\n",
       "      <td>What Mrs. McGillicuddy Saw</td>\n",
       "      <td>['Agatha Christie']</td>\n",
       "      <td>G.P. Putnam's Sons</td>\n",
       "      <td>1987</td>\n",
       "      <td>['Fiction']</td>\n",
       "    </tr>\n",
       "    <tr>\n",
       "      <th>151095</th>\n",
       "      <td>Research Method in the Postmodern (Educational...</td>\n",
       "      <td>['James Scheurich']</td>\n",
       "      <td>Routledge</td>\n",
       "      <td>2014-01-02</td>\n",
       "      <td>['Education']</td>\n",
       "    </tr>\n",
       "    <tr>\n",
       "      <th>132579</th>\n",
       "      <td>Integer and Combinatorial Optimization (Wiley ...</td>\n",
       "      <td>['Laurence A. Wolsey', 'George L. Nemhauser']</td>\n",
       "      <td>John Wiley &amp; Sons</td>\n",
       "      <td>1999-07-08</td>\n",
       "      <td>['Mathematics']</td>\n",
       "    </tr>\n",
       "    <tr>\n",
       "      <th>90645</th>\n",
       "      <td>President's Lady: A Novel about Rachel and And...</td>\n",
       "      <td>['Irving Stone']</td>\n",
       "      <td>Thomas Nelson Inc</td>\n",
       "      <td>1996-08-30</td>\n",
       "      <td>['Fiction']</td>\n",
       "    </tr>\n",
       "    <tr>\n",
       "      <th>100653</th>\n",
       "      <td>Flying Colors (Hornblower Saga, Number 7)</td>\n",
       "      <td>['C. S. Forester']</td>\n",
       "      <td>Pinnacle Books</td>\n",
       "      <td>1981-02-01</td>\n",
       "      <td>['Fiction']</td>\n",
       "    </tr>\n",
       "  </tbody>\n",
       "</table>\n",
       "</div>"
      ],
      "text/plain": [
       "                                                    title  \\\n",
       "5333                           What Mrs. McGillicuddy Saw   \n",
       "151095  Research Method in the Postmodern (Educational...   \n",
       "132579  Integer and Combinatorial Optimization (Wiley ...   \n",
       "90645   President's Lady: A Novel about Rachel and And...   \n",
       "100653          Flying Colors (Hornblower Saga, Number 7)   \n",
       "\n",
       "                                              authors           publisher  \\\n",
       "5333                              ['Agatha Christie']  G.P. Putnam's Sons   \n",
       "151095                            ['James Scheurich']           Routledge   \n",
       "132579  ['Laurence A. Wolsey', 'George L. Nemhauser']   John Wiley & Sons   \n",
       "90645                                ['Irving Stone']   Thomas Nelson Inc   \n",
       "100653                             ['C. S. Forester']      Pinnacle Books   \n",
       "\n",
       "       published_date       categories  \n",
       "5333             1987      ['Fiction']  \n",
       "151095     2014-01-02    ['Education']  \n",
       "132579     1999-07-08  ['Mathematics']  \n",
       "90645      1996-08-30      ['Fiction']  \n",
       "100653     1981-02-01      ['Fiction']  "
      ]
     },
     "execution_count": 19,
     "metadata": {},
     "output_type": "execute_result"
    }
   ],
   "source": [
    "df_data_processed.sample(5, random_state= 5)"
   ]
  },
  {
   "cell_type": "markdown",
   "metadata": {},
   "source": [
    "### Published Year Preprocesing \n",
    "Convert published date to year\n",
    "- Found 143 published_date entries with the format YYYY*: The character * is removed.\n",
    "- Found 76 published_date entries with the format YYY?: Last digit of the year is got from the rounded mean value from 0 to 9, 5 is used \n",
    "- Found 52 published_date entries with the format YY??: Mean of the published year from the entire data set is calculated"
   ]
  },
  {
   "cell_type": "code",
   "execution_count": 20,
   "metadata": {},
   "outputs": [],
   "source": [
    "# Found 143 published_date entries with the format YYYY*\n",
    "# Found 76 published_date entries with the format YYY?\n",
    "# Found 52 published_date entries with the format YY??\n",
    "\n",
    "def convert_to_year(date_in):    \n",
    "    try:    \n",
    "        patern_1 = r'\\d\\d\\d\\?'\n",
    "        patern_2 = r'\\d\\d\\?\\?'\n",
    "\n",
    "        #Some dates only contain the Year with the format YYYY*. For those cases, the symbol * is removed.\n",
    "        date = date_in.replace('*', '')\n",
    "\n",
    "        #Other cases contains an ? symbol instead of a number on the Year. YYY? or YY??\n",
    "        #For this specific case, the rounded mean from 0 to 9 is used: 5\n",
    "        if re.match(patern_1, date):\n",
    "            date = date.replace('?', '5')\n",
    "\n",
    "        if re.match(patern_2, date):\n",
    "            return None\n",
    "\n",
    "        date = parse(date)\n",
    "        \n",
    "        return date.strftime(\"%Y\")\n",
    "    except:        \n",
    "        return None"
   ]
  },
  {
   "cell_type": "code",
   "execution_count": 21,
   "metadata": {},
   "outputs": [],
   "source": [
    "df_data_processed['published_year'] = df_data_processed['published_date'].apply(lambda x: convert_to_year(x) if pd.notna(x) else x)\n",
    "\n",
    "df_data_processed['published_year'] = df_data_processed['published_year'].fillna('0')\n",
    "\n",
    "df_data_processed['published_year'] = df_data_processed['published_year'].astype('int32')\n",
    "\n",
    "#Drop published_date column \n",
    "df_data_processed = df_data_processed.drop(['published_date'], axis=1)"
   ]
  },
  {
   "cell_type": "code",
   "execution_count": 22,
   "metadata": {},
   "outputs": [
    {
     "data": {
      "text/plain": [
       "1981"
      ]
     },
     "execution_count": 22,
     "metadata": {},
     "output_type": "execute_result"
    }
   ],
   "source": [
    "mean_published_year = int(df_data_processed['published_year'].mean())\n",
    "mean_published_year"
   ]
  },
  {
   "cell_type": "code",
   "execution_count": 23,
   "metadata": {},
   "outputs": [
    {
     "data": {
      "text/html": [
       "<div>\n",
       "<style scoped>\n",
       "    .dataframe tbody tr th:only-of-type {\n",
       "        vertical-align: middle;\n",
       "    }\n",
       "\n",
       "    .dataframe tbody tr th {\n",
       "        vertical-align: top;\n",
       "    }\n",
       "\n",
       "    .dataframe thead th {\n",
       "        text-align: right;\n",
       "    }\n",
       "</style>\n",
       "<table border=\"1\" class=\"dataframe\">\n",
       "  <thead>\n",
       "    <tr style=\"text-align: right;\">\n",
       "      <th></th>\n",
       "      <th>title</th>\n",
       "      <th>authors</th>\n",
       "      <th>publisher</th>\n",
       "      <th>categories</th>\n",
       "      <th>published_year</th>\n",
       "    </tr>\n",
       "  </thead>\n",
       "  <tbody>\n",
       "    <tr>\n",
       "      <th>5333</th>\n",
       "      <td>What Mrs. McGillicuddy Saw</td>\n",
       "      <td>['Agatha Christie']</td>\n",
       "      <td>G.P. Putnam's Sons</td>\n",
       "      <td>['Fiction']</td>\n",
       "      <td>1987</td>\n",
       "    </tr>\n",
       "    <tr>\n",
       "      <th>151095</th>\n",
       "      <td>Research Method in the Postmodern (Educational...</td>\n",
       "      <td>['James Scheurich']</td>\n",
       "      <td>Routledge</td>\n",
       "      <td>['Education']</td>\n",
       "      <td>2014</td>\n",
       "    </tr>\n",
       "    <tr>\n",
       "      <th>132579</th>\n",
       "      <td>Integer and Combinatorial Optimization (Wiley ...</td>\n",
       "      <td>['Laurence A. Wolsey', 'George L. Nemhauser']</td>\n",
       "      <td>John Wiley &amp; Sons</td>\n",
       "      <td>['Mathematics']</td>\n",
       "      <td>1999</td>\n",
       "    </tr>\n",
       "    <tr>\n",
       "      <th>90645</th>\n",
       "      <td>President's Lady: A Novel about Rachel and And...</td>\n",
       "      <td>['Irving Stone']</td>\n",
       "      <td>Thomas Nelson Inc</td>\n",
       "      <td>['Fiction']</td>\n",
       "      <td>1996</td>\n",
       "    </tr>\n",
       "    <tr>\n",
       "      <th>100653</th>\n",
       "      <td>Flying Colors (Hornblower Saga, Number 7)</td>\n",
       "      <td>['C. S. Forester']</td>\n",
       "      <td>Pinnacle Books</td>\n",
       "      <td>['Fiction']</td>\n",
       "      <td>1981</td>\n",
       "    </tr>\n",
       "  </tbody>\n",
       "</table>\n",
       "</div>"
      ],
      "text/plain": [
       "                                                    title  \\\n",
       "5333                           What Mrs. McGillicuddy Saw   \n",
       "151095  Research Method in the Postmodern (Educational...   \n",
       "132579  Integer and Combinatorial Optimization (Wiley ...   \n",
       "90645   President's Lady: A Novel about Rachel and And...   \n",
       "100653          Flying Colors (Hornblower Saga, Number 7)   \n",
       "\n",
       "                                              authors           publisher  \\\n",
       "5333                              ['Agatha Christie']  G.P. Putnam's Sons   \n",
       "151095                            ['James Scheurich']           Routledge   \n",
       "132579  ['Laurence A. Wolsey', 'George L. Nemhauser']   John Wiley & Sons   \n",
       "90645                                ['Irving Stone']   Thomas Nelson Inc   \n",
       "100653                             ['C. S. Forester']      Pinnacle Books   \n",
       "\n",
       "             categories  published_year  \n",
       "5333        ['Fiction']            1987  \n",
       "151095    ['Education']            2014  \n",
       "132579  ['Mathematics']            1999  \n",
       "90645       ['Fiction']            1996  \n",
       "100653      ['Fiction']            1981  "
      ]
     },
     "execution_count": 23,
     "metadata": {},
     "output_type": "execute_result"
    }
   ],
   "source": [
    "df_data_processed['published_year'] = df_data_processed['published_year'].apply(lambda x: mean_published_year if x==0 else x)\n",
    "df_data_processed.sample(5, random_state= 5)"
   ]
  },
  {
   "cell_type": "markdown",
   "metadata": {},
   "source": [
    "### Convert Authors and Categories Lists to Python Lists"
   ]
  },
  {
   "cell_type": "code",
   "execution_count": 24,
   "metadata": {},
   "outputs": [],
   "source": [
    "def custom_string_to_list(str_list):\n",
    "    if isinstance(str_list, str):\n",
    "        return [item.strip(\" '[]\") for item in str_list.split(',')]\n",
    "    else:\n",
    "        return str_list"
   ]
  },
  {
   "cell_type": "code",
   "execution_count": 25,
   "metadata": {},
   "outputs": [],
   "source": [
    "df_data_processed['authors'] = df_data_processed['authors'].apply(custom_string_to_list)\n",
    "df_data_processed['categories'] = df_data_processed['categories'].apply(custom_string_to_list)"
   ]
  },
  {
   "cell_type": "code",
   "execution_count": 26,
   "metadata": {},
   "outputs": [
    {
     "data": {
      "text/html": [
       "<div>\n",
       "<style scoped>\n",
       "    .dataframe tbody tr th:only-of-type {\n",
       "        vertical-align: middle;\n",
       "    }\n",
       "\n",
       "    .dataframe tbody tr th {\n",
       "        vertical-align: top;\n",
       "    }\n",
       "\n",
       "    .dataframe thead th {\n",
       "        text-align: right;\n",
       "    }\n",
       "</style>\n",
       "<table border=\"1\" class=\"dataframe\">\n",
       "  <thead>\n",
       "    <tr style=\"text-align: right;\">\n",
       "      <th></th>\n",
       "      <th>title</th>\n",
       "      <th>authors</th>\n",
       "      <th>publisher</th>\n",
       "      <th>categories</th>\n",
       "      <th>published_year</th>\n",
       "    </tr>\n",
       "  </thead>\n",
       "  <tbody>\n",
       "    <tr>\n",
       "      <th>5333</th>\n",
       "      <td>What Mrs. McGillicuddy Saw</td>\n",
       "      <td>[Agatha Christie]</td>\n",
       "      <td>G.P. Putnam's Sons</td>\n",
       "      <td>[Fiction]</td>\n",
       "      <td>1987</td>\n",
       "    </tr>\n",
       "    <tr>\n",
       "      <th>151095</th>\n",
       "      <td>Research Method in the Postmodern (Educational...</td>\n",
       "      <td>[James Scheurich]</td>\n",
       "      <td>Routledge</td>\n",
       "      <td>[Education]</td>\n",
       "      <td>2014</td>\n",
       "    </tr>\n",
       "    <tr>\n",
       "      <th>132579</th>\n",
       "      <td>Integer and Combinatorial Optimization (Wiley ...</td>\n",
       "      <td>[Laurence A. Wolsey, George L. Nemhauser]</td>\n",
       "      <td>John Wiley &amp; Sons</td>\n",
       "      <td>[Mathematics]</td>\n",
       "      <td>1999</td>\n",
       "    </tr>\n",
       "    <tr>\n",
       "      <th>90645</th>\n",
       "      <td>President's Lady: A Novel about Rachel and And...</td>\n",
       "      <td>[Irving Stone]</td>\n",
       "      <td>Thomas Nelson Inc</td>\n",
       "      <td>[Fiction]</td>\n",
       "      <td>1996</td>\n",
       "    </tr>\n",
       "    <tr>\n",
       "      <th>100653</th>\n",
       "      <td>Flying Colors (Hornblower Saga, Number 7)</td>\n",
       "      <td>[C. S. Forester]</td>\n",
       "      <td>Pinnacle Books</td>\n",
       "      <td>[Fiction]</td>\n",
       "      <td>1981</td>\n",
       "    </tr>\n",
       "  </tbody>\n",
       "</table>\n",
       "</div>"
      ],
      "text/plain": [
       "                                                    title  \\\n",
       "5333                           What Mrs. McGillicuddy Saw   \n",
       "151095  Research Method in the Postmodern (Educational...   \n",
       "132579  Integer and Combinatorial Optimization (Wiley ...   \n",
       "90645   President's Lady: A Novel about Rachel and And...   \n",
       "100653          Flying Colors (Hornblower Saga, Number 7)   \n",
       "\n",
       "                                          authors           publisher  \\\n",
       "5333                            [Agatha Christie]  G.P. Putnam's Sons   \n",
       "151095                          [James Scheurich]           Routledge   \n",
       "132579  [Laurence A. Wolsey, George L. Nemhauser]   John Wiley & Sons   \n",
       "90645                              [Irving Stone]   Thomas Nelson Inc   \n",
       "100653                           [C. S. Forester]      Pinnacle Books   \n",
       "\n",
       "           categories  published_year  \n",
       "5333        [Fiction]            1987  \n",
       "151095    [Education]            2014  \n",
       "132579  [Mathematics]            1999  \n",
       "90645       [Fiction]            1996  \n",
       "100653      [Fiction]            1981  "
      ]
     },
     "execution_count": 26,
     "metadata": {},
     "output_type": "execute_result"
    }
   ],
   "source": [
    "df_data_processed.sample(5, random_state=5)"
   ]
  },
  {
   "cell_type": "code",
   "execution_count": 27,
   "metadata": {},
   "outputs": [
    {
     "data": {
      "text/html": [
       "<div>\n",
       "<style scoped>\n",
       "    .dataframe tbody tr th:only-of-type {\n",
       "        vertical-align: middle;\n",
       "    }\n",
       "\n",
       "    .dataframe tbody tr th {\n",
       "        vertical-align: top;\n",
       "    }\n",
       "\n",
       "    .dataframe thead th {\n",
       "        text-align: right;\n",
       "    }\n",
       "</style>\n",
       "<table border=\"1\" class=\"dataframe\">\n",
       "  <thead>\n",
       "    <tr style=\"text-align: right;\">\n",
       "      <th></th>\n",
       "      <th>title</th>\n",
       "      <th>helpfulness</th>\n",
       "      <th>review</th>\n",
       "      <th>review_time</th>\n",
       "      <th>text</th>\n",
       "    </tr>\n",
       "  </thead>\n",
       "  <tbody>\n",
       "    <tr>\n",
       "      <th>198489</th>\n",
       "      <td>MORNING AND EVENING BASED ON THE NEW INTERNATI...</td>\n",
       "      <td>56/57</td>\n",
       "      <td>5.0</td>\n",
       "      <td>1043625600</td>\n",
       "      <td>Charles Spurgeon is one of those brilliant Chr...</td>\n",
       "    </tr>\n",
       "    <tr>\n",
       "      <th>230571</th>\n",
       "      <td>The Book of the Dead</td>\n",
       "      <td>2/6</td>\n",
       "      <td>3.0</td>\n",
       "      <td>1149292800</td>\n",
       "      <td>It's still a Preston/Child book, and I love Pe...</td>\n",
       "    </tr>\n",
       "    <tr>\n",
       "      <th>2429051</th>\n",
       "      <td>Devlin's Honor (Sword of Change, Book 2)</td>\n",
       "      <td>4/6</td>\n",
       "      <td>1.0</td>\n",
       "      <td>1067299200</td>\n",
       "      <td>Slooooooow reading. Lingers on and on. Extreme...</td>\n",
       "    </tr>\n",
       "    <tr>\n",
       "      <th>1828352</th>\n",
       "      <td>Atrazine in Kansas</td>\n",
       "      <td>24/25</td>\n",
       "      <td>5.0</td>\n",
       "      <td>1030320000</td>\n",
       "      <td>If you are like I was before I read this book ...</td>\n",
       "    </tr>\n",
       "    <tr>\n",
       "      <th>1787237</th>\n",
       "      <td>Typhoon</td>\n",
       "      <td>2/2</td>\n",
       "      <td>4.0</td>\n",
       "      <td>1096675200</td>\n",
       "      <td>i read the book in 2 days. it was so good i co...</td>\n",
       "    </tr>\n",
       "  </tbody>\n",
       "</table>\n",
       "</div>"
      ],
      "text/plain": [
       "                                                     title helpfulness  \\\n",
       "198489   MORNING AND EVENING BASED ON THE NEW INTERNATI...       56/57   \n",
       "230571                                The Book of the Dead         2/6   \n",
       "2429051           Devlin's Honor (Sword of Change, Book 2)         4/6   \n",
       "1828352                                 Atrazine in Kansas       24/25   \n",
       "1787237                                            Typhoon         2/2   \n",
       "\n",
       "         review  review_time  \\\n",
       "198489      5.0   1043625600   \n",
       "230571      3.0   1149292800   \n",
       "2429051     1.0   1067299200   \n",
       "1828352     5.0   1030320000   \n",
       "1787237     4.0   1096675200   \n",
       "\n",
       "                                                      text  \n",
       "198489   Charles Spurgeon is one of those brilliant Chr...  \n",
       "230571   It's still a Preston/Child book, and I love Pe...  \n",
       "2429051  Slooooooow reading. Lingers on and on. Extreme...  \n",
       "1828352  If you are like I was before I read this book ...  \n",
       "1787237  i read the book in 2 days. it was so good i co...  "
      ]
     },
     "execution_count": 27,
     "metadata": {},
     "output_type": "execute_result"
    }
   ],
   "source": [
    "df_rating_processed.sample(5, random_state=5)"
   ]
  },
  {
   "cell_type": "markdown",
   "metadata": {},
   "source": [
    "### Review time is converted to Datetime and then the year of the review is extracted"
   ]
  },
  {
   "cell_type": "code",
   "execution_count": 28,
   "metadata": {},
   "outputs": [],
   "source": [
    "df_rating_processed['review_year'] = df_rating_processed['review_time'].apply(lambda x: datetime.utcfromtimestamp(x).year)\n",
    "\n",
    "df_rating_processed = df_rating_processed.drop(['review_time'], axis=1)"
   ]
  },
  {
   "cell_type": "markdown",
   "metadata": {},
   "source": [
    "### Helpfulness is converted to a percentaje\n",
    "\n",
    "Helpfulness feature represents the proportion of the reactions from other users to the review that found helpful the review.\n",
    "\n",
    "$$ helpfulness = \\frac{review found helpful reaction}{review found helpful + review not found reactions}$$\n",
    "\n",
    "It is converted to a porcentual value."
   ]
  },
  {
   "cell_type": "code",
   "execution_count": 29,
   "metadata": {},
   "outputs": [],
   "source": [
    "def get_helpfulness_as_porcentual_value_0(x):\n",
    "    if  x == '0/0':\n",
    "        return 0\n",
    "    elif x.split('/')[0] == '0':\n",
    "        return 0\n",
    "    else:\n",
    "        dividend = int(x.split('/')[0])\n",
    "        divisor = int(x.split('/')[1])\n",
    "        return dividend/divisor\n",
    "    \n",
    "def get_helpfulness_as_porcentual_value_1(x):\n",
    "    if  x == '0/0':\n",
    "        return 1\n",
    "    elif x.split('/')[0] == '0':\n",
    "        return 0\n",
    "    else:\n",
    "        dividend = int(x.split('/')[0])\n",
    "        divisor = int(x.split('/')[1])\n",
    "        return dividend/divisor"
   ]
  },
  {
   "cell_type": "code",
   "execution_count": 30,
   "metadata": {},
   "outputs": [],
   "source": [
    "df_rating_processed['helpfulness_0'] = df_rating_processed['helpfulness'].apply(lambda x: get_helpfulness_as_porcentual_value_0(x))\n",
    "df_rating_processed['helpfulness_1'] = df_rating_processed['helpfulness'].apply(lambda x: get_helpfulness_as_porcentual_value_1(x))\n",
    "df_rating_processed = df_rating_processed.drop(['helpfulness'], axis=1)"
   ]
  },
  {
   "cell_type": "code",
   "execution_count": 31,
   "metadata": {},
   "outputs": [
    {
     "data": {
      "text/html": [
       "<div>\n",
       "<style scoped>\n",
       "    .dataframe tbody tr th:only-of-type {\n",
       "        vertical-align: middle;\n",
       "    }\n",
       "\n",
       "    .dataframe tbody tr th {\n",
       "        vertical-align: top;\n",
       "    }\n",
       "\n",
       "    .dataframe thead th {\n",
       "        text-align: right;\n",
       "    }\n",
       "</style>\n",
       "<table border=\"1\" class=\"dataframe\">\n",
       "  <thead>\n",
       "    <tr style=\"text-align: right;\">\n",
       "      <th></th>\n",
       "      <th>title</th>\n",
       "      <th>review</th>\n",
       "      <th>text</th>\n",
       "      <th>review_year</th>\n",
       "      <th>helpfulness_0</th>\n",
       "      <th>helpfulness_1</th>\n",
       "    </tr>\n",
       "  </thead>\n",
       "  <tbody>\n",
       "    <tr>\n",
       "      <th>198489</th>\n",
       "      <td>MORNING AND EVENING BASED ON THE NEW INTERNATI...</td>\n",
       "      <td>5.0</td>\n",
       "      <td>Charles Spurgeon is one of those brilliant Chr...</td>\n",
       "      <td>2003</td>\n",
       "      <td>0.982456</td>\n",
       "      <td>0.982456</td>\n",
       "    </tr>\n",
       "    <tr>\n",
       "      <th>230571</th>\n",
       "      <td>The Book of the Dead</td>\n",
       "      <td>3.0</td>\n",
       "      <td>It's still a Preston/Child book, and I love Pe...</td>\n",
       "      <td>2006</td>\n",
       "      <td>0.333333</td>\n",
       "      <td>0.333333</td>\n",
       "    </tr>\n",
       "    <tr>\n",
       "      <th>2429051</th>\n",
       "      <td>Devlin's Honor (Sword of Change, Book 2)</td>\n",
       "      <td>1.0</td>\n",
       "      <td>Slooooooow reading. Lingers on and on. Extreme...</td>\n",
       "      <td>2003</td>\n",
       "      <td>0.666667</td>\n",
       "      <td>0.666667</td>\n",
       "    </tr>\n",
       "    <tr>\n",
       "      <th>1828352</th>\n",
       "      <td>Atrazine in Kansas</td>\n",
       "      <td>5.0</td>\n",
       "      <td>If you are like I was before I read this book ...</td>\n",
       "      <td>2002</td>\n",
       "      <td>0.960000</td>\n",
       "      <td>0.960000</td>\n",
       "    </tr>\n",
       "    <tr>\n",
       "      <th>1787237</th>\n",
       "      <td>Typhoon</td>\n",
       "      <td>4.0</td>\n",
       "      <td>i read the book in 2 days. it was so good i co...</td>\n",
       "      <td>2004</td>\n",
       "      <td>1.000000</td>\n",
       "      <td>1.000000</td>\n",
       "    </tr>\n",
       "  </tbody>\n",
       "</table>\n",
       "</div>"
      ],
      "text/plain": [
       "                                                     title  review  \\\n",
       "198489   MORNING AND EVENING BASED ON THE NEW INTERNATI...     5.0   \n",
       "230571                                The Book of the Dead     3.0   \n",
       "2429051           Devlin's Honor (Sword of Change, Book 2)     1.0   \n",
       "1828352                                 Atrazine in Kansas     5.0   \n",
       "1787237                                            Typhoon     4.0   \n",
       "\n",
       "                                                      text  review_year  \\\n",
       "198489   Charles Spurgeon is one of those brilliant Chr...         2003   \n",
       "230571   It's still a Preston/Child book, and I love Pe...         2006   \n",
       "2429051  Slooooooow reading. Lingers on and on. Extreme...         2003   \n",
       "1828352  If you are like I was before I read this book ...         2002   \n",
       "1787237  i read the book in 2 days. it was so good i co...         2004   \n",
       "\n",
       "         helpfulness_0  helpfulness_1  \n",
       "198489        0.982456       0.982456  \n",
       "230571        0.333333       0.333333  \n",
       "2429051       0.666667       0.666667  \n",
       "1828352       0.960000       0.960000  \n",
       "1787237       1.000000       1.000000  "
      ]
     },
     "execution_count": 31,
     "metadata": {},
     "output_type": "execute_result"
    }
   ],
   "source": [
    "df_rating_processed.sample(5, random_state=5)"
   ]
  },
  {
   "cell_type": "markdown",
   "metadata": {},
   "source": [
    "### Both Datasets are Merged\n",
    "Both Datasets are Merged by the Title and Title feature is removed"
   ]
  },
  {
   "cell_type": "code",
   "execution_count": 32,
   "metadata": {},
   "outputs": [
    {
     "name": "stdout",
     "output_type": "stream",
     "text": [
      "<class 'pandas.core.frame.DataFrame'>\n",
      "RangeIndex: 2666314 entries, 0 to 2666313\n",
      "Data columns (total 10 columns):\n",
      " #   Column          Dtype  \n",
      "---  ------          -----  \n",
      " 0   title           object \n",
      " 1   review          float64\n",
      " 2   text            object \n",
      " 3   review_year     int64  \n",
      " 4   helpfulness_0   float64\n",
      " 5   helpfulness_1   float64\n",
      " 6   authors         object \n",
      " 7   publisher       object \n",
      " 8   categories      object \n",
      " 9   published_year  int64  \n",
      "dtypes: float64(3), int64(2), object(5)\n",
      "memory usage: 203.4+ MB\n"
     ]
    }
   ],
   "source": [
    "df_processed = pd.merge(df_rating_processed, df_data_processed, on='title', how='inner')\n",
    "df_processed.info()"
   ]
  },
  {
   "cell_type": "code",
   "execution_count": 33,
   "metadata": {},
   "outputs": [
    {
     "data": {
      "text/html": [
       "<div>\n",
       "<style scoped>\n",
       "    .dataframe tbody tr th:only-of-type {\n",
       "        vertical-align: middle;\n",
       "    }\n",
       "\n",
       "    .dataframe tbody tr th {\n",
       "        vertical-align: top;\n",
       "    }\n",
       "\n",
       "    .dataframe thead th {\n",
       "        text-align: right;\n",
       "    }\n",
       "</style>\n",
       "<table border=\"1\" class=\"dataframe\">\n",
       "  <thead>\n",
       "    <tr style=\"text-align: right;\">\n",
       "      <th></th>\n",
       "      <th>review</th>\n",
       "      <th>text</th>\n",
       "      <th>review_year</th>\n",
       "      <th>helpfulness_0</th>\n",
       "      <th>helpfulness_1</th>\n",
       "      <th>authors</th>\n",
       "      <th>publisher</th>\n",
       "      <th>categories</th>\n",
       "      <th>published_year</th>\n",
       "    </tr>\n",
       "  </thead>\n",
       "  <tbody>\n",
       "    <tr>\n",
       "      <th>1261792</th>\n",
       "      <td>3.0</td>\n",
       "      <td>The very first review sums this book up really...</td>\n",
       "      <td>1999</td>\n",
       "      <td>0.00</td>\n",
       "      <td>1.00</td>\n",
       "      <td>[Thomas Harris]</td>\n",
       "      <td>Delta</td>\n",
       "      <td>[Fiction]</td>\n",
       "      <td>2012</td>\n",
       "    </tr>\n",
       "    <tr>\n",
       "      <th>2649948</th>\n",
       "      <td>4.0</td>\n",
       "      <td>In general, I enjoyed reading this book. Dr. F...</td>\n",
       "      <td>2005</td>\n",
       "      <td>0.75</td>\n",
       "      <td>0.75</td>\n",
       "      <td>[Sinclair B. Ferguson]</td>\n",
       "      <td>IVP Academic</td>\n",
       "      <td>[Religion]</td>\n",
       "      <td>1997</td>\n",
       "    </tr>\n",
       "    <tr>\n",
       "      <th>2289898</th>\n",
       "      <td>5.0</td>\n",
       "      <td>I bought this book for one of my daughter's sc...</td>\n",
       "      <td>2011</td>\n",
       "      <td>0.00</td>\n",
       "      <td>0.00</td>\n",
       "      <td>[John Steinbeck]</td>\n",
       "      <td>Lulu.com</td>\n",
       "      <td>[California]</td>\n",
       "      <td>1937</td>\n",
       "    </tr>\n",
       "    <tr>\n",
       "      <th>1339798</th>\n",
       "      <td>5.0</td>\n",
       "      <td>I got the The Art of The Lord of the Rings, be...</td>\n",
       "      <td>2004</td>\n",
       "      <td>1.00</td>\n",
       "      <td>1.00</td>\n",
       "      <td>[Gary Russell]</td>\n",
       "      <td>Houghton Mifflin Harcourt</td>\n",
       "      <td>[Performing Arts]</td>\n",
       "      <td>2002</td>\n",
       "    </tr>\n",
       "    <tr>\n",
       "      <th>226192</th>\n",
       "      <td>4.0</td>\n",
       "      <td>One of the first views of dystopian society, i...</td>\n",
       "      <td>2007</td>\n",
       "      <td>0.00</td>\n",
       "      <td>0.00</td>\n",
       "      <td>[Aldous Huxley]</td>\n",
       "      <td>Random House</td>\n",
       "      <td>[Fiction]</td>\n",
       "      <td>2008</td>\n",
       "    </tr>\n",
       "  </tbody>\n",
       "</table>\n",
       "</div>"
      ],
      "text/plain": [
       "         review                                               text  \\\n",
       "1261792     3.0  The very first review sums this book up really...   \n",
       "2649948     4.0  In general, I enjoyed reading this book. Dr. F...   \n",
       "2289898     5.0  I bought this book for one of my daughter's sc...   \n",
       "1339798     5.0  I got the The Art of The Lord of the Rings, be...   \n",
       "226192      4.0  One of the first views of dystopian society, i...   \n",
       "\n",
       "         review_year  helpfulness_0  helpfulness_1                 authors  \\\n",
       "1261792         1999           0.00           1.00         [Thomas Harris]   \n",
       "2649948         2005           0.75           0.75  [Sinclair B. Ferguson]   \n",
       "2289898         2011           0.00           0.00        [John Steinbeck]   \n",
       "1339798         2004           1.00           1.00          [Gary Russell]   \n",
       "226192          2007           0.00           0.00         [Aldous Huxley]   \n",
       "\n",
       "                         publisher         categories  published_year  \n",
       "1261792                      Delta          [Fiction]            2012  \n",
       "2649948               IVP Academic         [Religion]            1997  \n",
       "2289898                   Lulu.com       [California]            1937  \n",
       "1339798  Houghton Mifflin Harcourt  [Performing Arts]            2002  \n",
       "226192                Random House          [Fiction]            2008  "
      ]
     },
     "execution_count": 33,
     "metadata": {},
     "output_type": "execute_result"
    }
   ],
   "source": [
    "df_processed = df_processed.drop(['title'], axis=1)\n",
    "df_processed.sample(5)"
   ]
  },
  {
   "cell_type": "markdown",
   "metadata": {},
   "source": [
    "## Dataset Filtering and Sampling\n",
    "\n",
    "The hypotesis of the current analysis is predicting the review score of the review, based on the review and book information contained on this dataset.\n",
    "\n",
    "\n",
    "- Microsoft Internet Explorer was first release on 1995\n",
    "- Google was released on August 1996\n",
    "- Yahoo! was resleased on 1994\n",
    "\n",
    "Web Browsers History\n",
    "- Safari was first released on 2003\n",
    "- Firefox was first released on 2004\n",
    "- Opera Browser was first release on 2005\n",
    "- Google Chrome was first released on 2008\n",
    "- Microsoft Edge was first released on 2015\n",
    "\n",
    "Review Year: Based on the tools (web browsers, access to internet, culture, digitalization) available during the last decade of the reviews on the Dataset, the scope of the analysis is reduced to reviews performed from 2003 and until 2013 to evaluate the reviews on an equivalent base."
   ]
  },
  {
   "cell_type": "code",
   "execution_count": 34,
   "metadata": {},
   "outputs": [
    {
     "data": {
      "text/plain": [
       "count    2.666314e+06\n",
       "mean     2.005394e+03\n",
       "std      4.747336e+00\n",
       "min      1.969000e+03\n",
       "25%      2.001000e+03\n",
       "50%      2.005000e+03\n",
       "75%      2.010000e+03\n",
       "max      2.013000e+03\n",
       "Name: review_year, dtype: float64"
      ]
     },
     "execution_count": 34,
     "metadata": {},
     "output_type": "execute_result"
    }
   ],
   "source": [
    "df_processed['review_year'].describe().T"
   ]
  },
  {
   "cell_type": "code",
   "execution_count": 35,
   "metadata": {},
   "outputs": [
    {
     "data": {
      "image/png": "[encoded data removed]",
      "text/plain": [
       "<Figure size 640x480 with 1 Axes>"
      ]
     },
     "metadata": {},
     "output_type": "display_data"
    }
   ],
   "source": [
    "df_processed['review_year'].hist(bins=30)\n",
    "plt.show()"
   ]
  },
  {
   "cell_type": "code",
   "execution_count": 36,
   "metadata": {},
   "outputs": [
    {
     "name": "stdout",
     "output_type": "stream",
     "text": [
      "<class 'pandas.core.frame.DataFrame'>\n",
      "RangeIndex: 1782972 entries, 0 to 1782971\n",
      "Data columns (total 9 columns):\n",
      " #   Column          Dtype  \n",
      "---  ------          -----  \n",
      " 0   review          float64\n",
      " 1   text            object \n",
      " 2   review_year     int64  \n",
      " 3   helpfulness_0   float64\n",
      " 4   helpfulness_1   float64\n",
      " 5   authors         object \n",
      " 6   publisher       object \n",
      " 7   categories      object \n",
      " 8   published_year  int64  \n",
      "dtypes: float64(3), int64(2), object(4)\n",
      "memory usage: 122.4+ MB\n"
     ]
    }
   ],
   "source": [
    "df_processed = df_processed[df_processed['review_year']>=2003]\n",
    "df_processed.reset_index(drop=True, inplace=True)\n",
    "df_processed.info()"
   ]
  },
  {
   "cell_type": "code",
   "execution_count": 37,
   "metadata": {},
   "outputs": [
    {
     "data": {
      "image/png": "[encoded data removed]",
      "text/plain": [
       "<Figure size 640x480 with 1 Axes>"
      ]
     },
     "metadata": {},
     "output_type": "display_data"
    }
   ],
   "source": [
    "df_processed['review_year'].hist(bins=30)\n",
    "plt.title('Review Year Frecuency')\n",
    "plt.xlabel('Review Year')\n",
    "plt.show('Frecuency')\n",
    "plt.show()"
   ]
  },
  {
   "cell_type": "markdown",
   "metadata": {},
   "source": [
    "Dataset is filtered by published year. Amazon Books was founded on 1995. Books published before this year are removed from the dataset. Scope is reduced to Books published during the Amazon Books Web Store existance."
   ]
  },
  {
   "cell_type": "code",
   "execution_count": 38,
   "metadata": {},
   "outputs": [
    {
     "name": "stdout",
     "output_type": "stream",
     "text": [
      "<class 'pandas.core.frame.DataFrame'>\n",
      "RangeIndex: 736644 entries, 0 to 736643\n",
      "Data columns (total 9 columns):\n",
      " #   Column          Non-Null Count   Dtype  \n",
      "---  ------          --------------   -----  \n",
      " 0   review          736644 non-null  float64\n",
      " 1   text            736644 non-null  object \n",
      " 2   review_year     736644 non-null  int64  \n",
      " 3   helpfulness_0   736644 non-null  float64\n",
      " 4   helpfulness_1   736644 non-null  float64\n",
      " 5   authors         728054 non-null  object \n",
      " 6   publisher       677789 non-null  object \n",
      " 7   categories      720895 non-null  object \n",
      " 8   published_year  736644 non-null  int64  \n",
      "dtypes: float64(3), int64(2), object(4)\n",
      "memory usage: 50.6+ MB\n"
     ]
    }
   ],
   "source": [
    "df_processed = df_processed[(df_processed['published_year'] > 2003) & (df_processed['published_year'] <= 2013)]\n",
    "df_processed.reset_index(drop=True, inplace=True)\n",
    "df_processed.info()"
   ]
  },
  {
   "cell_type": "code",
   "execution_count": 39,
   "metadata": {},
   "outputs": [
    {
     "data": {
      "image/png": "[encoded data removed]",
      "text/plain": [
       "<Figure size 640x480 with 1 Axes>"
      ]
     },
     "metadata": {},
     "output_type": "display_data"
    }
   ],
   "source": [
    "df_processed['published_year'].hist(bins=30)\n",
    "plt.title('Published Year Frecuency')\n",
    "plt.xlabel('Published Year')\n",
    "plt.show('Frecuency')"
   ]
  },
  {
   "cell_type": "markdown",
   "metadata": {},
   "source": [
    "All the wrong entries where the review year is grather than the published year are removed"
   ]
  },
  {
   "cell_type": "code",
   "execution_count": 40,
   "metadata": {},
   "outputs": [
    {
     "name": "stdout",
     "output_type": "stream",
     "text": [
      "<class 'pandas.core.frame.DataFrame'>\n",
      "RangeIndex: 400982 entries, 0 to 400981\n",
      "Data columns (total 9 columns):\n",
      " #   Column          Non-Null Count   Dtype  \n",
      "---  ------          --------------   -----  \n",
      " 0   review          400982 non-null  float64\n",
      " 1   text            400982 non-null  object \n",
      " 2   review_year     400982 non-null  int64  \n",
      " 3   helpfulness_0   400982 non-null  float64\n",
      " 4   helpfulness_1   400982 non-null  float64\n",
      " 5   authors         395251 non-null  object \n",
      " 6   publisher       363953 non-null  object \n",
      " 7   categories      393307 non-null  object \n",
      " 8   published_year  400982 non-null  int64  \n",
      "dtypes: float64(3), int64(2), object(4)\n",
      "memory usage: 27.5+ MB\n"
     ]
    }
   ],
   "source": [
    "df_processed = df_processed[df_processed['review_year'] >= df_processed['published_year']]\n",
    "df_processed.reset_index(drop=True, inplace=True)\n",
    "df_processed.info()"
   ]
  },
  {
   "cell_type": "code",
   "execution_count": 41,
   "metadata": {},
   "outputs": [
    {
     "data": {
      "image/png": "[encoded data removed]",
      "text/plain": [
       "<Figure size 640x480 with 1 Axes>"
      ]
     },
     "metadata": {},
     "output_type": "display_data"
    }
   ],
   "source": [
    "df_processed['published_year'].hist(bins=30)\n",
    "plt.title('Published Year Frecuency')\n",
    "plt.xlabel('Published Year')\n",
    "plt.show('Frecuency')"
   ]
  },
  {
   "cell_type": "markdown",
   "metadata": {},
   "source": [
    "### Sampling\n",
    "\n",
    "Sample Size Calculation formula from Survey Monkey (https://www.surveymonkey.com/mp/sample-size-calculator/) is used to calculate a extract a ramdom sample of the dataset.\n",
    "In order to reduce the dataset size and apply NLP to the text column.\n",
    "\n",
    "For the given formula: \n",
    "\n",
    "   $$ sample size =  \\frac{\\frac{z^2xp(1-p)}{e^2}}{1 + \\frac{z^2xp(1-p)}{e^2N}} $$\n",
    "\n",
    "with:\n",
    "- N = population size \n",
    "- e = Margin of error (percentage in decimal form) \n",
    "- z = z-score\n",
    "- p = sample proportion\n",
    "\n",
    "\n",
    "| Desired confidence level\t| z-score |\n",
    "|--------------------------|---------|\n",
    "|            80%           |   1.28  |\n",
    "|            85%\t         |   1.44  |\n",
    "|            90%\t         |   1.65  |\n",
    "|            95%\t         |   1.96  |\n",
    "|            99%\t         |   2.58  |\n",
    "\n",
    "\n",
    "Setting N = 400 982, e = 0.1% and z = 2.58\n",
    "\n",
    "sample size = 15978. \n",
    "\n",
    "A sample of **15978** entries will be extracted from the Dataset to be processed and to train and test the model."
   ]
  },
  {
   "cell_type": "code",
   "execution_count": 42,
   "metadata": {},
   "outputs": [
    {
     "name": "stdout",
     "output_type": "stream",
     "text": [
      "Sample size is: 15978\n"
     ]
    }
   ],
   "source": [
    "N = df_processed.shape[0] - 1\n",
    "e = 0.01 #Margin of error = 0.1%\n",
    "z = 2.58 # Desired confidence level = 99%, so z-score = 2.58\n",
    "p = 0.5 #Used 0.5 as a conservative approach. It will give the largest sample size\n",
    "\n",
    "sample_size = ( ((z*z)*p*(1-p))/(e*e) )/(1 + ((z*z)*p*(1-p))/(e*e*N) )\n",
    "\n",
    "sample_size = round(sample_size)\n",
    "\n",
    "print(f'Sample size is: {sample_size}')"
   ]
  },
  {
   "cell_type": "code",
   "execution_count": 43,
   "metadata": {},
   "outputs": [],
   "source": [
    "df_processed = df_processed.sample(n=sample_size, random_state=2125)"
   ]
  },
  {
   "cell_type": "code",
   "execution_count": 44,
   "metadata": {},
   "outputs": [
    {
     "name": "stdout",
     "output_type": "stream",
     "text": [
      "<class 'pandas.core.frame.DataFrame'>\n",
      "RangeIndex: 15978 entries, 0 to 15977\n",
      "Data columns (total 9 columns):\n",
      " #   Column          Non-Null Count  Dtype  \n",
      "---  ------          --------------  -----  \n",
      " 0   review          15978 non-null  float64\n",
      " 1   text            15978 non-null  object \n",
      " 2   review_year     15978 non-null  int64  \n",
      " 3   helpfulness_0   15978 non-null  float64\n",
      " 4   helpfulness_1   15978 non-null  float64\n",
      " 5   authors         15747 non-null  object \n",
      " 6   publisher       14523 non-null  object \n",
      " 7   categories      15681 non-null  object \n",
      " 8   published_year  15978 non-null  int64  \n",
      "dtypes: float64(3), int64(2), object(4)\n",
      "memory usage: 1.1+ MB\n"
     ]
    }
   ],
   "source": [
    "df_processed.reset_index(drop=True, inplace=True)\n",
    "df_processed.info()"
   ]
  },
  {
   "cell_type": "code",
   "execution_count": 50,
   "metadata": {},
   "outputs": [
    {
     "data": {
      "image/png": "[encoded data removed]",
      "text/plain": [
       "<Figure size 600x600 with 1 Axes>"
      ]
     },
     "metadata": {},
     "output_type": "display_data"
    }
   ],
   "source": [
    "fig, ax = plt.subplots(figsize=(6, 6))\n",
    "bars = ax.bar(df_processed['review'].value_counts(ascending=True).keys(), df_processed['review'].value_counts(ascending=True))\n",
    "ax.bar_label(bars)\n",
    "plt.title('Review Frequency')\n",
    "plt.xlabel('Review')\n",
    "plt.ylabel('Frequency')\n",
    "plt.show()"
   ]
  },
  {
   "cell_type": "code",
   "execution_count": 51,
   "metadata": {},
   "outputs": [
    {
     "data": {
      "text/plain": [
       "review               0\n",
       "text                 0\n",
       "review_year          0\n",
       "helpfulness_0        0\n",
       "helpfulness_1        0\n",
       "authors            231\n",
       "publisher         1455\n",
       "categories         297\n",
       "published_year       0\n",
       "dtype: int64"
      ]
     },
     "execution_count": 51,
     "metadata": {},
     "output_type": "execute_result"
    }
   ],
   "source": [
    "df_processed.isna().sum()"
   ]
  },
  {
   "cell_type": "code",
   "execution_count": 53,
   "metadata": {},
   "outputs": [
    {
     "data": {
      "text/html": [
       "<div>\n",
       "<style scoped>\n",
       "    .dataframe tbody tr th:only-of-type {\n",
       "        vertical-align: middle;\n",
       "    }\n",
       "\n",
       "    .dataframe tbody tr th {\n",
       "        vertical-align: top;\n",
       "    }\n",
       "\n",
       "    .dataframe thead th {\n",
       "        text-align: right;\n",
       "    }\n",
       "</style>\n",
       "<table border=\"1\" class=\"dataframe\">\n",
       "  <thead>\n",
       "    <tr style=\"text-align: right;\">\n",
       "      <th></th>\n",
       "      <th>review</th>\n",
       "      <th>text</th>\n",
       "      <th>review_year</th>\n",
       "      <th>helpfulness_0</th>\n",
       "      <th>helpfulness_1</th>\n",
       "      <th>authors</th>\n",
       "      <th>publisher</th>\n",
       "      <th>categories</th>\n",
       "      <th>published_year</th>\n",
       "    </tr>\n",
       "  </thead>\n",
       "  <tbody>\n",
       "    <tr>\n",
       "      <th>7657</th>\n",
       "      <td>2.0</td>\n",
       "      <td>The main character thinks too much to herself....</td>\n",
       "      <td>2009</td>\n",
       "      <td>1.0</td>\n",
       "      <td>1.0</td>\n",
       "      <td>[Julie K. L. Dam]</td>\n",
       "      <td>Grand Central Publishing</td>\n",
       "      <td>[Fiction]</td>\n",
       "      <td>2007</td>\n",
       "    </tr>\n",
       "    <tr>\n",
       "      <th>12375</th>\n",
       "      <td>3.0</td>\n",
       "      <td>Ordered this based on positive reviews from ot...</td>\n",
       "      <td>2009</td>\n",
       "      <td>0.5</td>\n",
       "      <td>0.5</td>\n",
       "      <td>NaN</td>\n",
       "      <td>NaN</td>\n",
       "      <td>[\"Children's libraries\"]</td>\n",
       "      <td>2005</td>\n",
       "    </tr>\n",
       "    <tr>\n",
       "      <th>4644</th>\n",
       "      <td>5.0</td>\n",
       "      <td>Mike Reiss is one of the funniest guys in the ...</td>\n",
       "      <td>2006</td>\n",
       "      <td>0.5</td>\n",
       "      <td>0.5</td>\n",
       "      <td>[Mike Reiss, David Catrow]</td>\n",
       "      <td>Puffin</td>\n",
       "      <td>[Juvenile Fiction]</td>\n",
       "      <td>2006</td>\n",
       "    </tr>\n",
       "    <tr>\n",
       "      <th>1023</th>\n",
       "      <td>4.0</td>\n",
       "      <td>Those observations given by Mr.Henderson insid...</td>\n",
       "      <td>2004</td>\n",
       "      <td>0.0</td>\n",
       "      <td>1.0</td>\n",
       "      <td>[Thomas Henderson, Frank Luksa]</td>\n",
       "      <td>Sports Publishing LLC</td>\n",
       "      <td>[Sports &amp; Recreation]</td>\n",
       "      <td>2004</td>\n",
       "    </tr>\n",
       "    <tr>\n",
       "      <th>10233</th>\n",
       "      <td>4.0</td>\n",
       "      <td>Have not finished reading - read in high schoo...</td>\n",
       "      <td>2013</td>\n",
       "      <td>0.0</td>\n",
       "      <td>1.0</td>\n",
       "      <td>[Charles Dickens]</td>\n",
       "      <td>Prestwick House Inc</td>\n",
       "      <td>[Executions and executioners]</td>\n",
       "      <td>2005</td>\n",
       "    </tr>\n",
       "  </tbody>\n",
       "</table>\n",
       "</div>"
      ],
      "text/plain": [
       "       review                                               text  review_year  \\\n",
       "7657      2.0  The main character thinks too much to herself....         2009   \n",
       "12375     3.0  Ordered this based on positive reviews from ot...         2009   \n",
       "4644      5.0  Mike Reiss is one of the funniest guys in the ...         2006   \n",
       "1023      4.0  Those observations given by Mr.Henderson insid...         2004   \n",
       "10233     4.0  Have not finished reading - read in high schoo...         2013   \n",
       "\n",
       "       helpfulness_0  helpfulness_1                          authors  \\\n",
       "7657             1.0            1.0                [Julie K. L. Dam]   \n",
       "12375            0.5            0.5                              NaN   \n",
       "4644             0.5            0.5       [Mike Reiss, David Catrow]   \n",
       "1023             0.0            1.0  [Thomas Henderson, Frank Luksa]   \n",
       "10233            0.0            1.0                [Charles Dickens]   \n",
       "\n",
       "                      publisher                     categories  published_year  \n",
       "7657   Grand Central Publishing                      [Fiction]            2007  \n",
       "12375                       NaN       [\"Children's libraries\"]            2005  \n",
       "4644                     Puffin             [Juvenile Fiction]            2006  \n",
       "1023      Sports Publishing LLC          [Sports & Recreation]            2004  \n",
       "10233       Prestwick House Inc  [Executions and executioners]            2005  "
      ]
     },
     "execution_count": 53,
     "metadata": {},
     "output_type": "execute_result"
    }
   ],
   "source": [
    "df_processed.sample(5, random_state=5)"
   ]
  },
  {
   "cell_type": "markdown",
   "metadata": {},
   "source": [
    "### Drop Duplicates"
   ]
  },
  {
   "cell_type": "code",
   "execution_count": 54,
   "metadata": {},
   "outputs": [
    {
     "name": "stdout",
     "output_type": "stream",
     "text": [
      "<class 'pandas.core.frame.DataFrame'>\n",
      "RangeIndex: 15738 entries, 0 to 15737\n",
      "Data columns (total 9 columns):\n",
      " #   Column          Non-Null Count  Dtype  \n",
      "---  ------          --------------  -----  \n",
      " 0   review          15738 non-null  float64\n",
      " 1   text            15738 non-null  object \n",
      " 2   review_year     15738 non-null  int64  \n",
      " 3   helpfulness_0   15738 non-null  float64\n",
      " 4   helpfulness_1   15738 non-null  float64\n",
      " 5   authors         15507 non-null  object \n",
      " 6   publisher       14295 non-null  object \n",
      " 7   categories      15441 non-null  object \n",
      " 8   published_year  15738 non-null  int64  \n",
      "dtypes: float64(3), int64(2), object(4)\n",
      "memory usage: 1.1+ MB\n"
     ]
    }
   ],
   "source": [
    "df_processed = df_processed.drop_duplicates(subset=['review', 'text'])\n",
    "df_processed.reset_index(drop=True, inplace=True)\n",
    "df_processed.info()"
   ]
  },
  {
   "cell_type": "markdown",
   "metadata": {},
   "source": [
    "## Data Cleaning by Column\n",
    "\n",
    "In this section a final cleaning for specific columns is performed"
   ]
  },
  {
   "cell_type": "markdown",
   "metadata": {},
   "source": [
    "### Helpfulness"
   ]
  },
  {
   "cell_type": "code",
   "execution_count": 70,
   "metadata": {},
   "outputs": [
    {
     "data": {
      "image/png": "[encoded data removed]",
      "text/plain": [
       "<Figure size 1500x600 with 2 Axes>"
      ]
     },
     "metadata": {},
     "output_type": "display_data"
    }
   ],
   "source": [
    "fig, axes = plt.subplots(1, 2, figsize=(15, 6), sharey=True)\n",
    "\n",
    "sns.set(style=\"whitegrid\")\n",
    "\n",
    "sns.histplot(df_processed['helpfulness_0'], bins=30, kde=True, ax=axes[0])\n",
    "axes[0].set_xlabel('Helpfulness_0')\n",
    "axes[0].set_ylabel('Frequency')\n",
    "axes[0].set_title('Histogram of Helpfulness_0')\n",
    "\n",
    "sns.histplot(df_processed['helpfulness_1'], bins=30, kde=True, ax=axes[1])\n",
    "axes[1].set_xlabel('Helpfulness_1')\n",
    "axes[1].set_ylabel('Frequency')\n",
    "axes[1].set_title('Histogram of Helpfulness_1')\n",
    "\n",
    "plt.show()"
   ]
  },
  {
   "cell_type": "code",
   "execution_count": 72,
   "metadata": {},
   "outputs": [
    {
     "data": {
      "text/html": [
       "<style type=\"text/css\">\n",
       "#T_f886c_row0_col0, #T_f886c_row1_col1, #T_f886c_row2_col2 {\n",
       "  background-color: #08306b;\n",
       "  color: #f1f1f1;\n",
       "}\n",
       "#T_f886c_row0_col1, #T_f886c_row0_col2, #T_f886c_row2_col0 {\n",
       "  background-color: #f7fbff;\n",
       "  color: #000000;\n",
       "}\n",
       "#T_f886c_row1_col0 {\n",
       "  background-color: #d3e4f3;\n",
       "  color: #000000;\n",
       "}\n",
       "#T_f886c_row1_col2 {\n",
       "  background-color: #b8d5ea;\n",
       "  color: #000000;\n",
       "}\n",
       "#T_f886c_row2_col1 {\n",
       "  background-color: #dbe9f6;\n",
       "  color: #000000;\n",
       "}\n",
       "</style>\n",
       "<table id=\"T_f886c\">\n",
       "  <thead>\n",
       "    <tr>\n",
       "      <th class=\"blank level0\" >&nbsp;</th>\n",
       "      <th id=\"T_f886c_level0_col0\" class=\"col_heading level0 col0\" >helpfulness_0</th>\n",
       "      <th id=\"T_f886c_level0_col1\" class=\"col_heading level0 col1\" >helpfulness_1</th>\n",
       "      <th id=\"T_f886c_level0_col2\" class=\"col_heading level0 col2\" >review</th>\n",
       "    </tr>\n",
       "  </thead>\n",
       "  <tbody>\n",
       "    <tr>\n",
       "      <th id=\"T_f886c_level0_row0\" class=\"row_heading level0 row0\" >helpfulness_0</th>\n",
       "      <td id=\"T_f886c_row0_col0\" class=\"data row0 col0\" >1.000000</td>\n",
       "      <td id=\"T_f886c_row0_col1\" class=\"data row0 col1\" >0.172201</td>\n",
       "      <td id=\"T_f886c_row0_col2\" class=\"data row0 col2\" >-0.009705</td>\n",
       "    </tr>\n",
       "    <tr>\n",
       "      <th id=\"T_f886c_level0_row1\" class=\"row_heading level0 row1\" >helpfulness_1</th>\n",
       "      <td id=\"T_f886c_row1_col0\" class=\"data row1 col0\" >0.172201</td>\n",
       "      <td id=\"T_f886c_row1_col1\" class=\"data row1 col1\" >1.000000</td>\n",
       "      <td id=\"T_f886c_row1_col2\" class=\"data row1 col2\" >0.290022</td>\n",
       "    </tr>\n",
       "    <tr>\n",
       "      <th id=\"T_f886c_level0_row2\" class=\"row_heading level0 row2\" >review</th>\n",
       "      <td id=\"T_f886c_row2_col0\" class=\"data row2 col0\" >-0.009705</td>\n",
       "      <td id=\"T_f886c_row2_col1\" class=\"data row2 col1\" >0.290022</td>\n",
       "      <td id=\"T_f886c_row2_col2\" class=\"data row2 col2\" >1.000000</td>\n",
       "    </tr>\n",
       "  </tbody>\n",
       "</table>\n"
      ],
      "text/plain": [
       "<pandas.io.formats.style.Styler at 0x7f9b87a23b50>"
      ]
     },
     "execution_count": 72,
     "metadata": {},
     "output_type": "execute_result"
    }
   ],
   "source": [
    "#Correlation Analysis \n",
    "df_processed[['helpfulness_0','helpfulness_1','review']].corr().style.background_gradient(cmap='Blues')"
   ]
  },
  {
   "cell_type": "markdown",
   "metadata": {},
   "source": [
    "Correlation matrix shows that helpfulness_0 and helpfulness_1 are not much correlated. Based on the correlation with 'review' column, helpfulness_1 is kept and helpfulness_0 is removed."
   ]
  },
  {
   "cell_type": "code",
   "execution_count": 73,
   "metadata": {},
   "outputs": [
    {
     "data": {
      "text/html": [
       "<div>\n",
       "<style scoped>\n",
       "    .dataframe tbody tr th:only-of-type {\n",
       "        vertical-align: middle;\n",
       "    }\n",
       "\n",
       "    .dataframe tbody tr th {\n",
       "        vertical-align: top;\n",
       "    }\n",
       "\n",
       "    .dataframe thead th {\n",
       "        text-align: right;\n",
       "    }\n",
       "</style>\n",
       "<table border=\"1\" class=\"dataframe\">\n",
       "  <thead>\n",
       "    <tr style=\"text-align: right;\">\n",
       "      <th></th>\n",
       "      <th>review</th>\n",
       "      <th>text</th>\n",
       "      <th>review_year</th>\n",
       "      <th>authors</th>\n",
       "      <th>publisher</th>\n",
       "      <th>categories</th>\n",
       "      <th>published_year</th>\n",
       "      <th>helpfulness</th>\n",
       "    </tr>\n",
       "  </thead>\n",
       "  <tbody>\n",
       "    <tr>\n",
       "      <th>3915</th>\n",
       "      <td>5.0</td>\n",
       "      <td>it&amp;#34;s a great read. makes me wish i had liv...</td>\n",
       "      <td>2013</td>\n",
       "      <td>[Mark Twain, BookCaps Study Guides Staff]</td>\n",
       "      <td>NaN</td>\n",
       "      <td>NaN</td>\n",
       "      <td>2012</td>\n",
       "      <td>1.0</td>\n",
       "    </tr>\n",
       "    <tr>\n",
       "      <th>10632</th>\n",
       "      <td>5.0</td>\n",
       "      <td>Alice in Wonderland is an all time classic sto...</td>\n",
       "      <td>2013</td>\n",
       "      <td>[Lewis Carroll]</td>\n",
       "      <td>The Floating Press</td>\n",
       "      <td>[Fiction]</td>\n",
       "      <td>2009</td>\n",
       "      <td>1.0</td>\n",
       "    </tr>\n",
       "    <tr>\n",
       "      <th>177</th>\n",
       "      <td>5.0</td>\n",
       "      <td>With my fourth college freshman ensconced in c...</td>\n",
       "      <td>2005</td>\n",
       "      <td>[Richard Kadison, Theresa Foy DiGeronimo]</td>\n",
       "      <td>Jossey-Bass</td>\n",
       "      <td>[Education]</td>\n",
       "      <td>2005</td>\n",
       "      <td>1.0</td>\n",
       "    </tr>\n",
       "    <tr>\n",
       "      <th>13940</th>\n",
       "      <td>3.0</td>\n",
       "      <td>This is a book that will push you to create so...</td>\n",
       "      <td>2011</td>\n",
       "      <td>[Seth Godin]</td>\n",
       "      <td>Penguin UK</td>\n",
       "      <td>[Business &amp; Economics]</td>\n",
       "      <td>2005</td>\n",
       "      <td>1.0</td>\n",
       "    </tr>\n",
       "    <tr>\n",
       "      <th>4935</th>\n",
       "      <td>5.0</td>\n",
       "      <td>This book is a diary of a devoted man of God i...</td>\n",
       "      <td>2012</td>\n",
       "      <td>[David Brainerd]</td>\n",
       "      <td>Readaclassic.com</td>\n",
       "      <td>[Biography &amp; Autobiography]</td>\n",
       "      <td>2010</td>\n",
       "      <td>1.0</td>\n",
       "    </tr>\n",
       "  </tbody>\n",
       "</table>\n",
       "</div>"
      ],
      "text/plain": [
       "       review                                               text  review_year  \\\n",
       "3915      5.0  it&#34;s a great read. makes me wish i had liv...         2013   \n",
       "10632     5.0  Alice in Wonderland is an all time classic sto...         2013   \n",
       "177       5.0  With my fourth college freshman ensconced in c...         2005   \n",
       "13940     3.0  This is a book that will push you to create so...         2011   \n",
       "4935      5.0  This book is a diary of a devoted man of God i...         2012   \n",
       "\n",
       "                                         authors           publisher  \\\n",
       "3915   [Mark Twain, BookCaps Study Guides Staff]                 NaN   \n",
       "10632                            [Lewis Carroll]  The Floating Press   \n",
       "177    [Richard Kadison, Theresa Foy DiGeronimo]         Jossey-Bass   \n",
       "13940                               [Seth Godin]          Penguin UK   \n",
       "4935                            [David Brainerd]    Readaclassic.com   \n",
       "\n",
       "                        categories  published_year  helpfulness  \n",
       "3915                           NaN            2012          1.0  \n",
       "10632                    [Fiction]            2009          1.0  \n",
       "177                    [Education]            2005          1.0  \n",
       "13940       [Business & Economics]            2005          1.0  \n",
       "4935   [Biography & Autobiography]            2010          1.0  "
      ]
     },
     "execution_count": 73,
     "metadata": {},
     "output_type": "execute_result"
    }
   ],
   "source": [
    "df_processed = df_processed.drop(['helpfulness_0'], axis=1)\n",
    "df_processed['helpfulness'] = df_processed['helpfulness_1']\n",
    "df_processed = df_processed.drop(['helpfulness_1'], axis=1)\n",
    "df_processed.sample(5)"
   ]
  },
  {
   "cell_type": "markdown",
   "metadata": {},
   "source": [
    "### Authors"
   ]
  },
  {
   "cell_type": "markdown",
   "metadata": {},
   "source": [
    "Authors Names Standarization\n",
    "\n",
    "During the Exploratory Data Analysis it was discovered that some authors are reviewed under diferent formats of their names. Based on this, the Dataset is simplified to contain only one name format."
   ]
  },
  {
   "cell_type": "code",
   "execution_count": 74,
   "metadata": {},
   "outputs": [],
   "source": [
    "author_mapping = {\n",
    "    'John Ronald Reuel Tolkien':'J. R. R. Tolkien',\n",
    "    'J. R. R. Tolkien':'J. R. R. Tolkien',\n",
    "    'J.R.R. Tolkien':'J. R. R. Tolkien',\n",
    "    'Gabriel Garcia Marquez':'Gabriel Garcia Marquez',\n",
    "    'Gabriel García Márquez':'Gabriel Garcia Marquez',\n",
    "    'Charlotte Brontë':'Charlotte Brontë',\n",
    "    'Charlotte Bronte':'Charlotte Brontë',\n",
    "    'Emily Brontë':'Emily Brontë',\n",
    "    'Emily Bronte':'Emily Brontë',\n",
    "    'Joseph Smith':'Joseph Smith',\n",
    "    'Joseph Smith (Jr.)':'Joseph Smith',\n",
    "    'Jr.':'Joseph Smith'\n",
    "    }"
   ]
  },
  {
   "cell_type": "code",
   "execution_count": 75,
   "metadata": {},
   "outputs": [],
   "source": [
    "def standardize_authors(authors):\n",
    "    if isinstance(authors, list):\n",
    "        return [author_mapping.get(author, author) for author in authors]\n",
    "    else:\n",
    "        return authors  # Return the original value if it's not a list"
   ]
  },
  {
   "cell_type": "code",
   "execution_count": 76,
   "metadata": {},
   "outputs": [],
   "source": [
    "df_processed['authors'] = df_processed['authors'].apply(standardize_authors)"
   ]
  },
  {
   "cell_type": "markdown",
   "metadata": {},
   "source": [
    "Updating the Authors Feature to Categorical, and applying Pareto Principe to reduce the quantity of authors."
   ]
  },
  {
   "cell_type": "code",
   "execution_count": 77,
   "metadata": {},
   "outputs": [
    {
     "data": {
      "text/plain": [
       "authors\n",
       "J. R. R. Tolkien       594\n",
       "Lewis Carroll          148\n",
       "C. S. Lewis            129\n",
       "Christopher Paolini    111\n",
       "Charles Dickens        106\n",
       "                      ... \n",
       "Jennifer Quasha          1\n",
       "Alan Wood                1\n",
       "Tim Reeser               1\n",
       "Steve Kaplan             1\n",
       "Jack D. Herrington       1\n",
       "Name: count, Length: 7736, dtype: int64"
      ]
     },
     "execution_count": 77,
     "metadata": {},
     "output_type": "execute_result"
    }
   ],
   "source": [
    "author_counts = df_processed['authors'].explode().value_counts()\n",
    "author_counts"
   ]
  },
  {
   "cell_type": "code",
   "execution_count": 78,
   "metadata": {},
   "outputs": [
    {
     "data": {
      "text/plain": [
       "authors\n",
       "J. R. R. Tolkien       594\n",
       "Lewis Carroll          148\n",
       "C. S. Lewis            129\n",
       "Christopher Paolini    111\n",
       "Charles Dickens        106\n",
       "                      ... \n",
       "Paul H. Lange            1\n",
       "Christine Adamec         1\n",
       "The Phat Phree           1\n",
       "Andru J. Reeve           1\n",
       "Jack D. Herrington       1\n",
       "Name: count, Length: 7736, dtype: int64"
      ]
     },
     "execution_count": 78,
     "metadata": {},
     "output_type": "execute_result"
    }
   ],
   "source": [
    "sorted_author_counts = author_counts.sort_values(ascending=False)\n",
    "sorted_author_counts"
   ]
  },
  {
   "cell_type": "code",
   "execution_count": 80,
   "metadata": {},
   "outputs": [
    {
     "name": "stdout",
     "output_type": "stream",
     "text": [
      "Pareto Threshold will keep the 1547 most important books\n"
     ]
    },
    {
     "data": {
      "text/plain": [
       "Index(['J. R. R. Tolkien', 'Lewis Carroll', 'C. S. Lewis',\n",
       "       'Christopher Paolini', 'Charles Dickens', 'Aldous Huxley',\n",
       "       'Eckhart Tolle', 'Viktor E Frankl', 'James Patterson',\n",
       "       'Arthur Conan Doyle'],\n",
       "      dtype='object', name='authors')"
      ]
     },
     "execution_count": 80,
     "metadata": {},
     "output_type": "execute_result"
    }
   ],
   "source": [
    "pareto_threshold = int(0.2 * len(sorted_author_counts))\n",
    "print(f'Pareto Threshold will keep the {pareto_threshold} most important books')\n",
    "top_authors = sorted_author_counts.iloc[:pareto_threshold].index\n",
    "top_authors[:10]"
   ]
  },
  {
   "cell_type": "code",
   "execution_count": 82,
   "metadata": {},
   "outputs": [],
   "source": [
    "df_processed['authors'] = df_processed['authors'].apply(lambda x: [author if author in top_authors else 'Other' for author in x] if isinstance(x, list) else ['Other'])"
   ]
  },
  {
   "cell_type": "markdown",
   "metadata": {},
   "source": [
    "After applying Pareto Principle, there are still 1548 unique authors on the dataset. If authors is considered as a Categorical Feature, it will not have much predictive because it has a lot of Cardinality.\n",
    "\n",
    "Top 10 authors with most reviews are kept and the rest of authors are set to 'Other'."
   ]
  },
  {
   "cell_type": "code",
   "execution_count": 90,
   "metadata": {},
   "outputs": [
    {
     "name": "stdout",
     "output_type": "stream",
     "text": [
      "Total of Authors: 10\n",
      "\n",
      "Total of entries after explode authors column 18914\n",
      "\n",
      "Authors after preprocesing:\n",
      " authors\n",
      "Other                  17524\n",
      "J. R. R. Tolkien         594\n",
      "Lewis Carroll            148\n",
      "C. S. Lewis              129\n",
      "Christopher Paolini      111\n",
      "Charles Dickens          106\n",
      "Aldous Huxley             85\n",
      "Eckhart Tolle             78\n",
      "Viktor E Frankl           74\n",
      "James Patterson           65\n",
      "Name: count, dtype: int64\n",
      "\n"
     ]
    }
   ],
   "source": [
    "authors = df_processed['authors'].explode()\n",
    "print(f'Total of Authors: {len(authors.unique())}\\n')\n",
    "\n",
    "author_counts = authors.value_counts(ascending=False)\n",
    "print(f'Total of entries after explode authors column {author_counts.sum()}\\n')\n",
    "\n",
    "# Taking the Top 10 Most important Books\n",
    "top_10_authors_counts = author_counts[:10].sort_values(ascending=False)\n",
    "\n",
    "other_authors_counts = author_counts[10:]\n",
    "\n",
    "df_processed['authors'] = df_processed['authors'].apply(lambda x: [author if author in top_10_authors_counts else 'Other' for author in x] if isinstance(x, list) else ['Other'])\n",
    "authors_count = df_processed['authors'].explode().value_counts()\n",
    "print(f'Authors after preprocesing:\\n {authors_count}\\n')"
   ]
  },
  {
   "cell_type": "markdown",
   "metadata": {},
   "source": [
    "Some of the Author lists became a list of  ['Other', 'Other', ..., 'Other']"
   ]
  },
  {
   "cell_type": "code",
   "execution_count": 91,
   "metadata": {},
   "outputs": [],
   "source": [
    "def remove_repeated_values(in_list):\n",
    "    unique_list = []\n",
    "    for item in in_list:\n",
    "        if item not in unique_list:\n",
    "            unique_list.append(item)\n",
    "\n",
    "    return unique_list"
   ]
  },
  {
   "cell_type": "code",
   "execution_count": 92,
   "metadata": {},
   "outputs": [
    {
     "data": {
      "text/html": [
       "<div>\n",
       "<style scoped>\n",
       "    .dataframe tbody tr th:only-of-type {\n",
       "        vertical-align: middle;\n",
       "    }\n",
       "\n",
       "    .dataframe tbody tr th {\n",
       "        vertical-align: top;\n",
       "    }\n",
       "\n",
       "    .dataframe thead th {\n",
       "        text-align: right;\n",
       "    }\n",
       "</style>\n",
       "<table border=\"1\" class=\"dataframe\">\n",
       "  <thead>\n",
       "    <tr style=\"text-align: right;\">\n",
       "      <th></th>\n",
       "      <th>review</th>\n",
       "      <th>text</th>\n",
       "      <th>review_year</th>\n",
       "      <th>authors</th>\n",
       "      <th>publisher</th>\n",
       "      <th>categories</th>\n",
       "      <th>published_year</th>\n",
       "      <th>helpfulness</th>\n",
       "    </tr>\n",
       "  </thead>\n",
       "  <tbody>\n",
       "    <tr>\n",
       "      <th>13339</th>\n",
       "      <td>4.0</td>\n",
       "      <td>You can not deny that Donald Trump is a genius...</td>\n",
       "      <td>2004</td>\n",
       "      <td>[Other]</td>\n",
       "      <td>Currency</td>\n",
       "      <td>[Business &amp; Economics]</td>\n",
       "      <td>2004</td>\n",
       "      <td>0.933333</td>\n",
       "    </tr>\n",
       "    <tr>\n",
       "      <th>3312</th>\n",
       "      <td>4.0</td>\n",
       "      <td>This book was recommended reading to me by a r...</td>\n",
       "      <td>2010</td>\n",
       "      <td>[Other]</td>\n",
       "      <td>Houghton Mifflin Harcourt</td>\n",
       "      <td>[Juvenile Nonfiction]</td>\n",
       "      <td>2010</td>\n",
       "      <td>1.000000</td>\n",
       "    </tr>\n",
       "    <tr>\n",
       "      <th>1612</th>\n",
       "      <td>4.0</td>\n",
       "      <td>Bren finds himself in the midst of a civil war...</td>\n",
       "      <td>2007</td>\n",
       "      <td>[Other]</td>\n",
       "      <td>DAW Hardcover</td>\n",
       "      <td>[Fiction]</td>\n",
       "      <td>2007</td>\n",
       "      <td>1.000000</td>\n",
       "    </tr>\n",
       "    <tr>\n",
       "      <th>6630</th>\n",
       "      <td>5.0</td>\n",
       "      <td>Great Price with Excellent and Timely Service;...</td>\n",
       "      <td>2012</td>\n",
       "      <td>[Other, Other]</td>\n",
       "      <td>Piatkus Books</td>\n",
       "      <td>[Dallas, Eve (Fictitious character)]</td>\n",
       "      <td>2012</td>\n",
       "      <td>1.000000</td>\n",
       "    </tr>\n",
       "    <tr>\n",
       "      <th>14462</th>\n",
       "      <td>4.0</td>\n",
       "      <td>This book was wonderful and i wish it was a se...</td>\n",
       "      <td>2012</td>\n",
       "      <td>[Other]</td>\n",
       "      <td>Yearling</td>\n",
       "      <td>[Juvenile Fiction]</td>\n",
       "      <td>2011</td>\n",
       "      <td>1.000000</td>\n",
       "    </tr>\n",
       "  </tbody>\n",
       "</table>\n",
       "</div>"
      ],
      "text/plain": [
       "       review                                               text  review_year  \\\n",
       "13339     4.0  You can not deny that Donald Trump is a genius...         2004   \n",
       "3312      4.0  This book was recommended reading to me by a r...         2010   \n",
       "1612      4.0  Bren finds himself in the midst of a civil war...         2007   \n",
       "6630      5.0  Great Price with Excellent and Timely Service;...         2012   \n",
       "14462     4.0  This book was wonderful and i wish it was a se...         2012   \n",
       "\n",
       "              authors                  publisher  \\\n",
       "13339         [Other]                   Currency   \n",
       "3312          [Other]  Houghton Mifflin Harcourt   \n",
       "1612          [Other]              DAW Hardcover   \n",
       "6630   [Other, Other]              Piatkus Books   \n",
       "14462         [Other]                   Yearling   \n",
       "\n",
       "                                 categories  published_year  helpfulness  \n",
       "13339                [Business & Economics]            2004     0.933333  \n",
       "3312                  [Juvenile Nonfiction]            2010     1.000000  \n",
       "1612                              [Fiction]            2007     1.000000  \n",
       "6630   [Dallas, Eve (Fictitious character)]            2012     1.000000  \n",
       "14462                    [Juvenile Fiction]            2011     1.000000  "
      ]
     },
     "execution_count": 92,
     "metadata": {},
     "output_type": "execute_result"
    }
   ],
   "source": [
    "df_processed.sample(5, random_state=10)"
   ]
  },
  {
   "cell_type": "code",
   "execution_count": 93,
   "metadata": {},
   "outputs": [
    {
     "data": {
      "text/html": [
       "<div>\n",
       "<style scoped>\n",
       "    .dataframe tbody tr th:only-of-type {\n",
       "        vertical-align: middle;\n",
       "    }\n",
       "\n",
       "    .dataframe tbody tr th {\n",
       "        vertical-align: top;\n",
       "    }\n",
       "\n",
       "    .dataframe thead th {\n",
       "        text-align: right;\n",
       "    }\n",
       "</style>\n",
       "<table border=\"1\" class=\"dataframe\">\n",
       "  <thead>\n",
       "    <tr style=\"text-align: right;\">\n",
       "      <th></th>\n",
       "      <th>review</th>\n",
       "      <th>text</th>\n",
       "      <th>review_year</th>\n",
       "      <th>authors</th>\n",
       "      <th>publisher</th>\n",
       "      <th>categories</th>\n",
       "      <th>published_year</th>\n",
       "      <th>helpfulness</th>\n",
       "    </tr>\n",
       "  </thead>\n",
       "  <tbody>\n",
       "    <tr>\n",
       "      <th>13339</th>\n",
       "      <td>4.0</td>\n",
       "      <td>You can not deny that Donald Trump is a genius...</td>\n",
       "      <td>2004</td>\n",
       "      <td>[Other]</td>\n",
       "      <td>Currency</td>\n",
       "      <td>[Business &amp; Economics]</td>\n",
       "      <td>2004</td>\n",
       "      <td>0.933333</td>\n",
       "    </tr>\n",
       "    <tr>\n",
       "      <th>3312</th>\n",
       "      <td>4.0</td>\n",
       "      <td>This book was recommended reading to me by a r...</td>\n",
       "      <td>2010</td>\n",
       "      <td>[Other]</td>\n",
       "      <td>Houghton Mifflin Harcourt</td>\n",
       "      <td>[Juvenile Nonfiction]</td>\n",
       "      <td>2010</td>\n",
       "      <td>1.000000</td>\n",
       "    </tr>\n",
       "    <tr>\n",
       "      <th>1612</th>\n",
       "      <td>4.0</td>\n",
       "      <td>Bren finds himself in the midst of a civil war...</td>\n",
       "      <td>2007</td>\n",
       "      <td>[Other]</td>\n",
       "      <td>DAW Hardcover</td>\n",
       "      <td>[Fiction]</td>\n",
       "      <td>2007</td>\n",
       "      <td>1.000000</td>\n",
       "    </tr>\n",
       "    <tr>\n",
       "      <th>6630</th>\n",
       "      <td>5.0</td>\n",
       "      <td>Great Price with Excellent and Timely Service;...</td>\n",
       "      <td>2012</td>\n",
       "      <td>[Other]</td>\n",
       "      <td>Piatkus Books</td>\n",
       "      <td>[Dallas, Eve (Fictitious character)]</td>\n",
       "      <td>2012</td>\n",
       "      <td>1.000000</td>\n",
       "    </tr>\n",
       "    <tr>\n",
       "      <th>14462</th>\n",
       "      <td>4.0</td>\n",
       "      <td>This book was wonderful and i wish it was a se...</td>\n",
       "      <td>2012</td>\n",
       "      <td>[Other]</td>\n",
       "      <td>Yearling</td>\n",
       "      <td>[Juvenile Fiction]</td>\n",
       "      <td>2011</td>\n",
       "      <td>1.000000</td>\n",
       "    </tr>\n",
       "  </tbody>\n",
       "</table>\n",
       "</div>"
      ],
      "text/plain": [
       "       review                                               text  review_year  \\\n",
       "13339     4.0  You can not deny that Donald Trump is a genius...         2004   \n",
       "3312      4.0  This book was recommended reading to me by a r...         2010   \n",
       "1612      4.0  Bren finds himself in the midst of a civil war...         2007   \n",
       "6630      5.0  Great Price with Excellent and Timely Service;...         2012   \n",
       "14462     4.0  This book was wonderful and i wish it was a se...         2012   \n",
       "\n",
       "       authors                  publisher  \\\n",
       "13339  [Other]                   Currency   \n",
       "3312   [Other]  Houghton Mifflin Harcourt   \n",
       "1612   [Other]              DAW Hardcover   \n",
       "6630   [Other]              Piatkus Books   \n",
       "14462  [Other]                   Yearling   \n",
       "\n",
       "                                 categories  published_year  helpfulness  \n",
       "13339                [Business & Economics]            2004     0.933333  \n",
       "3312                  [Juvenile Nonfiction]            2010     1.000000  \n",
       "1612                              [Fiction]            2007     1.000000  \n",
       "6630   [Dallas, Eve (Fictitious character)]            2012     1.000000  \n",
       "14462                    [Juvenile Fiction]            2011     1.000000  "
      ]
     },
     "execution_count": 93,
     "metadata": {},
     "output_type": "execute_result"
    }
   ],
   "source": [
    "df_processed['authors'] = df_processed['authors'].apply(lambda x: remove_repeated_values(x))\n",
    "df_processed.sample(5, random_state=10)"
   ]
  },
  {
   "cell_type": "code",
   "execution_count": 94,
   "metadata": {},
   "outputs": [
    {
     "data": {
      "text/plain": [
       "authors\n",
       "Other                  14364\n",
       "J. R. R. Tolkien         594\n",
       "Lewis Carroll            148\n",
       "C. S. Lewis              129\n",
       "Christopher Paolini      111\n",
       "Charles Dickens          106\n",
       "Aldous Huxley             85\n",
       "Eckhart Tolle             78\n",
       "Viktor E Frankl           74\n",
       "James Patterson           65\n",
       "Name: count, dtype: int64"
      ]
     },
     "execution_count": 94,
     "metadata": {},
     "output_type": "execute_result"
    }
   ],
   "source": [
    "df_processed['authors'].explode().value_counts()"
   ]
  },
  {
   "cell_type": "code",
   "execution_count": 95,
   "metadata": {},
   "outputs": [
    {
     "data": {
      "image/png": "[encoded data removed]",
      "text/plain": [
       "<Figure size 800x800 with 1 Axes>"
      ]
     },
     "metadata": {},
     "output_type": "display_data"
    }
   ],
   "source": [
    "#Show a barplot by Percentages\n",
    "author_percetage = df_processed['authors'].explode().value_counts()/df_processed['authors'].explode().value_counts().sum()*100\n",
    "\n",
    "fig, ax = plt.subplots(figsize=(8, 8))\n",
    "bars = ax.bar(df_processed['authors'].explode().unique(), author_percetage)\n",
    "\n",
    "# Set the bar labels (percentages) to be displayed above the bars\n",
    "ax.bar_label(bars, fmt='%.1f%%')\n",
    "\n",
    "plt.xlabel('Author')\n",
    "plt.ylabel('Percentage')\n",
    "plt.xticks(rotation=90)\n",
    "plt.title('Percentage of Reviews for top 10 Authors', fontsize = 20)\n",
    "plt.show()"
   ]
  },
  {
   "cell_type": "markdown",
   "metadata": {},
   "source": [
    "Top 10 authors only represents the 8.8% of the Total Dataset Reviews. Beacause of the Cardinality of this feature, Authors is removed from the Dataset."
   ]
  },
  {
   "cell_type": "code",
   "execution_count": 96,
   "metadata": {},
   "outputs": [
    {
     "name": "stdout",
     "output_type": "stream",
     "text": [
      "<class 'pandas.core.frame.DataFrame'>\n",
      "RangeIndex: 15738 entries, 0 to 15737\n",
      "Data columns (total 7 columns):\n",
      " #   Column          Non-Null Count  Dtype  \n",
      "---  ------          --------------  -----  \n",
      " 0   review          15738 non-null  float64\n",
      " 1   text            15738 non-null  object \n",
      " 2   review_year     15738 non-null  int64  \n",
      " 3   publisher       14295 non-null  object \n",
      " 4   categories      15441 non-null  object \n",
      " 5   published_year  15738 non-null  int64  \n",
      " 6   helpfulness     15738 non-null  float64\n",
      "dtypes: float64(2), int64(2), object(3)\n",
      "memory usage: 860.8+ KB\n"
     ]
    }
   ],
   "source": [
    "df_processed = df_processed.drop(['authors'], axis=1)\n",
    "df_processed.info()"
   ]
  },
  {
   "cell_type": "markdown",
   "metadata": {},
   "source": [
    "### Categories"
   ]
  },
  {
   "cell_type": "markdown",
   "metadata": {},
   "source": [
    "Updating the Categories Feature to Categorical, and applying Pareto Principe to reduce the quantity of Categories."
   ]
  },
  {
   "cell_type": "code",
   "execution_count": 102,
   "metadata": {},
   "outputs": [
    {
     "name": "stdout",
     "output_type": "stream",
     "text": [
      "Pareto Threshold will keep the 87 most important Categories\n",
      "\n",
      "Top Categories:\n",
      " Index(['Fiction', 'Juvenile Fiction', 'Religion', 'Biography & Autobiography',\n",
      "       'History', 'Business & Economics', 'Self-Help', 'Computers',\n",
      "       'Family & Relationships', 'Cooking'],\n",
      "      dtype='object', name='categories')\n"
     ]
    }
   ],
   "source": [
    "categories_counts = df_processed['categories'].explode().value_counts(ascending=False)\n",
    "\n",
    "pareto_threshold = int(0.2 * len(categories_counts))\n",
    "print(f'Pareto Threshold will keep the {pareto_threshold} most important Categories\\n')\n",
    "\n",
    "top_categories = categories_counts.iloc[:pareto_threshold].index\n",
    "print(f'Top Categories:\\n {top_categories[:10]}')\n",
    "\n",
    "df_processed['categories'] = df_processed['categories'].apply(lambda x: [category if category in top_categories else 'Other' for category in x] if isinstance(x, list) else ['Other'])"
   ]
  },
  {
   "cell_type": "markdown",
   "metadata": {},
   "source": [
    "After applying Pareto Principle, there are still 117 unique categories on the dataset. If categories is considered as a Categorical Feature, it will not add much predictive value because it has a lot of Cardinality.\n",
    "\n",
    "Top 10 categories with most reviews are kept and the rest of categories are set to 'Other'."
   ]
  },
  {
   "cell_type": "code",
   "execution_count": 104,
   "metadata": {},
   "outputs": [
    {
     "name": "stdout",
     "output_type": "stream",
     "text": [
      "Total of Categories: 88\n",
      "Total of entries after explode Categories column 16030\n"
     ]
    }
   ],
   "source": [
    "categories = df_processed['categories'].explode()\n",
    "\n",
    "print(f'Total of Categories: {len(categories.unique())}')\n",
    "\n",
    "categories_counts = categories.value_counts(ascending=False)\n",
    "print(f'Total of entries after explode Categories column {categories_counts.sum()}')"
   ]
  },
  {
   "cell_type": "code",
   "execution_count": 105,
   "metadata": {},
   "outputs": [
    {
     "data": {
      "text/plain": [
       "categories\n",
       "Fiction                      5102\n",
       "Juvenile Fiction             1483\n",
       "Other                         939\n",
       "Religion                      826\n",
       "Biography & Autobiography     774\n",
       "History                       595\n",
       "Business & Economics          513\n",
       "Self-Help                     293\n",
       "Computers                     290\n",
       "Family & Relationships        272\n",
       "Name: count, dtype: int64"
      ]
     },
     "execution_count": 105,
     "metadata": {},
     "output_type": "execute_result"
    }
   ],
   "source": [
    "top_categories_counts = categories_counts[:10].sort_values(ascending=False)\n",
    "top_categories_counts"
   ]
  },
  {
   "cell_type": "code",
   "execution_count": 108,
   "metadata": {},
   "outputs": [],
   "source": [
    "categories_mapping = {\n",
    "    'Fiction' : 'Fiction',\n",
    "    'Juvenile Fiction' : 'Fiction',\n",
    "    'Young Adult Fiction': 'Fiction',\n",
    "    'Fantasy fiction' : 'Fiction',\n",
    "    'FICTION': 'Fiction'\n",
    "}"
   ]
  },
  {
   "cell_type": "code",
   "execution_count": 109,
   "metadata": {},
   "outputs": [],
   "source": [
    "def standardize_categories(categories):\n",
    "    if isinstance(categories, list):\n",
    "        return [categories_mapping.get(category, category) for category in categories]\n",
    "    else:\n",
    "        return categories  # Return the original value if it's not a list"
   ]
  },
  {
   "cell_type": "code",
   "execution_count": 110,
   "metadata": {},
   "outputs": [],
   "source": [
    "df_processed['categories'] = df_processed['categories'].apply(standardize_categories)"
   ]
  },
  {
   "cell_type": "code",
   "execution_count": 111,
   "metadata": {},
   "outputs": [
    {
     "name": "stdout",
     "output_type": "stream",
     "text": [
      "Top 10 Categories:\\ categories\n",
      "Fiction                      6717\n",
      "Other                         939\n",
      "Religion                      826\n",
      "Biography & Autobiography     774\n",
      "History                       595\n",
      "Business & Economics          513\n",
      "Self-Help                     293\n",
      "Computers                     290\n",
      "Family & Relationships        272\n",
      "Cooking                       233\n",
      "Name: count, dtype: int64\n"
     ]
    }
   ],
   "source": [
    "categories = df_processed['categories'].explode()\n",
    "categories_counts = categories.value_counts(ascending=False)\n",
    "\n",
    "top_10_categories_counts = categories_counts[:10].sort_values(ascending=False)\n",
    "print(f'Top 10 Categories:\\ {top_10_categories_counts}')"
   ]
  },
  {
   "cell_type": "code",
   "execution_count": 112,
   "metadata": {},
   "outputs": [
    {
     "data": {
      "text/plain": [
       "categories\n",
       "Fiction                      6717\n",
       "Other                        5517\n",
       "Religion                      826\n",
       "Biography & Autobiography     774\n",
       "History                       595\n",
       "Business & Economics          513\n",
       "Self-Help                     293\n",
       "Computers                     290\n",
       "Family & Relationships        272\n",
       "Cooking                       233\n",
       "Name: count, dtype: int64"
      ]
     },
     "execution_count": 112,
     "metadata": {},
     "output_type": "execute_result"
    }
   ],
   "source": [
    "df_processed['categories'] = df_processed['categories'].apply(lambda x: [category if category in top_10_categories_counts else 'Other' for category in x] if isinstance(x, list) else ['Other'])\n",
    "df_processed['categories'].explode().value_counts()"
   ]
  },
  {
   "cell_type": "markdown",
   "metadata": {},
   "source": [
    "Some categories list remained with the formar ['Other', 'Other', ..., 'Other']"
   ]
  },
  {
   "cell_type": "code",
   "execution_count": 113,
   "metadata": {},
   "outputs": [
    {
     "data": {
      "text/html": [
       "<div>\n",
       "<style scoped>\n",
       "    .dataframe tbody tr th:only-of-type {\n",
       "        vertical-align: middle;\n",
       "    }\n",
       "\n",
       "    .dataframe tbody tr th {\n",
       "        vertical-align: top;\n",
       "    }\n",
       "\n",
       "    .dataframe thead th {\n",
       "        text-align: right;\n",
       "    }\n",
       "</style>\n",
       "<table border=\"1\" class=\"dataframe\">\n",
       "  <thead>\n",
       "    <tr style=\"text-align: right;\">\n",
       "      <th></th>\n",
       "      <th>review</th>\n",
       "      <th>text</th>\n",
       "      <th>review_year</th>\n",
       "      <th>publisher</th>\n",
       "      <th>categories</th>\n",
       "      <th>published_year</th>\n",
       "      <th>helpfulness</th>\n",
       "    </tr>\n",
       "  </thead>\n",
       "  <tbody>\n",
       "    <tr>\n",
       "      <th>10054</th>\n",
       "      <td>4.0</td>\n",
       "      <td>Measle and the Dragodon is the sequel to the s...</td>\n",
       "      <td>2006</td>\n",
       "      <td>Harper Collins</td>\n",
       "      <td>[Fiction]</td>\n",
       "      <td>2005</td>\n",
       "      <td>1.000000</td>\n",
       "    </tr>\n",
       "    <tr>\n",
       "      <th>4711</th>\n",
       "      <td>5.0</td>\n",
       "      <td>My husband and I presented this Bible to our s...</td>\n",
       "      <td>2007</td>\n",
       "      <td>Holman Bible Pub</td>\n",
       "      <td>[Other]</td>\n",
       "      <td>2004</td>\n",
       "      <td>0.888889</td>\n",
       "    </tr>\n",
       "    <tr>\n",
       "      <th>5154</th>\n",
       "      <td>5.0</td>\n",
       "      <td>Swush! Eragon and Saphira Gliding through the ...</td>\n",
       "      <td>2007</td>\n",
       "      <td>Random House</td>\n",
       "      <td>[Other]</td>\n",
       "      <td>2005</td>\n",
       "      <td>0.333333</td>\n",
       "    </tr>\n",
       "    <tr>\n",
       "      <th>1619</th>\n",
       "      <td>5.0</td>\n",
       "      <td>This is a great book that I loved many years a...</td>\n",
       "      <td>2013</td>\n",
       "      <td>Sourcebooks, Inc.</td>\n",
       "      <td>[Fiction]</td>\n",
       "      <td>2009</td>\n",
       "      <td>1.000000</td>\n",
       "    </tr>\n",
       "    <tr>\n",
       "      <th>12668</th>\n",
       "      <td>5.0</td>\n",
       "      <td>I must have read every \"In Death\" published by...</td>\n",
       "      <td>2012</td>\n",
       "      <td>Berkley</td>\n",
       "      <td>[Fiction]</td>\n",
       "      <td>2005</td>\n",
       "      <td>1.000000</td>\n",
       "    </tr>\n",
       "  </tbody>\n",
       "</table>\n",
       "</div>"
      ],
      "text/plain": [
       "       review                                               text  review_year  \\\n",
       "10054     4.0  Measle and the Dragodon is the sequel to the s...         2006   \n",
       "4711      5.0  My husband and I presented this Bible to our s...         2007   \n",
       "5154      5.0  Swush! Eragon and Saphira Gliding through the ...         2007   \n",
       "1619      5.0  This is a great book that I loved many years a...         2013   \n",
       "12668     5.0  I must have read every \"In Death\" published by...         2012   \n",
       "\n",
       "               publisher categories  published_year  helpfulness  \n",
       "10054     Harper Collins  [Fiction]            2005     1.000000  \n",
       "4711    Holman Bible Pub    [Other]            2004     0.888889  \n",
       "5154        Random House    [Other]            2005     0.333333  \n",
       "1619   Sourcebooks, Inc.  [Fiction]            2009     1.000000  \n",
       "12668            Berkley  [Fiction]            2005     1.000000  "
      ]
     },
     "execution_count": 113,
     "metadata": {},
     "output_type": "execute_result"
    }
   ],
   "source": [
    "df_processed['categories'] = df_processed['categories'].apply(lambda x: remove_repeated_values(x))\n",
    "df_processed.sample(5, random_state=5)"
   ]
  },
  {
   "cell_type": "code",
   "execution_count": 114,
   "metadata": {},
   "outputs": [
    {
     "data": {
      "text/plain": [
       "categories\n",
       "Fiction                      6717\n",
       "Other                        5226\n",
       "Religion                      826\n",
       "Biography & Autobiography     774\n",
       "History                       595\n",
       "Business & Economics          513\n",
       "Self-Help                     293\n",
       "Computers                     290\n",
       "Family & Relationships        272\n",
       "Cooking                       233\n",
       "Name: count, dtype: int64"
      ]
     },
     "execution_count": 114,
     "metadata": {},
     "output_type": "execute_result"
    }
   ],
   "source": [
    "df_processed['categories'].explode().value_counts(ascending=False)"
   ]
  },
  {
   "cell_type": "code",
   "execution_count": 115,
   "metadata": {},
   "outputs": [
    {
     "data": {
      "image/png": "[encoded data removed]",
      "text/plain": [
       "<Figure size 800x800 with 1 Axes>"
      ]
     },
     "metadata": {},
     "output_type": "display_data"
    }
   ],
   "source": [
    "#Show a barplot by Percentages\n",
    "category_percetage = df_processed['categories'].explode().value_counts(ascending=False)/df_processed['categories'].explode().value_counts(ascending=False).sum()*100\n",
    "\n",
    "fig, ax = plt.subplots(figsize=(8, 8))\n",
    "bars = ax.bar(df_processed['categories'].explode().value_counts(ascending=False).keys(), category_percetage)\n",
    "\n",
    "# Set the bar labels (percentages) to be displayed above the bars\n",
    "ax.bar_label(bars, fmt='%.1f%%')\n",
    "\n",
    "plt.xlabel('Category')\n",
    "plt.ylabel('Percentage')\n",
    "plt.xticks(rotation=90)\n",
    "plt.title('Percentage of Reviews for top 10 Categories', fontsize = 20)\n",
    "plt.show()"
   ]
  },
  {
   "cell_type": "markdown",
   "metadata": {},
   "source": [
    "Fiction is the most represented Category in the Dataset. All the other categories do not have much representation, and there is a lot of cardinality for this feature. This variable is binarize to [Fiction = 1, No Fiction = 0] in order to keep the most representatice category and use this feature predicting capacity."
   ]
  },
  {
   "cell_type": "code",
   "execution_count": 116,
   "metadata": {},
   "outputs": [
    {
     "name": "stdout",
     "output_type": "stream",
     "text": [
      "df_processed shape before explode by category: (15738, 7)\n",
      "df_processed shape after explode by category: (15739, 7)\n"
     ]
    }
   ],
   "source": [
    "print(f'df_processed shape before explode by category: {df_processed.shape}')\n",
    "df_processed = df_processed.explode('categories')\n",
    "print(f'df_processed shape after explode by category: {df_processed.shape}')"
   ]
  },
  {
   "cell_type": "code",
   "execution_count": 120,
   "metadata": {},
   "outputs": [
    {
     "data": {
      "text/html": [
       "<div>\n",
       "<style scoped>\n",
       "    .dataframe tbody tr th:only-of-type {\n",
       "        vertical-align: middle;\n",
       "    }\n",
       "\n",
       "    .dataframe tbody tr th {\n",
       "        vertical-align: top;\n",
       "    }\n",
       "\n",
       "    .dataframe thead th {\n",
       "        text-align: right;\n",
       "    }\n",
       "</style>\n",
       "<table border=\"1\" class=\"dataframe\">\n",
       "  <thead>\n",
       "    <tr style=\"text-align: right;\">\n",
       "      <th></th>\n",
       "      <th>review</th>\n",
       "      <th>text</th>\n",
       "      <th>review_year</th>\n",
       "      <th>publisher</th>\n",
       "      <th>categories</th>\n",
       "      <th>published_year</th>\n",
       "      <th>helpfulness</th>\n",
       "    </tr>\n",
       "  </thead>\n",
       "  <tbody>\n",
       "    <tr>\n",
       "      <th>10054</th>\n",
       "      <td>4.0</td>\n",
       "      <td>Measle and the Dragodon is the sequel to the s...</td>\n",
       "      <td>2006</td>\n",
       "      <td>Harper Collins</td>\n",
       "      <td>Fiction</td>\n",
       "      <td>2005</td>\n",
       "      <td>1.000000</td>\n",
       "    </tr>\n",
       "    <tr>\n",
       "      <th>4711</th>\n",
       "      <td>5.0</td>\n",
       "      <td>My husband and I presented this Bible to our s...</td>\n",
       "      <td>2007</td>\n",
       "      <td>Holman Bible Pub</td>\n",
       "      <td>Other</td>\n",
       "      <td>2004</td>\n",
       "      <td>0.888889</td>\n",
       "    </tr>\n",
       "    <tr>\n",
       "      <th>5154</th>\n",
       "      <td>5.0</td>\n",
       "      <td>Swush! Eragon and Saphira Gliding through the ...</td>\n",
       "      <td>2007</td>\n",
       "      <td>Random House</td>\n",
       "      <td>Other</td>\n",
       "      <td>2005</td>\n",
       "      <td>0.333333</td>\n",
       "    </tr>\n",
       "    <tr>\n",
       "      <th>1619</th>\n",
       "      <td>5.0</td>\n",
       "      <td>This is a great book that I loved many years a...</td>\n",
       "      <td>2013</td>\n",
       "      <td>Sourcebooks, Inc.</td>\n",
       "      <td>Fiction</td>\n",
       "      <td>2009</td>\n",
       "      <td>1.000000</td>\n",
       "    </tr>\n",
       "    <tr>\n",
       "      <th>15206</th>\n",
       "      <td>5.0</td>\n",
       "      <td>This was one of the wedding gifts my husband a...</td>\n",
       "      <td>2011</td>\n",
       "      <td>Penguin</td>\n",
       "      <td>Fiction</td>\n",
       "      <td>2011</td>\n",
       "      <td>1.000000</td>\n",
       "    </tr>\n",
       "  </tbody>\n",
       "</table>\n",
       "</div>"
      ],
      "text/plain": [
       "       review                                               text  review_year  \\\n",
       "10054     4.0  Measle and the Dragodon is the sequel to the s...         2006   \n",
       "4711      5.0  My husband and I presented this Bible to our s...         2007   \n",
       "5154      5.0  Swush! Eragon and Saphira Gliding through the ...         2007   \n",
       "1619      5.0  This is a great book that I loved many years a...         2013   \n",
       "15206     5.0  This was one of the wedding gifts my husband a...         2011   \n",
       "\n",
       "               publisher categories  published_year  helpfulness  \n",
       "10054     Harper Collins    Fiction            2005     1.000000  \n",
       "4711    Holman Bible Pub      Other            2004     0.888889  \n",
       "5154        Random House      Other            2005     0.333333  \n",
       "1619   Sourcebooks, Inc.    Fiction            2009     1.000000  \n",
       "15206            Penguin    Fiction            2011     1.000000  "
      ]
     },
     "execution_count": 120,
     "metadata": {},
     "output_type": "execute_result"
    }
   ],
   "source": [
    "df_processed.sample(5, random_state=5)"
   ]
  },
  {
   "cell_type": "code",
   "execution_count": 134,
   "metadata": {},
   "outputs": [
    {
     "data": {
      "text/html": [
       "<div>\n",
       "<style scoped>\n",
       "    .dataframe tbody tr th:only-of-type {\n",
       "        vertical-align: middle;\n",
       "    }\n",
       "\n",
       "    .dataframe tbody tr th {\n",
       "        vertical-align: top;\n",
       "    }\n",
       "\n",
       "    .dataframe thead th {\n",
       "        text-align: right;\n",
       "    }\n",
       "</style>\n",
       "<table border=\"1\" class=\"dataframe\">\n",
       "  <thead>\n",
       "    <tr style=\"text-align: right;\">\n",
       "      <th></th>\n",
       "      <th>review</th>\n",
       "      <th>text</th>\n",
       "      <th>review_year</th>\n",
       "      <th>publisher</th>\n",
       "      <th>categories</th>\n",
       "      <th>published_year</th>\n",
       "      <th>helpfulness</th>\n",
       "      <th>fiction_category</th>\n",
       "    </tr>\n",
       "  </thead>\n",
       "  <tbody>\n",
       "    <tr>\n",
       "      <th>10054</th>\n",
       "      <td>4.0</td>\n",
       "      <td>Measle and the Dragodon is the sequel to the s...</td>\n",
       "      <td>2006</td>\n",
       "      <td>Harper Collins</td>\n",
       "      <td>1</td>\n",
       "      <td>2005</td>\n",
       "      <td>1.000000</td>\n",
       "      <td>1</td>\n",
       "    </tr>\n",
       "    <tr>\n",
       "      <th>4711</th>\n",
       "      <td>5.0</td>\n",
       "      <td>My husband and I presented this Bible to our s...</td>\n",
       "      <td>2007</td>\n",
       "      <td>Other</td>\n",
       "      <td>0</td>\n",
       "      <td>2004</td>\n",
       "      <td>0.888889</td>\n",
       "      <td>0</td>\n",
       "    </tr>\n",
       "    <tr>\n",
       "      <th>5154</th>\n",
       "      <td>5.0</td>\n",
       "      <td>Swush! Eragon and Saphira Gliding through the ...</td>\n",
       "      <td>2007</td>\n",
       "      <td>Random House</td>\n",
       "      <td>0</td>\n",
       "      <td>2005</td>\n",
       "      <td>0.333333</td>\n",
       "      <td>0</td>\n",
       "    </tr>\n",
       "    <tr>\n",
       "      <th>1619</th>\n",
       "      <td>5.0</td>\n",
       "      <td>This is a great book that I loved many years a...</td>\n",
       "      <td>2013</td>\n",
       "      <td>Other</td>\n",
       "      <td>1</td>\n",
       "      <td>2009</td>\n",
       "      <td>1.000000</td>\n",
       "      <td>1</td>\n",
       "    </tr>\n",
       "    <tr>\n",
       "      <th>15206</th>\n",
       "      <td>5.0</td>\n",
       "      <td>This was one of the wedding gifts my husband a...</td>\n",
       "      <td>2011</td>\n",
       "      <td>Penguin</td>\n",
       "      <td>1</td>\n",
       "      <td>2011</td>\n",
       "      <td>1.000000</td>\n",
       "      <td>1</td>\n",
       "    </tr>\n",
       "  </tbody>\n",
       "</table>\n",
       "</div>"
      ],
      "text/plain": [
       "       review                                               text  review_year  \\\n",
       "10054     4.0  Measle and the Dragodon is the sequel to the s...         2006   \n",
       "4711      5.0  My husband and I presented this Bible to our s...         2007   \n",
       "5154      5.0  Swush! Eragon and Saphira Gliding through the ...         2007   \n",
       "1619      5.0  This is a great book that I loved many years a...         2013   \n",
       "15206     5.0  This was one of the wedding gifts my husband a...         2011   \n",
       "\n",
       "            publisher  categories  published_year  helpfulness  \\\n",
       "10054  Harper Collins           1            2005     1.000000   \n",
       "4711            Other           0            2004     0.888889   \n",
       "5154     Random House           0            2005     0.333333   \n",
       "1619            Other           1            2009     1.000000   \n",
       "15206         Penguin           1            2011     1.000000   \n",
       "\n",
       "       fiction_category  \n",
       "10054                 1  \n",
       "4711                  0  \n",
       "5154                  0  \n",
       "1619                  1  \n",
       "15206                 1  "
      ]
     },
     "execution_count": 134,
     "metadata": {},
     "output_type": "execute_result"
    }
   ],
   "source": [
    "df_processed['fiction_category'] = df_processed['categories'].apply(lambda x: 1 if x=='Fiction' else 0)\n",
    "df_processed.sample(5, random_state=5)"
   ]
  },
  {
   "cell_type": "code",
   "execution_count": 135,
   "metadata": {},
   "outputs": [],
   "source": [
    "df_processed = df_processed.drop(['categories'], axis=1)"
   ]
  },
  {
   "cell_type": "markdown",
   "metadata": {},
   "source": [
    "### Publisher"
   ]
  },
  {
   "cell_type": "markdown",
   "metadata": {},
   "source": [
    "Some publisher names represents the same Publisher. The publisher names are standarized"
   ]
  },
  {
   "cell_type": "code",
   "execution_count": 123,
   "metadata": {},
   "outputs": [],
   "source": [
    "publisher_mapping = {\n",
    "    'Penguin UK':'Penguin',\n",
    "    'HarperCollins': 'Harper Collins',\n",
    "    'HarperCollins UK' :  'Harper Collins',\n",
    "    'Adams Media Corporation': 'Adams Media',\n",
    "    'Addison Wesley Longman' : 'Addison-Wesley',\n",
    "    'Addison Wesley Publishing Company':'Addison-Wesley',\n",
    "    'Addison-Wesley Longman':'Addison-Wesley',\n",
    "    'Addison-Wesley Professional' : 'Addison-Wesley',\n",
    "    '''\"O'Reilly Media, Inc.\"''' : \"O'Reilly Media, Inc.\",\n",
    "    '*Frommers' : 'Frommers',\n",
    "    '*Howell Book House' : 'Howell Book House',\n",
    "    }"
   ]
  },
  {
   "cell_type": "code",
   "execution_count": 124,
   "metadata": {},
   "outputs": [],
   "source": [
    "def standardize_publisher(publisher):\n",
    "    if pd.isna(publisher):        \n",
    "        return publisher  # Return the original value if it's not a list\n",
    "    else:\n",
    "\n",
    "        return publisher_mapping.get(publisher, publisher)"
   ]
  },
  {
   "cell_type": "code",
   "execution_count": 125,
   "metadata": {},
   "outputs": [],
   "source": [
    "df_processed['publisher'] = df_processed['publisher'].apply(standardize_publisher)"
   ]
  },
  {
   "cell_type": "code",
   "execution_count": 127,
   "metadata": {},
   "outputs": [
    {
     "data": {
      "text/plain": [
       "publisher\n",
       "Penguin                           1228\n",
       "Harper Collins                     946\n",
       "Simon and Schuster                 854\n",
       "Mariner Books                      500\n",
       "Random House                       358\n",
       "                                  ... \n",
       "Bookman Publishing & Marketing       1\n",
       "Basic Health Publications            1\n",
       "Nbm Publishing Company               1\n",
       "Infinite Ideas                       1\n",
       "Dewi Lewis Pub                       1\n",
       "Name: count, Length: 1806, dtype: int64"
      ]
     },
     "execution_count": 127,
     "metadata": {},
     "output_type": "execute_result"
    }
   ],
   "source": [
    "publisher_counts = df_processed['publisher'].value_counts(ascending=False)\n",
    "publisher_counts"
   ]
  },
  {
   "cell_type": "markdown",
   "metadata": {},
   "source": [
    "Updating the publisher Feature to Categorical, and applying Pareto Principe to reduce the quantity of publishers."
   ]
  },
  {
   "cell_type": "code",
   "execution_count": 128,
   "metadata": {},
   "outputs": [
    {
     "name": "stdout",
     "output_type": "stream",
     "text": [
      "Pareto Threshold will keep the 361 most important Publishers\n",
      "\n",
      "Top Publishers:\n",
      " Index(['Penguin', 'Harper Collins', 'Simon and Schuster', 'Mariner Books',\n",
      "       'Random House', 'Macmillan', 'Vintage', 'Houghton Mifflin Harcourt',\n",
      "       'Anchor', 'Bantam'],\n",
      "      dtype='object', name='publisher')\n"
     ]
    }
   ],
   "source": [
    "pareto_threshold = int(0.2 * len(publisher_counts))\n",
    "\n",
    "print(f'Pareto Threshold will keep the {pareto_threshold} most important Publishers\\n')\n",
    "\n",
    "top_publishers = publisher_counts.iloc[:pareto_threshold].index\n",
    "print(f'Top Publishers:\\n {top_publishers[:10]}')\n",
    "\n",
    "df_processed['publisher'] = df_processed['publisher'].apply(lambda publisher: publisher if publisher in top_publishers else 'Other')"
   ]
  },
  {
   "cell_type": "markdown",
   "metadata": {},
   "source": [
    "After applying Pareto Principle, there are still 361 unique publishers on the dataset. If publishers is considered as a Categorical Feature, it will not add much predictive value because it has a lot of Cardinality.\n",
    "\n",
    "Top 10 publishers with most reviews are kept and the rest of publishers are set to 'Other'. In order to keep the feature and analize the predicting power."
   ]
  },
  {
   "cell_type": "code",
   "execution_count": 130,
   "metadata": {},
   "outputs": [
    {
     "name": "stdout",
     "output_type": "stream",
     "text": [
      "Total of Publishers: 362\n"
     ]
    }
   ],
   "source": [
    "publishers = df_processed['publisher']\n",
    "\n",
    "print(f'Total of Publishers: {len(publishers.unique())}')\n",
    "\n",
    "publisher_counts = publishers.value_counts(ascending=False)\n",
    "\n",
    "top_10_publishers_counts = publisher_counts[:10].sort_values(ascending=False)\n",
    "\n",
    "df_processed['publisher'] = df_processed['publisher'].apply(lambda publisher: publisher if publisher in top_10_publishers_counts else 'Other')"
   ]
  },
  {
   "cell_type": "code",
   "execution_count": 132,
   "metadata": {},
   "outputs": [
    {
     "data": {
      "image/png": "[encoded data removed]",
      "text/plain": [
       "<Figure size 800x800 with 1 Axes>"
      ]
     },
     "metadata": {},
     "output_type": "display_data"
    }
   ],
   "source": [
    "#Show a barplot by Percentages\n",
    "publisher_percetage = df_processed['publisher'].value_counts(ascending=False)/df_processed['publisher'].value_counts(ascending=False).sum()*100\n",
    "\n",
    "fig, ax = plt.subplots(figsize=(8, 8))\n",
    "bars = ax.bar(df_processed['publisher'].value_counts(ascending=False).keys(), publisher_percetage)\n",
    "\n",
    "# Set the bar labels (percentages) to be displayed above the bars\n",
    "ax.bar_label(bars, fmt='%.1f%%')\n",
    "\n",
    "plt.xlabel('Publisher')\n",
    "plt.ylabel('Percentage')\n",
    "plt.xticks(rotation=90)\n",
    "plt.title('Percentage of Reviews for top 10 Publishers', fontsize = 20)\n",
    "plt.show()\n"
   ]
  },
  {
   "cell_type": "markdown",
   "metadata": {},
   "source": [
    "Top 10 publishers different than Other represents the 29.5% of the dataset. The representation of non-other publishers is low, but is grather than 25%, so the variable is kept. In this case the Publisher variable is binarize as as follows [known_publisher = 1, Unknown_publisher = 0]"
   ]
  },
  {
   "cell_type": "code",
   "execution_count": 139,
   "metadata": {},
   "outputs": [
    {
     "data": {
      "text/html": [
       "<div>\n",
       "<style scoped>\n",
       "    .dataframe tbody tr th:only-of-type {\n",
       "        vertical-align: middle;\n",
       "    }\n",
       "\n",
       "    .dataframe tbody tr th {\n",
       "        vertical-align: top;\n",
       "    }\n",
       "\n",
       "    .dataframe thead th {\n",
       "        text-align: right;\n",
       "    }\n",
       "</style>\n",
       "<table border=\"1\" class=\"dataframe\">\n",
       "  <thead>\n",
       "    <tr style=\"text-align: right;\">\n",
       "      <th></th>\n",
       "      <th>review</th>\n",
       "      <th>text</th>\n",
       "      <th>review_year</th>\n",
       "      <th>published_year</th>\n",
       "      <th>helpfulness</th>\n",
       "      <th>fiction_category</th>\n",
       "      <th>top_publisher</th>\n",
       "    </tr>\n",
       "  </thead>\n",
       "  <tbody>\n",
       "    <tr>\n",
       "      <th>10054</th>\n",
       "      <td>4.0</td>\n",
       "      <td>Measle and the Dragodon is the sequel to the s...</td>\n",
       "      <td>2006</td>\n",
       "      <td>2005</td>\n",
       "      <td>1.000000</td>\n",
       "      <td>1</td>\n",
       "      <td>1</td>\n",
       "    </tr>\n",
       "    <tr>\n",
       "      <th>4711</th>\n",
       "      <td>5.0</td>\n",
       "      <td>My husband and I presented this Bible to our s...</td>\n",
       "      <td>2007</td>\n",
       "      <td>2004</td>\n",
       "      <td>0.888889</td>\n",
       "      <td>0</td>\n",
       "      <td>0</td>\n",
       "    </tr>\n",
       "    <tr>\n",
       "      <th>5154</th>\n",
       "      <td>5.0</td>\n",
       "      <td>Swush! Eragon and Saphira Gliding through the ...</td>\n",
       "      <td>2007</td>\n",
       "      <td>2005</td>\n",
       "      <td>0.333333</td>\n",
       "      <td>0</td>\n",
       "      <td>1</td>\n",
       "    </tr>\n",
       "    <tr>\n",
       "      <th>1619</th>\n",
       "      <td>5.0</td>\n",
       "      <td>This is a great book that I loved many years a...</td>\n",
       "      <td>2013</td>\n",
       "      <td>2009</td>\n",
       "      <td>1.000000</td>\n",
       "      <td>1</td>\n",
       "      <td>0</td>\n",
       "    </tr>\n",
       "    <tr>\n",
       "      <th>15206</th>\n",
       "      <td>5.0</td>\n",
       "      <td>This was one of the wedding gifts my husband a...</td>\n",
       "      <td>2011</td>\n",
       "      <td>2011</td>\n",
       "      <td>1.000000</td>\n",
       "      <td>1</td>\n",
       "      <td>1</td>\n",
       "    </tr>\n",
       "  </tbody>\n",
       "</table>\n",
       "</div>"
      ],
      "text/plain": [
       "       review                                               text  review_year  \\\n",
       "10054     4.0  Measle and the Dragodon is the sequel to the s...         2006   \n",
       "4711      5.0  My husband and I presented this Bible to our s...         2007   \n",
       "5154      5.0  Swush! Eragon and Saphira Gliding through the ...         2007   \n",
       "1619      5.0  This is a great book that I loved many years a...         2013   \n",
       "15206     5.0  This was one of the wedding gifts my husband a...         2011   \n",
       "\n",
       "       published_year  helpfulness  fiction_category  top_publisher  \n",
       "10054            2005     1.000000                 1              1  \n",
       "4711             2004     0.888889                 0              0  \n",
       "5154             2005     0.333333                 0              1  \n",
       "1619             2009     1.000000                 1              0  \n",
       "15206            2011     1.000000                 1              1  "
      ]
     },
     "execution_count": 139,
     "metadata": {},
     "output_type": "execute_result"
    }
   ],
   "source": [
    "df_processed['top_publisher'] = df_processed['publisher'].apply(lambda x: 0 if x=='Other' else 1)\n",
    "df_processed = df_processed.drop(['publisher'], axis=1)\n",
    "df_processed.sample(5, random_state=5)"
   ]
  },
  {
   "cell_type": "markdown",
   "metadata": {},
   "source": [
    "# Text Preprocesing and Sentiment Analysis"
   ]
  },
  {
   "cell_type": "code",
   "execution_count": 140,
   "metadata": {},
   "outputs": [
    {
     "name": "stdout",
     "output_type": "stream",
     "text": [
      "<class 'pandas.core.frame.DataFrame'>\n",
      "Index: 15739 entries, 0 to 15737\n",
      "Data columns (total 7 columns):\n",
      " #   Column            Non-Null Count  Dtype  \n",
      "---  ------            --------------  -----  \n",
      " 0   review            15739 non-null  float64\n",
      " 1   text              15739 non-null  object \n",
      " 2   review_year       15739 non-null  int64  \n",
      " 3   published_year    15739 non-null  int64  \n",
      " 4   helpfulness       15739 non-null  float64\n",
      " 5   fiction_category  15739 non-null  int64  \n",
      " 6   top_publisher     15739 non-null  int64  \n",
      "dtypes: float64(2), int64(4), object(1)\n",
      "memory usage: 983.7+ KB\n"
     ]
    }
   ],
   "source": [
    "df_processed.info()"
   ]
  },
  {
   "cell_type": "code",
   "execution_count": 141,
   "metadata": {},
   "outputs": [],
   "source": [
    "# Text To Lower\n",
    "df_processed['text_clean'] = df_processed['text'].str.lower()\n",
    "# Extract special characters and numbers\n",
    "df_processed['text_clean'] = df_processed['text_clean'].str.replace(r'[^a-z]', ' ', regex=True)\n",
    "# Extract numbers\n",
    "# df_reduced['text_clean'] = df_reduced['text_clean'].str.replace(r'[\\d]+', '', regex=True)\n",
    "# Change multiple white spaces to a single white space\n",
    "df_processed['text_clean'] = df_processed['text_clean'].str.replace(r'\\s+',' ',regex=True)"
   ]
  },
  {
   "cell_type": "code",
   "execution_count": 142,
   "metadata": {},
   "outputs": [
    {
     "name": "stderr",
     "output_type": "stream",
     "text": [
      "[nltk_data] Downloading package wordnet to\n",
      "[nltk_data]     /home/arnaldochm/nltk_data...\n",
      "[nltk_data]   Package wordnet is already up-to-date!\n"
     ]
    }
   ],
   "source": [
    "#Lemmatize Text and removing Stopwords\n",
    "download(\"wordnet\")\n",
    "lemmatizer = WordNetLemmatizer()"
   ]
  },
  {
   "cell_type": "code",
   "execution_count": 143,
   "metadata": {},
   "outputs": [
    {
     "name": "stderr",
     "output_type": "stream",
     "text": [
      "[nltk_data] Downloading package stopwords to\n",
      "[nltk_data]     /home/arnaldochm/nltk_data...\n",
      "[nltk_data]   Package stopwords is already up-to-date!\n"
     ]
    }
   ],
   "source": [
    "# Download Stop Words\n",
    "download(\"stopwords\")\n",
    "stop_words = stopwords.words(\"english\")"
   ]
  },
  {
   "cell_type": "code",
   "execution_count": 144,
   "metadata": {},
   "outputs": [],
   "source": [
    "def lemmatize_text(words, lemmatizer = lemmatizer):\n",
    "    words = words.split(' ')\n",
    "    tokens = [lemmatizer.lemmatize(word) for word in words]\n",
    "    tokens = [word for word in tokens if word not in stop_words]\n",
    "    tokens = [word for word in tokens if len(word) > 2] #Keep Words with more than 3 letters\n",
    "    return ' '.join(tokens)"
   ]
  },
  {
   "cell_type": "code",
   "execution_count": 146,
   "metadata": {},
   "outputs": [
    {
     "data": {
      "text/html": [
       "<div>\n",
       "<style scoped>\n",
       "    .dataframe tbody tr th:only-of-type {\n",
       "        vertical-align: middle;\n",
       "    }\n",
       "\n",
       "    .dataframe tbody tr th {\n",
       "        vertical-align: top;\n",
       "    }\n",
       "\n",
       "    .dataframe thead th {\n",
       "        text-align: right;\n",
       "    }\n",
       "</style>\n",
       "<table border=\"1\" class=\"dataframe\">\n",
       "  <thead>\n",
       "    <tr style=\"text-align: right;\">\n",
       "      <th></th>\n",
       "      <th>review</th>\n",
       "      <th>text</th>\n",
       "      <th>review_year</th>\n",
       "      <th>published_year</th>\n",
       "      <th>helpfulness</th>\n",
       "      <th>fiction_category</th>\n",
       "      <th>top_publisher</th>\n",
       "      <th>text_clean</th>\n",
       "    </tr>\n",
       "  </thead>\n",
       "  <tbody>\n",
       "    <tr>\n",
       "      <th>10054</th>\n",
       "      <td>4.0</td>\n",
       "      <td>Measle and the Dragodon is the sequel to the s...</td>\n",
       "      <td>2006</td>\n",
       "      <td>2005</td>\n",
       "      <td>1.000000</td>\n",
       "      <td>1</td>\n",
       "      <td>1</td>\n",
       "      <td>measle dragodon sequel successful measle wrath...</td>\n",
       "    </tr>\n",
       "    <tr>\n",
       "      <th>4711</th>\n",
       "      <td>5.0</td>\n",
       "      <td>My husband and I presented this Bible to our s...</td>\n",
       "      <td>2007</td>\n",
       "      <td>2004</td>\n",
       "      <td>0.888889</td>\n",
       "      <td>0</td>\n",
       "      <td>0</td>\n",
       "      <td>husband presented bible son gift prior enterin...</td>\n",
       "    </tr>\n",
       "    <tr>\n",
       "      <th>5154</th>\n",
       "      <td>5.0</td>\n",
       "      <td>Swush! Eragon and Saphira Gliding through the ...</td>\n",
       "      <td>2007</td>\n",
       "      <td>2005</td>\n",
       "      <td>0.333333</td>\n",
       "      <td>0</td>\n",
       "      <td>1</td>\n",
       "      <td>swush eragon saphira gliding air like bolt lig...</td>\n",
       "    </tr>\n",
       "    <tr>\n",
       "      <th>1619</th>\n",
       "      <td>5.0</td>\n",
       "      <td>This is a great book that I loved many years a...</td>\n",
       "      <td>2013</td>\n",
       "      <td>2009</td>\n",
       "      <td>1.000000</td>\n",
       "      <td>1</td>\n",
       "      <td>0</td>\n",
       "      <td>great book loved many year ago happy find avai...</td>\n",
       "    </tr>\n",
       "    <tr>\n",
       "      <th>15206</th>\n",
       "      <td>5.0</td>\n",
       "      <td>This was one of the wedding gifts my husband a...</td>\n",
       "      <td>2011</td>\n",
       "      <td>2011</td>\n",
       "      <td>1.000000</td>\n",
       "      <td>1</td>\n",
       "      <td>1</td>\n",
       "      <td>one wedding gift husband received already turn...</td>\n",
       "    </tr>\n",
       "  </tbody>\n",
       "</table>\n",
       "</div>"
      ],
      "text/plain": [
       "       review                                               text  review_year  \\\n",
       "10054     4.0  Measle and the Dragodon is the sequel to the s...         2006   \n",
       "4711      5.0  My husband and I presented this Bible to our s...         2007   \n",
       "5154      5.0  Swush! Eragon and Saphira Gliding through the ...         2007   \n",
       "1619      5.0  This is a great book that I loved many years a...         2013   \n",
       "15206     5.0  This was one of the wedding gifts my husband a...         2011   \n",
       "\n",
       "       published_year  helpfulness  fiction_category  top_publisher  \\\n",
       "10054            2005     1.000000                 1              1   \n",
       "4711             2004     0.888889                 0              0   \n",
       "5154             2005     0.333333                 0              1   \n",
       "1619             2009     1.000000                 1              0   \n",
       "15206            2011     1.000000                 1              1   \n",
       "\n",
       "                                              text_clean  \n",
       "10054  measle dragodon sequel successful measle wrath...  \n",
       "4711   husband presented bible son gift prior enterin...  \n",
       "5154   swush eragon saphira gliding air like bolt lig...  \n",
       "1619   great book loved many year ago happy find avai...  \n",
       "15206  one wedding gift husband received already turn...  "
      ]
     },
     "execution_count": 146,
     "metadata": {},
     "output_type": "execute_result"
    }
   ],
   "source": [
    "df_processed[\"text_clean\"] = df_processed[\"text_clean\"].apply(lambda x: lemmatize_text(x))\n",
    "df_processed.sample(5, random_state=5)"
   ]
  },
  {
   "cell_type": "code",
   "execution_count": 147,
   "metadata": {},
   "outputs": [
    {
     "name": "stderr",
     "output_type": "stream",
     "text": [
      "[nltk_data] Downloading package punkt to /home/arnaldochm/nltk_data...\n",
      "[nltk_data]   Package punkt is already up-to-date!\n"
     ]
    },
    {
     "data": {
      "text/plain": [
       "True"
      ]
     },
     "execution_count": 147,
     "metadata": {},
     "output_type": "execute_result"
    }
   ],
   "source": [
    "#Download Readability test library\n",
    "nltk.download('punkt')"
   ]
  },
  {
   "cell_type": "markdown",
   "metadata": {},
   "source": [
    "The Flesch-Kincaid Grade Level (FKGL) is a readability test designed to assess the readability of written text\n",
    "It's a commonly used formula to determine the level of education one would need to understand a piece of text. \n",
    "The FKGL provides a grade level score, which is roughly equivalent to the U.S. grade level in education. For example, a text with an FKGL score of 8.0 would be considered readable by an eighth-grader.\n",
    "\n",
    "The formula for calculating the Flesch-Kincaid Grade Level is as follows:\n",
    "\n",
    "$FKGL = 0.39 \\left( \\frac{{\\text{{total words}}}}{{\\text{{total sentences}}}} \\right) + 11.8 \\left( \\frac{{\\text{{total syllables}}}}{{\\text{{total words}}}} \\right) - 15.59$\n",
    "\n",
    "\n",
    "- \"total words\" represents the number of words in the text.\n",
    "- \"total sentences\" represents the number of sentences in the text.\n",
    "- \"total syllables\" represents the number of syllables in the text.\n",
    "\n",
    "The expected results for FKGL are as follows:\n",
    "\n",
    "- 0-6: Easy to read, typically understandable by an average 11-year-old student or below.\n",
    "- 6-8: Readable by a 12-14-year-old student (7th to 8th grade).\n",
    "- 8-10: Readable by a 14-16-year-old student (9th to 10th grade).\n",
    "- 10-12: Readable by a 16-18-year-old student (11th to 12th grade).\n",
    "- 12-14: Readable by a college graduate.\n",
    "- 14-16: Readable by someone with a post-graduate education."
   ]
  },
  {
   "cell_type": "code",
   "execution_count": 148,
   "metadata": {},
   "outputs": [],
   "source": [
    "def calculate_complexity(review):\n",
    "    return flesch_kincaid_grade(review)"
   ]
  },
  {
   "cell_type": "markdown",
   "metadata": {},
   "source": [
    "Text complexity is calculated from original text. To keep the words from the user review"
   ]
  },
  {
   "cell_type": "code",
   "execution_count": 150,
   "metadata": {},
   "outputs": [
    {
     "data": {
      "text/html": [
       "<div>\n",
       "<style scoped>\n",
       "    .dataframe tbody tr th:only-of-type {\n",
       "        vertical-align: middle;\n",
       "    }\n",
       "\n",
       "    .dataframe tbody tr th {\n",
       "        vertical-align: top;\n",
       "    }\n",
       "\n",
       "    .dataframe thead th {\n",
       "        text-align: right;\n",
       "    }\n",
       "</style>\n",
       "<table border=\"1\" class=\"dataframe\">\n",
       "  <thead>\n",
       "    <tr style=\"text-align: right;\">\n",
       "      <th></th>\n",
       "      <th>review</th>\n",
       "      <th>text</th>\n",
       "      <th>review_year</th>\n",
       "      <th>published_year</th>\n",
       "      <th>helpfulness</th>\n",
       "      <th>fiction_category</th>\n",
       "      <th>top_publisher</th>\n",
       "      <th>text_clean</th>\n",
       "      <th>text_complexity</th>\n",
       "    </tr>\n",
       "  </thead>\n",
       "  <tbody>\n",
       "    <tr>\n",
       "      <th>10054</th>\n",
       "      <td>4.0</td>\n",
       "      <td>Measle and the Dragodon is the sequel to the s...</td>\n",
       "      <td>2006</td>\n",
       "      <td>2005</td>\n",
       "      <td>1.000000</td>\n",
       "      <td>1</td>\n",
       "      <td>1</td>\n",
       "      <td>measle dragodon sequel successful measle wrath...</td>\n",
       "      <td>11.9</td>\n",
       "    </tr>\n",
       "    <tr>\n",
       "      <th>4711</th>\n",
       "      <td>5.0</td>\n",
       "      <td>My husband and I presented this Bible to our s...</td>\n",
       "      <td>2007</td>\n",
       "      <td>2004</td>\n",
       "      <td>0.888889</td>\n",
       "      <td>0</td>\n",
       "      <td>0</td>\n",
       "      <td>husband presented bible son gift prior enterin...</td>\n",
       "      <td>6.0</td>\n",
       "    </tr>\n",
       "    <tr>\n",
       "      <th>5154</th>\n",
       "      <td>5.0</td>\n",
       "      <td>Swush! Eragon and Saphira Gliding through the ...</td>\n",
       "      <td>2007</td>\n",
       "      <td>2005</td>\n",
       "      <td>0.333333</td>\n",
       "      <td>0</td>\n",
       "      <td>1</td>\n",
       "      <td>swush eragon saphira gliding air like bolt lig...</td>\n",
       "      <td>7.7</td>\n",
       "    </tr>\n",
       "    <tr>\n",
       "      <th>1619</th>\n",
       "      <td>5.0</td>\n",
       "      <td>This is a great book that I loved many years a...</td>\n",
       "      <td>2013</td>\n",
       "      <td>2009</td>\n",
       "      <td>1.000000</td>\n",
       "      <td>1</td>\n",
       "      <td>0</td>\n",
       "      <td>great book loved many year ago happy find avai...</td>\n",
       "      <td>6.4</td>\n",
       "    </tr>\n",
       "    <tr>\n",
       "      <th>15206</th>\n",
       "      <td>5.0</td>\n",
       "      <td>This was one of the wedding gifts my husband a...</td>\n",
       "      <td>2011</td>\n",
       "      <td>2011</td>\n",
       "      <td>1.000000</td>\n",
       "      <td>1</td>\n",
       "      <td>1</td>\n",
       "      <td>one wedding gift husband received already turn...</td>\n",
       "      <td>5.9</td>\n",
       "    </tr>\n",
       "  </tbody>\n",
       "</table>\n",
       "</div>"
      ],
      "text/plain": [
       "       review                                               text  review_year  \\\n",
       "10054     4.0  Measle and the Dragodon is the sequel to the s...         2006   \n",
       "4711      5.0  My husband and I presented this Bible to our s...         2007   \n",
       "5154      5.0  Swush! Eragon and Saphira Gliding through the ...         2007   \n",
       "1619      5.0  This is a great book that I loved many years a...         2013   \n",
       "15206     5.0  This was one of the wedding gifts my husband a...         2011   \n",
       "\n",
       "       published_year  helpfulness  fiction_category  top_publisher  \\\n",
       "10054            2005     1.000000                 1              1   \n",
       "4711             2004     0.888889                 0              0   \n",
       "5154             2005     0.333333                 0              1   \n",
       "1619             2009     1.000000                 1              0   \n",
       "15206            2011     1.000000                 1              1   \n",
       "\n",
       "                                              text_clean  text_complexity  \n",
       "10054  measle dragodon sequel successful measle wrath...             11.9  \n",
       "4711   husband presented bible son gift prior enterin...              6.0  \n",
       "5154   swush eragon saphira gliding air like bolt lig...              7.7  \n",
       "1619   great book loved many year ago happy find avai...              6.4  \n",
       "15206  one wedding gift husband received already turn...              5.9  "
      ]
     },
     "execution_count": 150,
     "metadata": {},
     "output_type": "execute_result"
    }
   ],
   "source": [
    "df_processed['text_complexity'] = df_processed['text'].apply(calculate_complexity)\n",
    "df_processed.sample(5, random_state=5)"
   ]
  },
  {
   "cell_type": "markdown",
   "metadata": {},
   "source": [
    "Text Column is removed after calculating complexity as it is not used any more"
   ]
  },
  {
   "cell_type": "code",
   "execution_count": 151,
   "metadata": {},
   "outputs": [],
   "source": [
    "df_processed = df_processed.drop(['text'],axis=1)"
   ]
  },
  {
   "cell_type": "code",
   "execution_count": 152,
   "metadata": {},
   "outputs": [
    {
     "name": "stderr",
     "output_type": "stream",
     "text": [
      "[nltk_data] Downloading package vader_lexicon to\n",
      "[nltk_data]     /home/arnaldochm/nltk_data...\n",
      "[nltk_data]   Package vader_lexicon is already up-to-date!\n"
     ]
    },
    {
     "data": {
      "text/plain": [
       "True"
      ]
     },
     "execution_count": 152,
     "metadata": {},
     "output_type": "execute_result"
    }
   ],
   "source": [
    "# Download Vader Lexicon\n",
    "nltk.download('vader_lexicon')"
   ]
  },
  {
   "cell_type": "code",
   "execution_count": 153,
   "metadata": {},
   "outputs": [],
   "source": [
    "vaderSentimentAnalyzer = SentimentIntensityAnalyzer()"
   ]
  },
  {
   "cell_type": "code",
   "execution_count": 156,
   "metadata": {},
   "outputs": [
    {
     "name": "stdout",
     "output_type": "stream",
     "text": [
      "goethe expressed fundamental truth nothing much philosophy footnote plato plotinus year later plato eliminated platonic dabbling politics quietly separated greek mysticism emerging fundamentalism christianity became somewhat bemusedly cult figure right brian hines deal subject hugely sympathatic way hope future something doe change time plato century close one timeless truth time well according plotinus father robin\n"
     ]
    },
    {
     "data": {
      "text/plain": [
       "{'neg': 0.0, 'neu': 0.838, 'pos': 0.162, 'compound': 0.8344}"
      ]
     },
     "execution_count": 156,
     "metadata": {},
     "output_type": "execute_result"
    }
   ],
   "source": [
    "print(df_processed.iloc[67][\"text_clean\"])\n",
    "vaderSentimentAnalyzer.polarity_scores(df_processed.iloc[67]['text_clean'])"
   ]
  },
  {
   "cell_type": "code",
   "execution_count": 159,
   "metadata": {},
   "outputs": [],
   "source": [
    "df_processed['scores']=df_processed['text_clean'].apply(lambda body: vaderSentimentAnalyzer.polarity_scores(str(body)))"
   ]
  },
  {
   "cell_type": "markdown",
   "metadata": {},
   "source": [
    "Compound represents the sentiment of the text. It goes from -1 to 1. As near as the value is to 1, the text is more positive, and as more negative the value is, the text sentiment is more negative. When compound is 0, the sentiment is neutral.\n",
    "\n",
    "A thresshold can be used to categorize the value as Postive, Negative or Neutral, bu the numerical value is used instead to keep all the variance of the variable."
   ]
  },
  {
   "cell_type": "code",
   "execution_count": 158,
   "metadata": {},
   "outputs": [
    {
     "data": {
      "text/html": [
       "<div>\n",
       "<style scoped>\n",
       "    .dataframe tbody tr th:only-of-type {\n",
       "        vertical-align: middle;\n",
       "    }\n",
       "\n",
       "    .dataframe tbody tr th {\n",
       "        vertical-align: top;\n",
       "    }\n",
       "\n",
       "    .dataframe thead th {\n",
       "        text-align: right;\n",
       "    }\n",
       "</style>\n",
       "<table border=\"1\" class=\"dataframe\">\n",
       "  <thead>\n",
       "    <tr style=\"text-align: right;\">\n",
       "      <th></th>\n",
       "      <th>review</th>\n",
       "      <th>review_year</th>\n",
       "      <th>published_year</th>\n",
       "      <th>helpfulness</th>\n",
       "      <th>fiction_category</th>\n",
       "      <th>top_publisher</th>\n",
       "      <th>text_clean</th>\n",
       "      <th>text_complexity</th>\n",
       "      <th>scores</th>\n",
       "      <th>compound_sentiment</th>\n",
       "    </tr>\n",
       "  </thead>\n",
       "  <tbody>\n",
       "    <tr>\n",
       "      <th>0</th>\n",
       "      <td>4.0</td>\n",
       "      <td>2007</td>\n",
       "      <td>2005</td>\n",
       "      <td>1.0</td>\n",
       "      <td>1</td>\n",
       "      <td>0</td>\n",
       "      <td>purchased book neice cruised week loved story ...</td>\n",
       "      <td>4.5</td>\n",
       "      <td>{'neg': 0.0, 'neu': 0.664, 'pos': 0.336, 'comp...</td>\n",
       "      <td>0.9623</td>\n",
       "    </tr>\n",
       "    <tr>\n",
       "      <th>1</th>\n",
       "      <td>5.0</td>\n",
       "      <td>2007</td>\n",
       "      <td>2005</td>\n",
       "      <td>1.0</td>\n",
       "      <td>0</td>\n",
       "      <td>1</td>\n",
       "      <td>really enjoyed book several front author terri...</td>\n",
       "      <td>9.0</td>\n",
       "      <td>{'neg': 0.12, 'neu': 0.58, 'pos': 0.3, 'compou...</td>\n",
       "      <td>0.9895</td>\n",
       "    </tr>\n",
       "    <tr>\n",
       "      <th>2</th>\n",
       "      <td>5.0</td>\n",
       "      <td>2012</td>\n",
       "      <td>2004</td>\n",
       "      <td>1.0</td>\n",
       "      <td>0</td>\n",
       "      <td>1</td>\n",
       "      <td>interesting informative spot good book read wa...</td>\n",
       "      <td>6.0</td>\n",
       "      <td>{'neg': 0.0, 'neu': 0.537, 'pos': 0.463, 'comp...</td>\n",
       "      <td>0.7096</td>\n",
       "    </tr>\n",
       "    <tr>\n",
       "      <th>3</th>\n",
       "      <td>5.0</td>\n",
       "      <td>2004</td>\n",
       "      <td>2004</td>\n",
       "      <td>1.0</td>\n",
       "      <td>0</td>\n",
       "      <td>0</td>\n",
       "      <td>must learn past history better appreciate toda...</td>\n",
       "      <td>6.7</td>\n",
       "      <td>{'neg': 0.091, 'neu': 0.566, 'pos': 0.343, 'co...</td>\n",
       "      <td>0.9595</td>\n",
       "    </tr>\n",
       "    <tr>\n",
       "      <th>4</th>\n",
       "      <td>2.0</td>\n",
       "      <td>2008</td>\n",
       "      <td>2008</td>\n",
       "      <td>1.0</td>\n",
       "      <td>0</td>\n",
       "      <td>0</td>\n",
       "      <td>began book high hope cover blurb sounded inter...</td>\n",
       "      <td>10.7</td>\n",
       "      <td>{'neg': 0.086, 'neu': 0.667, 'pos': 0.247, 'co...</td>\n",
       "      <td>0.9936</td>\n",
       "    </tr>\n",
       "  </tbody>\n",
       "</table>\n",
       "</div>"
      ],
      "text/plain": [
       "   review  review_year  published_year  helpfulness  fiction_category  \\\n",
       "0     4.0         2007            2005          1.0                 1   \n",
       "1     5.0         2007            2005          1.0                 0   \n",
       "2     5.0         2012            2004          1.0                 0   \n",
       "3     5.0         2004            2004          1.0                 0   \n",
       "4     2.0         2008            2008          1.0                 0   \n",
       "\n",
       "   top_publisher                                         text_clean  \\\n",
       "0              0  purchased book neice cruised week loved story ...   \n",
       "1              1  really enjoyed book several front author terri...   \n",
       "2              1  interesting informative spot good book read wa...   \n",
       "3              0  must learn past history better appreciate toda...   \n",
       "4              0  began book high hope cover blurb sounded inter...   \n",
       "\n",
       "   text_complexity                                             scores  \\\n",
       "0              4.5  {'neg': 0.0, 'neu': 0.664, 'pos': 0.336, 'comp...   \n",
       "1              9.0  {'neg': 0.12, 'neu': 0.58, 'pos': 0.3, 'compou...   \n",
       "2              6.0  {'neg': 0.0, 'neu': 0.537, 'pos': 0.463, 'comp...   \n",
       "3              6.7  {'neg': 0.091, 'neu': 0.566, 'pos': 0.343, 'co...   \n",
       "4             10.7  {'neg': 0.086, 'neu': 0.667, 'pos': 0.247, 'co...   \n",
       "\n",
       "   compound_sentiment  \n",
       "0              0.9623  \n",
       "1              0.9895  \n",
       "2              0.7096  \n",
       "3              0.9595  \n",
       "4              0.9936  "
      ]
     },
     "execution_count": 158,
     "metadata": {},
     "output_type": "execute_result"
    }
   ],
   "source": [
    "df_processed['compound_sentiment']=df_processed['scores'].apply(lambda score_dict:score_dict['compound'])\n"
   ]
  },
  {
   "cell_type": "code",
   "execution_count": 160,
   "metadata": {},
   "outputs": [
    {
     "data": {
      "text/html": [
       "<div>\n",
       "<style scoped>\n",
       "    .dataframe tbody tr th:only-of-type {\n",
       "        vertical-align: middle;\n",
       "    }\n",
       "\n",
       "    .dataframe tbody tr th {\n",
       "        vertical-align: top;\n",
       "    }\n",
       "\n",
       "    .dataframe thead th {\n",
       "        text-align: right;\n",
       "    }\n",
       "</style>\n",
       "<table border=\"1\" class=\"dataframe\">\n",
       "  <thead>\n",
       "    <tr style=\"text-align: right;\">\n",
       "      <th></th>\n",
       "      <th>review</th>\n",
       "      <th>review_year</th>\n",
       "      <th>published_year</th>\n",
       "      <th>helpfulness</th>\n",
       "      <th>fiction_category</th>\n",
       "      <th>top_publisher</th>\n",
       "      <th>text_clean</th>\n",
       "      <th>text_complexity</th>\n",
       "      <th>compound_sentiment</th>\n",
       "    </tr>\n",
       "  </thead>\n",
       "  <tbody>\n",
       "    <tr>\n",
       "      <th>10054</th>\n",
       "      <td>4.0</td>\n",
       "      <td>2006</td>\n",
       "      <td>2005</td>\n",
       "      <td>1.000000</td>\n",
       "      <td>1</td>\n",
       "      <td>1</td>\n",
       "      <td>measle dragodon sequel successful measle wrath...</td>\n",
       "      <td>11.9</td>\n",
       "      <td>-0.7430</td>\n",
       "    </tr>\n",
       "    <tr>\n",
       "      <th>4711</th>\n",
       "      <td>5.0</td>\n",
       "      <td>2007</td>\n",
       "      <td>2004</td>\n",
       "      <td>0.888889</td>\n",
       "      <td>0</td>\n",
       "      <td>0</td>\n",
       "      <td>husband presented bible son gift prior enterin...</td>\n",
       "      <td>6.0</td>\n",
       "      <td>0.9432</td>\n",
       "    </tr>\n",
       "    <tr>\n",
       "      <th>5154</th>\n",
       "      <td>5.0</td>\n",
       "      <td>2007</td>\n",
       "      <td>2005</td>\n",
       "      <td>0.333333</td>\n",
       "      <td>0</td>\n",
       "      <td>1</td>\n",
       "      <td>swush eragon saphira gliding air like bolt lig...</td>\n",
       "      <td>7.7</td>\n",
       "      <td>0.9531</td>\n",
       "    </tr>\n",
       "    <tr>\n",
       "      <th>1619</th>\n",
       "      <td>5.0</td>\n",
       "      <td>2013</td>\n",
       "      <td>2009</td>\n",
       "      <td>1.000000</td>\n",
       "      <td>1</td>\n",
       "      <td>0</td>\n",
       "      <td>great book loved many year ago happy find avai...</td>\n",
       "      <td>6.4</td>\n",
       "      <td>0.9136</td>\n",
       "    </tr>\n",
       "    <tr>\n",
       "      <th>15206</th>\n",
       "      <td>5.0</td>\n",
       "      <td>2011</td>\n",
       "      <td>2011</td>\n",
       "      <td>1.000000</td>\n",
       "      <td>1</td>\n",
       "      <td>1</td>\n",
       "      <td>one wedding gift husband received already turn...</td>\n",
       "      <td>5.9</td>\n",
       "      <td>0.9719</td>\n",
       "    </tr>\n",
       "  </tbody>\n",
       "</table>\n",
       "</div>"
      ],
      "text/plain": [
       "       review  review_year  published_year  helpfulness  fiction_category  \\\n",
       "10054     4.0         2006            2005     1.000000                 1   \n",
       "4711      5.0         2007            2004     0.888889                 0   \n",
       "5154      5.0         2007            2005     0.333333                 0   \n",
       "1619      5.0         2013            2009     1.000000                 1   \n",
       "15206     5.0         2011            2011     1.000000                 1   \n",
       "\n",
       "       top_publisher                                         text_clean  \\\n",
       "10054              1  measle dragodon sequel successful measle wrath...   \n",
       "4711               0  husband presented bible son gift prior enterin...   \n",
       "5154               1  swush eragon saphira gliding air like bolt lig...   \n",
       "1619               0  great book loved many year ago happy find avai...   \n",
       "15206              1  one wedding gift husband received already turn...   \n",
       "\n",
       "       text_complexity  compound_sentiment  \n",
       "10054             11.9             -0.7430  \n",
       "4711               6.0              0.9432  \n",
       "5154               7.7              0.9531  \n",
       "1619               6.4              0.9136  \n",
       "15206              5.9              0.9719  "
      ]
     },
     "execution_count": 160,
     "metadata": {},
     "output_type": "execute_result"
    }
   ],
   "source": [
    "df_processed = df_processed.drop(['scores'], axis=1)\n",
    "df_processed.sample(5, random_state=5)"
   ]
  },
  {
   "cell_type": "markdown",
   "metadata": {},
   "source": [
    "A Word Count is performed on the Clean Text to extract the quantity of words in the text as a new variable."
   ]
  },
  {
   "cell_type": "code",
   "execution_count": 161,
   "metadata": {},
   "outputs": [],
   "source": [
    "# Function to count words in a text column\n",
    "def count_words(text):\n",
    "    tokens = word_tokenize(text)  # Tokenize the text into words\n",
    "    return len(tokens)"
   ]
  },
  {
   "cell_type": "code",
   "execution_count": 162,
   "metadata": {},
   "outputs": [
    {
     "data": {
      "text/html": [
       "<div>\n",
       "<style scoped>\n",
       "    .dataframe tbody tr th:only-of-type {\n",
       "        vertical-align: middle;\n",
       "    }\n",
       "\n",
       "    .dataframe tbody tr th {\n",
       "        vertical-align: top;\n",
       "    }\n",
       "\n",
       "    .dataframe thead th {\n",
       "        text-align: right;\n",
       "    }\n",
       "</style>\n",
       "<table border=\"1\" class=\"dataframe\">\n",
       "  <thead>\n",
       "    <tr style=\"text-align: right;\">\n",
       "      <th></th>\n",
       "      <th>review</th>\n",
       "      <th>review_year</th>\n",
       "      <th>published_year</th>\n",
       "      <th>helpfulness</th>\n",
       "      <th>fiction_category</th>\n",
       "      <th>top_publisher</th>\n",
       "      <th>text_clean</th>\n",
       "      <th>text_complexity</th>\n",
       "      <th>compound_sentiment</th>\n",
       "      <th>word_count</th>\n",
       "    </tr>\n",
       "  </thead>\n",
       "  <tbody>\n",
       "    <tr>\n",
       "      <th>10054</th>\n",
       "      <td>4.0</td>\n",
       "      <td>2006</td>\n",
       "      <td>2005</td>\n",
       "      <td>1.000000</td>\n",
       "      <td>1</td>\n",
       "      <td>1</td>\n",
       "      <td>measle dragodon sequel successful measle wrath...</td>\n",
       "      <td>11.9</td>\n",
       "      <td>-0.7430</td>\n",
       "      <td>118</td>\n",
       "    </tr>\n",
       "    <tr>\n",
       "      <th>4711</th>\n",
       "      <td>5.0</td>\n",
       "      <td>2007</td>\n",
       "      <td>2004</td>\n",
       "      <td>0.888889</td>\n",
       "      <td>0</td>\n",
       "      <td>0</td>\n",
       "      <td>husband presented bible son gift prior enterin...</td>\n",
       "      <td>6.0</td>\n",
       "      <td>0.9432</td>\n",
       "      <td>44</td>\n",
       "    </tr>\n",
       "    <tr>\n",
       "      <th>5154</th>\n",
       "      <td>5.0</td>\n",
       "      <td>2007</td>\n",
       "      <td>2005</td>\n",
       "      <td>0.333333</td>\n",
       "      <td>0</td>\n",
       "      <td>1</td>\n",
       "      <td>swush eragon saphira gliding air like bolt lig...</td>\n",
       "      <td>7.7</td>\n",
       "      <td>0.9531</td>\n",
       "      <td>217</td>\n",
       "    </tr>\n",
       "    <tr>\n",
       "      <th>1619</th>\n",
       "      <td>5.0</td>\n",
       "      <td>2013</td>\n",
       "      <td>2009</td>\n",
       "      <td>1.000000</td>\n",
       "      <td>1</td>\n",
       "      <td>0</td>\n",
       "      <td>great book loved many year ago happy find avai...</td>\n",
       "      <td>6.4</td>\n",
       "      <td>0.9136</td>\n",
       "      <td>10</td>\n",
       "    </tr>\n",
       "    <tr>\n",
       "      <th>15206</th>\n",
       "      <td>5.0</td>\n",
       "      <td>2011</td>\n",
       "      <td>2011</td>\n",
       "      <td>1.000000</td>\n",
       "      <td>1</td>\n",
       "      <td>1</td>\n",
       "      <td>one wedding gift husband received already turn...</td>\n",
       "      <td>5.9</td>\n",
       "      <td>0.9719</td>\n",
       "      <td>32</td>\n",
       "    </tr>\n",
       "  </tbody>\n",
       "</table>\n",
       "</div>"
      ],
      "text/plain": [
       "       review  review_year  published_year  helpfulness  fiction_category  \\\n",
       "10054     4.0         2006            2005     1.000000                 1   \n",
       "4711      5.0         2007            2004     0.888889                 0   \n",
       "5154      5.0         2007            2005     0.333333                 0   \n",
       "1619      5.0         2013            2009     1.000000                 1   \n",
       "15206     5.0         2011            2011     1.000000                 1   \n",
       "\n",
       "       top_publisher                                         text_clean  \\\n",
       "10054              1  measle dragodon sequel successful measle wrath...   \n",
       "4711               0  husband presented bible son gift prior enterin...   \n",
       "5154               1  swush eragon saphira gliding air like bolt lig...   \n",
       "1619               0  great book loved many year ago happy find avai...   \n",
       "15206              1  one wedding gift husband received already turn...   \n",
       "\n",
       "       text_complexity  compound_sentiment  word_count  \n",
       "10054             11.9             -0.7430         118  \n",
       "4711               6.0              0.9432          44  \n",
       "5154               7.7              0.9531         217  \n",
       "1619               6.4              0.9136          10  \n",
       "15206              5.9              0.9719          32  "
      ]
     },
     "execution_count": 162,
     "metadata": {},
     "output_type": "execute_result"
    }
   ],
   "source": [
    "df_processed['word_count'] = df_processed['text_clean'].apply(count_words)\n",
    "df_processed.sample(5, random_state=5)"
   ]
  },
  {
   "cell_type": "markdown",
   "metadata": {},
   "source": [
    "## Outliers removal"
   ]
  },
  {
   "cell_type": "code",
   "execution_count": 164,
   "metadata": {},
   "outputs": [
    {
     "data": {
      "text/plain": [
       "count    15739.000000\n",
       "mean         7.305235\n",
       "std          3.720060\n",
       "min         -3.100000\n",
       "25%          5.000000\n",
       "50%          7.000000\n",
       "75%          9.200000\n",
       "max        232.200000\n",
       "Name: text_complexity, dtype: float64"
      ]
     },
     "execution_count": 164,
     "metadata": {},
     "output_type": "execute_result"
    }
   ],
   "source": [
    "df_processed['text_complexity'].describe().T"
   ]
  },
  {
   "cell_type": "code",
   "execution_count": 165,
   "metadata": {},
   "outputs": [
    {
     "data": {
      "image/png": "[encoded data removed]",
      "text/plain": [
       "<Figure size 800x600 with 1 Axes>"
      ]
     },
     "metadata": {},
     "output_type": "display_data"
    }
   ],
   "source": [
    "plt.figure(figsize=(8, 6))\n",
    "sns.boxplot(data=df_processed, x='text_complexity')\n",
    "plt.title(\"Box Plot of Text Complexity\")\n",
    "plt.xlabel(\"Text Complexity\")\n",
    "plt.show()"
   ]
  },
  {
   "cell_type": "code",
   "execution_count": 170,
   "metadata": {},
   "outputs": [
    {
     "name": "stdout",
     "output_type": "stream",
     "text": [
      "Outliers for Text Complexity grather than are removed as they just represent the 0.013% of the Dataset\n"
     ]
    },
    {
     "data": {
      "text/plain": [
       "(15737, 10)"
      ]
     },
     "execution_count": 170,
     "metadata": {},
     "output_type": "execute_result"
    }
   ],
   "source": [
    "text_complexity_outliers = df_processed[df_processed['text_complexity'] > 35].value_counts().sum()\n",
    "\n",
    "percentage = 100*text_complexity_outliers/df_processed.shape[0]\n",
    "print(f'Outliers for Text Complexity grather 35 than are removed as they just represent the {percentage:.3f}% of the Dataset')\n",
    "df_processed = df_processed[df_processed['text_complexity'] <= 35]\n",
    "df_processed.shape"
   ]
  },
  {
   "cell_type": "code",
   "execution_count": 175,
   "metadata": {},
   "outputs": [
    {
     "data": {
      "image/png": "[encoded data removed]",
      "text/plain": [
       "<Figure size 1000x600 with 1 Axes>"
      ]
     },
     "metadata": {},
     "output_type": "display_data"
    }
   ],
   "source": [
    "plt.figure(figsize=(10, 6))\n",
    "sns.boxplot(data=df_processed, x='text_complexity')\n",
    "plt.title(\"Box Plot of Text Complexity\")\n",
    "plt.xlabel(\"Text Complexity\")\n",
    "plt.show()"
   ]
  },
  {
   "cell_type": "markdown",
   "metadata": {},
   "source": [
    "Outliers Removal for word count"
   ]
  },
  {
   "cell_type": "code",
   "execution_count": 176,
   "metadata": {},
   "outputs": [
    {
     "data": {
      "image/png": "[encoded data removed]",
      "text/plain": [
       "<Figure size 1000x600 with 1 Axes>"
      ]
     },
     "metadata": {},
     "output_type": "display_data"
    }
   ],
   "source": [
    "plt.figure(figsize=(10, 6))\n",
    "sns.boxplot(data=df_processed, x='word_count')\n",
    "plt.title(\"Box Plot of Text Complexity\")\n",
    "plt.xlabel(\"Text Complexity\")\n",
    "plt.show()"
   ]
  },
  {
   "cell_type": "code",
   "execution_count": 177,
   "metadata": {},
   "outputs": [
    {
     "data": {
      "text/plain": [
       "count    15737.000000\n",
       "mean        67.471246\n",
       "std         89.432953\n",
       "min          1.000000\n",
       "25%         18.000000\n",
       "50%         37.000000\n",
       "75%         81.000000\n",
       "max       2725.000000\n",
       "Name: word_count, dtype: float64"
      ]
     },
     "execution_count": 177,
     "metadata": {},
     "output_type": "execute_result"
    }
   ],
   "source": [
    "df_processed['word_count'].describe().T"
   ]
  },
  {
   "cell_type": "code",
   "execution_count": 179,
   "metadata": {},
   "outputs": [
    {
     "name": "stdout",
     "output_type": "stream",
     "text": [
      "Outliers for Word Count grather than 1500 are removed as they just represent the 0.000% of the Dataset\n"
     ]
    },
    {
     "data": {
      "text/plain": [
       "(15735, 10)"
      ]
     },
     "execution_count": 179,
     "metadata": {},
     "output_type": "execute_result"
    }
   ],
   "source": [
    "text_word_count_outliers_count = df_processed[df_processed['word_count'] > 1500].value_counts().sum()\n",
    "percentage = 100*text_word_count_outliers_count/df_processed.shape[0]\n",
    "print(f'Outliers for Word Count grather than 1500 are removed as they just represent the {percentage:.3f}% of the Dataset')\n",
    "\n",
    "df_processed = df_processed[df_processed['word_count'] <= 1500]\n",
    "df_processed.shape"
   ]
  },
  {
   "cell_type": "markdown",
   "metadata": {},
   "source": [
    "## Processed Dataset saving"
   ]
  },
  {
   "cell_type": "code",
   "execution_count": 181,
   "metadata": {},
   "outputs": [],
   "source": [
    "df_processed.to_csv('../data/processed/df_processed.csv')"
   ]
  }
 ],
 "metadata": {
  "kernelspec": {
   "display_name": ".venv",
   "language": "python",
   "name": "python3"
  },
  "language_info": {
   "codemirror_mode": {
    "name": "ipython",
    "version": 3
   },
   "file_extension": ".py",
   "mimetype": "text/x-python",
   "name": "python",
   "nbconvert_exporter": "python",
   "pygments_lexer": "ipython3",
   "version": "3.8.10"
  }
 },
 "nbformat": 4,
 "nbformat_minor": 2
}
