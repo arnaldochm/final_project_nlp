{
  "cells": [
    {
      "cell_type": "code",
      "execution_count": 37,
      "metadata": {
        "id": "9ZZpOHZExcMw"
      },
      "outputs": [],
      "source": [
        "# Step 0. Load libraries and custom modules\n",
        "import pandas as pd\n",
        "import numpy as np\n",
        "import matplotlib.pyplot as plt\n",
        "import seaborn as sns\n",
        "import os\n",
        "import nltk\n",
        "from nltk.corpus import stopwords\n",
        "from wordcloud import WordCloud\n",
        "import re\n",
        "from dateutil.parser import parse\n",
        "from datetime import datetime\n",
        "from tqdm import tqdm\n",
        "# ------------  PREPROCESING -------------\n",
        "from sklearn.model_selection import train_test_split\n",
        "from sklearn.decomposition import PCA\n",
        "from sklearn.decomposition import FastICA\n",
        "from sklearn.preprocessing import OneHotEncoder\n",
        "from sklearn.preprocessing import StandardScaler\n",
        "from sklearn.feature_extraction.text import TfidfVectorizer\n",
        "from sklearn.feature_extraction.text import CountVectorizer\n",
        "from nltk import download\n",
        "from nltk.corpus import stopwords\n",
        "from nltk.stem import WordNetLemmatizer\n",
        "from nltk.sentiment.vader import SentimentIntensityAnalyzer\n",
        "#-------------- TRANSFORMERS --------------\n",
        "import transformers\n",
        "from transformers.pipelines import PIPELINE_REGISTRY\n",
        "from transformers import pipeline\n",
        "import evaluate\n",
        "from evaluate import load\n",
        "from transformers import Conversation\n",
        "transformers.logging.set_verbosity_error()"
      ]
    },
    {
      "cell_type": "code",
      "execution_count": 2,
      "metadata": {
        "colab": {
          "base_uri": "https://localhost:8080/"
        },
        "id": "Rx0-j5xbxcMx",
        "outputId": "8fde96c4-b40b-4503-91f2-83b620613f84"
      },
      "outputs": [
        {
          "name": "stdout",
          "output_type": "stream",
          "text": [
            "<class 'pandas.core.frame.DataFrame'>\n",
            "RangeIndex: 339620 entries, 0 to 339619\n",
            "Data columns (total 3 columns):\n",
            " #   Column      Non-Null Count   Dtype \n",
            "---  ------      --------------   ----- \n",
            " 0   Unnamed: 0  339620 non-null  int64 \n",
            " 1   num_row     339620 non-null  int64 \n",
            " 2   text        339620 non-null  object\n",
            "dtypes: int64(2), object(1)\n",
            "memory usage: 7.8+ MB\n"
          ]
        }
      ],
      "source": [
        "df_reduced = pd.read_csv('../data/processed/df_reduced.csv')\n",
        "df_reduced.info()"
      ]
    },
    {
      "cell_type": "code",
      "execution_count": 3,
      "metadata": {
        "id": "hI-V-oHmxcMy"
      },
      "outputs": [],
      "source": [
        "df_reduced = df_reduced.drop(['Unnamed: 0'], axis= 1)"
      ]
    },
    {
      "cell_type": "code",
      "execution_count": 4,
      "metadata": {
        "colab": {
          "base_uri": "https://localhost:8080/",
          "height": 363
        },
        "id": "AJnhviSgxcMy",
        "outputId": "642af037-c9b0-43f7-f053-e1bd64234f83"
      },
      "outputs": [
        {
          "data": {
            "text/html": [
              "<div>\n",
              "<style scoped>\n",
              "    .dataframe tbody tr th:only-of-type {\n",
              "        vertical-align: middle;\n",
              "    }\n",
              "\n",
              "    .dataframe tbody tr th {\n",
              "        vertical-align: top;\n",
              "    }\n",
              "\n",
              "    .dataframe thead th {\n",
              "        text-align: right;\n",
              "    }\n",
              "</style>\n",
              "<table border=\"1\" class=\"dataframe\">\n",
              "  <thead>\n",
              "    <tr style=\"text-align: right;\">\n",
              "      <th></th>\n",
              "      <th>num_row</th>\n",
              "      <th>text</th>\n",
              "    </tr>\n",
              "  </thead>\n",
              "  <tbody>\n",
              "    <tr>\n",
              "      <th>262937</th>\n",
              "      <td>262937</td>\n",
              "      <td>I read this book for my Junior year in High Sc...</td>\n",
              "    </tr>\n",
              "    <tr>\n",
              "      <th>56674</th>\n",
              "      <td>56674</td>\n",
              "      <td>My advice to you is - read the entire thing fi...</td>\n",
              "    </tr>\n",
              "    <tr>\n",
              "      <th>270799</th>\n",
              "      <td>270799</td>\n",
              "      <td>Really good book. It read like a bestseller (q...</td>\n",
              "    </tr>\n",
              "    <tr>\n",
              "      <th>234366</th>\n",
              "      <td>234366</td>\n",
              "      <td>This was my first Crichton book. I have to say...</td>\n",
              "    </tr>\n",
              "    <tr>\n",
              "      <th>21568</th>\n",
              "      <td>21568</td>\n",
              "      <td>I find it extremely impressive that this was w...</td>\n",
              "    </tr>\n",
              "    <tr>\n",
              "      <th>274740</th>\n",
              "      <td>274740</td>\n",
              "      <td>This is my second book of McCullough and I jus...</td>\n",
              "    </tr>\n",
              "    <tr>\n",
              "      <th>221469</th>\n",
              "      <td>221469</td>\n",
              "      <td>does not disappoint! beautifully crafted, coll...</td>\n",
              "    </tr>\n",
              "    <tr>\n",
              "      <th>219295</th>\n",
              "      <td>219295</td>\n",
              "      <td>I enjoyed reading The Autobiography of Benjami...</td>\n",
              "    </tr>\n",
              "    <tr>\n",
              "      <th>221198</th>\n",
              "      <td>221198</td>\n",
              "      <td>Tolkien's masterwork is not only the best fant...</td>\n",
              "    </tr>\n",
              "    <tr>\n",
              "      <th>303860</th>\n",
              "      <td>303860</td>\n",
              "      <td>This Puffin Classics edition of Alexandre Duma...</td>\n",
              "    </tr>\n",
              "  </tbody>\n",
              "</table>\n",
              "</div>"
            ],
            "text/plain": [
              "        num_row                                               text\n",
              "262937   262937  I read this book for my Junior year in High Sc...\n",
              "56674     56674  My advice to you is - read the entire thing fi...\n",
              "270799   270799  Really good book. It read like a bestseller (q...\n",
              "234366   234366  This was my first Crichton book. I have to say...\n",
              "21568     21568  I find it extremely impressive that this was w...\n",
              "274740   274740  This is my second book of McCullough and I jus...\n",
              "221469   221469  does not disappoint! beautifully crafted, coll...\n",
              "219295   219295  I enjoyed reading The Autobiography of Benjami...\n",
              "221198   221198  Tolkien's masterwork is not only the best fant...\n",
              "303860   303860  This Puffin Classics edition of Alexandre Duma..."
            ]
          },
          "execution_count": 4,
          "metadata": {},
          "output_type": "execute_result"
        }
      ],
      "source": [
        "df_reduced.sample(10)"
      ]
    },
    {
      "cell_type": "code",
      "execution_count": 5,
      "metadata": {
        "colab": {
          "base_uri": "https://localhost:8080/"
        },
        "id": "9QLcrOVQCSvV",
        "outputId": "56ad309f-5ba2-4ed4-9720-2c7fafdebe70"
      },
      "outputs": [
        {
          "name": "stderr",
          "output_type": "stream",
          "text": [
            "[nltk_data] Downloading package stopwords to\n",
            "[nltk_data]     /home/arnaldochm/nltk_data...\n",
            "[nltk_data]   Package stopwords is already up-to-date!\n"
          ]
        },
        {
          "data": {
            "text/plain": [
              "True"
            ]
          },
          "execution_count": 5,
          "metadata": {},
          "output_type": "execute_result"
        }
      ],
      "source": [
        "nltk.download('stopwords')"
      ]
    },
    {
      "cell_type": "code",
      "execution_count": 6,
      "metadata": {
        "id": "TnFxeo9YCd1n"
      },
      "outputs": [],
      "source": [
        "def clean_stopwords(text: str,stop_dict: dict)->str:\n",
        "    if text is not None:\n",
        "        words = text.split()\n",
        "        words_clean = []\n",
        "        for word in words:\n",
        "            if word not in stop_dict:\n",
        "                words_clean.append(word)\n",
        "        result = ' '.join(words_clean)\n",
        "    else:\n",
        "        result = None\n",
        "    return result"
      ]
    },
    {
      "cell_type": "code",
      "execution_count": 7,
      "metadata": {
        "id": "OaZQCL1hCHjS"
      },
      "outputs": [],
      "source": [
        "# 3.10 Process text to extract stopwords\n",
        "df_reduced['text_clean'] = df_reduced['text'].str.lower()\n",
        "stop_dict = stopwords.words('english')\n",
        "df_reduced['text_clean'] = df_reduced['text_clean'].apply(lambda x: clean_stopwords(x, stop_dict = stop_dict))"
      ]
    },
    {
      "cell_type": "code",
      "execution_count": 8,
      "metadata": {
        "id": "Z8J38661CzTx"
      },
      "outputs": [],
      "source": [
        "# 3.12 Extract special characters\n",
        "df_reduced['text_clean'] = df_reduced['text_clean'].str.replace(r'''[!.,():\\-%$/'\"‘]''', '', regex=True)"
      ]
    },
    {
      "cell_type": "code",
      "execution_count": 9,
      "metadata": {
        "id": "rObXY_twC7C3"
      },
      "outputs": [],
      "source": [
        "# 3.13 Extract numbers\n",
        "df_reduced['text_clean'] = df_reduced['text_clean'].str.replace(r'[\\d]+', '', regex=True)"
      ]
    },
    {
      "cell_type": "code",
      "execution_count": 10,
      "metadata": {
        "id": "UDVhJZmmJWPM"
      },
      "outputs": [],
      "source": [
        "df_reduced = df_reduced.drop(['text'],axis=1)"
      ]
    },
    {
      "cell_type": "code",
      "execution_count": 36,
      "metadata": {
        "colab": {
          "base_uri": "https://localhost:8080/",
          "height": 363
        },
        "id": "lvYNEGJPDjLI",
        "outputId": "b9b25394-1a28-4218-c34f-37341d001f42"
      },
      "outputs": [
        {
          "data": {
            "text/html": [
              "<div>\n",
              "<style scoped>\n",
              "    .dataframe tbody tr th:only-of-type {\n",
              "        vertical-align: middle;\n",
              "    }\n",
              "\n",
              "    .dataframe tbody tr th {\n",
              "        vertical-align: top;\n",
              "    }\n",
              "\n",
              "    .dataframe thead th {\n",
              "        text-align: right;\n",
              "    }\n",
              "</style>\n",
              "<table border=\"1\" class=\"dataframe\">\n",
              "  <thead>\n",
              "    <tr style=\"text-align: right;\">\n",
              "      <th></th>\n",
              "      <th>num_row</th>\n",
              "      <th>text_clean</th>\n",
              "    </tr>\n",
              "  </thead>\n",
              "  <tbody>\n",
              "    <tr>\n",
              "      <th>0</th>\n",
              "      <td>0</td>\n",
              "      <td>matter many times read book impossible get tir...</td>\n",
              "    </tr>\n",
              "    <tr>\n",
              "      <th>1</th>\n",
              "      <td>1</td>\n",
              "      <td>avid scifi fan ive read many books genere foun...</td>\n",
              "    </tr>\n",
              "    <tr>\n",
              "      <th>2</th>\n",
              "      <td>2</td>\n",
              "      <td>foundation truly one greatest science fiction ...</td>\n",
              "    </tr>\n",
              "    <tr>\n",
              "      <th>3</th>\n",
              "      <td>3</td>\n",
              "      <td>spectacular universe created issac asimov foun...</td>\n",
              "    </tr>\n",
              "    <tr>\n",
              "      <th>4</th>\n",
              "      <td>4</td>\n",
              "      <td>think book read every fanatic science fictioni...</td>\n",
              "    </tr>\n",
              "    <tr>\n",
              "      <th>5</th>\n",
              "      <td>5</td>\n",
              "      <td>think isaac must robot human could possibly am...</td>\n",
              "    </tr>\n",
              "    <tr>\n",
              "      <th>6</th>\n",
              "      <td>6</td>\n",
              "      <td>foundation series still classic must read ever...</td>\n",
              "    </tr>\n",
              "    <tr>\n",
              "      <th>7</th>\n",
              "      <td>7</td>\n",
              "      <td>foundation novels great pleasureto read surpri...</td>\n",
              "    </tr>\n",
              "    <tr>\n",
              "      <th>8</th>\n",
              "      <td>8</td>\n",
              "      <td>foundation nut given  issac asimovs foundatino...</td>\n",
              "    </tr>\n",
              "    <tr>\n",
              "      <th>9</th>\n",
              "      <td>9</td>\n",
              "      <td>one asimovs early masterpieces however would r...</td>\n",
              "    </tr>\n",
              "  </tbody>\n",
              "</table>\n",
              "</div>"
            ],
            "text/plain": [
              "   num_row                                         text_clean\n",
              "0        0  matter many times read book impossible get tir...\n",
              "1        1  avid scifi fan ive read many books genere foun...\n",
              "2        2  foundation truly one greatest science fiction ...\n",
              "3        3  spectacular universe created issac asimov foun...\n",
              "4        4  think book read every fanatic science fictioni...\n",
              "5        5  think isaac must robot human could possibly am...\n",
              "6        6  foundation series still classic must read ever...\n",
              "7        7  foundation novels great pleasureto read surpri...\n",
              "8        8  foundation nut given  issac asimovs foundatino...\n",
              "9        9  one asimovs early masterpieces however would r..."
            ]
          },
          "execution_count": 36,
          "metadata": {},
          "output_type": "execute_result"
        }
      ],
      "source": [
        "# 3.14 See the results\n",
        "df_reduced.head(10)"
      ]
    },
    {
      "cell_type": "code",
      "execution_count": 29,
      "metadata": {},
      "outputs": [
        {
          "name": "stderr",
          "output_type": "stream",
          "text": [
            "[nltk_data] Downloading package vader_lexicon to\n",
            "[nltk_data]     /home/arnaldochm/nltk_data...\n"
          ]
        },
        {
          "data": {
            "text/plain": [
              "True"
            ]
          },
          "execution_count": 29,
          "metadata": {},
          "output_type": "execute_result"
        }
      ],
      "source": [
        "nltk.download('vader_lexicon')"
      ]
    },
    {
      "cell_type": "code",
      "execution_count": 40,
      "metadata": {},
      "outputs": [],
      "source": [
        "vaderSentimentAnalyzer = SentimentIntensityAnalyzer()"
      ]
    },
    {
      "cell_type": "code",
      "execution_count": 41,
      "metadata": {},
      "outputs": [
        {
          "data": {
            "text/plain": [
              "{'neg': 0.057, 'neu': 0.657, 'pos': 0.286, 'compound': 0.9953}"
            ]
          },
          "execution_count": 41,
          "metadata": {},
          "output_type": "execute_result"
        }
      ],
      "source": [
        "vaderSentimentAnalyzer.polarity_scores(df_reduced.iloc[67]['text_clean'])"
      ]
    },
    {
      "cell_type": "code",
      "execution_count": 42,
      "metadata": {},
      "outputs": [
        {
          "data": {
            "text/html": [
              "<div>\n",
              "<style scoped>\n",
              "    .dataframe tbody tr th:only-of-type {\n",
              "        vertical-align: middle;\n",
              "    }\n",
              "\n",
              "    .dataframe tbody tr th {\n",
              "        vertical-align: top;\n",
              "    }\n",
              "\n",
              "    .dataframe thead th {\n",
              "        text-align: right;\n",
              "    }\n",
              "</style>\n",
              "<table border=\"1\" class=\"dataframe\">\n",
              "  <thead>\n",
              "    <tr style=\"text-align: right;\">\n",
              "      <th></th>\n",
              "      <th>num_row</th>\n",
              "      <th>text_clean</th>\n",
              "      <th>scores</th>\n",
              "    </tr>\n",
              "  </thead>\n",
              "  <tbody>\n",
              "    <tr>\n",
              "      <th>0</th>\n",
              "      <td>0</td>\n",
              "      <td>matter many times read book impossible get tir...</td>\n",
              "      <td>{'neg': 0.075, 'neu': 0.517, 'pos': 0.408, 'co...</td>\n",
              "    </tr>\n",
              "    <tr>\n",
              "      <th>1</th>\n",
              "      <td>1</td>\n",
              "      <td>avid scifi fan ive read many books genere foun...</td>\n",
              "      <td>{'neg': 0.066, 'neu': 0.471, 'pos': 0.464, 'co...</td>\n",
              "    </tr>\n",
              "    <tr>\n",
              "      <th>2</th>\n",
              "      <td>2</td>\n",
              "      <td>foundation truly one greatest science fiction ...</td>\n",
              "      <td>{'neg': 0.0, 'neu': 0.478, 'pos': 0.522, 'comp...</td>\n",
              "    </tr>\n",
              "    <tr>\n",
              "      <th>3</th>\n",
              "      <td>3</td>\n",
              "      <td>spectacular universe created issac asimov foun...</td>\n",
              "      <td>{'neg': 0.094, 'neu': 0.661, 'pos': 0.245, 'co...</td>\n",
              "    </tr>\n",
              "    <tr>\n",
              "      <th>4</th>\n",
              "      <td>4</td>\n",
              "      <td>think book read every fanatic science fictioni...</td>\n",
              "      <td>{'neg': 0.0, 'neu': 1.0, 'pos': 0.0, 'compound...</td>\n",
              "    </tr>\n",
              "  </tbody>\n",
              "</table>\n",
              "</div>"
            ],
            "text/plain": [
              "   num_row                                         text_clean  \\\n",
              "0        0  matter many times read book impossible get tir...   \n",
              "1        1  avid scifi fan ive read many books genere foun...   \n",
              "2        2  foundation truly one greatest science fiction ...   \n",
              "3        3  spectacular universe created issac asimov foun...   \n",
              "4        4  think book read every fanatic science fictioni...   \n",
              "\n",
              "                                              scores  \n",
              "0  {'neg': 0.075, 'neu': 0.517, 'pos': 0.408, 'co...  \n",
              "1  {'neg': 0.066, 'neu': 0.471, 'pos': 0.464, 'co...  \n",
              "2  {'neg': 0.0, 'neu': 0.478, 'pos': 0.522, 'comp...  \n",
              "3  {'neg': 0.094, 'neu': 0.661, 'pos': 0.245, 'co...  \n",
              "4  {'neg': 0.0, 'neu': 1.0, 'pos': 0.0, 'compound...  "
            ]
          },
          "execution_count": 42,
          "metadata": {},
          "output_type": "execute_result"
        }
      ],
      "source": [
        "df_reduced['scores']=df_reduced['text_clean'].apply(lambda body: vaderSentimentAnalyzer.polarity_scores(str(body)))\n",
        "df_reduced.head()"
      ]
    },
    {
      "cell_type": "code",
      "execution_count": 43,
      "metadata": {},
      "outputs": [
        {
          "data": {
            "text/html": [
              "<div>\n",
              "<style scoped>\n",
              "    .dataframe tbody tr th:only-of-type {\n",
              "        vertical-align: middle;\n",
              "    }\n",
              "\n",
              "    .dataframe tbody tr th {\n",
              "        vertical-align: top;\n",
              "    }\n",
              "\n",
              "    .dataframe thead th {\n",
              "        text-align: right;\n",
              "    }\n",
              "</style>\n",
              "<table border=\"1\" class=\"dataframe\">\n",
              "  <thead>\n",
              "    <tr style=\"text-align: right;\">\n",
              "      <th></th>\n",
              "      <th>num_row</th>\n",
              "      <th>text_clean</th>\n",
              "      <th>scores</th>\n",
              "      <th>compound</th>\n",
              "      <th>pos</th>\n",
              "      <th>neg</th>\n",
              "    </tr>\n",
              "  </thead>\n",
              "  <tbody>\n",
              "    <tr>\n",
              "      <th>0</th>\n",
              "      <td>0</td>\n",
              "      <td>matter many times read book impossible get tir...</td>\n",
              "      <td>{'neg': 0.075, 'neu': 0.517, 'pos': 0.408, 'co...</td>\n",
              "      <td>0.9169</td>\n",
              "      <td>0.408</td>\n",
              "      <td>0.075</td>\n",
              "    </tr>\n",
              "    <tr>\n",
              "      <th>1</th>\n",
              "      <td>1</td>\n",
              "      <td>avid scifi fan ive read many books genere foun...</td>\n",
              "      <td>{'neg': 0.066, 'neu': 0.471, 'pos': 0.464, 'co...</td>\n",
              "      <td>0.9865</td>\n",
              "      <td>0.464</td>\n",
              "      <td>0.066</td>\n",
              "    </tr>\n",
              "    <tr>\n",
              "      <th>2</th>\n",
              "      <td>2</td>\n",
              "      <td>foundation truly one greatest science fiction ...</td>\n",
              "      <td>{'neg': 0.0, 'neu': 0.478, 'pos': 0.522, 'comp...</td>\n",
              "      <td>0.9781</td>\n",
              "      <td>0.522</td>\n",
              "      <td>0.000</td>\n",
              "    </tr>\n",
              "    <tr>\n",
              "      <th>3</th>\n",
              "      <td>3</td>\n",
              "      <td>spectacular universe created issac asimov foun...</td>\n",
              "      <td>{'neg': 0.094, 'neu': 0.661, 'pos': 0.245, 'co...</td>\n",
              "      <td>0.6705</td>\n",
              "      <td>0.245</td>\n",
              "      <td>0.094</td>\n",
              "    </tr>\n",
              "    <tr>\n",
              "      <th>4</th>\n",
              "      <td>4</td>\n",
              "      <td>think book read every fanatic science fictioni...</td>\n",
              "      <td>{'neg': 0.0, 'neu': 1.0, 'pos': 0.0, 'compound...</td>\n",
              "      <td>0.0000</td>\n",
              "      <td>0.000</td>\n",
              "      <td>0.000</td>\n",
              "    </tr>\n",
              "  </tbody>\n",
              "</table>\n",
              "</div>"
            ],
            "text/plain": [
              "   num_row                                         text_clean  \\\n",
              "0        0  matter many times read book impossible get tir...   \n",
              "1        1  avid scifi fan ive read many books genere foun...   \n",
              "2        2  foundation truly one greatest science fiction ...   \n",
              "3        3  spectacular universe created issac asimov foun...   \n",
              "4        4  think book read every fanatic science fictioni...   \n",
              "\n",
              "                                              scores  compound    pos    neg  \n",
              "0  {'neg': 0.075, 'neu': 0.517, 'pos': 0.408, 'co...    0.9169  0.408  0.075  \n",
              "1  {'neg': 0.066, 'neu': 0.471, 'pos': 0.464, 'co...    0.9865  0.464  0.066  \n",
              "2  {'neg': 0.0, 'neu': 0.478, 'pos': 0.522, 'comp...    0.9781  0.522  0.000  \n",
              "3  {'neg': 0.094, 'neu': 0.661, 'pos': 0.245, 'co...    0.6705  0.245  0.094  \n",
              "4  {'neg': 0.0, 'neu': 1.0, 'pos': 0.0, 'compound...    0.0000  0.000  0.000  "
            ]
          },
          "execution_count": 43,
          "metadata": {},
          "output_type": "execute_result"
        }
      ],
      "source": [
        "df_reduced['compound']=df_reduced['scores'].apply(lambda score_dict:score_dict['compound'])\n",
        "df_reduced.head()\n",
        "df_reduced['pos']=df_reduced['scores'].apply(lambda pos_dict:pos_dict['pos'])\n",
        "df_reduced.head()\n",
        "df_reduced['neg']=df_reduced['scores'].apply(lambda neg_dict:neg_dict['neg'])\n",
        "df_reduced.head()"
      ]
    },
    {
      "cell_type": "code",
      "execution_count": 46,
      "metadata": {},
      "outputs": [],
      "source": [
        "df_reduced['sentiment']=''\n",
        "df_reduced.loc[df_reduced.compound>0,'sentiment']='POS'\n",
        "df_reduced.loc[df_reduced.compound==0,'sentiment']='NEUTRAL'\n",
        "df_reduced.loc[df_reduced.compound<0,'sentiment']='NEG'"
      ]
    },
    {
      "cell_type": "code",
      "execution_count": 49,
      "metadata": {},
      "outputs": [
        {
          "data": {
            "text/html": [
              "<div>\n",
              "<style scoped>\n",
              "    .dataframe tbody tr th:only-of-type {\n",
              "        vertical-align: middle;\n",
              "    }\n",
              "\n",
              "    .dataframe tbody tr th {\n",
              "        vertical-align: top;\n",
              "    }\n",
              "\n",
              "    .dataframe thead th {\n",
              "        text-align: right;\n",
              "    }\n",
              "</style>\n",
              "<table border=\"1\" class=\"dataframe\">\n",
              "  <thead>\n",
              "    <tr style=\"text-align: right;\">\n",
              "      <th></th>\n",
              "      <th>num_row</th>\n",
              "      <th>text_clean</th>\n",
              "      <th>scores</th>\n",
              "      <th>compound</th>\n",
              "      <th>pos</th>\n",
              "      <th>neg</th>\n",
              "      <th>sentiment</th>\n",
              "    </tr>\n",
              "  </thead>\n",
              "  <tbody>\n",
              "    <tr>\n",
              "      <th>136507</th>\n",
              "      <td>136507</td>\n",
              "      <td>informative moving historical document itself ...</td>\n",
              "      <td>{'neg': 0.0, 'neu': 1.0, 'pos': 0.0, 'compound...</td>\n",
              "      <td>0.0000</td>\n",
              "      <td>0.000</td>\n",
              "      <td>0.000</td>\n",
              "      <td>NEUTRAL</td>\n",
              "    </tr>\n",
              "    <tr>\n",
              "      <th>64593</th>\n",
              "      <td>64593</td>\n",
              "      <td>hatchet story th years old boy named brian rob...</td>\n",
              "      <td>{'neg': 0.144, 'neu': 0.685, 'pos': 0.171, 'co...</td>\n",
              "      <td>0.3612</td>\n",
              "      <td>0.171</td>\n",
              "      <td>0.144</td>\n",
              "      <td>POS</td>\n",
              "    </tr>\n",
              "    <tr>\n",
              "      <th>32134</th>\n",
              "      <td>32134</td>\n",
              "      <td>read book coollege always liked it author real...</td>\n",
              "      <td>{'neg': 0.146, 'neu': 0.703, 'pos': 0.151, 'co...</td>\n",
              "      <td>0.0258</td>\n",
              "      <td>0.151</td>\n",
              "      <td>0.146</td>\n",
              "      <td>POS</td>\n",
              "    </tr>\n",
              "    <tr>\n",
              "      <th>335126</th>\n",
              "      <td>335126</td>\n",
              "      <td>william golding novel ive read far best uses o...</td>\n",
              "      <td>{'neg': 0.102, 'neu': 0.652, 'pos': 0.246, 'co...</td>\n",
              "      <td>0.9686</td>\n",
              "      <td>0.246</td>\n",
              "      <td>0.102</td>\n",
              "      <td>POS</td>\n",
              "    </tr>\n",
              "    <tr>\n",
              "      <th>112875</th>\n",
              "      <td>112875</td>\n",
              "      <td>gothic horror man made victorian england laugh...</td>\n",
              "      <td>{'neg': 0.166, 'neu': 0.512, 'pos': 0.322, 'co...</td>\n",
              "      <td>0.9774</td>\n",
              "      <td>0.322</td>\n",
              "      <td>0.166</td>\n",
              "      <td>POS</td>\n",
              "    </tr>\n",
              "    <tr>\n",
              "      <th>192423</th>\n",
              "      <td>192423</td>\n",
              "      <td>mother gave copy teens version changed life a...</td>\n",
              "      <td>{'neg': 0.028, 'neu': 0.815, 'pos': 0.157, 'co...</td>\n",
              "      <td>0.8545</td>\n",
              "      <td>0.157</td>\n",
              "      <td>0.028</td>\n",
              "      <td>POS</td>\n",
              "    </tr>\n",
              "    <tr>\n",
              "      <th>326975</th>\n",
              "      <td>326975</td>\n",
              "      <td>price concerned reading would poor however abs...</td>\n",
              "      <td>{'neg': 0.178, 'neu': 0.575, 'pos': 0.247, 'co...</td>\n",
              "      <td>0.2944</td>\n",
              "      <td>0.247</td>\n",
              "      <td>0.178</td>\n",
              "      <td>POS</td>\n",
              "    </tr>\n",
              "    <tr>\n",
              "      <th>104363</th>\n",
              "      <td>104363</td>\n",
              "      <td>one lewis easier reads beautiful imagery cs le...</td>\n",
              "      <td>{'neg': 0.109, 'neu': 0.665, 'pos': 0.226, 'co...</td>\n",
              "      <td>0.7003</td>\n",
              "      <td>0.226</td>\n",
              "      <td>0.109</td>\n",
              "      <td>POS</td>\n",
              "    </tr>\n",
              "    <tr>\n",
              "      <th>113161</th>\n",
              "      <td>113161</td>\n",
              "      <td>picture dorian gray oscar wilde set london eng...</td>\n",
              "      <td>{'neg': 0.133, 'neu': 0.539, 'pos': 0.328, 'co...</td>\n",
              "      <td>0.9956</td>\n",
              "      <td>0.328</td>\n",
              "      <td>0.133</td>\n",
              "      <td>POS</td>\n",
              "    </tr>\n",
              "    <tr>\n",
              "      <th>69982</th>\n",
              "      <td>69982</td>\n",
              "      <td>really good book enjoyed love story suspense w...</td>\n",
              "      <td>{'neg': 0.0, 'neu': 0.559, 'pos': 0.441, 'comp...</td>\n",
              "      <td>0.9542</td>\n",
              "      <td>0.441</td>\n",
              "      <td>0.000</td>\n",
              "      <td>POS</td>\n",
              "    </tr>\n",
              "  </tbody>\n",
              "</table>\n",
              "</div>"
            ],
            "text/plain": [
              "        num_row                                         text_clean  \\\n",
              "136507   136507  informative moving historical document itself ...   \n",
              "64593     64593  hatchet story th years old boy named brian rob...   \n",
              "32134     32134  read book coollege always liked it author real...   \n",
              "335126   335126  william golding novel ive read far best uses o...   \n",
              "112875   112875  gothic horror man made victorian england laugh...   \n",
              "192423   192423   mother gave copy teens version changed life a...   \n",
              "326975   326975  price concerned reading would poor however abs...   \n",
              "104363   104363  one lewis easier reads beautiful imagery cs le...   \n",
              "113161   113161  picture dorian gray oscar wilde set london eng...   \n",
              "69982     69982  really good book enjoyed love story suspense w...   \n",
              "\n",
              "                                                   scores  compound    pos  \\\n",
              "136507  {'neg': 0.0, 'neu': 1.0, 'pos': 0.0, 'compound...    0.0000  0.000   \n",
              "64593   {'neg': 0.144, 'neu': 0.685, 'pos': 0.171, 'co...    0.3612  0.171   \n",
              "32134   {'neg': 0.146, 'neu': 0.703, 'pos': 0.151, 'co...    0.0258  0.151   \n",
              "335126  {'neg': 0.102, 'neu': 0.652, 'pos': 0.246, 'co...    0.9686  0.246   \n",
              "112875  {'neg': 0.166, 'neu': 0.512, 'pos': 0.322, 'co...    0.9774  0.322   \n",
              "192423  {'neg': 0.028, 'neu': 0.815, 'pos': 0.157, 'co...    0.8545  0.157   \n",
              "326975  {'neg': 0.178, 'neu': 0.575, 'pos': 0.247, 'co...    0.2944  0.247   \n",
              "104363  {'neg': 0.109, 'neu': 0.665, 'pos': 0.226, 'co...    0.7003  0.226   \n",
              "113161  {'neg': 0.133, 'neu': 0.539, 'pos': 0.328, 'co...    0.9956  0.328   \n",
              "69982   {'neg': 0.0, 'neu': 0.559, 'pos': 0.441, 'comp...    0.9542  0.441   \n",
              "\n",
              "          neg sentiment  \n",
              "136507  0.000   NEUTRAL  \n",
              "64593   0.144       POS  \n",
              "32134   0.146       POS  \n",
              "335126  0.102       POS  \n",
              "112875  0.166       POS  \n",
              "192423  0.028       POS  \n",
              "326975  0.178       POS  \n",
              "104363  0.109       POS  \n",
              "113161  0.133       POS  \n",
              "69982   0.000       POS  "
            ]
          },
          "execution_count": 49,
          "metadata": {},
          "output_type": "execute_result"
        }
      ],
      "source": [
        "df_reduced.sample(10)"
      ]
    },
    {
      "cell_type": "code",
      "execution_count": 50,
      "metadata": {},
      "outputs": [
        {
          "data": {
            "text/html": [
              "<div>\n",
              "<style scoped>\n",
              "    .dataframe tbody tr th:only-of-type {\n",
              "        vertical-align: middle;\n",
              "    }\n",
              "\n",
              "    .dataframe tbody tr th {\n",
              "        vertical-align: top;\n",
              "    }\n",
              "\n",
              "    .dataframe thead th {\n",
              "        text-align: right;\n",
              "    }\n",
              "</style>\n",
              "<table border=\"1\" class=\"dataframe\">\n",
              "  <thead>\n",
              "    <tr style=\"text-align: right;\">\n",
              "      <th></th>\n",
              "      <th>num_row</th>\n",
              "      <th>text_clean</th>\n",
              "      <th>sentiment</th>\n",
              "    </tr>\n",
              "  </thead>\n",
              "  <tbody>\n",
              "    <tr>\n",
              "      <th>326121</th>\n",
              "      <td>326121</td>\n",
              "      <td>novel  take place great depresion  bigind besi...</td>\n",
              "      <td>POS</td>\n",
              "    </tr>\n",
              "    <tr>\n",
              "      <th>247382</th>\n",
              "      <td>247382</td>\n",
              "      <td>one books become immortal perfectly captures e...</td>\n",
              "      <td>POS</td>\n",
              "    </tr>\n",
              "    <tr>\n",
              "      <th>40451</th>\n",
              "      <td>40451</td>\n",
              "      <td>jane eyre definitely one wonderful captivating...</td>\n",
              "      <td>POS</td>\n",
              "    </tr>\n",
              "    <tr>\n",
              "      <th>164299</th>\n",
              "      <td>164299</td>\n",
              "      <td>brilliant writer brilliant mind indeed nobody ...</td>\n",
              "      <td>POS</td>\n",
              "    </tr>\n",
              "    <tr>\n",
              "      <th>136709</th>\n",
              "      <td>136709</td>\n",
              "      <td>found book excellent information piece hitler ...</td>\n",
              "      <td>POS</td>\n",
              "    </tr>\n",
              "    <tr>\n",
              "      <th>294679</th>\n",
              "      <td>294679</td>\n",
              "      <td>liked book alot sure points middle wanted some...</td>\n",
              "      <td>POS</td>\n",
              "    </tr>\n",
              "    <tr>\n",
              "      <th>33891</th>\n",
              "      <td>33891</td>\n",
              "      <td>wow civil war southern pov knew? yes racism ra...</td>\n",
              "      <td>NEG</td>\n",
              "    </tr>\n",
              "    <tr>\n",
              "      <th>16302</th>\n",
              "      <td>16302</td>\n",
              "      <td>im  im currently reading unabridged version lo...</td>\n",
              "      <td>POS</td>\n",
              "    </tr>\n",
              "    <tr>\n",
              "      <th>139914</th>\n",
              "      <td>139914</td>\n",
              "      <td>treasure island good book many twists moments ...</td>\n",
              "      <td>POS</td>\n",
              "    </tr>\n",
              "    <tr>\n",
              "      <th>215023</th>\n",
              "      <td>215023</td>\n",
              "      <td>say large book the uncutedition worth reading ...</td>\n",
              "      <td>NEG</td>\n",
              "    </tr>\n",
              "  </tbody>\n",
              "</table>\n",
              "</div>"
            ],
            "text/plain": [
              "        num_row                                         text_clean sentiment\n",
              "326121   326121  novel  take place great depresion  bigind besi...       POS\n",
              "247382   247382  one books become immortal perfectly captures e...       POS\n",
              "40451     40451  jane eyre definitely one wonderful captivating...       POS\n",
              "164299   164299  brilliant writer brilliant mind indeed nobody ...       POS\n",
              "136709   136709  found book excellent information piece hitler ...       POS\n",
              "294679   294679  liked book alot sure points middle wanted some...       POS\n",
              "33891     33891  wow civil war southern pov knew? yes racism ra...       NEG\n",
              "16302     16302  im  im currently reading unabridged version lo...       POS\n",
              "139914   139914  treasure island good book many twists moments ...       POS\n",
              "215023   215023  say large book the uncutedition worth reading ...       NEG"
            ]
          },
          "execution_count": 50,
          "metadata": {},
          "output_type": "execute_result"
        }
      ],
      "source": [
        "df_reduced = df_reduced.drop(['scores', 'compound', 'pos', 'neg'], axis=1)\n",
        "df_reduced.sample(10)"
      ]
    },
    {
      "cell_type": "code",
      "execution_count": 51,
      "metadata": {},
      "outputs": [],
      "source": [
        "df_reduced.to_csv('../data/processed/df_reduced_with_sentiment.csv')"
      ]
    }
  ],
  "metadata": {
    "accelerator": "GPU",
    "colab": {
      "gpuType": "T4",
      "provenance": []
    },
    "kernelspec": {
      "display_name": "Python 3",
      "name": "python3"
    },
    "language_info": {
      "codemirror_mode": {
        "name": "ipython",
        "version": 3
      },
      "file_extension": ".py",
      "mimetype": "text/x-python",
      "name": "python",
      "nbconvert_exporter": "python",
      "pygments_lexer": "ipython3",
      "version": "3.8.10"
    }
  },
  "nbformat": 4,
  "nbformat_minor": 0
}
