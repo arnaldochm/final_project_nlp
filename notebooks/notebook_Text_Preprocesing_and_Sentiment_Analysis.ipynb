{
  "cells": [
    {
      "cell_type": "code",
      "execution_count": 2,
      "metadata": {
        "id": "9ZZpOHZExcMw"
      },
      "outputs": [
        {
          "name": "stderr",
          "output_type": "stream",
          "text": [
            "/home/arnaldochm/Documents/BootCamp_DataScience/Final_Project/final_project_nlp/.venv/lib/python3.8/site-packages/tqdm/auto.py:21: TqdmWarning: IProgress not found. Please update jupyter and ipywidgets. See https://ipywidgets.readthedocs.io/en/stable/user_install.html\n",
            "  from .autonotebook import tqdm as notebook_tqdm\n",
            "2023-11-08 01:20:29.664180: I tensorflow/core/util/port.cc:110] oneDNN custom operations are on. You may see slightly different numerical results due to floating-point round-off errors from different computation orders. To turn them off, set the environment variable `TF_ENABLE_ONEDNN_OPTS=0`.\n",
            "2023-11-08 01:20:29.665997: I tensorflow/tsl/cuda/cudart_stub.cc:28] Could not find cuda drivers on your machine, GPU will not be used.\n",
            "2023-11-08 01:20:29.705656: I tensorflow/tsl/cuda/cudart_stub.cc:28] Could not find cuda drivers on your machine, GPU will not be used.\n",
            "2023-11-08 01:20:29.706553: I tensorflow/core/platform/cpu_feature_guard.cc:182] This TensorFlow binary is optimized to use available CPU instructions in performance-critical operations.\n",
            "To enable the following instructions: AVX2 AVX512F AVX512_VNNI FMA, in other operations, rebuild TensorFlow with the appropriate compiler flags.\n",
            "2023-11-08 01:20:30.342475: W tensorflow/compiler/tf2tensorrt/utils/py_utils.cc:38] TF-TRT Warning: Could not find TensorRT\n"
          ]
        }
      ],
      "source": [
        "# Step 0. Load libraries and custom modules\n",
        "import pandas as pd\n",
        "import numpy as np\n",
        "import matplotlib.pyplot as plt\n",
        "import seaborn as sns\n",
        "import os\n",
        "import nltk\n",
        "from nltk.corpus import stopwords\n",
        "from wordcloud import WordCloud\n",
        "import re\n",
        "from dateutil.parser import parse\n",
        "from datetime import datetime\n",
        "from tqdm import tqdm\n",
        "# ------------  PREPROCESING -------------\n",
        "from sklearn.model_selection import train_test_split\n",
        "from sklearn.decomposition import PCA\n",
        "from sklearn.decomposition import FastICA\n",
        "from sklearn.preprocessing import OneHotEncoder\n",
        "from sklearn.preprocessing import StandardScaler\n",
        "from sklearn.feature_extraction.text import TfidfVectorizer\n",
        "from sklearn.feature_extraction.text import CountVectorizer\n",
        "from nltk import download\n",
        "from nltk.corpus import stopwords\n",
        "from nltk.stem import WordNetLemmatizer\n",
        "from nltk.sentiment.vader import SentimentIntensityAnalyzer\n",
        "from nltk.tokenize import word_tokenize\n",
        "from textstat import flesch_kincaid_grade\n",
        "#-------------- TRANSFORMERS --------------\n",
        "import transformers\n",
        "from transformers.pipelines import PIPELINE_REGISTRY\n",
        "from transformers import pipeline\n",
        "import evaluate\n",
        "from evaluate import load\n",
        "from transformers import Conversation\n",
        "transformers.logging.set_verbosity_error()"
      ]
    },
    {
      "cell_type": "code",
      "execution_count": 3,
      "metadata": {
        "colab": {
          "base_uri": "https://localhost:8080/"
        },
        "id": "Rx0-j5xbxcMx",
        "outputId": "8fde96c4-b40b-4503-91f2-83b620613f84"
      },
      "outputs": [
        {
          "name": "stdout",
          "output_type": "stream",
          "text": [
            "<class 'pandas.core.frame.DataFrame'>\n",
            "RangeIndex: 15738 entries, 0 to 15737\n",
            "Data columns (total 3 columns):\n",
            " #   Column      Non-Null Count  Dtype \n",
            "---  ------      --------------  ----- \n",
            " 0   Unnamed: 0  15738 non-null  int64 \n",
            " 1   num_row     15738 non-null  int64 \n",
            " 2   text        15738 non-null  object\n",
            "dtypes: int64(2), object(1)\n",
            "memory usage: 369.0+ KB\n"
          ]
        }
      ],
      "source": [
        "df_reduced = pd.read_csv('../data/processed/df_reduced.csv')\n",
        "df_reduced.info()"
      ]
    },
    {
      "cell_type": "code",
      "execution_count": 4,
      "metadata": {
        "id": "hI-V-oHmxcMy"
      },
      "outputs": [],
      "source": [
        "df_reduced = df_reduced.drop(['Unnamed: 0'], axis= 1)"
      ]
    },
    {
      "cell_type": "code",
      "execution_count": 5,
      "metadata": {
        "colab": {
          "base_uri": "https://localhost:8080/",
          "height": 363
        },
        "id": "AJnhviSgxcMy",
        "outputId": "642af037-c9b0-43f7-f053-e1bd64234f83"
      },
      "outputs": [
        {
          "data": {
            "text/html": [
              "<div>\n",
              "<style scoped>\n",
              "    .dataframe tbody tr th:only-of-type {\n",
              "        vertical-align: middle;\n",
              "    }\n",
              "\n",
              "    .dataframe tbody tr th {\n",
              "        vertical-align: top;\n",
              "    }\n",
              "\n",
              "    .dataframe thead th {\n",
              "        text-align: right;\n",
              "    }\n",
              "</style>\n",
              "<table border=\"1\" class=\"dataframe\">\n",
              "  <thead>\n",
              "    <tr style=\"text-align: right;\">\n",
              "      <th></th>\n",
              "      <th>num_row</th>\n",
              "      <th>text</th>\n",
              "    </tr>\n",
              "  </thead>\n",
              "  <tbody>\n",
              "    <tr>\n",
              "      <th>9301</th>\n",
              "      <td>9301</td>\n",
              "      <td>Naomi Alderman's \"Disobedience\" is the story o...</td>\n",
              "    </tr>\n",
              "    <tr>\n",
              "      <th>8917</th>\n",
              "      <td>8917</td>\n",
              "      <td>I've long been familiar with Brite's horror ge...</td>\n",
              "    </tr>\n",
              "    <tr>\n",
              "      <th>8784</th>\n",
              "      <td>8784</td>\n",
              "      <td>I downloaded this for my wife - as she said sh...</td>\n",
              "    </tr>\n",
              "    <tr>\n",
              "      <th>6503</th>\n",
              "      <td>6503</td>\n",
              "      <td>I am a Woods fan and enjoy all his books. This...</td>\n",
              "    </tr>\n",
              "    <tr>\n",
              "      <th>4075</th>\n",
              "      <td>4075</td>\n",
              "      <td>Hilarious!Garden Lunacy: A Growing ConcernThis...</td>\n",
              "    </tr>\n",
              "    <tr>\n",
              "      <th>14514</th>\n",
              "      <td>14514</td>\n",
              "      <td>Usually with books on writing, I only find som...</td>\n",
              "    </tr>\n",
              "    <tr>\n",
              "      <th>12487</th>\n",
              "      <td>12487</td>\n",
              "      <td>Interesting read. Brutally honest. I found the...</td>\n",
              "    </tr>\n",
              "    <tr>\n",
              "      <th>15252</th>\n",
              "      <td>15252</td>\n",
              "      <td>Toppamono is a speedy, exciting and somewhat b...</td>\n",
              "    </tr>\n",
              "    <tr>\n",
              "      <th>9620</th>\n",
              "      <td>9620</td>\n",
              "      <td>I've read this book in Russian language. In my...</td>\n",
              "    </tr>\n",
              "    <tr>\n",
              "      <th>9147</th>\n",
              "      <td>9147</td>\n",
              "      <td>I really wanted to like this one, but the prem...</td>\n",
              "    </tr>\n",
              "  </tbody>\n",
              "</table>\n",
              "</div>"
            ],
            "text/plain": [
              "       num_row                                               text\n",
              "9301      9301  Naomi Alderman's \"Disobedience\" is the story o...\n",
              "8917      8917  I've long been familiar with Brite's horror ge...\n",
              "8784      8784  I downloaded this for my wife - as she said sh...\n",
              "6503      6503  I am a Woods fan and enjoy all his books. This...\n",
              "4075      4075  Hilarious!Garden Lunacy: A Growing ConcernThis...\n",
              "14514    14514  Usually with books on writing, I only find som...\n",
              "12487    12487  Interesting read. Brutally honest. I found the...\n",
              "15252    15252  Toppamono is a speedy, exciting and somewhat b...\n",
              "9620      9620  I've read this book in Russian language. In my...\n",
              "9147      9147  I really wanted to like this one, but the prem..."
            ]
          },
          "execution_count": 5,
          "metadata": {},
          "output_type": "execute_result"
        }
      ],
      "source": [
        "df_reduced.sample(10)"
      ]
    },
    {
      "cell_type": "code",
      "execution_count": 6,
      "metadata": {
        "id": "TnFxeo9YCd1n"
      },
      "outputs": [],
      "source": [
        "# def clean_stopwords(text: str,stop_dict: dict)->str:\n",
        "#     if text is not None:\n",
        "#         words = text.split()\n",
        "#         words_clean = []\n",
        "#         for word in words:\n",
        "#             if word not in stop_dict:\n",
        "#                 words_clean.append(word)\n",
        "#         result = ' '.join(words_clean)\n",
        "#     else:\n",
        "#         result = None\n",
        "#     return result"
      ]
    },
    {
      "cell_type": "code",
      "execution_count": 7,
      "metadata": {
        "id": "OaZQCL1hCHjS"
      },
      "outputs": [],
      "source": [
        "# 3.10 Text To Lower\n",
        "df_reduced['text_clean'] = df_reduced['text'].str.lower()\n",
        "# 3.12 Extract special characters and numbers\n",
        "df_reduced['text_clean'] = df_reduced['text_clean'].str.replace(r'[^a-z]', ' ', regex=True)\n",
        "# 3.13 Extract numbers\n",
        "# df_reduced['text_clean'] = df_reduced['text_clean'].str.replace(r'[\\d]+', '', regex=True)\n",
        "# 3.14 #Change multiple white spaces to a single white space\n",
        "df_reduced['text_clean'] = df_reduced['text_clean'].str.replace(r'\\s+',' ',regex=True)"
      ]
    },
    {
      "cell_type": "code",
      "execution_count": 8,
      "metadata": {
        "id": "Z8J38661CzTx"
      },
      "outputs": [
        {
          "name": "stderr",
          "output_type": "stream",
          "text": [
            "[nltk_data] Downloading package wordnet to\n",
            "[nltk_data]     /home/arnaldochm/nltk_data...\n",
            "[nltk_data]   Package wordnet is already up-to-date!\n"
          ]
        }
      ],
      "source": [
        "# 3.15 Lemmatize Text and removing Stopwords\n",
        "\n",
        "download(\"wordnet\")\n",
        "lemmatizer = WordNetLemmatizer()"
      ]
    },
    {
      "cell_type": "code",
      "execution_count": 9,
      "metadata": {
        "id": "rObXY_twC7C3"
      },
      "outputs": [
        {
          "name": "stderr",
          "output_type": "stream",
          "text": [
            "[nltk_data] Downloading package stopwords to\n",
            "[nltk_data]     /home/arnaldochm/nltk_data...\n",
            "[nltk_data]   Package stopwords is already up-to-date!\n"
          ]
        }
      ],
      "source": [
        "download(\"stopwords\")\n",
        "stop_words = stopwords.words(\"english\")"
      ]
    },
    {
      "cell_type": "code",
      "execution_count": 10,
      "metadata": {},
      "outputs": [],
      "source": [
        "def lemmatize_text(words, lemmatizer = lemmatizer):\n",
        "    words = words.split(' ')\n",
        "    tokens = [lemmatizer.lemmatize(word) for word in words]\n",
        "    tokens = [word for word in tokens if word not in stop_words]\n",
        "    tokens = [word for word in tokens if len(word) > 2] #Keep Words with more than 3 letters\n",
        "    return ' '.join(tokens)"
      ]
    },
    {
      "cell_type": "code",
      "execution_count": 11,
      "metadata": {},
      "outputs": [
        {
          "data": {
            "text/plain": [
              "4164     hate book maybe biased instructor find clear p...\n",
              "14668    already studied previous edition bought second...\n",
              "11047    compare novel vinci code doe great disservice ...\n",
              "4150     emma favorite house great text free kindle edi...\n",
              "14949    read ethnic america back second master degree ...\n",
              "4617     best series book ever read finish one wait get...\n",
              "6955     ann perry book young people three different ba...\n",
              "15286    book decent shape knew buying new one got expe...\n",
              "12176    rating textbook virtually impossible please ta...\n",
              "4055     could easily write many negative thing novel s...\n",
              "Name: text_clean, dtype: object"
            ]
          },
          "execution_count": 11,
          "metadata": {},
          "output_type": "execute_result"
        }
      ],
      "source": [
        "df_reduced[\"text_clean\"] = df_reduced[\"text_clean\"].apply(lambda x: lemmatize_text(x))\n",
        "df_reduced[\"text_clean\"].sample(10)"
      ]
    },
    {
      "cell_type": "code",
      "execution_count": 12,
      "metadata": {},
      "outputs": [
        {
          "name": "stderr",
          "output_type": "stream",
          "text": [
            "[nltk_data] Downloading package punkt to /home/arnaldochm/nltk_data...\n",
            "[nltk_data]   Package punkt is already up-to-date!\n"
          ]
        },
        {
          "data": {
            "text/plain": [
              "True"
            ]
          },
          "execution_count": 12,
          "metadata": {},
          "output_type": "execute_result"
        }
      ],
      "source": [
        "nltk.download('punkt')"
      ]
    },
    {
      "cell_type": "code",
      "execution_count": 13,
      "metadata": {},
      "outputs": [],
      "source": [
        "def calculate_complexity(review):\n",
        "    return flesch_kincaid_grade(review)"
      ]
    },
    {
      "cell_type": "code",
      "execution_count": 14,
      "metadata": {},
      "outputs": [
        {
          "data": {
            "text/html": [
              "<div>\n",
              "<style scoped>\n",
              "    .dataframe tbody tr th:only-of-type {\n",
              "        vertical-align: middle;\n",
              "    }\n",
              "\n",
              "    .dataframe tbody tr th {\n",
              "        vertical-align: top;\n",
              "    }\n",
              "\n",
              "    .dataframe thead th {\n",
              "        text-align: right;\n",
              "    }\n",
              "</style>\n",
              "<table border=\"1\" class=\"dataframe\">\n",
              "  <thead>\n",
              "    <tr style=\"text-align: right;\">\n",
              "      <th></th>\n",
              "      <th>num_row</th>\n",
              "      <th>text</th>\n",
              "      <th>text_clean</th>\n",
              "      <th>text_complexity</th>\n",
              "    </tr>\n",
              "  </thead>\n",
              "  <tbody>\n",
              "    <tr>\n",
              "      <th>14517</th>\n",
              "      <td>14517</td>\n",
              "      <td>Jules Verne captures the imagination with a tr...</td>\n",
              "      <td>jules verne capture imagination tremendous acc...</td>\n",
              "      <td>5.4</td>\n",
              "    </tr>\n",
              "    <tr>\n",
              "      <th>3429</th>\n",
              "      <td>3429</td>\n",
              "      <td>An honest and refreshing look at what so many ...</td>\n",
              "      <td>honest refreshing look many fall prey masking ...</td>\n",
              "      <td>9.4</td>\n",
              "    </tr>\n",
              "    <tr>\n",
              "      <th>3026</th>\n",
              "      <td>3026</td>\n",
              "      <td>I was very excited to read this book after rea...</td>\n",
              "      <td>excited read book reading great review however...</td>\n",
              "      <td>7.2</td>\n",
              "    </tr>\n",
              "    <tr>\n",
              "      <th>12740</th>\n",
              "      <td>12740</td>\n",
              "      <td>Excellent usage of vocabulary, but the plot ca...</td>\n",
              "      <td>excellent usage vocabulary plot rather difficu...</td>\n",
              "      <td>7.2</td>\n",
              "    </tr>\n",
              "    <tr>\n",
              "      <th>7809</th>\n",
              "      <td>7809</td>\n",
              "      <td>This is a superbly written book (and for the r...</td>\n",
              "      <td>superbly written book record narrated author a...</td>\n",
              "      <td>8.2</td>\n",
              "    </tr>\n",
              "    <tr>\n",
              "      <th>241</th>\n",
              "      <td>241</td>\n",
              "      <td>This is a book worth reading, especially for t...</td>\n",
              "      <td>book worth reading especially still believe da...</td>\n",
              "      <td>12.0</td>\n",
              "    </tr>\n",
              "    <tr>\n",
              "      <th>7395</th>\n",
              "      <td>7395</td>\n",
              "      <td>I have used this book to assist my church mini...</td>\n",
              "      <td>used book assist church ministry divorce care ...</td>\n",
              "      <td>6.0</td>\n",
              "    </tr>\n",
              "    <tr>\n",
              "      <th>4054</th>\n",
              "      <td>4054</td>\n",
              "      <td>I read this book some time ago for a book club...</td>\n",
              "      <td>read book time ago book club thought total sno...</td>\n",
              "      <td>4.0</td>\n",
              "    </tr>\n",
              "    <tr>\n",
              "      <th>328</th>\n",
              "      <td>328</td>\n",
              "      <td>Arthur Dent, Ford Perfect, and a few of their-...</td>\n",
              "      <td>arthur dent ford perfect lack better word frie...</td>\n",
              "      <td>8.7</td>\n",
              "    </tr>\n",
              "    <tr>\n",
              "      <th>14604</th>\n",
              "      <td>14604</td>\n",
              "      <td>This book kept my attention from beginning to ...</td>\n",
              "      <td>book kept attention beginning end sometimes si...</td>\n",
              "      <td>6.5</td>\n",
              "    </tr>\n",
              "  </tbody>\n",
              "</table>\n",
              "</div>"
            ],
            "text/plain": [
              "       num_row                                               text  \\\n",
              "14517    14517  Jules Verne captures the imagination with a tr...   \n",
              "3429      3429  An honest and refreshing look at what so many ...   \n",
              "3026      3026  I was very excited to read this book after rea...   \n",
              "12740    12740  Excellent usage of vocabulary, but the plot ca...   \n",
              "7809      7809  This is a superbly written book (and for the r...   \n",
              "241        241  This is a book worth reading, especially for t...   \n",
              "7395      7395  I have used this book to assist my church mini...   \n",
              "4054      4054  I read this book some time ago for a book club...   \n",
              "328        328  Arthur Dent, Ford Perfect, and a few of their-...   \n",
              "14604    14604  This book kept my attention from beginning to ...   \n",
              "\n",
              "                                              text_clean  text_complexity  \n",
              "14517  jules verne capture imagination tremendous acc...              5.4  \n",
              "3429   honest refreshing look many fall prey masking ...              9.4  \n",
              "3026   excited read book reading great review however...              7.2  \n",
              "12740  excellent usage vocabulary plot rather difficu...              7.2  \n",
              "7809   superbly written book record narrated author a...              8.2  \n",
              "241    book worth reading especially still believe da...             12.0  \n",
              "7395   used book assist church ministry divorce care ...              6.0  \n",
              "4054   read book time ago book club thought total sno...              4.0  \n",
              "328    arthur dent ford perfect lack better word frie...              8.7  \n",
              "14604  book kept attention beginning end sometimes si...              6.5  "
            ]
          },
          "execution_count": 14,
          "metadata": {},
          "output_type": "execute_result"
        }
      ],
      "source": [
        "df_reduced['text_complexity'] = df_reduced['text'].apply(calculate_complexity)\n",
        "df_reduced.sample(10)"
      ]
    },
    {
      "cell_type": "code",
      "execution_count": 15,
      "metadata": {
        "id": "UDVhJZmmJWPM"
      },
      "outputs": [],
      "source": [
        "df_reduced = df_reduced.drop(['text'],axis=1)"
      ]
    },
    {
      "cell_type": "code",
      "execution_count": 16,
      "metadata": {
        "colab": {
          "base_uri": "https://localhost:8080/",
          "height": 363
        },
        "id": "lvYNEGJPDjLI",
        "outputId": "b9b25394-1a28-4218-c34f-37341d001f42"
      },
      "outputs": [
        {
          "data": {
            "text/html": [
              "<div>\n",
              "<style scoped>\n",
              "    .dataframe tbody tr th:only-of-type {\n",
              "        vertical-align: middle;\n",
              "    }\n",
              "\n",
              "    .dataframe tbody tr th {\n",
              "        vertical-align: top;\n",
              "    }\n",
              "\n",
              "    .dataframe thead th {\n",
              "        text-align: right;\n",
              "    }\n",
              "</style>\n",
              "<table border=\"1\" class=\"dataframe\">\n",
              "  <thead>\n",
              "    <tr style=\"text-align: right;\">\n",
              "      <th></th>\n",
              "      <th>num_row</th>\n",
              "      <th>text_clean</th>\n",
              "      <th>text_complexity</th>\n",
              "    </tr>\n",
              "  </thead>\n",
              "  <tbody>\n",
              "    <tr>\n",
              "      <th>0</th>\n",
              "      <td>0</td>\n",
              "      <td>purchased book neice cruised week loved story ...</td>\n",
              "      <td>4.5</td>\n",
              "    </tr>\n",
              "    <tr>\n",
              "      <th>1</th>\n",
              "      <td>1</td>\n",
              "      <td>really enjoyed book several front author terri...</td>\n",
              "      <td>9.0</td>\n",
              "    </tr>\n",
              "    <tr>\n",
              "      <th>2</th>\n",
              "      <td>2</td>\n",
              "      <td>interesting informative spot good book read wa...</td>\n",
              "      <td>6.0</td>\n",
              "    </tr>\n",
              "    <tr>\n",
              "      <th>3</th>\n",
              "      <td>3</td>\n",
              "      <td>must learn past history better appreciate toda...</td>\n",
              "      <td>6.7</td>\n",
              "    </tr>\n",
              "    <tr>\n",
              "      <th>4</th>\n",
              "      <td>4</td>\n",
              "      <td>began book high hope cover blurb sounded inter...</td>\n",
              "      <td>10.7</td>\n",
              "    </tr>\n",
              "    <tr>\n",
              "      <th>5</th>\n",
              "      <td>5</td>\n",
              "      <td>gary demar succeeded writing finest short actu...</td>\n",
              "      <td>7.6</td>\n",
              "    </tr>\n",
              "    <tr>\n",
              "      <th>6</th>\n",
              "      <td>6</td>\n",
              "      <td>first miss julia book found quite delightful b...</td>\n",
              "      <td>9.2</td>\n",
              "    </tr>\n",
              "    <tr>\n",
              "      <th>7</th>\n",
              "      <td>7</td>\n",
              "      <td>enjoying read assuming writes like think long ...</td>\n",
              "      <td>3.7</td>\n",
              "    </tr>\n",
              "    <tr>\n",
              "      <th>8</th>\n",
              "      <td>8</td>\n",
              "      <td>book simply great start reading able put page ...</td>\n",
              "      <td>5.8</td>\n",
              "    </tr>\n",
              "    <tr>\n",
              "      <th>9</th>\n",
              "      <td>9</td>\n",
              "      <td>hobbit written bit differently lord ring time ...</td>\n",
              "      <td>7.9</td>\n",
              "    </tr>\n",
              "  </tbody>\n",
              "</table>\n",
              "</div>"
            ],
            "text/plain": [
              "   num_row                                         text_clean  text_complexity\n",
              "0        0  purchased book neice cruised week loved story ...              4.5\n",
              "1        1  really enjoyed book several front author terri...              9.0\n",
              "2        2  interesting informative spot good book read wa...              6.0\n",
              "3        3  must learn past history better appreciate toda...              6.7\n",
              "4        4  began book high hope cover blurb sounded inter...             10.7\n",
              "5        5  gary demar succeeded writing finest short actu...              7.6\n",
              "6        6  first miss julia book found quite delightful b...              9.2\n",
              "7        7  enjoying read assuming writes like think long ...              3.7\n",
              "8        8  book simply great start reading able put page ...              5.8\n",
              "9        9  hobbit written bit differently lord ring time ...              7.9"
            ]
          },
          "execution_count": 16,
          "metadata": {},
          "output_type": "execute_result"
        }
      ],
      "source": [
        "# 3.14 See the results\n",
        "df_reduced.head(10)"
      ]
    },
    {
      "cell_type": "code",
      "execution_count": 17,
      "metadata": {},
      "outputs": [
        {
          "name": "stderr",
          "output_type": "stream",
          "text": [
            "[nltk_data] Downloading package vader_lexicon to\n",
            "[nltk_data]     /home/arnaldochm/nltk_data...\n",
            "[nltk_data]   Package vader_lexicon is already up-to-date!\n"
          ]
        },
        {
          "data": {
            "text/plain": [
              "True"
            ]
          },
          "execution_count": 17,
          "metadata": {},
          "output_type": "execute_result"
        }
      ],
      "source": [
        "nltk.download('vader_lexicon')"
      ]
    },
    {
      "cell_type": "code",
      "execution_count": 18,
      "metadata": {},
      "outputs": [],
      "source": [
        "vaderSentimentAnalyzer = SentimentIntensityAnalyzer()"
      ]
    },
    {
      "cell_type": "code",
      "execution_count": 19,
      "metadata": {},
      "outputs": [
        {
          "data": {
            "text/plain": [
              "'goethe expressed fundamental truth nothing much philosophy footnote plato plotinus year later plato eliminated platonic dabbling politics quietly separated greek mysticism emerging fundamentalism christianity became somewhat bemusedly cult figure right brian hines deal subject hugely sympathatic way hope future something doe change time plato century close one timeless truth time well according plotinus father robin'"
            ]
          },
          "execution_count": 19,
          "metadata": {},
          "output_type": "execute_result"
        }
      ],
      "source": [
        "df_reduced.iloc[67]['text_clean']"
      ]
    },
    {
      "cell_type": "code",
      "execution_count": 20,
      "metadata": {},
      "outputs": [
        {
          "data": {
            "text/plain": [
              "{'neg': 0.0, 'neu': 0.838, 'pos': 0.162, 'compound': 0.8344}"
            ]
          },
          "execution_count": 20,
          "metadata": {},
          "output_type": "execute_result"
        }
      ],
      "source": [
        "vaderSentimentAnalyzer.polarity_scores(df_reduced.iloc[67]['text_clean'])"
      ]
    },
    {
      "cell_type": "code",
      "execution_count": 21,
      "metadata": {},
      "outputs": [
        {
          "data": {
            "text/html": [
              "<div>\n",
              "<style scoped>\n",
              "    .dataframe tbody tr th:only-of-type {\n",
              "        vertical-align: middle;\n",
              "    }\n",
              "\n",
              "    .dataframe tbody tr th {\n",
              "        vertical-align: top;\n",
              "    }\n",
              "\n",
              "    .dataframe thead th {\n",
              "        text-align: right;\n",
              "    }\n",
              "</style>\n",
              "<table border=\"1\" class=\"dataframe\">\n",
              "  <thead>\n",
              "    <tr style=\"text-align: right;\">\n",
              "      <th></th>\n",
              "      <th>num_row</th>\n",
              "      <th>text_clean</th>\n",
              "      <th>text_complexity</th>\n",
              "      <th>scores</th>\n",
              "    </tr>\n",
              "  </thead>\n",
              "  <tbody>\n",
              "    <tr>\n",
              "      <th>0</th>\n",
              "      <td>0</td>\n",
              "      <td>purchased book neice cruised week loved story ...</td>\n",
              "      <td>4.5</td>\n",
              "      <td>{'neg': 0.0, 'neu': 0.664, 'pos': 0.336, 'comp...</td>\n",
              "    </tr>\n",
              "    <tr>\n",
              "      <th>1</th>\n",
              "      <td>1</td>\n",
              "      <td>really enjoyed book several front author terri...</td>\n",
              "      <td>9.0</td>\n",
              "      <td>{'neg': 0.12, 'neu': 0.58, 'pos': 0.3, 'compou...</td>\n",
              "    </tr>\n",
              "    <tr>\n",
              "      <th>2</th>\n",
              "      <td>2</td>\n",
              "      <td>interesting informative spot good book read wa...</td>\n",
              "      <td>6.0</td>\n",
              "      <td>{'neg': 0.0, 'neu': 0.537, 'pos': 0.463, 'comp...</td>\n",
              "    </tr>\n",
              "    <tr>\n",
              "      <th>3</th>\n",
              "      <td>3</td>\n",
              "      <td>must learn past history better appreciate toda...</td>\n",
              "      <td>6.7</td>\n",
              "      <td>{'neg': 0.091, 'neu': 0.566, 'pos': 0.343, 'co...</td>\n",
              "    </tr>\n",
              "    <tr>\n",
              "      <th>4</th>\n",
              "      <td>4</td>\n",
              "      <td>began book high hope cover blurb sounded inter...</td>\n",
              "      <td>10.7</td>\n",
              "      <td>{'neg': 0.086, 'neu': 0.667, 'pos': 0.247, 'co...</td>\n",
              "    </tr>\n",
              "  </tbody>\n",
              "</table>\n",
              "</div>"
            ],
            "text/plain": [
              "   num_row                                         text_clean  \\\n",
              "0        0  purchased book neice cruised week loved story ...   \n",
              "1        1  really enjoyed book several front author terri...   \n",
              "2        2  interesting informative spot good book read wa...   \n",
              "3        3  must learn past history better appreciate toda...   \n",
              "4        4  began book high hope cover blurb sounded inter...   \n",
              "\n",
              "   text_complexity                                             scores  \n",
              "0              4.5  {'neg': 0.0, 'neu': 0.664, 'pos': 0.336, 'comp...  \n",
              "1              9.0  {'neg': 0.12, 'neu': 0.58, 'pos': 0.3, 'compou...  \n",
              "2              6.0  {'neg': 0.0, 'neu': 0.537, 'pos': 0.463, 'comp...  \n",
              "3              6.7  {'neg': 0.091, 'neu': 0.566, 'pos': 0.343, 'co...  \n",
              "4             10.7  {'neg': 0.086, 'neu': 0.667, 'pos': 0.247, 'co...  "
            ]
          },
          "execution_count": 21,
          "metadata": {},
          "output_type": "execute_result"
        }
      ],
      "source": [
        "df_reduced['scores']=df_reduced['text_clean'].apply(lambda body: vaderSentimentAnalyzer.polarity_scores(str(body)))\n",
        "df_reduced.head()"
      ]
    },
    {
      "cell_type": "code",
      "execution_count": 22,
      "metadata": {},
      "outputs": [
        {
          "data": {
            "text/html": [
              "<div>\n",
              "<style scoped>\n",
              "    .dataframe tbody tr th:only-of-type {\n",
              "        vertical-align: middle;\n",
              "    }\n",
              "\n",
              "    .dataframe tbody tr th {\n",
              "        vertical-align: top;\n",
              "    }\n",
              "\n",
              "    .dataframe thead th {\n",
              "        text-align: right;\n",
              "    }\n",
              "</style>\n",
              "<table border=\"1\" class=\"dataframe\">\n",
              "  <thead>\n",
              "    <tr style=\"text-align: right;\">\n",
              "      <th></th>\n",
              "      <th>num_row</th>\n",
              "      <th>text_clean</th>\n",
              "      <th>text_complexity</th>\n",
              "      <th>scores</th>\n",
              "      <th>compound_sentiment</th>\n",
              "    </tr>\n",
              "  </thead>\n",
              "  <tbody>\n",
              "    <tr>\n",
              "      <th>0</th>\n",
              "      <td>0</td>\n",
              "      <td>purchased book neice cruised week loved story ...</td>\n",
              "      <td>4.5</td>\n",
              "      <td>{'neg': 0.0, 'neu': 0.664, 'pos': 0.336, 'comp...</td>\n",
              "      <td>0.9623</td>\n",
              "    </tr>\n",
              "    <tr>\n",
              "      <th>1</th>\n",
              "      <td>1</td>\n",
              "      <td>really enjoyed book several front author terri...</td>\n",
              "      <td>9.0</td>\n",
              "      <td>{'neg': 0.12, 'neu': 0.58, 'pos': 0.3, 'compou...</td>\n",
              "      <td>0.9895</td>\n",
              "    </tr>\n",
              "    <tr>\n",
              "      <th>2</th>\n",
              "      <td>2</td>\n",
              "      <td>interesting informative spot good book read wa...</td>\n",
              "      <td>6.0</td>\n",
              "      <td>{'neg': 0.0, 'neu': 0.537, 'pos': 0.463, 'comp...</td>\n",
              "      <td>0.7096</td>\n",
              "    </tr>\n",
              "    <tr>\n",
              "      <th>3</th>\n",
              "      <td>3</td>\n",
              "      <td>must learn past history better appreciate toda...</td>\n",
              "      <td>6.7</td>\n",
              "      <td>{'neg': 0.091, 'neu': 0.566, 'pos': 0.343, 'co...</td>\n",
              "      <td>0.9595</td>\n",
              "    </tr>\n",
              "    <tr>\n",
              "      <th>4</th>\n",
              "      <td>4</td>\n",
              "      <td>began book high hope cover blurb sounded inter...</td>\n",
              "      <td>10.7</td>\n",
              "      <td>{'neg': 0.086, 'neu': 0.667, 'pos': 0.247, 'co...</td>\n",
              "      <td>0.9936</td>\n",
              "    </tr>\n",
              "  </tbody>\n",
              "</table>\n",
              "</div>"
            ],
            "text/plain": [
              "   num_row                                         text_clean  \\\n",
              "0        0  purchased book neice cruised week loved story ...   \n",
              "1        1  really enjoyed book several front author terri...   \n",
              "2        2  interesting informative spot good book read wa...   \n",
              "3        3  must learn past history better appreciate toda...   \n",
              "4        4  began book high hope cover blurb sounded inter...   \n",
              "\n",
              "   text_complexity                                             scores  \\\n",
              "0              4.5  {'neg': 0.0, 'neu': 0.664, 'pos': 0.336, 'comp...   \n",
              "1              9.0  {'neg': 0.12, 'neu': 0.58, 'pos': 0.3, 'compou...   \n",
              "2              6.0  {'neg': 0.0, 'neu': 0.537, 'pos': 0.463, 'comp...   \n",
              "3              6.7  {'neg': 0.091, 'neu': 0.566, 'pos': 0.343, 'co...   \n",
              "4             10.7  {'neg': 0.086, 'neu': 0.667, 'pos': 0.247, 'co...   \n",
              "\n",
              "   compound_sentiment  \n",
              "0              0.9623  \n",
              "1              0.9895  \n",
              "2              0.7096  \n",
              "3              0.9595  \n",
              "4              0.9936  "
            ]
          },
          "execution_count": 22,
          "metadata": {},
          "output_type": "execute_result"
        }
      ],
      "source": [
        "df_reduced['compound_sentiment']=df_reduced['scores'].apply(lambda score_dict:score_dict['compound'])\n",
        "df_reduced.head()"
      ]
    },
    {
      "cell_type": "code",
      "execution_count": 23,
      "metadata": {},
      "outputs": [
        {
          "data": {
            "text/html": [
              "<div>\n",
              "<style scoped>\n",
              "    .dataframe tbody tr th:only-of-type {\n",
              "        vertical-align: middle;\n",
              "    }\n",
              "\n",
              "    .dataframe tbody tr th {\n",
              "        vertical-align: top;\n",
              "    }\n",
              "\n",
              "    .dataframe thead th {\n",
              "        text-align: right;\n",
              "    }\n",
              "</style>\n",
              "<table border=\"1\" class=\"dataframe\">\n",
              "  <thead>\n",
              "    <tr style=\"text-align: right;\">\n",
              "      <th></th>\n",
              "      <th>num_row</th>\n",
              "      <th>text_clean</th>\n",
              "      <th>text_complexity</th>\n",
              "      <th>compound_sentiment</th>\n",
              "    </tr>\n",
              "  </thead>\n",
              "  <tbody>\n",
              "    <tr>\n",
              "      <th>3589</th>\n",
              "      <td>3589</td>\n",
              "      <td>book finally cut mystery surrounding god plan ...</td>\n",
              "      <td>10.3</td>\n",
              "      <td>-0.5574</td>\n",
              "    </tr>\n",
              "    <tr>\n",
              "      <th>4405</th>\n",
              "      <td>4405</td>\n",
              "      <td>book okay disappointment reading marianna rose...</td>\n",
              "      <td>11.4</td>\n",
              "      <td>0.9228</td>\n",
              "    </tr>\n",
              "    <tr>\n",
              "      <th>5928</th>\n",
              "      <td>5928</td>\n",
              "      <td>good book wanting know wrong christianity anyw...</td>\n",
              "      <td>6.4</td>\n",
              "      <td>-0.5423</td>\n",
              "    </tr>\n",
              "    <tr>\n",
              "      <th>14207</th>\n",
              "      <td>14207</td>\n",
              "      <td>didnt think would like main character thats st...</td>\n",
              "      <td>2.9</td>\n",
              "      <td>0.8831</td>\n",
              "    </tr>\n",
              "    <tr>\n",
              "      <th>5722</th>\n",
              "      <td>5722</td>\n",
              "      <td>probably one worst written book read started g...</td>\n",
              "      <td>4.4</td>\n",
              "      <td>-0.8343</td>\n",
              "    </tr>\n",
              "    <tr>\n",
              "      <th>11458</th>\n",
              "      <td>11458</td>\n",
              "      <td>read english class must say book read best eng...</td>\n",
              "      <td>8.3</td>\n",
              "      <td>0.7650</td>\n",
              "    </tr>\n",
              "    <tr>\n",
              "      <th>9152</th>\n",
              "      <td>9152</td>\n",
              "      <td>catherine morland succesfully capture image bo...</td>\n",
              "      <td>8.3</td>\n",
              "      <td>0.9819</td>\n",
              "    </tr>\n",
              "    <tr>\n",
              "      <th>1378</th>\n",
              "      <td>1378</td>\n",
              "      <td>use billy blaze book teach son bravery respons...</td>\n",
              "      <td>8.3</td>\n",
              "      <td>0.9186</td>\n",
              "    </tr>\n",
              "    <tr>\n",
              "      <th>5384</th>\n",
              "      <td>5384</td>\n",
              "      <td>third book read jennifer weiner like previous ...</td>\n",
              "      <td>11.2</td>\n",
              "      <td>0.9902</td>\n",
              "    </tr>\n",
              "    <tr>\n",
              "      <th>7351</th>\n",
              "      <td>7351</td>\n",
              "      <td>must say pleasantly surprised book title claim...</td>\n",
              "      <td>10.6</td>\n",
              "      <td>0.9866</td>\n",
              "    </tr>\n",
              "  </tbody>\n",
              "</table>\n",
              "</div>"
            ],
            "text/plain": [
              "       num_row                                         text_clean  \\\n",
              "3589      3589  book finally cut mystery surrounding god plan ...   \n",
              "4405      4405  book okay disappointment reading marianna rose...   \n",
              "5928      5928  good book wanting know wrong christianity anyw...   \n",
              "14207    14207  didnt think would like main character thats st...   \n",
              "5722      5722  probably one worst written book read started g...   \n",
              "11458    11458  read english class must say book read best eng...   \n",
              "9152      9152  catherine morland succesfully capture image bo...   \n",
              "1378      1378  use billy blaze book teach son bravery respons...   \n",
              "5384      5384  third book read jennifer weiner like previous ...   \n",
              "7351      7351  must say pleasantly surprised book title claim...   \n",
              "\n",
              "       text_complexity  compound_sentiment  \n",
              "3589              10.3             -0.5574  \n",
              "4405              11.4              0.9228  \n",
              "5928               6.4             -0.5423  \n",
              "14207              2.9              0.8831  \n",
              "5722               4.4             -0.8343  \n",
              "11458              8.3              0.7650  \n",
              "9152               8.3              0.9819  \n",
              "1378               8.3              0.9186  \n",
              "5384              11.2              0.9902  \n",
              "7351              10.6              0.9866  "
            ]
          },
          "execution_count": 23,
          "metadata": {},
          "output_type": "execute_result"
        }
      ],
      "source": [
        "df_reduced = df_reduced.drop(['scores'], axis=1)\n",
        "df_reduced.sample(10)"
      ]
    },
    {
      "cell_type": "code",
      "execution_count": null,
      "metadata": {},
      "outputs": [],
      "source": []
    },
    {
      "cell_type": "code",
      "execution_count": 24,
      "metadata": {},
      "outputs": [],
      "source": [
        "# Function to count words in a text column\n",
        "def count_words(text):\n",
        "    tokens = word_tokenize(text)  # Tokenize the text into words\n",
        "    return len(tokens)"
      ]
    },
    {
      "cell_type": "code",
      "execution_count": 25,
      "metadata": {},
      "outputs": [
        {
          "data": {
            "text/html": [
              "<div>\n",
              "<style scoped>\n",
              "    .dataframe tbody tr th:only-of-type {\n",
              "        vertical-align: middle;\n",
              "    }\n",
              "\n",
              "    .dataframe tbody tr th {\n",
              "        vertical-align: top;\n",
              "    }\n",
              "\n",
              "    .dataframe thead th {\n",
              "        text-align: right;\n",
              "    }\n",
              "</style>\n",
              "<table border=\"1\" class=\"dataframe\">\n",
              "  <thead>\n",
              "    <tr style=\"text-align: right;\">\n",
              "      <th></th>\n",
              "      <th>num_row</th>\n",
              "      <th>text_clean</th>\n",
              "      <th>text_complexity</th>\n",
              "      <th>compound_sentiment</th>\n",
              "      <th>word_count</th>\n",
              "    </tr>\n",
              "  </thead>\n",
              "  <tbody>\n",
              "    <tr>\n",
              "      <th>10013</th>\n",
              "      <td>10013</td>\n",
              "      <td>bad book prove good one either admit getting i...</td>\n",
              "      <td>5.2</td>\n",
              "      <td>0.9631</td>\n",
              "      <td>38</td>\n",
              "    </tr>\n",
              "    <tr>\n",
              "      <th>14573</th>\n",
              "      <td>14573</td>\n",
              "      <td>beauty junky almost every beauty book ever pub...</td>\n",
              "      <td>5.0</td>\n",
              "      <td>0.9801</td>\n",
              "      <td>42</td>\n",
              "    </tr>\n",
              "    <tr>\n",
              "      <th>14810</th>\n",
              "      <td>14810</td>\n",
              "      <td>limitless mind guide remote viewing transforma...</td>\n",
              "      <td>16.0</td>\n",
              "      <td>0.9153</td>\n",
              "      <td>64</td>\n",
              "    </tr>\n",
              "    <tr>\n",
              "      <th>13373</th>\n",
              "      <td>13373</td>\n",
              "      <td>believe much related entire novel character li...</td>\n",
              "      <td>5.8</td>\n",
              "      <td>0.8658</td>\n",
              "      <td>19</td>\n",
              "    </tr>\n",
              "    <tr>\n",
              "      <th>13567</th>\n",
              "      <td>13567</td>\n",
              "      <td>guess fault mine choosing product notice drama...</td>\n",
              "      <td>6.3</td>\n",
              "      <td>-0.5423</td>\n",
              "      <td>30</td>\n",
              "    </tr>\n",
              "    <tr>\n",
              "      <th>16</th>\n",
              "      <td>16</td>\n",
              "      <td>considered classic apocalyptic literature brav...</td>\n",
              "      <td>11.0</td>\n",
              "      <td>0.9246</td>\n",
              "      <td>68</td>\n",
              "    </tr>\n",
              "    <tr>\n",
              "      <th>4184</th>\n",
              "      <td>4184</td>\n",
              "      <td>hate admit since bought elegance started follo...</td>\n",
              "      <td>6.8</td>\n",
              "      <td>0.8442</td>\n",
              "      <td>50</td>\n",
              "    </tr>\n",
              "    <tr>\n",
              "      <th>8407</th>\n",
              "      <td>8407</td>\n",
              "      <td>brian haig new author tried love style charact...</td>\n",
              "      <td>4.4</td>\n",
              "      <td>0.6369</td>\n",
              "      <td>14</td>\n",
              "    </tr>\n",
              "    <tr>\n",
              "      <th>9141</th>\n",
              "      <td>9141</td>\n",
              "      <td>land remembered must read florida resident whe...</td>\n",
              "      <td>7.0</td>\n",
              "      <td>0.0000</td>\n",
              "      <td>17</td>\n",
              "    </tr>\n",
              "    <tr>\n",
              "      <th>6989</th>\n",
              "      <td>6989</td>\n",
              "      <td>bought book security guard year affluent chica...</td>\n",
              "      <td>7.2</td>\n",
              "      <td>0.9773</td>\n",
              "      <td>53</td>\n",
              "    </tr>\n",
              "  </tbody>\n",
              "</table>\n",
              "</div>"
            ],
            "text/plain": [
              "       num_row                                         text_clean  \\\n",
              "10013    10013  bad book prove good one either admit getting i...   \n",
              "14573    14573  beauty junky almost every beauty book ever pub...   \n",
              "14810    14810  limitless mind guide remote viewing transforma...   \n",
              "13373    13373  believe much related entire novel character li...   \n",
              "13567    13567  guess fault mine choosing product notice drama...   \n",
              "16          16  considered classic apocalyptic literature brav...   \n",
              "4184      4184  hate admit since bought elegance started follo...   \n",
              "8407      8407  brian haig new author tried love style charact...   \n",
              "9141      9141  land remembered must read florida resident whe...   \n",
              "6989      6989  bought book security guard year affluent chica...   \n",
              "\n",
              "       text_complexity  compound_sentiment  word_count  \n",
              "10013              5.2              0.9631          38  \n",
              "14573              5.0              0.9801          42  \n",
              "14810             16.0              0.9153          64  \n",
              "13373              5.8              0.8658          19  \n",
              "13567              6.3             -0.5423          30  \n",
              "16                11.0              0.9246          68  \n",
              "4184               6.8              0.8442          50  \n",
              "8407               4.4              0.6369          14  \n",
              "9141               7.0              0.0000          17  \n",
              "6989               7.2              0.9773          53  "
            ]
          },
          "execution_count": 25,
          "metadata": {},
          "output_type": "execute_result"
        }
      ],
      "source": [
        "df_reduced['word_count'] = df_reduced['text_clean'].apply(count_words)\n",
        "df_reduced.sample(10)"
      ]
    },
    {
      "cell_type": "markdown",
      "metadata": {},
      "source": [
        "# Data Preprocesing and Outliers Removal Analysis"
      ]
    },
    {
      "cell_type": "code",
      "execution_count": 26,
      "metadata": {},
      "outputs": [
        {
          "data": {
            "text/plain": [
              "count    15738.000000\n",
              "mean         7.305147\n",
              "std          3.720162\n",
              "min         -3.100000\n",
              "25%          5.000000\n",
              "50%          7.000000\n",
              "75%          9.200000\n",
              "max        232.200000\n",
              "Name: text_complexity, dtype: float64"
            ]
          },
          "execution_count": 26,
          "metadata": {},
          "output_type": "execute_result"
        }
      ],
      "source": [
        "df_reduced['text_complexity'].describe().T"
      ]
    },
    {
      "cell_type": "code",
      "execution_count": 27,
      "metadata": {},
      "outputs": [
        {
          "data": {
            "image/png": "[encoded data removed]",
            "text/plain": [
              "<Figure size 800x600 with 1 Axes>"
            ]
          },
          "metadata": {},
          "output_type": "display_data"
        }
      ],
      "source": [
        "plt.figure(figsize=(8, 6))\n",
        "sns.boxplot(data=df_reduced, x='text_complexity')\n",
        "plt.title(\"Box Plot of Text Complexity\")\n",
        "plt.xlabel(\"Text Complexity\")\n",
        "plt.show()"
      ]
    },
    {
      "cell_type": "code",
      "execution_count": 31,
      "metadata": {},
      "outputs": [
        {
          "data": {
            "text/plain": [
              "2"
            ]
          },
          "execution_count": 31,
          "metadata": {},
          "output_type": "execute_result"
        }
      ],
      "source": [
        "text_complexity_outliers_count = df_reduced[df_reduced['text_complexity'] > 35].value_counts().sum()\n",
        "text_complexity_outliers_count"
      ]
    },
    {
      "cell_type": "code",
      "execution_count": 37,
      "metadata": {},
      "outputs": [
        {
          "name": "stdout",
          "output_type": "stream",
          "text": [
            "Outliers for Text Complexity are removed as they just represent the 0.013% of the Dataset\n"
          ]
        }
      ],
      "source": [
        "percentage = 100*text_complexity_outliers_count/df_reduced.shape[0]\n",
        "print(f'Outliers for Text Complexity are removed as they just represent the {percentage:.3f}% of the Dataset')"
      ]
    },
    {
      "cell_type": "code",
      "execution_count": 38,
      "metadata": {},
      "outputs": [
        {
          "data": {
            "text/plain": [
              "(15738, 5)"
            ]
          },
          "execution_count": 38,
          "metadata": {},
          "output_type": "execute_result"
        }
      ],
      "source": [
        "df_reduced.shape"
      ]
    },
    {
      "cell_type": "code",
      "execution_count": 39,
      "metadata": {},
      "outputs": [
        {
          "data": {
            "text/plain": [
              "(15736, 5)"
            ]
          },
          "execution_count": 39,
          "metadata": {},
          "output_type": "execute_result"
        }
      ],
      "source": [
        "df_reduced = df_reduced[df_reduced['text_complexity'] <= 35]\n",
        "df_reduced.shape"
      ]
    },
    {
      "cell_type": "code",
      "execution_count": 40,
      "metadata": {},
      "outputs": [
        {
          "data": {
            "image/png": "[encoded data removed]",
            "text/plain": [
              "<Figure size 800x600 with 1 Axes>"
            ]
          },
          "metadata": {},
          "output_type": "display_data"
        }
      ],
      "source": [
        "plt.figure(figsize=(8, 6))\n",
        "sns.boxplot(data=df_reduced, x='word_count')\n",
        "plt.title(\"Box Plot of Text Complexity\")\n",
        "plt.xlabel(\"Text Complexity\")\n",
        "plt.show()"
      ]
    },
    {
      "cell_type": "code",
      "execution_count": 41,
      "metadata": {},
      "outputs": [
        {
          "data": {
            "text/plain": [
              "count    15736.000000\n",
              "mean        67.462697\n",
              "std         89.429364\n",
              "min          1.000000\n",
              "25%         18.000000\n",
              "50%         37.000000\n",
              "75%         81.000000\n",
              "max       2725.000000\n",
              "Name: word_count, dtype: float64"
            ]
          },
          "execution_count": 41,
          "metadata": {},
          "output_type": "execute_result"
        }
      ],
      "source": [
        "df_reduced['word_count'].describe().T"
      ]
    },
    {
      "cell_type": "code",
      "execution_count": 45,
      "metadata": {},
      "outputs": [
        {
          "data": {
            "text/plain": [
              "2"
            ]
          },
          "execution_count": 45,
          "metadata": {},
          "output_type": "execute_result"
        }
      ],
      "source": [
        "df_reduced[df_reduced['word_count'] > 1500].value_counts().sum()"
      ]
    },
    {
      "cell_type": "code",
      "execution_count": 46,
      "metadata": {},
      "outputs": [
        {
          "data": {
            "text/plain": [
              "2"
            ]
          },
          "execution_count": 46,
          "metadata": {},
          "output_type": "execute_result"
        }
      ],
      "source": [
        "text_word_count_outliers_count = df_reduced[df_reduced['word_count'] > 1500].value_counts().sum()\n",
        "text_word_count_outliers_count"
      ]
    },
    {
      "cell_type": "code",
      "execution_count": 47,
      "metadata": {},
      "outputs": [
        {
          "name": "stdout",
          "output_type": "stream",
          "text": [
            "Outliers for Word Count are removed as they just represent the 0.013% of the Dataset\n"
          ]
        }
      ],
      "source": [
        "percentage = 100*text_word_count_outliers_count/df_reduced.shape[0]\n",
        "print(f'Outliers for Word Count are removed as they just represent the {percentage:.3f}% of the Dataset')"
      ]
    },
    {
      "cell_type": "code",
      "execution_count": 48,
      "metadata": {},
      "outputs": [
        {
          "data": {
            "text/plain": [
              "(15736, 5)"
            ]
          },
          "execution_count": 48,
          "metadata": {},
          "output_type": "execute_result"
        }
      ],
      "source": [
        "df_reduced.shape"
      ]
    },
    {
      "cell_type": "code",
      "execution_count": 49,
      "metadata": {},
      "outputs": [
        {
          "data": {
            "text/plain": [
              "(15734, 5)"
            ]
          },
          "execution_count": 49,
          "metadata": {},
          "output_type": "execute_result"
        }
      ],
      "source": [
        "df_reduced = df_reduced[df_reduced['word_count'] <= 1500]\n",
        "df_reduced.shape"
      ]
    },
    {
      "cell_type": "markdown",
      "metadata": {},
      "source": [
        "# Dataset Saving"
      ]
    },
    {
      "cell_type": "code",
      "execution_count": 50,
      "metadata": {},
      "outputs": [],
      "source": [
        "df_reduced.to_csv('../data/processed/df_reduced_with_sentiment.csv')"
      ]
    }
  ],
  "metadata": {
    "accelerator": "GPU",
    "colab": {
      "gpuType": "T4",
      "provenance": []
    },
    "kernelspec": {
      "display_name": "Python 3",
      "name": "python3"
    },
    "language_info": {
      "codemirror_mode": {
        "name": "ipython",
        "version": 3
      },
      "file_extension": ".py",
      "mimetype": "text/x-python",
      "name": "python",
      "nbconvert_exporter": "python",
      "pygments_lexer": "ipython3",
      "version": "3.8.10"
    }
  },
  "nbformat": 4,
  "nbformat_minor": 0
}
