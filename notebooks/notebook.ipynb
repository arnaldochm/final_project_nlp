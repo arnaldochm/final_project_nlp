{
 "cells": [
  {
   "cell_type": "code",
   "execution_count": 1,
   "metadata": {},
   "outputs": [],
   "source": [
    "# Dataset: Amazon Books Reviews\n",
    "# Author: Mohamed Bekheet\n",
    "# Source: Mohamed Bekheet. (2022). Amazon Books Reviews [Data set]. Kaggle. https://www.kaggle.com/datasets/mohamedbakhet/amazon-books-reviews\n",
    "# URL: https://www.kaggle.com/datasets/mohamedbakhet/amazon-books-reviews\n",
    "# This dataset contains 2 files\n",
    "# The first file** reviews** file contain feedback about 3M user on 212404 unique books the data set is \n",
    "# part of the Amazon review Dataset it contains product reviews and metadata from Amazon, including \n",
    "# 142.8 million reviews spanning May 1996 - July 2014.\n",
    "# Reviews Dataset Data Dictionary:\n",
    "# -id:                  The Id of Book\n",
    "# -Title:   \t        Book Title\n",
    "# -Price:               The price of Book\n",
    "# -User_id:             Id of the user who rates the book\n",
    "# -profileName:         Name of the user who rates the book\n",
    "# -review/helpfulness:  helpfulness rating of the review, e.g. 2/3\n",
    "# -review/score:        rating from 0 to 5 for the book\n",
    "# -review/time:         time of given the review\n",
    "# -review/summary:      the summary of a text review\n",
    "# -review/text:         the full text of a review\n",
    "\n",
    "# The second file Books Details file contains details information about 212404 unique books it file is built by using\n",
    "# google books API to get details information about books it rated in the first file\n",
    "# and this file contains\n",
    "\n",
    "# Book Details Dataset Data Dictionary:\n",
    "# Title:\t        Book Title\n",
    "# Descripe:\t        Decription of book\n",
    "# authors:\t        Name of book authors\n",
    "# image:\t        Url for book cover\n",
    "# previewLink:\t    Link to access this book on google Books\n",
    "# publisher:\t    Name of the publisheer\n",
    "# publishedDate:\tThe date of publish\n",
    "# infoLink:\t        Link to get more information about the book on google books\n",
    "# categories:\t    Genres of books\n",
    "# ratingsCount:\t    Averaging rating for book\n",
    "\n",
    "# Both Datasets are linked through the unique tittle of the book."
   ]
  },
  {
   "cell_type": "code",
   "execution_count": 2,
   "metadata": {},
   "outputs": [],
   "source": [
    "# Step 0. Load libraries and custom modules\n",
    "import pandas as pd\n",
    "import numpy as np\n",
    "import matplotlib.pyplot as plt\n",
    "import seaborn as sns\n",
    "import os\n",
    "import nltk\n",
    "from nltk.corpus import stopwords\n",
    "from wordcloud import WordCloud\n",
    "import re\n",
    "# ------------  PREPROCESING -------------\n",
    "from sklearn.model_selection import train_test_split\n",
    "from sklearn.decomposition import PCA\n",
    "from sklearn.decomposition import FastICA\n",
    "from sklearn.preprocessing import OneHotEncoder\n",
    "from sklearn.preprocessing import StandardScaler\n",
    "from sklearn.feature_extraction.text import TfidfVectorizer\n",
    "\n"
   ]
  },
  {
   "cell_type": "code",
   "execution_count": 21,
   "metadata": {},
   "outputs": [
    {
     "name": "stdout",
     "output_type": "stream",
     "text": [
      "<class 'pandas.core.frame.DataFrame'>\n",
      "RangeIndex: 3000000 entries, 0 to 2999999\n",
      "Data columns (total 10 columns):\n",
      " #   Column              Dtype  \n",
      "---  ------              -----  \n",
      " 0   Id                  object \n",
      " 1   Title               object \n",
      " 2   Price               float64\n",
      " 3   User_id             object \n",
      " 4   profileName         object \n",
      " 5   review/helpfulness  object \n",
      " 6   review/score        float64\n",
      " 7   review/time         int64  \n",
      " 8   review/summary      object \n",
      " 9   review/text         object \n",
      "dtypes: float64(2), int64(1), object(7)\n",
      "memory usage: 228.9+ MB\n"
     ]
    }
   ],
   "source": [
    "df_rating_raw = pd.read_csv('../data/raw/Books_rating.csv')\n",
    "\n",
    "df_rating_raw.info()"
   ]
  },
  {
   "cell_type": "code",
   "execution_count": 22,
   "metadata": {},
   "outputs": [
    {
     "data": {
      "text/html": [
       "<div>\n",
       "<style scoped>\n",
       "    .dataframe tbody tr th:only-of-type {\n",
       "        vertical-align: middle;\n",
       "    }\n",
       "\n",
       "    .dataframe tbody tr th {\n",
       "        vertical-align: top;\n",
       "    }\n",
       "\n",
       "    .dataframe thead th {\n",
       "        text-align: right;\n",
       "    }\n",
       "</style>\n",
       "<table border=\"1\" class=\"dataframe\">\n",
       "  <thead>\n",
       "    <tr style=\"text-align: right;\">\n",
       "      <th></th>\n",
       "      <th>Id</th>\n",
       "      <th>Title</th>\n",
       "      <th>Price</th>\n",
       "      <th>User_id</th>\n",
       "      <th>profileName</th>\n",
       "      <th>review/helpfulness</th>\n",
       "      <th>review/score</th>\n",
       "      <th>review/time</th>\n",
       "      <th>review/summary</th>\n",
       "      <th>review/text</th>\n",
       "    </tr>\n",
       "  </thead>\n",
       "  <tbody>\n",
       "    <tr>\n",
       "      <th>2547363</th>\n",
       "      <td>B000P29XCO</td>\n",
       "      <td>Frommer's Buenos Aires (Frommer's Complete)</td>\n",
       "      <td>1.69</td>\n",
       "      <td>A2RH8F81E47C87</td>\n",
       "      <td>David Carnes</td>\n",
       "      <td>1/1</td>\n",
       "      <td>4.0</td>\n",
       "      <td>1310860800</td>\n",
       "      <td>This book plus a great online restaurant guide...</td>\n",
       "      <td>I agree with several of the other reviewers wh...</td>\n",
       "    </tr>\n",
       "    <tr>\n",
       "      <th>1375726</th>\n",
       "      <td>1884956173</td>\n",
       "      <td>Damn! Why Didn't I Write That? How Ordinary Pe...</td>\n",
       "      <td>NaN</td>\n",
       "      <td>A3FGFF44RCOZXG</td>\n",
       "      <td>George Elliott</td>\n",
       "      <td>13/16</td>\n",
       "      <td>5.0</td>\n",
       "      <td>1085788800</td>\n",
       "      <td>Great reading for everyone</td>\n",
       "      <td>It's a book that I bought on a whim for summer...</td>\n",
       "    </tr>\n",
       "    <tr>\n",
       "      <th>2353261</th>\n",
       "      <td>0761989757</td>\n",
       "      <td>Designing and Conducting Ethnographic Research...</td>\n",
       "      <td>NaN</td>\n",
       "      <td>AV6P1GPQG8RQI</td>\n",
       "      <td>Mary Croft \"researcher_doc\"</td>\n",
       "      <td>1/10</td>\n",
       "      <td>3.0</td>\n",
       "      <td>1227398400</td>\n",
       "      <td>No \"Box\" Set</td>\n",
       "      <td>When I purchased this item, I was replacing it...</td>\n",
       "    </tr>\n",
       "    <tr>\n",
       "      <th>2485954</th>\n",
       "      <td>B000NW6TR8</td>\n",
       "      <td>The Exorcist</td>\n",
       "      <td>NaN</td>\n",
       "      <td>NaN</td>\n",
       "      <td>NaN</td>\n",
       "      <td>0/1</td>\n",
       "      <td>5.0</td>\n",
       "      <td>996451200</td>\n",
       "      <td>I haven't read it yet but...</td>\n",
       "      <td>...I plan to soon. If the novel is even close ...</td>\n",
       "    </tr>\n",
       "    <tr>\n",
       "      <th>600888</th>\n",
       "      <td>0792727606</td>\n",
       "      <td>Full House</td>\n",
       "      <td>NaN</td>\n",
       "      <td>A3QC7K36IGEB49</td>\n",
       "      <td>\"tmh72\"</td>\n",
       "      <td>1/5</td>\n",
       "      <td>4.0</td>\n",
       "      <td>1035331200</td>\n",
       "      <td>A lot of laughs</td>\n",
       "      <td>Well, I've read many of the other reviews, and...</td>\n",
       "    </tr>\n",
       "    <tr>\n",
       "      <th>1419530</th>\n",
       "      <td>1400101549</td>\n",
       "      <td>Smashed: Story of a Drunken Girlhood</td>\n",
       "      <td>26.59</td>\n",
       "      <td>A1QR76OCGJQ2EV</td>\n",
       "      <td>Dee Jay</td>\n",
       "      <td>1/4</td>\n",
       "      <td>4.0</td>\n",
       "      <td>1202169600</td>\n",
       "      <td>I'm not sure how much of this story I believe</td>\n",
       "      <td>I'm about three-quarters of the way through, s...</td>\n",
       "    </tr>\n",
       "    <tr>\n",
       "      <th>2698599</th>\n",
       "      <td>0786287187</td>\n",
       "      <td>The Last Templar</td>\n",
       "      <td>NaN</td>\n",
       "      <td>AQDU6EACJKBI2</td>\n",
       "      <td>Yaran \"Yarecki\"</td>\n",
       "      <td>0/2</td>\n",
       "      <td>1.0</td>\n",
       "      <td>1172534400</td>\n",
       "      <td>Simply an awful cheat...</td>\n",
       "      <td>It's about Templar's \"big\" secret, villainous ...</td>\n",
       "    </tr>\n",
       "    <tr>\n",
       "      <th>2079872</th>\n",
       "      <td>B00005UVH7</td>\n",
       "      <td>Zen and the Art of Motorcycle Maintenance</td>\n",
       "      <td>NaN</td>\n",
       "      <td>AR1EFIBCNE4KP</td>\n",
       "      <td>M. Barretta</td>\n",
       "      <td>0/0</td>\n",
       "      <td>5.0</td>\n",
       "      <td>888796800</td>\n",
       "      <td>if you don't want to think, don't read this, b...</td>\n",
       "      <td>i had to read this book for my sociology class...</td>\n",
       "    </tr>\n",
       "    <tr>\n",
       "      <th>423368</th>\n",
       "      <td>0345441419</td>\n",
       "      <td>You Remind Me of Me</td>\n",
       "      <td>NaN</td>\n",
       "      <td>A2XBE812RSFZO7</td>\n",
       "      <td>lilhelpformyfriends \"middlearth\"</td>\n",
       "      <td>1/7</td>\n",
       "      <td>5.0</td>\n",
       "      <td>1232323200</td>\n",
       "      <td>GOOD COLLECTION OF LITTLE STORIES</td>\n",
       "      <td>LOVE TO READ. LIKE THE GOOD SHORT STORIES THAT...</td>\n",
       "    </tr>\n",
       "    <tr>\n",
       "      <th>1925380</th>\n",
       "      <td>0517464675</td>\n",
       "      <td>Film Noir: An Encyclopedic Reference to Americ...</td>\n",
       "      <td>NaN</td>\n",
       "      <td>A2BR9JLSF786KN</td>\n",
       "      <td>S. McCallister</td>\n",
       "      <td>18/18</td>\n",
       "      <td>5.0</td>\n",
       "      <td>1095379200</td>\n",
       "      <td>A Great Reference - and you CAN avoid spoilers...</td>\n",
       "      <td>Have others noted, this is both a great refere...</td>\n",
       "    </tr>\n",
       "  </tbody>\n",
       "</table>\n",
       "</div>"
      ],
      "text/plain": [
       "                 Id                                              Title  Price  \\\n",
       "2547363  B000P29XCO        Frommer's Buenos Aires (Frommer's Complete)   1.69   \n",
       "1375726  1884956173  Damn! Why Didn't I Write That? How Ordinary Pe...    NaN   \n",
       "2353261  0761989757  Designing and Conducting Ethnographic Research...    NaN   \n",
       "2485954  B000NW6TR8                                       The Exorcist    NaN   \n",
       "600888   0792727606                                         Full House    NaN   \n",
       "1419530  1400101549               Smashed: Story of a Drunken Girlhood  26.59   \n",
       "2698599  0786287187                                   The Last Templar    NaN   \n",
       "2079872  B00005UVH7          Zen and the Art of Motorcycle Maintenance    NaN   \n",
       "423368   0345441419                                You Remind Me of Me    NaN   \n",
       "1925380  0517464675  Film Noir: An Encyclopedic Reference to Americ...    NaN   \n",
       "\n",
       "                User_id                       profileName review/helpfulness  \\\n",
       "2547363  A2RH8F81E47C87                      David Carnes                1/1   \n",
       "1375726  A3FGFF44RCOZXG                    George Elliott              13/16   \n",
       "2353261   AV6P1GPQG8RQI       Mary Croft \"researcher_doc\"               1/10   \n",
       "2485954             NaN                               NaN                0/1   \n",
       "600888   A3QC7K36IGEB49                           \"tmh72\"                1/5   \n",
       "1419530  A1QR76OCGJQ2EV                           Dee Jay                1/4   \n",
       "2698599   AQDU6EACJKBI2                   Yaran \"Yarecki\"                0/2   \n",
       "2079872   AR1EFIBCNE4KP                       M. Barretta                0/0   \n",
       "423368   A2XBE812RSFZO7  lilhelpformyfriends \"middlearth\"                1/7   \n",
       "1925380  A2BR9JLSF786KN                    S. McCallister              18/18   \n",
       "\n",
       "         review/score  review/time  \\\n",
       "2547363           4.0   1310860800   \n",
       "1375726           5.0   1085788800   \n",
       "2353261           3.0   1227398400   \n",
       "2485954           5.0    996451200   \n",
       "600888            4.0   1035331200   \n",
       "1419530           4.0   1202169600   \n",
       "2698599           1.0   1172534400   \n",
       "2079872           5.0    888796800   \n",
       "423368            5.0   1232323200   \n",
       "1925380           5.0   1095379200   \n",
       "\n",
       "                                            review/summary  \\\n",
       "2547363  This book plus a great online restaurant guide...   \n",
       "1375726                         Great reading for everyone   \n",
       "2353261                                       No \"Box\" Set   \n",
       "2485954                       I haven't read it yet but...   \n",
       "600888                                     A lot of laughs   \n",
       "1419530      I'm not sure how much of this story I believe   \n",
       "2698599                           Simply an awful cheat...   \n",
       "2079872  if you don't want to think, don't read this, b...   \n",
       "423368                   GOOD COLLECTION OF LITTLE STORIES   \n",
       "1925380  A Great Reference - and you CAN avoid spoilers...   \n",
       "\n",
       "                                               review/text  \n",
       "2547363  I agree with several of the other reviewers wh...  \n",
       "1375726  It's a book that I bought on a whim for summer...  \n",
       "2353261  When I purchased this item, I was replacing it...  \n",
       "2485954  ...I plan to soon. If the novel is even close ...  \n",
       "600888   Well, I've read many of the other reviews, and...  \n",
       "1419530  I'm about three-quarters of the way through, s...  \n",
       "2698599  It's about Templar's \"big\" secret, villainous ...  \n",
       "2079872  i had to read this book for my sociology class...  \n",
       "423368   LOVE TO READ. LIKE THE GOOD SHORT STORIES THAT...  \n",
       "1925380  Have others noted, this is both a great refere...  "
      ]
     },
     "execution_count": 22,
     "metadata": {},
     "output_type": "execute_result"
    }
   ],
   "source": [
    "df_rating_raw.sample(10)"
   ]
  },
  {
   "cell_type": "code",
   "execution_count": 24,
   "metadata": {},
   "outputs": [
    {
     "name": "stdout",
     "output_type": "stream",
     "text": [
      "<class 'pandas.core.frame.DataFrame'>\n",
      "RangeIndex: 212404 entries, 0 to 212403\n",
      "Data columns (total 10 columns):\n",
      " #   Column         Non-Null Count   Dtype  \n",
      "---  ------         --------------   -----  \n",
      " 0   Title          212403 non-null  object \n",
      " 1   description    143962 non-null  object \n",
      " 2   authors        180991 non-null  object \n",
      " 3   image          160329 non-null  object \n",
      " 4   previewLink    188568 non-null  object \n",
      " 5   publisher      136518 non-null  object \n",
      " 6   publishedDate  187099 non-null  object \n",
      " 7   infoLink       188568 non-null  object \n",
      " 8   categories     171205 non-null  object \n",
      " 9   ratingsCount   49752 non-null   float64\n",
      "dtypes: float64(1), object(9)\n",
      "memory usage: 16.2+ MB\n"
     ]
    }
   ],
   "source": [
    "df_data_raw = pd.read_csv('../data/raw/books_data.csv')\n",
    "\n",
    "df_data_raw.info()"
   ]
  },
  {
   "cell_type": "code",
   "execution_count": 25,
   "metadata": {},
   "outputs": [
    {
     "data": {
      "text/html": [
       "<div>\n",
       "<style scoped>\n",
       "    .dataframe tbody tr th:only-of-type {\n",
       "        vertical-align: middle;\n",
       "    }\n",
       "\n",
       "    .dataframe tbody tr th {\n",
       "        vertical-align: top;\n",
       "    }\n",
       "\n",
       "    .dataframe thead th {\n",
       "        text-align: right;\n",
       "    }\n",
       "</style>\n",
       "<table border=\"1\" class=\"dataframe\">\n",
       "  <thead>\n",
       "    <tr style=\"text-align: right;\">\n",
       "      <th></th>\n",
       "      <th>Title</th>\n",
       "      <th>description</th>\n",
       "      <th>authors</th>\n",
       "      <th>image</th>\n",
       "      <th>previewLink</th>\n",
       "      <th>publisher</th>\n",
       "      <th>publishedDate</th>\n",
       "      <th>infoLink</th>\n",
       "      <th>categories</th>\n",
       "      <th>ratingsCount</th>\n",
       "    </tr>\n",
       "  </thead>\n",
       "  <tbody>\n",
       "    <tr>\n",
       "      <th>70734</th>\n",
       "      <td>Kemp: Passage at Arms Hb</td>\n",
       "      <td>NaN</td>\n",
       "      <td>['Arizona. Legislative Assembly']</td>\n",
       "      <td>http://books.google.com/books/content?id=4chHA...</td>\n",
       "      <td>http://books.google.com/books?id=4chHAQAAMAAJ&amp;...</td>\n",
       "      <td>NaN</td>\n",
       "      <td>1895</td>\n",
       "      <td>https://play.google.com/store/books/details?id...</td>\n",
       "      <td>['Arizona']</td>\n",
       "      <td>NaN</td>\n",
       "    </tr>\n",
       "    <tr>\n",
       "      <th>206047</th>\n",
       "      <td>The HEART of Selling</td>\n",
       "      <td>NaN</td>\n",
       "      <td>NaN</td>\n",
       "      <td>NaN</td>\n",
       "      <td>NaN</td>\n",
       "      <td>NaN</td>\n",
       "      <td>NaN</td>\n",
       "      <td>NaN</td>\n",
       "      <td>NaN</td>\n",
       "      <td>NaN</td>\n",
       "    </tr>\n",
       "    <tr>\n",
       "      <th>131872</th>\n",
       "      <td>Always Bet on the Butcher: Warren Nelson and C...</td>\n",
       "      <td>Warren Nelson's career carried him into partne...</td>\n",
       "      <td>['Warren Nelson', 'Ken Adams', 'Gail Nelson', ...</td>\n",
       "      <td>http://books.google.com/books/content?id=RYyJV...</td>\n",
       "      <td>http://books.google.nl/books?id=RYyJVppW5CYC&amp;q...</td>\n",
       "      <td>University of Nevada Oral History</td>\n",
       "      <td>1994</td>\n",
       "      <td>http://books.google.nl/books?id=RYyJVppW5CYC&amp;d...</td>\n",
       "      <td>['Biography &amp; Autobiography']</td>\n",
       "      <td>NaN</td>\n",
       "    </tr>\n",
       "    <tr>\n",
       "      <th>167276</th>\n",
       "      <td>Homes and Other Black Holes</td>\n",
       "      <td>\"Mr. Barry is the funniest man in America and ...</td>\n",
       "      <td>['Dave Barry']</td>\n",
       "      <td>http://books.google.com/books/content?id=50ttK...</td>\n",
       "      <td>http://books.google.com/books?id=50ttKhJJBoUC&amp;...</td>\n",
       "      <td>Ballantine Books</td>\n",
       "      <td>2010-07-28</td>\n",
       "      <td>https://play.google.com/store/books/details?id...</td>\n",
       "      <td>['Humor']</td>\n",
       "      <td>6.0</td>\n",
       "    </tr>\n",
       "    <tr>\n",
       "      <th>130254</th>\n",
       "      <td>Sitt Marie Rose</td>\n",
       "      <td>NaN</td>\n",
       "      <td>['Etel Adnan']</td>\n",
       "      <td>http://books.google.com/books/content?id=dLMKA...</td>\n",
       "      <td>http://books.google.nl/books?id=dLMKAQAAMAAJ&amp;q...</td>\n",
       "      <td>Post Apollo Press</td>\n",
       "      <td>1989</td>\n",
       "      <td>http://books.google.nl/books?id=dLMKAQAAMAAJ&amp;d...</td>\n",
       "      <td>['Lebanon']</td>\n",
       "      <td>2.0</td>\n",
       "    </tr>\n",
       "    <tr>\n",
       "      <th>118558</th>\n",
       "      <td>The Fortuens of Richard Mahony: Australia Feli...</td>\n",
       "      <td>NaN</td>\n",
       "      <td>['Ethel Florence Lindesay Robertson', 'Henry H...</td>\n",
       "      <td>NaN</td>\n",
       "      <td>http://books.google.nl/books?id=BN7xzAEACAAJ&amp;d...</td>\n",
       "      <td>NaN</td>\n",
       "      <td>1954</td>\n",
       "      <td>http://books.google.nl/books?id=BN7xzAEACAAJ&amp;d...</td>\n",
       "      <td>NaN</td>\n",
       "      <td>NaN</td>\n",
       "    </tr>\n",
       "    <tr>\n",
       "      <th>17587</th>\n",
       "      <td>Finding True Love (Musivation)</td>\n",
       "      <td>NaN</td>\n",
       "      <td>NaN</td>\n",
       "      <td>http://books.google.com/books/content?id=7dMSA...</td>\n",
       "      <td>http://books.google.nl/books?id=7dMSAQAAMAAJ&amp;p...</td>\n",
       "      <td>NaN</td>\n",
       "      <td>2007</td>\n",
       "      <td>http://books.google.nl/books?id=7dMSAQAAMAAJ&amp;d...</td>\n",
       "      <td>['Audiobooks']</td>\n",
       "      <td>NaN</td>\n",
       "    </tr>\n",
       "    <tr>\n",
       "      <th>179832</th>\n",
       "      <td>Reluctant Housemates : Pilgrim Cove (Superroma...</td>\n",
       "      <td>You can go home again... Rachel Goodman never ...</td>\n",
       "      <td>['Linda Barrett']</td>\n",
       "      <td>http://books.google.com/books/content?id=tkJ7A...</td>\n",
       "      <td>http://books.google.com/books?id=tkJ7AgAAQBAJ&amp;...</td>\n",
       "      <td>HarperCollins UK</td>\n",
       "      <td>2014-01-27</td>\n",
       "      <td>http://books.google.com/books?id=tkJ7AgAAQBAJ&amp;...</td>\n",
       "      <td>['Fiction']</td>\n",
       "      <td>NaN</td>\n",
       "    </tr>\n",
       "    <tr>\n",
       "      <th>114104</th>\n",
       "      <td>We Help Daddy (Little Golden Books)</td>\n",
       "      <td>Dads are thanked for all the fun things they d...</td>\n",
       "      <td>['Edie Evans']</td>\n",
       "      <td>http://books.google.com/books/content?id=IX2eD...</td>\n",
       "      <td>http://books.google.nl/books?id=IX2eDwAAQBAJ&amp;p...</td>\n",
       "      <td>Golden Books</td>\n",
       "      <td>2019-12-31</td>\n",
       "      <td>https://play.google.com/store/books/details?id...</td>\n",
       "      <td>['Juvenile Fiction']</td>\n",
       "      <td>NaN</td>\n",
       "    </tr>\n",
       "    <tr>\n",
       "      <th>199553</th>\n",
       "      <td>Beulah;: A novel,</td>\n",
       "      <td>NaN</td>\n",
       "      <td>['Augusta Jane Evans']</td>\n",
       "      <td>http://books.google.com/books/content?id=YKoSA...</td>\n",
       "      <td>http://books.google.com/books?id=YKoSAAAAYAAJ&amp;...</td>\n",
       "      <td>NaN</td>\n",
       "      <td>1859</td>\n",
       "      <td>https://play.google.com/store/books/details?id...</td>\n",
       "      <td>NaN</td>\n",
       "      <td>NaN</td>\n",
       "    </tr>\n",
       "  </tbody>\n",
       "</table>\n",
       "</div>"
      ],
      "text/plain": [
       "                                                    Title  \\\n",
       "70734                            Kemp: Passage at Arms Hb   \n",
       "206047                               The HEART of Selling   \n",
       "131872  Always Bet on the Butcher: Warren Nelson and C...   \n",
       "167276                        Homes and Other Black Holes   \n",
       "130254                                    Sitt Marie Rose   \n",
       "118558  The Fortuens of Richard Mahony: Australia Feli...   \n",
       "17587                      Finding True Love (Musivation)   \n",
       "179832  Reluctant Housemates : Pilgrim Cove (Superroma...   \n",
       "114104                We Help Daddy (Little Golden Books)   \n",
       "199553                                  Beulah;: A novel,   \n",
       "\n",
       "                                              description  \\\n",
       "70734                                                 NaN   \n",
       "206047                                                NaN   \n",
       "131872  Warren Nelson's career carried him into partne...   \n",
       "167276  \"Mr. Barry is the funniest man in America and ...   \n",
       "130254                                                NaN   \n",
       "118558                                                NaN   \n",
       "17587                                                 NaN   \n",
       "179832  You can go home again... Rachel Goodman never ...   \n",
       "114104  Dads are thanked for all the fun things they d...   \n",
       "199553                                                NaN   \n",
       "\n",
       "                                                  authors  \\\n",
       "70734                   ['Arizona. Legislative Assembly']   \n",
       "206047                                                NaN   \n",
       "131872  ['Warren Nelson', 'Ken Adams', 'Gail Nelson', ...   \n",
       "167276                                     ['Dave Barry']   \n",
       "130254                                     ['Etel Adnan']   \n",
       "118558  ['Ethel Florence Lindesay Robertson', 'Henry H...   \n",
       "17587                                                 NaN   \n",
       "179832                                  ['Linda Barrett']   \n",
       "114104                                     ['Edie Evans']   \n",
       "199553                             ['Augusta Jane Evans']   \n",
       "\n",
       "                                                    image  \\\n",
       "70734   http://books.google.com/books/content?id=4chHA...   \n",
       "206047                                                NaN   \n",
       "131872  http://books.google.com/books/content?id=RYyJV...   \n",
       "167276  http://books.google.com/books/content?id=50ttK...   \n",
       "130254  http://books.google.com/books/content?id=dLMKA...   \n",
       "118558                                                NaN   \n",
       "17587   http://books.google.com/books/content?id=7dMSA...   \n",
       "179832  http://books.google.com/books/content?id=tkJ7A...   \n",
       "114104  http://books.google.com/books/content?id=IX2eD...   \n",
       "199553  http://books.google.com/books/content?id=YKoSA...   \n",
       "\n",
       "                                              previewLink  \\\n",
       "70734   http://books.google.com/books?id=4chHAQAAMAAJ&...   \n",
       "206047                                                NaN   \n",
       "131872  http://books.google.nl/books?id=RYyJVppW5CYC&q...   \n",
       "167276  http://books.google.com/books?id=50ttKhJJBoUC&...   \n",
       "130254  http://books.google.nl/books?id=dLMKAQAAMAAJ&q...   \n",
       "118558  http://books.google.nl/books?id=BN7xzAEACAAJ&d...   \n",
       "17587   http://books.google.nl/books?id=7dMSAQAAMAAJ&p...   \n",
       "179832  http://books.google.com/books?id=tkJ7AgAAQBAJ&...   \n",
       "114104  http://books.google.nl/books?id=IX2eDwAAQBAJ&p...   \n",
       "199553  http://books.google.com/books?id=YKoSAAAAYAAJ&...   \n",
       "\n",
       "                                publisher publishedDate  \\\n",
       "70734                                 NaN          1895   \n",
       "206047                                NaN           NaN   \n",
       "131872  University of Nevada Oral History          1994   \n",
       "167276                   Ballantine Books    2010-07-28   \n",
       "130254                  Post Apollo Press          1989   \n",
       "118558                                NaN          1954   \n",
       "17587                                 NaN          2007   \n",
       "179832                   HarperCollins UK    2014-01-27   \n",
       "114104                       Golden Books    2019-12-31   \n",
       "199553                                NaN          1859   \n",
       "\n",
       "                                                 infoLink  \\\n",
       "70734   https://play.google.com/store/books/details?id...   \n",
       "206047                                                NaN   \n",
       "131872  http://books.google.nl/books?id=RYyJVppW5CYC&d...   \n",
       "167276  https://play.google.com/store/books/details?id...   \n",
       "130254  http://books.google.nl/books?id=dLMKAQAAMAAJ&d...   \n",
       "118558  http://books.google.nl/books?id=BN7xzAEACAAJ&d...   \n",
       "17587   http://books.google.nl/books?id=7dMSAQAAMAAJ&d...   \n",
       "179832  http://books.google.com/books?id=tkJ7AgAAQBAJ&...   \n",
       "114104  https://play.google.com/store/books/details?id...   \n",
       "199553  https://play.google.com/store/books/details?id...   \n",
       "\n",
       "                           categories  ratingsCount  \n",
       "70734                     ['Arizona']           NaN  \n",
       "206047                            NaN           NaN  \n",
       "131872  ['Biography & Autobiography']           NaN  \n",
       "167276                      ['Humor']           6.0  \n",
       "130254                    ['Lebanon']           2.0  \n",
       "118558                            NaN           NaN  \n",
       "17587                  ['Audiobooks']           NaN  \n",
       "179832                    ['Fiction']           NaN  \n",
       "114104           ['Juvenile Fiction']           NaN  \n",
       "199553                            NaN           NaN  "
      ]
     },
     "execution_count": 25,
     "metadata": {},
     "output_type": "execute_result"
    }
   ],
   "source": [
    "df_data_raw.sample(10)"
   ]
  },
  {
   "cell_type": "code",
   "execution_count": 26,
   "metadata": {},
   "outputs": [
    {
     "data": {
      "text/html": [
       "<div>\n",
       "<style scoped>\n",
       "    .dataframe tbody tr th:only-of-type {\n",
       "        vertical-align: middle;\n",
       "    }\n",
       "\n",
       "    .dataframe tbody tr th {\n",
       "        vertical-align: top;\n",
       "    }\n",
       "\n",
       "    .dataframe thead th {\n",
       "        text-align: right;\n",
       "    }\n",
       "</style>\n",
       "<table border=\"1\" class=\"dataframe\">\n",
       "  <thead>\n",
       "    <tr style=\"text-align: right;\">\n",
       "      <th></th>\n",
       "      <th>Title</th>\n",
       "      <th>description</th>\n",
       "      <th>authors</th>\n",
       "      <th>image</th>\n",
       "      <th>previewLink</th>\n",
       "      <th>publisher</th>\n",
       "      <th>publishedDate</th>\n",
       "      <th>infoLink</th>\n",
       "      <th>categories</th>\n",
       "      <th>ratingsCount</th>\n",
       "    </tr>\n",
       "  </thead>\n",
       "  <tbody>\n",
       "    <tr>\n",
       "      <th>29057</th>\n",
       "      <td>The Hobbit</td>\n",
       "      <td>Celebrating 75 years of one of the world's mos...</td>\n",
       "      <td>['J. R. R. Tolkien']</td>\n",
       "      <td>http://books.google.com/books/content?id=LLSpn...</td>\n",
       "      <td>http://books.google.com/books?id=LLSpngEACAAJ&amp;...</td>\n",
       "      <td>Mariner Books</td>\n",
       "      <td>2012</td>\n",
       "      <td>http://books.google.com/books?id=LLSpngEACAAJ&amp;...</td>\n",
       "      <td>['Juvenile Fiction']</td>\n",
       "      <td>2580.0</td>\n",
       "    </tr>\n",
       "  </tbody>\n",
       "</table>\n",
       "</div>"
      ],
      "text/plain": [
       "            Title                                        description  \\\n",
       "29057  The Hobbit  Celebrating 75 years of one of the world's mos...   \n",
       "\n",
       "                    authors  \\\n",
       "29057  ['J. R. R. Tolkien']   \n",
       "\n",
       "                                                   image  \\\n",
       "29057  http://books.google.com/books/content?id=LLSpn...   \n",
       "\n",
       "                                             previewLink      publisher  \\\n",
       "29057  http://books.google.com/books?id=LLSpngEACAAJ&...  Mariner Books   \n",
       "\n",
       "      publishedDate                                           infoLink  \\\n",
       "29057          2012  http://books.google.com/books?id=LLSpngEACAAJ&...   \n",
       "\n",
       "                 categories  ratingsCount  \n",
       "29057  ['Juvenile Fiction']        2580.0  "
      ]
     },
     "execution_count": 26,
     "metadata": {},
     "output_type": "execute_result"
    }
   ],
   "source": [
    "#Verificar que la columna ratingsCount del dataset Data coincide con el numero de entradas del dataset reviews\n",
    "df_data_raw[df_data_raw['Title']== 'The Hobbit']"
   ]
  },
  {
   "cell_type": "markdown",
   "metadata": {},
   "source": []
  },
  {
   "cell_type": "code",
   "execution_count": 27,
   "metadata": {},
   "outputs": [
    {
     "data": {
      "text/plain": [
       "Title\n",
       "The Hobbit                                                                                                         22023\n",
       "Pride and Prejudice                                                                                                20371\n",
       "Atlas Shrugged                                                                                                     12513\n",
       "Wuthering Heights                                                                                                  10780\n",
       "The Giver                                                                                                           7644\n",
       "                                                                                                                   ...  \n",
       "Illuminatus! Part I: The Eye in the Pyramid (The eye in the Pyramid, The Golden Apple,Leviathan, Parts 1, 2, 3)        1\n",
       "Modern Chess Openings                                                                                                  1\n",
       "Child Abuse and Neglect: Cases and Materials (American Casebook Series)                                                1\n",
       "Reading Is Seeing                                                                                                      1\n",
       "Its Only Art If Its Well Hung!                                                                                         1\n",
       "Name: count, Length: 212403, dtype: int64"
      ]
     },
     "execution_count": 27,
     "metadata": {},
     "output_type": "execute_result"
    }
   ],
   "source": [
    "df_rating_raw['Title'].value_counts()"
   ]
  },
  {
   "cell_type": "code",
   "execution_count": 30,
   "metadata": {},
   "outputs": [],
   "source": [
    "df_rating_processed = df_rating_raw.drop(['Id','profileName','Price'], axis=1).copy() #Price por valores nulos\n",
    "df_data_processed = df_data_raw.drop(['image','previewLink','infoLink','ratingsCount'], axis=1).copy()"
   ]
  },
  {
   "cell_type": "code",
   "execution_count": null,
   "metadata": {},
   "outputs": [],
   "source": [
    "#EDA"
   ]
  },
  {
   "cell_type": "code",
   "execution_count": 31,
   "metadata": {},
   "outputs": [
    {
     "data": {
      "text/plain": [
       "(3000000, 8)"
      ]
     },
     "execution_count": 31,
     "metadata": {},
     "output_type": "execute_result"
    }
   ],
   "source": [
    "df_rating_processed.shape"
   ]
  },
  {
   "cell_type": "code",
   "execution_count": 32,
   "metadata": {},
   "outputs": [
    {
     "data": {
      "text/plain": [
       "(212404, 6)"
      ]
     },
     "execution_count": 32,
     "metadata": {},
     "output_type": "execute_result"
    }
   ],
   "source": [
    "df_data_processed.shape"
   ]
  },
  {
   "cell_type": "code",
   "execution_count": 33,
   "metadata": {},
   "outputs": [
    {
     "data": {
      "text/plain": [
       "review/score\n",
       "5.0    1807343\n",
       "4.0     585616\n",
       "3.0     254295\n",
       "1.0     201688\n",
       "2.0     151058\n",
       "Name: count, dtype: int64"
      ]
     },
     "execution_count": 33,
     "metadata": {},
     "output_type": "execute_result"
    }
   ],
   "source": [
    "df_rating_processed['review/score'].value_counts()"
   ]
  },
  {
   "cell_type": "code",
   "execution_count": 34,
   "metadata": {},
   "outputs": [
    {
     "data": {
      "text/plain": [
       "Title                     208\n",
       "Price                 2518829\n",
       "User_id                561787\n",
       "review/helpfulness          0\n",
       "review/score                0\n",
       "review/time                 0\n",
       "review/summary            407\n",
       "review/text                 8\n",
       "dtype: int64"
      ]
     },
     "execution_count": 34,
     "metadata": {},
     "output_type": "execute_result"
    }
   ],
   "source": [
    "df_rating_processed.isna().sum()"
   ]
  },
  {
   "cell_type": "code",
   "execution_count": 36,
   "metadata": {},
   "outputs": [
    {
     "data": {
      "text/plain": [
       "Title                1\n",
       "description      68442\n",
       "authors          31413\n",
       "publisher        75886\n",
       "publishedDate    25305\n",
       "categories       41199\n",
       "dtype: int64"
      ]
     },
     "execution_count": 36,
     "metadata": {},
     "output_type": "execute_result"
    }
   ],
   "source": [
    "df_data_processed.isna().sum()"
   ]
  },
  {
   "cell_type": "code",
   "execution_count": 42,
   "metadata": {},
   "outputs": [
    {
     "data": {
      "text/plain": [
       "count    3.000000e+06\n",
       "mean     4.215289e+00\n",
       "std      1.203054e+00\n",
       "min      1.000000e+00\n",
       "25%      4.000000e+00\n",
       "50%      5.000000e+00\n",
       "75%      5.000000e+00\n",
       "max      5.000000e+00\n",
       "Name: review/score, dtype: float64"
      ]
     },
     "execution_count": 42,
     "metadata": {},
     "output_type": "execute_result"
    }
   ],
   "source": [
    "df_rating_processed['review/score'].describe()"
   ]
  },
  {
   "cell_type": "code",
   "execution_count": 43,
   "metadata": {},
   "outputs": [
    {
     "data": {
      "text/plain": [
       "<Axes: >"
      ]
     },
     "execution_count": 43,
     "metadata": {},
     "output_type": "execute_result"
    },
    {
     "data": {
      "image/png": "[encoded data removed]",
      "text/plain": [
       "<Figure size 640x480 with 1 Axes>"
      ]
     },
     "metadata": {},
     "output_type": "display_data"
    }
   ],
   "source": [
    "df_rating_processed.boxplot(column=['review/score'])"
   ]
  },
  {
   "cell_type": "code",
   "execution_count": 45,
   "metadata": {},
   "outputs": [
    {
     "data": {
      "image/png": "[encoded data removed]",
      "text/plain": [
       "<Figure size 640x480 with 1 Axes>"
      ]
     },
     "metadata": {},
     "output_type": "display_data"
    },
    {
     "data": {
      "image/png": "[encoded data removed]",
      "text/plain": [
       "<Figure size 640x480 with 1 Axes>"
      ]
     },
     "metadata": {},
     "output_type": "display_data"
    }
   ],
   "source": [
    "df_rating_processed.hist(column=['review/score'])\n",
    "plt.show()"
   ]
  },
  {
   "cell_type": "code",
   "execution_count": 46,
   "metadata": {},
   "outputs": [
    {
     "data": {
      "text/plain": [
       "4.657131181038006"
      ]
     },
     "execution_count": 46,
     "metadata": {},
     "output_type": "execute_result"
    }
   ],
   "source": [
    "df_rating_processed[df_rating_processed['Title']== 'The Hobbit']['review/score'].mean()"
   ]
  },
  {
   "cell_type": "code",
   "execution_count": 47,
   "metadata": {},
   "outputs": [
    {
     "data": {
      "text/plain": [
       "count    22023.000000\n",
       "mean         4.657131\n",
       "std          0.800452\n",
       "min          1.000000\n",
       "25%          5.000000\n",
       "50%          5.000000\n",
       "75%          5.000000\n",
       "max          5.000000\n",
       "Name: review/score, dtype: float64"
      ]
     },
     "execution_count": 47,
     "metadata": {},
     "output_type": "execute_result"
    }
   ],
   "source": [
    "df_rating_processed[df_rating_processed['Title']== 'The Hobbit']['review/score'].describe()"
   ]
  },
  {
   "cell_type": "code",
   "execution_count": 48,
   "metadata": {},
   "outputs": [
    {
     "data": {
      "text/plain": [
       "count    12513.000000\n",
       "mean         4.028690\n",
       "std          1.418635\n",
       "min          1.000000\n",
       "25%          3.000000\n",
       "50%          5.000000\n",
       "75%          5.000000\n",
       "max          5.000000\n",
       "Name: review/score, dtype: float64"
      ]
     },
     "execution_count": 48,
     "metadata": {},
     "output_type": "execute_result"
    }
   ],
   "source": [
    "\n",
    "df_rating_processed[df_rating_processed['Title']== 'Atlas Shrugged']['review/score'].describe()"
   ]
  }
 ],
 "metadata": {
  "kernelspec": {
   "display_name": ".venv",
   "language": "python",
   "name": "python3"
  },
  "language_info": {
   "codemirror_mode": {
    "name": "ipython",
    "version": 3
   },
   "file_extension": ".py",
   "mimetype": "text/x-python",
   "name": "python",
   "nbconvert_exporter": "python",
   "pygments_lexer": "ipython3",
   "version": "3.8.10"
  }
 },
 "nbformat": 4,
 "nbformat_minor": 2
}
