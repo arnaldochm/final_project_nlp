{
 "cells": [
  {
   "cell_type": "code",
   "execution_count": 426,
   "metadata": {},
   "outputs": [],
   "source": [
    "# Dataset: Amazon Books Reviews\n",
    "# Author: Mohamed Bekheet\n",
    "# Source: Mohamed Bekheet. (2022). Amazon Books Reviews [Data set]. Kaggle. https://www.kaggle.com/datasets/mohamedbakhet/amazon-books-reviews\n",
    "# URL: https://www.kaggle.com/datasets/mohamedbakhet/amazon-books-reviews\n",
    "# This dataset contains 2 files\n",
    "# The first file** reviews** file contain feedback about 3M user on 212404 unique books the data set is \n",
    "# part of the Amazon review Dataset it contains product reviews and metadata from Amazon, including \n",
    "# 142.8 million reviews spanning May 1996 - July 2014.\n",
    "# Reviews Dataset Data Dictionary:\n",
    "# -id:                  The Id of Book\n",
    "# -Title:   \t        Book Title\n",
    "# -Price:               The price of Book\n",
    "# -User_id:             Id of the user who rates the book\n",
    "# -profileName:         Name of the user who rates the book\n",
    "# -review/helpfulness:  helpfulness rating of the review, e.g. 2/3\n",
    "# -review/score:        rating from 0 to 5 for the book\n",
    "# -review/time:         time of given the review\n",
    "# -review/summary:      the summary of a text review\n",
    "# -review/text:         the full text of a review\n",
    "\n",
    "# The second file Books Details file contains details information about 212404 unique books it file is built by using\n",
    "# google books API to get details information about books it rated in the first file\n",
    "# and this file contains\n",
    "\n",
    "# Book Details Dataset Data Dictionary:\n",
    "# Title:\t        Book Title\n",
    "# Descripe:\t        Decription of book\n",
    "# authors:\t        Name of book authors\n",
    "# image:\t        Url for book cover\n",
    "# previewLink:\t    Link to access this book on google Books\n",
    "# publisher:\t    Name of the publisheer\n",
    "# publishedDate:\tThe date of publish\n",
    "# infoLink:\t        Link to get more information about the book on google books\n",
    "# categories:\t    Genres of books\n",
    "# ratingsCount:\t    Averaging rating for book\n",
    "\n",
    "# Both Datasets are linked through the unique tittle of the book."
   ]
  },
  {
   "cell_type": "code",
   "execution_count": 427,
   "metadata": {},
   "outputs": [],
   "source": [
    "# Step 0. Load libraries and custom modules\n",
    "import pandas as pd\n",
    "import numpy as np\n",
    "import matplotlib.pyplot as plt\n",
    "import seaborn as sns\n",
    "import os\n",
    "import nltk\n",
    "from nltk.corpus import stopwords\n",
    "from wordcloud import WordCloud\n",
    "import re\n",
    "from dateutil.parser import parse\n",
    "# ------------  PREPROCESING -------------\n",
    "from sklearn.model_selection import train_test_split\n",
    "from sklearn.decomposition import PCA\n",
    "from sklearn.decomposition import FastICA\n",
    "from sklearn.preprocessing import OneHotEncoder\n",
    "from sklearn.preprocessing import StandardScaler\n",
    "from sklearn.feature_extraction.text import TfidfVectorizer\n",
    "\n"
   ]
  },
  {
   "cell_type": "code",
   "execution_count": 428,
   "metadata": {},
   "outputs": [],
   "source": [
    "#Loading the Datasets\n",
    "\n",
    "\n",
    "# df_rating_raw = pd.read_csv('../data/raw/Books_rating.csv')\n",
    "\n",
    "# df_rating_raw.info()\n"
   ]
  },
  {
   "cell_type": "code",
   "execution_count": 429,
   "metadata": {},
   "outputs": [],
   "source": [
    "# df_rating_raw.sample(10)"
   ]
  },
  {
   "cell_type": "code",
   "execution_count": 430,
   "metadata": {},
   "outputs": [],
   "source": [
    "\n",
    "# df_data_raw = pd.read_csv('../data/raw/books_data.csv')\n",
    "\n",
    "# df_data_raw.info()"
   ]
  },
  {
   "cell_type": "code",
   "execution_count": 431,
   "metadata": {},
   "outputs": [],
   "source": [
    "# df_data_raw.sample(10)"
   ]
  },
  {
   "cell_type": "code",
   "execution_count": 432,
   "metadata": {},
   "outputs": [],
   "source": [
    "#Revisar Valores Nulos\n",
    "# df_rating_raw.isna().sum()"
   ]
  },
  {
   "cell_type": "code",
   "execution_count": 433,
   "metadata": {},
   "outputs": [],
   "source": [
    "# df_data_raw.isna().sum()"
   ]
  },
  {
   "cell_type": "code",
   "execution_count": 434,
   "metadata": {},
   "outputs": [],
   "source": [
    "#Innecesary Columns are removed\n",
    "# df_rating: \n",
    "#   - Price: Almost 84% of the entries are nan. \n",
    "#   - profileName: User_id provides same information.\n",
    "#   - Id: Innecesary column.\n",
    "#   - review/helpfulness: Unncesary column for current analysis\n",
    "#   - review/summary: Unncesary column for current analysis\n",
    "# df_data:\n",
    "#   - image, previewLink, infoLink: Not useful information.\n",
    "#   - ratingsCount: Information from Google API. Not useful for the analysis.\n",
    "#   - description: Non necesary information for Analysis\n",
    "\n",
    "df_rating_processed = df_rating_raw.drop(['Id','profileName','Price','review/helpfulness'], axis=1).copy()\n",
    "df_data_processed = df_data_raw.drop(['image','previewLink','infoLink','ratingsCount','description'], axis=1).copy()"
   ]
  },
  {
   "cell_type": "code",
   "execution_count": 435,
   "metadata": {},
   "outputs": [
    {
     "data": {
      "text/html": [
       "<div>\n",
       "<style scoped>\n",
       "    .dataframe tbody tr th:only-of-type {\n",
       "        vertical-align: middle;\n",
       "    }\n",
       "\n",
       "    .dataframe tbody tr th {\n",
       "        vertical-align: top;\n",
       "    }\n",
       "\n",
       "    .dataframe thead th {\n",
       "        text-align: right;\n",
       "    }\n",
       "</style>\n",
       "<table border=\"1\" class=\"dataframe\">\n",
       "  <thead>\n",
       "    <tr style=\"text-align: right;\">\n",
       "      <th></th>\n",
       "      <th>Title</th>\n",
       "      <th>User_id</th>\n",
       "      <th>review/score</th>\n",
       "      <th>review/time</th>\n",
       "      <th>review/summary</th>\n",
       "      <th>review/text</th>\n",
       "    </tr>\n",
       "  </thead>\n",
       "  <tbody>\n",
       "    <tr>\n",
       "      <th>615347</th>\n",
       "      <td>Riddle-Master</td>\n",
       "      <td>A2PEK8A2UHAY5K</td>\n",
       "      <td>2.0</td>\n",
       "      <td>1088121600</td>\n",
       "      <td>approach with caution</td>\n",
       "      <td>The hero whines a lot, suffers inexplicably ov...</td>\n",
       "    </tr>\n",
       "    <tr>\n",
       "      <th>866730</th>\n",
       "      <td>The Black Canary Archives, Vol. 1 (DC Archive ...</td>\n",
       "      <td>A1RHM4JTUYXKSG</td>\n",
       "      <td>5.0</td>\n",
       "      <td>1230508800</td>\n",
       "      <td>Imagine Robert Mitchum in fishnet stockings an...</td>\n",
       "      <td>No wait, don't do that. Do the opposite of tha...</td>\n",
       "    </tr>\n",
       "    <tr>\n",
       "      <th>828257</th>\n",
       "      <td>Wuthering Heights</td>\n",
       "      <td>A3MNV2UOUTCY5H</td>\n",
       "      <td>5.0</td>\n",
       "      <td>1323648000</td>\n",
       "      <td>A Most Perfect Novel from an Author's Perspective</td>\n",
       "      <td>(Spoiler)Wuthering Heights is one of the most ...</td>\n",
       "    </tr>\n",
       "    <tr>\n",
       "      <th>549356</th>\n",
       "      <td>The Absent Author (A to Z Mysteries)</td>\n",
       "      <td>NaN</td>\n",
       "      <td>5.0</td>\n",
       "      <td>1039392000</td>\n",
       "      <td>The best mystery</td>\n",
       "      <td>I gave this book five stars because it was a m...</td>\n",
       "    </tr>\n",
       "    <tr>\n",
       "      <th>2973423</th>\n",
       "      <td>The Count of Monte Cristo</td>\n",
       "      <td>ACZ2CLZ2WNBBD</td>\n",
       "      <td>4.0</td>\n",
       "      <td>1026864000</td>\n",
       "      <td>A man with a plan finds some jewels in a Pan</td>\n",
       "      <td>You are not getting the full story with this e...</td>\n",
       "    </tr>\n",
       "    <tr>\n",
       "      <th>352487</th>\n",
       "      <td>Victoria and the Rogue</td>\n",
       "      <td>NaN</td>\n",
       "      <td>5.0</td>\n",
       "      <td>1056672000</td>\n",
       "      <td>A must read!</td>\n",
       "      <td>This book is perhaps one of the best in the Av...</td>\n",
       "    </tr>\n",
       "    <tr>\n",
       "      <th>785441</th>\n",
       "      <td>Bridge to Terabithia</td>\n",
       "      <td>NaN</td>\n",
       "      <td>5.0</td>\n",
       "      <td>947462400</td>\n",
       "      <td>A book with a message</td>\n",
       "      <td>I can honestly say that this is the best book ...</td>\n",
       "    </tr>\n",
       "    <tr>\n",
       "      <th>2962519</th>\n",
       "      <td>Chinese calligraphy;: An introduction to its a...</td>\n",
       "      <td>AICL80OAL3492</td>\n",
       "      <td>5.0</td>\n",
       "      <td>1286409600</td>\n",
       "      <td>A Timeless Teaching Book on Kanji or Chinese C...</td>\n",
       "      <td>As a Chinese brush painting teacher I would re...</td>\n",
       "    </tr>\n",
       "    <tr>\n",
       "      <th>1975074</th>\n",
       "      <td>Phantom</td>\n",
       "      <td>A2539BWD9JDYDV</td>\n",
       "      <td>2.0</td>\n",
       "      <td>1142294400</td>\n",
       "      <td>\"Special Kay's\" Novel Not-So-Special</td>\n",
       "      <td>If you're in the mood for decent Phantom fanfi...</td>\n",
       "    </tr>\n",
       "    <tr>\n",
       "      <th>2246995</th>\n",
       "      <td>Three Nights...</td>\n",
       "      <td>A3NHO65CI8XSU8</td>\n",
       "      <td>5.0</td>\n",
       "      <td>1122422400</td>\n",
       "      <td>Terrific!</td>\n",
       "      <td>This was a great book. I read it in 2 days. Th...</td>\n",
       "    </tr>\n",
       "  </tbody>\n",
       "</table>\n",
       "</div>"
      ],
      "text/plain": [
       "                                                     Title         User_id  \\\n",
       "615347                                       Riddle-Master  A2PEK8A2UHAY5K   \n",
       "866730   The Black Canary Archives, Vol. 1 (DC Archive ...  A1RHM4JTUYXKSG   \n",
       "828257                                   Wuthering Heights  A3MNV2UOUTCY5H   \n",
       "549356                The Absent Author (A to Z Mysteries)             NaN   \n",
       "2973423                          The Count of Monte Cristo   ACZ2CLZ2WNBBD   \n",
       "352487                              Victoria and the Rogue             NaN   \n",
       "785441                                Bridge to Terabithia             NaN   \n",
       "2962519  Chinese calligraphy;: An introduction to its a...   AICL80OAL3492   \n",
       "1975074                                            Phantom  A2539BWD9JDYDV   \n",
       "2246995                                    Three Nights...  A3NHO65CI8XSU8   \n",
       "\n",
       "         review/score  review/time  \\\n",
       "615347            2.0   1088121600   \n",
       "866730            5.0   1230508800   \n",
       "828257            5.0   1323648000   \n",
       "549356            5.0   1039392000   \n",
       "2973423           4.0   1026864000   \n",
       "352487            5.0   1056672000   \n",
       "785441            5.0    947462400   \n",
       "2962519           5.0   1286409600   \n",
       "1975074           2.0   1142294400   \n",
       "2246995           5.0   1122422400   \n",
       "\n",
       "                                            review/summary  \\\n",
       "615347                               approach with caution   \n",
       "866730   Imagine Robert Mitchum in fishnet stockings an...   \n",
       "828257   A Most Perfect Novel from an Author's Perspective   \n",
       "549356                                    The best mystery   \n",
       "2973423       A man with a plan finds some jewels in a Pan   \n",
       "352487                                        A must read!   \n",
       "785441                               A book with a message   \n",
       "2962519  A Timeless Teaching Book on Kanji or Chinese C...   \n",
       "1975074               \"Special Kay's\" Novel Not-So-Special   \n",
       "2246995                                          Terrific!   \n",
       "\n",
       "                                               review/text  \n",
       "615347   The hero whines a lot, suffers inexplicably ov...  \n",
       "866730   No wait, don't do that. Do the opposite of tha...  \n",
       "828257   (Spoiler)Wuthering Heights is one of the most ...  \n",
       "549356   I gave this book five stars because it was a m...  \n",
       "2973423  You are not getting the full story with this e...  \n",
       "352487   This book is perhaps one of the best in the Av...  \n",
       "785441   I can honestly say that this is the best book ...  \n",
       "2962519  As a Chinese brush painting teacher I would re...  \n",
       "1975074  If you're in the mood for decent Phantom fanfi...  \n",
       "2246995  This was a great book. I read it in 2 days. Th...  "
      ]
     },
     "execution_count": 435,
     "metadata": {},
     "output_type": "execute_result"
    }
   ],
   "source": [
    "df_rating_processed.sample(10)"
   ]
  },
  {
   "cell_type": "code",
   "execution_count": 436,
   "metadata": {},
   "outputs": [],
   "source": [
    "df_rating_processed = df_rating_processed.rename(columns={'Title':'title', \n",
    "                                                        'User_id':'user_id',\n",
    "                                                        'review/score': 'review',\n",
    "                                                        'review/time': 'review_time',\n",
    "                                                        'review/summary': 'summary',\n",
    "                                                        'review/text': 'text'\n",
    "                                                        })\n",
    "df_data_processed = df_data_processed.rename(columns={'Title':'title', \n",
    "                                                        'publishedDate':'published_date'\n",
    "                                                        })"
   ]
  },
  {
   "cell_type": "code",
   "execution_count": 437,
   "metadata": {},
   "outputs": [
    {
     "data": {
      "text/plain": [
       "title             208\n",
       "user_id        561787\n",
       "review              0\n",
       "review_time         0\n",
       "summary           407\n",
       "text                8\n",
       "dtype: int64"
      ]
     },
     "execution_count": 437,
     "metadata": {},
     "output_type": "execute_result"
    }
   ],
   "source": [
    "df_rating_processed.isna().sum()"
   ]
  },
  {
   "cell_type": "code",
   "execution_count": 438,
   "metadata": {},
   "outputs": [
    {
     "data": {
      "text/plain": [
       "title                 1\n",
       "authors           31413\n",
       "publisher         75886\n",
       "published_date    25305\n",
       "categories        41199\n",
       "dtype: int64"
      ]
     },
     "execution_count": 438,
     "metadata": {},
     "output_type": "execute_result"
    }
   ],
   "source": [
    "df_data_processed.isna().sum()"
   ]
  },
  {
   "cell_type": "code",
   "execution_count": 439,
   "metadata": {},
   "outputs": [],
   "source": [
    "#As both datasets are going to be merged by Title, Rows with Null Title are removed.\n",
    "df_rating_processed = df_rating_processed.dropna(subset=['title', 'text'], how='any')\n",
    "\n",
    "df_data_processed = df_data_processed.dropna(subset=['title'])\n",
    "\n",
    "#Drop rows where everything except title is null\n",
    "df_data_processed = df_data_processed.dropna(subset=['authors', 'publisher', 'published_date', 'categories'], how='all')"
   ]
  },
  {
   "cell_type": "code",
   "execution_count": 440,
   "metadata": {},
   "outputs": [],
   "source": [
    "# Found 143 published_date entries with the format YYYY*\n",
    "# Found 76 published_date entries with the format YYY?\n",
    "# Found 52 published_date entries with the format YY??\n",
    "\n",
    "def convert_to_year(date_in):    \n",
    "    # try:    \n",
    "        \n",
    "        #Some dates only contain the Year with the format YYYY*. For those cases, the symbol * is removed.\n",
    "        date = date_in.replace('*', '')\n",
    "\n",
    "        #Other cases contains an ? symbol instead of a number on the Year. YYY? or YY??\n",
    "        #For this specific case, the integer mean from 0 to 9 is used: 5\n",
    "        date = date.replace('?', '5')\n",
    "\n",
    "        date = parse(date)\n",
    "        \n",
    "        return date.strftime(\"%Y\")\n",
    "    # except:        \n",
    "    #     return None"
   ]
  },
  {
   "cell_type": "code",
   "execution_count": 441,
   "metadata": {},
   "outputs": [],
   "source": [
    "#Use only the year for published_date\n",
    "df_data_processed['published_year'] = df_data_processed['published_date'].apply(lambda x: convert_to_year(x) if pd.notna(x) else x)\n",
    "\n",
    "#Drop published_date column \n",
    "df_data_processed = df_data_processed.drop(['published_date'], axis=1)"
   ]
  },
  {
   "cell_type": "code",
   "execution_count": 442,
   "metadata": {},
   "outputs": [
    {
     "data": {
      "text/html": [
       "<div>\n",
       "<style scoped>\n",
       "    .dataframe tbody tr th:only-of-type {\n",
       "        vertical-align: middle;\n",
       "    }\n",
       "\n",
       "    .dataframe tbody tr th {\n",
       "        vertical-align: top;\n",
       "    }\n",
       "\n",
       "    .dataframe thead th {\n",
       "        text-align: right;\n",
       "    }\n",
       "</style>\n",
       "<table border=\"1\" class=\"dataframe\">\n",
       "  <thead>\n",
       "    <tr style=\"text-align: right;\">\n",
       "      <th></th>\n",
       "      <th>title</th>\n",
       "      <th>authors</th>\n",
       "      <th>publisher</th>\n",
       "      <th>categories</th>\n",
       "      <th>published_year</th>\n",
       "    </tr>\n",
       "  </thead>\n",
       "  <tbody>\n",
       "    <tr>\n",
       "      <th>41927</th>\n",
       "      <td>Breaking Out of Beginner's Spanish</td>\n",
       "      <td>['Joseph J. Keenan']</td>\n",
       "      <td>University of Texas Press</td>\n",
       "      <td>['Foreign Language Study']</td>\n",
       "      <td>2010</td>\n",
       "    </tr>\n",
       "    <tr>\n",
       "      <th>128598</th>\n",
       "      <td>Coyote Frontier</td>\n",
       "      <td>['Allen Steele']</td>\n",
       "      <td>Penguin</td>\n",
       "      <td>['Fiction']</td>\n",
       "      <td>2005</td>\n",
       "    </tr>\n",
       "    <tr>\n",
       "      <th>57331</th>\n",
       "      <td>One More Bunny Board Book</td>\n",
       "      <td>['Rick Walton']</td>\n",
       "      <td>HarperCollins</td>\n",
       "      <td>['Addition']</td>\n",
       "      <td>2000</td>\n",
       "    </tr>\n",
       "    <tr>\n",
       "      <th>68454</th>\n",
       "      <td>Four Year Colleges 2002, Guide to (Peterson's ...</td>\n",
       "      <td>NaN</td>\n",
       "      <td>NaN</td>\n",
       "      <td>NaN</td>\n",
       "      <td>2002</td>\n",
       "    </tr>\n",
       "    <tr>\n",
       "      <th>101760</th>\n",
       "      <td>The Edges of the Field: Lessons on the Obligat...</td>\n",
       "      <td>['Joseph William Singer']</td>\n",
       "      <td>Beacon Press</td>\n",
       "      <td>['Law']</td>\n",
       "      <td>2001</td>\n",
       "    </tr>\n",
       "  </tbody>\n",
       "</table>\n",
       "</div>"
      ],
      "text/plain": [
       "                                                    title  \\\n",
       "41927                  Breaking Out of Beginner's Spanish   \n",
       "128598                                    Coyote Frontier   \n",
       "57331                           One More Bunny Board Book   \n",
       "68454   Four Year Colleges 2002, Guide to (Peterson's ...   \n",
       "101760  The Edges of the Field: Lessons on the Obligat...   \n",
       "\n",
       "                          authors                  publisher  \\\n",
       "41927        ['Joseph J. Keenan']  University of Texas Press   \n",
       "128598           ['Allen Steele']                    Penguin   \n",
       "57331             ['Rick Walton']              HarperCollins   \n",
       "68454                         NaN                        NaN   \n",
       "101760  ['Joseph William Singer']               Beacon Press   \n",
       "\n",
       "                        categories published_year  \n",
       "41927   ['Foreign Language Study']           2010  \n",
       "128598                 ['Fiction']           2005  \n",
       "57331                 ['Addition']           2000  \n",
       "68454                          NaN           2002  \n",
       "101760                     ['Law']           2001  "
      ]
     },
     "execution_count": 442,
     "metadata": {},
     "output_type": "execute_result"
    }
   ],
   "source": [
    "df_data_processed.sample(5)"
   ]
  },
  {
   "cell_type": "code",
   "execution_count": 443,
   "metadata": {},
   "outputs": [
    {
     "name": "stdout",
     "output_type": "stream",
     "text": [
      "<class 'pandas.core.frame.DataFrame'>\n",
      "Index: 188353 entries, 0 to 212403\n",
      "Data columns (total 5 columns):\n",
      " #   Column          Non-Null Count   Dtype \n",
      "---  ------          --------------   ----- \n",
      " 0   title           188353 non-null  object\n",
      " 1   authors         180990 non-null  object\n",
      " 2   publisher       136518 non-null  object\n",
      " 3   categories      171205 non-null  object\n",
      " 4   published_year  187098 non-null  object\n",
      "dtypes: object(5)\n",
      "memory usage: 8.6+ MB\n"
     ]
    }
   ],
   "source": [
    "df_data_processed.info()"
   ]
  },
  {
   "cell_type": "code",
   "execution_count": 444,
   "metadata": {},
   "outputs": [],
   "source": [
    "#Updating the Authors to a list.\n",
    "df_data_processed['authors'] = df_data_processed['authors'].apply(lambda x: x.replace(\"[\", \"\") if pd.notna(x) else None)\n",
    "df_data_processed['authors'] = df_data_processed['authors'].apply(lambda x: x.replace(\"]\", \"\") if pd.notna(x) else None)\n",
    "df_data_processed['authors'] = df_data_processed['authors'].apply(lambda x: x.replace(\"'\", \"\") if pd.notna(x) else None)\n",
    "df_data_processed['authors'] = df_data_processed['authors'].apply(lambda x: [author for author in str(x).split(\",\")] if pd.notna(x) else None)"
   ]
  },
  {
   "cell_type": "code",
   "execution_count": 483,
   "metadata": {},
   "outputs": [],
   "source": [
    "#Updating Categories to list\n",
    "df_data_processed['categories'] = df_data_processed['categories'].apply(lambda x: x.replace(\"[\", \"\") if pd.notna(x) else None)\n",
    "df_data_processed['categories'] = df_data_processed['categories'].apply(lambda x: x.replace(\"]\", \"\") if pd.notna(x) else None)\n",
    "df_data_processed['categories'] = df_data_processed['categories'].apply(lambda x: x.replace(\"'\", \"\") if pd.notna(x) else None)\n",
    "df_data_processed['categories'] = df_data_processed['categories'].apply(lambda x: [category for category in str(x).split(\",\")] if pd.notna(x) else None)"
   ]
  },
  {
   "cell_type": "code",
   "execution_count": 502,
   "metadata": {},
   "outputs": [
    {
     "data": {
      "text/html": [
       "<div>\n",
       "<style scoped>\n",
       "    .dataframe tbody tr th:only-of-type {\n",
       "        vertical-align: middle;\n",
       "    }\n",
       "\n",
       "    .dataframe tbody tr th {\n",
       "        vertical-align: top;\n",
       "    }\n",
       "\n",
       "    .dataframe thead th {\n",
       "        text-align: right;\n",
       "    }\n",
       "</style>\n",
       "<table border=\"1\" class=\"dataframe\">\n",
       "  <thead>\n",
       "    <tr style=\"text-align: right;\">\n",
       "      <th></th>\n",
       "      <th>title</th>\n",
       "      <th>authors</th>\n",
       "      <th>publisher</th>\n",
       "      <th>categories</th>\n",
       "      <th>published_year</th>\n",
       "    </tr>\n",
       "  </thead>\n",
       "  <tbody>\n",
       "    <tr>\n",
       "      <th>134060</th>\n",
       "      <td>Galois theory;: Lectures delivered at the Univ...</td>\n",
       "      <td>[Emil Artin]</td>\n",
       "      <td>Courier Corporation</td>\n",
       "      <td>[Mathematics]</td>\n",
       "      <td>2012</td>\n",
       "    </tr>\n",
       "    <tr>\n",
       "      <th>2306</th>\n",
       "      <td>The Sunday Tertulia: A Novel</td>\n",
       "      <td>[Lori Marie Carlson]</td>\n",
       "      <td>Harper Collins</td>\n",
       "      <td>[Fiction]</td>\n",
       "      <td>2009</td>\n",
       "    </tr>\n",
       "    <tr>\n",
       "      <th>49270</th>\n",
       "      <td>Suddenly They're 13</td>\n",
       "      <td>[David and Claudia Arp]</td>\n",
       "      <td>Zondervan</td>\n",
       "      <td>[Religion]</td>\n",
       "      <td>2010</td>\n",
       "    </tr>\n",
       "    <tr>\n",
       "      <th>115253</th>\n",
       "      <td>BEYOND MONSTERS AND CLOWNS. THE COMBAT SS. : D...</td>\n",
       "      <td>[Karl H. Theile]</td>\n",
       "      <td>University Press of Amer</td>\n",
       "      <td>[History]</td>\n",
       "      <td>1997</td>\n",
       "    </tr>\n",
       "    <tr>\n",
       "      <th>120696</th>\n",
       "      <td>Virginians at home: Family life in the eightee...</td>\n",
       "      <td>[Edmund Sears Morgan]</td>\n",
       "      <td>Colonial Williamsburg Foundation</td>\n",
       "      <td>[History]</td>\n",
       "      <td>1952</td>\n",
       "    </tr>\n",
       "    <tr>\n",
       "      <th>194758</th>\n",
       "      <td>Food Choice and Obesity in Black America: Crea...</td>\n",
       "      <td>[Eric J. Bailey]</td>\n",
       "      <td>Greenwood Publishing Group</td>\n",
       "      <td>[African Americans]</td>\n",
       "      <td>2006</td>\n",
       "    </tr>\n",
       "    <tr>\n",
       "      <th>10043</th>\n",
       "      <td>Lake Geneva in Vintage Postcards (WI) (Postcar...</td>\n",
       "      <td>[Carolyn Hope Smeltzer,  Martha Kiefer Cucco]</td>\n",
       "      <td>Arcadia Publishing</td>\n",
       "      <td>[History]</td>\n",
       "      <td>2005</td>\n",
       "    </tr>\n",
       "    <tr>\n",
       "      <th>16651</th>\n",
       "      <td>Where Are You Going, Manyoni?</td>\n",
       "      <td>[Catherine Stock]</td>\n",
       "      <td>Harpercollins Childrens Books</td>\n",
       "      <td>[Juvenile Fiction]</td>\n",
       "      <td>1993</td>\n",
       "    </tr>\n",
       "    <tr>\n",
       "      <th>61146</th>\n",
       "      <td>Twenty One Days to a Trained Dog</td>\n",
       "      <td>[Dick Maller,  Jeffrey Feinman]</td>\n",
       "      <td>Simon and Schuster</td>\n",
       "      <td>[Pets]</td>\n",
       "      <td>1979</td>\n",
       "    </tr>\n",
       "    <tr>\n",
       "      <th>55622</th>\n",
       "      <td>The German campaigns in the Balkans (spring, 1...</td>\n",
       "      <td>[George E. Blau]</td>\n",
       "      <td>NaN</td>\n",
       "      <td>[World War,  1939-1945]</td>\n",
       "      <td>1986</td>\n",
       "    </tr>\n",
       "  </tbody>\n",
       "</table>\n",
       "</div>"
      ],
      "text/plain": [
       "                                                    title  \\\n",
       "134060  Galois theory;: Lectures delivered at the Univ...   \n",
       "2306                         The Sunday Tertulia: A Novel   \n",
       "49270                                 Suddenly They're 13   \n",
       "115253  BEYOND MONSTERS AND CLOWNS. THE COMBAT SS. : D...   \n",
       "120696  Virginians at home: Family life in the eightee...   \n",
       "194758  Food Choice and Obesity in Black America: Crea...   \n",
       "10043   Lake Geneva in Vintage Postcards (WI) (Postcar...   \n",
       "16651                       Where Are You Going, Manyoni?   \n",
       "61146                    Twenty One Days to a Trained Dog   \n",
       "55622   The German campaigns in the Balkans (spring, 1...   \n",
       "\n",
       "                                              authors  \\\n",
       "134060                                   [Emil Artin]   \n",
       "2306                             [Lori Marie Carlson]   \n",
       "49270                         [David and Claudia Arp]   \n",
       "115253                               [Karl H. Theile]   \n",
       "120696                          [Edmund Sears Morgan]   \n",
       "194758                               [Eric J. Bailey]   \n",
       "10043   [Carolyn Hope Smeltzer,  Martha Kiefer Cucco]   \n",
       "16651                               [Catherine Stock]   \n",
       "61146                 [Dick Maller,  Jeffrey Feinman]   \n",
       "55622                                [George E. Blau]   \n",
       "\n",
       "                               publisher               categories  \\\n",
       "134060               Courier Corporation            [Mathematics]   \n",
       "2306                      Harper Collins                [Fiction]   \n",
       "49270                          Zondervan               [Religion]   \n",
       "115253          University Press of Amer                [History]   \n",
       "120696  Colonial Williamsburg Foundation                [History]   \n",
       "194758        Greenwood Publishing Group      [African Americans]   \n",
       "10043                 Arcadia Publishing                [History]   \n",
       "16651      Harpercollins Childrens Books       [Juvenile Fiction]   \n",
       "61146                 Simon and Schuster                   [Pets]   \n",
       "55622                                NaN  [World War,  1939-1945]   \n",
       "\n",
       "       published_year  \n",
       "134060           2012  \n",
       "2306             2009  \n",
       "49270            2010  \n",
       "115253           1997  \n",
       "120696           1952  \n",
       "194758           2006  \n",
       "10043            2005  \n",
       "16651            1993  \n",
       "61146            1979  \n",
       "55622            1986  "
      ]
     },
     "execution_count": 502,
     "metadata": {},
     "output_type": "execute_result"
    }
   ],
   "source": [
    "df_data_processed.sample(10, random_state=20)"
   ]
  },
  {
   "cell_type": "code",
   "execution_count": 43,
   "metadata": {},
   "outputs": [
    {
     "name": "stdout",
     "output_type": "stream",
     "text": [
      "<class 'pandas.core.frame.DataFrame'>\n",
      "RangeIndex: 3000000 entries, 0 to 2999999\n",
      "Data columns (total 10 columns):\n",
      " #   Column          Dtype  \n",
      "---  ------          -----  \n",
      " 0   Title           object \n",
      " 1   User_id         object \n",
      " 2   review/score    float64\n",
      " 3   review/time     int64  \n",
      " 4   review/summary  object \n",
      " 5   review/text     object \n",
      " 6   authors         object \n",
      " 7   publisher       object \n",
      " 8   publishedDate   object \n",
      " 9   categories      object \n",
      "dtypes: float64(1), int64(1), object(8)\n",
      "memory usage: 228.9+ MB\n"
     ]
    }
   ],
   "source": [
    "#Merge The Two Datasets.\n",
    "df_all_data_processed = pd.merge(df_rating_processed, df_data_processed, on='Title', how='inner')\n",
    "df_all_data_processed.info()"
   ]
  },
  {
   "cell_type": "code",
   "execution_count": 46,
   "metadata": {},
   "outputs": [
    {
     "data": {
      "text/html": [
       "<div>\n",
       "<style scoped>\n",
       "    .dataframe tbody tr th:only-of-type {\n",
       "        vertical-align: middle;\n",
       "    }\n",
       "\n",
       "    .dataframe tbody tr th {\n",
       "        vertical-align: top;\n",
       "    }\n",
       "\n",
       "    .dataframe thead th {\n",
       "        text-align: right;\n",
       "    }\n",
       "</style>\n",
       "<table border=\"1\" class=\"dataframe\">\n",
       "  <thead>\n",
       "    <tr style=\"text-align: right;\">\n",
       "      <th></th>\n",
       "      <th>Title</th>\n",
       "      <th>User_id</th>\n",
       "      <th>review/score</th>\n",
       "      <th>review/time</th>\n",
       "      <th>review/summary</th>\n",
       "      <th>review/text</th>\n",
       "      <th>authors</th>\n",
       "      <th>publisher</th>\n",
       "      <th>publishedDate</th>\n",
       "      <th>categories</th>\n",
       "    </tr>\n",
       "  </thead>\n",
       "  <tbody>\n",
       "    <tr>\n",
       "      <th>1814250</th>\n",
       "      <td>The Heart and Soul of Nick Carter</td>\n",
       "      <td>NaN</td>\n",
       "      <td>5.0</td>\n",
       "      <td>924825600</td>\n",
       "      <td>A big fan from Philippines, April 23, 1999</td>\n",
       "      <td>The book about Nick is really great! It shows ...</td>\n",
       "      <td>['Jane Carter']</td>\n",
       "      <td>Onyx Books</td>\n",
       "      <td>1998</td>\n",
       "      <td>['Performing Arts']</td>\n",
       "    </tr>\n",
       "    <tr>\n",
       "      <th>1522913</th>\n",
       "      <td>Relics (Faye Longchamp Mysteries, No. 2)</td>\n",
       "      <td>A38YY9BEVDT1DB</td>\n",
       "      <td>5.0</td>\n",
       "      <td>1358985600</td>\n",
       "      <td>Archaeology plus murder mystery equals a good ...</td>\n",
       "      <td>Loved the way buried history and a murder myst...</td>\n",
       "      <td>['Mary Anna Evans']</td>\n",
       "      <td>Sourcebooks, Inc.</td>\n",
       "      <td>2011-09-30</td>\n",
       "      <td>['Fiction']</td>\n",
       "    </tr>\n",
       "    <tr>\n",
       "      <th>2968716</th>\n",
       "      <td>Hood Rich</td>\n",
       "      <td>A1SS3E0IU5QB59</td>\n",
       "      <td>3.0</td>\n",
       "      <td>1188086400</td>\n",
       "      <td>Hood Rich...It was JUST O.K.</td>\n",
       "      <td>I was expecting it to be better than what it r...</td>\n",
       "      <td>['Corie Allen']</td>\n",
       "      <td>Createspace Independent Publishing Platform</td>\n",
       "      <td>2016-01-13</td>\n",
       "      <td>NaN</td>\n",
       "    </tr>\n",
       "    <tr>\n",
       "      <th>1541809</th>\n",
       "      <td>Cities For A Small Planet (Icon Editions)</td>\n",
       "      <td>A3RUL3MC73721</td>\n",
       "      <td>5.0</td>\n",
       "      <td>1148428800</td>\n",
       "      <td>...But I like my life in the suburbs</td>\n",
       "      <td>\"Cities for a Small Planet give me the reassur...</td>\n",
       "      <td>NaN</td>\n",
       "      <td>NaN</td>\n",
       "      <td>NaN</td>\n",
       "      <td>NaN</td>\n",
       "    </tr>\n",
       "    <tr>\n",
       "      <th>1093556</th>\n",
       "      <td>The Middle Length Discourses of the Buddha: A ...</td>\n",
       "      <td>A3IT9M2R4S2ZQ</td>\n",
       "      <td>5.0</td>\n",
       "      <td>1330646400</td>\n",
       "      <td>Get the context and the subtleties</td>\n",
       "      <td>- Both translators are Buddhist practitioners,...</td>\n",
       "      <td>NaN</td>\n",
       "      <td>Simon and Schuster</td>\n",
       "      <td>2005-06-10</td>\n",
       "      <td>['Religion']</td>\n",
       "    </tr>\n",
       "  </tbody>\n",
       "</table>\n",
       "</div>"
      ],
      "text/plain": [
       "                                                     Title         User_id  \\\n",
       "1814250                  The Heart and Soul of Nick Carter             NaN   \n",
       "1522913           Relics (Faye Longchamp Mysteries, No. 2)  A38YY9BEVDT1DB   \n",
       "2968716                                          Hood Rich  A1SS3E0IU5QB59   \n",
       "1541809          Cities For A Small Planet (Icon Editions)   A3RUL3MC73721   \n",
       "1093556  The Middle Length Discourses of the Buddha: A ...   A3IT9M2R4S2ZQ   \n",
       "\n",
       "         review/score  review/time  \\\n",
       "1814250           5.0    924825600   \n",
       "1522913           5.0   1358985600   \n",
       "2968716           3.0   1188086400   \n",
       "1541809           5.0   1148428800   \n",
       "1093556           5.0   1330646400   \n",
       "\n",
       "                                            review/summary  \\\n",
       "1814250         A big fan from Philippines, April 23, 1999   \n",
       "1522913  Archaeology plus murder mystery equals a good ...   \n",
       "2968716                       Hood Rich...It was JUST O.K.   \n",
       "1541809               ...But I like my life in the suburbs   \n",
       "1093556                 Get the context and the subtleties   \n",
       "\n",
       "                                               review/text  \\\n",
       "1814250  The book about Nick is really great! It shows ...   \n",
       "1522913  Loved the way buried history and a murder myst...   \n",
       "2968716  I was expecting it to be better than what it r...   \n",
       "1541809  \"Cities for a Small Planet give me the reassur...   \n",
       "1093556  - Both translators are Buddhist practitioners,...   \n",
       "\n",
       "                     authors                                    publisher  \\\n",
       "1814250      ['Jane Carter']                                   Onyx Books   \n",
       "1522913  ['Mary Anna Evans']                            Sourcebooks, Inc.   \n",
       "2968716      ['Corie Allen']  Createspace Independent Publishing Platform   \n",
       "1541809                  NaN                                          NaN   \n",
       "1093556                  NaN                           Simon and Schuster   \n",
       "\n",
       "        publishedDate           categories  \n",
       "1814250          1998  ['Performing Arts']  \n",
       "1522913    2011-09-30          ['Fiction']  \n",
       "2968716    2016-01-13                  NaN  \n",
       "1541809           NaN                  NaN  \n",
       "1093556    2005-06-10         ['Religion']  "
      ]
     },
     "execution_count": 46,
     "metadata": {},
     "output_type": "execute_result"
    }
   ],
   "source": [
    "df_all_data_processed.sample(5)"
   ]
  },
  {
   "cell_type": "code",
   "execution_count": 47,
   "metadata": {},
   "outputs": [
    {
     "data": {
      "text/plain": [
       "Title                208\n",
       "User_id           561787\n",
       "review/score           0\n",
       "review/time            0\n",
       "review/summary       407\n",
       "review/text            8\n",
       "authors           390634\n",
       "publisher         782617\n",
       "publishedDate     354581\n",
       "categories        551498\n",
       "dtype: int64"
      ]
     },
     "execution_count": 47,
     "metadata": {},
     "output_type": "execute_result"
    }
   ],
   "source": [
    "df_all_data_processed.isna().sum()"
   ]
  },
  {
   "cell_type": "code",
   "execution_count": 49,
   "metadata": {},
   "outputs": [
    {
     "data": {
      "text/html": [
       "<div>\n",
       "<style scoped>\n",
       "    .dataframe tbody tr th:only-of-type {\n",
       "        vertical-align: middle;\n",
       "    }\n",
       "\n",
       "    .dataframe tbody tr th {\n",
       "        vertical-align: top;\n",
       "    }\n",
       "\n",
       "    .dataframe thead th {\n",
       "        text-align: right;\n",
       "    }\n",
       "</style>\n",
       "<table border=\"1\" class=\"dataframe\">\n",
       "  <thead>\n",
       "    <tr style=\"text-align: right;\">\n",
       "      <th></th>\n",
       "      <th>Title</th>\n",
       "      <th>User_id</th>\n",
       "      <th>review/score</th>\n",
       "      <th>review/time</th>\n",
       "      <th>review/summary</th>\n",
       "      <th>review/text</th>\n",
       "      <th>authors</th>\n",
       "      <th>publisher</th>\n",
       "      <th>publishedDate</th>\n",
       "      <th>categories</th>\n",
       "    </tr>\n",
       "  </thead>\n",
       "  <tbody>\n",
       "    <tr>\n",
       "      <th>563175</th>\n",
       "      <td>The Hobbit</td>\n",
       "      <td>NaN</td>\n",
       "      <td>5.0</td>\n",
       "      <td>1029715200</td>\n",
       "      <td>jrr tolkien`s the hobbit</td>\n",
       "      <td>this is a great book. i say *is* because i hav...</td>\n",
       "      <td>['J. R. R. Tolkien']</td>\n",
       "      <td>Mariner Books</td>\n",
       "      <td>2012</td>\n",
       "      <td>['Juvenile Fiction']</td>\n",
       "    </tr>\n",
       "    <tr>\n",
       "      <th>563176</th>\n",
       "      <td>The Hobbit</td>\n",
       "      <td>A3E9WR9GH1HFT0</td>\n",
       "      <td>5.0</td>\n",
       "      <td>1012348800</td>\n",
       "      <td>Wonderful!! Tolkien is a God!</td>\n",
       "      <td>I love this book. I am 13 &amp;amp; I read all the...</td>\n",
       "      <td>['J. R. R. Tolkien']</td>\n",
       "      <td>Mariner Books</td>\n",
       "      <td>2012</td>\n",
       "      <td>['Juvenile Fiction']</td>\n",
       "    </tr>\n",
       "    <tr>\n",
       "      <th>563177</th>\n",
       "      <td>The Hobbit</td>\n",
       "      <td>A13DFLTGGGJLWN</td>\n",
       "      <td>4.0</td>\n",
       "      <td>1200787200</td>\n",
       "      <td>Good, but I'd rather just have the story</td>\n",
       "      <td>I physically looked this book over in a store ...</td>\n",
       "      <td>['J. R. R. Tolkien']</td>\n",
       "      <td>Mariner Books</td>\n",
       "      <td>2012</td>\n",
       "      <td>['Juvenile Fiction']</td>\n",
       "    </tr>\n",
       "    <tr>\n",
       "      <th>563178</th>\n",
       "      <td>The Hobbit</td>\n",
       "      <td>AV4Y360SJ4PHP</td>\n",
       "      <td>1.0</td>\n",
       "      <td>1355875200</td>\n",
       "      <td>The Hobbit on Kindle...thou shall not pass the...</td>\n",
       "      <td>I downloaded my favorite book, the Hobbit to m...</td>\n",
       "      <td>['J. R. R. Tolkien']</td>\n",
       "      <td>Mariner Books</td>\n",
       "      <td>2012</td>\n",
       "      <td>['Juvenile Fiction']</td>\n",
       "    </tr>\n",
       "    <tr>\n",
       "      <th>563179</th>\n",
       "      <td>The Hobbit</td>\n",
       "      <td>A2M7RJZQPYN4PI</td>\n",
       "      <td>3.0</td>\n",
       "      <td>1200355200</td>\n",
       "      <td>Not the Best Annotated Book I Ever Read</td>\n",
       "      <td>Minuses:1. Too many margin comments on the rev...</td>\n",
       "      <td>['J. R. R. Tolkien']</td>\n",
       "      <td>Mariner Books</td>\n",
       "      <td>2012</td>\n",
       "      <td>['Juvenile Fiction']</td>\n",
       "    </tr>\n",
       "    <tr>\n",
       "      <th>...</th>\n",
       "      <td>...</td>\n",
       "      <td>...</td>\n",
       "      <td>...</td>\n",
       "      <td>...</td>\n",
       "      <td>...</td>\n",
       "      <td>...</td>\n",
       "      <td>...</td>\n",
       "      <td>...</td>\n",
       "      <td>...</td>\n",
       "      <td>...</td>\n",
       "    </tr>\n",
       "    <tr>\n",
       "      <th>585193</th>\n",
       "      <td>The Hobbit</td>\n",
       "      <td>AGMSR3RGOCYEI</td>\n",
       "      <td>5.0</td>\n",
       "      <td>1360195200</td>\n",
       "      <td>Great story, much better than the movie</td>\n",
       "      <td>I was inspired to reread Tolkien's &amp;#34;the Ho...</td>\n",
       "      <td>['J. R. R. Tolkien']</td>\n",
       "      <td>Mariner Books</td>\n",
       "      <td>2012</td>\n",
       "      <td>['Juvenile Fiction']</td>\n",
       "    </tr>\n",
       "    <tr>\n",
       "      <th>585194</th>\n",
       "      <td>The Hobbit</td>\n",
       "      <td>A2APZUY5HK7CDT</td>\n",
       "      <td>5.0</td>\n",
       "      <td>1360195200</td>\n",
       "      <td>Amazing</td>\n",
       "      <td>This novel is action packed full of fun and ad...</td>\n",
       "      <td>['J. R. R. Tolkien']</td>\n",
       "      <td>Mariner Books</td>\n",
       "      <td>2012</td>\n",
       "      <td>['Juvenile Fiction']</td>\n",
       "    </tr>\n",
       "    <tr>\n",
       "      <th>585195</th>\n",
       "      <td>The Hobbit</td>\n",
       "      <td>A3CX6FLUJFOAZZ</td>\n",
       "      <td>5.0</td>\n",
       "      <td>1360195200</td>\n",
       "      <td>Amazing</td>\n",
       "      <td>T h I s I s a m a z I n g a n d g r e a t and ...</td>\n",
       "      <td>['J. R. R. Tolkien']</td>\n",
       "      <td>Mariner Books</td>\n",
       "      <td>2012</td>\n",
       "      <td>['Juvenile Fiction']</td>\n",
       "    </tr>\n",
       "    <tr>\n",
       "      <th>585196</th>\n",
       "      <td>The Hobbit</td>\n",
       "      <td>A12I6YHESO0KFB</td>\n",
       "      <td>5.0</td>\n",
       "      <td>1360195200</td>\n",
       "      <td>Hobbit</td>\n",
       "      <td>Still holds up after all these years,a true cl...</td>\n",
       "      <td>['J. R. R. Tolkien']</td>\n",
       "      <td>Mariner Books</td>\n",
       "      <td>2012</td>\n",
       "      <td>['Juvenile Fiction']</td>\n",
       "    </tr>\n",
       "    <tr>\n",
       "      <th>585197</th>\n",
       "      <td>The Hobbit</td>\n",
       "      <td>AXUOFV17Z4891</td>\n",
       "      <td>5.0</td>\n",
       "      <td>1360195200</td>\n",
       "      <td>jlo</td>\n",
       "      <td>I loved this book. A great read that takes you...</td>\n",
       "      <td>['J. R. R. Tolkien']</td>\n",
       "      <td>Mariner Books</td>\n",
       "      <td>2012</td>\n",
       "      <td>['Juvenile Fiction']</td>\n",
       "    </tr>\n",
       "  </tbody>\n",
       "</table>\n",
       "<p>22023 rows × 10 columns</p>\n",
       "</div>"
      ],
      "text/plain": [
       "             Title         User_id  review/score  review/time  \\\n",
       "563175  The Hobbit             NaN           5.0   1029715200   \n",
       "563176  The Hobbit  A3E9WR9GH1HFT0           5.0   1012348800   \n",
       "563177  The Hobbit  A13DFLTGGGJLWN           4.0   1200787200   \n",
       "563178  The Hobbit   AV4Y360SJ4PHP           1.0   1355875200   \n",
       "563179  The Hobbit  A2M7RJZQPYN4PI           3.0   1200355200   \n",
       "...            ...             ...           ...          ...   \n",
       "585193  The Hobbit   AGMSR3RGOCYEI           5.0   1360195200   \n",
       "585194  The Hobbit  A2APZUY5HK7CDT           5.0   1360195200   \n",
       "585195  The Hobbit  A3CX6FLUJFOAZZ           5.0   1360195200   \n",
       "585196  The Hobbit  A12I6YHESO0KFB           5.0   1360195200   \n",
       "585197  The Hobbit   AXUOFV17Z4891           5.0   1360195200   \n",
       "\n",
       "                                           review/summary  \\\n",
       "563175                           jrr tolkien`s the hobbit   \n",
       "563176                      Wonderful!! Tolkien is a God!   \n",
       "563177           Good, but I'd rather just have the story   \n",
       "563178  The Hobbit on Kindle...thou shall not pass the...   \n",
       "563179            Not the Best Annotated Book I Ever Read   \n",
       "...                                                   ...   \n",
       "585193            Great story, much better than the movie   \n",
       "585194                                            Amazing   \n",
       "585195                                            Amazing   \n",
       "585196                                             Hobbit   \n",
       "585197                                                jlo   \n",
       "\n",
       "                                              review/text  \\\n",
       "563175  this is a great book. i say *is* because i hav...   \n",
       "563176  I love this book. I am 13 &amp; I read all the...   \n",
       "563177  I physically looked this book over in a store ...   \n",
       "563178  I downloaded my favorite book, the Hobbit to m...   \n",
       "563179  Minuses:1. Too many margin comments on the rev...   \n",
       "...                                                   ...   \n",
       "585193  I was inspired to reread Tolkien's &#34;the Ho...   \n",
       "585194  This novel is action packed full of fun and ad...   \n",
       "585195  T h I s I s a m a z I n g a n d g r e a t and ...   \n",
       "585196  Still holds up after all these years,a true cl...   \n",
       "585197  I loved this book. A great read that takes you...   \n",
       "\n",
       "                     authors      publisher publishedDate  \\\n",
       "563175  ['J. R. R. Tolkien']  Mariner Books          2012   \n",
       "563176  ['J. R. R. Tolkien']  Mariner Books          2012   \n",
       "563177  ['J. R. R. Tolkien']  Mariner Books          2012   \n",
       "563178  ['J. R. R. Tolkien']  Mariner Books          2012   \n",
       "563179  ['J. R. R. Tolkien']  Mariner Books          2012   \n",
       "...                      ...            ...           ...   \n",
       "585193  ['J. R. R. Tolkien']  Mariner Books          2012   \n",
       "585194  ['J. R. R. Tolkien']  Mariner Books          2012   \n",
       "585195  ['J. R. R. Tolkien']  Mariner Books          2012   \n",
       "585196  ['J. R. R. Tolkien']  Mariner Books          2012   \n",
       "585197  ['J. R. R. Tolkien']  Mariner Books          2012   \n",
       "\n",
       "                  categories  \n",
       "563175  ['Juvenile Fiction']  \n",
       "563176  ['Juvenile Fiction']  \n",
       "563177  ['Juvenile Fiction']  \n",
       "563178  ['Juvenile Fiction']  \n",
       "563179  ['Juvenile Fiction']  \n",
       "...                      ...  \n",
       "585193  ['Juvenile Fiction']  \n",
       "585194  ['Juvenile Fiction']  \n",
       "585195  ['Juvenile Fiction']  \n",
       "585196  ['Juvenile Fiction']  \n",
       "585197  ['Juvenile Fiction']  \n",
       "\n",
       "[22023 rows x 10 columns]"
      ]
     },
     "execution_count": 49,
     "metadata": {},
     "output_type": "execute_result"
    }
   ],
   "source": [
    "df_all_data_processed[df_all_data_processed['Title']=='The Hobbit']"
   ]
  },
  {
   "cell_type": "code",
   "execution_count": null,
   "metadata": {},
   "outputs": [],
   "source": [
    "#EDA"
   ]
  },
  {
   "cell_type": "code",
   "execution_count": 15,
   "metadata": {},
   "outputs": [
    {
     "data": {
      "text/plain": [
       "(3000000, 7)"
      ]
     },
     "execution_count": 15,
     "metadata": {},
     "output_type": "execute_result"
    }
   ],
   "source": [
    "df_rating_processed.shape"
   ]
  },
  {
   "cell_type": "code",
   "execution_count": 16,
   "metadata": {},
   "outputs": [
    {
     "data": {
      "text/plain": [
       "(212404, 6)"
      ]
     },
     "execution_count": 16,
     "metadata": {},
     "output_type": "execute_result"
    }
   ],
   "source": [
    "df_data_processed.shape"
   ]
  },
  {
   "cell_type": "code",
   "execution_count": 33,
   "metadata": {},
   "outputs": [
    {
     "data": {
      "text/plain": [
       "review/score\n",
       "5.0    1807343\n",
       "4.0     585616\n",
       "3.0     254295\n",
       "1.0     201688\n",
       "2.0     151058\n",
       "Name: count, dtype: int64"
      ]
     },
     "execution_count": 33,
     "metadata": {},
     "output_type": "execute_result"
    }
   ],
   "source": [
    "df_rating_processed['review/score'].value_counts()"
   ]
  },
  {
   "cell_type": "code",
   "execution_count": 42,
   "metadata": {},
   "outputs": [
    {
     "data": {
      "text/plain": [
       "count    3.000000e+06\n",
       "mean     4.215289e+00\n",
       "std      1.203054e+00\n",
       "min      1.000000e+00\n",
       "25%      4.000000e+00\n",
       "50%      5.000000e+00\n",
       "75%      5.000000e+00\n",
       "max      5.000000e+00\n",
       "Name: review/score, dtype: float64"
      ]
     },
     "execution_count": 42,
     "metadata": {},
     "output_type": "execute_result"
    }
   ],
   "source": [
    "df_rating_processed['review/score'].describe()"
   ]
  },
  {
   "cell_type": "code",
   "execution_count": 43,
   "metadata": {},
   "outputs": [
    {
     "data": {
      "text/plain": [
       "<Axes: >"
      ]
     },
     "execution_count": 43,
     "metadata": {},
     "output_type": "execute_result"
    },
    {
     "data": {
      "image/png": "[encoded data removed]",
      "text/plain": [
       "<Figure size 640x480 with 1 Axes>"
      ]
     },
     "metadata": {},
     "output_type": "display_data"
    }
   ],
   "source": [
    "df_rating_processed.boxplot(column=['review/score'])"
   ]
  },
  {
   "cell_type": "code",
   "execution_count": 45,
   "metadata": {},
   "outputs": [
    {
     "data": {
      "image/png": "[encoded data removed]",
      "text/plain": [
       "<Figure size 640x480 with 1 Axes>"
      ]
     },
     "metadata": {},
     "output_type": "display_data"
    },
    {
     "data": {
      "image/png": "[encoded data removed]",
      "text/plain": [
       "<Figure size 640x480 with 1 Axes>"
      ]
     },
     "metadata": {},
     "output_type": "display_data"
    }
   ],
   "source": [
    "df_rating_processed.hist(column=['review/score'])\n",
    "plt.show()"
   ]
  },
  {
   "cell_type": "code",
   "execution_count": 46,
   "metadata": {},
   "outputs": [
    {
     "data": {
      "text/plain": [
       "4.657131181038006"
      ]
     },
     "execution_count": 46,
     "metadata": {},
     "output_type": "execute_result"
    }
   ],
   "source": [
    "df_rating_processed[df_rating_processed['Title']== 'The Hobbit']['review/score'].mean()"
   ]
  },
  {
   "cell_type": "code",
   "execution_count": 47,
   "metadata": {},
   "outputs": [
    {
     "data": {
      "text/plain": [
       "count    22023.000000\n",
       "mean         4.657131\n",
       "std          0.800452\n",
       "min          1.000000\n",
       "25%          5.000000\n",
       "50%          5.000000\n",
       "75%          5.000000\n",
       "max          5.000000\n",
       "Name: review/score, dtype: float64"
      ]
     },
     "execution_count": 47,
     "metadata": {},
     "output_type": "execute_result"
    }
   ],
   "source": [
    "df_rating_processed[df_rating_processed['Title']== 'The Hobbit']['review/score'].describe()"
   ]
  },
  {
   "cell_type": "code",
   "execution_count": 48,
   "metadata": {},
   "outputs": [
    {
     "data": {
      "text/plain": [
       "count    12513.000000\n",
       "mean         4.028690\n",
       "std          1.418635\n",
       "min          1.000000\n",
       "25%          3.000000\n",
       "50%          5.000000\n",
       "75%          5.000000\n",
       "max          5.000000\n",
       "Name: review/score, dtype: float64"
      ]
     },
     "execution_count": 48,
     "metadata": {},
     "output_type": "execute_result"
    }
   ],
   "source": [
    "\n",
    "df_rating_processed[df_rating_processed['Title']== 'Atlas Shrugged']['review/score'].describe()"
   ]
  }
 ],
 "metadata": {
  "kernelspec": {
   "display_name": ".venv",
   "language": "python",
   "name": "python3"
  },
  "language_info": {
   "codemirror_mode": {
    "name": "ipython",
    "version": 3
   },
   "file_extension": ".py",
   "mimetype": "text/x-python",
   "name": "python",
   "nbconvert_exporter": "python",
   "pygments_lexer": "ipython3",
   "version": "3.8.10"
  }
 },
 "nbformat": 4,
 "nbformat_minor": 2
}
