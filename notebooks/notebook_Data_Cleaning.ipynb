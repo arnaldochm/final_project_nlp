{
 "cells": [
  {
   "cell_type": "code",
   "execution_count": 112,
   "metadata": {},
   "outputs": [],
   "source": [
    "# Dataset: Amazon Books Reviews\n",
    "# Author: Mohamed Bekheet\n",
    "# Source: Mohamed Bekheet. (2022). Amazon Books Reviews [Data set]. Kaggle. https://www.kaggle.com/datasets/mohamedbakhet/amazon-books-reviews\n",
    "# URL: https://www.kaggle.com/datasets/mohamedbakhet/amazon-books-reviews\n",
    "# This dataset contains 2 files\n",
    "# The first file** reviews** file contain feedback about 3M user on 212404 unique books the data set is \n",
    "# part of the Amazon review Dataset it contains product reviews and metadata from Amazon, including \n",
    "# 142.8 million reviews spanning May 1996 - July 2014.\n",
    "# Reviews Dataset Data Dictionary:\n",
    "# -id:                  The Id of Book\n",
    "# -Title:   \t        Book Title\n",
    "# -Price:               The price of Book\n",
    "# -User_id:             Id of the user who rates the book\n",
    "# -profileName:         Name of the user who rates the book\n",
    "# -review/helpfulness:  helpfulness rating of the review, e.g. 2/3\n",
    "# -review/score:        rating from 0 to 5 for the book\n",
    "# -review/time:         time of given the review\n",
    "# -review/summary:      the summary of a text review\n",
    "# -review/text:         the full text of a review\n",
    "\n",
    "# The second file Books Details file contains details information about 212404 unique books it file is built by using\n",
    "# google books API to get details information about books it rated in the first file\n",
    "# and this file contains\n",
    "\n",
    "# Book Details Dataset Data Dictionary:\n",
    "# Title:\t        Book Title\n",
    "# Descripe:\t        Decription of book\n",
    "# authors:\t        Name of book authors\n",
    "# image:\t        Url for book cover\n",
    "# previewLink:\t    Link to access this book on google Books\n",
    "# publisher:\t    Name of the publisheer\n",
    "# publishedDate:\tThe date of publish\n",
    "# infoLink:\t        Link to get more information about the book on google books\n",
    "# categories:\t    Genres of books\n",
    "# ratingsCount:\t    Averaging rating for book\n",
    "\n",
    "# Both Datasets are linked through the unique tittle of the book."
   ]
  },
  {
   "cell_type": "code",
   "execution_count": 113,
   "metadata": {},
   "outputs": [],
   "source": [
    "# Step 0. Load libraries and custom modules\n",
    "import pandas as pd\n",
    "import numpy as np\n",
    "import matplotlib.pyplot as plt\n",
    "import seaborn as sns\n",
    "import os\n",
    "import nltk\n",
    "from nltk.corpus import stopwords\n",
    "from wordcloud import WordCloud\n",
    "import re\n",
    "from dateutil.parser import parse\n",
    "from datetime import datetime\n",
    "from datetime import date\n",
    "# ------------  PREPROCESING -------------\n",
    "from sklearn.model_selection import train_test_split\n",
    "from sklearn.decomposition import PCA\n",
    "from sklearn.decomposition import FastICA\n",
    "from sklearn.preprocessing import OneHotEncoder\n",
    "from sklearn.preprocessing import StandardScaler\n",
    "from sklearn.feature_extraction.text import TfidfVectorizer\n",
    "from sklearn.feature_extraction.text import CountVectorizer\n",
    "from nltk import download\n",
    "from nltk.corpus import stopwords\n",
    "from nltk.stem import WordNetLemmatizer\n",
    "#-------------- TRANSFORMERS --------------\n",
    "import transformers\n",
    "from transformers.pipelines import PIPELINE_REGISTRY\n",
    "from transformers import pipeline\n",
    "import evaluate\n",
    "from evaluate import load\n",
    "from transformers import Conversation\n",
    "transformers.logging.set_verbosity_error()"
   ]
  },
  {
   "cell_type": "code",
   "execution_count": 114,
   "metadata": {},
   "outputs": [
    {
     "name": "stdout",
     "output_type": "stream",
     "text": [
      "<class 'pandas.core.frame.DataFrame'>\n",
      "RangeIndex: 3000000 entries, 0 to 2999999\n",
      "Data columns (total 10 columns):\n",
      " #   Column              Dtype  \n",
      "---  ------              -----  \n",
      " 0   Id                  object \n",
      " 1   Title               object \n",
      " 2   Price               float64\n",
      " 3   User_id             object \n",
      " 4   profileName         object \n",
      " 5   review/helpfulness  object \n",
      " 6   review/score        float64\n",
      " 7   review/time         int64  \n",
      " 8   review/summary      object \n",
      " 9   review/text         object \n",
      "dtypes: float64(2), int64(1), object(7)\n",
      "memory usage: 228.9+ MB\n"
     ]
    }
   ],
   "source": [
    "#Loading the Datasets\n",
    "df_rating_raw = pd.read_csv('../data/raw/Books_rating.csv')\n",
    "\n",
    "df_rating_raw.info()\n"
   ]
  },
  {
   "cell_type": "code",
   "execution_count": 115,
   "metadata": {},
   "outputs": [
    {
     "data": {
      "text/html": [
       "<div>\n",
       "<style scoped>\n",
       "    .dataframe tbody tr th:only-of-type {\n",
       "        vertical-align: middle;\n",
       "    }\n",
       "\n",
       "    .dataframe tbody tr th {\n",
       "        vertical-align: top;\n",
       "    }\n",
       "\n",
       "    .dataframe thead th {\n",
       "        text-align: right;\n",
       "    }\n",
       "</style>\n",
       "<table border=\"1\" class=\"dataframe\">\n",
       "  <thead>\n",
       "    <tr style=\"text-align: right;\">\n",
       "      <th></th>\n",
       "      <th>Id</th>\n",
       "      <th>Title</th>\n",
       "      <th>Price</th>\n",
       "      <th>User_id</th>\n",
       "      <th>profileName</th>\n",
       "      <th>review/helpfulness</th>\n",
       "      <th>review/score</th>\n",
       "      <th>review/time</th>\n",
       "      <th>review/summary</th>\n",
       "      <th>review/text</th>\n",
       "    </tr>\n",
       "  </thead>\n",
       "  <tbody>\n",
       "    <tr>\n",
       "      <th>1175792</th>\n",
       "      <td>076031747X</td>\n",
       "      <td>Soul on Bikes</td>\n",
       "      <td>NaN</td>\n",
       "      <td>A3RKBLMJITN6M9</td>\n",
       "      <td>Koy</td>\n",
       "      <td>0/0</td>\n",
       "      <td>5.0</td>\n",
       "      <td>1357430400</td>\n",
       "      <td>Very gripping!</td>\n",
       "      <td>Most of the african american based clubs usual...</td>\n",
       "    </tr>\n",
       "    <tr>\n",
       "      <th>1647998</th>\n",
       "      <td>B0007E20NO</td>\n",
       "      <td>At the feet of the master</td>\n",
       "      <td>NaN</td>\n",
       "      <td>A3JWEFUUFOE5AX</td>\n",
       "      <td>Brian Moran \"inquisitive\"</td>\n",
       "      <td>5/8</td>\n",
       "      <td>1.0</td>\n",
       "      <td>1262390400</td>\n",
       "      <td>False</td>\n",
       "      <td>I have read alot of Krishnamurti,Probably the ...</td>\n",
       "    </tr>\n",
       "    <tr>\n",
       "      <th>258986</th>\n",
       "      <td>1568361998</td>\n",
       "      <td>The Home Team: Of Mothers, Daughters, and Amer...</td>\n",
       "      <td>NaN</td>\n",
       "      <td>NaN</td>\n",
       "      <td>NaN</td>\n",
       "      <td>0/0</td>\n",
       "      <td>5.0</td>\n",
       "      <td>887932800</td>\n",
       "      <td>THIS IS THE BEST BOOK I'VE EVER READ!!!!</td>\n",
       "      <td>This book is a touching true story about baske...</td>\n",
       "    </tr>\n",
       "    <tr>\n",
       "      <th>528593</th>\n",
       "      <td>1893554449</td>\n",
       "      <td>Uncivil Wars: The Controversy Over Reparations...</td>\n",
       "      <td>17.69</td>\n",
       "      <td>NaN</td>\n",
       "      <td>NaN</td>\n",
       "      <td>23/26</td>\n",
       "      <td>4.0</td>\n",
       "      <td>1011052800</td>\n",
       "      <td>Horowitz is unafriad in a politically correct ...</td>\n",
       "      <td>David Horowitz is one of the FEW brave America...</td>\n",
       "    </tr>\n",
       "    <tr>\n",
       "      <th>1121192</th>\n",
       "      <td>0963942972</td>\n",
       "      <td>Maui Revealed: The Ultimate Guidebook (2000 Ed...</td>\n",
       "      <td>NaN</td>\n",
       "      <td>A1U1PR7SAMT8R9</td>\n",
       "      <td>Mr \"Man\"</td>\n",
       "      <td>0/1</td>\n",
       "      <td>5.0</td>\n",
       "      <td>1005436800</td>\n",
       "      <td>An excellent , well written book.</td>\n",
       "      <td>This is a very well written and referenced boo...</td>\n",
       "    </tr>\n",
       "    <tr>\n",
       "      <th>2458132</th>\n",
       "      <td>0028612574</td>\n",
       "      <td>The Naturally Sweet Baker : 150 Decadent Desse...</td>\n",
       "      <td>29.16</td>\n",
       "      <td>A2C9B0JCKGD021</td>\n",
       "      <td>\"jjtechs\"</td>\n",
       "      <td>13/13</td>\n",
       "      <td>5.0</td>\n",
       "      <td>978998400</td>\n",
       "      <td>Easy to Enjoy</td>\n",
       "      <td>Most of the cookbooks I own come with the appl...</td>\n",
       "    </tr>\n",
       "    <tr>\n",
       "      <th>1654434</th>\n",
       "      <td>B000B5RY58</td>\n",
       "      <td>Dangerous Girls: The Rich Girl/The Dare/The Pr...</td>\n",
       "      <td>NaN</td>\n",
       "      <td>A2GFA1OJ7GBWIG</td>\n",
       "      <td>Norma Glock</td>\n",
       "      <td>0/1</td>\n",
       "      <td>2.0</td>\n",
       "      <td>1064707200</td>\n",
       "      <td>Enticing cover, undeveloped story</td>\n",
       "      <td>I would not recommend this vampire book by Rob...</td>\n",
       "    </tr>\n",
       "    <tr>\n",
       "      <th>669221</th>\n",
       "      <td>B00072PESE</td>\n",
       "      <td>The monster at the end of this book (A little ...</td>\n",
       "      <td>NaN</td>\n",
       "      <td>A32R7GNGYMKOHG</td>\n",
       "      <td>L. Svara \"mom of 3 in NY\"</td>\n",
       "      <td>0/0</td>\n",
       "      <td>5.0</td>\n",
       "      <td>1165190400</td>\n",
       "      <td>My daughter LOVES this book!</td>\n",
       "      <td>The story is engaging and my daughter really e...</td>\n",
       "    </tr>\n",
       "    <tr>\n",
       "      <th>387302</th>\n",
       "      <td>1844014606</td>\n",
       "      <td>Friends and Enemies</td>\n",
       "      <td>20.95</td>\n",
       "      <td>AJGL46CJRHGRG</td>\n",
       "      <td>dj</td>\n",
       "      <td>2/3</td>\n",
       "      <td>5.0</td>\n",
       "      <td>1132963200</td>\n",
       "      <td>Excellent book</td>\n",
       "      <td>Excellent book: adventure, fantasy, suspense, ...</td>\n",
       "    </tr>\n",
       "    <tr>\n",
       "      <th>2435032</th>\n",
       "      <td>B000HH13XO</td>\n",
       "      <td>Ulysses</td>\n",
       "      <td>NaN</td>\n",
       "      <td>A1Q9T8RA3W1TEF</td>\n",
       "      <td>Stephen Hackman</td>\n",
       "      <td>3/3</td>\n",
       "      <td>2.0</td>\n",
       "      <td>1353024000</td>\n",
       "      <td>Deep in the Hibernian Muck</td>\n",
       "      <td>Perhaps the British were right to repress the ...</td>\n",
       "    </tr>\n",
       "  </tbody>\n",
       "</table>\n",
       "</div>"
      ],
      "text/plain": [
       "                 Id                                              Title  Price  \\\n",
       "1175792  076031747X                                      Soul on Bikes    NaN   \n",
       "1647998  B0007E20NO                          At the feet of the master    NaN   \n",
       "258986   1568361998  The Home Team: Of Mothers, Daughters, and Amer...    NaN   \n",
       "528593   1893554449  Uncivil Wars: The Controversy Over Reparations...  17.69   \n",
       "1121192  0963942972  Maui Revealed: The Ultimate Guidebook (2000 Ed...    NaN   \n",
       "2458132  0028612574  The Naturally Sweet Baker : 150 Decadent Desse...  29.16   \n",
       "1654434  B000B5RY58  Dangerous Girls: The Rich Girl/The Dare/The Pr...    NaN   \n",
       "669221   B00072PESE  The monster at the end of this book (A little ...    NaN   \n",
       "387302   1844014606                                Friends and Enemies  20.95   \n",
       "2435032  B000HH13XO                                            Ulysses    NaN   \n",
       "\n",
       "                User_id                profileName review/helpfulness  \\\n",
       "1175792  A3RKBLMJITN6M9                        Koy                0/0   \n",
       "1647998  A3JWEFUUFOE5AX  Brian Moran \"inquisitive\"                5/8   \n",
       "258986              NaN                        NaN                0/0   \n",
       "528593              NaN                        NaN              23/26   \n",
       "1121192  A1U1PR7SAMT8R9                   Mr \"Man\"                0/1   \n",
       "2458132  A2C9B0JCKGD021                  \"jjtechs\"              13/13   \n",
       "1654434  A2GFA1OJ7GBWIG                Norma Glock                0/1   \n",
       "669221   A32R7GNGYMKOHG  L. Svara \"mom of 3 in NY\"                0/0   \n",
       "387302    AJGL46CJRHGRG                         dj                2/3   \n",
       "2435032  A1Q9T8RA3W1TEF            Stephen Hackman                3/3   \n",
       "\n",
       "         review/score  review/time  \\\n",
       "1175792           5.0   1357430400   \n",
       "1647998           1.0   1262390400   \n",
       "258986            5.0    887932800   \n",
       "528593            4.0   1011052800   \n",
       "1121192           5.0   1005436800   \n",
       "2458132           5.0    978998400   \n",
       "1654434           2.0   1064707200   \n",
       "669221            5.0   1165190400   \n",
       "387302            5.0   1132963200   \n",
       "2435032           2.0   1353024000   \n",
       "\n",
       "                                            review/summary  \\\n",
       "1175792                                     Very gripping!   \n",
       "1647998                                              False   \n",
       "258986            THIS IS THE BEST BOOK I'VE EVER READ!!!!   \n",
       "528593   Horowitz is unafriad in a politically correct ...   \n",
       "1121192                  An excellent , well written book.   \n",
       "2458132                                      Easy to Enjoy   \n",
       "1654434                  Enticing cover, undeveloped story   \n",
       "669221                        My daughter LOVES this book!   \n",
       "387302                                      Excellent book   \n",
       "2435032                         Deep in the Hibernian Muck   \n",
       "\n",
       "                                               review/text  \n",
       "1175792  Most of the african american based clubs usual...  \n",
       "1647998  I have read alot of Krishnamurti,Probably the ...  \n",
       "258986   This book is a touching true story about baske...  \n",
       "528593   David Horowitz is one of the FEW brave America...  \n",
       "1121192  This is a very well written and referenced boo...  \n",
       "2458132  Most of the cookbooks I own come with the appl...  \n",
       "1654434  I would not recommend this vampire book by Rob...  \n",
       "669221   The story is engaging and my daughter really e...  \n",
       "387302   Excellent book: adventure, fantasy, suspense, ...  \n",
       "2435032  Perhaps the British were right to repress the ...  "
      ]
     },
     "execution_count": 115,
     "metadata": {},
     "output_type": "execute_result"
    }
   ],
   "source": [
    "df_rating_raw.sample(10)"
   ]
  },
  {
   "cell_type": "code",
   "execution_count": 116,
   "metadata": {},
   "outputs": [
    {
     "name": "stdout",
     "output_type": "stream",
     "text": [
      "<class 'pandas.core.frame.DataFrame'>\n",
      "RangeIndex: 212404 entries, 0 to 212403\n",
      "Data columns (total 10 columns):\n",
      " #   Column         Non-Null Count   Dtype  \n",
      "---  ------         --------------   -----  \n",
      " 0   Title          212403 non-null  object \n",
      " 1   description    143962 non-null  object \n",
      " 2   authors        180991 non-null  object \n",
      " 3   image          160329 non-null  object \n",
      " 4   previewLink    188568 non-null  object \n",
      " 5   publisher      136518 non-null  object \n",
      " 6   publishedDate  187099 non-null  object \n",
      " 7   infoLink       188568 non-null  object \n",
      " 8   categories     171205 non-null  object \n",
      " 9   ratingsCount   49752 non-null   float64\n",
      "dtypes: float64(1), object(9)\n",
      "memory usage: 16.2+ MB\n"
     ]
    }
   ],
   "source": [
    "#Load Books Data Dataset\n",
    "df_data_raw = pd.read_csv('../data/raw/books_data.csv')\n",
    "\n",
    "df_data_raw.info()"
   ]
  },
  {
   "cell_type": "code",
   "execution_count": 117,
   "metadata": {},
   "outputs": [
    {
     "data": {
      "text/html": [
       "<div>\n",
       "<style scoped>\n",
       "    .dataframe tbody tr th:only-of-type {\n",
       "        vertical-align: middle;\n",
       "    }\n",
       "\n",
       "    .dataframe tbody tr th {\n",
       "        vertical-align: top;\n",
       "    }\n",
       "\n",
       "    .dataframe thead th {\n",
       "        text-align: right;\n",
       "    }\n",
       "</style>\n",
       "<table border=\"1\" class=\"dataframe\">\n",
       "  <thead>\n",
       "    <tr style=\"text-align: right;\">\n",
       "      <th></th>\n",
       "      <th>Title</th>\n",
       "      <th>description</th>\n",
       "      <th>authors</th>\n",
       "      <th>image</th>\n",
       "      <th>previewLink</th>\n",
       "      <th>publisher</th>\n",
       "      <th>publishedDate</th>\n",
       "      <th>infoLink</th>\n",
       "      <th>categories</th>\n",
       "      <th>ratingsCount</th>\n",
       "    </tr>\n",
       "  </thead>\n",
       "  <tbody>\n",
       "    <tr>\n",
       "      <th>189906</th>\n",
       "      <td>Doc in the Box (Francesca Vierling Mystery)</td>\n",
       "      <td>From Anthony and Agatha Award-winning author o...</td>\n",
       "      <td>['Elaine Viets']</td>\n",
       "      <td>http://books.google.com/books/content?id=JrGYD...</td>\n",
       "      <td>http://books.google.com/books?id=JrGYDwAAQBAJ&amp;...</td>\n",
       "      <td>Jabberwocky Literary Agency, Inc.</td>\n",
       "      <td>2019-05-15</td>\n",
       "      <td>https://play.google.com/store/books/details?id...</td>\n",
       "      <td>['Fiction']</td>\n",
       "      <td>2.0</td>\n",
       "    </tr>\n",
       "    <tr>\n",
       "      <th>191591</th>\n",
       "      <td>Campus Melody (Sally and Jean Burnaby)</td>\n",
       "      <td>NaN</td>\n",
       "      <td>['Anne Emery']</td>\n",
       "      <td>http://books.google.com/books/content?id=sca7P...</td>\n",
       "      <td>http://books.google.com/books?id=sca7PQAACAAJ&amp;...</td>\n",
       "      <td>NaN</td>\n",
       "      <td>2006</td>\n",
       "      <td>http://books.google.com/books?id=sca7PQAACAAJ&amp;...</td>\n",
       "      <td>NaN</td>\n",
       "      <td>NaN</td>\n",
       "    </tr>\n",
       "    <tr>\n",
       "      <th>59170</th>\n",
       "      <td>The Spider (#45): Voyage of the Coffin Ship</td>\n",
       "      <td>Who was Jeffrey Epstein? A Pulitzer Prize-nomi...</td>\n",
       "      <td>['Barry Levine']</td>\n",
       "      <td>http://books.google.com/books/content?id=fU8EE...</td>\n",
       "      <td>http://books.google.com/books?id=fU8EEAAAQBAJ&amp;...</td>\n",
       "      <td>Crown</td>\n",
       "      <td>2020-10</td>\n",
       "      <td>http://books.google.com/books?id=fU8EEAAAQBAJ&amp;...</td>\n",
       "      <td>['Biography &amp; Autobiography']</td>\n",
       "      <td>1.0</td>\n",
       "    </tr>\n",
       "    <tr>\n",
       "      <th>160050</th>\n",
       "      <td>Quaternary Extinctions: A Prehistoric Revolution</td>\n",
       "      <td>What caused the extinction of so many animals ...</td>\n",
       "      <td>['Paul S. Martin', 'Richard G. Klein']</td>\n",
       "      <td>http://books.google.com/books/content?id=SNlVE...</td>\n",
       "      <td>http://books.google.com/books?id=SNlVEAAAQBAJ&amp;...</td>\n",
       "      <td>University of Arizona Press</td>\n",
       "      <td>1989-01-01</td>\n",
       "      <td>http://books.google.com/books?id=SNlVEAAAQBAJ&amp;...</td>\n",
       "      <td>['Science']</td>\n",
       "      <td>NaN</td>\n",
       "    </tr>\n",
       "    <tr>\n",
       "      <th>133909</th>\n",
       "      <td>Great Source All Write: Handbook 2003 (Write S...</td>\n",
       "      <td>This comprehensive guide will prepare candidat...</td>\n",
       "      <td>['Brady Smith']</td>\n",
       "      <td>http://books.google.com/books/content?id=G7gIA...</td>\n",
       "      <td>http://books.google.com/books?id=G7gIAAAACAAJ&amp;...</td>\n",
       "      <td>Learning Express Llc</td>\n",
       "      <td>2003</td>\n",
       "      <td>http://books.google.com/books?id=G7gIAAAACAAJ&amp;...</td>\n",
       "      <td>['Education']</td>\n",
       "      <td>NaN</td>\n",
       "    </tr>\n",
       "    <tr>\n",
       "      <th>186770</th>\n",
       "      <td>Culinaria Spain</td>\n",
       "      <td>Spain-its cuisine is as colorful as the countr...</td>\n",
       "      <td>['Marion Trutter', 'Günter Beer']</td>\n",
       "      <td>http://books.google.com/books/content?id=EhagS...</td>\n",
       "      <td>http://books.google.com/books?id=EhagSQAACAAJ&amp;...</td>\n",
       "      <td>Hf Ullmann</td>\n",
       "      <td>2010</td>\n",
       "      <td>http://books.google.com/books?id=EhagSQAACAAJ&amp;...</td>\n",
       "      <td>['Cooking']</td>\n",
       "      <td>NaN</td>\n",
       "    </tr>\n",
       "    <tr>\n",
       "      <th>8453</th>\n",
       "      <td>Dictionary for Theological Interpretation of t...</td>\n",
       "      <td>This groundbreaking reference tool introduces ...</td>\n",
       "      <td>['Kevin J. Vanhoozer', 'Craig G. Bartholomew',...</td>\n",
       "      <td>http://books.google.com/books/content?id=I8UWJ...</td>\n",
       "      <td>http://books.google.nl/books?id=I8UWJohMGUIC&amp;p...</td>\n",
       "      <td>Baker Academic</td>\n",
       "      <td>2005-11-01</td>\n",
       "      <td>http://books.google.nl/books?id=I8UWJohMGUIC&amp;d...</td>\n",
       "      <td>['Religion']</td>\n",
       "      <td>1.0</td>\n",
       "    </tr>\n",
       "    <tr>\n",
       "      <th>107686</th>\n",
       "      <td>Something To Celebrate: The First Noel\\Kwaanza...</td>\n",
       "      <td>NaN</td>\n",
       "      <td>NaN</td>\n",
       "      <td>NaN</td>\n",
       "      <td>NaN</td>\n",
       "      <td>NaN</td>\n",
       "      <td>NaN</td>\n",
       "      <td>NaN</td>\n",
       "      <td>NaN</td>\n",
       "      <td>NaN</td>\n",
       "    </tr>\n",
       "    <tr>\n",
       "      <th>171142</th>\n",
       "      <td>Upland Stream, Notes on the Fishing Passion</td>\n",
       "      <td>In the second book of his trilogy on his passi...</td>\n",
       "      <td>['W. D. Wetherell']</td>\n",
       "      <td>http://books.google.com/books/content?id=e8EHA...</td>\n",
       "      <td>http://books.google.com/books?id=e8EHAAAACAAJ&amp;...</td>\n",
       "      <td>Lyons Press</td>\n",
       "      <td>1999-02-01</td>\n",
       "      <td>http://books.google.com/books?id=e8EHAAAACAAJ&amp;...</td>\n",
       "      <td>['Sports &amp; Recreation']</td>\n",
       "      <td>NaN</td>\n",
       "    </tr>\n",
       "    <tr>\n",
       "      <th>56536</th>\n",
       "      <td>Listen to the Nightingale</td>\n",
       "      <td>When she wins a scholarship to a famous ballet...</td>\n",
       "      <td>['Rumer Godden']</td>\n",
       "      <td>http://books.google.com/books/content?id=fjk7D...</td>\n",
       "      <td>http://books.google.com/books?id=fjk7D0PxkLwC&amp;...</td>\n",
       "      <td>Puffin Books</td>\n",
       "      <td>1994</td>\n",
       "      <td>http://books.google.com/books?id=fjk7D0PxkLwC&amp;...</td>\n",
       "      <td>['Ballet dancing']</td>\n",
       "      <td>1.0</td>\n",
       "    </tr>\n",
       "  </tbody>\n",
       "</table>\n",
       "</div>"
      ],
      "text/plain": [
       "                                                    Title  \\\n",
       "189906        Doc in the Box (Francesca Vierling Mystery)   \n",
       "191591             Campus Melody (Sally and Jean Burnaby)   \n",
       "59170         The Spider (#45): Voyage of the Coffin Ship   \n",
       "160050   Quaternary Extinctions: A Prehistoric Revolution   \n",
       "133909  Great Source All Write: Handbook 2003 (Write S...   \n",
       "186770                                    Culinaria Spain   \n",
       "8453    Dictionary for Theological Interpretation of t...   \n",
       "107686  Something To Celebrate: The First Noel\\Kwaanza...   \n",
       "171142        Upland Stream, Notes on the Fishing Passion   \n",
       "56536                           Listen to the Nightingale   \n",
       "\n",
       "                                              description  \\\n",
       "189906  From Anthony and Agatha Award-winning author o...   \n",
       "191591                                                NaN   \n",
       "59170   Who was Jeffrey Epstein? A Pulitzer Prize-nomi...   \n",
       "160050  What caused the extinction of so many animals ...   \n",
       "133909  This comprehensive guide will prepare candidat...   \n",
       "186770  Spain-its cuisine is as colorful as the countr...   \n",
       "8453    This groundbreaking reference tool introduces ...   \n",
       "107686                                                NaN   \n",
       "171142  In the second book of his trilogy on his passi...   \n",
       "56536   When she wins a scholarship to a famous ballet...   \n",
       "\n",
       "                                                  authors  \\\n",
       "189906                                   ['Elaine Viets']   \n",
       "191591                                     ['Anne Emery']   \n",
       "59170                                    ['Barry Levine']   \n",
       "160050             ['Paul S. Martin', 'Richard G. Klein']   \n",
       "133909                                    ['Brady Smith']   \n",
       "186770                  ['Marion Trutter', 'Günter Beer']   \n",
       "8453    ['Kevin J. Vanhoozer', 'Craig G. Bartholomew',...   \n",
       "107686                                                NaN   \n",
       "171142                                ['W. D. Wetherell']   \n",
       "56536                                    ['Rumer Godden']   \n",
       "\n",
       "                                                    image  \\\n",
       "189906  http://books.google.com/books/content?id=JrGYD...   \n",
       "191591  http://books.google.com/books/content?id=sca7P...   \n",
       "59170   http://books.google.com/books/content?id=fU8EE...   \n",
       "160050  http://books.google.com/books/content?id=SNlVE...   \n",
       "133909  http://books.google.com/books/content?id=G7gIA...   \n",
       "186770  http://books.google.com/books/content?id=EhagS...   \n",
       "8453    http://books.google.com/books/content?id=I8UWJ...   \n",
       "107686                                                NaN   \n",
       "171142  http://books.google.com/books/content?id=e8EHA...   \n",
       "56536   http://books.google.com/books/content?id=fjk7D...   \n",
       "\n",
       "                                              previewLink  \\\n",
       "189906  http://books.google.com/books?id=JrGYDwAAQBAJ&...   \n",
       "191591  http://books.google.com/books?id=sca7PQAACAAJ&...   \n",
       "59170   http://books.google.com/books?id=fU8EEAAAQBAJ&...   \n",
       "160050  http://books.google.com/books?id=SNlVEAAAQBAJ&...   \n",
       "133909  http://books.google.com/books?id=G7gIAAAACAAJ&...   \n",
       "186770  http://books.google.com/books?id=EhagSQAACAAJ&...   \n",
       "8453    http://books.google.nl/books?id=I8UWJohMGUIC&p...   \n",
       "107686                                                NaN   \n",
       "171142  http://books.google.com/books?id=e8EHAAAACAAJ&...   \n",
       "56536   http://books.google.com/books?id=fjk7D0PxkLwC&...   \n",
       "\n",
       "                                publisher publishedDate  \\\n",
       "189906  Jabberwocky Literary Agency, Inc.    2019-05-15   \n",
       "191591                                NaN          2006   \n",
       "59170                               Crown       2020-10   \n",
       "160050        University of Arizona Press    1989-01-01   \n",
       "133909               Learning Express Llc          2003   \n",
       "186770                         Hf Ullmann          2010   \n",
       "8453                       Baker Academic    2005-11-01   \n",
       "107686                                NaN           NaN   \n",
       "171142                        Lyons Press    1999-02-01   \n",
       "56536                        Puffin Books          1994   \n",
       "\n",
       "                                                 infoLink  \\\n",
       "189906  https://play.google.com/store/books/details?id...   \n",
       "191591  http://books.google.com/books?id=sca7PQAACAAJ&...   \n",
       "59170   http://books.google.com/books?id=fU8EEAAAQBAJ&...   \n",
       "160050  http://books.google.com/books?id=SNlVEAAAQBAJ&...   \n",
       "133909  http://books.google.com/books?id=G7gIAAAACAAJ&...   \n",
       "186770  http://books.google.com/books?id=EhagSQAACAAJ&...   \n",
       "8453    http://books.google.nl/books?id=I8UWJohMGUIC&d...   \n",
       "107686                                                NaN   \n",
       "171142  http://books.google.com/books?id=e8EHAAAACAAJ&...   \n",
       "56536   http://books.google.com/books?id=fjk7D0PxkLwC&...   \n",
       "\n",
       "                           categories  ratingsCount  \n",
       "189906                    ['Fiction']           2.0  \n",
       "191591                            NaN           NaN  \n",
       "59170   ['Biography & Autobiography']           1.0  \n",
       "160050                    ['Science']           NaN  \n",
       "133909                  ['Education']           NaN  \n",
       "186770                    ['Cooking']           NaN  \n",
       "8453                     ['Religion']           1.0  \n",
       "107686                            NaN           NaN  \n",
       "171142        ['Sports & Recreation']           NaN  \n",
       "56536              ['Ballet dancing']           1.0  "
      ]
     },
     "execution_count": 117,
     "metadata": {},
     "output_type": "execute_result"
    }
   ],
   "source": [
    "df_data_raw.sample(10)"
   ]
  },
  {
   "cell_type": "code",
   "execution_count": 118,
   "metadata": {},
   "outputs": [
    {
     "data": {
      "text/plain": [
       "Id                          0\n",
       "Title                     208\n",
       "Price                 2518829\n",
       "User_id                561787\n",
       "profileName            561905\n",
       "review/helpfulness          0\n",
       "review/score                0\n",
       "review/time                 0\n",
       "review/summary            407\n",
       "review/text                 8\n",
       "dtype: int64"
      ]
     },
     "execution_count": 118,
     "metadata": {},
     "output_type": "execute_result"
    }
   ],
   "source": [
    "#Revisar Valores Nulos\n",
    "df_rating_raw.isna().sum()"
   ]
  },
  {
   "cell_type": "code",
   "execution_count": 119,
   "metadata": {},
   "outputs": [
    {
     "data": {
      "text/plain": [
       "Title                 1\n",
       "description       68442\n",
       "authors           31413\n",
       "image             52075\n",
       "previewLink       23836\n",
       "publisher         75886\n",
       "publishedDate     25305\n",
       "infoLink          23836\n",
       "categories        41199\n",
       "ratingsCount     162652\n",
       "dtype: int64"
      ]
     },
     "execution_count": 119,
     "metadata": {},
     "output_type": "execute_result"
    }
   ],
   "source": [
    "df_data_raw.isna().sum()"
   ]
  },
  {
   "cell_type": "code",
   "execution_count": 120,
   "metadata": {},
   "outputs": [],
   "source": [
    "#Innecesary Columns are removed\n",
    "# df_rating: \n",
    "#   - Price: Almost 84% of the entries are null. \n",
    "#   - profileName: Unique identifier for each user performing the review. Variable with cardinality excess. \n",
    "#   - User_id: Unique identifier for each user performing the review. Variable with cardinality excess.\n",
    "#   - Id: Innecesary column.\n",
    "#   - review/summary: Unncesary column for current analysis. Many summaries used are the same Book Title.\n",
    "#   - Title Feature Removal: This feature is unique for each book. And it is extremly correlated with Authors. As the same \n",
    "#       book Title will always have the same author. So, authors feature is kept and Title is removed.    \n",
    "#       This feature is removed later as it will be used to join both Datasets. \n",
    "# df_data:\n",
    "#   - image, previewLink, infoLink: Not useful information.\n",
    "#   - ratingsCount: Information from Google API. Not useful for the analysis.\n",
    "#   - description: Non necesary information for Analysis\n",
    "\n",
    "df_rating_processed = df_rating_raw.drop(['Id','profileName', 'User_id','Price','review/summary'], axis=1).copy()\n",
    "df_data_processed = df_data_raw.drop(['image','previewLink','infoLink','ratingsCount','description'], axis=1).copy()"
   ]
  },
  {
   "cell_type": "code",
   "execution_count": 121,
   "metadata": {},
   "outputs": [
    {
     "data": {
      "text/html": [
       "<div>\n",
       "<style scoped>\n",
       "    .dataframe tbody tr th:only-of-type {\n",
       "        vertical-align: middle;\n",
       "    }\n",
       "\n",
       "    .dataframe tbody tr th {\n",
       "        vertical-align: top;\n",
       "    }\n",
       "\n",
       "    .dataframe thead th {\n",
       "        text-align: right;\n",
       "    }\n",
       "</style>\n",
       "<table border=\"1\" class=\"dataframe\">\n",
       "  <thead>\n",
       "    <tr style=\"text-align: right;\">\n",
       "      <th></th>\n",
       "      <th>Title</th>\n",
       "      <th>review/helpfulness</th>\n",
       "      <th>review/score</th>\n",
       "      <th>review/time</th>\n",
       "      <th>review/text</th>\n",
       "    </tr>\n",
       "  </thead>\n",
       "  <tbody>\n",
       "    <tr>\n",
       "      <th>183290</th>\n",
       "      <td>Matilda CD</td>\n",
       "      <td>1/6</td>\n",
       "      <td>3.0</td>\n",
       "      <td>996364800</td>\n",
       "      <td>I read half of it, and didnt care for it too m...</td>\n",
       "    </tr>\n",
       "    <tr>\n",
       "      <th>2513186</th>\n",
       "      <td>Mick: The Real Michael Collins</td>\n",
       "      <td>11/12</td>\n",
       "      <td>3.0</td>\n",
       "      <td>1151366400</td>\n",
       "      <td>This book is an interesting read and full of t...</td>\n",
       "    </tr>\n",
       "    <tr>\n",
       "      <th>2184929</th>\n",
       "      <td>Cranky Pants</td>\n",
       "      <td>0/0</td>\n",
       "      <td>5.0</td>\n",
       "      <td>1309305600</td>\n",
       "      <td>I love this book! It got us throught the 3's a...</td>\n",
       "    </tr>\n",
       "    <tr>\n",
       "      <th>2956129</th>\n",
       "      <td>There Is No Magic: But There Are Alternatives ...</td>\n",
       "      <td>4/4</td>\n",
       "      <td>5.0</td>\n",
       "      <td>1072828800</td>\n",
       "      <td>In a time where everyone seems to be looking f...</td>\n",
       "    </tr>\n",
       "    <tr>\n",
       "      <th>792634</th>\n",
       "      <td>Green Calder Grass</td>\n",
       "      <td>1/1</td>\n",
       "      <td>1.0</td>\n",
       "      <td>1065744000</td>\n",
       "      <td>I've read the entire Calder Series and this wa...</td>\n",
       "    </tr>\n",
       "    <tr>\n",
       "      <th>864517</th>\n",
       "      <td>In Between the Sheets</td>\n",
       "      <td>0/0</td>\n",
       "      <td>3.0</td>\n",
       "      <td>1281916800</td>\n",
       "      <td>If you're a McEwan fan then you must read this...</td>\n",
       "    </tr>\n",
       "    <tr>\n",
       "      <th>2624170</th>\n",
       "      <td>Little women, or, Meg, Jo, Beth and Amy</td>\n",
       "      <td>8/8</td>\n",
       "      <td>1.0</td>\n",
       "      <td>1174867200</td>\n",
       "      <td>First, this is only the first half of \"Little ...</td>\n",
       "    </tr>\n",
       "    <tr>\n",
       "      <th>2488146</th>\n",
       "      <td>The Hobbit</td>\n",
       "      <td>0/0</td>\n",
       "      <td>5.0</td>\n",
       "      <td>1353888000</td>\n",
       "      <td>This book was for a Nephew for His 11th Birthd...</td>\n",
       "    </tr>\n",
       "    <tr>\n",
       "      <th>494061</th>\n",
       "      <td>Castlemore,</td>\n",
       "      <td>0/0</td>\n",
       "      <td>2.0</td>\n",
       "      <td>1131926400</td>\n",
       "      <td>The other reviewer gave CASTLEMORE 5 stars; we...</td>\n",
       "    </tr>\n",
       "    <tr>\n",
       "      <th>2115420</th>\n",
       "      <td>Principles of Quantum Mechanics</td>\n",
       "      <td>21/21</td>\n",
       "      <td>5.0</td>\n",
       "      <td>1024876800</td>\n",
       "      <td>This is the ONLY no-nonsense QM book that won'...</td>\n",
       "    </tr>\n",
       "  </tbody>\n",
       "</table>\n",
       "</div>"
      ],
      "text/plain": [
       "                                                     Title review/helpfulness  \\\n",
       "183290                                          Matilda CD                1/6   \n",
       "2513186                     Mick: The Real Michael Collins              11/12   \n",
       "2184929                                       Cranky Pants                0/0   \n",
       "2956129  There Is No Magic: But There Are Alternatives ...                4/4   \n",
       "792634                                  Green Calder Grass                1/1   \n",
       "864517                               In Between the Sheets                0/0   \n",
       "2624170            Little women, or, Meg, Jo, Beth and Amy                8/8   \n",
       "2488146                                         The Hobbit                0/0   \n",
       "494061                                         Castlemore,                0/0   \n",
       "2115420                    Principles of Quantum Mechanics              21/21   \n",
       "\n",
       "         review/score  review/time  \\\n",
       "183290            3.0    996364800   \n",
       "2513186           3.0   1151366400   \n",
       "2184929           5.0   1309305600   \n",
       "2956129           5.0   1072828800   \n",
       "792634            1.0   1065744000   \n",
       "864517            3.0   1281916800   \n",
       "2624170           1.0   1174867200   \n",
       "2488146           5.0   1353888000   \n",
       "494061            2.0   1131926400   \n",
       "2115420           5.0   1024876800   \n",
       "\n",
       "                                               review/text  \n",
       "183290   I read half of it, and didnt care for it too m...  \n",
       "2513186  This book is an interesting read and full of t...  \n",
       "2184929  I love this book! It got us throught the 3's a...  \n",
       "2956129  In a time where everyone seems to be looking f...  \n",
       "792634   I've read the entire Calder Series and this wa...  \n",
       "864517   If you're a McEwan fan then you must read this...  \n",
       "2624170  First, this is only the first half of \"Little ...  \n",
       "2488146  This book was for a Nephew for His 11th Birthd...  \n",
       "494061   The other reviewer gave CASTLEMORE 5 stars; we...  \n",
       "2115420  This is the ONLY no-nonsense QM book that won'...  "
      ]
     },
     "execution_count": 121,
     "metadata": {},
     "output_type": "execute_result"
    }
   ],
   "source": [
    "df_rating_processed.sample(10)"
   ]
  },
  {
   "cell_type": "code",
   "execution_count": 122,
   "metadata": {},
   "outputs": [],
   "source": [
    "df_rating_processed = df_rating_processed.rename(columns={'Title':'title',                                                        \n",
    "                                                        'review/helpfulness': 'helpfulness',\n",
    "                                                        'review/score': 'review',\n",
    "                                                        'review/time': 'review_time',\n",
    "                                                        'review/text': 'text'\n",
    "                                                        })\n",
    "df_data_processed = df_data_processed.rename(columns={'Title':'title', \n",
    "                                                        'publishedDate':'published_date'\n",
    "                                                        })"
   ]
  },
  {
   "cell_type": "code",
   "execution_count": 123,
   "metadata": {},
   "outputs": [
    {
     "data": {
      "text/plain": [
       "title          208\n",
       "helpfulness      0\n",
       "review           0\n",
       "review_time      0\n",
       "text             8\n",
       "dtype: int64"
      ]
     },
     "execution_count": 123,
     "metadata": {},
     "output_type": "execute_result"
    }
   ],
   "source": [
    "df_rating_processed.isna().sum()"
   ]
  },
  {
   "cell_type": "code",
   "execution_count": 124,
   "metadata": {},
   "outputs": [
    {
     "data": {
      "text/plain": [
       "title                 1\n",
       "authors           31413\n",
       "publisher         75886\n",
       "published_date    25305\n",
       "categories        41199\n",
       "dtype: int64"
      ]
     },
     "execution_count": 124,
     "metadata": {},
     "output_type": "execute_result"
    }
   ],
   "source": [
    "df_data_processed.isna().sum()"
   ]
  },
  {
   "cell_type": "code",
   "execution_count": 125,
   "metadata": {},
   "outputs": [],
   "source": [
    "#CLEAN THE DATASETS"
   ]
  },
  {
   "cell_type": "code",
   "execution_count": 126,
   "metadata": {},
   "outputs": [],
   "source": [
    "#As both datasets are going to be merged by Title, Rows with Null Title are removed.\n",
    "df_rating_processed = df_rating_processed.dropna(subset=['text'], how='any')\n",
    "\n",
    "df_data_processed = df_data_processed.dropna(subset=['title'])\n",
    "\n",
    "#Drop rows where everything except title is null\n",
    "df_data_processed = df_data_processed.dropna(subset=['authors', 'publisher', 'published_date', 'categories'], how='all')"
   ]
  },
  {
   "cell_type": "code",
   "execution_count": 127,
   "metadata": {},
   "outputs": [
    {
     "data": {
      "text/html": [
       "<div>\n",
       "<style scoped>\n",
       "    .dataframe tbody tr th:only-of-type {\n",
       "        vertical-align: middle;\n",
       "    }\n",
       "\n",
       "    .dataframe tbody tr th {\n",
       "        vertical-align: top;\n",
       "    }\n",
       "\n",
       "    .dataframe thead th {\n",
       "        text-align: right;\n",
       "    }\n",
       "</style>\n",
       "<table border=\"1\" class=\"dataframe\">\n",
       "  <thead>\n",
       "    <tr style=\"text-align: right;\">\n",
       "      <th></th>\n",
       "      <th>title</th>\n",
       "      <th>authors</th>\n",
       "      <th>publisher</th>\n",
       "      <th>published_date</th>\n",
       "      <th>categories</th>\n",
       "    </tr>\n",
       "  </thead>\n",
       "  <tbody>\n",
       "    <tr>\n",
       "      <th>63253</th>\n",
       "      <td>Multiple Streams of Internet Income: How Ordin...</td>\n",
       "      <td>['Robert G. Allen']</td>\n",
       "      <td>John Wiley &amp; Sons</td>\n",
       "      <td>2010-12-13</td>\n",
       "      <td>['Business &amp; Economics']</td>\n",
       "    </tr>\n",
       "    <tr>\n",
       "      <th>173716</th>\n",
       "      <td>Jazz: A Crash Course (Crash Course (Watson-Gup...</td>\n",
       "      <td>['Simon Adams']</td>\n",
       "      <td>NaN</td>\n",
       "      <td>1999</td>\n",
       "      <td>['Music']</td>\n",
       "    </tr>\n",
       "    <tr>\n",
       "      <th>26636</th>\n",
       "      <td>Samurai Jack Calendar</td>\n",
       "      <td>['Ser Calender']</td>\n",
       "      <td>NaN</td>\n",
       "      <td>2021-10-08</td>\n",
       "      <td>NaN</td>\n",
       "    </tr>\n",
       "    <tr>\n",
       "      <th>9648</th>\n",
       "      <td>A secret star</td>\n",
       "      <td>['Nora Roberts']</td>\n",
       "      <td>HarperCollins</td>\n",
       "      <td>2017-07-25</td>\n",
       "      <td>['Fiction']</td>\n",
       "    </tr>\n",
       "    <tr>\n",
       "      <th>174435</th>\n",
       "      <td>A Turn in the South</td>\n",
       "      <td>['V. S. Naipaul']</td>\n",
       "      <td>Vintage</td>\n",
       "      <td>2011-03-30</td>\n",
       "      <td>['Travel']</td>\n",
       "    </tr>\n",
       "  </tbody>\n",
       "</table>\n",
       "</div>"
      ],
      "text/plain": [
       "                                                    title  \\\n",
       "63253   Multiple Streams of Internet Income: How Ordin...   \n",
       "173716  Jazz: A Crash Course (Crash Course (Watson-Gup...   \n",
       "26636                               Samurai Jack Calendar   \n",
       "9648                                        A secret star   \n",
       "174435                                A Turn in the South   \n",
       "\n",
       "                    authors          publisher published_date  \\\n",
       "63253   ['Robert G. Allen']  John Wiley & Sons     2010-12-13   \n",
       "173716      ['Simon Adams']                NaN           1999   \n",
       "26636      ['Ser Calender']                NaN     2021-10-08   \n",
       "9648       ['Nora Roberts']      HarperCollins     2017-07-25   \n",
       "174435    ['V. S. Naipaul']            Vintage     2011-03-30   \n",
       "\n",
       "                      categories  \n",
       "63253   ['Business & Economics']  \n",
       "173716                 ['Music']  \n",
       "26636                        NaN  \n",
       "9648                 ['Fiction']  \n",
       "174435                ['Travel']  "
      ]
     },
     "execution_count": 127,
     "metadata": {},
     "output_type": "execute_result"
    }
   ],
   "source": [
    "df_data_processed.sample(5)"
   ]
  },
  {
   "cell_type": "code",
   "execution_count": 128,
   "metadata": {},
   "outputs": [],
   "source": [
    "# Found 143 published_date entries with the format YYYY*\n",
    "# Found 76 published_date entries with the format YYY?\n",
    "# Found 52 published_date entries with the format YY??\n",
    "\n",
    "def convert_to_year(date_in):    \n",
    "    try:    \n",
    "        patern_1 = r'\\d\\d\\d\\?'\n",
    "        patern_2 = r'\\d\\d\\?\\?'\n",
    "\n",
    "        #Some dates only contain the Year with the format YYYY*. For those cases, the symbol * is removed.\n",
    "        date = date_in.replace('*', '')\n",
    "\n",
    "        #Other cases contains an ? symbol instead of a number on the Year. YYY? or YY??\n",
    "        #For this specific case, the rounded mean from 0 to 9 is used: 5\n",
    "        if re.match(patern_1, date):\n",
    "            date = date.replace('?', '5')\n",
    "\n",
    "        if re.match(patern_2, date):\n",
    "            return None\n",
    "\n",
    "        date = parse(date)\n",
    "        \n",
    "        return date.strftime(\"%Y\")\n",
    "    except:        \n",
    "        return None"
   ]
  },
  {
   "cell_type": "code",
   "execution_count": 129,
   "metadata": {},
   "outputs": [],
   "source": [
    "#Use only the year for published_date\n",
    "df_data_processed['published_year'] = df_data_processed['published_date'].apply(lambda x: convert_to_year(x) if pd.notna(x) else x)\n",
    "\n",
    "df_data_processed['published_year'] = df_data_processed['published_year'].fillna('0')\n",
    "\n",
    "df_data_processed['published_year'] = df_data_processed['published_year'].astype('int32')\n",
    "\n",
    "#Drop published_date column \n",
    "df_data_processed = df_data_processed.drop(['published_date'], axis=1)"
   ]
  },
  {
   "cell_type": "code",
   "execution_count": 130,
   "metadata": {},
   "outputs": [
    {
     "data": {
      "text/plain": [
       "1981"
      ]
     },
     "execution_count": 130,
     "metadata": {},
     "output_type": "execute_result"
    }
   ],
   "source": [
    "mean_published_year = int(df_data_processed['published_year'].mean())\n",
    "mean_published_year"
   ]
  },
  {
   "cell_type": "code",
   "execution_count": 131,
   "metadata": {},
   "outputs": [
    {
     "data": {
      "text/html": [
       "<div>\n",
       "<style scoped>\n",
       "    .dataframe tbody tr th:only-of-type {\n",
       "        vertical-align: middle;\n",
       "    }\n",
       "\n",
       "    .dataframe tbody tr th {\n",
       "        vertical-align: top;\n",
       "    }\n",
       "\n",
       "    .dataframe thead th {\n",
       "        text-align: right;\n",
       "    }\n",
       "</style>\n",
       "<table border=\"1\" class=\"dataframe\">\n",
       "  <thead>\n",
       "    <tr style=\"text-align: right;\">\n",
       "      <th></th>\n",
       "      <th>title</th>\n",
       "      <th>authors</th>\n",
       "      <th>publisher</th>\n",
       "      <th>categories</th>\n",
       "      <th>published_year</th>\n",
       "    </tr>\n",
       "  </thead>\n",
       "  <tbody>\n",
       "    <tr>\n",
       "      <th>172211</th>\n",
       "      <td>Holy Bible with Deuterocanonicals/Apocrypha</td>\n",
       "      <td>['American Bible Society']</td>\n",
       "      <td>NaN</td>\n",
       "      <td>['Bibles']</td>\n",
       "      <td>1989</td>\n",
       "    </tr>\n",
       "    <tr>\n",
       "      <th>191491</th>\n",
       "      <td>A Dry Spell</td>\n",
       "      <td>['Clare Chambers']</td>\n",
       "      <td>Random House (UK)</td>\n",
       "      <td>['Drugs']</td>\n",
       "      <td>2000</td>\n",
       "    </tr>\n",
       "    <tr>\n",
       "      <th>132244</th>\n",
       "      <td>Baby Om: Yoga for Mothers and Babies</td>\n",
       "      <td>['Laura Staton', 'Sarah Perron']</td>\n",
       "      <td>Holt Paperbacks</td>\n",
       "      <td>['Family &amp; Relationships']</td>\n",
       "      <td>2014</td>\n",
       "    </tr>\n",
       "    <tr>\n",
       "      <th>109071</th>\n",
       "      <td>Art of Albert Paley</td>\n",
       "      <td>['Albert Paley', 'Craig E. Adcock']</td>\n",
       "      <td>Florida State Univ</td>\n",
       "      <td>['Art']</td>\n",
       "      <td>2001</td>\n",
       "    </tr>\n",
       "    <tr>\n",
       "      <th>197416</th>\n",
       "      <td>An Introduction to the Study of Comparative Re...</td>\n",
       "      <td>['Frank Byron Jevons']</td>\n",
       "      <td>NaN</td>\n",
       "      <td>NaN</td>\n",
       "      <td>1920</td>\n",
       "    </tr>\n",
       "    <tr>\n",
       "      <th>13721</th>\n",
       "      <td>Bangladesh: A Legacy of Blood</td>\n",
       "      <td>['Anthony Mascarenhas']</td>\n",
       "      <td>NaN</td>\n",
       "      <td>['Bangladesh']</td>\n",
       "      <td>1986</td>\n",
       "    </tr>\n",
       "    <tr>\n",
       "      <th>50022</th>\n",
       "      <td>December: Time's Up! (Countdown, No. 12)</td>\n",
       "      <td>['Robert W. Turner (II)']</td>\n",
       "      <td>Oxford University Press</td>\n",
       "      <td>['Social Science']</td>\n",
       "      <td>2018</td>\n",
       "    </tr>\n",
       "    <tr>\n",
       "      <th>38524</th>\n",
       "      <td>I Like to Write: Key Words Reading Scheme 2C (...</td>\n",
       "      <td>['William Murray']</td>\n",
       "      <td>NaN</td>\n",
       "      <td>['Easy reading materials']</td>\n",
       "      <td>1995</td>\n",
       "    </tr>\n",
       "    <tr>\n",
       "      <th>93667</th>\n",
       "      <td>Experiencing Geometry: In Euclidean, Spherical...</td>\n",
       "      <td>['Maureen T. Carroll', 'Elyn Rykken']</td>\n",
       "      <td>American Mathematical Soc.</td>\n",
       "      <td>['Geometry']</td>\n",
       "      <td>2018</td>\n",
       "    </tr>\n",
       "    <tr>\n",
       "      <th>150050</th>\n",
       "      <td>Tactical Pistol Shooting: Your Guide to Tactic...</td>\n",
       "      <td>['Erik Lawrence', 'Mike Pannone']</td>\n",
       "      <td>Gun Digest Books</td>\n",
       "      <td>['Sports &amp; Recreation']</td>\n",
       "      <td>2009</td>\n",
       "    </tr>\n",
       "  </tbody>\n",
       "</table>\n",
       "</div>"
      ],
      "text/plain": [
       "                                                    title  \\\n",
       "172211        Holy Bible with Deuterocanonicals/Apocrypha   \n",
       "191491                                        A Dry Spell   \n",
       "132244               Baby Om: Yoga for Mothers and Babies   \n",
       "109071                                Art of Albert Paley   \n",
       "197416  An Introduction to the Study of Comparative Re...   \n",
       "13721                       Bangladesh: A Legacy of Blood   \n",
       "50022            December: Time's Up! (Countdown, No. 12)   \n",
       "38524   I Like to Write: Key Words Reading Scheme 2C (...   \n",
       "93667   Experiencing Geometry: In Euclidean, Spherical...   \n",
       "150050  Tactical Pistol Shooting: Your Guide to Tactic...   \n",
       "\n",
       "                                      authors                   publisher  \\\n",
       "172211             ['American Bible Society']                         NaN   \n",
       "191491                     ['Clare Chambers']           Random House (UK)   \n",
       "132244       ['Laura Staton', 'Sarah Perron']             Holt Paperbacks   \n",
       "109071    ['Albert Paley', 'Craig E. Adcock']          Florida State Univ   \n",
       "197416                 ['Frank Byron Jevons']                         NaN   \n",
       "13721                 ['Anthony Mascarenhas']                         NaN   \n",
       "50022               ['Robert W. Turner (II)']     Oxford University Press   \n",
       "38524                      ['William Murray']                         NaN   \n",
       "93667   ['Maureen T. Carroll', 'Elyn Rykken']  American Mathematical Soc.   \n",
       "150050      ['Erik Lawrence', 'Mike Pannone']            Gun Digest Books   \n",
       "\n",
       "                        categories  published_year  \n",
       "172211                  ['Bibles']            1989  \n",
       "191491                   ['Drugs']            2000  \n",
       "132244  ['Family & Relationships']            2014  \n",
       "109071                     ['Art']            2001  \n",
       "197416                         NaN            1920  \n",
       "13721               ['Bangladesh']            1986  \n",
       "50022           ['Social Science']            2018  \n",
       "38524   ['Easy reading materials']            1995  \n",
       "93667                 ['Geometry']            2018  \n",
       "150050     ['Sports & Recreation']            2009  "
      ]
     },
     "execution_count": 131,
     "metadata": {},
     "output_type": "execute_result"
    }
   ],
   "source": [
    "df_data_processed['published_year'] = df_data_processed['published_year'].apply(lambda x: mean_published_year if x==0 else x)\n",
    "df_data_processed.sample(10)"
   ]
  },
  {
   "cell_type": "code",
   "execution_count": 132,
   "metadata": {},
   "outputs": [],
   "source": [
    "def custom_string_to_list(s):\n",
    "    if isinstance(s, str):\n",
    "        return [item.strip(\" '[]\") for item in s.split(',')]\n",
    "    else:\n",
    "        return s"
   ]
  },
  {
   "cell_type": "code",
   "execution_count": 133,
   "metadata": {},
   "outputs": [],
   "source": [
    "#Updating the Authors to a list.\n",
    "#Updating Categories to list\n",
    "df_data_processed['authors'] = df_data_processed['authors'].apply(custom_string_to_list)\n",
    "df_data_processed['categories'] = df_data_processed['categories'].apply(custom_string_to_list)"
   ]
  },
  {
   "cell_type": "code",
   "execution_count": 134,
   "metadata": {},
   "outputs": [
    {
     "data": {
      "text/html": [
       "<div>\n",
       "<style scoped>\n",
       "    .dataframe tbody tr th:only-of-type {\n",
       "        vertical-align: middle;\n",
       "    }\n",
       "\n",
       "    .dataframe tbody tr th {\n",
       "        vertical-align: top;\n",
       "    }\n",
       "\n",
       "    .dataframe thead th {\n",
       "        text-align: right;\n",
       "    }\n",
       "</style>\n",
       "<table border=\"1\" class=\"dataframe\">\n",
       "  <thead>\n",
       "    <tr style=\"text-align: right;\">\n",
       "      <th></th>\n",
       "      <th>title</th>\n",
       "      <th>authors</th>\n",
       "      <th>publisher</th>\n",
       "      <th>categories</th>\n",
       "      <th>published_year</th>\n",
       "    </tr>\n",
       "  </thead>\n",
       "  <tbody>\n",
       "    <tr>\n",
       "      <th>134060</th>\n",
       "      <td>Galois theory;: Lectures delivered at the Univ...</td>\n",
       "      <td>[Emil Artin]</td>\n",
       "      <td>Courier Corporation</td>\n",
       "      <td>[Mathematics]</td>\n",
       "      <td>2012</td>\n",
       "    </tr>\n",
       "    <tr>\n",
       "      <th>2306</th>\n",
       "      <td>The Sunday Tertulia: A Novel</td>\n",
       "      <td>[Lori Marie Carlson]</td>\n",
       "      <td>Harper Collins</td>\n",
       "      <td>[Fiction]</td>\n",
       "      <td>2009</td>\n",
       "    </tr>\n",
       "    <tr>\n",
       "      <th>49270</th>\n",
       "      <td>Suddenly They're 13</td>\n",
       "      <td>[David and Claudia Arp]</td>\n",
       "      <td>Zondervan</td>\n",
       "      <td>[Religion]</td>\n",
       "      <td>2010</td>\n",
       "    </tr>\n",
       "    <tr>\n",
       "      <th>115253</th>\n",
       "      <td>BEYOND MONSTERS AND CLOWNS. THE COMBAT SS. : D...</td>\n",
       "      <td>[Karl H. Theile]</td>\n",
       "      <td>University Press of Amer</td>\n",
       "      <td>[History]</td>\n",
       "      <td>1997</td>\n",
       "    </tr>\n",
       "    <tr>\n",
       "      <th>120696</th>\n",
       "      <td>Virginians at home: Family life in the eightee...</td>\n",
       "      <td>[Edmund Sears Morgan]</td>\n",
       "      <td>Colonial Williamsburg Foundation</td>\n",
       "      <td>[History]</td>\n",
       "      <td>1952</td>\n",
       "    </tr>\n",
       "    <tr>\n",
       "      <th>194758</th>\n",
       "      <td>Food Choice and Obesity in Black America: Crea...</td>\n",
       "      <td>[Eric J. Bailey]</td>\n",
       "      <td>Greenwood Publishing Group</td>\n",
       "      <td>[African Americans]</td>\n",
       "      <td>2006</td>\n",
       "    </tr>\n",
       "    <tr>\n",
       "      <th>10043</th>\n",
       "      <td>Lake Geneva in Vintage Postcards (WI) (Postcar...</td>\n",
       "      <td>[Carolyn Hope Smeltzer, Martha Kiefer Cucco]</td>\n",
       "      <td>Arcadia Publishing</td>\n",
       "      <td>[History]</td>\n",
       "      <td>2005</td>\n",
       "    </tr>\n",
       "    <tr>\n",
       "      <th>16651</th>\n",
       "      <td>Where Are You Going, Manyoni?</td>\n",
       "      <td>[Catherine Stock]</td>\n",
       "      <td>Harpercollins Childrens Books</td>\n",
       "      <td>[Juvenile Fiction]</td>\n",
       "      <td>1993</td>\n",
       "    </tr>\n",
       "    <tr>\n",
       "      <th>61146</th>\n",
       "      <td>Twenty One Days to a Trained Dog</td>\n",
       "      <td>[Dick Maller, Jeffrey Feinman]</td>\n",
       "      <td>Simon and Schuster</td>\n",
       "      <td>[Pets]</td>\n",
       "      <td>1979</td>\n",
       "    </tr>\n",
       "    <tr>\n",
       "      <th>55622</th>\n",
       "      <td>The German campaigns in the Balkans (spring, 1...</td>\n",
       "      <td>[George E. Blau]</td>\n",
       "      <td>NaN</td>\n",
       "      <td>[World War, 1939-1945]</td>\n",
       "      <td>1986</td>\n",
       "    </tr>\n",
       "  </tbody>\n",
       "</table>\n",
       "</div>"
      ],
      "text/plain": [
       "                                                    title  \\\n",
       "134060  Galois theory;: Lectures delivered at the Univ...   \n",
       "2306                         The Sunday Tertulia: A Novel   \n",
       "49270                                 Suddenly They're 13   \n",
       "115253  BEYOND MONSTERS AND CLOWNS. THE COMBAT SS. : D...   \n",
       "120696  Virginians at home: Family life in the eightee...   \n",
       "194758  Food Choice and Obesity in Black America: Crea...   \n",
       "10043   Lake Geneva in Vintage Postcards (WI) (Postcar...   \n",
       "16651                       Where Are You Going, Manyoni?   \n",
       "61146                    Twenty One Days to a Trained Dog   \n",
       "55622   The German campaigns in the Balkans (spring, 1...   \n",
       "\n",
       "                                             authors  \\\n",
       "134060                                  [Emil Artin]   \n",
       "2306                            [Lori Marie Carlson]   \n",
       "49270                        [David and Claudia Arp]   \n",
       "115253                              [Karl H. Theile]   \n",
       "120696                         [Edmund Sears Morgan]   \n",
       "194758                              [Eric J. Bailey]   \n",
       "10043   [Carolyn Hope Smeltzer, Martha Kiefer Cucco]   \n",
       "16651                              [Catherine Stock]   \n",
       "61146                 [Dick Maller, Jeffrey Feinman]   \n",
       "55622                               [George E. Blau]   \n",
       "\n",
       "                               publisher              categories  \\\n",
       "134060               Courier Corporation           [Mathematics]   \n",
       "2306                      Harper Collins               [Fiction]   \n",
       "49270                          Zondervan              [Religion]   \n",
       "115253          University Press of Amer               [History]   \n",
       "120696  Colonial Williamsburg Foundation               [History]   \n",
       "194758        Greenwood Publishing Group     [African Americans]   \n",
       "10043                 Arcadia Publishing               [History]   \n",
       "16651      Harpercollins Childrens Books      [Juvenile Fiction]   \n",
       "61146                 Simon and Schuster                  [Pets]   \n",
       "55622                                NaN  [World War, 1939-1945]   \n",
       "\n",
       "        published_year  \n",
       "134060            2012  \n",
       "2306              2009  \n",
       "49270             2010  \n",
       "115253            1997  \n",
       "120696            1952  \n",
       "194758            2006  \n",
       "10043             2005  \n",
       "16651             1993  \n",
       "61146             1979  \n",
       "55622             1986  "
      ]
     },
     "execution_count": 134,
     "metadata": {},
     "output_type": "execute_result"
    }
   ],
   "source": [
    "df_data_processed.sample(10, random_state=20)"
   ]
  },
  {
   "cell_type": "code",
   "execution_count": 135,
   "metadata": {},
   "outputs": [
    {
     "data": {
      "text/html": [
       "<div>\n",
       "<style scoped>\n",
       "    .dataframe tbody tr th:only-of-type {\n",
       "        vertical-align: middle;\n",
       "    }\n",
       "\n",
       "    .dataframe tbody tr th {\n",
       "        vertical-align: top;\n",
       "    }\n",
       "\n",
       "    .dataframe thead th {\n",
       "        text-align: right;\n",
       "    }\n",
       "</style>\n",
       "<table border=\"1\" class=\"dataframe\">\n",
       "  <thead>\n",
       "    <tr style=\"text-align: right;\">\n",
       "      <th></th>\n",
       "      <th>title</th>\n",
       "      <th>helpfulness</th>\n",
       "      <th>review</th>\n",
       "      <th>review_time</th>\n",
       "      <th>text</th>\n",
       "    </tr>\n",
       "  </thead>\n",
       "  <tbody>\n",
       "    <tr>\n",
       "      <th>1094154</th>\n",
       "      <td>Bright Lights, Big City</td>\n",
       "      <td>1/6</td>\n",
       "      <td>2.0</td>\n",
       "      <td>1302048000</td>\n",
       "      <td>This is an iconic American novel? Seriously? I...</td>\n",
       "    </tr>\n",
       "    <tr>\n",
       "      <th>1445562</th>\n",
       "      <td>My Life</td>\n",
       "      <td>17/22</td>\n",
       "      <td>3.0</td>\n",
       "      <td>1088553600</td>\n",
       "      <td>When deciding whether to buy this book, if I h...</td>\n",
       "    </tr>\n",
       "    <tr>\n",
       "      <th>2392721</th>\n",
       "      <td>The Night Is Large: Collected Essays : 1938-1995</td>\n",
       "      <td>2/3</td>\n",
       "      <td>5.0</td>\n",
       "      <td>900460800</td>\n",
       "      <td>Gardner's scope is wide, of course. Obviously ...</td>\n",
       "    </tr>\n",
       "    <tr>\n",
       "      <th>1249986</th>\n",
       "      <td>The Feminine Mystique</td>\n",
       "      <td>25/108</td>\n",
       "      <td>2.0</td>\n",
       "      <td>1021248000</td>\n",
       "      <td>From a Richard Poe article &amp;quot;Friedan's leg...</td>\n",
       "    </tr>\n",
       "    <tr>\n",
       "      <th>1627878</th>\n",
       "      <td>Daddy Needs a Drink: An Irreverent Look at Par...</td>\n",
       "      <td>0/0</td>\n",
       "      <td>5.0</td>\n",
       "      <td>1281916800</td>\n",
       "      <td>Overall, great gift and my husband loves it! Y...</td>\n",
       "    </tr>\n",
       "  </tbody>\n",
       "</table>\n",
       "</div>"
      ],
      "text/plain": [
       "                                                     title helpfulness  \\\n",
       "1094154                            Bright Lights, Big City         1/6   \n",
       "1445562                                            My Life       17/22   \n",
       "2392721   The Night Is Large: Collected Essays : 1938-1995         2/3   \n",
       "1249986                              The Feminine Mystique      25/108   \n",
       "1627878  Daddy Needs a Drink: An Irreverent Look at Par...         0/0   \n",
       "\n",
       "         review  review_time  \\\n",
       "1094154     2.0   1302048000   \n",
       "1445562     3.0   1088553600   \n",
       "2392721     5.0    900460800   \n",
       "1249986     2.0   1021248000   \n",
       "1627878     5.0   1281916800   \n",
       "\n",
       "                                                      text  \n",
       "1094154  This is an iconic American novel? Seriously? I...  \n",
       "1445562  When deciding whether to buy this book, if I h...  \n",
       "2392721  Gardner's scope is wide, of course. Obviously ...  \n",
       "1249986  From a Richard Poe article &quot;Friedan's leg...  \n",
       "1627878  Overall, great gift and my husband loves it! Y...  "
      ]
     },
     "execution_count": 135,
     "metadata": {},
     "output_type": "execute_result"
    }
   ],
   "source": [
    "df_rating_processed.sample(5)"
   ]
  },
  {
   "cell_type": "code",
   "execution_count": 136,
   "metadata": {},
   "outputs": [],
   "source": [
    "# CLEANING DATA FOR REVIEWS DATASET\n",
    "df_rating_processed['review_year'] = df_rating_processed['review_time'].apply(lambda x: datetime.utcfromtimestamp(x).year)\n",
    "\n",
    "df_rating_processed = df_rating_processed.drop(['review_time'], axis=1)"
   ]
  },
  {
   "cell_type": "code",
   "execution_count": 137,
   "metadata": {},
   "outputs": [
    {
     "data": {
      "text/html": [
       "<div>\n",
       "<style scoped>\n",
       "    .dataframe tbody tr th:only-of-type {\n",
       "        vertical-align: middle;\n",
       "    }\n",
       "\n",
       "    .dataframe tbody tr th {\n",
       "        vertical-align: top;\n",
       "    }\n",
       "\n",
       "    .dataframe thead th {\n",
       "        text-align: right;\n",
       "    }\n",
       "</style>\n",
       "<table border=\"1\" class=\"dataframe\">\n",
       "  <thead>\n",
       "    <tr style=\"text-align: right;\">\n",
       "      <th></th>\n",
       "      <th>title</th>\n",
       "      <th>helpfulness</th>\n",
       "      <th>review</th>\n",
       "      <th>text</th>\n",
       "      <th>review_year</th>\n",
       "    </tr>\n",
       "  </thead>\n",
       "  <tbody>\n",
       "    <tr>\n",
       "      <th>2644298</th>\n",
       "      <td>Cheaper by the dozen</td>\n",
       "      <td>0/0</td>\n",
       "      <td>5.0</td>\n",
       "      <td>I'm a student in Industrial Engineering, and t...</td>\n",
       "      <td>2012</td>\n",
       "    </tr>\n",
       "    <tr>\n",
       "      <th>1001404</th>\n",
       "      <td>Slaughterhouse-Five</td>\n",
       "      <td>1/1</td>\n",
       "      <td>4.0</td>\n",
       "      <td>There were many bright ideas in here. The Tral...</td>\n",
       "      <td>2007</td>\n",
       "    </tr>\n",
       "    <tr>\n",
       "      <th>2713473</th>\n",
       "      <td>Mother Knows Best: The Natural Way to Train Yo...</td>\n",
       "      <td>0/3</td>\n",
       "      <td>4.0</td>\n",
       "      <td>If you're looking to train your dog, this is a...</td>\n",
       "      <td>2008</td>\n",
       "    </tr>\n",
       "    <tr>\n",
       "      <th>1111468</th>\n",
       "      <td>Neuromancer</td>\n",
       "      <td>0/2</td>\n",
       "      <td>2.0</td>\n",
       "      <td>Okay. I admit it. As a reader, I only dabble i...</td>\n",
       "      <td>2007</td>\n",
       "    </tr>\n",
       "    <tr>\n",
       "      <th>107298</th>\n",
       "      <td>A Christmas carol: In prose</td>\n",
       "      <td>0/0</td>\n",
       "      <td>5.0</td>\n",
       "      <td>Excellent classic! No wonder they made so many...</td>\n",
       "      <td>2012</td>\n",
       "    </tr>\n",
       "    <tr>\n",
       "      <th>1120808</th>\n",
       "      <td>Trick of the Light: A Detective Story for The ...</td>\n",
       "      <td>0/0</td>\n",
       "      <td>5.0</td>\n",
       "      <td>Trick of the Light is very captivating. It's i...</td>\n",
       "      <td>2011</td>\n",
       "    </tr>\n",
       "    <tr>\n",
       "      <th>2230323</th>\n",
       "      <td>To Kill a Mocking Bird</td>\n",
       "      <td>1/3</td>\n",
       "      <td>5.0</td>\n",
       "      <td>This version is almost as good as the one narr...</td>\n",
       "      <td>2007</td>\n",
       "    </tr>\n",
       "    <tr>\n",
       "      <th>269810</th>\n",
       "      <td>Uglies (Uglies Trilogy, Book 1)</td>\n",
       "      <td>0/1</td>\n",
       "      <td>3.0</td>\n",
       "      <td>We read this book in school. I , like always, ...</td>\n",
       "      <td>2012</td>\n",
       "    </tr>\n",
       "    <tr>\n",
       "      <th>2081916</th>\n",
       "      <td>A Fine Balance</td>\n",
       "      <td>1/1</td>\n",
       "      <td>5.0</td>\n",
       "      <td>This is one of the finest books about India ev...</td>\n",
       "      <td>1996</td>\n",
       "    </tr>\n",
       "    <tr>\n",
       "      <th>1671484</th>\n",
       "      <td>The Brownstone House of Nero Wolfe</td>\n",
       "      <td>12/17</td>\n",
       "      <td>4.0</td>\n",
       "      <td>This book is, in my opinion, superior to the b...</td>\n",
       "      <td>2004</td>\n",
       "    </tr>\n",
       "  </tbody>\n",
       "</table>\n",
       "</div>"
      ],
      "text/plain": [
       "                                                     title helpfulness  \\\n",
       "2644298                               Cheaper by the dozen         0/0   \n",
       "1001404                                Slaughterhouse-Five         1/1   \n",
       "2713473  Mother Knows Best: The Natural Way to Train Yo...         0/3   \n",
       "1111468                                        Neuromancer         0/2   \n",
       "107298                         A Christmas carol: In prose         0/0   \n",
       "1120808  Trick of the Light: A Detective Story for The ...         0/0   \n",
       "2230323                             To Kill a Mocking Bird         1/3   \n",
       "269810                     Uglies (Uglies Trilogy, Book 1)         0/1   \n",
       "2081916                                     A Fine Balance         1/1   \n",
       "1671484                 The Brownstone House of Nero Wolfe       12/17   \n",
       "\n",
       "         review                                               text  \\\n",
       "2644298     5.0  I'm a student in Industrial Engineering, and t...   \n",
       "1001404     4.0  There were many bright ideas in here. The Tral...   \n",
       "2713473     4.0  If you're looking to train your dog, this is a...   \n",
       "1111468     2.0  Okay. I admit it. As a reader, I only dabble i...   \n",
       "107298      5.0  Excellent classic! No wonder they made so many...   \n",
       "1120808     5.0  Trick of the Light is very captivating. It's i...   \n",
       "2230323     5.0  This version is almost as good as the one narr...   \n",
       "269810      3.0  We read this book in school. I , like always, ...   \n",
       "2081916     5.0  This is one of the finest books about India ev...   \n",
       "1671484     4.0  This book is, in my opinion, superior to the b...   \n",
       "\n",
       "         review_year  \n",
       "2644298         2012  \n",
       "1001404         2007  \n",
       "2713473         2008  \n",
       "1111468         2007  \n",
       "107298          2012  \n",
       "1120808         2011  \n",
       "2230323         2007  \n",
       "269810          2012  \n",
       "2081916         1996  \n",
       "1671484         2004  "
      ]
     },
     "execution_count": 137,
     "metadata": {},
     "output_type": "execute_result"
    }
   ],
   "source": [
    "df_rating_processed.sample(10)"
   ]
  },
  {
   "cell_type": "code",
   "execution_count": 138,
   "metadata": {},
   "outputs": [],
   "source": [
    "#Changing helpfulness to a porcentual value\n",
    "def get_helpfulness_as_porcentual_value_0(x):\n",
    "    if  x == '0/0':\n",
    "        return 0\n",
    "    elif x.split('/')[0] == '0':\n",
    "        return 0\n",
    "    else:\n",
    "        dividend = int(x.split('/')[0])\n",
    "        divisor = int(x.split('/')[1])\n",
    "        return dividend/divisor\n",
    "    \n",
    "def get_helpfulness_as_porcentual_value_1(x):\n",
    "    if  x == '0/0':\n",
    "        return 1\n",
    "    elif x.split('/')[0] == '0':\n",
    "        return 0\n",
    "    else:\n",
    "        dividend = int(x.split('/')[0])\n",
    "        divisor = int(x.split('/')[1])\n",
    "        return dividend/divisor"
   ]
  },
  {
   "cell_type": "code",
   "execution_count": 139,
   "metadata": {},
   "outputs": [],
   "source": [
    "df_rating_processed['helpfulness_0'] = df_rating_processed['helpfulness'].apply(lambda x: get_helpfulness_as_porcentual_value_0(x))\n",
    "df_rating_processed['helpfulness_1'] = df_rating_processed['helpfulness'].apply(lambda x: get_helpfulness_as_porcentual_value_1(x))\n",
    "df_rating_processed = df_rating_processed.drop(['helpfulness'], axis=1)"
   ]
  },
  {
   "cell_type": "code",
   "execution_count": 140,
   "metadata": {},
   "outputs": [
    {
     "data": {
      "text/html": [
       "<div>\n",
       "<style scoped>\n",
       "    .dataframe tbody tr th:only-of-type {\n",
       "        vertical-align: middle;\n",
       "    }\n",
       "\n",
       "    .dataframe tbody tr th {\n",
       "        vertical-align: top;\n",
       "    }\n",
       "\n",
       "    .dataframe thead th {\n",
       "        text-align: right;\n",
       "    }\n",
       "</style>\n",
       "<table border=\"1\" class=\"dataframe\">\n",
       "  <thead>\n",
       "    <tr style=\"text-align: right;\">\n",
       "      <th></th>\n",
       "      <th>title</th>\n",
       "      <th>review</th>\n",
       "      <th>text</th>\n",
       "      <th>review_year</th>\n",
       "      <th>helpfulness_0</th>\n",
       "      <th>helpfulness_1</th>\n",
       "    </tr>\n",
       "  </thead>\n",
       "  <tbody>\n",
       "    <tr>\n",
       "      <th>1838518</th>\n",
       "      <td>Brave New World</td>\n",
       "      <td>4.0</td>\n",
       "      <td>I honestly loved this book. The first time i r...</td>\n",
       "      <td>2002</td>\n",
       "      <td>0.500000</td>\n",
       "      <td>0.500000</td>\n",
       "    </tr>\n",
       "    <tr>\n",
       "      <th>1963278</th>\n",
       "      <td>Wuthering Heights (College classics in English)</td>\n",
       "      <td>5.0</td>\n",
       "      <td>I really loved this book. It was a wonderful b...</td>\n",
       "      <td>2000</td>\n",
       "      <td>0.000000</td>\n",
       "      <td>1.000000</td>\n",
       "    </tr>\n",
       "    <tr>\n",
       "      <th>2104886</th>\n",
       "      <td>Domain (Domain Trilogy)</td>\n",
       "      <td>5.0</td>\n",
       "      <td>See story summary above.A rare 5 star.OUTSTAND...</td>\n",
       "      <td>2001</td>\n",
       "      <td>1.000000</td>\n",
       "      <td>1.000000</td>\n",
       "    </tr>\n",
       "    <tr>\n",
       "      <th>1922893</th>\n",
       "      <td>The Lord of the Rings Trilogy: Three Volumes i...</td>\n",
       "      <td>5.0</td>\n",
       "      <td>This book is a masterpiece! When I was only 12...</td>\n",
       "      <td>2000</td>\n",
       "      <td>0.250000</td>\n",
       "      <td>0.250000</td>\n",
       "    </tr>\n",
       "    <tr>\n",
       "      <th>2292097</th>\n",
       "      <td>The Triumph of the Sun (Courtney series)</td>\n",
       "      <td>2.0</td>\n",
       "      <td>The book did not arrive as advertised. Unfortu...</td>\n",
       "      <td>2013</td>\n",
       "      <td>0.000000</td>\n",
       "      <td>1.000000</td>\n",
       "    </tr>\n",
       "    <tr>\n",
       "      <th>711207</th>\n",
       "      <td>\"Happiness Is Not My Companion\": The Life of G...</td>\n",
       "      <td>5.0</td>\n",
       "      <td>\"Happiness Is Not My Companion\" The Life of Go...</td>\n",
       "      <td>2001</td>\n",
       "      <td>0.944444</td>\n",
       "      <td>0.944444</td>\n",
       "    </tr>\n",
       "    <tr>\n",
       "      <th>585303</th>\n",
       "      <td>Jane Eyre: Complete and Unabridged (Puffin Cla...</td>\n",
       "      <td>5.0</td>\n",
       "      <td>It's hard to imagine a better gothic romance t...</td>\n",
       "      <td>2009</td>\n",
       "      <td>1.000000</td>\n",
       "      <td>1.000000</td>\n",
       "    </tr>\n",
       "    <tr>\n",
       "      <th>2267585</th>\n",
       "      <td>The Expositor's Bible Commentary (Vol 12) Hebr...</td>\n",
       "      <td>5.0</td>\n",
       "      <td>The book came in a reasonable time frame and w...</td>\n",
       "      <td>2011</td>\n",
       "      <td>0.000000</td>\n",
       "      <td>0.000000</td>\n",
       "    </tr>\n",
       "    <tr>\n",
       "      <th>2186374</th>\n",
       "      <td>Our Grandmothers' Drums: A Portrait of Rural A...</td>\n",
       "      <td>5.0</td>\n",
       "      <td>If you ever go to Gambia, this is the book to ...</td>\n",
       "      <td>2004</td>\n",
       "      <td>1.000000</td>\n",
       "      <td>1.000000</td>\n",
       "    </tr>\n",
       "    <tr>\n",
       "      <th>1010170</th>\n",
       "      <td>Emergency Maneuver Training : Controlling Your...</td>\n",
       "      <td>5.0</td>\n",
       "      <td>There's a lot more to flying aeroplanes safely...</td>\n",
       "      <td>2006</td>\n",
       "      <td>0.000000</td>\n",
       "      <td>1.000000</td>\n",
       "    </tr>\n",
       "  </tbody>\n",
       "</table>\n",
       "</div>"
      ],
      "text/plain": [
       "                                                     title  review  \\\n",
       "1838518                                    Brave New World     4.0   \n",
       "1963278    Wuthering Heights (College classics in English)     5.0   \n",
       "2104886                            Domain (Domain Trilogy)     5.0   \n",
       "1922893  The Lord of the Rings Trilogy: Three Volumes i...     5.0   \n",
       "2292097           The Triumph of the Sun (Courtney series)     2.0   \n",
       "711207   \"Happiness Is Not My Companion\": The Life of G...     5.0   \n",
       "585303   Jane Eyre: Complete and Unabridged (Puffin Cla...     5.0   \n",
       "2267585  The Expositor's Bible Commentary (Vol 12) Hebr...     5.0   \n",
       "2186374  Our Grandmothers' Drums: A Portrait of Rural A...     5.0   \n",
       "1010170  Emergency Maneuver Training : Controlling Your...     5.0   \n",
       "\n",
       "                                                      text  review_year  \\\n",
       "1838518  I honestly loved this book. The first time i r...         2002   \n",
       "1963278  I really loved this book. It was a wonderful b...         2000   \n",
       "2104886  See story summary above.A rare 5 star.OUTSTAND...         2001   \n",
       "1922893  This book is a masterpiece! When I was only 12...         2000   \n",
       "2292097  The book did not arrive as advertised. Unfortu...         2013   \n",
       "711207   \"Happiness Is Not My Companion\" The Life of Go...         2001   \n",
       "585303   It's hard to imagine a better gothic romance t...         2009   \n",
       "2267585  The book came in a reasonable time frame and w...         2011   \n",
       "2186374  If you ever go to Gambia, this is the book to ...         2004   \n",
       "1010170  There's a lot more to flying aeroplanes safely...         2006   \n",
       "\n",
       "         helpfulness_0  helpfulness_1  \n",
       "1838518       0.500000       0.500000  \n",
       "1963278       0.000000       1.000000  \n",
       "2104886       1.000000       1.000000  \n",
       "1922893       0.250000       0.250000  \n",
       "2292097       0.000000       1.000000  \n",
       "711207        0.944444       0.944444  \n",
       "585303        1.000000       1.000000  \n",
       "2267585       0.000000       0.000000  \n",
       "2186374       1.000000       1.000000  \n",
       "1010170       0.000000       1.000000  "
      ]
     },
     "execution_count": 140,
     "metadata": {},
     "output_type": "execute_result"
    }
   ],
   "source": [
    "df_rating_processed.sample(10)"
   ]
  },
  {
   "cell_type": "code",
   "execution_count": 141,
   "metadata": {},
   "outputs": [
    {
     "name": "stdout",
     "output_type": "stream",
     "text": [
      "<class 'pandas.core.frame.DataFrame'>\n",
      "RangeIndex: 2666314 entries, 0 to 2666313\n",
      "Data columns (total 10 columns):\n",
      " #   Column          Dtype  \n",
      "---  ------          -----  \n",
      " 0   title           object \n",
      " 1   review          float64\n",
      " 2   text            object \n",
      " 3   review_year     int64  \n",
      " 4   helpfulness_0   float64\n",
      " 5   helpfulness_1   float64\n",
      " 6   authors         object \n",
      " 7   publisher       object \n",
      " 8   categories      object \n",
      " 9   published_year  int64  \n",
      "dtypes: float64(3), int64(2), object(5)\n",
      "memory usage: 203.4+ MB\n"
     ]
    }
   ],
   "source": [
    "#Merge The Two Datasets.\n",
    "df_all_data_processed = pd.merge(df_rating_processed, df_data_processed, on='title', how='inner')\n",
    "df_all_data_processed.info()"
   ]
  },
  {
   "cell_type": "markdown",
   "metadata": {},
   "source": [
    "Title Feature Removal: This feature is unique for each book. And it is extremly correlated with Authors. As the same \n",
    "        book Title will always have the same author. So, authors feature is kept and Title is removed."
   ]
  },
  {
   "cell_type": "code",
   "execution_count": 142,
   "metadata": {},
   "outputs": [],
   "source": [
    "df_all_data_processed = df_all_data_processed.drop(['title'], axis=1)"
   ]
  },
  {
   "cell_type": "code",
   "execution_count": 143,
   "metadata": {},
   "outputs": [
    {
     "data": {
      "text/html": [
       "<div>\n",
       "<style scoped>\n",
       "    .dataframe tbody tr th:only-of-type {\n",
       "        vertical-align: middle;\n",
       "    }\n",
       "\n",
       "    .dataframe tbody tr th {\n",
       "        vertical-align: top;\n",
       "    }\n",
       "\n",
       "    .dataframe thead th {\n",
       "        text-align: right;\n",
       "    }\n",
       "</style>\n",
       "<table border=\"1\" class=\"dataframe\">\n",
       "  <thead>\n",
       "    <tr style=\"text-align: right;\">\n",
       "      <th></th>\n",
       "      <th>review</th>\n",
       "      <th>text</th>\n",
       "      <th>review_year</th>\n",
       "      <th>helpfulness_0</th>\n",
       "      <th>helpfulness_1</th>\n",
       "      <th>authors</th>\n",
       "      <th>publisher</th>\n",
       "      <th>categories</th>\n",
       "      <th>published_year</th>\n",
       "    </tr>\n",
       "  </thead>\n",
       "  <tbody>\n",
       "    <tr>\n",
       "      <th>1092245</th>\n",
       "      <td>4.0</td>\n",
       "      <td>The Winter of Our Discontent, Steinbeck's fina...</td>\n",
       "      <td>2012</td>\n",
       "      <td>0.000000</td>\n",
       "      <td>0.000000</td>\n",
       "      <td>[John Steinbeck]</td>\n",
       "      <td>Penguin</td>\n",
       "      <td>[Fiction]</td>\n",
       "      <td>2008</td>\n",
       "    </tr>\n",
       "    <tr>\n",
       "      <th>1167561</th>\n",
       "      <td>1.0</td>\n",
       "      <td>My title says it all. Lois refuses to have any...</td>\n",
       "      <td>2007</td>\n",
       "      <td>1.000000</td>\n",
       "      <td>1.000000</td>\n",
       "      <td>[Lois Trader]</td>\n",
       "      <td>Knew Truth Publishers</td>\n",
       "      <td>NaN</td>\n",
       "      <td>1997</td>\n",
       "    </tr>\n",
       "    <tr>\n",
       "      <th>2054682</th>\n",
       "      <td>5.0</td>\n",
       "      <td>This book sheds a new light on fixed stars. Be...</td>\n",
       "      <td>1999</td>\n",
       "      <td>0.769231</td>\n",
       "      <td>0.769231</td>\n",
       "      <td>[Bernadette Brady]</td>\n",
       "      <td>Weiser Books</td>\n",
       "      <td>[Body, Mind &amp; Spirit]</td>\n",
       "      <td>1999</td>\n",
       "    </tr>\n",
       "    <tr>\n",
       "      <th>1220331</th>\n",
       "      <td>5.0</td>\n",
       "      <td>Excellent little daily readings to go along wi...</td>\n",
       "      <td>2006</td>\n",
       "      <td>0.900000</td>\n",
       "      <td>0.900000</td>\n",
       "      <td>[A. J. Russell]</td>\n",
       "      <td>Berkley</td>\n",
       "      <td>[Religion]</td>\n",
       "      <td>2006</td>\n",
       "    </tr>\n",
       "    <tr>\n",
       "      <th>555574</th>\n",
       "      <td>5.0</td>\n",
       "      <td>I had to read this book for my literature clas...</td>\n",
       "      <td>2012</td>\n",
       "      <td>1.000000</td>\n",
       "      <td>1.000000</td>\n",
       "      <td>[J. R. R. Tolkien]</td>\n",
       "      <td>Mariner Books</td>\n",
       "      <td>[Juvenile Fiction]</td>\n",
       "      <td>2012</td>\n",
       "    </tr>\n",
       "    <tr>\n",
       "      <th>981230</th>\n",
       "      <td>5.0</td>\n",
       "      <td>I purchased this book for a graduate level cla...</td>\n",
       "      <td>2011</td>\n",
       "      <td>0.000000</td>\n",
       "      <td>1.000000</td>\n",
       "      <td>[Tom Feelings]</td>\n",
       "      <td>Penguin</td>\n",
       "      <td>[Young Adult Nonfiction]</td>\n",
       "      <td>2018</td>\n",
       "    </tr>\n",
       "    <tr>\n",
       "      <th>2330971</th>\n",
       "      <td>5.0</td>\n",
       "      <td>I was pleased to meet Diana Barron at one of h...</td>\n",
       "      <td>2001</td>\n",
       "      <td>0.000000</td>\n",
       "      <td>1.000000</td>\n",
       "      <td>[Charles M. Bush]</td>\n",
       "      <td>NaN</td>\n",
       "      <td>[Law]</td>\n",
       "      <td>1925</td>\n",
       "    </tr>\n",
       "    <tr>\n",
       "      <th>1859465</th>\n",
       "      <td>5.0</td>\n",
       "      <td>This is the best Left Behind book yet.It shows...</td>\n",
       "      <td>2001</td>\n",
       "      <td>0.000000</td>\n",
       "      <td>0.000000</td>\n",
       "      <td>[Tim LaHaye, Jerry B. Jenkins]</td>\n",
       "      <td>Tyndale House Publishers, Inc.</td>\n",
       "      <td>[Fiction]</td>\n",
       "      <td>2011</td>\n",
       "    </tr>\n",
       "    <tr>\n",
       "      <th>1015445</th>\n",
       "      <td>2.0</td>\n",
       "      <td>I bought this product as the hardcopy book act...</td>\n",
       "      <td>2008</td>\n",
       "      <td>0.823529</td>\n",
       "      <td>0.823529</td>\n",
       "      <td>[Anand Ramachandran]</td>\n",
       "      <td>Lippincott Williams &amp; Wilkins</td>\n",
       "      <td>[Medical]</td>\n",
       "      <td>2007</td>\n",
       "    </tr>\n",
       "    <tr>\n",
       "      <th>1506464</th>\n",
       "      <td>4.0</td>\n",
       "      <td>I love Greek mythology, so it's always a happy...</td>\n",
       "      <td>2011</td>\n",
       "      <td>1.000000</td>\n",
       "      <td>1.000000</td>\n",
       "      <td>[Kristine Grayson]</td>\n",
       "      <td>Zebra Books</td>\n",
       "      <td>[Fiction]</td>\n",
       "      <td>2002</td>\n",
       "    </tr>\n",
       "  </tbody>\n",
       "</table>\n",
       "</div>"
      ],
      "text/plain": [
       "         review                                               text  \\\n",
       "1092245     4.0  The Winter of Our Discontent, Steinbeck's fina...   \n",
       "1167561     1.0  My title says it all. Lois refuses to have any...   \n",
       "2054682     5.0  This book sheds a new light on fixed stars. Be...   \n",
       "1220331     5.0  Excellent little daily readings to go along wi...   \n",
       "555574      5.0  I had to read this book for my literature clas...   \n",
       "981230      5.0  I purchased this book for a graduate level cla...   \n",
       "2330971     5.0  I was pleased to meet Diana Barron at one of h...   \n",
       "1859465     5.0  This is the best Left Behind book yet.It shows...   \n",
       "1015445     2.0  I bought this product as the hardcopy book act...   \n",
       "1506464     4.0  I love Greek mythology, so it's always a happy...   \n",
       "\n",
       "         review_year  helpfulness_0  helpfulness_1  \\\n",
       "1092245         2012       0.000000       0.000000   \n",
       "1167561         2007       1.000000       1.000000   \n",
       "2054682         1999       0.769231       0.769231   \n",
       "1220331         2006       0.900000       0.900000   \n",
       "555574          2012       1.000000       1.000000   \n",
       "981230          2011       0.000000       1.000000   \n",
       "2330971         2001       0.000000       1.000000   \n",
       "1859465         2001       0.000000       0.000000   \n",
       "1015445         2008       0.823529       0.823529   \n",
       "1506464         2011       1.000000       1.000000   \n",
       "\n",
       "                                authors                       publisher  \\\n",
       "1092245                [John Steinbeck]                         Penguin   \n",
       "1167561                   [Lois Trader]           Knew Truth Publishers   \n",
       "2054682              [Bernadette Brady]                    Weiser Books   \n",
       "1220331                 [A. J. Russell]                         Berkley   \n",
       "555574               [J. R. R. Tolkien]                   Mariner Books   \n",
       "981230                   [Tom Feelings]                         Penguin   \n",
       "2330971               [Charles M. Bush]                             NaN   \n",
       "1859465  [Tim LaHaye, Jerry B. Jenkins]  Tyndale House Publishers, Inc.   \n",
       "1015445            [Anand Ramachandran]   Lippincott Williams & Wilkins   \n",
       "1506464              [Kristine Grayson]                     Zebra Books   \n",
       "\n",
       "                       categories  published_year  \n",
       "1092245                 [Fiction]            2008  \n",
       "1167561                       NaN            1997  \n",
       "2054682     [Body, Mind & Spirit]            1999  \n",
       "1220331                [Religion]            2006  \n",
       "555574         [Juvenile Fiction]            2012  \n",
       "981230   [Young Adult Nonfiction]            2018  \n",
       "2330971                     [Law]            1925  \n",
       "1859465                 [Fiction]            2011  \n",
       "1015445                 [Medical]            2007  \n",
       "1506464                 [Fiction]            2002  "
      ]
     },
     "execution_count": 143,
     "metadata": {},
     "output_type": "execute_result"
    }
   ],
   "source": [
    "df_all_data_processed.sample(10)"
   ]
  },
  {
   "cell_type": "markdown",
   "metadata": {},
   "source": [
    "## Dataset Reduction/Sampling\n",
    "\n",
    "Sample Size Calculation formula from Survey Monkey (https://www.surveymonkey.com/mp/sample-size-calculator/) is used to calculate a extract a ramdom sample of the dataset.\n",
    "In order to reduce the dataset size and apply NLP to the text column.\n",
    "\n",
    "For the given formula: \n",
    "\n",
    "   $$ sample size =  \\frac{\\frac{z^2xp(1-p)}{e^2}}{1 + \\frac{z^2xp(1-p)}{e^2N}} $$\n",
    "\n",
    "with:\n",
    "- N = population size \n",
    "- e = Margin of error (percentage in decimal form) \n",
    "- z = z-score\n",
    "- p = sample proportion\n",
    "\n",
    "\n",
    "| Desired confidence level\t| z-score |\n",
    "|--------------------------|---------|\n",
    "|            80%           |   1.28  |\n",
    "|            85%\t         |   1.44  |\n",
    "|            90%\t         |   1.65  |\n",
    "|            95%\t         |   1.96  |\n",
    "|            99%\t         |   2.58  |\n",
    "\n",
    "\n",
    "Setting N = 2 666 313, e = 99% and z = 2.58\n",
    "\n",
    "sample size = 578995. \n",
    "\n",
    "A sample of **578 995** entries will be extracted from the Dataset to be processed and to train and test the model."
   ]
  },
  {
   "cell_type": "code",
   "execution_count": 144,
   "metadata": {},
   "outputs": [
    {
     "name": "stdout",
     "output_type": "stream",
     "text": [
      "Sample size is: 578995\n"
     ]
    }
   ],
   "source": [
    "N = df_all_data_processed.shape[0] - 1\n",
    "e = 0.0015 #Margin of error = 0.15%\n",
    "z = 2.58 # Desired confidence level = 99%, so z-score = 2.58\n",
    "p = 0.5 #Used 0.5 as a conservative approach. It will give the largest sample size\n",
    "\n",
    "sample_size = ( ((z*z)*p*(1-p))/(e*e) )/(1 + ((z*z)*p*(1-p))/(e*e*N) )\n",
    "\n",
    "sample_size = round(sample_size)\n",
    "\n",
    "print(f'Sample size is: {sample_size}')"
   ]
  },
  {
   "cell_type": "code",
   "execution_count": 145,
   "metadata": {},
   "outputs": [],
   "source": [
    "#Extract the sample of 578995 entries from the dataset.\n",
    "df_all_data_filtered_processed = df_all_data_processed.sample(n=sample_size, random_state=2125)"
   ]
  },
  {
   "cell_type": "code",
   "execution_count": 146,
   "metadata": {},
   "outputs": [
    {
     "name": "stdout",
     "output_type": "stream",
     "text": [
      "<class 'pandas.core.frame.DataFrame'>\n",
      "RangeIndex: 578995 entries, 0 to 578994\n",
      "Data columns (total 9 columns):\n",
      " #   Column          Non-Null Count   Dtype  \n",
      "---  ------          --------------   -----  \n",
      " 0   review          578995 non-null  float64\n",
      " 1   text            578995 non-null  object \n",
      " 2   review_year     578995 non-null  int64  \n",
      " 3   helpfulness_0   578995 non-null  float64\n",
      " 4   helpfulness_1   578995 non-null  float64\n",
      " 5   authors         566598 non-null  object \n",
      " 6   publisher       481622 non-null  object \n",
      " 7   categories      531722 non-null  object \n",
      " 8   published_year  578995 non-null  int64  \n",
      "dtypes: float64(3), int64(2), object(4)\n",
      "memory usage: 39.8+ MB\n"
     ]
    }
   ],
   "source": [
    "df_all_data_filtered_processed.reset_index(drop=True, inplace=True)\n",
    "df_all_data_filtered_processed.info()"
   ]
  },
  {
   "cell_type": "code",
   "execution_count": 147,
   "metadata": {},
   "outputs": [
    {
     "data": {
      "text/plain": [
       "review\n",
       "5.0    349011\n",
       "4.0    113195\n",
       "3.0     48855\n",
       "1.0     38541\n",
       "2.0     29393\n",
       "Name: count, dtype: int64"
      ]
     },
     "execution_count": 147,
     "metadata": {},
     "output_type": "execute_result"
    }
   ],
   "source": [
    "df_all_data_filtered_processed['review'].value_counts()"
   ]
  },
  {
   "cell_type": "code",
   "execution_count": 148,
   "metadata": {},
   "outputs": [
    {
     "data": {
      "image/png": "[encoded data removed]",
      "text/plain": [
       "<Figure size 640x480 with 1 Axes>"
      ]
     },
     "metadata": {},
     "output_type": "display_data"
    }
   ],
   "source": [
    "df_all_data_filtered_processed['review'].hist()\n",
    "plt.show()\n",
    "#Add axes."
   ]
  },
  {
   "cell_type": "code",
   "execution_count": 149,
   "metadata": {},
   "outputs": [
    {
     "data": {
      "text/plain": [
       "review                0\n",
       "text                  0\n",
       "review_year           0\n",
       "helpfulness_0         0\n",
       "helpfulness_1         0\n",
       "authors           12397\n",
       "publisher         97373\n",
       "categories        47273\n",
       "published_year        0\n",
       "dtype: int64"
      ]
     },
     "execution_count": 149,
     "metadata": {},
     "output_type": "execute_result"
    }
   ],
   "source": [
    "df_all_data_filtered_processed.isna().sum()"
   ]
  },
  {
   "cell_type": "code",
   "execution_count": 150,
   "metadata": {},
   "outputs": [
    {
     "data": {
      "text/html": [
       "<div>\n",
       "<style scoped>\n",
       "    .dataframe tbody tr th:only-of-type {\n",
       "        vertical-align: middle;\n",
       "    }\n",
       "\n",
       "    .dataframe tbody tr th {\n",
       "        vertical-align: top;\n",
       "    }\n",
       "\n",
       "    .dataframe thead th {\n",
       "        text-align: right;\n",
       "    }\n",
       "</style>\n",
       "<table border=\"1\" class=\"dataframe\">\n",
       "  <thead>\n",
       "    <tr style=\"text-align: right;\">\n",
       "      <th></th>\n",
       "      <th>review</th>\n",
       "      <th>text</th>\n",
       "      <th>review_year</th>\n",
       "      <th>helpfulness_0</th>\n",
       "      <th>helpfulness_1</th>\n",
       "      <th>authors</th>\n",
       "      <th>publisher</th>\n",
       "      <th>categories</th>\n",
       "      <th>published_year</th>\n",
       "    </tr>\n",
       "  </thead>\n",
       "  <tbody>\n",
       "    <tr>\n",
       "      <th>224609</th>\n",
       "      <td>5.0</td>\n",
       "      <td>I bought this book to take on family hikes. Wh...</td>\n",
       "      <td>2002</td>\n",
       "      <td>0.000000</td>\n",
       "      <td>1.000000</td>\n",
       "      <td>[Peter Alden]</td>\n",
       "      <td>Random House of Canada</td>\n",
       "      <td>[Nature]</td>\n",
       "      <td>1999</td>\n",
       "    </tr>\n",
       "    <tr>\n",
       "      <th>571406</th>\n",
       "      <td>1.0</td>\n",
       "      <td>I saw this book in the hard back edition in a ...</td>\n",
       "      <td>2010</td>\n",
       "      <td>1.000000</td>\n",
       "      <td>1.000000</td>\n",
       "      <td>[Daniel Arasse]</td>\n",
       "      <td>NaN</td>\n",
       "      <td>[Art]</td>\n",
       "      <td>2014</td>\n",
       "    </tr>\n",
       "    <tr>\n",
       "      <th>556893</th>\n",
       "      <td>5.0</td>\n",
       "      <td>I have over 10 years experience as a PC tech, ...</td>\n",
       "      <td>2000</td>\n",
       "      <td>0.000000</td>\n",
       "      <td>1.000000</td>\n",
       "      <td>NaN</td>\n",
       "      <td>NaN</td>\n",
       "      <td>[Computer technicians]</td>\n",
       "      <td>1999</td>\n",
       "    </tr>\n",
       "    <tr>\n",
       "      <th>319774</th>\n",
       "      <td>5.0</td>\n",
       "      <td>This book is the only pictorial book I've enco...</td>\n",
       "      <td>1998</td>\n",
       "      <td>0.833333</td>\n",
       "      <td>0.833333</td>\n",
       "      <td>[How Man Wong, Julie Gaw]</td>\n",
       "      <td>Odyssey Publications</td>\n",
       "      <td>[Photography]</td>\n",
       "      <td>1998</td>\n",
       "    </tr>\n",
       "    <tr>\n",
       "      <th>8444</th>\n",
       "      <td>1.0</td>\n",
       "      <td>Rick Jones is insane. Not in an entertaining, ...</td>\n",
       "      <td>2001</td>\n",
       "      <td>0.629630</td>\n",
       "      <td>0.629630</td>\n",
       "      <td>[Rick Jones]</td>\n",
       "      <td>Chick Publications</td>\n",
       "      <td>[Body, Mind &amp; Spirit]</td>\n",
       "      <td>1988</td>\n",
       "    </tr>\n",
       "    <tr>\n",
       "      <th>569971</th>\n",
       "      <td>4.0</td>\n",
       "      <td>For any of you who do not have the following d...</td>\n",
       "      <td>2000</td>\n",
       "      <td>1.000000</td>\n",
       "      <td>1.000000</td>\n",
       "      <td>[Mary Clement]</td>\n",
       "      <td>Macmillan</td>\n",
       "      <td>[Law]</td>\n",
       "      <td>2000</td>\n",
       "    </tr>\n",
       "    <tr>\n",
       "      <th>71935</th>\n",
       "      <td>5.0</td>\n",
       "      <td>Feeling twinges of regret at my own childhood,...</td>\n",
       "      <td>2003</td>\n",
       "      <td>1.000000</td>\n",
       "      <td>1.000000</td>\n",
       "      <td>[Caryl Hart]</td>\n",
       "      <td>Bloomsbury Publishing</td>\n",
       "      <td>[Juvenile Fiction]</td>\n",
       "      <td>2017</td>\n",
       "    </tr>\n",
       "    <tr>\n",
       "      <th>12035</th>\n",
       "      <td>5.0</td>\n",
       "      <td>The courageous Caner brothers have done us all...</td>\n",
       "      <td>2002</td>\n",
       "      <td>0.333333</td>\n",
       "      <td>0.333333</td>\n",
       "      <td>[Ergun Mehmet Caner, Emir Fethi Caner]</td>\n",
       "      <td>Kregel Publications</td>\n",
       "      <td>[Religion]</td>\n",
       "      <td>2002</td>\n",
       "    </tr>\n",
       "    <tr>\n",
       "      <th>557307</th>\n",
       "      <td>4.0</td>\n",
       "      <td>The Invisible Man, by H.G. WellsI literally fi...</td>\n",
       "      <td>2010</td>\n",
       "      <td>0.500000</td>\n",
       "      <td>0.500000</td>\n",
       "      <td>[H G Wells]</td>\n",
       "      <td>Rupa Publications India Pvt Limited</td>\n",
       "      <td>NaN</td>\n",
       "      <td>2000</td>\n",
       "    </tr>\n",
       "    <tr>\n",
       "      <th>10471</th>\n",
       "      <td>3.0</td>\n",
       "      <td>Can't complain about the price--it's free--but...</td>\n",
       "      <td>2012</td>\n",
       "      <td>1.000000</td>\n",
       "      <td>1.000000</td>\n",
       "      <td>[George Eliot]</td>\n",
       "      <td>NaN</td>\n",
       "      <td>NaN</td>\n",
       "      <td>1966</td>\n",
       "    </tr>\n",
       "  </tbody>\n",
       "</table>\n",
       "</div>"
      ],
      "text/plain": [
       "        review                                               text  \\\n",
       "224609     5.0  I bought this book to take on family hikes. Wh...   \n",
       "571406     1.0  I saw this book in the hard back edition in a ...   \n",
       "556893     5.0  I have over 10 years experience as a PC tech, ...   \n",
       "319774     5.0  This book is the only pictorial book I've enco...   \n",
       "8444       1.0  Rick Jones is insane. Not in an entertaining, ...   \n",
       "569971     4.0  For any of you who do not have the following d...   \n",
       "71935      5.0  Feeling twinges of regret at my own childhood,...   \n",
       "12035      5.0  The courageous Caner brothers have done us all...   \n",
       "557307     4.0  The Invisible Man, by H.G. WellsI literally fi...   \n",
       "10471      3.0  Can't complain about the price--it's free--but...   \n",
       "\n",
       "        review_year  helpfulness_0  helpfulness_1  \\\n",
       "224609         2002       0.000000       1.000000   \n",
       "571406         2010       1.000000       1.000000   \n",
       "556893         2000       0.000000       1.000000   \n",
       "319774         1998       0.833333       0.833333   \n",
       "8444           2001       0.629630       0.629630   \n",
       "569971         2000       1.000000       1.000000   \n",
       "71935          2003       1.000000       1.000000   \n",
       "12035          2002       0.333333       0.333333   \n",
       "557307         2010       0.500000       0.500000   \n",
       "10471          2012       1.000000       1.000000   \n",
       "\n",
       "                                       authors  \\\n",
       "224609                           [Peter Alden]   \n",
       "571406                         [Daniel Arasse]   \n",
       "556893                                     NaN   \n",
       "319774               [How Man Wong, Julie Gaw]   \n",
       "8444                              [Rick Jones]   \n",
       "569971                          [Mary Clement]   \n",
       "71935                             [Caryl Hart]   \n",
       "12035   [Ergun Mehmet Caner, Emir Fethi Caner]   \n",
       "557307                             [H G Wells]   \n",
       "10471                           [George Eliot]   \n",
       "\n",
       "                                  publisher              categories  \\\n",
       "224609               Random House of Canada                [Nature]   \n",
       "571406                                  NaN                   [Art]   \n",
       "556893                                  NaN  [Computer technicians]   \n",
       "319774                 Odyssey Publications           [Photography]   \n",
       "8444                     Chick Publications   [Body, Mind & Spirit]   \n",
       "569971                            Macmillan                   [Law]   \n",
       "71935                 Bloomsbury Publishing      [Juvenile Fiction]   \n",
       "12035                   Kregel Publications              [Religion]   \n",
       "557307  Rupa Publications India Pvt Limited                     NaN   \n",
       "10471                                   NaN                     NaN   \n",
       "\n",
       "        published_year  \n",
       "224609            1999  \n",
       "571406            2014  \n",
       "556893            1999  \n",
       "319774            1998  \n",
       "8444              1988  \n",
       "569971            2000  \n",
       "71935             2017  \n",
       "12035             2002  \n",
       "557307            2000  \n",
       "10471             1966  "
      ]
     },
     "execution_count": 150,
     "metadata": {},
     "output_type": "execute_result"
    }
   ],
   "source": [
    "df_all_data_filtered_processed.sample(10)"
   ]
  },
  {
   "cell_type": "code",
   "execution_count": 151,
   "metadata": {},
   "outputs": [
    {
     "name": "stdout",
     "output_type": "stream",
     "text": [
      "<class 'pandas.core.frame.DataFrame'>\n",
      "RangeIndex: 502046 entries, 0 to 502045\n",
      "Data columns (total 9 columns):\n",
      " #   Column          Non-Null Count   Dtype  \n",
      "---  ------          --------------   -----  \n",
      " 0   review          502046 non-null  float64\n",
      " 1   text            502046 non-null  object \n",
      " 2   review_year     502046 non-null  int64  \n",
      " 3   helpfulness_0   502046 non-null  float64\n",
      " 4   helpfulness_1   502046 non-null  float64\n",
      " 5   authors         490973 non-null  object \n",
      " 6   publisher       420055 non-null  object \n",
      " 7   categories      467215 non-null  object \n",
      " 8   published_year  502046 non-null  int64  \n",
      "dtypes: float64(3), int64(2), object(4)\n",
      "memory usage: 34.5+ MB\n"
     ]
    }
   ],
   "source": [
    "df_all_data_filtered_processed = df_all_data_filtered_processed.drop_duplicates(subset=['review', 'text'])\n",
    "df_all_data_filtered_processed.reset_index(drop=True, inplace=True)\n",
    "df_all_data_filtered_processed.info()"
   ]
  },
  {
   "cell_type": "code",
   "execution_count": 152,
   "metadata": {},
   "outputs": [
    {
     "data": {
      "text/html": [
       "<div>\n",
       "<style scoped>\n",
       "    .dataframe tbody tr th:only-of-type {\n",
       "        vertical-align: middle;\n",
       "    }\n",
       "\n",
       "    .dataframe tbody tr th {\n",
       "        vertical-align: top;\n",
       "    }\n",
       "\n",
       "    .dataframe thead th {\n",
       "        text-align: right;\n",
       "    }\n",
       "</style>\n",
       "<table border=\"1\" class=\"dataframe\">\n",
       "  <thead>\n",
       "    <tr style=\"text-align: right;\">\n",
       "      <th></th>\n",
       "      <th>review</th>\n",
       "      <th>text</th>\n",
       "      <th>review_year</th>\n",
       "      <th>helpfulness_0</th>\n",
       "      <th>helpfulness_1</th>\n",
       "      <th>authors</th>\n",
       "      <th>publisher</th>\n",
       "      <th>categories</th>\n",
       "      <th>published_year</th>\n",
       "    </tr>\n",
       "  </thead>\n",
       "  <tbody>\n",
       "    <tr>\n",
       "      <th>248113</th>\n",
       "      <td>2.0</td>\n",
       "      <td>I bought this book as an ODBC virgin. I had no...</td>\n",
       "      <td>1998</td>\n",
       "      <td>1.000000</td>\n",
       "      <td>1.000000</td>\n",
       "      <td>[Roger E. Sanders]</td>\n",
       "      <td>Computing McGraw-Hill</td>\n",
       "      <td>[Computers]</td>\n",
       "      <td>1999</td>\n",
       "    </tr>\n",
       "    <tr>\n",
       "      <th>127934</th>\n",
       "      <td>5.0</td>\n",
       "      <td>i found this work to be quite informative and ...</td>\n",
       "      <td>2012</td>\n",
       "      <td>1.000000</td>\n",
       "      <td>1.000000</td>\n",
       "      <td>[Konstantinos]</td>\n",
       "      <td>Llewellyn Worldwide</td>\n",
       "      <td>[Body, Mind &amp; Spirit]</td>\n",
       "      <td>2005</td>\n",
       "    </tr>\n",
       "    <tr>\n",
       "      <th>4457</th>\n",
       "      <td>5.0</td>\n",
       "      <td>First of all, in reference to the reviewer who...</td>\n",
       "      <td>2006</td>\n",
       "      <td>1.000000</td>\n",
       "      <td>1.000000</td>\n",
       "      <td>[Charles Dickens]</td>\n",
       "      <td>Signet Classics</td>\n",
       "      <td>[Fiction]</td>\n",
       "      <td>1980</td>\n",
       "    </tr>\n",
       "    <tr>\n",
       "      <th>234339</th>\n",
       "      <td>5.0</td>\n",
       "      <td>great book. I was excited to receive it as I a...</td>\n",
       "      <td>2012</td>\n",
       "      <td>0.000000</td>\n",
       "      <td>1.000000</td>\n",
       "      <td>[Terry Brooks]</td>\n",
       "      <td>Random House Digital, Inc.</td>\n",
       "      <td>[Fiction]</td>\n",
       "      <td>2001</td>\n",
       "    </tr>\n",
       "    <tr>\n",
       "      <th>132954</th>\n",
       "      <td>5.0</td>\n",
       "      <td>Review by Tom rederiksen - http://members.aol....</td>\n",
       "      <td>1997</td>\n",
       "      <td>0.857143</td>\n",
       "      <td>0.857143</td>\n",
       "      <td>[Bernal Díaz del Castillo]</td>\n",
       "      <td>Farrar Straus &amp; Giroux</td>\n",
       "      <td>[History]</td>\n",
       "      <td>1956</td>\n",
       "    </tr>\n",
       "    <tr>\n",
       "      <th>322954</th>\n",
       "      <td>4.0</td>\n",
       "      <td>I read this book and gave it 4 stars. Other re...</td>\n",
       "      <td>2006</td>\n",
       "      <td>1.000000</td>\n",
       "      <td>1.000000</td>\n",
       "      <td>[Robert Jordan]</td>\n",
       "      <td>Macmillan</td>\n",
       "      <td>[Fiction]</td>\n",
       "      <td>2005</td>\n",
       "    </tr>\n",
       "    <tr>\n",
       "      <th>404337</th>\n",
       "      <td>5.0</td>\n",
       "      <td>This book made perfect sense to me, I would ho...</td>\n",
       "      <td>2008</td>\n",
       "      <td>0.428571</td>\n",
       "      <td>0.428571</td>\n",
       "      <td>[Eckhart Tolle]</td>\n",
       "      <td>Penguin</td>\n",
       "      <td>[Self-Help]</td>\n",
       "      <td>2006</td>\n",
       "    </tr>\n",
       "    <tr>\n",
       "      <th>295811</th>\n",
       "      <td>1.0</td>\n",
       "      <td>This book is absolutely rubbish! This is the f...</td>\n",
       "      <td>1998</td>\n",
       "      <td>0.333333</td>\n",
       "      <td>0.333333</td>\n",
       "      <td>[Winston Groom]</td>\n",
       "      <td>Vintage</td>\n",
       "      <td>[Fiction]</td>\n",
       "      <td>2012</td>\n",
       "    </tr>\n",
       "    <tr>\n",
       "      <th>89568</th>\n",
       "      <td>5.0</td>\n",
       "      <td>Ken Ham keeps amazing me with his ability to t...</td>\n",
       "      <td>2003</td>\n",
       "      <td>0.562500</td>\n",
       "      <td>0.562500</td>\n",
       "      <td>[Ken Ham]</td>\n",
       "      <td>New Leaf Publishing Group</td>\n",
       "      <td>[Juvenile Nonfiction]</td>\n",
       "      <td>2000</td>\n",
       "    </tr>\n",
       "    <tr>\n",
       "      <th>122296</th>\n",
       "      <td>3.0</td>\n",
       "      <td>It's amazing that Graham Greene always wrote a...</td>\n",
       "      <td>2010</td>\n",
       "      <td>0.000000</td>\n",
       "      <td>0.000000</td>\n",
       "      <td>[Graham Greene]</td>\n",
       "      <td>NaN</td>\n",
       "      <td>NaN</td>\n",
       "      <td>2010</td>\n",
       "    </tr>\n",
       "  </tbody>\n",
       "</table>\n",
       "</div>"
      ],
      "text/plain": [
       "        review                                               text  \\\n",
       "248113     2.0  I bought this book as an ODBC virgin. I had no...   \n",
       "127934     5.0  i found this work to be quite informative and ...   \n",
       "4457       5.0  First of all, in reference to the reviewer who...   \n",
       "234339     5.0  great book. I was excited to receive it as I a...   \n",
       "132954     5.0  Review by Tom rederiksen - http://members.aol....   \n",
       "322954     4.0  I read this book and gave it 4 stars. Other re...   \n",
       "404337     5.0  This book made perfect sense to me, I would ho...   \n",
       "295811     1.0  This book is absolutely rubbish! This is the f...   \n",
       "89568      5.0  Ken Ham keeps amazing me with his ability to t...   \n",
       "122296     3.0  It's amazing that Graham Greene always wrote a...   \n",
       "\n",
       "        review_year  helpfulness_0  helpfulness_1                     authors  \\\n",
       "248113         1998       1.000000       1.000000          [Roger E. Sanders]   \n",
       "127934         2012       1.000000       1.000000              [Konstantinos]   \n",
       "4457           2006       1.000000       1.000000           [Charles Dickens]   \n",
       "234339         2012       0.000000       1.000000              [Terry Brooks]   \n",
       "132954         1997       0.857143       0.857143  [Bernal Díaz del Castillo]   \n",
       "322954         2006       1.000000       1.000000             [Robert Jordan]   \n",
       "404337         2008       0.428571       0.428571             [Eckhart Tolle]   \n",
       "295811         1998       0.333333       0.333333             [Winston Groom]   \n",
       "89568          2003       0.562500       0.562500                   [Ken Ham]   \n",
       "122296         2010       0.000000       0.000000             [Graham Greene]   \n",
       "\n",
       "                         publisher             categories  published_year  \n",
       "248113       Computing McGraw-Hill            [Computers]            1999  \n",
       "127934         Llewellyn Worldwide  [Body, Mind & Spirit]            2005  \n",
       "4457               Signet Classics              [Fiction]            1980  \n",
       "234339  Random House Digital, Inc.              [Fiction]            2001  \n",
       "132954      Farrar Straus & Giroux              [History]            1956  \n",
       "322954                   Macmillan              [Fiction]            2005  \n",
       "404337                     Penguin            [Self-Help]            2006  \n",
       "295811                     Vintage              [Fiction]            2012  \n",
       "89568    New Leaf Publishing Group  [Juvenile Nonfiction]            2000  \n",
       "122296                         NaN                    NaN            2010  "
      ]
     },
     "execution_count": 152,
     "metadata": {},
     "output_type": "execute_result"
    }
   ],
   "source": [
    "df_all_data_filtered_processed.sample(10)"
   ]
  },
  {
   "cell_type": "markdown",
   "metadata": {},
   "source": [
    "# Initial EDA and Final Preprocesing"
   ]
  },
  {
   "cell_type": "markdown",
   "metadata": {},
   "source": [
    "## Helpfulness Column"
   ]
  },
  {
   "cell_type": "markdown",
   "metadata": {},
   "source": [
    "### Removing Outliers"
   ]
  },
  {
   "cell_type": "markdown",
   "metadata": {},
   "source": [
    "Porcentual helpfulness variable values should be between 0 and 1. Outliers are remove as they are just 2 entries from the entire dataset."
   ]
  },
  {
   "cell_type": "code",
   "execution_count": 153,
   "metadata": {},
   "outputs": [
    {
     "data": {
      "text/plain": [
       "count    502046.000000\n",
       "mean          0.504319\n",
       "std           0.429890\n",
       "min           0.000000\n",
       "25%           0.000000\n",
       "50%           0.545455\n",
       "75%           1.000000\n",
       "max           2.000000\n",
       "Name: helpfulness_0, dtype: float64"
      ]
     },
     "execution_count": 153,
     "metadata": {},
     "output_type": "execute_result"
    }
   ],
   "source": [
    "df_all_data_filtered_processed['helpfulness_0'].describe().T"
   ]
  },
  {
   "cell_type": "code",
   "execution_count": 154,
   "metadata": {},
   "outputs": [
    {
     "data": {
      "text/plain": [
       "count    502046.000000\n",
       "mean          0.789840\n",
       "std           0.317517\n",
       "min           0.000000\n",
       "25%           0.666667\n",
       "50%           1.000000\n",
       "75%           1.000000\n",
       "max           2.000000\n",
       "Name: helpfulness_1, dtype: float64"
      ]
     },
     "execution_count": 154,
     "metadata": {},
     "output_type": "execute_result"
    }
   ],
   "source": [
    "df_all_data_filtered_processed['helpfulness_1'].describe().T"
   ]
  },
  {
   "cell_type": "code",
   "execution_count": 155,
   "metadata": {},
   "outputs": [
    {
     "data": {
      "text/plain": [
       "(502046, 9)"
      ]
     },
     "execution_count": 155,
     "metadata": {},
     "output_type": "execute_result"
    }
   ],
   "source": [
    "df_all_data_filtered_processed.shape"
   ]
  },
  {
   "cell_type": "code",
   "execution_count": 156,
   "metadata": {},
   "outputs": [
    {
     "data": {
      "text/plain": [
       "Series([], Name: count, dtype: int64)"
      ]
     },
     "execution_count": 156,
     "metadata": {},
     "output_type": "execute_result"
    }
   ],
   "source": [
    "df_all_data_filtered_processed = df_all_data_filtered_processed.drop(df_all_data_filtered_processed[df_all_data_filtered_processed['helpfulness_0'] == 2].index)\n",
    "df_all_data_filtered_processed[df_all_data_filtered_processed['helpfulness_0'] == 2]['helpfulness_0'].value_counts()"
   ]
  },
  {
   "cell_type": "code",
   "execution_count": 157,
   "metadata": {},
   "outputs": [],
   "source": [
    "df_all_data_filtered_processed.reset_index(drop=True, inplace=True)"
   ]
  },
  {
   "cell_type": "code",
   "execution_count": 158,
   "metadata": {},
   "outputs": [
    {
     "data": {
      "text/plain": [
       "(502044, 9)"
      ]
     },
     "execution_count": 158,
     "metadata": {},
     "output_type": "execute_result"
    }
   ],
   "source": [
    "df_all_data_filtered_processed.shape"
   ]
  },
  {
   "cell_type": "code",
   "execution_count": 159,
   "metadata": {},
   "outputs": [
    {
     "data": {
      "text/plain": [
       "count    502044.000000\n",
       "mean          0.789835\n",
       "std           0.317508\n",
       "min           0.000000\n",
       "25%           0.666667\n",
       "50%           1.000000\n",
       "75%           1.000000\n",
       "max           1.000000\n",
       "Name: helpfulness_1, dtype: float64"
      ]
     },
     "execution_count": 159,
     "metadata": {},
     "output_type": "execute_result"
    }
   ],
   "source": [
    "df_all_data_filtered_processed['helpfulness_1'].describe().T"
   ]
  },
  {
   "cell_type": "code",
   "execution_count": 160,
   "metadata": {},
   "outputs": [
    {
     "data": {
      "text/plain": [
       "count    502044.000000\n",
       "mean          0.504313\n",
       "std           0.429881\n",
       "min           0.000000\n",
       "25%           0.000000\n",
       "50%           0.545455\n",
       "75%           1.000000\n",
       "max           1.000000\n",
       "Name: helpfulness_0, dtype: float64"
      ]
     },
     "execution_count": 160,
     "metadata": {},
     "output_type": "execute_result"
    }
   ],
   "source": [
    "df_all_data_filtered_processed['helpfulness_0'].describe().T"
   ]
  },
  {
   "cell_type": "code",
   "execution_count": 161,
   "metadata": {},
   "outputs": [
    {
     "data": {
      "text/html": [
       "<style type=\"text/css\">\n",
       "#T_aa5c8_row0_col0, #T_aa5c8_row1_col1, #T_aa5c8_row2_col2 {\n",
       "  background-color: #08306b;\n",
       "  color: #f1f1f1;\n",
       "}\n",
       "#T_aa5c8_row0_col1, #T_aa5c8_row0_col2, #T_aa5c8_row2_col0 {\n",
       "  background-color: #f7fbff;\n",
       "  color: #000000;\n",
       "}\n",
       "#T_aa5c8_row1_col0 {\n",
       "  background-color: #c7dbef;\n",
       "  color: #000000;\n",
       "}\n",
       "#T_aa5c8_row1_col2 {\n",
       "  background-color: #c6dbef;\n",
       "  color: #000000;\n",
       "}\n",
       "#T_aa5c8_row2_col1 {\n",
       "  background-color: #f6faff;\n",
       "  color: #000000;\n",
       "}\n",
       "</style>\n",
       "<table id=\"T_aa5c8\">\n",
       "  <thead>\n",
       "    <tr>\n",
       "      <th class=\"blank level0\" >&nbsp;</th>\n",
       "      <th id=\"T_aa5c8_level0_col0\" class=\"col_heading level0 col0\" >helpfulness_0</th>\n",
       "      <th id=\"T_aa5c8_level0_col1\" class=\"col_heading level0 col1\" >helpfulness_1</th>\n",
       "      <th id=\"T_aa5c8_level0_col2\" class=\"col_heading level0 col2\" >review</th>\n",
       "    </tr>\n",
       "  </thead>\n",
       "  <tbody>\n",
       "    <tr>\n",
       "      <th id=\"T_aa5c8_level0_row0\" class=\"row_heading level0 row0\" >helpfulness_0</th>\n",
       "      <td id=\"T_aa5c8_row0_col0\" class=\"data row0 col0\" >1.000000</td>\n",
       "      <td id=\"T_aa5c8_row0_col1\" class=\"data row0 col1\" >0.298954</td>\n",
       "      <td id=\"T_aa5c8_row0_col2\" class=\"data row0 col2\" >0.067885</td>\n",
       "    </tr>\n",
       "    <tr>\n",
       "      <th id=\"T_aa5c8_level0_row1\" class=\"row_heading level0 row1\" >helpfulness_1</th>\n",
       "      <td id=\"T_aa5c8_row1_col0\" class=\"data row1 col0\" >0.298954</td>\n",
       "      <td id=\"T_aa5c8_row1_col1\" class=\"data row1 col1\" >1.000000</td>\n",
       "      <td id=\"T_aa5c8_row1_col2\" class=\"data row1 col2\" >0.302753</td>\n",
       "    </tr>\n",
       "    <tr>\n",
       "      <th id=\"T_aa5c8_level0_row2\" class=\"row_heading level0 row2\" >review</th>\n",
       "      <td id=\"T_aa5c8_row2_col0\" class=\"data row2 col0\" >0.067885</td>\n",
       "      <td id=\"T_aa5c8_row2_col1\" class=\"data row2 col1\" >0.302753</td>\n",
       "      <td id=\"T_aa5c8_row2_col2\" class=\"data row2 col2\" >1.000000</td>\n",
       "    </tr>\n",
       "  </tbody>\n",
       "</table>\n"
      ],
      "text/plain": [
       "<pandas.io.formats.style.Styler at 0x7f82448fd0a0>"
      ]
     },
     "execution_count": 161,
     "metadata": {},
     "output_type": "execute_result"
    }
   ],
   "source": [
    "#Correlation Analysis \n",
    "df_all_data_filtered_processed[['helpfulness_0','helpfulness_1','review']].corr().style.background_gradient(cmap='Blues')"
   ]
  },
  {
   "cell_type": "markdown",
   "metadata": {},
   "source": [
    "Correlation matrix shows that helpfulness_0 and helpfulness_1 are not much correlated. But helpfulness_0 and helpfulness_1 provide the same information. Based on the correlation with 'review' column, helpfulness_1 is kept and helpfulness_0 is removed. In order to avoid repeated information."
   ]
  },
  {
   "cell_type": "code",
   "execution_count": 162,
   "metadata": {},
   "outputs": [],
   "source": [
    "df_all_data_filtered_processed = df_all_data_filtered_processed.drop(['helpfulness_0'], axis=1)"
   ]
  },
  {
   "cell_type": "code",
   "execution_count": 163,
   "metadata": {},
   "outputs": [
    {
     "data": {
      "text/html": [
       "<div>\n",
       "<style scoped>\n",
       "    .dataframe tbody tr th:only-of-type {\n",
       "        vertical-align: middle;\n",
       "    }\n",
       "\n",
       "    .dataframe tbody tr th {\n",
       "        vertical-align: top;\n",
       "    }\n",
       "\n",
       "    .dataframe thead th {\n",
       "        text-align: right;\n",
       "    }\n",
       "</style>\n",
       "<table border=\"1\" class=\"dataframe\">\n",
       "  <thead>\n",
       "    <tr style=\"text-align: right;\">\n",
       "      <th></th>\n",
       "      <th>review</th>\n",
       "      <th>text</th>\n",
       "      <th>review_year</th>\n",
       "      <th>authors</th>\n",
       "      <th>publisher</th>\n",
       "      <th>categories</th>\n",
       "      <th>published_year</th>\n",
       "      <th>helpfulness</th>\n",
       "    </tr>\n",
       "  </thead>\n",
       "  <tbody>\n",
       "    <tr>\n",
       "      <th>191921</th>\n",
       "      <td>1.0</td>\n",
       "      <td>For 486 pages I couldn't wait for the end to f...</td>\n",
       "      <td>1998</td>\n",
       "      <td>[Tim F. LaHaye, Jerry B. Jenkins]</td>\n",
       "      <td>Tyndale House Publishers, Inc.</td>\n",
       "      <td>[FICTION]</td>\n",
       "      <td>2011</td>\n",
       "      <td>0.600000</td>\n",
       "    </tr>\n",
       "    <tr>\n",
       "      <th>137053</th>\n",
       "      <td>5.0</td>\n",
       "      <td>I've read this book several times and it just ...</td>\n",
       "      <td>2011</td>\n",
       "      <td>[Louisa May Alcott]</td>\n",
       "      <td>Lindhardt og Ringhof</td>\n",
       "      <td>[Fiction]</td>\n",
       "      <td>2018</td>\n",
       "      <td>1.000000</td>\n",
       "    </tr>\n",
       "    <tr>\n",
       "      <th>374405</th>\n",
       "      <td>5.0</td>\n",
       "      <td>If you wake up in a cold sweat and worry that ...</td>\n",
       "      <td>2006</td>\n",
       "      <td>[Joyce Scardina Becker]</td>\n",
       "      <td>St. Martin's Griffin</td>\n",
       "      <td>[Reference]</td>\n",
       "      <td>2007</td>\n",
       "      <td>0.909091</td>\n",
       "    </tr>\n",
       "    <tr>\n",
       "      <th>239554</th>\n",
       "      <td>5.0</td>\n",
       "      <td>I could not believe how much information was p...</td>\n",
       "      <td>1999</td>\n",
       "      <td>[Sarah Wendell]</td>\n",
       "      <td>Sourcebooks, Inc.</td>\n",
       "      <td>[Family &amp; Relationships]</td>\n",
       "      <td>2011</td>\n",
       "      <td>1.000000</td>\n",
       "    </tr>\n",
       "    <tr>\n",
       "      <th>307765</th>\n",
       "      <td>2.0</td>\n",
       "      <td>I received my copy of \"Working On Yourself...\"...</td>\n",
       "      <td>2003</td>\n",
       "      <td>[Ariel Kane, Shya Kane]</td>\n",
       "      <td>Ask Productions Incorporated</td>\n",
       "      <td>[Self-Help]</td>\n",
       "      <td>1999</td>\n",
       "      <td>0.600000</td>\n",
       "    </tr>\n",
       "  </tbody>\n",
       "</table>\n",
       "</div>"
      ],
      "text/plain": [
       "        review                                               text  \\\n",
       "191921     1.0  For 486 pages I couldn't wait for the end to f...   \n",
       "137053     5.0  I've read this book several times and it just ...   \n",
       "374405     5.0  If you wake up in a cold sweat and worry that ...   \n",
       "239554     5.0  I could not believe how much information was p...   \n",
       "307765     2.0  I received my copy of \"Working On Yourself...\"...   \n",
       "\n",
       "        review_year                            authors  \\\n",
       "191921         1998  [Tim F. LaHaye, Jerry B. Jenkins]   \n",
       "137053         2011                [Louisa May Alcott]   \n",
       "374405         2006            [Joyce Scardina Becker]   \n",
       "239554         1999                    [Sarah Wendell]   \n",
       "307765         2003            [Ariel Kane, Shya Kane]   \n",
       "\n",
       "                             publisher                categories  \\\n",
       "191921  Tyndale House Publishers, Inc.                 [FICTION]   \n",
       "137053            Lindhardt og Ringhof                 [Fiction]   \n",
       "374405            St. Martin's Griffin               [Reference]   \n",
       "239554               Sourcebooks, Inc.  [Family & Relationships]   \n",
       "307765    Ask Productions Incorporated               [Self-Help]   \n",
       "\n",
       "        published_year  helpfulness  \n",
       "191921            2011     0.600000  \n",
       "137053            2018     1.000000  \n",
       "374405            2007     0.909091  \n",
       "239554            2011     1.000000  \n",
       "307765            1999     0.600000  "
      ]
     },
     "execution_count": 163,
     "metadata": {},
     "output_type": "execute_result"
    }
   ],
   "source": [
    "df_all_data_filtered_processed['helpfulness'] = df_all_data_filtered_processed['helpfulness_1']\n",
    "df_all_data_filtered_processed = df_all_data_filtered_processed.drop(['helpfulness_1'], axis=1)\n",
    "df_all_data_filtered_processed.sample(5)"
   ]
  },
  {
   "cell_type": "markdown",
   "metadata": {},
   "source": [
    "## Authors Column"
   ]
  },
  {
   "cell_type": "markdown",
   "metadata": {},
   "source": [
    "### Authors Names Standarization\n",
    "\n",
    "During the Exploratory Data Analysis it was discovered that some authors are reviewed under diferent formats of their names. Based on this, the Dataset is simplified to contain only one name format."
   ]
  },
  {
   "cell_type": "code",
   "execution_count": 164,
   "metadata": {},
   "outputs": [],
   "source": [
    "#The examples are:\n",
    "author_mapping = {\n",
    "    'John Ronald Reuel Tolkien':'J. R. R. Tolkien',\n",
    "    'J. R. R. Tolkien':'J. R. R. Tolkien',\n",
    "    'J.R.R. Tolkien':'J. R. R. Tolkien',\n",
    "    'Joseph Smith':'Joseph Smith',\n",
    "    'Joseph Smith (Jr.)':'Joseph Smith',\n",
    "    'Jr.':'Joseph Smith',\n",
    "    'Gabriel Garcia Marquez':'Gabriel Garcia Marquez',\n",
    "    'Gabriel García Márquez':'Gabriel Garcia Marquez',\n",
    "    'Charlotte Brontë':'Charlotte Brontë',\n",
    "    'Charlotte Bronte':'Charlotte Brontë',\n",
    "    'Emily Brontë':'Emily Brontë',\n",
    "    'Emily Bronte':'Emily Brontë',\n",
    "    'Joseph Smith':'Joseph Smith',\n",
    "    'Joseph Smith (Jr.)':'Joseph Smith',\n",
    "    'Jr.':'Joseph Smith'\n",
    "    }\n"
   ]
  },
  {
   "cell_type": "code",
   "execution_count": 165,
   "metadata": {},
   "outputs": [
    {
     "name": "stdout",
     "output_type": "stream",
     "text": [
      "<class 'pandas.core.frame.DataFrame'>\n",
      "RangeIndex: 502044 entries, 0 to 502043\n",
      "Data columns (total 8 columns):\n",
      " #   Column          Non-Null Count   Dtype  \n",
      "---  ------          --------------   -----  \n",
      " 0   review          502044 non-null  float64\n",
      " 1   text            502044 non-null  object \n",
      " 2   review_year     502044 non-null  int64  \n",
      " 3   authors         490971 non-null  object \n",
      " 4   publisher       420053 non-null  object \n",
      " 5   categories      467213 non-null  object \n",
      " 6   published_year  502044 non-null  int64  \n",
      " 7   helpfulness     502044 non-null  float64\n",
      "dtypes: float64(2), int64(2), object(4)\n",
      "memory usage: 30.6+ MB\n"
     ]
    }
   ],
   "source": [
    "df_all_data_filtered_processed.info()"
   ]
  },
  {
   "cell_type": "code",
   "execution_count": 166,
   "metadata": {},
   "outputs": [],
   "source": [
    "def standardize_authors(authors):\n",
    "    if isinstance(authors, list):\n",
    "        return [author_mapping.get(author, author) for author in authors]\n",
    "    else:\n",
    "        return authors  # Return the original value if it's not a list"
   ]
  },
  {
   "cell_type": "code",
   "execution_count": 167,
   "metadata": {},
   "outputs": [],
   "source": [
    "df_all_data_filtered_processed['authors'] = df_all_data_filtered_processed['authors'].apply(standardize_authors)"
   ]
  },
  {
   "cell_type": "markdown",
   "metadata": {},
   "source": [
    "### Updating the Authors Feature to Categorical, and applying Pareto Principe to reduce the quantity of authors."
   ]
  },
  {
   "cell_type": "code",
   "execution_count": 168,
   "metadata": {},
   "outputs": [
    {
     "data": {
      "text/plain": [
       "authors\n",
       "J. R. R. Tolkien         6547\n",
       "Jane Austen              2857\n",
       "Charles Dickens          2581\n",
       "John Steinbeck           2437\n",
       "J. K. Rowling            2170\n",
       "                         ... \n",
       "Campbell Soup Company       1\n",
       "Van Dyke Henry              1\n",
       "Ivan Conrad Karp            1\n",
       "Joel Anderson               1\n",
       "Frederic H. Martini         1\n",
       "Name: count, Length: 89409, dtype: int64"
      ]
     },
     "execution_count": 168,
     "metadata": {},
     "output_type": "execute_result"
    }
   ],
   "source": [
    "author_counts = df_all_data_filtered_processed['authors'].explode().value_counts()\n",
    "author_counts"
   ]
  },
  {
   "cell_type": "code",
   "execution_count": 169,
   "metadata": {},
   "outputs": [
    {
     "data": {
      "text/plain": [
       "authors\n",
       "J. R. R. Tolkien       6547\n",
       "Jane Austen            2857\n",
       "Charles Dickens        2581\n",
       "John Steinbeck         2437\n",
       "J. K. Rowling          2170\n",
       "                       ... \n",
       "Rob Scrimger              1\n",
       "Patrick J. Jung           1\n",
       "Kenichi Sawai             1\n",
       "James P. Johnston         1\n",
       "Frederic H. Martini       1\n",
       "Name: count, Length: 89409, dtype: int64"
      ]
     },
     "execution_count": 169,
     "metadata": {},
     "output_type": "execute_result"
    }
   ],
   "source": [
    "sorted_author_counts = author_counts.sort_values(ascending=False)\n",
    "sorted_author_counts"
   ]
  },
  {
   "cell_type": "code",
   "execution_count": 170,
   "metadata": {},
   "outputs": [
    {
     "data": {
      "text/plain": [
       "17881"
      ]
     },
     "execution_count": 170,
     "metadata": {},
     "output_type": "execute_result"
    }
   ],
   "source": [
    "pareto_threshold = int(0.2 * len(sorted_author_counts))\n",
    "pareto_threshold"
   ]
  },
  {
   "cell_type": "code",
   "execution_count": 171,
   "metadata": {},
   "outputs": [
    {
     "data": {
      "text/plain": [
       "Index(['J. R. R. Tolkien', 'Jane Austen', 'Charles Dickens', 'John Steinbeck',\n",
       "       'J. K. Rowling', 'Stephen King', 'Robert Jordan', 'Harper Lee',\n",
       "       'C. S. Lewis', 'Ray Bradbury',\n",
       "       ...\n",
       "       'Mary Daly', 'Edward Dolnick', 'Simon Lewis', 'Greg Rossel',\n",
       "       'Irving Shulman', 'Louis Begley', 'Allen P. Ross', 'Kerstin P. Ouellet',\n",
       "       'Steven R. Lindsay', 'Brenda Brathwaite'],\n",
       "      dtype='object', name='authors', length=17881)"
      ]
     },
     "execution_count": 171,
     "metadata": {},
     "output_type": "execute_result"
    }
   ],
   "source": [
    "top_authors = sorted_author_counts.iloc[:pareto_threshold].index\n",
    "top_authors"
   ]
  },
  {
   "cell_type": "code",
   "execution_count": 172,
   "metadata": {
    "tags": [
     "parameters"
    ]
   },
   "outputs": [
    {
     "data": {
      "text/plain": [
       "17882"
      ]
     },
     "execution_count": 172,
     "metadata": {},
     "output_type": "execute_result"
    }
   ],
   "source": [
    "df_all_data_filtered_processed['authors'] = df_all_data_filtered_processed['authors'].apply(lambda x: [author if author in top_authors else 'Other' for author in x] if isinstance(x, list) else ['Other'])\n",
    "len(df_all_data_filtered_processed['authors'].explode().unique())"
   ]
  },
  {
   "cell_type": "markdown",
   "metadata": {},
   "source": [
    "After applying Pareto Principle, there are still 17923 unique authors on the dataset. If authors is considered as a Categorical Feature, it will not have much predictive because it has a lot of Cardinality.\n",
    "\n",
    "Top 10 authors with most reviews are kept and the rest of authors are set to 'Other'. In order to keep the feature and analize the predicting power."
   ]
  },
  {
   "cell_type": "code",
   "execution_count": 173,
   "metadata": {},
   "outputs": [
    {
     "name": "stdout",
     "output_type": "stream",
     "text": [
      "<class 'pandas.core.series.Series'>\n",
      "Index: 595351 entries, 0 to 502043\n",
      "Series name: authors\n",
      "Non-Null Count   Dtype \n",
      "--------------   ----- \n",
      "595351 non-null  object\n",
      "dtypes: object(1)\n",
      "memory usage: 9.1+ MB\n"
     ]
    }
   ],
   "source": [
    "authors = df_all_data_filtered_processed['authors'].explode()\n",
    "authors.info()"
   ]
  },
  {
   "cell_type": "code",
   "execution_count": 174,
   "metadata": {},
   "outputs": [
    {
     "name": "stdout",
     "output_type": "stream",
     "text": [
      "Total of Authors: 17882\n"
     ]
    }
   ],
   "source": [
    "print(f'Total of Authors: {len(authors.unique())}')"
   ]
  },
  {
   "cell_type": "code",
   "execution_count": 175,
   "metadata": {},
   "outputs": [
    {
     "name": "stdout",
     "output_type": "stream",
     "text": [
      "Total of entries after explode authors column 595351\n"
     ]
    }
   ],
   "source": [
    "author_counts = authors.value_counts(ascending=False)\n",
    "print(f'Total of entries after explode authors column {author_counts.sum()}')"
   ]
  },
  {
   "cell_type": "code",
   "execution_count": 176,
   "metadata": {},
   "outputs": [
    {
     "data": {
      "text/plain": [
       "authors\n",
       "Other               137978\n",
       "J. R. R. Tolkien      6547\n",
       "Jane Austen           2857\n",
       "Charles Dickens       2581\n",
       "John Steinbeck        2437\n",
       "J. K. Rowling         2170\n",
       "Stephen King          2093\n",
       "Robert Jordan         1873\n",
       "Harper Lee            1848\n",
       "C. S. Lewis           1704\n",
       "Name: count, dtype: int64"
      ]
     },
     "execution_count": 176,
     "metadata": {},
     "output_type": "execute_result"
    }
   ],
   "source": [
    "top_10_authors_counts = author_counts[:10].sort_values(ascending=False)\n",
    "top_10_authors_counts"
   ]
  },
  {
   "cell_type": "code",
   "execution_count": 177,
   "metadata": {},
   "outputs": [
    {
     "data": {
      "text/plain": [
       "authors\n",
       "Ray Bradbury              1684\n",
       "Kurt Vonnegut             1652\n",
       "George Orwell             1649\n",
       "Agatha Christie           1562\n",
       "Lois Lowry                1540\n",
       "                          ... \n",
       "Bob Fitrakis                 5\n",
       "Robert J. Fitrakis           5\n",
       "Herbert Charles Corben       5\n",
       "Philip Stehle                5\n",
       "Mary Herczog                 5\n",
       "Name: count, Length: 17872, dtype: int64"
      ]
     },
     "execution_count": 177,
     "metadata": {},
     "output_type": "execute_result"
    }
   ],
   "source": [
    "other_authors_counts = author_counts[10:]\n",
    "other_authors_counts"
   ]
  },
  {
   "cell_type": "code",
   "execution_count": 178,
   "metadata": {},
   "outputs": [
    {
     "data": {
      "text/plain": [
       "10"
      ]
     },
     "execution_count": 178,
     "metadata": {},
     "output_type": "execute_result"
    }
   ],
   "source": [
    "df_all_data_filtered_processed['authors'] = df_all_data_filtered_processed['authors'].apply(lambda x: [author if author in top_10_authors_counts else 'Other' for author in x] if isinstance(x, list) else ['Other'])\n",
    "len(df_all_data_filtered_processed['authors'].explode().unique())"
   ]
  },
  {
   "cell_type": "code",
   "execution_count": 179,
   "metadata": {},
   "outputs": [
    {
     "data": {
      "text/plain": [
       "authors\n",
       "Other               571241\n",
       "J. R. R. Tolkien      6547\n",
       "Jane Austen           2857\n",
       "Charles Dickens       2581\n",
       "John Steinbeck        2437\n",
       "J. K. Rowling         2170\n",
       "Stephen King          2093\n",
       "Robert Jordan         1873\n",
       "Harper Lee            1848\n",
       "C. S. Lewis           1704\n",
       "Name: count, dtype: int64"
      ]
     },
     "execution_count": 179,
     "metadata": {},
     "output_type": "execute_result"
    }
   ],
   "source": [
    "df_all_data_filtered_processed['authors'].explode().value_counts()"
   ]
  },
  {
   "cell_type": "code",
   "execution_count": 180,
   "metadata": {},
   "outputs": [],
   "source": [
    "def remove_repeated_values(in_list):\n",
    "    unique_list = []\n",
    "    for item in in_list:\n",
    "        if item not in unique_list:\n",
    "            unique_list.append(item)\n",
    "\n",
    "    return unique_list"
   ]
  },
  {
   "cell_type": "code",
   "execution_count": 181,
   "metadata": {},
   "outputs": [
    {
     "data": {
      "text/html": [
       "<div>\n",
       "<style scoped>\n",
       "    .dataframe tbody tr th:only-of-type {\n",
       "        vertical-align: middle;\n",
       "    }\n",
       "\n",
       "    .dataframe tbody tr th {\n",
       "        vertical-align: top;\n",
       "    }\n",
       "\n",
       "    .dataframe thead th {\n",
       "        text-align: right;\n",
       "    }\n",
       "</style>\n",
       "<table border=\"1\" class=\"dataframe\">\n",
       "  <thead>\n",
       "    <tr style=\"text-align: right;\">\n",
       "      <th></th>\n",
       "      <th>review</th>\n",
       "      <th>text</th>\n",
       "      <th>review_year</th>\n",
       "      <th>authors</th>\n",
       "      <th>publisher</th>\n",
       "      <th>categories</th>\n",
       "      <th>published_year</th>\n",
       "      <th>helpfulness</th>\n",
       "    </tr>\n",
       "  </thead>\n",
       "  <tbody>\n",
       "    <tr>\n",
       "      <th>293059</th>\n",
       "      <td>5.0</td>\n",
       "      <td>Reading &amp;quot;Aint't No River&amp;quot; was a beau...</td>\n",
       "      <td>2001</td>\n",
       "      <td>[Other]</td>\n",
       "      <td>NaN</td>\n",
       "      <td>[Fiction]</td>\n",
       "      <td>2003</td>\n",
       "      <td>1.000000</td>\n",
       "    </tr>\n",
       "    <tr>\n",
       "      <th>482591</th>\n",
       "      <td>1.0</td>\n",
       "      <td>THIS TOTALLY SUCK ! DON'T BUY THIS!! HE IS STE...</td>\n",
       "      <td>2003</td>\n",
       "      <td>[Other]</td>\n",
       "      <td>Nicholas Direct Incorporated</td>\n",
       "      <td>[Business &amp; Economics]</td>\n",
       "      <td>1998</td>\n",
       "      <td>0.235294</td>\n",
       "    </tr>\n",
       "    <tr>\n",
       "      <th>216543</th>\n",
       "      <td>5.0</td>\n",
       "      <td>The combination of pure insight and Ms. Kushel...</td>\n",
       "      <td>1999</td>\n",
       "      <td>[Other, Other]</td>\n",
       "      <td>The Princeton Review</td>\n",
       "      <td>[Business &amp; Economics]</td>\n",
       "      <td>1999</td>\n",
       "      <td>0.833333</td>\n",
       "    </tr>\n",
       "    <tr>\n",
       "      <th>405672</th>\n",
       "      <td>3.0</td>\n",
       "      <td>This is a decent book touching on Gerrymanderi...</td>\n",
       "      <td>2002</td>\n",
       "      <td>[Other]</td>\n",
       "      <td>University of Chicago Press</td>\n",
       "      <td>[Political Science]</td>\n",
       "      <td>2001</td>\n",
       "      <td>0.312500</td>\n",
       "    </tr>\n",
       "    <tr>\n",
       "      <th>164802</th>\n",
       "      <td>5.0</td>\n",
       "      <td>The highly pined for MBA degree is something t...</td>\n",
       "      <td>2005</td>\n",
       "      <td>[Other, Other]</td>\n",
       "      <td>Random House Digital, Inc.</td>\n",
       "      <td>[Business &amp; Economics]</td>\n",
       "      <td>2004</td>\n",
       "      <td>0.600000</td>\n",
       "    </tr>\n",
       "  </tbody>\n",
       "</table>\n",
       "</div>"
      ],
      "text/plain": [
       "        review                                               text  \\\n",
       "293059     5.0  Reading &quot;Aint't No River&quot; was a beau...   \n",
       "482591     1.0  THIS TOTALLY SUCK ! DON'T BUY THIS!! HE IS STE...   \n",
       "216543     5.0  The combination of pure insight and Ms. Kushel...   \n",
       "405672     3.0  This is a decent book touching on Gerrymanderi...   \n",
       "164802     5.0  The highly pined for MBA degree is something t...   \n",
       "\n",
       "        review_year         authors                     publisher  \\\n",
       "293059         2001         [Other]                           NaN   \n",
       "482591         2003         [Other]  Nicholas Direct Incorporated   \n",
       "216543         1999  [Other, Other]          The Princeton Review   \n",
       "405672         2002         [Other]   University of Chicago Press   \n",
       "164802         2005  [Other, Other]    Random House Digital, Inc.   \n",
       "\n",
       "                    categories  published_year  helpfulness  \n",
       "293059               [Fiction]            2003     1.000000  \n",
       "482591  [Business & Economics]            1998     0.235294  \n",
       "216543  [Business & Economics]            1999     0.833333  \n",
       "405672     [Political Science]            2001     0.312500  \n",
       "164802  [Business & Economics]            2004     0.600000  "
      ]
     },
     "execution_count": 181,
     "metadata": {},
     "output_type": "execute_result"
    }
   ],
   "source": [
    "df_all_data_filtered_processed.sample(5, random_state=10)"
   ]
  },
  {
   "cell_type": "code",
   "execution_count": 182,
   "metadata": {},
   "outputs": [],
   "source": [
    "# Some of the authors list contains 'Other' multiple times.\n",
    "df_all_data_filtered_processed['authors'] = df_all_data_filtered_processed['authors'].apply(lambda x: remove_repeated_values(x))"
   ]
  },
  {
   "cell_type": "code",
   "execution_count": 183,
   "metadata": {},
   "outputs": [
    {
     "data": {
      "text/html": [
       "<div>\n",
       "<style scoped>\n",
       "    .dataframe tbody tr th:only-of-type {\n",
       "        vertical-align: middle;\n",
       "    }\n",
       "\n",
       "    .dataframe tbody tr th {\n",
       "        vertical-align: top;\n",
       "    }\n",
       "\n",
       "    .dataframe thead th {\n",
       "        text-align: right;\n",
       "    }\n",
       "</style>\n",
       "<table border=\"1\" class=\"dataframe\">\n",
       "  <thead>\n",
       "    <tr style=\"text-align: right;\">\n",
       "      <th></th>\n",
       "      <th>review</th>\n",
       "      <th>text</th>\n",
       "      <th>review_year</th>\n",
       "      <th>authors</th>\n",
       "      <th>publisher</th>\n",
       "      <th>categories</th>\n",
       "      <th>published_year</th>\n",
       "      <th>helpfulness</th>\n",
       "    </tr>\n",
       "  </thead>\n",
       "  <tbody>\n",
       "    <tr>\n",
       "      <th>293059</th>\n",
       "      <td>5.0</td>\n",
       "      <td>Reading &amp;quot;Aint't No River&amp;quot; was a beau...</td>\n",
       "      <td>2001</td>\n",
       "      <td>[Other]</td>\n",
       "      <td>NaN</td>\n",
       "      <td>[Fiction]</td>\n",
       "      <td>2003</td>\n",
       "      <td>1.000000</td>\n",
       "    </tr>\n",
       "    <tr>\n",
       "      <th>482591</th>\n",
       "      <td>1.0</td>\n",
       "      <td>THIS TOTALLY SUCK ! DON'T BUY THIS!! HE IS STE...</td>\n",
       "      <td>2003</td>\n",
       "      <td>[Other]</td>\n",
       "      <td>Nicholas Direct Incorporated</td>\n",
       "      <td>[Business &amp; Economics]</td>\n",
       "      <td>1998</td>\n",
       "      <td>0.235294</td>\n",
       "    </tr>\n",
       "    <tr>\n",
       "      <th>216543</th>\n",
       "      <td>5.0</td>\n",
       "      <td>The combination of pure insight and Ms. Kushel...</td>\n",
       "      <td>1999</td>\n",
       "      <td>[Other]</td>\n",
       "      <td>The Princeton Review</td>\n",
       "      <td>[Business &amp; Economics]</td>\n",
       "      <td>1999</td>\n",
       "      <td>0.833333</td>\n",
       "    </tr>\n",
       "    <tr>\n",
       "      <th>405672</th>\n",
       "      <td>3.0</td>\n",
       "      <td>This is a decent book touching on Gerrymanderi...</td>\n",
       "      <td>2002</td>\n",
       "      <td>[Other]</td>\n",
       "      <td>University of Chicago Press</td>\n",
       "      <td>[Political Science]</td>\n",
       "      <td>2001</td>\n",
       "      <td>0.312500</td>\n",
       "    </tr>\n",
       "    <tr>\n",
       "      <th>164802</th>\n",
       "      <td>5.0</td>\n",
       "      <td>The highly pined for MBA degree is something t...</td>\n",
       "      <td>2005</td>\n",
       "      <td>[Other]</td>\n",
       "      <td>Random House Digital, Inc.</td>\n",
       "      <td>[Business &amp; Economics]</td>\n",
       "      <td>2004</td>\n",
       "      <td>0.600000</td>\n",
       "    </tr>\n",
       "  </tbody>\n",
       "</table>\n",
       "</div>"
      ],
      "text/plain": [
       "        review                                               text  \\\n",
       "293059     5.0  Reading &quot;Aint't No River&quot; was a beau...   \n",
       "482591     1.0  THIS TOTALLY SUCK ! DON'T BUY THIS!! HE IS STE...   \n",
       "216543     5.0  The combination of pure insight and Ms. Kushel...   \n",
       "405672     3.0  This is a decent book touching on Gerrymanderi...   \n",
       "164802     5.0  The highly pined for MBA degree is something t...   \n",
       "\n",
       "        review_year  authors                     publisher  \\\n",
       "293059         2001  [Other]                           NaN   \n",
       "482591         2003  [Other]  Nicholas Direct Incorporated   \n",
       "216543         1999  [Other]          The Princeton Review   \n",
       "405672         2002  [Other]   University of Chicago Press   \n",
       "164802         2005  [Other]    Random House Digital, Inc.   \n",
       "\n",
       "                    categories  published_year  helpfulness  \n",
       "293059               [Fiction]            2003     1.000000  \n",
       "482591  [Business & Economics]            1998     0.235294  \n",
       "216543  [Business & Economics]            1999     0.833333  \n",
       "405672     [Political Science]            2001     0.312500  \n",
       "164802  [Business & Economics]            2004     0.600000  "
      ]
     },
     "execution_count": 183,
     "metadata": {},
     "output_type": "execute_result"
    }
   ],
   "source": [
    "df_all_data_filtered_processed.sample(5, random_state=10)"
   ]
  },
  {
   "cell_type": "code",
   "execution_count": 184,
   "metadata": {},
   "outputs": [
    {
     "data": {
      "text/plain": [
       "authors\n",
       "Other               478802\n",
       "J. R. R. Tolkien      6547\n",
       "Jane Austen           2857\n",
       "Charles Dickens       2581\n",
       "John Steinbeck        2437\n",
       "J. K. Rowling         2170\n",
       "Stephen King          2093\n",
       "Robert Jordan         1873\n",
       "Harper Lee            1848\n",
       "C. S. Lewis           1704\n",
       "Name: count, dtype: int64"
      ]
     },
     "execution_count": 184,
     "metadata": {},
     "output_type": "execute_result"
    }
   ],
   "source": [
    "df_all_data_filtered_processed['authors'].explode().value_counts()"
   ]
  },
  {
   "cell_type": "markdown",
   "metadata": {},
   "source": [
    "## Cateogories Column"
   ]
  },
  {
   "cell_type": "markdown",
   "metadata": {},
   "source": [
    "### Updating the Categories Feature to Categorical, and applying Pareto Principe to reduce the quantity of Categories."
   ]
  },
  {
   "cell_type": "code",
   "execution_count": 185,
   "metadata": {},
   "outputs": [
    {
     "data": {
      "text/plain": [
       "categories\n",
       "Fiction                         148514\n",
       "Juvenile Fiction                 38390\n",
       "Biography & Autobiography        21608\n",
       "Religion                         19505\n",
       "History                          18091\n",
       "                                 ...  \n",
       "Sales personnel                      1\n",
       "Musical intervals and scales         1\n",
       "FOREIGN LANGUAGE STUDY               1\n",
       "Nuclear submarines                   1\n",
       "Galveston (Tex.)                     1\n",
       "Name: count, Length: 6675, dtype: int64"
      ]
     },
     "execution_count": 185,
     "metadata": {},
     "output_type": "execute_result"
    }
   ],
   "source": [
    "categories_counts = df_all_data_filtered_processed['categories'].explode().value_counts()\n",
    "categories_counts"
   ]
  },
  {
   "cell_type": "code",
   "execution_count": 186,
   "metadata": {},
   "outputs": [
    {
     "data": {
      "text/plain": [
       "categories\n",
       "Fiction                        148514\n",
       "Juvenile Fiction                38390\n",
       "Biography & Autobiography       21608\n",
       "Religion                        19505\n",
       "History                         18091\n",
       "                                ...  \n",
       "Congo (Democratic Republic)         1\n",
       "Alien labor                         1\n",
       "Nuns                                1\n",
       "Communalism                         1\n",
       "Galveston (Tex.)                    1\n",
       "Name: count, Length: 6675, dtype: int64"
      ]
     },
     "execution_count": 186,
     "metadata": {},
     "output_type": "execute_result"
    }
   ],
   "source": [
    "sorted_category_counts = categories_counts.sort_values(ascending=False)\n",
    "sorted_category_counts"
   ]
  },
  {
   "cell_type": "code",
   "execution_count": 187,
   "metadata": {},
   "outputs": [
    {
     "data": {
      "text/plain": [
       "1335"
      ]
     },
     "execution_count": 187,
     "metadata": {},
     "output_type": "execute_result"
    }
   ],
   "source": [
    "pareto_threshold = int(0.2 * len(sorted_category_counts))\n",
    "pareto_threshold"
   ]
  },
  {
   "cell_type": "code",
   "execution_count": 188,
   "metadata": {},
   "outputs": [
    {
     "data": {
      "text/plain": [
       "Index(['Fiction', 'Juvenile Fiction', 'Biography & Autobiography', 'Religion',\n",
       "       'History', 'Business & Economics', 'Computers', 'Cooking',\n",
       "       'Social Science', 'Family & Relationships',\n",
       "       ...\n",
       "       'Homeric', 'Christian poetry', 'Autobiography',\n",
       "       'Star Wars: The Roleplaying Game (Game)', 'Strategic planning',\n",
       "       'African American authors', 'Hindu mathematics', 'Motorcycles',\n",
       "       'Compulsive behavior', 'Metaphysics'],\n",
       "      dtype='object', name='categories', length=1335)"
      ]
     },
     "execution_count": 188,
     "metadata": {},
     "output_type": "execute_result"
    }
   ],
   "source": [
    "top_categories = sorted_category_counts.iloc[:pareto_threshold].index\n",
    "top_categories"
   ]
  },
  {
   "cell_type": "code",
   "execution_count": 189,
   "metadata": {},
   "outputs": [
    {
     "data": {
      "text/plain": [
       "categories\n",
       "Fiction                      148514\n",
       "Other                         46618\n",
       "Juvenile Fiction              38390\n",
       "Biography & Autobiography     21608\n",
       "Religion                      19505\n",
       "                              ...  \n",
       "Sicilian Vespers                  8\n",
       "Mental illness                    8\n",
       "Anthropologists                   8\n",
       "Great Plague                      8\n",
       "Attitude (Psychology)             8\n",
       "Name: count, Length: 1336, dtype: int64"
      ]
     },
     "execution_count": 189,
     "metadata": {},
     "output_type": "execute_result"
    }
   ],
   "source": [
    "df_all_data_filtered_processed['categories'] = df_all_data_filtered_processed['categories'].apply(lambda x: [category if category in top_categories else 'Other' for category in x] if isinstance(x, list) else ['Other'])\n",
    "df_all_data_filtered_processed['categories'].explode().value_counts()"
   ]
  },
  {
   "cell_type": "markdown",
   "metadata": {},
   "source": [
    "After applying Pareto Principle, there are still 1342 unique categories on the dataset. If categories is considered as a Categorical Feature, it will not add much predictive value because it has a lot of Cardinality.\n",
    "\n",
    "Top 10 categories with most reviews are kept and the rest of categories are set to 'Other'. In order to keep the feature and analize the predicting power."
   ]
  },
  {
   "cell_type": "code",
   "execution_count": 190,
   "metadata": {},
   "outputs": [
    {
     "name": "stdout",
     "output_type": "stream",
     "text": [
      "<class 'pandas.core.series.Series'>\n",
      "Index: 514251 entries, 0 to 502043\n",
      "Series name: categories\n",
      "Non-Null Count   Dtype \n",
      "--------------   ----- \n",
      "514251 non-null  object\n",
      "dtypes: object(1)\n",
      "memory usage: 7.8+ MB\n"
     ]
    }
   ],
   "source": [
    "categories = df_all_data_filtered_processed['categories'].explode()\n",
    "categories.info()"
   ]
  },
  {
   "cell_type": "code",
   "execution_count": 191,
   "metadata": {},
   "outputs": [
    {
     "name": "stdout",
     "output_type": "stream",
     "text": [
      "Total of Categories: 1336\n"
     ]
    }
   ],
   "source": [
    "print(f'Total of Categories: {len(categories.unique())}')"
   ]
  },
  {
   "cell_type": "code",
   "execution_count": 192,
   "metadata": {},
   "outputs": [
    {
     "name": "stdout",
     "output_type": "stream",
     "text": [
      "Total of entries after explode Categories column 514251\n"
     ]
    }
   ],
   "source": [
    "categories_counts = categories.value_counts(ascending=False)\n",
    "print(f'Total of entries after explode Categories column {categories_counts.sum()}')"
   ]
  },
  {
   "cell_type": "code",
   "execution_count": 193,
   "metadata": {},
   "outputs": [
    {
     "data": {
      "text/plain": [
       "categories\n",
       "Fiction                      148514\n",
       "Other                         46618\n",
       "Juvenile Fiction              38390\n",
       "Biography & Autobiography     21608\n",
       "Religion                      19505\n",
       "History                       18091\n",
       "Business & Economics          13935\n",
       "Computers                      9140\n",
       "Cooking                        6544\n",
       "Social Science                 6363\n",
       "Name: count, dtype: int64"
      ]
     },
     "execution_count": 193,
     "metadata": {},
     "output_type": "execute_result"
    }
   ],
   "source": [
    "top_10_categories_counts = categories_counts[:10].sort_values(ascending=False)\n",
    "top_10_categories_counts"
   ]
  },
  {
   "cell_type": "code",
   "execution_count": 194,
   "metadata": {},
   "outputs": [
    {
     "data": {
      "text/plain": [
       "categories\n",
       "Family & Relationships    6126\n",
       "Self-Help                 6021\n",
       "Body                      5978\n",
       "Mind & Spirit             5975\n",
       "Juvenile Nonfiction       5922\n",
       "                          ... \n",
       "Sicilian Vespers             8\n",
       "Mental illness               8\n",
       "Anthropologists              8\n",
       "Great Plague                 8\n",
       "Attitude (Psychology)        8\n",
       "Name: count, Length: 1326, dtype: int64"
      ]
     },
     "execution_count": 194,
     "metadata": {},
     "output_type": "execute_result"
    }
   ],
   "source": [
    "other_categories_counts = categories_counts[10:]\n",
    "other_categories_counts"
   ]
  },
  {
   "cell_type": "code",
   "execution_count": 195,
   "metadata": {},
   "outputs": [
    {
     "data": {
      "text/plain": [
       "10"
      ]
     },
     "execution_count": 195,
     "metadata": {},
     "output_type": "execute_result"
    }
   ],
   "source": [
    "df_all_data_filtered_processed['categories'] = df_all_data_filtered_processed['categories'].apply(lambda x: [category if category in top_10_categories_counts else 'Other' for category in x] if isinstance(x, list) else ['Other'])\n",
    "len(df_all_data_filtered_processed['categories'].explode().unique())"
   ]
  },
  {
   "cell_type": "code",
   "execution_count": 196,
   "metadata": {},
   "outputs": [
    {
     "data": {
      "text/plain": [
       "categories\n",
       "Other                        232161\n",
       "Fiction                      148514\n",
       "Juvenile Fiction              38390\n",
       "Biography & Autobiography     21608\n",
       "Religion                      19505\n",
       "History                       18091\n",
       "Business & Economics          13935\n",
       "Computers                      9140\n",
       "Cooking                        6544\n",
       "Social Science                 6363\n",
       "Name: count, dtype: int64"
      ]
     },
     "execution_count": 196,
     "metadata": {},
     "output_type": "execute_result"
    }
   ],
   "source": [
    "df_all_data_filtered_processed['categories'].explode().value_counts()"
   ]
  },
  {
   "cell_type": "code",
   "execution_count": 197,
   "metadata": {},
   "outputs": [
    {
     "data": {
      "text/html": [
       "<div>\n",
       "<style scoped>\n",
       "    .dataframe tbody tr th:only-of-type {\n",
       "        vertical-align: middle;\n",
       "    }\n",
       "\n",
       "    .dataframe tbody tr th {\n",
       "        vertical-align: top;\n",
       "    }\n",
       "\n",
       "    .dataframe thead th {\n",
       "        text-align: right;\n",
       "    }\n",
       "</style>\n",
       "<table border=\"1\" class=\"dataframe\">\n",
       "  <thead>\n",
       "    <tr style=\"text-align: right;\">\n",
       "      <th></th>\n",
       "      <th>review</th>\n",
       "      <th>text</th>\n",
       "      <th>review_year</th>\n",
       "      <th>authors</th>\n",
       "      <th>publisher</th>\n",
       "      <th>categories</th>\n",
       "      <th>published_year</th>\n",
       "      <th>helpfulness</th>\n",
       "    </tr>\n",
       "  </thead>\n",
       "  <tbody>\n",
       "    <tr>\n",
       "      <th>131904</th>\n",
       "      <td>5.0</td>\n",
       "      <td>Some background first: I'm studying memoir as ...</td>\n",
       "      <td>2011</td>\n",
       "      <td>[Other]</td>\n",
       "      <td>Picador</td>\n",
       "      <td>[Other]</td>\n",
       "      <td>2015</td>\n",
       "      <td>0.000000</td>\n",
       "    </tr>\n",
       "    <tr>\n",
       "      <th>326762</th>\n",
       "      <td>1.0</td>\n",
       "      <td>This is a horribly printed book. The actual st...</td>\n",
       "      <td>2009</td>\n",
       "      <td>[Other]</td>\n",
       "      <td>Random House Trade Paperbacks</td>\n",
       "      <td>[Fiction]</td>\n",
       "      <td>1996</td>\n",
       "      <td>0.906977</td>\n",
       "    </tr>\n",
       "    <tr>\n",
       "      <th>343900</th>\n",
       "      <td>1.0</td>\n",
       "      <td>After reading Riptide a while back I thought I...</td>\n",
       "      <td>2004</td>\n",
       "      <td>[Other]</td>\n",
       "      <td>Penguin</td>\n",
       "      <td>[Fiction]</td>\n",
       "      <td>2005</td>\n",
       "      <td>1.000000</td>\n",
       "    </tr>\n",
       "    <tr>\n",
       "      <th>336391</th>\n",
       "      <td>5.0</td>\n",
       "      <td>This is a great marketing book. No hype and no...</td>\n",
       "      <td>2003</td>\n",
       "      <td>[Other]</td>\n",
       "      <td>Routledge</td>\n",
       "      <td>[Business &amp; Economics]</td>\n",
       "      <td>2002</td>\n",
       "      <td>1.000000</td>\n",
       "    </tr>\n",
       "    <tr>\n",
       "      <th>314424</th>\n",
       "      <td>3.0</td>\n",
       "      <td>I have used this book in my reading classes fo...</td>\n",
       "      <td>2000</td>\n",
       "      <td>[Other]</td>\n",
       "      <td>NaN</td>\n",
       "      <td>[Other]</td>\n",
       "      <td>2006</td>\n",
       "      <td>0.875000</td>\n",
       "    </tr>\n",
       "  </tbody>\n",
       "</table>\n",
       "</div>"
      ],
      "text/plain": [
       "        review                                               text  \\\n",
       "131904     5.0  Some background first: I'm studying memoir as ...   \n",
       "326762     1.0  This is a horribly printed book. The actual st...   \n",
       "343900     1.0  After reading Riptide a while back I thought I...   \n",
       "336391     5.0  This is a great marketing book. No hype and no...   \n",
       "314424     3.0  I have used this book in my reading classes fo...   \n",
       "\n",
       "        review_year  authors                      publisher  \\\n",
       "131904         2011  [Other]                        Picador   \n",
       "326762         2009  [Other]  Random House Trade Paperbacks   \n",
       "343900         2004  [Other]                        Penguin   \n",
       "336391         2003  [Other]                      Routledge   \n",
       "314424         2000  [Other]                            NaN   \n",
       "\n",
       "                    categories  published_year  helpfulness  \n",
       "131904                 [Other]            2015     0.000000  \n",
       "326762               [Fiction]            1996     0.906977  \n",
       "343900               [Fiction]            2005     1.000000  \n",
       "336391  [Business & Economics]            2002     1.000000  \n",
       "314424                 [Other]            2006     0.875000  "
      ]
     },
     "execution_count": 197,
     "metadata": {},
     "output_type": "execute_result"
    }
   ],
   "source": [
    "df_all_data_filtered_processed.sample(5, random_state=45)"
   ]
  },
  {
   "cell_type": "code",
   "execution_count": 198,
   "metadata": {},
   "outputs": [
    {
     "data": {
      "text/html": [
       "<div>\n",
       "<style scoped>\n",
       "    .dataframe tbody tr th:only-of-type {\n",
       "        vertical-align: middle;\n",
       "    }\n",
       "\n",
       "    .dataframe tbody tr th {\n",
       "        vertical-align: top;\n",
       "    }\n",
       "\n",
       "    .dataframe thead th {\n",
       "        text-align: right;\n",
       "    }\n",
       "</style>\n",
       "<table border=\"1\" class=\"dataframe\">\n",
       "  <thead>\n",
       "    <tr style=\"text-align: right;\">\n",
       "      <th></th>\n",
       "      <th>review</th>\n",
       "      <th>text</th>\n",
       "      <th>review_year</th>\n",
       "      <th>authors</th>\n",
       "      <th>publisher</th>\n",
       "      <th>categories</th>\n",
       "      <th>published_year</th>\n",
       "      <th>helpfulness</th>\n",
       "    </tr>\n",
       "  </thead>\n",
       "  <tbody>\n",
       "    <tr>\n",
       "      <th>131904</th>\n",
       "      <td>5.0</td>\n",
       "      <td>Some background first: I'm studying memoir as ...</td>\n",
       "      <td>2011</td>\n",
       "      <td>[Other]</td>\n",
       "      <td>Picador</td>\n",
       "      <td>[Other]</td>\n",
       "      <td>2015</td>\n",
       "      <td>0.000000</td>\n",
       "    </tr>\n",
       "    <tr>\n",
       "      <th>326762</th>\n",
       "      <td>1.0</td>\n",
       "      <td>This is a horribly printed book. The actual st...</td>\n",
       "      <td>2009</td>\n",
       "      <td>[Other]</td>\n",
       "      <td>Random House Trade Paperbacks</td>\n",
       "      <td>[Fiction]</td>\n",
       "      <td>1996</td>\n",
       "      <td>0.906977</td>\n",
       "    </tr>\n",
       "    <tr>\n",
       "      <th>343900</th>\n",
       "      <td>1.0</td>\n",
       "      <td>After reading Riptide a while back I thought I...</td>\n",
       "      <td>2004</td>\n",
       "      <td>[Other]</td>\n",
       "      <td>Penguin</td>\n",
       "      <td>[Fiction]</td>\n",
       "      <td>2005</td>\n",
       "      <td>1.000000</td>\n",
       "    </tr>\n",
       "    <tr>\n",
       "      <th>336391</th>\n",
       "      <td>5.0</td>\n",
       "      <td>This is a great marketing book. No hype and no...</td>\n",
       "      <td>2003</td>\n",
       "      <td>[Other]</td>\n",
       "      <td>Routledge</td>\n",
       "      <td>[Business &amp; Economics]</td>\n",
       "      <td>2002</td>\n",
       "      <td>1.000000</td>\n",
       "    </tr>\n",
       "    <tr>\n",
       "      <th>314424</th>\n",
       "      <td>3.0</td>\n",
       "      <td>I have used this book in my reading classes fo...</td>\n",
       "      <td>2000</td>\n",
       "      <td>[Other]</td>\n",
       "      <td>NaN</td>\n",
       "      <td>[Other]</td>\n",
       "      <td>2006</td>\n",
       "      <td>0.875000</td>\n",
       "    </tr>\n",
       "  </tbody>\n",
       "</table>\n",
       "</div>"
      ],
      "text/plain": [
       "        review                                               text  \\\n",
       "131904     5.0  Some background first: I'm studying memoir as ...   \n",
       "326762     1.0  This is a horribly printed book. The actual st...   \n",
       "343900     1.0  After reading Riptide a while back I thought I...   \n",
       "336391     5.0  This is a great marketing book. No hype and no...   \n",
       "314424     3.0  I have used this book in my reading classes fo...   \n",
       "\n",
       "        review_year  authors                      publisher  \\\n",
       "131904         2011  [Other]                        Picador   \n",
       "326762         2009  [Other]  Random House Trade Paperbacks   \n",
       "343900         2004  [Other]                        Penguin   \n",
       "336391         2003  [Other]                      Routledge   \n",
       "314424         2000  [Other]                            NaN   \n",
       "\n",
       "                    categories  published_year  helpfulness  \n",
       "131904                 [Other]            2015     0.000000  \n",
       "326762               [Fiction]            1996     0.906977  \n",
       "343900               [Fiction]            2005     1.000000  \n",
       "336391  [Business & Economics]            2002     1.000000  \n",
       "314424                 [Other]            2006     0.875000  "
      ]
     },
     "execution_count": 198,
     "metadata": {},
     "output_type": "execute_result"
    }
   ],
   "source": [
    "# Some of the authors list contains 'Other' multiple times.\n",
    "df_all_data_filtered_processed['categories'] = df_all_data_filtered_processed['categories'].apply(lambda x: remove_repeated_values(x))\n",
    "df_all_data_filtered_processed.sample(5, random_state=45)"
   ]
  },
  {
   "cell_type": "code",
   "execution_count": 199,
   "metadata": {},
   "outputs": [
    {
     "data": {
      "text/plain": [
       "categories\n",
       "Other                        220055\n",
       "Fiction                      148514\n",
       "Juvenile Fiction              38390\n",
       "Biography & Autobiography     21608\n",
       "Religion                      19505\n",
       "History                       18091\n",
       "Business & Economics          13935\n",
       "Computers                      9140\n",
       "Cooking                        6544\n",
       "Social Science                 6363\n",
       "Name: count, dtype: int64"
      ]
     },
     "execution_count": 199,
     "metadata": {},
     "output_type": "execute_result"
    }
   ],
   "source": [
    "df_all_data_filtered_processed['categories'].explode().value_counts()"
   ]
  },
  {
   "cell_type": "markdown",
   "metadata": {},
   "source": [
    "## Publisher Column"
   ]
  },
  {
   "cell_type": "code",
   "execution_count": 200,
   "metadata": {},
   "outputs": [
    {
     "data": {
      "text/plain": [
       "publisher\n",
       "Penguin                         25291\n",
       "Simon and Schuster              23284\n",
       "Harper Collins                  15718\n",
       "Vintage                          8116\n",
       "Random House                     7971\n",
       "                                ...  \n",
       "Squaredance Fundamentals            1\n",
       "Pearson Custom Pub                  1\n",
       "Blooming Twig Books                 1\n",
       "Oxford : Phaidon, Christie's        1\n",
       "Src Pub.                            1\n",
       "Name: count, Length: 10945, dtype: int64"
      ]
     },
     "execution_count": 200,
     "metadata": {},
     "output_type": "execute_result"
    }
   ],
   "source": [
    "publisher_counts = df_all_data_filtered_processed['publisher'].value_counts()\n",
    "publisher_counts"
   ]
  },
  {
   "cell_type": "markdown",
   "metadata": {},
   "source": [
    "### Updating the publisher Feature to Categorical, and applying Pareto Principe to reduce the quantity of publishers."
   ]
  },
  {
   "cell_type": "code",
   "execution_count": 201,
   "metadata": {},
   "outputs": [
    {
     "data": {
      "text/plain": [
       "publisher\n",
       "Penguin                               25291\n",
       "Simon and Schuster                    23284\n",
       "Harper Collins                        15718\n",
       "Vintage                                8116\n",
       "Random House                           7971\n",
       "                                      ...  \n",
       "Sawday                                    1\n",
       "Beech Tree Books                          1\n",
       "Rainbow Morning Music Alternatives        1\n",
       "Strident Publishing                       1\n",
       "Src Pub.                                  1\n",
       "Name: count, Length: 10945, dtype: int64"
      ]
     },
     "execution_count": 201,
     "metadata": {},
     "output_type": "execute_result"
    }
   ],
   "source": [
    "sorted_publisher_counts = publisher_counts.sort_values(ascending=False)\n",
    "sorted_publisher_counts"
   ]
  },
  {
   "cell_type": "code",
   "execution_count": 202,
   "metadata": {},
   "outputs": [
    {
     "data": {
      "text/plain": [
       "2189"
      ]
     },
     "execution_count": 202,
     "metadata": {},
     "output_type": "execute_result"
    }
   ],
   "source": [
    "pareto_threshold = int(0.2 * len(sorted_publisher_counts))\n",
    "pareto_threshold"
   ]
  },
  {
   "cell_type": "code",
   "execution_count": 203,
   "metadata": {},
   "outputs": [
    {
     "data": {
      "text/plain": [
       "Index(['Penguin', 'Simon and Schuster', 'Harper Collins', 'Vintage',\n",
       "       'Random House', 'Macmillan', 'Houghton Mifflin Harcourt', 'Bantam',\n",
       "       'HarperCollins', 'John Wiley & Sons',\n",
       "       ...\n",
       "       'World Scientific Publishing Company', 'Prestel Pub',\n",
       "       'McSweeneys Books', 'Financial Times/Prentice Hall', 'M J F Books',\n",
       "       'Laurence King Publishing', 'Marshall Cavendish',\n",
       "       'Sky Publishing Corporation', 'MDPI', 'I.B. Tauris'],\n",
       "      dtype='object', name='publisher', length=2189)"
      ]
     },
     "execution_count": 203,
     "metadata": {},
     "output_type": "execute_result"
    }
   ],
   "source": [
    "top_publishers = sorted_publisher_counts.iloc[:pareto_threshold].index\n",
    "top_publishers"
   ]
  },
  {
   "cell_type": "code",
   "execution_count": 204,
   "metadata": {},
   "outputs": [
    {
     "data": {
      "text/plain": [
       "publisher\n",
       "Other                               110339\n",
       "Penguin                              25291\n",
       "Simon and Schuster                   23284\n",
       "Harper Collins                       15718\n",
       "Vintage                               8116\n",
       "                                     ...  \n",
       "Laurence Holt Books Incorporated        14\n",
       "Phoenix Publishing (WA)                 14\n",
       "Lothian Children's Books                14\n",
       "Haynes Publishing UK                    14\n",
       "Berklee PressPublications               14\n",
       "Name: count, Length: 2190, dtype: int64"
      ]
     },
     "execution_count": 204,
     "metadata": {},
     "output_type": "execute_result"
    }
   ],
   "source": [
    "df_all_data_filtered_processed['publisher'] = df_all_data_filtered_processed['publisher'].apply(lambda publisher: publisher if publisher in top_publishers else 'Other')\n",
    "df_all_data_filtered_processed['publisher'].value_counts()"
   ]
  },
  {
   "cell_type": "markdown",
   "metadata": {},
   "source": [
    "After applying Pareto Principle, there are still 2194 unique publishers on the dataset. If publishers is considered as a Categorical Feature, it will not add much predictive value because it has a lot of Cardinality.\n",
    "\n",
    "Top 10 publishers with most reviews are kept and the rest of publishers are set to 'Other'. In order to keep the feature and analize the predicting power."
   ]
  },
  {
   "cell_type": "code",
   "execution_count": 205,
   "metadata": {},
   "outputs": [
    {
     "name": "stdout",
     "output_type": "stream",
     "text": [
      "<class 'pandas.core.series.Series'>\n",
      "RangeIndex: 502044 entries, 0 to 502043\n",
      "Series name: publisher\n",
      "Non-Null Count   Dtype \n",
      "--------------   ----- \n",
      "502044 non-null  object\n",
      "dtypes: object(1)\n",
      "memory usage: 3.8+ MB\n"
     ]
    }
   ],
   "source": [
    "publishers = df_all_data_filtered_processed['publisher']\n",
    "publishers.info()"
   ]
  },
  {
   "cell_type": "code",
   "execution_count": 206,
   "metadata": {},
   "outputs": [
    {
     "name": "stdout",
     "output_type": "stream",
     "text": [
      "Total of Publishers: 2190\n"
     ]
    }
   ],
   "source": [
    "print(f'Total of Publishers: {len(publishers.unique())}')"
   ]
  },
  {
   "cell_type": "code",
   "execution_count": 207,
   "metadata": {},
   "outputs": [
    {
     "data": {
      "text/plain": [
       "publisher\n",
       "Other                               110339\n",
       "Penguin                              25291\n",
       "Simon and Schuster                   23284\n",
       "Harper Collins                       15718\n",
       "Vintage                               8116\n",
       "                                     ...  \n",
       "Laurence Holt Books Incorporated        14\n",
       "Phoenix Publishing (WA)                 14\n",
       "Lothian Children's Books                14\n",
       "Haynes Publishing UK                    14\n",
       "Berklee PressPublications               14\n",
       "Name: count, Length: 2190, dtype: int64"
      ]
     },
     "execution_count": 207,
     "metadata": {},
     "output_type": "execute_result"
    }
   ],
   "source": [
    "publisher_counts = publishers.value_counts(ascending=False)\n",
    "publisher_counts"
   ]
  },
  {
   "cell_type": "code",
   "execution_count": 208,
   "metadata": {},
   "outputs": [
    {
     "data": {
      "text/plain": [
       "publisher\n",
       "Other                        110339\n",
       "Penguin                       25291\n",
       "Simon and Schuster            23284\n",
       "Harper Collins                15718\n",
       "Vintage                        8116\n",
       "Random House                   7971\n",
       "Macmillan                      5971\n",
       "Houghton Mifflin Harcourt      5096\n",
       "Bantam                         4831\n",
       "HarperCollins                  4789\n",
       "Name: count, dtype: int64"
      ]
     },
     "execution_count": 208,
     "metadata": {},
     "output_type": "execute_result"
    }
   ],
   "source": [
    "top_10_publishers_counts = publisher_counts[:10].sort_values(ascending=False)\n",
    "top_10_publishers_counts"
   ]
  },
  {
   "cell_type": "code",
   "execution_count": 209,
   "metadata": {},
   "outputs": [
    {
     "data": {
      "text/plain": [
       "publisher\n",
       "John Wiley & Sons                   4775\n",
       "Courier Corporation                 4392\n",
       "Hachette UK                         4286\n",
       "Penguin UK                          4092\n",
       "Ballantine Books                    3522\n",
       "                                    ... \n",
       "Laurence Holt Books Incorporated      14\n",
       "Phoenix Publishing (WA)               14\n",
       "Lothian Children's Books              14\n",
       "Haynes Publishing UK                  14\n",
       "Berklee PressPublications             14\n",
       "Name: count, Length: 2180, dtype: int64"
      ]
     },
     "execution_count": 209,
     "metadata": {},
     "output_type": "execute_result"
    }
   ],
   "source": [
    "other_publishers_counts = publisher_counts[10:]\n",
    "other_publishers_counts"
   ]
  },
  {
   "cell_type": "code",
   "execution_count": 210,
   "metadata": {},
   "outputs": [
    {
     "data": {
      "text/plain": [
       "10"
      ]
     },
     "execution_count": 210,
     "metadata": {},
     "output_type": "execute_result"
    }
   ],
   "source": [
    "df_all_data_filtered_processed['publisher'] = df_all_data_filtered_processed['publisher'].apply(lambda publisher: publisher if publisher in top_10_publishers_counts else 'Other')\n",
    "len(df_all_data_filtered_processed['publisher'].unique())"
   ]
  },
  {
   "cell_type": "code",
   "execution_count": 211,
   "metadata": {},
   "outputs": [
    {
     "data": {
      "text/plain": [
       "publisher\n",
       "Other                        400977\n",
       "Penguin                       25291\n",
       "Simon and Schuster            23284\n",
       "Harper Collins                15718\n",
       "Vintage                        8116\n",
       "Random House                   7971\n",
       "Macmillan                      5971\n",
       "Houghton Mifflin Harcourt      5096\n",
       "Bantam                         4831\n",
       "HarperCollins                  4789\n",
       "Name: count, dtype: int64"
      ]
     },
     "execution_count": 211,
     "metadata": {},
     "output_type": "execute_result"
    }
   ],
   "source": [
    "df_all_data_filtered_processed['publisher'].value_counts()"
   ]
  },
  {
   "cell_type": "code",
   "execution_count": 212,
   "metadata": {},
   "outputs": [
    {
     "data": {
      "text/html": [
       "<div>\n",
       "<style scoped>\n",
       "    .dataframe tbody tr th:only-of-type {\n",
       "        vertical-align: middle;\n",
       "    }\n",
       "\n",
       "    .dataframe tbody tr th {\n",
       "        vertical-align: top;\n",
       "    }\n",
       "\n",
       "    .dataframe thead th {\n",
       "        text-align: right;\n",
       "    }\n",
       "</style>\n",
       "<table border=\"1\" class=\"dataframe\">\n",
       "  <thead>\n",
       "    <tr style=\"text-align: right;\">\n",
       "      <th></th>\n",
       "      <th>review</th>\n",
       "      <th>text</th>\n",
       "      <th>review_year</th>\n",
       "      <th>authors</th>\n",
       "      <th>publisher</th>\n",
       "      <th>categories</th>\n",
       "      <th>published_year</th>\n",
       "      <th>helpfulness</th>\n",
       "    </tr>\n",
       "  </thead>\n",
       "  <tbody>\n",
       "    <tr>\n",
       "      <th>457656</th>\n",
       "      <td>5.0</td>\n",
       "      <td>For hard to find words, this is the best I've ...</td>\n",
       "      <td>1997</td>\n",
       "      <td>[Other]</td>\n",
       "      <td>Other</td>\n",
       "      <td>[Other]</td>\n",
       "      <td>1982</td>\n",
       "      <td>1.000000</td>\n",
       "    </tr>\n",
       "    <tr>\n",
       "      <th>109079</th>\n",
       "      <td>5.0</td>\n",
       "      <td>From my childhood - this is a classic : one of...</td>\n",
       "      <td>2013</td>\n",
       "      <td>[Other]</td>\n",
       "      <td>Other</td>\n",
       "      <td>[Other]</td>\n",
       "      <td>1862</td>\n",
       "      <td>1.000000</td>\n",
       "    </tr>\n",
       "    <tr>\n",
       "      <th>66237</th>\n",
       "      <td>5.0</td>\n",
       "      <td>Dr. Peter Marshall's story about his rough chi...</td>\n",
       "      <td>2006</td>\n",
       "      <td>[Other]</td>\n",
       "      <td>Other</td>\n",
       "      <td>[Biography &amp; Autobiography]</td>\n",
       "      <td>2002</td>\n",
       "      <td>1.000000</td>\n",
       "    </tr>\n",
       "    <tr>\n",
       "      <th>283030</th>\n",
       "      <td>5.0</td>\n",
       "      <td>This is such a great book!! You can really fee...</td>\n",
       "      <td>2007</td>\n",
       "      <td>[Other]</td>\n",
       "      <td>Other</td>\n",
       "      <td>[Fiction]</td>\n",
       "      <td>2006</td>\n",
       "      <td>1.000000</td>\n",
       "    </tr>\n",
       "    <tr>\n",
       "      <th>220161</th>\n",
       "      <td>5.0</td>\n",
       "      <td>A nuanced narrative with gorgeous description,...</td>\n",
       "      <td>2008</td>\n",
       "      <td>[Other]</td>\n",
       "      <td>Other</td>\n",
       "      <td>[Fiction]</td>\n",
       "      <td>2012</td>\n",
       "      <td>1.000000</td>\n",
       "    </tr>\n",
       "    <tr>\n",
       "      <th>231014</th>\n",
       "      <td>4.0</td>\n",
       "      <td>I read this book while traveling and hiking so...</td>\n",
       "      <td>2009</td>\n",
       "      <td>[Other]</td>\n",
       "      <td>Other</td>\n",
       "      <td>[Biography &amp; Autobiography]</td>\n",
       "      <td>1988</td>\n",
       "      <td>0.000000</td>\n",
       "    </tr>\n",
       "    <tr>\n",
       "      <th>429489</th>\n",
       "      <td>5.0</td>\n",
       "      <td>Outstanding. A nice spin on a long-term serial...</td>\n",
       "      <td>2001</td>\n",
       "      <td>[Other]</td>\n",
       "      <td>Harper Collins</td>\n",
       "      <td>[Fiction]</td>\n",
       "      <td>2009</td>\n",
       "      <td>1.000000</td>\n",
       "    </tr>\n",
       "    <tr>\n",
       "      <th>422888</th>\n",
       "      <td>4.0</td>\n",
       "      <td>Hrabal's short novella \"Closely Observed Train...</td>\n",
       "      <td>2004</td>\n",
       "      <td>[Other]</td>\n",
       "      <td>Other</td>\n",
       "      <td>[Other]</td>\n",
       "      <td>1968</td>\n",
       "      <td>0.842105</td>\n",
       "    </tr>\n",
       "    <tr>\n",
       "      <th>349927</th>\n",
       "      <td>4.0</td>\n",
       "      <td>Homecoming is a story about four kids, Dicey, ...</td>\n",
       "      <td>2006</td>\n",
       "      <td>[Other]</td>\n",
       "      <td>Other</td>\n",
       "      <td>[Other]</td>\n",
       "      <td>2002</td>\n",
       "      <td>1.000000</td>\n",
       "    </tr>\n",
       "    <tr>\n",
       "      <th>7971</th>\n",
       "      <td>1.0</td>\n",
       "      <td>Congratulations to Priya Gandhi-Ganesh for wri...</td>\n",
       "      <td>2005</td>\n",
       "      <td>[Other]</td>\n",
       "      <td>Other</td>\n",
       "      <td>[History]</td>\n",
       "      <td>2004</td>\n",
       "      <td>0.770833</td>\n",
       "    </tr>\n",
       "  </tbody>\n",
       "</table>\n",
       "</div>"
      ],
      "text/plain": [
       "        review                                               text  \\\n",
       "457656     5.0  For hard to find words, this is the best I've ...   \n",
       "109079     5.0  From my childhood - this is a classic : one of...   \n",
       "66237      5.0  Dr. Peter Marshall's story about his rough chi...   \n",
       "283030     5.0  This is such a great book!! You can really fee...   \n",
       "220161     5.0  A nuanced narrative with gorgeous description,...   \n",
       "231014     4.0  I read this book while traveling and hiking so...   \n",
       "429489     5.0  Outstanding. A nice spin on a long-term serial...   \n",
       "422888     4.0  Hrabal's short novella \"Closely Observed Train...   \n",
       "349927     4.0  Homecoming is a story about four kids, Dicey, ...   \n",
       "7971       1.0  Congratulations to Priya Gandhi-Ganesh for wri...   \n",
       "\n",
       "        review_year  authors       publisher                   categories  \\\n",
       "457656         1997  [Other]           Other                      [Other]   \n",
       "109079         2013  [Other]           Other                      [Other]   \n",
       "66237          2006  [Other]           Other  [Biography & Autobiography]   \n",
       "283030         2007  [Other]           Other                    [Fiction]   \n",
       "220161         2008  [Other]           Other                    [Fiction]   \n",
       "231014         2009  [Other]           Other  [Biography & Autobiography]   \n",
       "429489         2001  [Other]  Harper Collins                    [Fiction]   \n",
       "422888         2004  [Other]           Other                      [Other]   \n",
       "349927         2006  [Other]           Other                      [Other]   \n",
       "7971           2005  [Other]           Other                    [History]   \n",
       "\n",
       "        published_year  helpfulness  \n",
       "457656            1982     1.000000  \n",
       "109079            1862     1.000000  \n",
       "66237             2002     1.000000  \n",
       "283030            2006     1.000000  \n",
       "220161            2012     1.000000  \n",
       "231014            1988     0.000000  \n",
       "429489            2009     1.000000  \n",
       "422888            1968     0.842105  \n",
       "349927            2002     1.000000  \n",
       "7971              2004     0.770833  "
      ]
     },
     "execution_count": 212,
     "metadata": {},
     "output_type": "execute_result"
    }
   ],
   "source": [
    "df_all_data_filtered_processed.sample(10)"
   ]
  },
  {
   "cell_type": "markdown",
   "metadata": {},
   "source": [
    "## Published Year Column"
   ]
  },
  {
   "cell_type": "code",
   "execution_count": 213,
   "metadata": {},
   "outputs": [
    {
     "data": {
      "text/plain": [
       "count    502044.000000\n",
       "mean       2000.607662\n",
       "std          25.941981\n",
       "min         101.000000\n",
       "25%        1999.000000\n",
       "50%        2005.000000\n",
       "75%        2012.000000\n",
       "max        2030.000000\n",
       "Name: published_year, dtype: float64"
      ]
     },
     "execution_count": 213,
     "metadata": {},
     "output_type": "execute_result"
    }
   ],
   "source": [
    "df_all_data_filtered_processed['published_year'].describe().T"
   ]
  },
  {
   "cell_type": "code",
   "execution_count": 214,
   "metadata": {},
   "outputs": [
    {
     "data": {
      "text/plain": [
       "2023"
      ]
     },
     "execution_count": 214,
     "metadata": {},
     "output_type": "execute_result"
    }
   ],
   "source": [
    "datetime.today().year"
   ]
  },
  {
   "cell_type": "code",
   "execution_count": 215,
   "metadata": {},
   "outputs": [
    {
     "data": {
      "text/html": [
       "<div>\n",
       "<style scoped>\n",
       "    .dataframe tbody tr th:only-of-type {\n",
       "        vertical-align: middle;\n",
       "    }\n",
       "\n",
       "    .dataframe tbody tr th {\n",
       "        vertical-align: top;\n",
       "    }\n",
       "\n",
       "    .dataframe thead th {\n",
       "        text-align: right;\n",
       "    }\n",
       "</style>\n",
       "<table border=\"1\" class=\"dataframe\">\n",
       "  <thead>\n",
       "    <tr style=\"text-align: right;\">\n",
       "      <th></th>\n",
       "      <th>review</th>\n",
       "      <th>text</th>\n",
       "      <th>review_year</th>\n",
       "      <th>authors</th>\n",
       "      <th>publisher</th>\n",
       "      <th>categories</th>\n",
       "      <th>published_year</th>\n",
       "      <th>helpfulness</th>\n",
       "    </tr>\n",
       "  </thead>\n",
       "  <tbody>\n",
       "    <tr>\n",
       "      <th>61300</th>\n",
       "      <td>2.0</td>\n",
       "      <td>I guess my expectations of this book would be ...</td>\n",
       "      <td>2002</td>\n",
       "      <td>[Other]</td>\n",
       "      <td>Other</td>\n",
       "      <td>[Other]</td>\n",
       "      <td>2024</td>\n",
       "      <td>0.500000</td>\n",
       "    </tr>\n",
       "    <tr>\n",
       "      <th>201009</th>\n",
       "      <td>5.0</td>\n",
       "      <td>Thanks to Dr. Cosby and Renee Pouissant we now...</td>\n",
       "      <td>2004</td>\n",
       "      <td>[Other]</td>\n",
       "      <td>Simon and Schuster</td>\n",
       "      <td>[Biography &amp; Autobiography]</td>\n",
       "      <td>2030</td>\n",
       "      <td>0.941176</td>\n",
       "    </tr>\n",
       "    <tr>\n",
       "      <th>398835</th>\n",
       "      <td>5.0</td>\n",
       "      <td>Scott Malensek's third offering, while a depar...</td>\n",
       "      <td>2002</td>\n",
       "      <td>[Other]</td>\n",
       "      <td>Other</td>\n",
       "      <td>[Other]</td>\n",
       "      <td>2024</td>\n",
       "      <td>0.600000</td>\n",
       "    </tr>\n",
       "  </tbody>\n",
       "</table>\n",
       "</div>"
      ],
      "text/plain": [
       "        review                                               text  \\\n",
       "61300      2.0  I guess my expectations of this book would be ...   \n",
       "201009     5.0  Thanks to Dr. Cosby and Renee Pouissant we now...   \n",
       "398835     5.0  Scott Malensek's third offering, while a depar...   \n",
       "\n",
       "        review_year  authors           publisher                   categories  \\\n",
       "61300          2002  [Other]               Other                      [Other]   \n",
       "201009         2004  [Other]  Simon and Schuster  [Biography & Autobiography]   \n",
       "398835         2002  [Other]               Other                      [Other]   \n",
       "\n",
       "        published_year  helpfulness  \n",
       "61300             2024     0.500000  \n",
       "201009            2030     0.941176  \n",
       "398835            2024     0.600000  "
      ]
     },
     "execution_count": 215,
     "metadata": {},
     "output_type": "execute_result"
    }
   ],
   "source": [
    "df_all_data_filtered_processed[df_all_data_filtered_processed['published_year'] > datetime.today().year]"
   ]
  },
  {
   "cell_type": "markdown",
   "metadata": {},
   "source": [
    "Found values where the published year is grather than the current year are removed as they are just 3 values. Do not affects the dataset of + 500 000 entries"
   ]
  },
  {
   "cell_type": "code",
   "execution_count": 216,
   "metadata": {},
   "outputs": [
    {
     "data": {
      "text/plain": [
       "(502044, 8)"
      ]
     },
     "execution_count": 216,
     "metadata": {},
     "output_type": "execute_result"
    }
   ],
   "source": [
    "df_all_data_filtered_processed.shape"
   ]
  },
  {
   "cell_type": "code",
   "execution_count": 217,
   "metadata": {},
   "outputs": [
    {
     "data": {
      "text/plain": [
       "(502041, 8)"
      ]
     },
     "execution_count": 217,
     "metadata": {},
     "output_type": "execute_result"
    }
   ],
   "source": [
    "df_all_data_filtered_processed = df_all_data_filtered_processed.drop(df_all_data_filtered_processed[df_all_data_filtered_processed['published_year'] > datetime.today().year].index)\n",
    "df_all_data_filtered_processed.shape"
   ]
  },
  {
   "cell_type": "code",
   "execution_count": 218,
   "metadata": {},
   "outputs": [
    {
     "data": {
      "text/plain": [
       "<Axes: >"
      ]
     },
     "execution_count": 218,
     "metadata": {},
     "output_type": "execute_result"
    },
    {
     "data": {
      "image/png": "[encoded data removed]",
      "text/plain": [
       "<Figure size 640x480 with 1 Axes>"
      ]
     },
     "metadata": {},
     "output_type": "display_data"
    }
   ],
   "source": [
    "df_all_data_filtered_processed.boxplot(column='published_year')"
   ]
  },
  {
   "cell_type": "markdown",
   "metadata": {},
   "source": [
    "# Processed Datasets Saving"
   ]
  },
  {
   "cell_type": "code",
   "execution_count": 219,
   "metadata": {},
   "outputs": [
    {
     "name": "stdout",
     "output_type": "stream",
     "text": [
      "<class 'pandas.core.frame.DataFrame'>\n",
      "RangeIndex: 502041 entries, 0 to 502040\n",
      "Data columns (total 9 columns):\n",
      " #   Column          Non-Null Count   Dtype  \n",
      "---  ------          --------------   -----  \n",
      " 0   index           502041 non-null  int64  \n",
      " 1   review          502041 non-null  float64\n",
      " 2   text            502041 non-null  object \n",
      " 3   review_year     502041 non-null  int64  \n",
      " 4   authors         502041 non-null  object \n",
      " 5   publisher       502041 non-null  object \n",
      " 6   categories      502041 non-null  object \n",
      " 7   published_year  502041 non-null  int64  \n",
      " 8   helpfulness     502041 non-null  float64\n",
      "dtypes: float64(2), int64(3), object(4)\n",
      "memory usage: 34.5+ MB\n"
     ]
    }
   ],
   "source": [
    "df_all_data_filtered_processed = df_all_data_filtered_processed.reset_index()\n",
    "df_all_data_filtered_processed.info()"
   ]
  },
  {
   "cell_type": "code",
   "execution_count": 220,
   "metadata": {},
   "outputs": [
    {
     "data": {
      "text/html": [
       "<div>\n",
       "<style scoped>\n",
       "    .dataframe tbody tr th:only-of-type {\n",
       "        vertical-align: middle;\n",
       "    }\n",
       "\n",
       "    .dataframe tbody tr th {\n",
       "        vertical-align: top;\n",
       "    }\n",
       "\n",
       "    .dataframe thead th {\n",
       "        text-align: right;\n",
       "    }\n",
       "</style>\n",
       "<table border=\"1\" class=\"dataframe\">\n",
       "  <thead>\n",
       "    <tr style=\"text-align: right;\">\n",
       "      <th></th>\n",
       "      <th>num_row</th>\n",
       "      <th>text</th>\n",
       "    </tr>\n",
       "  </thead>\n",
       "  <tbody>\n",
       "    <tr>\n",
       "      <th>492101</th>\n",
       "      <td>492101</td>\n",
       "      <td>Wow! Amazing us all once again, Mr.Westerfield...</td>\n",
       "    </tr>\n",
       "    <tr>\n",
       "      <th>127347</th>\n",
       "      <td>127347</td>\n",
       "      <td>I highly recommend to any history or civil war...</td>\n",
       "    </tr>\n",
       "    <tr>\n",
       "      <th>305629</th>\n",
       "      <td>305629</td>\n",
       "      <td>as a long time mystery reader I find Mr. Jacob...</td>\n",
       "    </tr>\n",
       "    <tr>\n",
       "      <th>342235</th>\n",
       "      <td>342235</td>\n",
       "      <td>Karen has outlined in her book her physical fi...</td>\n",
       "    </tr>\n",
       "    <tr>\n",
       "      <th>469421</th>\n",
       "      <td>469421</td>\n",
       "      <td>\"Beyond a certain age, sincerity ceases to fee...</td>\n",
       "    </tr>\n",
       "    <tr>\n",
       "      <th>202872</th>\n",
       "      <td>202872</td>\n",
       "      <td>This book is one of the best works of literatu...</td>\n",
       "    </tr>\n",
       "    <tr>\n",
       "      <th>263064</th>\n",
       "      <td>263064</td>\n",
       "      <td>I am working on a school guidance master's deg...</td>\n",
       "    </tr>\n",
       "    <tr>\n",
       "      <th>26505</th>\n",
       "      <td>26505</td>\n",
       "      <td>At first the book goes back and forth and it c...</td>\n",
       "    </tr>\n",
       "    <tr>\n",
       "      <th>354549</th>\n",
       "      <td>354549</td>\n",
       "      <td>We love interactive books that make the readin...</td>\n",
       "    </tr>\n",
       "    <tr>\n",
       "      <th>416426</th>\n",
       "      <td>416426</td>\n",
       "      <td>I've reached the final chapter of this book an...</td>\n",
       "    </tr>\n",
       "  </tbody>\n",
       "</table>\n",
       "</div>"
      ],
      "text/plain": [
       "        num_row                                               text\n",
       "492101   492101  Wow! Amazing us all once again, Mr.Westerfield...\n",
       "127347   127347  I highly recommend to any history or civil war...\n",
       "305629   305629  as a long time mystery reader I find Mr. Jacob...\n",
       "342235   342235  Karen has outlined in her book her physical fi...\n",
       "469421   469421  \"Beyond a certain age, sincerity ceases to fee...\n",
       "202872   202872  This book is one of the best works of literatu...\n",
       "263064   263064  I am working on a school guidance master's deg...\n",
       "26505     26505  At first the book goes back and forth and it c...\n",
       "354549   354549  We love interactive books that make the readin...\n",
       "416426   416426  I've reached the final chapter of this book an..."
      ]
     },
     "execution_count": 220,
     "metadata": {},
     "output_type": "execute_result"
    }
   ],
   "source": [
    "#A reduced Dataset is created to process Text Column and Apply sentiment Analysis.\n",
    "df_all_data_filtered_processed['num_row'] = np.arange(len(df_all_data_filtered_processed))\n",
    "\n",
    "df_reduced = df_all_data_filtered_processed[['num_row', 'text']].copy()\n",
    "\n",
    "df_reduced.sample(10)"
   ]
  },
  {
   "cell_type": "code",
   "execution_count": 221,
   "metadata": {},
   "outputs": [],
   "source": [
    "df_all_data_filtered_processed.to_csv('../data/processed/filtered_data_processed.csv')"
   ]
  },
  {
   "cell_type": "code",
   "execution_count": 222,
   "metadata": {},
   "outputs": [],
   "source": [
    "df_reduced.to_csv('../data/processed/df_reduced.csv')"
   ]
  }
 ],
 "metadata": {
  "kernelspec": {
   "display_name": ".venv",
   "language": "python",
   "name": "python3"
  },
  "language_info": {
   "codemirror_mode": {
    "name": "ipython",
    "version": 3
   },
   "file_extension": ".py",
   "mimetype": "text/x-python",
   "name": "python",
   "nbconvert_exporter": "python",
   "pygments_lexer": "ipython3",
   "version": "3.8.10"
  }
 },
 "nbformat": 4,
 "nbformat_minor": 2
}
