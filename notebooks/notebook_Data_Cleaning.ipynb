{
 "cells": [
  {
   "cell_type": "code",
   "execution_count": 1,
   "metadata": {},
   "outputs": [],
   "source": [
    "# Dataset: Amazon Books Reviews\n",
    "# Author: Mohamed Bekheet\n",
    "# Source: Mohamed Bekheet. (2022). Amazon Books Reviews [Data set]. Kaggle. https://www.kaggle.com/datasets/mohamedbakhet/amazon-books-reviews\n",
    "# URL: https://www.kaggle.com/datasets/mohamedbakhet/amazon-books-reviews\n",
    "# This dataset contains 2 files\n",
    "# The first file** reviews** file contain feedback about 3M user on 212404 unique books the data set is \n",
    "# part of the Amazon review Dataset it contains product reviews and metadata from Amazon, including \n",
    "# 142.8 million reviews spanning May 1996 - July 2014.\n",
    "# Reviews Dataset Data Dictionary:\n",
    "# -id:                  The Id of Book\n",
    "# -Title:   \t        Book Title\n",
    "# -Price:               The price of Book\n",
    "# -User_id:             Id of the user who rates the book\n",
    "# -profileName:         Name of the user who rates the book\n",
    "# -review/helpfulness:  helpfulness rating of the review, e.g. 2/3\n",
    "# -review/score:        rating from 0 to 5 for the book\n",
    "# -review/time:         time of given the review\n",
    "# -review/summary:      the summary of a text review\n",
    "# -review/text:         the full text of a review\n",
    "\n",
    "# The second file Books Details file contains details information about 212404 unique books it file is built by using\n",
    "# google books API to get details information about books it rated in the first file\n",
    "# and this file contains\n",
    "\n",
    "# Book Details Dataset Data Dictionary:\n",
    "# Title:\t        Book Title\n",
    "# Descripe:\t        Decription of book\n",
    "# authors:\t        Name of book authors\n",
    "# image:\t        Url for book cover\n",
    "# previewLink:\t    Link to access this book on google Books\n",
    "# publisher:\t    Name of the publisheer\n",
    "# publishedDate:\tThe date of publish\n",
    "# infoLink:\t        Link to get more information about the book on google books\n",
    "# categories:\t    Genres of books\n",
    "# ratingsCount:\t    Averaging rating for book\n",
    "\n",
    "# Both Datasets are linked through the unique tittle of the book."
   ]
  },
  {
   "cell_type": "code",
   "execution_count": 2,
   "metadata": {},
   "outputs": [
    {
     "name": "stderr",
     "output_type": "stream",
     "text": [
      "/home/arnaldochm/Documents/BootCamp_DataScience/Final_Project/final_project_nlp/.venv/lib/python3.8/site-packages/tqdm/auto.py:21: TqdmWarning: IProgress not found. Please update jupyter and ipywidgets. See https://ipywidgets.readthedocs.io/en/stable/user_install.html\n",
      "  from .autonotebook import tqdm as notebook_tqdm\n",
      "2023-11-06 23:59:54.148691: I tensorflow/core/util/port.cc:110] oneDNN custom operations are on. You may see slightly different numerical results due to floating-point round-off errors from different computation orders. To turn them off, set the environment variable `TF_ENABLE_ONEDNN_OPTS=0`.\n",
      "2023-11-06 23:59:54.150694: I tensorflow/tsl/cuda/cudart_stub.cc:28] Could not find cuda drivers on your machine, GPU will not be used.\n",
      "2023-11-06 23:59:54.187792: I tensorflow/tsl/cuda/cudart_stub.cc:28] Could not find cuda drivers on your machine, GPU will not be used.\n",
      "2023-11-06 23:59:54.188471: I tensorflow/core/platform/cpu_feature_guard.cc:182] This TensorFlow binary is optimized to use available CPU instructions in performance-critical operations.\n",
      "To enable the following instructions: AVX2 AVX512F AVX512_VNNI FMA, in other operations, rebuild TensorFlow with the appropriate compiler flags.\n",
      "2023-11-06 23:59:55.097035: W tensorflow/compiler/tf2tensorrt/utils/py_utils.cc:38] TF-TRT Warning: Could not find TensorRT\n"
     ]
    }
   ],
   "source": [
    "# Step 0. Load libraries and custom modules\n",
    "import pandas as pd\n",
    "import numpy as np\n",
    "import matplotlib.pyplot as plt\n",
    "import seaborn as sns\n",
    "import os\n",
    "import nltk\n",
    "from nltk.corpus import stopwords\n",
    "from wordcloud import WordCloud\n",
    "import re\n",
    "from dateutil.parser import parse\n",
    "from datetime import datetime\n",
    "from datetime import date\n",
    "# ------------  PREPROCESING -------------\n",
    "from sklearn.model_selection import train_test_split\n",
    "from sklearn.decomposition import PCA\n",
    "from sklearn.decomposition import FastICA\n",
    "from sklearn.preprocessing import OneHotEncoder\n",
    "from sklearn.preprocessing import StandardScaler\n",
    "from sklearn.feature_extraction.text import TfidfVectorizer\n",
    "from sklearn.feature_extraction.text import CountVectorizer\n",
    "from nltk import download\n",
    "from nltk.corpus import stopwords\n",
    "from nltk.stem import WordNetLemmatizer\n",
    "#-------------- TRANSFORMERS --------------\n",
    "import transformers\n",
    "from transformers.pipelines import PIPELINE_REGISTRY\n",
    "from transformers import pipeline\n",
    "import evaluate\n",
    "from evaluate import load\n",
    "from transformers import Conversation\n",
    "transformers.logging.set_verbosity_error()"
   ]
  },
  {
   "cell_type": "code",
   "execution_count": 3,
   "metadata": {},
   "outputs": [
    {
     "name": "stdout",
     "output_type": "stream",
     "text": [
      "<class 'pandas.core.frame.DataFrame'>\n",
      "RangeIndex: 3000000 entries, 0 to 2999999\n",
      "Data columns (total 10 columns):\n",
      " #   Column              Dtype  \n",
      "---  ------              -----  \n",
      " 0   Id                  object \n",
      " 1   Title               object \n",
      " 2   Price               float64\n",
      " 3   User_id             object \n",
      " 4   profileName         object \n",
      " 5   review/helpfulness  object \n",
      " 6   review/score        float64\n",
      " 7   review/time         int64  \n",
      " 8   review/summary      object \n",
      " 9   review/text         object \n",
      "dtypes: float64(2), int64(1), object(7)\n",
      "memory usage: 228.9+ MB\n"
     ]
    }
   ],
   "source": [
    "#Loading the Datasets\n",
    "df_rating_raw = pd.read_csv('../data/raw/Books_rating.csv')\n",
    "\n",
    "df_rating_raw.info()\n"
   ]
  },
  {
   "cell_type": "code",
   "execution_count": 4,
   "metadata": {},
   "outputs": [
    {
     "data": {
      "text/html": [
       "<div>\n",
       "<style scoped>\n",
       "    .dataframe tbody tr th:only-of-type {\n",
       "        vertical-align: middle;\n",
       "    }\n",
       "\n",
       "    .dataframe tbody tr th {\n",
       "        vertical-align: top;\n",
       "    }\n",
       "\n",
       "    .dataframe thead th {\n",
       "        text-align: right;\n",
       "    }\n",
       "</style>\n",
       "<table border=\"1\" class=\"dataframe\">\n",
       "  <thead>\n",
       "    <tr style=\"text-align: right;\">\n",
       "      <th></th>\n",
       "      <th>Id</th>\n",
       "      <th>Title</th>\n",
       "      <th>Price</th>\n",
       "      <th>User_id</th>\n",
       "      <th>profileName</th>\n",
       "      <th>review/helpfulness</th>\n",
       "      <th>review/score</th>\n",
       "      <th>review/time</th>\n",
       "      <th>review/summary</th>\n",
       "      <th>review/text</th>\n",
       "    </tr>\n",
       "  </thead>\n",
       "  <tbody>\n",
       "    <tr>\n",
       "      <th>553955</th>\n",
       "      <td>B000HJNEYS</td>\n",
       "      <td>Memoirs of a Geisha (Signed)</td>\n",
       "      <td>NaN</td>\n",
       "      <td>ACSP73IBK9788</td>\n",
       "      <td>C. Corrales \"Work Junky\"</td>\n",
       "      <td>0/0</td>\n",
       "      <td>5.0</td>\n",
       "      <td>1181088000</td>\n",
       "      <td>Hard To Put Down</td>\n",
       "      <td>When I first started reading Memoirs of a Geis...</td>\n",
       "    </tr>\n",
       "    <tr>\n",
       "      <th>1635064</th>\n",
       "      <td>0899552471</td>\n",
       "      <td>Rubaiyat of Omar Khayyam</td>\n",
       "      <td>NaN</td>\n",
       "      <td>A1VS55R9I85YIB</td>\n",
       "      <td>JSH</td>\n",
       "      <td>0/3</td>\n",
       "      <td>4.0</td>\n",
       "      <td>1208131200</td>\n",
       "      <td>not bad</td>\n",
       "      <td>A little repetitive...No point in worrying... ...</td>\n",
       "    </tr>\n",
       "    <tr>\n",
       "      <th>1904087</th>\n",
       "      <td>0825424003</td>\n",
       "      <td>Unveiling Islam: An Insider's Look at Muslim L...</td>\n",
       "      <td>NaN</td>\n",
       "      <td>A266OWYBBJX3MJ</td>\n",
       "      <td>\"babyzag\"</td>\n",
       "      <td>14/35</td>\n",
       "      <td>1.0</td>\n",
       "      <td>1033257600</td>\n",
       "      <td>Bin Ladin no more authority then Caner brothers!</td>\n",
       "      <td>Linking Politics with IslamIn their crass effo...</td>\n",
       "    </tr>\n",
       "    <tr>\n",
       "      <th>2747884</th>\n",
       "      <td>0312353723</td>\n",
       "      <td>False Impression</td>\n",
       "      <td>NaN</td>\n",
       "      <td>A3BIWTN2DA0YY2</td>\n",
       "      <td>Antoinette Klein</td>\n",
       "      <td>9/16</td>\n",
       "      <td>5.0</td>\n",
       "      <td>1144713600</td>\n",
       "      <td>Exciting Cat-and-Mouse Game Features Famous Va...</td>\n",
       "      <td>On the eve of 9/11 an elegant Englishwoman is ...</td>\n",
       "    </tr>\n",
       "    <tr>\n",
       "      <th>187811</th>\n",
       "      <td>B0008BL2SA</td>\n",
       "      <td>Little women; or, Meg, Jo, Beth, and Amy,</td>\n",
       "      <td>NaN</td>\n",
       "      <td>NaN</td>\n",
       "      <td>NaN</td>\n",
       "      <td>7/10</td>\n",
       "      <td>4.0</td>\n",
       "      <td>1039910400</td>\n",
       "      <td>Little Women book review</td>\n",
       "      <td>I quite enjoyed the book. Although it's long, ...</td>\n",
       "    </tr>\n",
       "    <tr>\n",
       "      <th>918189</th>\n",
       "      <td>1566636434</td>\n",
       "      <td>Our Culture, What's Left of It: The Mandarins ...</td>\n",
       "      <td>18.33</td>\n",
       "      <td>A1ARM9C7G1WZOR</td>\n",
       "      <td>H. Loughman</td>\n",
       "      <td>0/0</td>\n",
       "      <td>5.0</td>\n",
       "      <td>1347494400</td>\n",
       "      <td>Excellent Informative Book</td>\n",
       "      <td>I read this book after reading \"Life at the Bo...</td>\n",
       "    </tr>\n",
       "    <tr>\n",
       "      <th>815802</th>\n",
       "      <td>B000CPL8SG</td>\n",
       "      <td>The Morning of The Magicians</td>\n",
       "      <td>NaN</td>\n",
       "      <td>NaN</td>\n",
       "      <td>NaN</td>\n",
       "      <td>12/14</td>\n",
       "      <td>5.0</td>\n",
       "      <td>889574400</td>\n",
       "      <td>..the human condition from a stranger yet true...</td>\n",
       "      <td>Co-authored by distinguished chemical engineer...</td>\n",
       "    </tr>\n",
       "    <tr>\n",
       "      <th>2443784</th>\n",
       "      <td>0552771783</td>\n",
       "      <td>Sleep Pale Sister</td>\n",
       "      <td>NaN</td>\n",
       "      <td>A3OF0WSYHK90VP</td>\n",
       "      <td>Ismael Funes Aguilera</td>\n",
       "      <td>0/0</td>\n",
       "      <td>4.0</td>\n",
       "      <td>1281225600</td>\n",
       "      <td>Chilly Victorian Tale</td>\n",
       "      <td>This is a different Joanne Harris than the one...</td>\n",
       "    </tr>\n",
       "    <tr>\n",
       "      <th>1050489</th>\n",
       "      <td>B0007HWL6C</td>\n",
       "      <td>Our man in Havana: An entertainment</td>\n",
       "      <td>NaN</td>\n",
       "      <td>AQ6HF80YW9GTY</td>\n",
       "      <td>a reader's eyes \"JP\"</td>\n",
       "      <td>1/10</td>\n",
       "      <td>3.0</td>\n",
       "      <td>1201046400</td>\n",
       "      <td>Disappointed</td>\n",
       "      <td>I read a lot of Graham Greene, and this is the...</td>\n",
       "    </tr>\n",
       "    <tr>\n",
       "      <th>1246820</th>\n",
       "      <td>B000HC8GT8</td>\n",
       "      <td>Of Mice and Men</td>\n",
       "      <td>NaN</td>\n",
       "      <td>NaN</td>\n",
       "      <td>NaN</td>\n",
       "      <td>0/0</td>\n",
       "      <td>5.0</td>\n",
       "      <td>1150416000</td>\n",
       "      <td>\"Of mice and men\" the perfect book....</td>\n",
       "      <td>\"Of Mice and Men\" is about these two guys name...</td>\n",
       "    </tr>\n",
       "  </tbody>\n",
       "</table>\n",
       "</div>"
      ],
      "text/plain": [
       "                 Id                                              Title  Price  \\\n",
       "553955   B000HJNEYS                       Memoirs of a Geisha (Signed)    NaN   \n",
       "1635064  0899552471                           Rubaiyat of Omar Khayyam    NaN   \n",
       "1904087  0825424003  Unveiling Islam: An Insider's Look at Muslim L...    NaN   \n",
       "2747884  0312353723                                   False Impression    NaN   \n",
       "187811   B0008BL2SA          Little women; or, Meg, Jo, Beth, and Amy,    NaN   \n",
       "918189   1566636434  Our Culture, What's Left of It: The Mandarins ...  18.33   \n",
       "815802   B000CPL8SG                       The Morning of The Magicians    NaN   \n",
       "2443784  0552771783                                  Sleep Pale Sister    NaN   \n",
       "1050489  B0007HWL6C                Our man in Havana: An entertainment    NaN   \n",
       "1246820  B000HC8GT8                                    Of Mice and Men    NaN   \n",
       "\n",
       "                User_id               profileName review/helpfulness  \\\n",
       "553955    ACSP73IBK9788  C. Corrales \"Work Junky\"                0/0   \n",
       "1635064  A1VS55R9I85YIB                       JSH                0/3   \n",
       "1904087  A266OWYBBJX3MJ                 \"babyzag\"              14/35   \n",
       "2747884  A3BIWTN2DA0YY2          Antoinette Klein               9/16   \n",
       "187811              NaN                       NaN               7/10   \n",
       "918189   A1ARM9C7G1WZOR               H. Loughman                0/0   \n",
       "815802              NaN                       NaN              12/14   \n",
       "2443784  A3OF0WSYHK90VP     Ismael Funes Aguilera                0/0   \n",
       "1050489   AQ6HF80YW9GTY      a reader's eyes \"JP\"               1/10   \n",
       "1246820             NaN                       NaN                0/0   \n",
       "\n",
       "         review/score  review/time  \\\n",
       "553955            5.0   1181088000   \n",
       "1635064           4.0   1208131200   \n",
       "1904087           1.0   1033257600   \n",
       "2747884           5.0   1144713600   \n",
       "187811            4.0   1039910400   \n",
       "918189            5.0   1347494400   \n",
       "815802            5.0    889574400   \n",
       "2443784           4.0   1281225600   \n",
       "1050489           3.0   1201046400   \n",
       "1246820           5.0   1150416000   \n",
       "\n",
       "                                            review/summary  \\\n",
       "553955                                    Hard To Put Down   \n",
       "1635064                                            not bad   \n",
       "1904087   Bin Ladin no more authority then Caner brothers!   \n",
       "2747884  Exciting Cat-and-Mouse Game Features Famous Va...   \n",
       "187811                            Little Women book review   \n",
       "918189                          Excellent Informative Book   \n",
       "815802   ..the human condition from a stranger yet true...   \n",
       "2443784                              Chilly Victorian Tale   \n",
       "1050489                                       Disappointed   \n",
       "1246820             \"Of mice and men\" the perfect book....   \n",
       "\n",
       "                                               review/text  \n",
       "553955   When I first started reading Memoirs of a Geis...  \n",
       "1635064  A little repetitive...No point in worrying... ...  \n",
       "1904087  Linking Politics with IslamIn their crass effo...  \n",
       "2747884  On the eve of 9/11 an elegant Englishwoman is ...  \n",
       "187811   I quite enjoyed the book. Although it's long, ...  \n",
       "918189   I read this book after reading \"Life at the Bo...  \n",
       "815802   Co-authored by distinguished chemical engineer...  \n",
       "2443784  This is a different Joanne Harris than the one...  \n",
       "1050489  I read a lot of Graham Greene, and this is the...  \n",
       "1246820  \"Of Mice and Men\" is about these two guys name...  "
      ]
     },
     "execution_count": 4,
     "metadata": {},
     "output_type": "execute_result"
    }
   ],
   "source": [
    "df_rating_raw.sample(10)"
   ]
  },
  {
   "cell_type": "code",
   "execution_count": 5,
   "metadata": {},
   "outputs": [
    {
     "name": "stdout",
     "output_type": "stream",
     "text": [
      "<class 'pandas.core.frame.DataFrame'>\n",
      "RangeIndex: 212404 entries, 0 to 212403\n",
      "Data columns (total 10 columns):\n",
      " #   Column         Non-Null Count   Dtype  \n",
      "---  ------         --------------   -----  \n",
      " 0   Title          212403 non-null  object \n",
      " 1   description    143962 non-null  object \n",
      " 2   authors        180991 non-null  object \n",
      " 3   image          160329 non-null  object \n",
      " 4   previewLink    188568 non-null  object \n",
      " 5   publisher      136518 non-null  object \n",
      " 6   publishedDate  187099 non-null  object \n",
      " 7   infoLink       188568 non-null  object \n",
      " 8   categories     171205 non-null  object \n",
      " 9   ratingsCount   49752 non-null   float64\n",
      "dtypes: float64(1), object(9)\n",
      "memory usage: 16.2+ MB\n"
     ]
    }
   ],
   "source": [
    "#Load Books Data Dataset\n",
    "df_data_raw = pd.read_csv('../data/raw/books_data.csv')\n",
    "\n",
    "df_data_raw.info()"
   ]
  },
  {
   "cell_type": "code",
   "execution_count": 6,
   "metadata": {},
   "outputs": [
    {
     "data": {
      "text/html": [
       "<div>\n",
       "<style scoped>\n",
       "    .dataframe tbody tr th:only-of-type {\n",
       "        vertical-align: middle;\n",
       "    }\n",
       "\n",
       "    .dataframe tbody tr th {\n",
       "        vertical-align: top;\n",
       "    }\n",
       "\n",
       "    .dataframe thead th {\n",
       "        text-align: right;\n",
       "    }\n",
       "</style>\n",
       "<table border=\"1\" class=\"dataframe\">\n",
       "  <thead>\n",
       "    <tr style=\"text-align: right;\">\n",
       "      <th></th>\n",
       "      <th>Title</th>\n",
       "      <th>description</th>\n",
       "      <th>authors</th>\n",
       "      <th>image</th>\n",
       "      <th>previewLink</th>\n",
       "      <th>publisher</th>\n",
       "      <th>publishedDate</th>\n",
       "      <th>infoLink</th>\n",
       "      <th>categories</th>\n",
       "      <th>ratingsCount</th>\n",
       "    </tr>\n",
       "  </thead>\n",
       "  <tbody>\n",
       "    <tr>\n",
       "      <th>184273</th>\n",
       "      <td>Emphatically Emerson</td>\n",
       "      <td>Excite the soul, and it becomes suddenly virtu...</td>\n",
       "      <td>['Ralph Waldo Emerson', 'Frank Crocitto']</td>\n",
       "      <td>http://books.google.com/books/content?id=rOqUP...</td>\n",
       "      <td>http://books.google.com/books?id=rOqUPQAACAAJ&amp;...</td>\n",
       "      <td>NaN</td>\n",
       "      <td>2003</td>\n",
       "      <td>http://books.google.com/books?id=rOqUPQAACAAJ&amp;...</td>\n",
       "      <td>['Poetry']</td>\n",
       "      <td>NaN</td>\n",
       "    </tr>\n",
       "    <tr>\n",
       "      <th>101156</th>\n",
       "      <td>Dropped Threads 2: More of What We Aren't Told</td>\n",
       "      <td>The idea for Dropped Threads: What We Aren't T...</td>\n",
       "      <td>['Carol Shields', 'Marjorie Anderson']</td>\n",
       "      <td>http://books.google.com/books/content?id=Y6ERQ...</td>\n",
       "      <td>http://books.google.com/books?id=Y6ERQPMpbUIC&amp;...</td>\n",
       "      <td>Vintage Canada</td>\n",
       "      <td>2010-05-28</td>\n",
       "      <td>https://play.google.com/store/books/details?id...</td>\n",
       "      <td>['Literary Collections']</td>\n",
       "      <td>1.0</td>\n",
       "    </tr>\n",
       "    <tr>\n",
       "      <th>71108</th>\n",
       "      <td>Yellow Journalism: Scandal, Sensationalism and...</td>\n",
       "      <td>Provides a look at the history of sensational ...</td>\n",
       "      <td>['Daniel Cohen']</td>\n",
       "      <td>http://books.google.com/books/content?id=E7dg0...</td>\n",
       "      <td>http://books.google.com/books?id=E7dg05qPZg0C&amp;...</td>\n",
       "      <td>Millbrook Press</td>\n",
       "      <td>2000</td>\n",
       "      <td>http://books.google.com/books?id=E7dg05qPZg0C&amp;...</td>\n",
       "      <td>['Juvenile Nonfiction']</td>\n",
       "      <td>NaN</td>\n",
       "    </tr>\n",
       "    <tr>\n",
       "      <th>173554</th>\n",
       "      <td>Tidepools</td>\n",
       "      <td>Adam Nicolson explores the marine life inhabit...</td>\n",
       "      <td>['Adam Nicolson']</td>\n",
       "      <td>http://books.google.com/books/content?id=IBAqE...</td>\n",
       "      <td>http://books.google.com/books?id=IBAqEAAAQBAJ&amp;...</td>\n",
       "      <td>Farrar, Straus and Giroux</td>\n",
       "      <td>2022-02-22</td>\n",
       "      <td>https://play.google.com/store/books/details?id...</td>\n",
       "      <td>['Nature']</td>\n",
       "      <td>1.0</td>\n",
       "    </tr>\n",
       "    <tr>\n",
       "      <th>10174</th>\n",
       "      <td>Charlotte County (Virginia publick claims)</td>\n",
       "      <td>NaN</td>\n",
       "      <td>['Janice L. Abercrombie', 'Richard Slatten']</td>\n",
       "      <td>NaN</td>\n",
       "      <td>http://books.google.nl/books?id=cZR4AAAACAAJ&amp;d...</td>\n",
       "      <td>Millefleurs</td>\n",
       "      <td>1991-01-01</td>\n",
       "      <td>http://books.google.nl/books?id=cZR4AAAACAAJ&amp;d...</td>\n",
       "      <td>NaN</td>\n",
       "      <td>NaN</td>\n",
       "    </tr>\n",
       "    <tr>\n",
       "      <th>17163</th>\n",
       "      <td>Navigating the Night Sky: How to Identify the ...</td>\n",
       "      <td>This book will interest anyone who marvels at ...</td>\n",
       "      <td>['Guilherme de Almeida']</td>\n",
       "      <td>http://books.google.com/books/content?id=CBjyB...</td>\n",
       "      <td>http://books.google.nl/books?id=CBjyBwAAQBAJ&amp;p...</td>\n",
       "      <td>Springer Science &amp; Business Media</td>\n",
       "      <td>2012-11-03</td>\n",
       "      <td>https://play.google.com/store/books/details?id...</td>\n",
       "      <td>['Science']</td>\n",
       "      <td>NaN</td>\n",
       "    </tr>\n",
       "    <tr>\n",
       "      <th>45296</th>\n",
       "      <td>Chicago's Destiny</td>\n",
       "      <td>NaN</td>\n",
       "      <td>['Tia Hines']</td>\n",
       "      <td>NaN</td>\n",
       "      <td>http://books.google.com/books?id=frCGtQEACAAJ&amp;...</td>\n",
       "      <td>NaN</td>\n",
       "      <td>2004</td>\n",
       "      <td>http://books.google.com/books?id=frCGtQEACAAJ&amp;...</td>\n",
       "      <td>['African Americans']</td>\n",
       "      <td>NaN</td>\n",
       "    </tr>\n",
       "    <tr>\n",
       "      <th>64213</th>\n",
       "      <td>The Book of Romans: Righteousness in Christ (2...</td>\n",
       "      <td>The book of Romans has rightly been called \"th...</td>\n",
       "      <td>['Woodrow Michael Kroll', 'William Kroll']</td>\n",
       "      <td>http://books.google.com/books/content?id=h10GH...</td>\n",
       "      <td>http://books.google.com/books?id=h10GHAAACAAJ&amp;...</td>\n",
       "      <td>Amg Pubs</td>\n",
       "      <td>2003-04-01</td>\n",
       "      <td>http://books.google.com/books?id=h10GHAAACAAJ&amp;...</td>\n",
       "      <td>['Religion']</td>\n",
       "      <td>NaN</td>\n",
       "    </tr>\n",
       "    <tr>\n",
       "      <th>109112</th>\n",
       "      <td>Arthurs Really Helpful Word Book</td>\n",
       "      <td>Arthur and his friends introduce more than one...</td>\n",
       "      <td>['Marc Tolon Brown']</td>\n",
       "      <td>http://books.google.com/books/content?id=6qfeN...</td>\n",
       "      <td>http://books.google.com/books?id=6qfeNwAACAAJ&amp;...</td>\n",
       "      <td>Random House Books for Young Readers</td>\n",
       "      <td>1997</td>\n",
       "      <td>http://books.google.com/books?id=6qfeNwAACAAJ&amp;...</td>\n",
       "      <td>['Juvenile Fiction']</td>\n",
       "      <td>NaN</td>\n",
       "    </tr>\n",
       "    <tr>\n",
       "      <th>36605</th>\n",
       "      <td>White-Hat Security Arsenal: Tackling the Threats</td>\n",
       "      <td>White Hats are the people doing good things wi...</td>\n",
       "      <td>['Aviel D. Rubin']</td>\n",
       "      <td>http://books.google.com/books/content?id=2vNSA...</td>\n",
       "      <td>http://books.google.com/books?id=2vNSAAAAMAAJ&amp;...</td>\n",
       "      <td>Addison-Wesley Professional</td>\n",
       "      <td>2001</td>\n",
       "      <td>http://books.google.com/books?id=2vNSAAAAMAAJ&amp;...</td>\n",
       "      <td>['Computers']</td>\n",
       "      <td>1.0</td>\n",
       "    </tr>\n",
       "  </tbody>\n",
       "</table>\n",
       "</div>"
      ],
      "text/plain": [
       "                                                    Title  \\\n",
       "184273                               Emphatically Emerson   \n",
       "101156     Dropped Threads 2: More of What We Aren't Told   \n",
       "71108   Yellow Journalism: Scandal, Sensationalism and...   \n",
       "173554                                          Tidepools   \n",
       "10174          Charlotte County (Virginia publick claims)   \n",
       "17163   Navigating the Night Sky: How to Identify the ...   \n",
       "45296                                   Chicago's Destiny   \n",
       "64213   The Book of Romans: Righteousness in Christ (2...   \n",
       "109112                   Arthurs Really Helpful Word Book   \n",
       "36605    White-Hat Security Arsenal: Tackling the Threats   \n",
       "\n",
       "                                              description  \\\n",
       "184273  Excite the soul, and it becomes suddenly virtu...   \n",
       "101156  The idea for Dropped Threads: What We Aren't T...   \n",
       "71108   Provides a look at the history of sensational ...   \n",
       "173554  Adam Nicolson explores the marine life inhabit...   \n",
       "10174                                                 NaN   \n",
       "17163   This book will interest anyone who marvels at ...   \n",
       "45296                                                 NaN   \n",
       "64213   The book of Romans has rightly been called \"th...   \n",
       "109112  Arthur and his friends introduce more than one...   \n",
       "36605   White Hats are the people doing good things wi...   \n",
       "\n",
       "                                             authors  \\\n",
       "184273     ['Ralph Waldo Emerson', 'Frank Crocitto']   \n",
       "101156        ['Carol Shields', 'Marjorie Anderson']   \n",
       "71108                               ['Daniel Cohen']   \n",
       "173554                             ['Adam Nicolson']   \n",
       "10174   ['Janice L. Abercrombie', 'Richard Slatten']   \n",
       "17163                       ['Guilherme de Almeida']   \n",
       "45296                                  ['Tia Hines']   \n",
       "64213     ['Woodrow Michael Kroll', 'William Kroll']   \n",
       "109112                          ['Marc Tolon Brown']   \n",
       "36605                             ['Aviel D. Rubin']   \n",
       "\n",
       "                                                    image  \\\n",
       "184273  http://books.google.com/books/content?id=rOqUP...   \n",
       "101156  http://books.google.com/books/content?id=Y6ERQ...   \n",
       "71108   http://books.google.com/books/content?id=E7dg0...   \n",
       "173554  http://books.google.com/books/content?id=IBAqE...   \n",
       "10174                                                 NaN   \n",
       "17163   http://books.google.com/books/content?id=CBjyB...   \n",
       "45296                                                 NaN   \n",
       "64213   http://books.google.com/books/content?id=h10GH...   \n",
       "109112  http://books.google.com/books/content?id=6qfeN...   \n",
       "36605   http://books.google.com/books/content?id=2vNSA...   \n",
       "\n",
       "                                              previewLink  \\\n",
       "184273  http://books.google.com/books?id=rOqUPQAACAAJ&...   \n",
       "101156  http://books.google.com/books?id=Y6ERQPMpbUIC&...   \n",
       "71108   http://books.google.com/books?id=E7dg05qPZg0C&...   \n",
       "173554  http://books.google.com/books?id=IBAqEAAAQBAJ&...   \n",
       "10174   http://books.google.nl/books?id=cZR4AAAACAAJ&d...   \n",
       "17163   http://books.google.nl/books?id=CBjyBwAAQBAJ&p...   \n",
       "45296   http://books.google.com/books?id=frCGtQEACAAJ&...   \n",
       "64213   http://books.google.com/books?id=h10GHAAACAAJ&...   \n",
       "109112  http://books.google.com/books?id=6qfeNwAACAAJ&...   \n",
       "36605   http://books.google.com/books?id=2vNSAAAAMAAJ&...   \n",
       "\n",
       "                                   publisher publishedDate  \\\n",
       "184273                                   NaN          2003   \n",
       "101156                        Vintage Canada    2010-05-28   \n",
       "71108                        Millbrook Press          2000   \n",
       "173554             Farrar, Straus and Giroux    2022-02-22   \n",
       "10174                            Millefleurs    1991-01-01   \n",
       "17163      Springer Science & Business Media    2012-11-03   \n",
       "45296                                    NaN          2004   \n",
       "64213                               Amg Pubs    2003-04-01   \n",
       "109112  Random House Books for Young Readers          1997   \n",
       "36605            Addison-Wesley Professional          2001   \n",
       "\n",
       "                                                 infoLink  \\\n",
       "184273  http://books.google.com/books?id=rOqUPQAACAAJ&...   \n",
       "101156  https://play.google.com/store/books/details?id...   \n",
       "71108   http://books.google.com/books?id=E7dg05qPZg0C&...   \n",
       "173554  https://play.google.com/store/books/details?id...   \n",
       "10174   http://books.google.nl/books?id=cZR4AAAACAAJ&d...   \n",
       "17163   https://play.google.com/store/books/details?id...   \n",
       "45296   http://books.google.com/books?id=frCGtQEACAAJ&...   \n",
       "64213   http://books.google.com/books?id=h10GHAAACAAJ&...   \n",
       "109112  http://books.google.com/books?id=6qfeNwAACAAJ&...   \n",
       "36605   http://books.google.com/books?id=2vNSAAAAMAAJ&...   \n",
       "\n",
       "                      categories  ratingsCount  \n",
       "184273                ['Poetry']           NaN  \n",
       "101156  ['Literary Collections']           1.0  \n",
       "71108    ['Juvenile Nonfiction']           NaN  \n",
       "173554                ['Nature']           1.0  \n",
       "10174                        NaN           NaN  \n",
       "17163                ['Science']           NaN  \n",
       "45296      ['African Americans']           NaN  \n",
       "64213               ['Religion']           NaN  \n",
       "109112      ['Juvenile Fiction']           NaN  \n",
       "36605              ['Computers']           1.0  "
      ]
     },
     "execution_count": 6,
     "metadata": {},
     "output_type": "execute_result"
    }
   ],
   "source": [
    "df_data_raw.sample(10)"
   ]
  },
  {
   "cell_type": "code",
   "execution_count": 7,
   "metadata": {},
   "outputs": [
    {
     "data": {
      "text/plain": [
       "Id                          0\n",
       "Title                     208\n",
       "Price                 2518829\n",
       "User_id                561787\n",
       "profileName            561905\n",
       "review/helpfulness          0\n",
       "review/score                0\n",
       "review/time                 0\n",
       "review/summary            407\n",
       "review/text                 8\n",
       "dtype: int64"
      ]
     },
     "execution_count": 7,
     "metadata": {},
     "output_type": "execute_result"
    }
   ],
   "source": [
    "#Revisar Valores Nulos\n",
    "df_rating_raw.isna().sum()"
   ]
  },
  {
   "cell_type": "code",
   "execution_count": 8,
   "metadata": {},
   "outputs": [
    {
     "data": {
      "text/plain": [
       "Title                 1\n",
       "description       68442\n",
       "authors           31413\n",
       "image             52075\n",
       "previewLink       23836\n",
       "publisher         75886\n",
       "publishedDate     25305\n",
       "infoLink          23836\n",
       "categories        41199\n",
       "ratingsCount     162652\n",
       "dtype: int64"
      ]
     },
     "execution_count": 8,
     "metadata": {},
     "output_type": "execute_result"
    }
   ],
   "source": [
    "df_data_raw.isna().sum()"
   ]
  },
  {
   "cell_type": "code",
   "execution_count": 9,
   "metadata": {},
   "outputs": [
    {
     "data": {
      "text/plain": [
       "(3000000, 10)"
      ]
     },
     "execution_count": 9,
     "metadata": {},
     "output_type": "execute_result"
    }
   ],
   "source": [
    "df_rating_raw.shape"
   ]
  },
  {
   "cell_type": "code",
   "execution_count": 10,
   "metadata": {},
   "outputs": [
    {
     "data": {
      "text/plain": [
       "854145"
      ]
     },
     "execution_count": 10,
     "metadata": {},
     "output_type": "execute_result"
    }
   ],
   "source": [
    "df_rating_raw['profileName'].nunique()"
   ]
  },
  {
   "cell_type": "code",
   "execution_count": 11,
   "metadata": {},
   "outputs": [
    {
     "data": {
      "text/plain": [
       "1008972"
      ]
     },
     "execution_count": 11,
     "metadata": {},
     "output_type": "execute_result"
    }
   ],
   "source": [
    "df_rating_raw['User_id'].nunique()"
   ]
  },
  {
   "cell_type": "code",
   "execution_count": 12,
   "metadata": {},
   "outputs": [
    {
     "data": {
      "text/plain": [
       "(212404, 10)"
      ]
     },
     "execution_count": 12,
     "metadata": {},
     "output_type": "execute_result"
    }
   ],
   "source": [
    "df_data_raw.shape"
   ]
  },
  {
   "cell_type": "code",
   "execution_count": 13,
   "metadata": {},
   "outputs": [
    {
     "data": {
      "text/plain": [
       "212403"
      ]
     },
     "execution_count": 13,
     "metadata": {},
     "output_type": "execute_result"
    }
   ],
   "source": [
    "df_data_raw['Title'].nunique()"
   ]
  },
  {
   "cell_type": "code",
   "execution_count": 14,
   "metadata": {},
   "outputs": [],
   "source": [
    "#Innecesary Columns are removed\n",
    "# df_rating: \n",
    "#   - Price: Almost 84% of the entries are null. \n",
    "#   - profileName: Unique identifier for each user performing the review. Variable with cardinality excess. \n",
    "#   - User_id: Unique identifier for each user performing the review. Variable with cardinality excess.\n",
    "#   - Id: Innecesary column.\n",
    "#   - review/summary: Unncesary column for current analysis. Many summaries used are the same Book Title.\n",
    "#   - Title Feature Removal: This feature is unique for each book. And it is extremly correlated with Authors. As the same \n",
    "#       book Title will always have the same author. So, authors feature is kept and Title is removed.    \n",
    "#       This feature is removed later as it will be used to join both Datasets. \n",
    "# df_data:\n",
    "#   - image, previewLink, infoLink: Not useful information.\n",
    "#   - ratingsCount: Information from Google API. Not useful for the analysis.\n",
    "#   - description: Non necesary information for Analysis\n",
    "\n",
    "df_rating_processed = df_rating_raw.drop(['Id','profileName', 'User_id','Price','review/summary'], axis=1).copy()\n",
    "df_data_processed = df_data_raw.drop(['image','previewLink','infoLink','ratingsCount','description'], axis=1).copy()"
   ]
  },
  {
   "cell_type": "code",
   "execution_count": 15,
   "metadata": {},
   "outputs": [
    {
     "data": {
      "text/html": [
       "<div>\n",
       "<style scoped>\n",
       "    .dataframe tbody tr th:only-of-type {\n",
       "        vertical-align: middle;\n",
       "    }\n",
       "\n",
       "    .dataframe tbody tr th {\n",
       "        vertical-align: top;\n",
       "    }\n",
       "\n",
       "    .dataframe thead th {\n",
       "        text-align: right;\n",
       "    }\n",
       "</style>\n",
       "<table border=\"1\" class=\"dataframe\">\n",
       "  <thead>\n",
       "    <tr style=\"text-align: right;\">\n",
       "      <th></th>\n",
       "      <th>Title</th>\n",
       "      <th>review/helpfulness</th>\n",
       "      <th>review/score</th>\n",
       "      <th>review/time</th>\n",
       "      <th>review/text</th>\n",
       "    </tr>\n",
       "  </thead>\n",
       "  <tbody>\n",
       "    <tr>\n",
       "      <th>571604</th>\n",
       "      <td>THE CATCHER IN THE RYE</td>\n",
       "      <td>0/2</td>\n",
       "      <td>3.0</td>\n",
       "      <td>1330473600</td>\n",
       "      <td>The Catcher in the Rye is about a boy named Ho...</td>\n",
       "    </tr>\n",
       "    <tr>\n",
       "      <th>104596</th>\n",
       "      <td>The Blue Lotus (The Adventures of Tintin)</td>\n",
       "      <td>3/3</td>\n",
       "      <td>3.0</td>\n",
       "      <td>1172534400</td>\n",
       "      <td>Herge, The Blue Lotus (Methuen, 1936)Herge her...</td>\n",
       "    </tr>\n",
       "    <tr>\n",
       "      <th>57116</th>\n",
       "      <td>From .Com to .Profit: Inventing Business Model...</td>\n",
       "      <td>5/5</td>\n",
       "      <td>4.0</td>\n",
       "      <td>980208000</td>\n",
       "      <td>Dot-profit provides a good review of the econo...</td>\n",
       "    </tr>\n",
       "    <tr>\n",
       "      <th>2300888</th>\n",
       "      <td>Great American Cattle Trails</td>\n",
       "      <td>1/1</td>\n",
       "      <td>3.0</td>\n",
       "      <td>1271721600</td>\n",
       "      <td>I have read several books on the Texas cattle ...</td>\n",
       "    </tr>\n",
       "    <tr>\n",
       "      <th>1260615</th>\n",
       "      <td>The Healthy Living Space: 70 Practical Ways to...</td>\n",
       "      <td>1/3</td>\n",
       "      <td>4.0</td>\n",
       "      <td>1174780800</td>\n",
       "      <td>This is a huge book, lots of info...almost too...</td>\n",
       "    </tr>\n",
       "    <tr>\n",
       "      <th>1642541</th>\n",
       "      <td>The Robe</td>\n",
       "      <td>0/3</td>\n",
       "      <td>5.0</td>\n",
       "      <td>1162684800</td>\n",
       "      <td>Great retelling of the story of Jesus from the...</td>\n",
       "    </tr>\n",
       "    <tr>\n",
       "      <th>583265</th>\n",
       "      <td>Five People You Meet in Heaven</td>\n",
       "      <td>0/1</td>\n",
       "      <td>5.0</td>\n",
       "      <td>1131580800</td>\n",
       "      <td>I picked this book up based on the reviews I r...</td>\n",
       "    </tr>\n",
       "    <tr>\n",
       "      <th>1526347</th>\n",
       "      <td>Saving Grace</td>\n",
       "      <td>1/2</td>\n",
       "      <td>5.0</td>\n",
       "      <td>938390400</td>\n",
       "      <td>Both my sister and I love this book very-very ...</td>\n",
       "    </tr>\n",
       "    <tr>\n",
       "      <th>2109054</th>\n",
       "      <td>Friendly Enemies</td>\n",
       "      <td>24/24</td>\n",
       "      <td>5.0</td>\n",
       "      <td>1068595200</td>\n",
       "      <td>FINALLY get it on! It is about time these two ...</td>\n",
       "    </tr>\n",
       "    <tr>\n",
       "      <th>2247563</th>\n",
       "      <td>Mere Christianity</td>\n",
       "      <td>11/15</td>\n",
       "      <td>4.0</td>\n",
       "      <td>1154304000</td>\n",
       "      <td>Whereas I LOVE C. S. Lewis, and you simply can...</td>\n",
       "    </tr>\n",
       "  </tbody>\n",
       "</table>\n",
       "</div>"
      ],
      "text/plain": [
       "                                                     Title review/helpfulness  \\\n",
       "571604                              THE CATCHER IN THE RYE                0/2   \n",
       "104596           The Blue Lotus (The Adventures of Tintin)                3/3   \n",
       "57116    From .Com to .Profit: Inventing Business Model...                5/5   \n",
       "2300888                       Great American Cattle Trails                1/1   \n",
       "1260615  The Healthy Living Space: 70 Practical Ways to...                1/3   \n",
       "1642541                                           The Robe                0/3   \n",
       "583265                      Five People You Meet in Heaven                0/1   \n",
       "1526347                                       Saving Grace                1/2   \n",
       "2109054                                   Friendly Enemies              24/24   \n",
       "2247563                                  Mere Christianity              11/15   \n",
       "\n",
       "         review/score  review/time  \\\n",
       "571604            3.0   1330473600   \n",
       "104596            3.0   1172534400   \n",
       "57116             4.0    980208000   \n",
       "2300888           3.0   1271721600   \n",
       "1260615           4.0   1174780800   \n",
       "1642541           5.0   1162684800   \n",
       "583265            5.0   1131580800   \n",
       "1526347           5.0    938390400   \n",
       "2109054           5.0   1068595200   \n",
       "2247563           4.0   1154304000   \n",
       "\n",
       "                                               review/text  \n",
       "571604   The Catcher in the Rye is about a boy named Ho...  \n",
       "104596   Herge, The Blue Lotus (Methuen, 1936)Herge her...  \n",
       "57116    Dot-profit provides a good review of the econo...  \n",
       "2300888  I have read several books on the Texas cattle ...  \n",
       "1260615  This is a huge book, lots of info...almost too...  \n",
       "1642541  Great retelling of the story of Jesus from the...  \n",
       "583265   I picked this book up based on the reviews I r...  \n",
       "1526347  Both my sister and I love this book very-very ...  \n",
       "2109054  FINALLY get it on! It is about time these two ...  \n",
       "2247563  Whereas I LOVE C. S. Lewis, and you simply can...  "
      ]
     },
     "execution_count": 15,
     "metadata": {},
     "output_type": "execute_result"
    }
   ],
   "source": [
    "df_rating_processed.sample(10)"
   ]
  },
  {
   "cell_type": "code",
   "execution_count": 16,
   "metadata": {},
   "outputs": [],
   "source": [
    "df_rating_processed = df_rating_processed.rename(columns={'Title':'title',                                                        \n",
    "                                                        'review/helpfulness': 'helpfulness',\n",
    "                                                        'review/score': 'review',\n",
    "                                                        'review/time': 'review_time',\n",
    "                                                        'review/text': 'text'\n",
    "                                                        })\n",
    "df_data_processed = df_data_processed.rename(columns={'Title':'title', \n",
    "                                                        'publishedDate':'published_date'\n",
    "                                                        })"
   ]
  },
  {
   "cell_type": "code",
   "execution_count": 17,
   "metadata": {},
   "outputs": [
    {
     "data": {
      "text/plain": [
       "title          208\n",
       "helpfulness      0\n",
       "review           0\n",
       "review_time      0\n",
       "text             8\n",
       "dtype: int64"
      ]
     },
     "execution_count": 17,
     "metadata": {},
     "output_type": "execute_result"
    }
   ],
   "source": [
    "df_rating_processed.isna().sum()"
   ]
  },
  {
   "cell_type": "code",
   "execution_count": 18,
   "metadata": {},
   "outputs": [
    {
     "data": {
      "text/plain": [
       "title                 1\n",
       "authors           31413\n",
       "publisher         75886\n",
       "published_date    25305\n",
       "categories        41199\n",
       "dtype: int64"
      ]
     },
     "execution_count": 18,
     "metadata": {},
     "output_type": "execute_result"
    }
   ],
   "source": [
    "df_data_processed.isna().sum()"
   ]
  },
  {
   "cell_type": "code",
   "execution_count": 19,
   "metadata": {},
   "outputs": [],
   "source": [
    "#CLEAN THE DATASETS"
   ]
  },
  {
   "cell_type": "code",
   "execution_count": 20,
   "metadata": {},
   "outputs": [],
   "source": [
    "#As both datasets are going to be merged by Title, Rows with Null Title are removed.\n",
    "df_rating_processed = df_rating_processed.dropna(subset=['text'], how='any')\n",
    "\n",
    "df_data_processed = df_data_processed.dropna(subset=['title'])\n",
    "\n",
    "#Drop rows where everything except title is null\n",
    "df_data_processed = df_data_processed.dropna(subset=['authors', 'publisher', 'published_date', 'categories'], how='all')"
   ]
  },
  {
   "cell_type": "code",
   "execution_count": 21,
   "metadata": {},
   "outputs": [
    {
     "data": {
      "text/html": [
       "<div>\n",
       "<style scoped>\n",
       "    .dataframe tbody tr th:only-of-type {\n",
       "        vertical-align: middle;\n",
       "    }\n",
       "\n",
       "    .dataframe tbody tr th {\n",
       "        vertical-align: top;\n",
       "    }\n",
       "\n",
       "    .dataframe thead th {\n",
       "        text-align: right;\n",
       "    }\n",
       "</style>\n",
       "<table border=\"1\" class=\"dataframe\">\n",
       "  <thead>\n",
       "    <tr style=\"text-align: right;\">\n",
       "      <th></th>\n",
       "      <th>title</th>\n",
       "      <th>authors</th>\n",
       "      <th>publisher</th>\n",
       "      <th>published_date</th>\n",
       "      <th>categories</th>\n",
       "    </tr>\n",
       "  </thead>\n",
       "  <tbody>\n",
       "    <tr>\n",
       "      <th>45078</th>\n",
       "      <td>Tertium organum;: The third canon of thought; ...</td>\n",
       "      <td>['Petr Demʹi͡anovich Uspenskiĭ']</td>\n",
       "      <td>Library of Alexandria</td>\n",
       "      <td>1923</td>\n",
       "      <td>['Consciousness']</td>\n",
       "    </tr>\n",
       "    <tr>\n",
       "      <th>161312</th>\n",
       "      <td>Positron Annihilation in Semiconductors: Defec...</td>\n",
       "      <td>['Reinhard Krause-Rehberg', 'Hartmut S. Leipner']</td>\n",
       "      <td>Springer Science &amp; Business Media</td>\n",
       "      <td>1999</td>\n",
       "      <td>['Science']</td>\n",
       "    </tr>\n",
       "    <tr>\n",
       "      <th>70178</th>\n",
       "      <td>Manual of Ship Construction</td>\n",
       "      <td>['FASA Corporation Staff']</td>\n",
       "      <td>NaN</td>\n",
       "      <td>1985</td>\n",
       "      <td>['Fantasy games']</td>\n",
       "    </tr>\n",
       "    <tr>\n",
       "      <th>118600</th>\n",
       "      <td>The New York Times Crossword Puzzle Dictionary</td>\n",
       "      <td>['Tom Pulliam', 'Clare Grundman']</td>\n",
       "      <td>Random House Puzzles &amp; Games</td>\n",
       "      <td>1997</td>\n",
       "      <td>['Games &amp; Activities']</td>\n",
       "    </tr>\n",
       "    <tr>\n",
       "      <th>205582</th>\n",
       "      <td>The Immediate future: Lectures delivered in Qu...</td>\n",
       "      <td>['Annie Besant']</td>\n",
       "      <td>NaN</td>\n",
       "      <td>1911</td>\n",
       "      <td>['Theosophy']</td>\n",
       "    </tr>\n",
       "  </tbody>\n",
       "</table>\n",
       "</div>"
      ],
      "text/plain": [
       "                                                    title  \\\n",
       "45078   Tertium organum;: The third canon of thought; ...   \n",
       "161312  Positron Annihilation in Semiconductors: Defec...   \n",
       "70178                         Manual of Ship Construction   \n",
       "118600     The New York Times Crossword Puzzle Dictionary   \n",
       "205582  The Immediate future: Lectures delivered in Qu...   \n",
       "\n",
       "                                                  authors  \\\n",
       "45078                    ['Petr Demʹi͡anovich Uspenskiĭ']   \n",
       "161312  ['Reinhard Krause-Rehberg', 'Hartmut S. Leipner']   \n",
       "70178                          ['FASA Corporation Staff']   \n",
       "118600                  ['Tom Pulliam', 'Clare Grundman']   \n",
       "205582                                   ['Annie Besant']   \n",
       "\n",
       "                                publisher published_date  \\\n",
       "45078               Library of Alexandria           1923   \n",
       "161312  Springer Science & Business Media           1999   \n",
       "70178                                 NaN           1985   \n",
       "118600       Random House Puzzles & Games           1997   \n",
       "205582                                NaN           1911   \n",
       "\n",
       "                    categories  \n",
       "45078        ['Consciousness']  \n",
       "161312             ['Science']  \n",
       "70178        ['Fantasy games']  \n",
       "118600  ['Games & Activities']  \n",
       "205582           ['Theosophy']  "
      ]
     },
     "execution_count": 21,
     "metadata": {},
     "output_type": "execute_result"
    }
   ],
   "source": [
    "df_data_processed.sample(5)"
   ]
  },
  {
   "cell_type": "code",
   "execution_count": 22,
   "metadata": {},
   "outputs": [],
   "source": [
    "# Found 143 published_date entries with the format YYYY*\n",
    "# Found 76 published_date entries with the format YYY?\n",
    "# Found 52 published_date entries with the format YY??\n",
    "\n",
    "def convert_to_year(date_in):    \n",
    "    try:    \n",
    "        patern_1 = r'\\d\\d\\d\\?'\n",
    "        patern_2 = r'\\d\\d\\?\\?'\n",
    "\n",
    "        #Some dates only contain the Year with the format YYYY*. For those cases, the symbol * is removed.\n",
    "        date = date_in.replace('*', '')\n",
    "\n",
    "        #Other cases contains an ? symbol instead of a number on the Year. YYY? or YY??\n",
    "        #For this specific case, the rounded mean from 0 to 9 is used: 5\n",
    "        if re.match(patern_1, date):\n",
    "            date = date.replace('?', '5')\n",
    "\n",
    "        if re.match(patern_2, date):\n",
    "            return None\n",
    "\n",
    "        date = parse(date)\n",
    "        \n",
    "        return date.strftime(\"%Y\")\n",
    "    except:        \n",
    "        return None"
   ]
  },
  {
   "cell_type": "code",
   "execution_count": 23,
   "metadata": {},
   "outputs": [],
   "source": [
    "#Use only the year for published_date\n",
    "df_data_processed['published_year'] = df_data_processed['published_date'].apply(lambda x: convert_to_year(x) if pd.notna(x) else x)\n",
    "\n",
    "df_data_processed['published_year'] = df_data_processed['published_year'].fillna('0')\n",
    "\n",
    "df_data_processed['published_year'] = df_data_processed['published_year'].astype('int32')\n",
    "\n",
    "#Drop published_date column \n",
    "df_data_processed = df_data_processed.drop(['published_date'], axis=1)"
   ]
  },
  {
   "cell_type": "code",
   "execution_count": 24,
   "metadata": {},
   "outputs": [
    {
     "data": {
      "text/plain": [
       "1981"
      ]
     },
     "execution_count": 24,
     "metadata": {},
     "output_type": "execute_result"
    }
   ],
   "source": [
    "mean_published_year = int(df_data_processed['published_year'].mean())\n",
    "mean_published_year"
   ]
  },
  {
   "cell_type": "code",
   "execution_count": 25,
   "metadata": {},
   "outputs": [
    {
     "data": {
      "text/html": [
       "<div>\n",
       "<style scoped>\n",
       "    .dataframe tbody tr th:only-of-type {\n",
       "        vertical-align: middle;\n",
       "    }\n",
       "\n",
       "    .dataframe tbody tr th {\n",
       "        vertical-align: top;\n",
       "    }\n",
       "\n",
       "    .dataframe thead th {\n",
       "        text-align: right;\n",
       "    }\n",
       "</style>\n",
       "<table border=\"1\" class=\"dataframe\">\n",
       "  <thead>\n",
       "    <tr style=\"text-align: right;\">\n",
       "      <th></th>\n",
       "      <th>title</th>\n",
       "      <th>authors</th>\n",
       "      <th>publisher</th>\n",
       "      <th>categories</th>\n",
       "      <th>published_year</th>\n",
       "    </tr>\n",
       "  </thead>\n",
       "  <tbody>\n",
       "    <tr>\n",
       "      <th>52662</th>\n",
       "      <td>Den 4 Dreams</td>\n",
       "      <td>['Roseanne Bane']</td>\n",
       "      <td>Nicolas-Hays, Inc.</td>\n",
       "      <td>['Self-Help']</td>\n",
       "      <td>1999</td>\n",
       "    </tr>\n",
       "    <tr>\n",
       "      <th>81931</th>\n",
       "      <td>Well Done Secret Seven</td>\n",
       "      <td>['Enid Blyton', 'Enid']</td>\n",
       "      <td>NaN</td>\n",
       "      <td>['Adventure stories']</td>\n",
       "      <td>2004</td>\n",
       "    </tr>\n",
       "    <tr>\n",
       "      <th>76947</th>\n",
       "      <td>Van der Steen's cats</td>\n",
       "      <td>['Germain van der Steen']</td>\n",
       "      <td>NaN</td>\n",
       "      <td>['Cats in art']</td>\n",
       "      <td>1984</td>\n",
       "    </tr>\n",
       "    <tr>\n",
       "      <th>36664</th>\n",
       "      <td>The Wordworth Dictionary of Anagrams</td>\n",
       "      <td>['Michael Curl']</td>\n",
       "      <td>NaN</td>\n",
       "      <td>['Reference']</td>\n",
       "      <td>1982</td>\n",
       "    </tr>\n",
       "    <tr>\n",
       "      <th>68328</th>\n",
       "      <td>Registration Methods for the Small Museum</td>\n",
       "      <td>['Daniel B. Reibel']</td>\n",
       "      <td>Rowman Altamira</td>\n",
       "      <td>['Reference']</td>\n",
       "      <td>1997</td>\n",
       "    </tr>\n",
       "    <tr>\n",
       "      <th>101110</th>\n",
       "      <td>Glimmering: A Novel</td>\n",
       "      <td>['Elizabeth']</td>\n",
       "      <td>Resurrection House</td>\n",
       "      <td>['Fiction']</td>\n",
       "      <td>2012</td>\n",
       "    </tr>\n",
       "    <tr>\n",
       "      <th>123834</th>\n",
       "      <td>The German fifth column in Poland (English and...</td>\n",
       "      <td>['Louis De Jong']</td>\n",
       "      <td>Routledge</td>\n",
       "      <td>['History']</td>\n",
       "      <td>2019</td>\n",
       "    </tr>\n",
       "    <tr>\n",
       "      <th>181857</th>\n",
       "      <td>Algebra and Trigonometry Enhanced With Graphin...</td>\n",
       "      <td>['Michael Sullivan (III)']</td>\n",
       "      <td>NaN</td>\n",
       "      <td>['Calculus']</td>\n",
       "      <td>2007</td>\n",
       "    </tr>\n",
       "    <tr>\n",
       "      <th>112636</th>\n",
       "      <td>The Saracen Lamp</td>\n",
       "      <td>['Ruth Mabel Arthur', 'Margery Gill']</td>\n",
       "      <td>NaN</td>\n",
       "      <td>[\"Children's stories, English\"]</td>\n",
       "      <td>1970</td>\n",
       "    </tr>\n",
       "    <tr>\n",
       "      <th>104100</th>\n",
       "      <td>NIV Student Bible, Revised</td>\n",
       "      <td>['Philip Yancey', 'Tim Stafford']</td>\n",
       "      <td>Zondervan Publishing Company</td>\n",
       "      <td>['Bibles']</td>\n",
       "      <td>2002</td>\n",
       "    </tr>\n",
       "  </tbody>\n",
       "</table>\n",
       "</div>"
      ],
      "text/plain": [
       "                                                    title  \\\n",
       "52662                                        Den 4 Dreams   \n",
       "81931                              Well Done Secret Seven   \n",
       "76947                                Van der Steen's cats   \n",
       "36664                The Wordworth Dictionary of Anagrams   \n",
       "68328           Registration Methods for the Small Museum   \n",
       "101110                                Glimmering: A Novel   \n",
       "123834  The German fifth column in Poland (English and...   \n",
       "181857  Algebra and Trigonometry Enhanced With Graphin...   \n",
       "112636                                   The Saracen Lamp   \n",
       "104100                         NIV Student Bible, Revised   \n",
       "\n",
       "                                      authors                     publisher  \\\n",
       "52662                       ['Roseanne Bane']            Nicolas-Hays, Inc.   \n",
       "81931                 ['Enid Blyton', 'Enid']                           NaN   \n",
       "76947               ['Germain van der Steen']                           NaN   \n",
       "36664                        ['Michael Curl']                           NaN   \n",
       "68328                    ['Daniel B. Reibel']               Rowman Altamira   \n",
       "101110                          ['Elizabeth']            Resurrection House   \n",
       "123834                      ['Louis De Jong']                     Routledge   \n",
       "181857             ['Michael Sullivan (III)']                           NaN   \n",
       "112636  ['Ruth Mabel Arthur', 'Margery Gill']                           NaN   \n",
       "104100      ['Philip Yancey', 'Tim Stafford']  Zondervan Publishing Company   \n",
       "\n",
       "                             categories  published_year  \n",
       "52662                     ['Self-Help']            1999  \n",
       "81931             ['Adventure stories']            2004  \n",
       "76947                   ['Cats in art']            1984  \n",
       "36664                     ['Reference']            1982  \n",
       "68328                     ['Reference']            1997  \n",
       "101110                      ['Fiction']            2012  \n",
       "123834                      ['History']            2019  \n",
       "181857                     ['Calculus']            2007  \n",
       "112636  [\"Children's stories, English\"]            1970  \n",
       "104100                       ['Bibles']            2002  "
      ]
     },
     "execution_count": 25,
     "metadata": {},
     "output_type": "execute_result"
    }
   ],
   "source": [
    "df_data_processed['published_year'] = df_data_processed['published_year'].apply(lambda x: mean_published_year if x==0 else x)\n",
    "df_data_processed.sample(10)"
   ]
  },
  {
   "cell_type": "code",
   "execution_count": 26,
   "metadata": {},
   "outputs": [],
   "source": [
    "def custom_string_to_list(s):\n",
    "    if isinstance(s, str):\n",
    "        return [item.strip(\" '[]\") for item in s.split(',')]\n",
    "    else:\n",
    "        return s"
   ]
  },
  {
   "cell_type": "code",
   "execution_count": 27,
   "metadata": {},
   "outputs": [],
   "source": [
    "#Updating the Authors to a list.\n",
    "#Updating Categories to list\n",
    "df_data_processed['authors'] = df_data_processed['authors'].apply(custom_string_to_list)\n",
    "df_data_processed['categories'] = df_data_processed['categories'].apply(custom_string_to_list)"
   ]
  },
  {
   "cell_type": "code",
   "execution_count": 28,
   "metadata": {},
   "outputs": [
    {
     "data": {
      "text/html": [
       "<div>\n",
       "<style scoped>\n",
       "    .dataframe tbody tr th:only-of-type {\n",
       "        vertical-align: middle;\n",
       "    }\n",
       "\n",
       "    .dataframe tbody tr th {\n",
       "        vertical-align: top;\n",
       "    }\n",
       "\n",
       "    .dataframe thead th {\n",
       "        text-align: right;\n",
       "    }\n",
       "</style>\n",
       "<table border=\"1\" class=\"dataframe\">\n",
       "  <thead>\n",
       "    <tr style=\"text-align: right;\">\n",
       "      <th></th>\n",
       "      <th>title</th>\n",
       "      <th>authors</th>\n",
       "      <th>publisher</th>\n",
       "      <th>categories</th>\n",
       "      <th>published_year</th>\n",
       "    </tr>\n",
       "  </thead>\n",
       "  <tbody>\n",
       "    <tr>\n",
       "      <th>134060</th>\n",
       "      <td>Galois theory;: Lectures delivered at the Univ...</td>\n",
       "      <td>[Emil Artin]</td>\n",
       "      <td>Courier Corporation</td>\n",
       "      <td>[Mathematics]</td>\n",
       "      <td>2012</td>\n",
       "    </tr>\n",
       "    <tr>\n",
       "      <th>2306</th>\n",
       "      <td>The Sunday Tertulia: A Novel</td>\n",
       "      <td>[Lori Marie Carlson]</td>\n",
       "      <td>Harper Collins</td>\n",
       "      <td>[Fiction]</td>\n",
       "      <td>2009</td>\n",
       "    </tr>\n",
       "    <tr>\n",
       "      <th>49270</th>\n",
       "      <td>Suddenly They're 13</td>\n",
       "      <td>[David and Claudia Arp]</td>\n",
       "      <td>Zondervan</td>\n",
       "      <td>[Religion]</td>\n",
       "      <td>2010</td>\n",
       "    </tr>\n",
       "    <tr>\n",
       "      <th>115253</th>\n",
       "      <td>BEYOND MONSTERS AND CLOWNS. THE COMBAT SS. : D...</td>\n",
       "      <td>[Karl H. Theile]</td>\n",
       "      <td>University Press of Amer</td>\n",
       "      <td>[History]</td>\n",
       "      <td>1997</td>\n",
       "    </tr>\n",
       "    <tr>\n",
       "      <th>120696</th>\n",
       "      <td>Virginians at home: Family life in the eightee...</td>\n",
       "      <td>[Edmund Sears Morgan]</td>\n",
       "      <td>Colonial Williamsburg Foundation</td>\n",
       "      <td>[History]</td>\n",
       "      <td>1952</td>\n",
       "    </tr>\n",
       "    <tr>\n",
       "      <th>194758</th>\n",
       "      <td>Food Choice and Obesity in Black America: Crea...</td>\n",
       "      <td>[Eric J. Bailey]</td>\n",
       "      <td>Greenwood Publishing Group</td>\n",
       "      <td>[African Americans]</td>\n",
       "      <td>2006</td>\n",
       "    </tr>\n",
       "    <tr>\n",
       "      <th>10043</th>\n",
       "      <td>Lake Geneva in Vintage Postcards (WI) (Postcar...</td>\n",
       "      <td>[Carolyn Hope Smeltzer, Martha Kiefer Cucco]</td>\n",
       "      <td>Arcadia Publishing</td>\n",
       "      <td>[History]</td>\n",
       "      <td>2005</td>\n",
       "    </tr>\n",
       "    <tr>\n",
       "      <th>16651</th>\n",
       "      <td>Where Are You Going, Manyoni?</td>\n",
       "      <td>[Catherine Stock]</td>\n",
       "      <td>Harpercollins Childrens Books</td>\n",
       "      <td>[Juvenile Fiction]</td>\n",
       "      <td>1993</td>\n",
       "    </tr>\n",
       "    <tr>\n",
       "      <th>61146</th>\n",
       "      <td>Twenty One Days to a Trained Dog</td>\n",
       "      <td>[Dick Maller, Jeffrey Feinman]</td>\n",
       "      <td>Simon and Schuster</td>\n",
       "      <td>[Pets]</td>\n",
       "      <td>1979</td>\n",
       "    </tr>\n",
       "    <tr>\n",
       "      <th>55622</th>\n",
       "      <td>The German campaigns in the Balkans (spring, 1...</td>\n",
       "      <td>[George E. Blau]</td>\n",
       "      <td>NaN</td>\n",
       "      <td>[World War, 1939-1945]</td>\n",
       "      <td>1986</td>\n",
       "    </tr>\n",
       "  </tbody>\n",
       "</table>\n",
       "</div>"
      ],
      "text/plain": [
       "                                                    title  \\\n",
       "134060  Galois theory;: Lectures delivered at the Univ...   \n",
       "2306                         The Sunday Tertulia: A Novel   \n",
       "49270                                 Suddenly They're 13   \n",
       "115253  BEYOND MONSTERS AND CLOWNS. THE COMBAT SS. : D...   \n",
       "120696  Virginians at home: Family life in the eightee...   \n",
       "194758  Food Choice and Obesity in Black America: Crea...   \n",
       "10043   Lake Geneva in Vintage Postcards (WI) (Postcar...   \n",
       "16651                       Where Are You Going, Manyoni?   \n",
       "61146                    Twenty One Days to a Trained Dog   \n",
       "55622   The German campaigns in the Balkans (spring, 1...   \n",
       "\n",
       "                                             authors  \\\n",
       "134060                                  [Emil Artin]   \n",
       "2306                            [Lori Marie Carlson]   \n",
       "49270                        [David and Claudia Arp]   \n",
       "115253                              [Karl H. Theile]   \n",
       "120696                         [Edmund Sears Morgan]   \n",
       "194758                              [Eric J. Bailey]   \n",
       "10043   [Carolyn Hope Smeltzer, Martha Kiefer Cucco]   \n",
       "16651                              [Catherine Stock]   \n",
       "61146                 [Dick Maller, Jeffrey Feinman]   \n",
       "55622                               [George E. Blau]   \n",
       "\n",
       "                               publisher              categories  \\\n",
       "134060               Courier Corporation           [Mathematics]   \n",
       "2306                      Harper Collins               [Fiction]   \n",
       "49270                          Zondervan              [Religion]   \n",
       "115253          University Press of Amer               [History]   \n",
       "120696  Colonial Williamsburg Foundation               [History]   \n",
       "194758        Greenwood Publishing Group     [African Americans]   \n",
       "10043                 Arcadia Publishing               [History]   \n",
       "16651      Harpercollins Childrens Books      [Juvenile Fiction]   \n",
       "61146                 Simon and Schuster                  [Pets]   \n",
       "55622                                NaN  [World War, 1939-1945]   \n",
       "\n",
       "        published_year  \n",
       "134060            2012  \n",
       "2306              2009  \n",
       "49270             2010  \n",
       "115253            1997  \n",
       "120696            1952  \n",
       "194758            2006  \n",
       "10043             2005  \n",
       "16651             1993  \n",
       "61146             1979  \n",
       "55622             1986  "
      ]
     },
     "execution_count": 28,
     "metadata": {},
     "output_type": "execute_result"
    }
   ],
   "source": [
    "df_data_processed.sample(10, random_state=20)"
   ]
  },
  {
   "cell_type": "code",
   "execution_count": 29,
   "metadata": {},
   "outputs": [
    {
     "data": {
      "text/html": [
       "<div>\n",
       "<style scoped>\n",
       "    .dataframe tbody tr th:only-of-type {\n",
       "        vertical-align: middle;\n",
       "    }\n",
       "\n",
       "    .dataframe tbody tr th {\n",
       "        vertical-align: top;\n",
       "    }\n",
       "\n",
       "    .dataframe thead th {\n",
       "        text-align: right;\n",
       "    }\n",
       "</style>\n",
       "<table border=\"1\" class=\"dataframe\">\n",
       "  <thead>\n",
       "    <tr style=\"text-align: right;\">\n",
       "      <th></th>\n",
       "      <th>title</th>\n",
       "      <th>helpfulness</th>\n",
       "      <th>review</th>\n",
       "      <th>review_time</th>\n",
       "      <th>text</th>\n",
       "    </tr>\n",
       "  </thead>\n",
       "  <tbody>\n",
       "    <tr>\n",
       "      <th>111119</th>\n",
       "      <td>Persuasion (World's Classics)</td>\n",
       "      <td>1/1</td>\n",
       "      <td>5.0</td>\n",
       "      <td>1359072000</td>\n",
       "      <td>I have read this book over and over. It is bea...</td>\n",
       "    </tr>\n",
       "    <tr>\n",
       "      <th>19415</th>\n",
       "      <td>Choices in Relationships: An Introduction to M...</td>\n",
       "      <td>0/3</td>\n",
       "      <td>5.0</td>\n",
       "      <td>1035244800</td>\n",
       "      <td>Personally, I feel that if you're going to wri...</td>\n",
       "    </tr>\n",
       "    <tr>\n",
       "      <th>1926911</th>\n",
       "      <td>The Hound of the Baskervilles</td>\n",
       "      <td>0/0</td>\n",
       "      <td>4.0</td>\n",
       "      <td>1354492800</td>\n",
       "      <td>I have the Kindle software on several of my co...</td>\n",
       "    </tr>\n",
       "    <tr>\n",
       "      <th>492653</th>\n",
       "      <td>Tilting the Balance (Worldwar Series, Volume 2)</td>\n",
       "      <td>0/0</td>\n",
       "      <td>3.0</td>\n",
       "      <td>929318400</td>\n",
       "      <td>Turtledove has a great concept here but I wish...</td>\n",
       "    </tr>\n",
       "    <tr>\n",
       "      <th>2748667</th>\n",
       "      <td>The call of the wild</td>\n",
       "      <td>0/1</td>\n",
       "      <td>4.0</td>\n",
       "      <td>1077753600</td>\n",
       "      <td>Jack London's book \"The Call of the Wild,\" is ...</td>\n",
       "    </tr>\n",
       "  </tbody>\n",
       "</table>\n",
       "</div>"
      ],
      "text/plain": [
       "                                                     title helpfulness  \\\n",
       "111119                       Persuasion (World's Classics)         1/1   \n",
       "19415    Choices in Relationships: An Introduction to M...         0/3   \n",
       "1926911                      The Hound of the Baskervilles         0/0   \n",
       "492653     Tilting the Balance (Worldwar Series, Volume 2)         0/0   \n",
       "2748667                               The call of the wild         0/1   \n",
       "\n",
       "         review  review_time  \\\n",
       "111119      5.0   1359072000   \n",
       "19415       5.0   1035244800   \n",
       "1926911     4.0   1354492800   \n",
       "492653      3.0    929318400   \n",
       "2748667     4.0   1077753600   \n",
       "\n",
       "                                                      text  \n",
       "111119   I have read this book over and over. It is bea...  \n",
       "19415    Personally, I feel that if you're going to wri...  \n",
       "1926911  I have the Kindle software on several of my co...  \n",
       "492653   Turtledove has a great concept here but I wish...  \n",
       "2748667  Jack London's book \"The Call of the Wild,\" is ...  "
      ]
     },
     "execution_count": 29,
     "metadata": {},
     "output_type": "execute_result"
    }
   ],
   "source": [
    "df_rating_processed.sample(5)"
   ]
  },
  {
   "cell_type": "code",
   "execution_count": 30,
   "metadata": {},
   "outputs": [],
   "source": [
    "# CLEANING DATA FOR REVIEWS DATASET\n",
    "df_rating_processed['review_year'] = df_rating_processed['review_time'].apply(lambda x: datetime.utcfromtimestamp(x).year)\n",
    "\n",
    "df_rating_processed = df_rating_processed.drop(['review_time'], axis=1)"
   ]
  },
  {
   "cell_type": "code",
   "execution_count": 31,
   "metadata": {},
   "outputs": [
    {
     "data": {
      "text/html": [
       "<div>\n",
       "<style scoped>\n",
       "    .dataframe tbody tr th:only-of-type {\n",
       "        vertical-align: middle;\n",
       "    }\n",
       "\n",
       "    .dataframe tbody tr th {\n",
       "        vertical-align: top;\n",
       "    }\n",
       "\n",
       "    .dataframe thead th {\n",
       "        text-align: right;\n",
       "    }\n",
       "</style>\n",
       "<table border=\"1\" class=\"dataframe\">\n",
       "  <thead>\n",
       "    <tr style=\"text-align: right;\">\n",
       "      <th></th>\n",
       "      <th>title</th>\n",
       "      <th>helpfulness</th>\n",
       "      <th>review</th>\n",
       "      <th>text</th>\n",
       "      <th>review_year</th>\n",
       "    </tr>\n",
       "  </thead>\n",
       "  <tbody>\n",
       "    <tr>\n",
       "      <th>663890</th>\n",
       "      <td>Secrets of a Small Town</td>\n",
       "      <td>2/2</td>\n",
       "      <td>3.0</td>\n",
       "      <td>It sounds like this book suffers from a market...</td>\n",
       "      <td>2012</td>\n",
       "    </tr>\n",
       "    <tr>\n",
       "      <th>2807351</th>\n",
       "      <td>Some Like It Hot: An A-List Novel (A-List # 6)</td>\n",
       "      <td>1/1</td>\n",
       "      <td>4.0</td>\n",
       "      <td>It's that time of year... prom!!!Anna and Ben ...</td>\n",
       "      <td>2006</td>\n",
       "    </tr>\n",
       "    <tr>\n",
       "      <th>1580240</th>\n",
       "      <td>Powerlifting</td>\n",
       "      <td>31/34</td>\n",
       "      <td>1.0</td>\n",
       "      <td>who is barney groves??????........and who are ...</td>\n",
       "      <td>2001</td>\n",
       "    </tr>\n",
       "    <tr>\n",
       "      <th>627806</th>\n",
       "      <td>KJV/Amplified Parallel Bible, Large Print (Kin...</td>\n",
       "      <td>0/0</td>\n",
       "      <td>5.0</td>\n",
       "      <td>I purchased this as a gift for my father. Afte...</td>\n",
       "      <td>2010</td>\n",
       "    </tr>\n",
       "    <tr>\n",
       "      <th>1706200</th>\n",
       "      <td>The Report on Unidentified Flying Objects (Ace...</td>\n",
       "      <td>0/1</td>\n",
       "      <td>3.0</td>\n",
       "      <td>If you are deeply into the world of alien visi...</td>\n",
       "      <td>2012</td>\n",
       "    </tr>\n",
       "    <tr>\n",
       "      <th>2375151</th>\n",
       "      <td>The Book of Useless Information</td>\n",
       "      <td>1/1</td>\n",
       "      <td>1.0</td>\n",
       "      <td>I enjoyed this book, especially the informatio...</td>\n",
       "      <td>2009</td>\n",
       "    </tr>\n",
       "    <tr>\n",
       "      <th>78947</th>\n",
       "      <td>The Bible (1901 American Standard Version)</td>\n",
       "      <td>7/7</td>\n",
       "      <td>5.0</td>\n",
       "      <td>I read the comment by the reviewer from Montgo...</td>\n",
       "      <td>1999</td>\n",
       "    </tr>\n",
       "    <tr>\n",
       "      <th>2692118</th>\n",
       "      <td>Evangelical Theology, an Introduction</td>\n",
       "      <td>18/19</td>\n",
       "      <td>5.0</td>\n",
       "      <td>In this series of lectures, Barth outlines wha...</td>\n",
       "      <td>2005</td>\n",
       "    </tr>\n",
       "    <tr>\n",
       "      <th>1028402</th>\n",
       "      <td>How to Prepare for the McAt: Medical College A...</td>\n",
       "      <td>1/1</td>\n",
       "      <td>1.0</td>\n",
       "      <td>This books is USELESS! no review book will ade...</td>\n",
       "      <td>1999</td>\n",
       "    </tr>\n",
       "    <tr>\n",
       "      <th>2020569</th>\n",
       "      <td>Slaughter-House Five</td>\n",
       "      <td>0/1</td>\n",
       "      <td>5.0</td>\n",
       "      <td>My only complaint about this book is that it w...</td>\n",
       "      <td>2001</td>\n",
       "    </tr>\n",
       "  </tbody>\n",
       "</table>\n",
       "</div>"
      ],
      "text/plain": [
       "                                                     title helpfulness  \\\n",
       "663890                             Secrets of a Small Town         2/2   \n",
       "2807351     Some Like It Hot: An A-List Novel (A-List # 6)         1/1   \n",
       "1580240                                       Powerlifting       31/34   \n",
       "627806   KJV/Amplified Parallel Bible, Large Print (Kin...         0/0   \n",
       "1706200  The Report on Unidentified Flying Objects (Ace...         0/1   \n",
       "2375151                    The Book of Useless Information         1/1   \n",
       "78947           The Bible (1901 American Standard Version)         7/7   \n",
       "2692118              Evangelical Theology, an Introduction       18/19   \n",
       "1028402  How to Prepare for the McAt: Medical College A...         1/1   \n",
       "2020569                               Slaughter-House Five         0/1   \n",
       "\n",
       "         review                                               text  \\\n",
       "663890      3.0  It sounds like this book suffers from a market...   \n",
       "2807351     4.0  It's that time of year... prom!!!Anna and Ben ...   \n",
       "1580240     1.0  who is barney groves??????........and who are ...   \n",
       "627806      5.0  I purchased this as a gift for my father. Afte...   \n",
       "1706200     3.0  If you are deeply into the world of alien visi...   \n",
       "2375151     1.0  I enjoyed this book, especially the informatio...   \n",
       "78947       5.0  I read the comment by the reviewer from Montgo...   \n",
       "2692118     5.0  In this series of lectures, Barth outlines wha...   \n",
       "1028402     1.0  This books is USELESS! no review book will ade...   \n",
       "2020569     5.0  My only complaint about this book is that it w...   \n",
       "\n",
       "         review_year  \n",
       "663890          2012  \n",
       "2807351         2006  \n",
       "1580240         2001  \n",
       "627806          2010  \n",
       "1706200         2012  \n",
       "2375151         2009  \n",
       "78947           1999  \n",
       "2692118         2005  \n",
       "1028402         1999  \n",
       "2020569         2001  "
      ]
     },
     "execution_count": 31,
     "metadata": {},
     "output_type": "execute_result"
    }
   ],
   "source": [
    "df_rating_processed.sample(10)"
   ]
  },
  {
   "cell_type": "code",
   "execution_count": 32,
   "metadata": {},
   "outputs": [],
   "source": [
    "#Changing helpfulness to a porcentual value\n",
    "def get_helpfulness_as_porcentual_value_0(x):\n",
    "    if  x == '0/0':\n",
    "        return 0\n",
    "    elif x.split('/')[0] == '0':\n",
    "        return 0\n",
    "    else:\n",
    "        dividend = int(x.split('/')[0])\n",
    "        divisor = int(x.split('/')[1])\n",
    "        return dividend/divisor\n",
    "    \n",
    "def get_helpfulness_as_porcentual_value_1(x):\n",
    "    if  x == '0/0':\n",
    "        return 1\n",
    "    elif x.split('/')[0] == '0':\n",
    "        return 0\n",
    "    else:\n",
    "        dividend = int(x.split('/')[0])\n",
    "        divisor = int(x.split('/')[1])\n",
    "        return dividend/divisor"
   ]
  },
  {
   "cell_type": "code",
   "execution_count": 33,
   "metadata": {},
   "outputs": [],
   "source": [
    "df_rating_processed['helpfulness_0'] = df_rating_processed['helpfulness'].apply(lambda x: get_helpfulness_as_porcentual_value_0(x))\n",
    "df_rating_processed['helpfulness_1'] = df_rating_processed['helpfulness'].apply(lambda x: get_helpfulness_as_porcentual_value_1(x))\n",
    "df_rating_processed = df_rating_processed.drop(['helpfulness'], axis=1)"
   ]
  },
  {
   "cell_type": "code",
   "execution_count": 34,
   "metadata": {},
   "outputs": [
    {
     "data": {
      "text/html": [
       "<div>\n",
       "<style scoped>\n",
       "    .dataframe tbody tr th:only-of-type {\n",
       "        vertical-align: middle;\n",
       "    }\n",
       "\n",
       "    .dataframe tbody tr th {\n",
       "        vertical-align: top;\n",
       "    }\n",
       "\n",
       "    .dataframe thead th {\n",
       "        text-align: right;\n",
       "    }\n",
       "</style>\n",
       "<table border=\"1\" class=\"dataframe\">\n",
       "  <thead>\n",
       "    <tr style=\"text-align: right;\">\n",
       "      <th></th>\n",
       "      <th>title</th>\n",
       "      <th>review</th>\n",
       "      <th>text</th>\n",
       "      <th>review_year</th>\n",
       "      <th>helpfulness_0</th>\n",
       "      <th>helpfulness_1</th>\n",
       "    </tr>\n",
       "  </thead>\n",
       "  <tbody>\n",
       "    <tr>\n",
       "      <th>1349703</th>\n",
       "      <td>Ferrets For Dummies (For Dummies (Computer/Tech))</td>\n",
       "      <td>4.0</td>\n",
       "      <td>I'm seriously considering getting a ferret, an...</td>\n",
       "      <td>2003</td>\n",
       "      <td>0.750000</td>\n",
       "      <td>0.750000</td>\n",
       "    </tr>\n",
       "    <tr>\n",
       "      <th>1200062</th>\n",
       "      <td>The Lion's Game</td>\n",
       "      <td>5.0</td>\n",
       "      <td>Nelson DeMille clearly displays in this book t...</td>\n",
       "      <td>2000</td>\n",
       "      <td>0.000000</td>\n",
       "      <td>1.000000</td>\n",
       "    </tr>\n",
       "    <tr>\n",
       "      <th>1230188</th>\n",
       "      <td>The Curse Of Chalion</td>\n",
       "      <td>5.0</td>\n",
       "      <td>Lois McMaster Bujold has long been esteemed in...</td>\n",
       "      <td>2008</td>\n",
       "      <td>1.000000</td>\n",
       "      <td>1.000000</td>\n",
       "    </tr>\n",
       "    <tr>\n",
       "      <th>1825301</th>\n",
       "      <td>Death Be Not Proud: A Memoir</td>\n",
       "      <td>5.0</td>\n",
       "      <td>Journalist John Gunther Sr. (1901-1970) must h...</td>\n",
       "      <td>2011</td>\n",
       "      <td>0.000000</td>\n",
       "      <td>1.000000</td>\n",
       "    </tr>\n",
       "    <tr>\n",
       "      <th>2989829</th>\n",
       "      <td>Soul Stories</td>\n",
       "      <td>5.0</td>\n",
       "      <td>This book is unusually effective in raising sp...</td>\n",
       "      <td>2000</td>\n",
       "      <td>0.937500</td>\n",
       "      <td>0.937500</td>\n",
       "    </tr>\n",
       "    <tr>\n",
       "      <th>1834399</th>\n",
       "      <td>Bone Black Memories of Girlhood</td>\n",
       "      <td>4.0</td>\n",
       "      <td>I really enjoyed this book. While some were pu...</td>\n",
       "      <td>2012</td>\n",
       "      <td>0.000000</td>\n",
       "      <td>1.000000</td>\n",
       "    </tr>\n",
       "    <tr>\n",
       "      <th>298661</th>\n",
       "      <td>Ranger Born</td>\n",
       "      <td>5.0</td>\n",
       "      <td>With all the `Band of Brothers' hoopla last ye...</td>\n",
       "      <td>2002</td>\n",
       "      <td>0.909091</td>\n",
       "      <td>0.909091</td>\n",
       "    </tr>\n",
       "    <tr>\n",
       "      <th>2062443</th>\n",
       "      <td>Beverly Clark's Book Of Wedding Cakes (Beverly...</td>\n",
       "      <td>3.0</td>\n",
       "      <td>I would have liked to have known that Beverly ...</td>\n",
       "      <td>2000</td>\n",
       "      <td>0.976190</td>\n",
       "      <td>0.976190</td>\n",
       "    </tr>\n",
       "    <tr>\n",
       "      <th>1648529</th>\n",
       "      <td>Wuthering Heights (Signet classics)</td>\n",
       "      <td>5.0</td>\n",
       "      <td>Once required reading for many English classes...</td>\n",
       "      <td>2012</td>\n",
       "      <td>1.000000</td>\n",
       "      <td>1.000000</td>\n",
       "    </tr>\n",
       "    <tr>\n",
       "      <th>1675728</th>\n",
       "      <td>The War of the End of the World</td>\n",
       "      <td>5.0</td>\n",
       "      <td>This guy can write! I can only suppose that it...</td>\n",
       "      <td>2012</td>\n",
       "      <td>0.000000</td>\n",
       "      <td>1.000000</td>\n",
       "    </tr>\n",
       "  </tbody>\n",
       "</table>\n",
       "</div>"
      ],
      "text/plain": [
       "                                                     title  review  \\\n",
       "1349703  Ferrets For Dummies (For Dummies (Computer/Tech))     4.0   \n",
       "1200062                                    The Lion's Game     5.0   \n",
       "1230188                               The Curse Of Chalion     5.0   \n",
       "1825301                       Death Be Not Proud: A Memoir     5.0   \n",
       "2989829                                       Soul Stories     5.0   \n",
       "1834399                    Bone Black Memories of Girlhood     4.0   \n",
       "298661                                         Ranger Born     5.0   \n",
       "2062443  Beverly Clark's Book Of Wedding Cakes (Beverly...     3.0   \n",
       "1648529                Wuthering Heights (Signet classics)     5.0   \n",
       "1675728                    The War of the End of the World     5.0   \n",
       "\n",
       "                                                      text  review_year  \\\n",
       "1349703  I'm seriously considering getting a ferret, an...         2003   \n",
       "1200062  Nelson DeMille clearly displays in this book t...         2000   \n",
       "1230188  Lois McMaster Bujold has long been esteemed in...         2008   \n",
       "1825301  Journalist John Gunther Sr. (1901-1970) must h...         2011   \n",
       "2989829  This book is unusually effective in raising sp...         2000   \n",
       "1834399  I really enjoyed this book. While some were pu...         2012   \n",
       "298661   With all the `Band of Brothers' hoopla last ye...         2002   \n",
       "2062443  I would have liked to have known that Beverly ...         2000   \n",
       "1648529  Once required reading for many English classes...         2012   \n",
       "1675728  This guy can write! I can only suppose that it...         2012   \n",
       "\n",
       "         helpfulness_0  helpfulness_1  \n",
       "1349703       0.750000       0.750000  \n",
       "1200062       0.000000       1.000000  \n",
       "1230188       1.000000       1.000000  \n",
       "1825301       0.000000       1.000000  \n",
       "2989829       0.937500       0.937500  \n",
       "1834399       0.000000       1.000000  \n",
       "298661        0.909091       0.909091  \n",
       "2062443       0.976190       0.976190  \n",
       "1648529       1.000000       1.000000  \n",
       "1675728       0.000000       1.000000  "
      ]
     },
     "execution_count": 34,
     "metadata": {},
     "output_type": "execute_result"
    }
   ],
   "source": [
    "df_rating_processed.sample(10)"
   ]
  },
  {
   "cell_type": "code",
   "execution_count": 35,
   "metadata": {},
   "outputs": [
    {
     "name": "stdout",
     "output_type": "stream",
     "text": [
      "<class 'pandas.core.frame.DataFrame'>\n",
      "RangeIndex: 2666314 entries, 0 to 2666313\n",
      "Data columns (total 10 columns):\n",
      " #   Column          Dtype  \n",
      "---  ------          -----  \n",
      " 0   title           object \n",
      " 1   review          float64\n",
      " 2   text            object \n",
      " 3   review_year     int64  \n",
      " 4   helpfulness_0   float64\n",
      " 5   helpfulness_1   float64\n",
      " 6   authors         object \n",
      " 7   publisher       object \n",
      " 8   categories      object \n",
      " 9   published_year  int64  \n",
      "dtypes: float64(3), int64(2), object(5)\n",
      "memory usage: 203.4+ MB\n"
     ]
    }
   ],
   "source": [
    "#Merge The Two Datasets.\n",
    "df_all_data_processed = pd.merge(df_rating_processed, df_data_processed, on='title', how='inner')\n",
    "df_all_data_processed.info()"
   ]
  },
  {
   "cell_type": "markdown",
   "metadata": {},
   "source": [
    "Title Feature Removal: This feature is unique for each book. And it is extremly correlated with Authors. As the same \n",
    "        book Title will always have the same author. So, authors feature is kept and Title is removed."
   ]
  },
  {
   "cell_type": "code",
   "execution_count": 36,
   "metadata": {},
   "outputs": [],
   "source": [
    "df_all_data_processed = df_all_data_processed.drop(['title'], axis=1)"
   ]
  },
  {
   "cell_type": "code",
   "execution_count": 37,
   "metadata": {},
   "outputs": [
    {
     "data": {
      "text/html": [
       "<div>\n",
       "<style scoped>\n",
       "    .dataframe tbody tr th:only-of-type {\n",
       "        vertical-align: middle;\n",
       "    }\n",
       "\n",
       "    .dataframe tbody tr th {\n",
       "        vertical-align: top;\n",
       "    }\n",
       "\n",
       "    .dataframe thead th {\n",
       "        text-align: right;\n",
       "    }\n",
       "</style>\n",
       "<table border=\"1\" class=\"dataframe\">\n",
       "  <thead>\n",
       "    <tr style=\"text-align: right;\">\n",
       "      <th></th>\n",
       "      <th>review</th>\n",
       "      <th>text</th>\n",
       "      <th>review_year</th>\n",
       "      <th>helpfulness_0</th>\n",
       "      <th>helpfulness_1</th>\n",
       "      <th>authors</th>\n",
       "      <th>publisher</th>\n",
       "      <th>categories</th>\n",
       "      <th>published_year</th>\n",
       "    </tr>\n",
       "  </thead>\n",
       "  <tbody>\n",
       "    <tr>\n",
       "      <th>411155</th>\n",
       "      <td>5.0</td>\n",
       "      <td>This book is very witty. I very much liked the...</td>\n",
       "      <td>2008</td>\n",
       "      <td>0.00000</td>\n",
       "      <td>1.00000</td>\n",
       "      <td>[Heidi Raykeil]</td>\n",
       "      <td>Seal Press</td>\n",
       "      <td>[Family &amp; Relationships]</td>\n",
       "      <td>2010</td>\n",
       "    </tr>\n",
       "    <tr>\n",
       "      <th>1814330</th>\n",
       "      <td>5.0</td>\n",
       "      <td>THis book is utterly amazing I DO NOT have thi...</td>\n",
       "      <td>2012</td>\n",
       "      <td>0.00000</td>\n",
       "      <td>1.00000</td>\n",
       "      <td>[John Flanagan]</td>\n",
       "      <td>Penguin</td>\n",
       "      <td>[Juvenile Fiction]</td>\n",
       "      <td>2006</td>\n",
       "    </tr>\n",
       "    <tr>\n",
       "      <th>1349392</th>\n",
       "      <td>4.0</td>\n",
       "      <td>I've taught college level logic courses, and I...</td>\n",
       "      <td>2000</td>\n",
       "      <td>1.00000</td>\n",
       "      <td>1.00000</td>\n",
       "      <td>[Willard Van Orman Quine]</td>\n",
       "      <td>NaN</td>\n",
       "      <td>NaN</td>\n",
       "      <td>1960</td>\n",
       "    </tr>\n",
       "    <tr>\n",
       "      <th>501789</th>\n",
       "      <td>4.0</td>\n",
       "      <td>I found this book extremely interesting, and i...</td>\n",
       "      <td>2000</td>\n",
       "      <td>1.00000</td>\n",
       "      <td>1.00000</td>\n",
       "      <td>[Jane Austen]</td>\n",
       "      <td>Penguin Classics</td>\n",
       "      <td>[FICTION]</td>\n",
       "      <td>2015</td>\n",
       "    </tr>\n",
       "    <tr>\n",
       "      <th>560507</th>\n",
       "      <td>5.0</td>\n",
       "      <td>I purchased these for gifts for some wonderful...</td>\n",
       "      <td>2012</td>\n",
       "      <td>0.00000</td>\n",
       "      <td>1.00000</td>\n",
       "      <td>[J. R. R. Tolkien]</td>\n",
       "      <td>Mariner Books</td>\n",
       "      <td>[Juvenile Fiction]</td>\n",
       "      <td>2012</td>\n",
       "    </tr>\n",
       "    <tr>\n",
       "      <th>2034680</th>\n",
       "      <td>5.0</td>\n",
       "      <td>Great marketing book...this coming from a Mark...</td>\n",
       "      <td>2007</td>\n",
       "      <td>0.60000</td>\n",
       "      <td>0.60000</td>\n",
       "      <td>[Malcolm Gladwell]</td>\n",
       "      <td>Wheeler Publishing, Incorporated</td>\n",
       "      <td>[Reference]</td>\n",
       "      <td>2003</td>\n",
       "    </tr>\n",
       "    <tr>\n",
       "      <th>1212822</th>\n",
       "      <td>1.0</td>\n",
       "      <td>Informed by warmed-over Social Darwinism, SAID...</td>\n",
       "      <td>2000</td>\n",
       "      <td>0.40404</td>\n",
       "      <td>0.40404</td>\n",
       "      <td>[Kevin MacDonald]</td>\n",
       "      <td>NaN</td>\n",
       "      <td>[History]</td>\n",
       "      <td>2003</td>\n",
       "    </tr>\n",
       "    <tr>\n",
       "      <th>1501359</th>\n",
       "      <td>5.0</td>\n",
       "      <td>The Babylonians were unbelievably advanced, an...</td>\n",
       "      <td>2011</td>\n",
       "      <td>1.00000</td>\n",
       "      <td>1.00000</td>\n",
       "      <td>[George Clason]</td>\n",
       "      <td>Createspace Independent Publishing Platform</td>\n",
       "      <td>NaN</td>\n",
       "      <td>2015</td>\n",
       "    </tr>\n",
       "    <tr>\n",
       "      <th>900550</th>\n",
       "      <td>5.0</td>\n",
       "      <td>I highly recommend to read this novel Hucklebe...</td>\n",
       "      <td>2012</td>\n",
       "      <td>1.00000</td>\n",
       "      <td>1.00000</td>\n",
       "      <td>[Mark Twain, Marciano Guerrero]</td>\n",
       "      <td>Createspace Independent Pub</td>\n",
       "      <td>[Fiction]</td>\n",
       "      <td>2014</td>\n",
       "    </tr>\n",
       "    <tr>\n",
       "      <th>2050803</th>\n",
       "      <td>1.0</td>\n",
       "      <td>this review is for the kindle version and is m...</td>\n",
       "      <td>2011</td>\n",
       "      <td>0.75000</td>\n",
       "      <td>0.75000</td>\n",
       "      <td>[Siegfried Sassoon]</td>\n",
       "      <td>NaN</td>\n",
       "      <td>[War poetry]</td>\n",
       "      <td>1920</td>\n",
       "    </tr>\n",
       "  </tbody>\n",
       "</table>\n",
       "</div>"
      ],
      "text/plain": [
       "         review                                               text  \\\n",
       "411155      5.0  This book is very witty. I very much liked the...   \n",
       "1814330     5.0  THis book is utterly amazing I DO NOT have thi...   \n",
       "1349392     4.0  I've taught college level logic courses, and I...   \n",
       "501789      4.0  I found this book extremely interesting, and i...   \n",
       "560507      5.0  I purchased these for gifts for some wonderful...   \n",
       "2034680     5.0  Great marketing book...this coming from a Mark...   \n",
       "1212822     1.0  Informed by warmed-over Social Darwinism, SAID...   \n",
       "1501359     5.0  The Babylonians were unbelievably advanced, an...   \n",
       "900550      5.0  I highly recommend to read this novel Hucklebe...   \n",
       "2050803     1.0  this review is for the kindle version and is m...   \n",
       "\n",
       "         review_year  helpfulness_0  helpfulness_1  \\\n",
       "411155          2008        0.00000        1.00000   \n",
       "1814330         2012        0.00000        1.00000   \n",
       "1349392         2000        1.00000        1.00000   \n",
       "501789          2000        1.00000        1.00000   \n",
       "560507          2012        0.00000        1.00000   \n",
       "2034680         2007        0.60000        0.60000   \n",
       "1212822         2000        0.40404        0.40404   \n",
       "1501359         2011        1.00000        1.00000   \n",
       "900550          2012        1.00000        1.00000   \n",
       "2050803         2011        0.75000        0.75000   \n",
       "\n",
       "                                 authors  \\\n",
       "411155                   [Heidi Raykeil]   \n",
       "1814330                  [John Flanagan]   \n",
       "1349392        [Willard Van Orman Quine]   \n",
       "501789                     [Jane Austen]   \n",
       "560507                [J. R. R. Tolkien]   \n",
       "2034680               [Malcolm Gladwell]   \n",
       "1212822                [Kevin MacDonald]   \n",
       "1501359                  [George Clason]   \n",
       "900550   [Mark Twain, Marciano Guerrero]   \n",
       "2050803              [Siegfried Sassoon]   \n",
       "\n",
       "                                           publisher  \\\n",
       "411155                                    Seal Press   \n",
       "1814330                                      Penguin   \n",
       "1349392                                          NaN   \n",
       "501789                              Penguin Classics   \n",
       "560507                                 Mariner Books   \n",
       "2034680             Wheeler Publishing, Incorporated   \n",
       "1212822                                          NaN   \n",
       "1501359  Createspace Independent Publishing Platform   \n",
       "900550                   Createspace Independent Pub   \n",
       "2050803                                          NaN   \n",
       "\n",
       "                       categories  published_year  \n",
       "411155   [Family & Relationships]            2010  \n",
       "1814330        [Juvenile Fiction]            2006  \n",
       "1349392                       NaN            1960  \n",
       "501789                  [FICTION]            2015  \n",
       "560507         [Juvenile Fiction]            2012  \n",
       "2034680               [Reference]            2003  \n",
       "1212822                 [History]            2003  \n",
       "1501359                       NaN            2015  \n",
       "900550                  [Fiction]            2014  \n",
       "2050803              [War poetry]            1920  "
      ]
     },
     "execution_count": 37,
     "metadata": {},
     "output_type": "execute_result"
    }
   ],
   "source": [
    "df_all_data_processed.sample(10)"
   ]
  },
  {
   "cell_type": "code",
   "execution_count": 38,
   "metadata": {},
   "outputs": [],
   "source": [
    "#FIXME\n",
    "# Primero Aplico al Dataset Original acoto por los años que voy a tomar\n",
    "# Sobre ese valor calculo el dataset.\n",
    "# Hago el train test split sobre el sample aplico el EDA."
   ]
  },
  {
   "cell_type": "markdown",
   "metadata": {},
   "source": [
    "## Dataset Filtering and Sampling"
   ]
  },
  {
   "cell_type": "markdown",
   "metadata": {},
   "source": [
    "### Filtering\n",
    "\n",
    "The hypotesis of the current analysis is predicting the review score of the review, based on the review and book information contained on this dataset.\n",
    "\n",
    "Published Year: Amazon \n",
    "Review Year: The Scope is reduced to reviews performed from 2010 and until 2014, based on the tools (web browsers, access to internet, culture, digitalization) available during the last decade of the reviews available."
   ]
  },
  {
   "cell_type": "code",
   "execution_count": 39,
   "metadata": {},
   "outputs": [
    {
     "data": {
      "text/plain": [
       "count    2.666314e+06\n",
       "mean     2.005394e+03\n",
       "std      4.747336e+00\n",
       "min      1.969000e+03\n",
       "25%      2.001000e+03\n",
       "50%      2.005000e+03\n",
       "75%      2.010000e+03\n",
       "max      2.013000e+03\n",
       "Name: review_year, dtype: float64"
      ]
     },
     "execution_count": 39,
     "metadata": {},
     "output_type": "execute_result"
    }
   ],
   "source": [
    "df_all_data_processed['review_year'].describe().T"
   ]
  },
  {
   "cell_type": "code",
   "execution_count": 40,
   "metadata": {},
   "outputs": [
    {
     "data": {
      "image/png": "[encoded data removed]",
      "text/plain": [
       "<Figure size 640x480 with 1 Axes>"
      ]
     },
     "metadata": {},
     "output_type": "display_data"
    }
   ],
   "source": [
    "df_all_data_processed['review_year'].hist(bins=30)\n",
    "plt.show()"
   ]
  },
  {
   "cell_type": "code",
   "execution_count": 41,
   "metadata": {},
   "outputs": [],
   "source": [
    "df_all_data_processed = df_all_data_processed[df_all_data_processed['review_year']>=2010]"
   ]
  },
  {
   "cell_type": "code",
   "execution_count": 42,
   "metadata": {},
   "outputs": [],
   "source": [
    "df_all_data_processed.reset_index(drop=True, inplace=True)"
   ]
  },
  {
   "cell_type": "code",
   "execution_count": 43,
   "metadata": {},
   "outputs": [
    {
     "name": "stdout",
     "output_type": "stream",
     "text": [
      "<class 'pandas.core.frame.DataFrame'>\n",
      "RangeIndex: 699531 entries, 0 to 699530\n",
      "Data columns (total 9 columns):\n",
      " #   Column          Non-Null Count   Dtype  \n",
      "---  ------          --------------   -----  \n",
      " 0   review          699531 non-null  float64\n",
      " 1   text            699531 non-null  object \n",
      " 2   review_year     699531 non-null  int64  \n",
      " 3   helpfulness_0   699531 non-null  float64\n",
      " 4   helpfulness_1   699531 non-null  float64\n",
      " 5   authors         685500 non-null  object \n",
      " 6   publisher       567890 non-null  object \n",
      " 7   categories      629828 non-null  object \n",
      " 8   published_year  699531 non-null  int64  \n",
      "dtypes: float64(3), int64(2), object(4)\n",
      "memory usage: 48.0+ MB\n"
     ]
    }
   ],
   "source": [
    "df_all_data_processed.info()"
   ]
  },
  {
   "cell_type": "code",
   "execution_count": 44,
   "metadata": {},
   "outputs": [
    {
     "data": {
      "image/png": "[encoded data removed]",
      "text/plain": [
       "<Figure size 640x480 with 1 Axes>"
      ]
     },
     "metadata": {},
     "output_type": "display_data"
    }
   ],
   "source": [
    "df_all_data_processed['review_year'].hist(bins=30)\n",
    "plt.show()"
   ]
  },
  {
   "cell_type": "markdown",
   "metadata": {},
   "source": [
    "Dataset is filtered by published year. Amazon Books was founded on 1995. Books published before this year are removed from the dataset. Scope is reduced to Books published during the Amazon Books Web Store existance."
   ]
  },
  {
   "cell_type": "code",
   "execution_count": 45,
   "metadata": {},
   "outputs": [],
   "source": [
    "df_all_data_processed = df_all_data_processed[(df_all_data_processed['published_year'] > 1995) & (df_all_data_processed['published_year'] <= 2013)]"
   ]
  },
  {
   "cell_type": "code",
   "execution_count": 46,
   "metadata": {},
   "outputs": [],
   "source": [
    "df_all_data_processed.reset_index(drop=True, inplace=True)"
   ]
  },
  {
   "cell_type": "code",
   "execution_count": 47,
   "metadata": {},
   "outputs": [
    {
     "name": "stdout",
     "output_type": "stream",
     "text": [
      "<class 'pandas.core.frame.DataFrame'>\n",
      "RangeIndex: 370314 entries, 0 to 370313\n",
      "Data columns (total 9 columns):\n",
      " #   Column          Non-Null Count   Dtype  \n",
      "---  ------          --------------   -----  \n",
      " 0   review          370314 non-null  float64\n",
      " 1   text            370314 non-null  object \n",
      " 2   review_year     370314 non-null  int64  \n",
      " 3   helpfulness_0   370314 non-null  float64\n",
      " 4   helpfulness_1   370314 non-null  float64\n",
      " 5   authors         364030 non-null  object \n",
      " 6   publisher       334901 non-null  object \n",
      " 7   categories      360998 non-null  object \n",
      " 8   published_year  370314 non-null  int64  \n",
      "dtypes: float64(3), int64(2), object(4)\n",
      "memory usage: 25.4+ MB\n"
     ]
    }
   ],
   "source": [
    "df_all_data_processed.info()"
   ]
  },
  {
   "cell_type": "code",
   "execution_count": 48,
   "metadata": {},
   "outputs": [
    {
     "data": {
      "image/png": "[encoded data removed]",
      "text/plain": [
       "<Figure size 640x480 with 1 Axes>"
      ]
     },
     "metadata": {},
     "output_type": "display_data"
    }
   ],
   "source": [
    "df_all_data_processed['published_year'].hist(bins=30)\n",
    "plt.show()"
   ]
  },
  {
   "cell_type": "code",
   "execution_count": 49,
   "metadata": {},
   "outputs": [
    {
     "name": "stdout",
     "output_type": "stream",
     "text": [
      "<class 'pandas.core.frame.DataFrame'>\n",
      "RangeIndex: 333981 entries, 0 to 333980\n",
      "Data columns (total 9 columns):\n",
      " #   Column          Non-Null Count   Dtype  \n",
      "---  ------          --------------   -----  \n",
      " 0   review          333981 non-null  float64\n",
      " 1   text            333981 non-null  object \n",
      " 2   review_year     333981 non-null  int64  \n",
      " 3   helpfulness_0   333981 non-null  float64\n",
      " 4   helpfulness_1   333981 non-null  float64\n",
      " 5   authors         327851 non-null  object \n",
      " 6   publisher       301935 non-null  object \n",
      " 7   categories      326309 non-null  object \n",
      " 8   published_year  333981 non-null  int64  \n",
      "dtypes: float64(3), int64(2), object(4)\n",
      "memory usage: 22.9+ MB\n"
     ]
    }
   ],
   "source": [
    "df_all_data_processed = df_all_data_processed[df_all_data_processed['review_year'] >= df_all_data_processed['published_year']]\n",
    "df_all_data_processed.reset_index(drop=True, inplace=True)\n",
    "df_all_data_processed.info()"
   ]
  },
  {
   "cell_type": "code",
   "execution_count": 50,
   "metadata": {},
   "outputs": [
    {
     "data": {
      "image/png": "[encoded data removed]",
      "text/plain": [
       "<Figure size 640x480 with 1 Axes>"
      ]
     },
     "metadata": {},
     "output_type": "display_data"
    }
   ],
   "source": [
    "df_all_data_processed['published_year'].hist(bins=30)\n",
    "plt.show()"
   ]
  },
  {
   "cell_type": "code",
   "execution_count": 51,
   "metadata": {},
   "outputs": [
    {
     "data": {
      "image/png": "[encoded data removed]",
      "text/plain": [
       "<Figure size 640x480 with 1 Axes>"
      ]
     },
     "metadata": {},
     "output_type": "display_data"
    }
   ],
   "source": [
    "df_all_data_processed['review_year'].hist(bins=30)\n",
    "plt.show()"
   ]
  },
  {
   "cell_type": "markdown",
   "metadata": {},
   "source": [
    "### Sampling\n",
    "\n",
    "Sample Size Calculation formula from Survey Monkey (https://www.surveymonkey.com/mp/sample-size-calculator/) is used to calculate a extract a ramdom sample of the dataset.\n",
    "In order to reduce the dataset size and apply NLP to the text column.\n",
    "\n",
    "For the given formula: \n",
    "\n",
    "   $$ sample size =  \\frac{\\frac{z^2xp(1-p)}{e^2}}{1 + \\frac{z^2xp(1-p)}{e^2N}} $$\n",
    "\n",
    "with:\n",
    "- N = population size \n",
    "- e = Margin of error (percentage in decimal form) \n",
    "- z = z-score\n",
    "- p = sample proportion\n",
    "\n",
    "\n",
    "| Desired confidence level\t| z-score |\n",
    "|--------------------------|---------|\n",
    "|            80%           |   1.28  |\n",
    "|            85%\t         |   1.44  |\n",
    "|            90%\t         |   1.65  |\n",
    "|            95%\t         |   1.96  |\n",
    "|            99%\t         |   2.58  |\n",
    "\n",
    "\n",
    "Setting N = 2 666 313, e = 99% and z = 2.58\n",
    "\n",
    "sample size = 578995. \n",
    "\n",
    "A sample of **578 995** entries will be extracted from the Dataset to be processed and to train and test the model."
   ]
  },
  {
   "cell_type": "code",
   "execution_count": 52,
   "metadata": {},
   "outputs": [
    {
     "name": "stdout",
     "output_type": "stream",
     "text": [
      "Sample size is: 15851\n"
     ]
    }
   ],
   "source": [
    "N = df_all_data_processed.shape[0] - 1\n",
    "e = 0.01 #Margin of error = 0.1%\n",
    "z = 2.58 # Desired confidence level = 99%, so z-score = 2.58\n",
    "p = 0.5 #Used 0.5 as a conservative approach. It will give the largest sample size\n",
    "\n",
    "sample_size = ( ((z*z)*p*(1-p))/(e*e) )/(1 + ((z*z)*p*(1-p))/(e*e*N) )\n",
    "\n",
    "sample_size = round(sample_size)\n",
    "\n",
    "print(f'Sample size is: {sample_size}')"
   ]
  },
  {
   "cell_type": "code",
   "execution_count": 53,
   "metadata": {},
   "outputs": [],
   "source": [
    "#Extract the sample of 578995 entries from the dataset.\n",
    "df_all_data_filtered_processed = df_all_data_processed.sample(n=sample_size, random_state=2125)"
   ]
  },
  {
   "cell_type": "code",
   "execution_count": 54,
   "metadata": {},
   "outputs": [
    {
     "name": "stdout",
     "output_type": "stream",
     "text": [
      "<class 'pandas.core.frame.DataFrame'>\n",
      "RangeIndex: 15851 entries, 0 to 15850\n",
      "Data columns (total 9 columns):\n",
      " #   Column          Non-Null Count  Dtype  \n",
      "---  ------          --------------  -----  \n",
      " 0   review          15851 non-null  float64\n",
      " 1   text            15851 non-null  object \n",
      " 2   review_year     15851 non-null  int64  \n",
      " 3   helpfulness_0   15851 non-null  float64\n",
      " 4   helpfulness_1   15851 non-null  float64\n",
      " 5   authors         15564 non-null  object \n",
      " 6   publisher       14299 non-null  object \n",
      " 7   categories      15463 non-null  object \n",
      " 8   published_year  15851 non-null  int64  \n",
      "dtypes: float64(3), int64(2), object(4)\n",
      "memory usage: 1.1+ MB\n"
     ]
    }
   ],
   "source": [
    "df_all_data_filtered_processed.reset_index(drop=True, inplace=True)\n",
    "df_all_data_filtered_processed.info()"
   ]
  },
  {
   "cell_type": "code",
   "execution_count": 55,
   "metadata": {},
   "outputs": [
    {
     "data": {
      "text/plain": [
       "review\n",
       "5.0    9712\n",
       "4.0    3105\n",
       "3.0    1358\n",
       "1.0     953\n",
       "2.0     723\n",
       "Name: count, dtype: int64"
      ]
     },
     "execution_count": 55,
     "metadata": {},
     "output_type": "execute_result"
    }
   ],
   "source": [
    "df_all_data_filtered_processed['review'].value_counts()"
   ]
  },
  {
   "cell_type": "code",
   "execution_count": 56,
   "metadata": {},
   "outputs": [
    {
     "data": {
      "image/png": "[encoded data removed]",
      "text/plain": [
       "<Figure size 640x480 with 1 Axes>"
      ]
     },
     "metadata": {},
     "output_type": "display_data"
    }
   ],
   "source": [
    "df_all_data_filtered_processed['review'].hist()\n",
    "plt.show()\n",
    "#Add axes."
   ]
  },
  {
   "cell_type": "code",
   "execution_count": 57,
   "metadata": {},
   "outputs": [
    {
     "data": {
      "text/plain": [
       "review               0\n",
       "text                 0\n",
       "review_year          0\n",
       "helpfulness_0        0\n",
       "helpfulness_1        0\n",
       "authors            287\n",
       "publisher         1552\n",
       "categories         388\n",
       "published_year       0\n",
       "dtype: int64"
      ]
     },
     "execution_count": 57,
     "metadata": {},
     "output_type": "execute_result"
    }
   ],
   "source": [
    "df_all_data_filtered_processed.isna().sum()"
   ]
  },
  {
   "cell_type": "code",
   "execution_count": 58,
   "metadata": {},
   "outputs": [
    {
     "data": {
      "text/html": [
       "<div>\n",
       "<style scoped>\n",
       "    .dataframe tbody tr th:only-of-type {\n",
       "        vertical-align: middle;\n",
       "    }\n",
       "\n",
       "    .dataframe tbody tr th {\n",
       "        vertical-align: top;\n",
       "    }\n",
       "\n",
       "    .dataframe thead th {\n",
       "        text-align: right;\n",
       "    }\n",
       "</style>\n",
       "<table border=\"1\" class=\"dataframe\">\n",
       "  <thead>\n",
       "    <tr style=\"text-align: right;\">\n",
       "      <th></th>\n",
       "      <th>review</th>\n",
       "      <th>text</th>\n",
       "      <th>review_year</th>\n",
       "      <th>helpfulness_0</th>\n",
       "      <th>helpfulness_1</th>\n",
       "      <th>authors</th>\n",
       "      <th>publisher</th>\n",
       "      <th>categories</th>\n",
       "      <th>published_year</th>\n",
       "    </tr>\n",
       "  </thead>\n",
       "  <tbody>\n",
       "    <tr>\n",
       "      <th>12895</th>\n",
       "      <td>5.0</td>\n",
       "      <td>I read this novel a couple years ago and I rem...</td>\n",
       "      <td>2013</td>\n",
       "      <td>0.000</td>\n",
       "      <td>1.000</td>\n",
       "      <td>[Karleen Koen]</td>\n",
       "      <td>Sourcebooks Incorporated</td>\n",
       "      <td>[Fiction]</td>\n",
       "      <td>2003</td>\n",
       "    </tr>\n",
       "    <tr>\n",
       "      <th>13661</th>\n",
       "      <td>4.0</td>\n",
       "      <td>As a tutor of various subjects, I'm not always...</td>\n",
       "      <td>2011</td>\n",
       "      <td>0.000</td>\n",
       "      <td>1.000</td>\n",
       "      <td>[Lawrence S. Leff, Elizabeth Waite]</td>\n",
       "      <td>Barrons Educational Series</td>\n",
       "      <td>[Mathematics]</td>\n",
       "      <td>2009</td>\n",
       "    </tr>\n",
       "    <tr>\n",
       "      <th>13868</th>\n",
       "      <td>4.0</td>\n",
       "      <td>Our family loves this story. It is very funny ...</td>\n",
       "      <td>2012</td>\n",
       "      <td>0.000</td>\n",
       "      <td>1.000</td>\n",
       "      <td>[Nat Reed]</td>\n",
       "      <td>Classroom Complete Press</td>\n",
       "      <td>[Education]</td>\n",
       "      <td>2008</td>\n",
       "    </tr>\n",
       "    <tr>\n",
       "      <th>3388</th>\n",
       "      <td>5.0</td>\n",
       "      <td>The book started out a bit slow as it built ch...</td>\n",
       "      <td>2012</td>\n",
       "      <td>1.000</td>\n",
       "      <td>1.000</td>\n",
       "      <td>[Madeleine Wickham]</td>\n",
       "      <td>Random House</td>\n",
       "      <td>[Fiction]</td>\n",
       "      <td>2010</td>\n",
       "    </tr>\n",
       "    <tr>\n",
       "      <th>13478</th>\n",
       "      <td>4.0</td>\n",
       "      <td>This sequel picked up right where _Talon of th...</td>\n",
       "      <td>2010</td>\n",
       "      <td>0.000</td>\n",
       "      <td>1.000</td>\n",
       "      <td>[Raymond E. Feist]</td>\n",
       "      <td>Zondervan</td>\n",
       "      <td>[Fiction]</td>\n",
       "      <td>2009</td>\n",
       "    </tr>\n",
       "    <tr>\n",
       "      <th>4167</th>\n",
       "      <td>1.0</td>\n",
       "      <td>This edition lacks in quality, IN SPADES. It's...</td>\n",
       "      <td>2010</td>\n",
       "      <td>0.875</td>\n",
       "      <td>0.875</td>\n",
       "      <td>[by Ambrose Bierce]</td>\n",
       "      <td>Lulu.com</td>\n",
       "      <td>[Literary Collections]</td>\n",
       "      <td>2009</td>\n",
       "    </tr>\n",
       "    <tr>\n",
       "      <th>988</th>\n",
       "      <td>5.0</td>\n",
       "      <td>I am very, very impressed. This book is a real...</td>\n",
       "      <td>2011</td>\n",
       "      <td>0.000</td>\n",
       "      <td>0.000</td>\n",
       "      <td>[Laurell K. Hamilton]</td>\n",
       "      <td>Penguin</td>\n",
       "      <td>[Fiction]</td>\n",
       "      <td>2002</td>\n",
       "    </tr>\n",
       "    <tr>\n",
       "      <th>13409</th>\n",
       "      <td>4.0</td>\n",
       "      <td>Great story line. I did like this story. I tho...</td>\n",
       "      <td>2012</td>\n",
       "      <td>0.000</td>\n",
       "      <td>1.000</td>\n",
       "      <td>[Helen Bianchin, Julia James, Jane Porter, Sha...</td>\n",
       "      <td>Harlequin</td>\n",
       "      <td>[Fiction]</td>\n",
       "      <td>2008</td>\n",
       "    </tr>\n",
       "    <tr>\n",
       "      <th>8610</th>\n",
       "      <td>5.0</td>\n",
       "      <td>I found this book to lift my spiritual well be...</td>\n",
       "      <td>2011</td>\n",
       "      <td>0.000</td>\n",
       "      <td>1.000</td>\n",
       "      <td>[Iyanla Vanzant]</td>\n",
       "      <td>Simon and Schuster</td>\n",
       "      <td>[Self-Help]</td>\n",
       "      <td>2002</td>\n",
       "    </tr>\n",
       "    <tr>\n",
       "      <th>6759</th>\n",
       "      <td>5.0</td>\n",
       "      <td>Nicely written for a novice like me. In fact I...</td>\n",
       "      <td>2011</td>\n",
       "      <td>0.000</td>\n",
       "      <td>1.000</td>\n",
       "      <td>[Black Mountain Books, Dennis Pagen]</td>\n",
       "      <td>Black Mountain Books</td>\n",
       "      <td>[Aeronautical sports]</td>\n",
       "      <td>2001</td>\n",
       "    </tr>\n",
       "  </tbody>\n",
       "</table>\n",
       "</div>"
      ],
      "text/plain": [
       "       review                                               text  review_year  \\\n",
       "12895     5.0  I read this novel a couple years ago and I rem...         2013   \n",
       "13661     4.0  As a tutor of various subjects, I'm not always...         2011   \n",
       "13868     4.0  Our family loves this story. It is very funny ...         2012   \n",
       "3388      5.0  The book started out a bit slow as it built ch...         2012   \n",
       "13478     4.0  This sequel picked up right where _Talon of th...         2010   \n",
       "4167      1.0  This edition lacks in quality, IN SPADES. It's...         2010   \n",
       "988       5.0  I am very, very impressed. This book is a real...         2011   \n",
       "13409     4.0  Great story line. I did like this story. I tho...         2012   \n",
       "8610      5.0  I found this book to lift my spiritual well be...         2011   \n",
       "6759      5.0  Nicely written for a novice like me. In fact I...         2011   \n",
       "\n",
       "       helpfulness_0  helpfulness_1  \\\n",
       "12895          0.000          1.000   \n",
       "13661          0.000          1.000   \n",
       "13868          0.000          1.000   \n",
       "3388           1.000          1.000   \n",
       "13478          0.000          1.000   \n",
       "4167           0.875          0.875   \n",
       "988            0.000          0.000   \n",
       "13409          0.000          1.000   \n",
       "8610           0.000          1.000   \n",
       "6759           0.000          1.000   \n",
       "\n",
       "                                                 authors  \\\n",
       "12895                                     [Karleen Koen]   \n",
       "13661                [Lawrence S. Leff, Elizabeth Waite]   \n",
       "13868                                         [Nat Reed]   \n",
       "3388                                 [Madeleine Wickham]   \n",
       "13478                                 [Raymond E. Feist]   \n",
       "4167                                 [by Ambrose Bierce]   \n",
       "988                                [Laurell K. Hamilton]   \n",
       "13409  [Helen Bianchin, Julia James, Jane Porter, Sha...   \n",
       "8610                                    [Iyanla Vanzant]   \n",
       "6759                [Black Mountain Books, Dennis Pagen]   \n",
       "\n",
       "                        publisher              categories  published_year  \n",
       "12895    Sourcebooks Incorporated               [Fiction]            2003  \n",
       "13661  Barrons Educational Series           [Mathematics]            2009  \n",
       "13868    Classroom Complete Press             [Education]            2008  \n",
       "3388                 Random House               [Fiction]            2010  \n",
       "13478                   Zondervan               [Fiction]            2009  \n",
       "4167                     Lulu.com  [Literary Collections]            2009  \n",
       "988                       Penguin               [Fiction]            2002  \n",
       "13409                   Harlequin               [Fiction]            2008  \n",
       "8610           Simon and Schuster             [Self-Help]            2002  \n",
       "6759         Black Mountain Books   [Aeronautical sports]            2001  "
      ]
     },
     "execution_count": 58,
     "metadata": {},
     "output_type": "execute_result"
    }
   ],
   "source": [
    "df_all_data_filtered_processed.sample(10)"
   ]
  },
  {
   "cell_type": "code",
   "execution_count": 59,
   "metadata": {},
   "outputs": [
    {
     "name": "stdout",
     "output_type": "stream",
     "text": [
      "<class 'pandas.core.frame.DataFrame'>\n",
      "RangeIndex: 15425 entries, 0 to 15424\n",
      "Data columns (total 9 columns):\n",
      " #   Column          Non-Null Count  Dtype  \n",
      "---  ------          --------------  -----  \n",
      " 0   review          15425 non-null  float64\n",
      " 1   text            15425 non-null  object \n",
      " 2   review_year     15425 non-null  int64  \n",
      " 3   helpfulness_0   15425 non-null  float64\n",
      " 4   helpfulness_1   15425 non-null  float64\n",
      " 5   authors         15141 non-null  object \n",
      " 6   publisher       13896 non-null  object \n",
      " 7   categories      15039 non-null  object \n",
      " 8   published_year  15425 non-null  int64  \n",
      "dtypes: float64(3), int64(2), object(4)\n",
      "memory usage: 1.1+ MB\n"
     ]
    }
   ],
   "source": [
    "df_all_data_filtered_processed = df_all_data_filtered_processed.drop_duplicates(subset=['review', 'text'])\n",
    "df_all_data_filtered_processed.reset_index(drop=True, inplace=True)\n",
    "df_all_data_filtered_processed.info()"
   ]
  },
  {
   "cell_type": "code",
   "execution_count": 60,
   "metadata": {},
   "outputs": [
    {
     "data": {
      "text/html": [
       "<div>\n",
       "<style scoped>\n",
       "    .dataframe tbody tr th:only-of-type {\n",
       "        vertical-align: middle;\n",
       "    }\n",
       "\n",
       "    .dataframe tbody tr th {\n",
       "        vertical-align: top;\n",
       "    }\n",
       "\n",
       "    .dataframe thead th {\n",
       "        text-align: right;\n",
       "    }\n",
       "</style>\n",
       "<table border=\"1\" class=\"dataframe\">\n",
       "  <thead>\n",
       "    <tr style=\"text-align: right;\">\n",
       "      <th></th>\n",
       "      <th>review</th>\n",
       "      <th>text</th>\n",
       "      <th>review_year</th>\n",
       "      <th>helpfulness_0</th>\n",
       "      <th>helpfulness_1</th>\n",
       "      <th>authors</th>\n",
       "      <th>publisher</th>\n",
       "      <th>categories</th>\n",
       "      <th>published_year</th>\n",
       "    </tr>\n",
       "  </thead>\n",
       "  <tbody>\n",
       "    <tr>\n",
       "      <th>867</th>\n",
       "      <td>5.0</td>\n",
       "      <td>I loved this book, but I do think you have to ...</td>\n",
       "      <td>2012</td>\n",
       "      <td>0.0</td>\n",
       "      <td>1.0</td>\n",
       "      <td>[Joel Gross]</td>\n",
       "      <td>Backinprint.com</td>\n",
       "      <td>[Fiction]</td>\n",
       "      <td>2000</td>\n",
       "    </tr>\n",
       "    <tr>\n",
       "      <th>4336</th>\n",
       "      <td>3.0</td>\n",
       "      <td>This book uses false logic to reach his conclu...</td>\n",
       "      <td>2011</td>\n",
       "      <td>0.4</td>\n",
       "      <td>0.4</td>\n",
       "      <td>[Desmond Morris]</td>\n",
       "      <td>Random House</td>\n",
       "      <td>[Social Science]</td>\n",
       "      <td>2010</td>\n",
       "    </tr>\n",
       "    <tr>\n",
       "      <th>6757</th>\n",
       "      <td>5.0</td>\n",
       "      <td>I've read many pivotal books over the past 40 ...</td>\n",
       "      <td>2012</td>\n",
       "      <td>0.5</td>\n",
       "      <td>0.5</td>\n",
       "      <td>[Neale Donald Walsch]</td>\n",
       "      <td>Simon and Schuster</td>\n",
       "      <td>[Family &amp; Relationships]</td>\n",
       "      <td>2007</td>\n",
       "    </tr>\n",
       "    <tr>\n",
       "      <th>1146</th>\n",
       "      <td>5.0</td>\n",
       "      <td>CS Lewis takes a methodological and systematic...</td>\n",
       "      <td>2013</td>\n",
       "      <td>0.0</td>\n",
       "      <td>1.0</td>\n",
       "      <td>[C. S. Lewis]</td>\n",
       "      <td>Harper Collins</td>\n",
       "      <td>[Religion]</td>\n",
       "      <td>2009</td>\n",
       "    </tr>\n",
       "    <tr>\n",
       "      <th>4237</th>\n",
       "      <td>4.0</td>\n",
       "      <td>Definitely one of the best true crime books I'...</td>\n",
       "      <td>2010</td>\n",
       "      <td>1.0</td>\n",
       "      <td>1.0</td>\n",
       "      <td>[Vincent Bugliosi, Curt Gentry]</td>\n",
       "      <td>W. W. Norton &amp; Company</td>\n",
       "      <td>[True Crime]</td>\n",
       "      <td>2001</td>\n",
       "    </tr>\n",
       "    <tr>\n",
       "      <th>8626</th>\n",
       "      <td>4.0</td>\n",
       "      <td>I have been going through this with my 4 child...</td>\n",
       "      <td>2010</td>\n",
       "      <td>1.0</td>\n",
       "      <td>1.0</td>\n",
       "      <td>[Francis A. Schaeffer]</td>\n",
       "      <td>Crossway Books</td>\n",
       "      <td>[Religion]</td>\n",
       "      <td>1996</td>\n",
       "    </tr>\n",
       "    <tr>\n",
       "      <th>3553</th>\n",
       "      <td>5.0</td>\n",
       "      <td>This book was excellent; very well written and...</td>\n",
       "      <td>2013</td>\n",
       "      <td>0.0</td>\n",
       "      <td>1.0</td>\n",
       "      <td>[Emily Arnold McCully]</td>\n",
       "      <td>Farrar, Straus and Giroux (BYR)</td>\n",
       "      <td>[Juvenile Nonfiction]</td>\n",
       "      <td>2013</td>\n",
       "    </tr>\n",
       "    <tr>\n",
       "      <th>7946</th>\n",
       "      <td>5.0</td>\n",
       "      <td>This author haas never written a bad book. Rea...</td>\n",
       "      <td>2013</td>\n",
       "      <td>0.0</td>\n",
       "      <td>1.0</td>\n",
       "      <td>[Lee Child]</td>\n",
       "      <td>Random House</td>\n",
       "      <td>[Fiction]</td>\n",
       "      <td>2009</td>\n",
       "    </tr>\n",
       "    <tr>\n",
       "      <th>14450</th>\n",
       "      <td>4.0</td>\n",
       "      <td>The Picture of Dorian Gray is not just a book,...</td>\n",
       "      <td>2012</td>\n",
       "      <td>1.0</td>\n",
       "      <td>1.0</td>\n",
       "      <td>NaN</td>\n",
       "      <td>NaN</td>\n",
       "      <td>[Audiobooks]</td>\n",
       "      <td>2000</td>\n",
       "    </tr>\n",
       "    <tr>\n",
       "      <th>9609</th>\n",
       "      <td>5.0</td>\n",
       "      <td>This is another awesome book that just helps t...</td>\n",
       "      <td>2013</td>\n",
       "      <td>0.0</td>\n",
       "      <td>1.0</td>\n",
       "      <td>[Mary Reed]</td>\n",
       "      <td>Falcon Guides</td>\n",
       "      <td>[Sports &amp; Recreation]</td>\n",
       "      <td>2003</td>\n",
       "    </tr>\n",
       "  </tbody>\n",
       "</table>\n",
       "</div>"
      ],
      "text/plain": [
       "       review                                               text  review_year  \\\n",
       "867       5.0  I loved this book, but I do think you have to ...         2012   \n",
       "4336      3.0  This book uses false logic to reach his conclu...         2011   \n",
       "6757      5.0  I've read many pivotal books over the past 40 ...         2012   \n",
       "1146      5.0  CS Lewis takes a methodological and systematic...         2013   \n",
       "4237      4.0  Definitely one of the best true crime books I'...         2010   \n",
       "8626      4.0  I have been going through this with my 4 child...         2010   \n",
       "3553      5.0  This book was excellent; very well written and...         2013   \n",
       "7946      5.0  This author haas never written a bad book. Rea...         2013   \n",
       "14450     4.0  The Picture of Dorian Gray is not just a book,...         2012   \n",
       "9609      5.0  This is another awesome book that just helps t...         2013   \n",
       "\n",
       "       helpfulness_0  helpfulness_1                          authors  \\\n",
       "867              0.0            1.0                     [Joel Gross]   \n",
       "4336             0.4            0.4                 [Desmond Morris]   \n",
       "6757             0.5            0.5            [Neale Donald Walsch]   \n",
       "1146             0.0            1.0                    [C. S. Lewis]   \n",
       "4237             1.0            1.0  [Vincent Bugliosi, Curt Gentry]   \n",
       "8626             1.0            1.0           [Francis A. Schaeffer]   \n",
       "3553             0.0            1.0           [Emily Arnold McCully]   \n",
       "7946             0.0            1.0                      [Lee Child]   \n",
       "14450            1.0            1.0                              NaN   \n",
       "9609             0.0            1.0                      [Mary Reed]   \n",
       "\n",
       "                             publisher                categories  \\\n",
       "867                    Backinprint.com                 [Fiction]   \n",
       "4336                      Random House          [Social Science]   \n",
       "6757                Simon and Schuster  [Family & Relationships]   \n",
       "1146                    Harper Collins                [Religion]   \n",
       "4237            W. W. Norton & Company              [True Crime]   \n",
       "8626                    Crossway Books                [Religion]   \n",
       "3553   Farrar, Straus and Giroux (BYR)     [Juvenile Nonfiction]   \n",
       "7946                      Random House                 [Fiction]   \n",
       "14450                              NaN              [Audiobooks]   \n",
       "9609                     Falcon Guides     [Sports & Recreation]   \n",
       "\n",
       "       published_year  \n",
       "867              2000  \n",
       "4336             2010  \n",
       "6757             2007  \n",
       "1146             2009  \n",
       "4237             2001  \n",
       "8626             1996  \n",
       "3553             2013  \n",
       "7946             2009  \n",
       "14450            2000  \n",
       "9609             2003  "
      ]
     },
     "execution_count": 60,
     "metadata": {},
     "output_type": "execute_result"
    }
   ],
   "source": [
    "df_all_data_filtered_processed.sample(10)"
   ]
  },
  {
   "cell_type": "markdown",
   "metadata": {},
   "source": [
    "# Initial EDA and Final Preprocesing"
   ]
  },
  {
   "cell_type": "markdown",
   "metadata": {},
   "source": [
    "## Helpfulness Column"
   ]
  },
  {
   "cell_type": "markdown",
   "metadata": {},
   "source": [
    "### Removing Outliers"
   ]
  },
  {
   "cell_type": "code",
   "execution_count": 61,
   "metadata": {},
   "outputs": [
    {
     "data": {
      "image/png": "[encoded data removed]",
      "text/plain": [
       "<Figure size 640x480 with 1 Axes>"
      ]
     },
     "metadata": {},
     "output_type": "display_data"
    }
   ],
   "source": [
    "df_all_data_filtered_processed['helpfulness_0'].hist()\n",
    "plt.show()"
   ]
  },
  {
   "cell_type": "code",
   "execution_count": 62,
   "metadata": {},
   "outputs": [
    {
     "data": {
      "image/png": "[encoded data removed]",
      "text/plain": [
       "<Figure size 640x480 with 1 Axes>"
      ]
     },
     "metadata": {},
     "output_type": "display_data"
    }
   ],
   "source": [
    "df_all_data_filtered_processed['helpfulness_1'].hist()\n",
    "plt.show()"
   ]
  },
  {
   "cell_type": "markdown",
   "metadata": {},
   "source": [
    "Porcentual helpfulness variable values should be between 0 and 1. Outliers are remove as they are just 2 entries from the entire dataset."
   ]
  },
  {
   "cell_type": "code",
   "execution_count": 63,
   "metadata": {},
   "outputs": [
    {
     "data": {
      "text/plain": [
       "count    15425.000000\n",
       "mean         0.260085\n",
       "std          0.415377\n",
       "min          0.000000\n",
       "25%          0.000000\n",
       "50%          0.000000\n",
       "75%          0.500000\n",
       "max          1.000000\n",
       "Name: helpfulness_0, dtype: float64"
      ]
     },
     "execution_count": 63,
     "metadata": {},
     "output_type": "execute_result"
    }
   ],
   "source": [
    "df_all_data_filtered_processed['helpfulness_0'].describe().T"
   ]
  },
  {
   "cell_type": "code",
   "execution_count": 64,
   "metadata": {},
   "outputs": [
    {
     "data": {
      "text/plain": [
       "count    15425.000000\n",
       "mean         0.868059\n",
       "std          0.307611\n",
       "min          0.000000\n",
       "25%          1.000000\n",
       "50%          1.000000\n",
       "75%          1.000000\n",
       "max          1.000000\n",
       "Name: helpfulness_1, dtype: float64"
      ]
     },
     "execution_count": 64,
     "metadata": {},
     "output_type": "execute_result"
    }
   ],
   "source": [
    "df_all_data_filtered_processed['helpfulness_1'].describe().T"
   ]
  },
  {
   "cell_type": "code",
   "execution_count": 65,
   "metadata": {},
   "outputs": [
    {
     "data": {
      "text/plain": [
       "(15425, 9)"
      ]
     },
     "execution_count": 65,
     "metadata": {},
     "output_type": "execute_result"
    }
   ],
   "source": [
    "df_all_data_filtered_processed.shape"
   ]
  },
  {
   "cell_type": "code",
   "execution_count": 66,
   "metadata": {},
   "outputs": [],
   "source": [
    "# df_all_data_filtered_processed = df_all_data_filtered_processed.drop(df_all_data_filtered_processed[df_all_data_filtered_processed['helpfulness_0'] == 2].index)\n",
    "# df_all_data_filtered_processed[df_all_data_filtered_processed['helpfulness_0'] == 2]['helpfulness_0'].value_counts()"
   ]
  },
  {
   "cell_type": "code",
   "execution_count": 67,
   "metadata": {},
   "outputs": [],
   "source": [
    "# df_all_data_filtered_processed.reset_index(drop=True, inplace=True)"
   ]
  },
  {
   "cell_type": "code",
   "execution_count": 68,
   "metadata": {},
   "outputs": [],
   "source": [
    "# df_all_data_filtered_processed.shape"
   ]
  },
  {
   "cell_type": "code",
   "execution_count": 69,
   "metadata": {},
   "outputs": [
    {
     "data": {
      "text/plain": [
       "count    15425.000000\n",
       "mean         0.868059\n",
       "std          0.307611\n",
       "min          0.000000\n",
       "25%          1.000000\n",
       "50%          1.000000\n",
       "75%          1.000000\n",
       "max          1.000000\n",
       "Name: helpfulness_1, dtype: float64"
      ]
     },
     "execution_count": 69,
     "metadata": {},
     "output_type": "execute_result"
    }
   ],
   "source": [
    "df_all_data_filtered_processed['helpfulness_1'].describe().T"
   ]
  },
  {
   "cell_type": "code",
   "execution_count": 70,
   "metadata": {},
   "outputs": [
    {
     "data": {
      "text/plain": [
       "count    15425.000000\n",
       "mean         0.260085\n",
       "std          0.415377\n",
       "min          0.000000\n",
       "25%          0.000000\n",
       "50%          0.000000\n",
       "75%          0.500000\n",
       "max          1.000000\n",
       "Name: helpfulness_0, dtype: float64"
      ]
     },
     "execution_count": 70,
     "metadata": {},
     "output_type": "execute_result"
    }
   ],
   "source": [
    "df_all_data_filtered_processed['helpfulness_0'].describe().T"
   ]
  },
  {
   "cell_type": "code",
   "execution_count": 71,
   "metadata": {},
   "outputs": [
    {
     "data": {
      "text/html": [
       "<style type=\"text/css\">\n",
       "#T_88a24_row0_col0, #T_88a24_row1_col1, #T_88a24_row2_col2 {\n",
       "  background-color: #08306b;\n",
       "  color: #f1f1f1;\n",
       "}\n",
       "#T_88a24_row0_col1, #T_88a24_row0_col2, #T_88a24_row2_col0 {\n",
       "  background-color: #f7fbff;\n",
       "  color: #000000;\n",
       "}\n",
       "#T_88a24_row1_col0 {\n",
       "  background-color: #dbe9f6;\n",
       "  color: #000000;\n",
       "}\n",
       "#T_88a24_row1_col2 {\n",
       "  background-color: #a6cee4;\n",
       "  color: #000000;\n",
       "}\n",
       "#T_88a24_row2_col1 {\n",
       "  background-color: #c7dcef;\n",
       "  color: #000000;\n",
       "}\n",
       "</style>\n",
       "<table id=\"T_88a24\">\n",
       "  <thead>\n",
       "    <tr>\n",
       "      <th class=\"blank level0\" >&nbsp;</th>\n",
       "      <th id=\"T_88a24_level0_col0\" class=\"col_heading level0 col0\" >helpfulness_0</th>\n",
       "      <th id=\"T_88a24_level0_col1\" class=\"col_heading level0 col1\" >helpfulness_1</th>\n",
       "      <th id=\"T_88a24_level0_col2\" class=\"col_heading level0 col2\" >review</th>\n",
       "    </tr>\n",
       "  </thead>\n",
       "  <tbody>\n",
       "    <tr>\n",
       "      <th id=\"T_88a24_level0_row0\" class=\"row_heading level0 row0\" >helpfulness_0</th>\n",
       "      <td id=\"T_88a24_row0_col0\" class=\"data row0 col0\" >1.000000</td>\n",
       "      <td id=\"T_88a24_row0_col1\" class=\"data row0 col1\" >0.112720</td>\n",
       "      <td id=\"T_88a24_row0_col2\" class=\"data row0 col2\" >-0.033948</td>\n",
       "    </tr>\n",
       "    <tr>\n",
       "      <th id=\"T_88a24_level0_row1\" class=\"row_heading level0 row1\" >helpfulness_1</th>\n",
       "      <td id=\"T_88a24_row1_col0\" class=\"data row1 col0\" >0.112720</td>\n",
       "      <td id=\"T_88a24_row1_col1\" class=\"data row1 col1\" >1.000000</td>\n",
       "      <td id=\"T_88a24_row1_col2\" class=\"data row1 col2\" >0.328850</td>\n",
       "    </tr>\n",
       "    <tr>\n",
       "      <th id=\"T_88a24_level0_row2\" class=\"row_heading level0 row2\" >review</th>\n",
       "      <td id=\"T_88a24_row2_col0\" class=\"data row2 col0\" >-0.033948</td>\n",
       "      <td id=\"T_88a24_row2_col1\" class=\"data row2 col1\" >0.328850</td>\n",
       "      <td id=\"T_88a24_row2_col2\" class=\"data row2 col2\" >1.000000</td>\n",
       "    </tr>\n",
       "  </tbody>\n",
       "</table>\n"
      ],
      "text/plain": [
       "<pandas.io.formats.style.Styler at 0x7fa91032a580>"
      ]
     },
     "execution_count": 71,
     "metadata": {},
     "output_type": "execute_result"
    }
   ],
   "source": [
    "#Correlation Analysis \n",
    "df_all_data_filtered_processed[['helpfulness_0','helpfulness_1','review']].corr().style.background_gradient(cmap='Blues')"
   ]
  },
  {
   "cell_type": "markdown",
   "metadata": {},
   "source": [
    "Correlation matrix shows that helpfulness_0 and helpfulness_1 are not much correlated. But helpfulness_0 and helpfulness_1 provide the same information. Based on the correlation with 'review' column, helpfulness_1 is kept and helpfulness_0 is removed. In order to avoid repeated information."
   ]
  },
  {
   "cell_type": "code",
   "execution_count": 72,
   "metadata": {},
   "outputs": [],
   "source": [
    "df_all_data_filtered_processed = df_all_data_filtered_processed.drop(['helpfulness_0'], axis=1)"
   ]
  },
  {
   "cell_type": "code",
   "execution_count": 73,
   "metadata": {},
   "outputs": [
    {
     "data": {
      "text/html": [
       "<div>\n",
       "<style scoped>\n",
       "    .dataframe tbody tr th:only-of-type {\n",
       "        vertical-align: middle;\n",
       "    }\n",
       "\n",
       "    .dataframe tbody tr th {\n",
       "        vertical-align: top;\n",
       "    }\n",
       "\n",
       "    .dataframe thead th {\n",
       "        text-align: right;\n",
       "    }\n",
       "</style>\n",
       "<table border=\"1\" class=\"dataframe\">\n",
       "  <thead>\n",
       "    <tr style=\"text-align: right;\">\n",
       "      <th></th>\n",
       "      <th>review</th>\n",
       "      <th>text</th>\n",
       "      <th>review_year</th>\n",
       "      <th>authors</th>\n",
       "      <th>publisher</th>\n",
       "      <th>categories</th>\n",
       "      <th>published_year</th>\n",
       "      <th>helpfulness</th>\n",
       "    </tr>\n",
       "  </thead>\n",
       "  <tbody>\n",
       "    <tr>\n",
       "      <th>6283</th>\n",
       "      <td>5.0</td>\n",
       "      <td>Many thanks to Steve Lehman for helping the wo...</td>\n",
       "      <td>2011</td>\n",
       "      <td>[Steve Lehman, Robert Barnett]</td>\n",
       "      <td>Twin Palms Pub</td>\n",
       "      <td>[Photography]</td>\n",
       "      <td>1998</td>\n",
       "      <td>1.0</td>\n",
       "    </tr>\n",
       "    <tr>\n",
       "      <th>4174</th>\n",
       "      <td>5.0</td>\n",
       "      <td>This book makes me want to forget how to make ...</td>\n",
       "      <td>2011</td>\n",
       "      <td>[Bonnie Neubauer]</td>\n",
       "      <td>Writer's Digest Books</td>\n",
       "      <td>[Reference]</td>\n",
       "      <td>2005</td>\n",
       "      <td>1.0</td>\n",
       "    </tr>\n",
       "    <tr>\n",
       "      <th>1620</th>\n",
       "      <td>5.0</td>\n",
       "      <td>Book received in good order and on time as pro...</td>\n",
       "      <td>2013</td>\n",
       "      <td>[Iza Trapani]</td>\n",
       "      <td>Charlesbridge Publishing</td>\n",
       "      <td>[Juvenile Fiction]</td>\n",
       "      <td>2013</td>\n",
       "      <td>1.0</td>\n",
       "    </tr>\n",
       "    <tr>\n",
       "      <th>14723</th>\n",
       "      <td>3.0</td>\n",
       "      <td>Worth reading but not a classic. Color and ill...</td>\n",
       "      <td>2012</td>\n",
       "      <td>[Janell Cannon]</td>\n",
       "      <td>Houghton Mifflin Harcourt</td>\n",
       "      <td>[Juvenile Fiction]</td>\n",
       "      <td>2005</td>\n",
       "      <td>1.0</td>\n",
       "    </tr>\n",
       "    <tr>\n",
       "      <th>2434</th>\n",
       "      <td>4.0</td>\n",
       "      <td>I've read a few of Jodi Picoult's books and fo...</td>\n",
       "      <td>2011</td>\n",
       "      <td>[Jodi Picoult]</td>\n",
       "      <td>Harper Collins</td>\n",
       "      <td>[Fiction]</td>\n",
       "      <td>2009</td>\n",
       "      <td>1.0</td>\n",
       "    </tr>\n",
       "  </tbody>\n",
       "</table>\n",
       "</div>"
      ],
      "text/plain": [
       "       review                                               text  review_year  \\\n",
       "6283      5.0  Many thanks to Steve Lehman for helping the wo...         2011   \n",
       "4174      5.0  This book makes me want to forget how to make ...         2011   \n",
       "1620      5.0  Book received in good order and on time as pro...         2013   \n",
       "14723     3.0  Worth reading but not a classic. Color and ill...         2012   \n",
       "2434      4.0  I've read a few of Jodi Picoult's books and fo...         2011   \n",
       "\n",
       "                              authors                  publisher  \\\n",
       "6283   [Steve Lehman, Robert Barnett]             Twin Palms Pub   \n",
       "4174                [Bonnie Neubauer]      Writer's Digest Books   \n",
       "1620                    [Iza Trapani]   Charlesbridge Publishing   \n",
       "14723                 [Janell Cannon]  Houghton Mifflin Harcourt   \n",
       "2434                   [Jodi Picoult]             Harper Collins   \n",
       "\n",
       "               categories  published_year  helpfulness  \n",
       "6283        [Photography]            1998          1.0  \n",
       "4174          [Reference]            2005          1.0  \n",
       "1620   [Juvenile Fiction]            2013          1.0  \n",
       "14723  [Juvenile Fiction]            2005          1.0  \n",
       "2434            [Fiction]            2009          1.0  "
      ]
     },
     "execution_count": 73,
     "metadata": {},
     "output_type": "execute_result"
    }
   ],
   "source": [
    "df_all_data_filtered_processed['helpfulness'] = df_all_data_filtered_processed['helpfulness_1']\n",
    "df_all_data_filtered_processed = df_all_data_filtered_processed.drop(['helpfulness_1'], axis=1)\n",
    "df_all_data_filtered_processed.sample(5)"
   ]
  },
  {
   "cell_type": "markdown",
   "metadata": {},
   "source": [
    "## Authors Column"
   ]
  },
  {
   "cell_type": "markdown",
   "metadata": {},
   "source": [
    "### Authors Names Standarization\n",
    "\n",
    "During the Exploratory Data Analysis it was discovered that some authors are reviewed under diferent formats of their names. Based on this, the Dataset is simplified to contain only one name format."
   ]
  },
  {
   "cell_type": "code",
   "execution_count": 74,
   "metadata": {},
   "outputs": [],
   "source": [
    "#The examples are:\n",
    "author_mapping = {\n",
    "    'John Ronald Reuel Tolkien':'J. R. R. Tolkien',\n",
    "    'J. R. R. Tolkien':'J. R. R. Tolkien',\n",
    "    'J.R.R. Tolkien':'J. R. R. Tolkien',\n",
    "    'Gabriel Garcia Marquez':'Gabriel Garcia Marquez',\n",
    "    'Gabriel García Márquez':'Gabriel Garcia Marquez',\n",
    "    'Charlotte Brontë':'Charlotte Brontë',\n",
    "    'Charlotte Bronte':'Charlotte Brontë',\n",
    "    'Emily Brontë':'Emily Brontë',\n",
    "    'Emily Bronte':'Emily Brontë',\n",
    "    'Joseph Smith':'Joseph Smith',\n",
    "    'Joseph Smith (Jr.)':'Joseph Smith',\n",
    "    'Jr.':'Joseph Smith'\n",
    "    }\n"
   ]
  },
  {
   "cell_type": "code",
   "execution_count": 75,
   "metadata": {},
   "outputs": [
    {
     "name": "stdout",
     "output_type": "stream",
     "text": [
      "<class 'pandas.core.frame.DataFrame'>\n",
      "RangeIndex: 15425 entries, 0 to 15424\n",
      "Data columns (total 8 columns):\n",
      " #   Column          Non-Null Count  Dtype  \n",
      "---  ------          --------------  -----  \n",
      " 0   review          15425 non-null  float64\n",
      " 1   text            15425 non-null  object \n",
      " 2   review_year     15425 non-null  int64  \n",
      " 3   authors         15141 non-null  object \n",
      " 4   publisher       13896 non-null  object \n",
      " 5   categories      15039 non-null  object \n",
      " 6   published_year  15425 non-null  int64  \n",
      " 7   helpfulness     15425 non-null  float64\n",
      "dtypes: float64(2), int64(2), object(4)\n",
      "memory usage: 964.2+ KB\n"
     ]
    }
   ],
   "source": [
    "df_all_data_filtered_processed.info()"
   ]
  },
  {
   "cell_type": "code",
   "execution_count": 76,
   "metadata": {},
   "outputs": [],
   "source": [
    "def standardize_authors(authors):\n",
    "    if isinstance(authors, list):\n",
    "        return [author_mapping.get(author, author) for author in authors]\n",
    "    else:\n",
    "        return authors  # Return the original value if it's not a list"
   ]
  },
  {
   "cell_type": "code",
   "execution_count": 77,
   "metadata": {},
   "outputs": [],
   "source": [
    "df_all_data_filtered_processed['authors'] = df_all_data_filtered_processed['authors'].apply(standardize_authors)"
   ]
  },
  {
   "cell_type": "markdown",
   "metadata": {},
   "source": [
    "### Updating the Authors Feature to Categorical, and applying Pareto Principe to reduce the quantity of authors."
   ]
  },
  {
   "cell_type": "code",
   "execution_count": 78,
   "metadata": {},
   "outputs": [
    {
     "data": {
      "text/plain": [
       "authors\n",
       "J. R. R. Tolkien     754\n",
       "Charles Dickens      274\n",
       "Lewis Carroll        154\n",
       "C. S. Lewis          145\n",
       "Jane Austen          126\n",
       "                    ... \n",
       "Randolph M. Nesse      1\n",
       "Victoria McKernan      1\n",
       "Henry Lipson           1\n",
       "Stephen G. Lipson      1\n",
       "K. Devlin              1\n",
       "Name: count, Length: 7750, dtype: int64"
      ]
     },
     "execution_count": 78,
     "metadata": {},
     "output_type": "execute_result"
    }
   ],
   "source": [
    "author_counts = df_all_data_filtered_processed['authors'].explode().value_counts()\n",
    "author_counts"
   ]
  },
  {
   "cell_type": "code",
   "execution_count": 79,
   "metadata": {},
   "outputs": [
    {
     "data": {
      "text/plain": [
       "authors\n",
       "J. R. R. Tolkien    754\n",
       "Charles Dickens     274\n",
       "Lewis Carroll       154\n",
       "C. S. Lewis         145\n",
       "Jane Austen         126\n",
       "                   ... \n",
       "Paul Virilio          1\n",
       "Tony Bacon            1\n",
       "Paul Day              1\n",
       "Lauren Slater         1\n",
       "K. Devlin             1\n",
       "Name: count, Length: 7750, dtype: int64"
      ]
     },
     "execution_count": 79,
     "metadata": {},
     "output_type": "execute_result"
    }
   ],
   "source": [
    "sorted_author_counts = author_counts.sort_values(ascending=False)\n",
    "sorted_author_counts"
   ]
  },
  {
   "cell_type": "code",
   "execution_count": 80,
   "metadata": {},
   "outputs": [
    {
     "data": {
      "text/plain": [
       "1550"
      ]
     },
     "execution_count": 80,
     "metadata": {},
     "output_type": "execute_result"
    }
   ],
   "source": [
    "pareto_threshold = int(0.2 * len(sorted_author_counts))\n",
    "pareto_threshold"
   ]
  },
  {
   "cell_type": "code",
   "execution_count": 81,
   "metadata": {},
   "outputs": [
    {
     "data": {
      "text/plain": [
       "Index(['J. R. R. Tolkien', 'Charles Dickens', 'Lewis Carroll', 'C. S. Lewis',\n",
       "       'Jane Austen', 'Kurt Vonnegut', 'Aldous Huxley', 'Arthur Conan Doyle',\n",
       "       'Lee Child', 'Agatha Christie',\n",
       "       ...\n",
       "       'Pope John Paul II', 'Opal Whiteley', 'Amy D. Shojai', 'Barbara Vine',\n",
       "       'Immanuel Kant', 'John L. Smith', 'Robert W. Funk', 'Katherine Dunn',\n",
       "       'Davis Love III', 'Martin Waddell'],\n",
       "      dtype='object', name='authors', length=1550)"
      ]
     },
     "execution_count": 81,
     "metadata": {},
     "output_type": "execute_result"
    }
   ],
   "source": [
    "top_authors = sorted_author_counts.iloc[:pareto_threshold].index\n",
    "top_authors"
   ]
  },
  {
   "cell_type": "code",
   "execution_count": 82,
   "metadata": {
    "tags": [
     "parameters"
    ]
   },
   "outputs": [
    {
     "data": {
      "text/plain": [
       "1551"
      ]
     },
     "execution_count": 82,
     "metadata": {},
     "output_type": "execute_result"
    }
   ],
   "source": [
    "df_all_data_filtered_processed['authors'] = df_all_data_filtered_processed['authors'].apply(lambda x: [author if author in top_authors else 'Other' for author in x] if isinstance(x, list) else ['Other'])\n",
    "len(df_all_data_filtered_processed['authors'].explode().unique())"
   ]
  },
  {
   "cell_type": "markdown",
   "metadata": {},
   "source": [
    "After applying Pareto Principle, there are still 1551 unique authors on the dataset. If authors is considered as a Categorical Feature, it will not have much predictive because it has a lot of Cardinality.\n",
    "\n",
    "Top 10 authors with most reviews are kept and the rest of authors are set to 'Other'."
   ]
  },
  {
   "cell_type": "code",
   "execution_count": 83,
   "metadata": {},
   "outputs": [
    {
     "name": "stdout",
     "output_type": "stream",
     "text": [
      "<class 'pandas.core.series.Series'>\n",
      "Index: 18082 entries, 0 to 15424\n",
      "Series name: authors\n",
      "Non-Null Count  Dtype \n",
      "--------------  ----- \n",
      "18082 non-null  object\n",
      "dtypes: object(1)\n",
      "memory usage: 282.5+ KB\n"
     ]
    }
   ],
   "source": [
    "authors = df_all_data_filtered_processed['authors'].explode()\n",
    "authors.info()"
   ]
  },
  {
   "cell_type": "code",
   "execution_count": 84,
   "metadata": {},
   "outputs": [
    {
     "name": "stdout",
     "output_type": "stream",
     "text": [
      "Total of Authors: 1551\n"
     ]
    }
   ],
   "source": [
    "print(f'Total of Authors: {len(authors.unique())}')"
   ]
  },
  {
   "cell_type": "code",
   "execution_count": 85,
   "metadata": {},
   "outputs": [
    {
     "name": "stdout",
     "output_type": "stream",
     "text": [
      "Total of entries after explode authors column 18082\n"
     ]
    }
   ],
   "source": [
    "author_counts = authors.value_counts(ascending=False)\n",
    "print(f'Total of entries after explode authors column {author_counts.sum()}')"
   ]
  },
  {
   "cell_type": "code",
   "execution_count": 86,
   "metadata": {},
   "outputs": [
    {
     "data": {
      "text/plain": [
       "authors\n",
       "Other                 7115\n",
       "J. R. R. Tolkien       754\n",
       "Charles Dickens        274\n",
       "Lewis Carroll          154\n",
       "C. S. Lewis            145\n",
       "Jane Austen            126\n",
       "Kurt Vonnegut          120\n",
       "Aldous Huxley           99\n",
       "Arthur Conan Doyle      97\n",
       "Lee Child               73\n",
       "Name: count, dtype: int64"
      ]
     },
     "execution_count": 86,
     "metadata": {},
     "output_type": "execute_result"
    }
   ],
   "source": [
    "top_10_authors_counts = author_counts[:10].sort_values(ascending=False)\n",
    "top_10_authors_counts"
   ]
  },
  {
   "cell_type": "code",
   "execution_count": 87,
   "metadata": {},
   "outputs": [
    {
     "data": {
      "text/plain": [
       "authors\n",
       "Agatha Christie           69\n",
       "Charlotte Brontë          64\n",
       "Viktor E Frankl           61\n",
       "Robert Louis Stevenson    60\n",
       "Jules Verne               58\n",
       "                          ..\n",
       "patrick mcenroe            2\n",
       "Clarence W. Coles          2\n",
       "Dorion Sagan               2\n",
       "Lynn Margulis              2\n",
       "Judith Fertig              2\n",
       "Name: count, Length: 1541, dtype: int64"
      ]
     },
     "execution_count": 87,
     "metadata": {},
     "output_type": "execute_result"
    }
   ],
   "source": [
    "other_authors_counts = author_counts[10:]\n",
    "other_authors_counts"
   ]
  },
  {
   "cell_type": "code",
   "execution_count": 88,
   "metadata": {},
   "outputs": [
    {
     "data": {
      "text/plain": [
       "10"
      ]
     },
     "execution_count": 88,
     "metadata": {},
     "output_type": "execute_result"
    }
   ],
   "source": [
    "df_all_data_filtered_processed['authors'] = df_all_data_filtered_processed['authors'].apply(lambda x: [author if author in top_10_authors_counts else 'Other' for author in x] if isinstance(x, list) else ['Other'])\n",
    "len(df_all_data_filtered_processed['authors'].explode().unique())"
   ]
  },
  {
   "cell_type": "code",
   "execution_count": 89,
   "metadata": {},
   "outputs": [
    {
     "data": {
      "text/plain": [
       "authors\n",
       "Other                 16240\n",
       "J. R. R. Tolkien        754\n",
       "Charles Dickens         274\n",
       "Lewis Carroll           154\n",
       "C. S. Lewis             145\n",
       "Jane Austen             126\n",
       "Kurt Vonnegut           120\n",
       "Aldous Huxley            99\n",
       "Arthur Conan Doyle       97\n",
       "Lee Child                73\n",
       "Name: count, dtype: int64"
      ]
     },
     "execution_count": 89,
     "metadata": {},
     "output_type": "execute_result"
    }
   ],
   "source": [
    "df_all_data_filtered_processed['authors'].explode().value_counts()"
   ]
  },
  {
   "cell_type": "code",
   "execution_count": 90,
   "metadata": {},
   "outputs": [],
   "source": [
    "def remove_repeated_values(in_list):\n",
    "    unique_list = []\n",
    "    for item in in_list:\n",
    "        if item not in unique_list:\n",
    "            unique_list.append(item)\n",
    "\n",
    "    return unique_list"
   ]
  },
  {
   "cell_type": "code",
   "execution_count": 91,
   "metadata": {},
   "outputs": [
    {
     "data": {
      "text/html": [
       "<div>\n",
       "<style scoped>\n",
       "    .dataframe tbody tr th:only-of-type {\n",
       "        vertical-align: middle;\n",
       "    }\n",
       "\n",
       "    .dataframe tbody tr th {\n",
       "        vertical-align: top;\n",
       "    }\n",
       "\n",
       "    .dataframe thead th {\n",
       "        text-align: right;\n",
       "    }\n",
       "</style>\n",
       "<table border=\"1\" class=\"dataframe\">\n",
       "  <thead>\n",
       "    <tr style=\"text-align: right;\">\n",
       "      <th></th>\n",
       "      <th>review</th>\n",
       "      <th>text</th>\n",
       "      <th>review_year</th>\n",
       "      <th>authors</th>\n",
       "      <th>publisher</th>\n",
       "      <th>categories</th>\n",
       "      <th>published_year</th>\n",
       "      <th>helpfulness</th>\n",
       "    </tr>\n",
       "  </thead>\n",
       "  <tbody>\n",
       "    <tr>\n",
       "      <th>14819</th>\n",
       "      <td>5.0</td>\n",
       "      <td>We love this book. The recipes are good, easy ...</td>\n",
       "      <td>2012</td>\n",
       "      <td>[Other]</td>\n",
       "      <td>Harvard Common Press</td>\n",
       "      <td>[Cooking]</td>\n",
       "      <td>2000</td>\n",
       "      <td>1.0</td>\n",
       "    </tr>\n",
       "    <tr>\n",
       "      <th>13102</th>\n",
       "      <td>4.0</td>\n",
       "      <td>Good story lines, good author, currently readi...</td>\n",
       "      <td>2011</td>\n",
       "      <td>[Other]</td>\n",
       "      <td>Random House</td>\n",
       "      <td>[Fiction]</td>\n",
       "      <td>2010</td>\n",
       "      <td>0.0</td>\n",
       "    </tr>\n",
       "    <tr>\n",
       "      <th>3407</th>\n",
       "      <td>3.0</td>\n",
       "      <td>As anyone familiar with the work of Jon Mellen...</td>\n",
       "      <td>2011</td>\n",
       "      <td>[Other]</td>\n",
       "      <td>W. W. Norton &amp; Company</td>\n",
       "      <td>[Fiction]</td>\n",
       "      <td>2000</td>\n",
       "      <td>1.0</td>\n",
       "    </tr>\n",
       "    <tr>\n",
       "      <th>11297</th>\n",
       "      <td>4.0</td>\n",
       "      <td>This is another entertaining, turn of the twen...</td>\n",
       "      <td>2011</td>\n",
       "      <td>[Other]</td>\n",
       "      <td>Minotaur Books</td>\n",
       "      <td>[Fiction]</td>\n",
       "      <td>2007</td>\n",
       "      <td>1.0</td>\n",
       "    </tr>\n",
       "    <tr>\n",
       "      <th>9992</th>\n",
       "      <td>5.0</td>\n",
       "      <td>This is a lovely story based on actual and pos...</td>\n",
       "      <td>2011</td>\n",
       "      <td>[Other, Other]</td>\n",
       "      <td>Thomas Nelson</td>\n",
       "      <td>[Juvenile Fiction]</td>\n",
       "      <td>2000</td>\n",
       "      <td>1.0</td>\n",
       "    </tr>\n",
       "  </tbody>\n",
       "</table>\n",
       "</div>"
      ],
      "text/plain": [
       "       review                                               text  review_year  \\\n",
       "14819     5.0  We love this book. The recipes are good, easy ...         2012   \n",
       "13102     4.0  Good story lines, good author, currently readi...         2011   \n",
       "3407      3.0  As anyone familiar with the work of Jon Mellen...         2011   \n",
       "11297     4.0  This is another entertaining, turn of the twen...         2011   \n",
       "9992      5.0  This is a lovely story based on actual and pos...         2011   \n",
       "\n",
       "              authors               publisher          categories  \\\n",
       "14819         [Other]    Harvard Common Press           [Cooking]   \n",
       "13102         [Other]            Random House           [Fiction]   \n",
       "3407          [Other]  W. W. Norton & Company           [Fiction]   \n",
       "11297         [Other]          Minotaur Books           [Fiction]   \n",
       "9992   [Other, Other]           Thomas Nelson  [Juvenile Fiction]   \n",
       "\n",
       "       published_year  helpfulness  \n",
       "14819            2000          1.0  \n",
       "13102            2010          0.0  \n",
       "3407             2000          1.0  \n",
       "11297            2007          1.0  \n",
       "9992             2000          1.0  "
      ]
     },
     "execution_count": 91,
     "metadata": {},
     "output_type": "execute_result"
    }
   ],
   "source": [
    "df_all_data_filtered_processed.sample(5, random_state=10)"
   ]
  },
  {
   "cell_type": "code",
   "execution_count": 92,
   "metadata": {},
   "outputs": [],
   "source": [
    "# Some of the authors list contains 'Other' multiple times.\n",
    "df_all_data_filtered_processed['authors'] = df_all_data_filtered_processed['authors'].apply(lambda x: remove_repeated_values(x))"
   ]
  },
  {
   "cell_type": "code",
   "execution_count": 93,
   "metadata": {},
   "outputs": [
    {
     "data": {
      "text/html": [
       "<div>\n",
       "<style scoped>\n",
       "    .dataframe tbody tr th:only-of-type {\n",
       "        vertical-align: middle;\n",
       "    }\n",
       "\n",
       "    .dataframe tbody tr th {\n",
       "        vertical-align: top;\n",
       "    }\n",
       "\n",
       "    .dataframe thead th {\n",
       "        text-align: right;\n",
       "    }\n",
       "</style>\n",
       "<table border=\"1\" class=\"dataframe\">\n",
       "  <thead>\n",
       "    <tr style=\"text-align: right;\">\n",
       "      <th></th>\n",
       "      <th>review</th>\n",
       "      <th>text</th>\n",
       "      <th>review_year</th>\n",
       "      <th>authors</th>\n",
       "      <th>publisher</th>\n",
       "      <th>categories</th>\n",
       "      <th>published_year</th>\n",
       "      <th>helpfulness</th>\n",
       "    </tr>\n",
       "  </thead>\n",
       "  <tbody>\n",
       "    <tr>\n",
       "      <th>14819</th>\n",
       "      <td>5.0</td>\n",
       "      <td>We love this book. The recipes are good, easy ...</td>\n",
       "      <td>2012</td>\n",
       "      <td>[Other]</td>\n",
       "      <td>Harvard Common Press</td>\n",
       "      <td>[Cooking]</td>\n",
       "      <td>2000</td>\n",
       "      <td>1.0</td>\n",
       "    </tr>\n",
       "    <tr>\n",
       "      <th>13102</th>\n",
       "      <td>4.0</td>\n",
       "      <td>Good story lines, good author, currently readi...</td>\n",
       "      <td>2011</td>\n",
       "      <td>[Other]</td>\n",
       "      <td>Random House</td>\n",
       "      <td>[Fiction]</td>\n",
       "      <td>2010</td>\n",
       "      <td>0.0</td>\n",
       "    </tr>\n",
       "    <tr>\n",
       "      <th>3407</th>\n",
       "      <td>3.0</td>\n",
       "      <td>As anyone familiar with the work of Jon Mellen...</td>\n",
       "      <td>2011</td>\n",
       "      <td>[Other]</td>\n",
       "      <td>W. W. Norton &amp; Company</td>\n",
       "      <td>[Fiction]</td>\n",
       "      <td>2000</td>\n",
       "      <td>1.0</td>\n",
       "    </tr>\n",
       "    <tr>\n",
       "      <th>11297</th>\n",
       "      <td>4.0</td>\n",
       "      <td>This is another entertaining, turn of the twen...</td>\n",
       "      <td>2011</td>\n",
       "      <td>[Other]</td>\n",
       "      <td>Minotaur Books</td>\n",
       "      <td>[Fiction]</td>\n",
       "      <td>2007</td>\n",
       "      <td>1.0</td>\n",
       "    </tr>\n",
       "    <tr>\n",
       "      <th>9992</th>\n",
       "      <td>5.0</td>\n",
       "      <td>This is a lovely story based on actual and pos...</td>\n",
       "      <td>2011</td>\n",
       "      <td>[Other]</td>\n",
       "      <td>Thomas Nelson</td>\n",
       "      <td>[Juvenile Fiction]</td>\n",
       "      <td>2000</td>\n",
       "      <td>1.0</td>\n",
       "    </tr>\n",
       "  </tbody>\n",
       "</table>\n",
       "</div>"
      ],
      "text/plain": [
       "       review                                               text  review_year  \\\n",
       "14819     5.0  We love this book. The recipes are good, easy ...         2012   \n",
       "13102     4.0  Good story lines, good author, currently readi...         2011   \n",
       "3407      3.0  As anyone familiar with the work of Jon Mellen...         2011   \n",
       "11297     4.0  This is another entertaining, turn of the twen...         2011   \n",
       "9992      5.0  This is a lovely story based on actual and pos...         2011   \n",
       "\n",
       "       authors               publisher          categories  published_year  \\\n",
       "14819  [Other]    Harvard Common Press           [Cooking]            2000   \n",
       "13102  [Other]            Random House           [Fiction]            2010   \n",
       "3407   [Other]  W. W. Norton & Company           [Fiction]            2000   \n",
       "11297  [Other]          Minotaur Books           [Fiction]            2007   \n",
       "9992   [Other]           Thomas Nelson  [Juvenile Fiction]            2000   \n",
       "\n",
       "       helpfulness  \n",
       "14819          1.0  \n",
       "13102          0.0  \n",
       "3407           1.0  \n",
       "11297          1.0  \n",
       "9992           1.0  "
      ]
     },
     "execution_count": 93,
     "metadata": {},
     "output_type": "execute_result"
    }
   ],
   "source": [
    "df_all_data_filtered_processed.sample(5, random_state=10)"
   ]
  },
  {
   "cell_type": "code",
   "execution_count": 94,
   "metadata": {},
   "outputs": [
    {
     "data": {
      "text/plain": [
       "authors\n",
       "Other                 13601\n",
       "J. R. R. Tolkien        754\n",
       "Charles Dickens         274\n",
       "Lewis Carroll           154\n",
       "C. S. Lewis             145\n",
       "Jane Austen             126\n",
       "Kurt Vonnegut           120\n",
       "Aldous Huxley            99\n",
       "Arthur Conan Doyle       97\n",
       "Lee Child                73\n",
       "Name: count, dtype: int64"
      ]
     },
     "execution_count": 94,
     "metadata": {},
     "output_type": "execute_result"
    }
   ],
   "source": [
    "df_all_data_filtered_processed['authors'].explode().value_counts()"
   ]
  },
  {
   "cell_type": "code",
   "execution_count": 95,
   "metadata": {},
   "outputs": [
    {
     "data": {
      "image/png": "[encoded data removed]",
      "text/plain": [
       "<Figure size 800x800 with 1 Axes>"
      ]
     },
     "metadata": {},
     "output_type": "display_data"
    }
   ],
   "source": [
    "#Show a barplot by Percentages\n",
    "author_percetage = df_all_data_filtered_processed['authors'].explode().value_counts()/df_all_data_filtered_processed['authors'].explode().value_counts().sum()*100\n",
    "\n",
    "fig, ax = plt.subplots(figsize=(8, 8))\n",
    "bars = ax.bar(df_all_data_filtered_processed['authors'].explode().unique(), author_percetage)\n",
    "\n",
    "# Set the bar labels (percentages) to be displayed above the bars\n",
    "ax.bar_label(bars, fmt='%.1f%%')\n",
    "\n",
    "plt.xlabel('Author')\n",
    "plt.ylabel('Percentage')\n",
    "plt.xticks(rotation=90)\n",
    "plt.title('Percentage of Reviews for top 10 Authors', fontsize = 20)\n",
    "plt.show()"
   ]
  },
  {
   "cell_type": "markdown",
   "metadata": {},
   "source": [
    "Top 10 authors only represents the 11.9% of the Total Dataset Reviews. Beacause of the Cardinality of this feature, Authors is removed from the Dataset."
   ]
  },
  {
   "cell_type": "code",
   "execution_count": 96,
   "metadata": {},
   "outputs": [
    {
     "name": "stdout",
     "output_type": "stream",
     "text": [
      "<class 'pandas.core.frame.DataFrame'>\n",
      "RangeIndex: 15425 entries, 0 to 15424\n",
      "Data columns (total 7 columns):\n",
      " #   Column          Non-Null Count  Dtype  \n",
      "---  ------          --------------  -----  \n",
      " 0   review          15425 non-null  float64\n",
      " 1   text            15425 non-null  object \n",
      " 2   review_year     15425 non-null  int64  \n",
      " 3   publisher       13896 non-null  object \n",
      " 4   categories      15039 non-null  object \n",
      " 5   published_year  15425 non-null  int64  \n",
      " 6   helpfulness     15425 non-null  float64\n",
      "dtypes: float64(2), int64(2), object(3)\n",
      "memory usage: 843.7+ KB\n"
     ]
    }
   ],
   "source": [
    "df_all_data_filtered_processed = df_all_data_filtered_processed.drop(['authors'], axis=1)\n",
    "df_all_data_filtered_processed.info()"
   ]
  },
  {
   "cell_type": "markdown",
   "metadata": {},
   "source": [
    "## Cateogories Column"
   ]
  },
  {
   "cell_type": "markdown",
   "metadata": {},
   "source": [
    "### Updating the Categories Feature to Categorical, and applying Pareto Principe to reduce the quantity of Categories."
   ]
  },
  {
   "cell_type": "code",
   "execution_count": 97,
   "metadata": {},
   "outputs": [
    {
     "data": {
      "text/plain": [
       "categories\n",
       "Fiction                      5197\n",
       "Juvenile Fiction             1622\n",
       "Religion                      881\n",
       "Biography & Autobiography     642\n",
       "History                       562\n",
       "                             ... \n",
       "Bibliography                    1\n",
       "Lampshades                      1\n",
       "Handbags                        1\n",
       "Automobiles                     1\n",
       "Antarctica                      1\n",
       "Name: count, Length: 589, dtype: int64"
      ]
     },
     "execution_count": 97,
     "metadata": {},
     "output_type": "execute_result"
    }
   ],
   "source": [
    "categories_counts = df_all_data_filtered_processed['categories'].explode().value_counts()\n",
    "categories_counts"
   ]
  },
  {
   "cell_type": "code",
   "execution_count": 98,
   "metadata": {},
   "outputs": [
    {
     "data": {
      "text/plain": [
       "categories\n",
       "Fiction                      5197\n",
       "Juvenile Fiction             1622\n",
       "Religion                      881\n",
       "Biography & Autobiography     642\n",
       "History                       562\n",
       "                             ... \n",
       "Anger                           1\n",
       "Falconry                        1\n",
       "Autobiography                   1\n",
       "Big books                       1\n",
       "Antarctica                      1\n",
       "Name: count, Length: 589, dtype: int64"
      ]
     },
     "execution_count": 98,
     "metadata": {},
     "output_type": "execute_result"
    }
   ],
   "source": [
    "sorted_category_counts = categories_counts.sort_values(ascending=False)\n",
    "sorted_category_counts"
   ]
  },
  {
   "cell_type": "code",
   "execution_count": 99,
   "metadata": {},
   "outputs": [
    {
     "data": {
      "text/plain": [
       "117"
      ]
     },
     "execution_count": 99,
     "metadata": {},
     "output_type": "execute_result"
    }
   ],
   "source": [
    "pareto_threshold = int(0.2 * len(sorted_category_counts))\n",
    "pareto_threshold"
   ]
  },
  {
   "cell_type": "code",
   "execution_count": 100,
   "metadata": {},
   "outputs": [
    {
     "data": {
      "text/plain": [
       "Index(['Fiction', 'Juvenile Fiction', 'Religion', 'Biography & Autobiography',\n",
       "       'History', 'Business & Economics', 'Cooking', 'Juvenile Nonfiction',\n",
       "       'Family & Relationships', 'Self-Help',\n",
       "       ...\n",
       "       'Love stories', 'JUVENILE FICTION', 'Presidents', 'Costa Rica',\n",
       "       'Ghost stories', 'Sub-Saharan', 'Narnia (Imaginary place)',\n",
       "       'College readers', 'Motivation (Psychology)', '\"Children's libraries\"'],\n",
       "      dtype='object', name='categories', length=117)"
      ]
     },
     "execution_count": 100,
     "metadata": {},
     "output_type": "execute_result"
    }
   ],
   "source": [
    "top_categories = sorted_category_counts.iloc[:pareto_threshold].index\n",
    "top_categories"
   ]
  },
  {
   "cell_type": "code",
   "execution_count": 101,
   "metadata": {},
   "outputs": [
    {
     "data": {
      "text/plain": [
       "categories\n",
       "Fiction                      5197\n",
       "Juvenile Fiction             1622\n",
       "Other                        1060\n",
       "Religion                      881\n",
       "Biography & Autobiography     642\n",
       "                             ... \n",
       "Narnia (Imaginary place)        5\n",
       "Sub-Saharan                     5\n",
       "College readers                 4\n",
       "Motivation (Psychology)         4\n",
       "\"Children's libraries\"          4\n",
       "Name: count, Length: 118, dtype: int64"
      ]
     },
     "execution_count": 101,
     "metadata": {},
     "output_type": "execute_result"
    }
   ],
   "source": [
    "df_all_data_filtered_processed['categories'] = df_all_data_filtered_processed['categories'].apply(lambda x: [category if category in top_categories else 'Other' for category in x] if isinstance(x, list) else ['Other'])\n",
    "df_all_data_filtered_processed['categories'].explode().value_counts()"
   ]
  },
  {
   "cell_type": "markdown",
   "metadata": {},
   "source": [
    "After applying Pareto Principle, there are still 117 unique categories on the dataset. If categories is considered as a Categorical Feature, it will not add much predictive value because it has a lot of Cardinality.\n",
    "\n",
    "Top 10 categories with most reviews are kept and the rest of categories are set to 'Other'."
   ]
  },
  {
   "cell_type": "code",
   "execution_count": 102,
   "metadata": {},
   "outputs": [
    {
     "name": "stdout",
     "output_type": "stream",
     "text": [
      "<class 'pandas.core.series.Series'>\n",
      "Index: 15740 entries, 0 to 15424\n",
      "Series name: categories\n",
      "Non-Null Count  Dtype \n",
      "--------------  ----- \n",
      "15740 non-null  object\n",
      "dtypes: object(1)\n",
      "memory usage: 245.9+ KB\n"
     ]
    }
   ],
   "source": [
    "categories = df_all_data_filtered_processed['categories'].explode()\n",
    "categories.info()"
   ]
  },
  {
   "cell_type": "code",
   "execution_count": 103,
   "metadata": {},
   "outputs": [
    {
     "name": "stdout",
     "output_type": "stream",
     "text": [
      "Total of Categories: 118\n"
     ]
    }
   ],
   "source": [
    "print(f'Total of Categories: {len(categories.unique())}')"
   ]
  },
  {
   "cell_type": "code",
   "execution_count": 104,
   "metadata": {},
   "outputs": [
    {
     "name": "stdout",
     "output_type": "stream",
     "text": [
      "Total of entries after explode Categories column 15740\n"
     ]
    }
   ],
   "source": [
    "categories_counts = categories.value_counts(ascending=False)\n",
    "print(f'Total of entries after explode Categories column {categories_counts.sum()}')"
   ]
  },
  {
   "cell_type": "markdown",
   "metadata": {},
   "source": [
    "Categories are groped on 19 Categories. Based on the Literary genre."
   ]
  },
  {
   "cell_type": "code",
   "execution_count": null,
   "metadata": {},
   "outputs": [],
   "source": [
    "# categories_mapping = {\n",
    "#     'Juvenile Fiction' : 'Fiction',\n",
    "#     'Fantasy fiction' : 'Fiction',\n",
    "#     'Jewish fiction' : 'Fiction',\n",
    "#     'Classical fiction' : 'Fiction',\n",
    "\n",
    "#     'Bibles' : 'Religion',\n",
    "#     'Bible' : 'Religion'\n",
    "# }"
   ]
  },
  {
   "cell_type": "code",
   "execution_count": 105,
   "metadata": {},
   "outputs": [
    {
     "data": {
      "text/plain": [
       "categories\n",
       "Fiction                      5197\n",
       "Juvenile Fiction             1622\n",
       "Other                        1060\n",
       "Religion                      881\n",
       "Biography & Autobiography     642\n",
       "History                       562\n",
       "Business & Economics          429\n",
       "Cooking                       250\n",
       "Juvenile Nonfiction           223\n",
       "Family & Relationships        217\n",
       "Name: count, dtype: int64"
      ]
     },
     "execution_count": 105,
     "metadata": {},
     "output_type": "execute_result"
    }
   ],
   "source": [
    "top_10_categories_counts = categories_counts[:10].sort_values(ascending=False)\n",
    "top_10_categories_counts"
   ]
  },
  {
   "cell_type": "code",
   "execution_count": 234,
   "metadata": {},
   "outputs": [
    {
     "data": {
      "text/plain": [
       "categories\n",
       "Self-Help                   207\n",
       "Health & Fitness            198\n",
       "Body                        186\n",
       "Mind & Spirit               186\n",
       "Social Science              157\n",
       "                           ... \n",
       "Narnia (Imaginary place)      5\n",
       "Sub-Saharan                   5\n",
       "College readers               4\n",
       "Motivation (Psychology)       4\n",
       "\"Children's libraries\"        4\n",
       "Name: count, Length: 108, dtype: int64"
      ]
     },
     "execution_count": 234,
     "metadata": {},
     "output_type": "execute_result"
    }
   ],
   "source": [
    "other_categories_counts = categories_counts[10:]\n",
    "other_categories_counts"
   ]
  },
  {
   "cell_type": "code",
   "execution_count": 235,
   "metadata": {},
   "outputs": [
    {
     "data": {
      "text/plain": [
       "10"
      ]
     },
     "execution_count": 235,
     "metadata": {},
     "output_type": "execute_result"
    }
   ],
   "source": [
    "df_all_data_filtered_processed['categories'] = df_all_data_filtered_processed['categories'].apply(lambda x: [category if category in top_10_categories_counts else 'Other' for category in x] if isinstance(x, list) else ['Other'])\n",
    "len(df_all_data_filtered_processed['categories'].explode().unique())"
   ]
  },
  {
   "cell_type": "code",
   "execution_count": 236,
   "metadata": {},
   "outputs": [
    {
     "data": {
      "text/plain": [
       "categories\n",
       "Other                        5717\n",
       "Fiction                      5197\n",
       "Juvenile Fiction             1622\n",
       "Religion                      881\n",
       "Biography & Autobiography     642\n",
       "History                       562\n",
       "Business & Economics          429\n",
       "Cooking                       250\n",
       "Juvenile Nonfiction           223\n",
       "Family & Relationships        217\n",
       "Name: count, dtype: int64"
      ]
     },
     "execution_count": 236,
     "metadata": {},
     "output_type": "execute_result"
    }
   ],
   "source": [
    "df_all_data_filtered_processed['categories'].explode().value_counts()"
   ]
  },
  {
   "cell_type": "code",
   "execution_count": 237,
   "metadata": {},
   "outputs": [
    {
     "data": {
      "text/html": [
       "<div>\n",
       "<style scoped>\n",
       "    .dataframe tbody tr th:only-of-type {\n",
       "        vertical-align: middle;\n",
       "    }\n",
       "\n",
       "    .dataframe tbody tr th {\n",
       "        vertical-align: top;\n",
       "    }\n",
       "\n",
       "    .dataframe thead th {\n",
       "        text-align: right;\n",
       "    }\n",
       "</style>\n",
       "<table border=\"1\" class=\"dataframe\">\n",
       "  <thead>\n",
       "    <tr style=\"text-align: right;\">\n",
       "      <th></th>\n",
       "      <th>review</th>\n",
       "      <th>text</th>\n",
       "      <th>review_year</th>\n",
       "      <th>publisher</th>\n",
       "      <th>categories</th>\n",
       "      <th>published_year</th>\n",
       "      <th>helpfulness</th>\n",
       "    </tr>\n",
       "  </thead>\n",
       "  <tbody>\n",
       "    <tr>\n",
       "      <th>14782</th>\n",
       "      <td>1.0</td>\n",
       "      <td>The book is about a young hobit that goes on a...</td>\n",
       "      <td>2013</td>\n",
       "      <td>Mariner Books</td>\n",
       "      <td>[Juvenile Fiction]</td>\n",
       "      <td>2012</td>\n",
       "      <td>0.0</td>\n",
       "    </tr>\n",
       "    <tr>\n",
       "      <th>1891</th>\n",
       "      <td>5.0</td>\n",
       "      <td>This book was a total inspiration to read. Mat...</td>\n",
       "      <td>2011</td>\n",
       "      <td>Thomas Nelson</td>\n",
       "      <td>[Religion]</td>\n",
       "      <td>2000</td>\n",
       "      <td>1.0</td>\n",
       "    </tr>\n",
       "    <tr>\n",
       "      <th>11638</th>\n",
       "      <td>3.0</td>\n",
       "      <td>I really do enjoy the story but the imagery is...</td>\n",
       "      <td>2012</td>\n",
       "      <td>Spectra</td>\n",
       "      <td>[Fiction]</td>\n",
       "      <td>2011</td>\n",
       "      <td>1.0</td>\n",
       "    </tr>\n",
       "    <tr>\n",
       "      <th>5127</th>\n",
       "      <td>5.0</td>\n",
       "      <td>This book deserves another 5 star review. I pl...</td>\n",
       "      <td>2011</td>\n",
       "      <td>Penguin</td>\n",
       "      <td>[Fiction]</td>\n",
       "      <td>2006</td>\n",
       "      <td>1.0</td>\n",
       "    </tr>\n",
       "    <tr>\n",
       "      <th>4906</th>\n",
       "      <td>5.0</td>\n",
       "      <td>With the fun lyrics and wonderful music, it is...</td>\n",
       "      <td>2010</td>\n",
       "      <td>Workman Publishing</td>\n",
       "      <td>[Juvenile Nonfiction]</td>\n",
       "      <td>2002</td>\n",
       "      <td>1.0</td>\n",
       "    </tr>\n",
       "  </tbody>\n",
       "</table>\n",
       "</div>"
      ],
      "text/plain": [
       "       review                                               text  review_year  \\\n",
       "14782     1.0  The book is about a young hobit that goes on a...         2013   \n",
       "1891      5.0  This book was a total inspiration to read. Mat...         2011   \n",
       "11638     3.0  I really do enjoy the story but the imagery is...         2012   \n",
       "5127      5.0  This book deserves another 5 star review. I pl...         2011   \n",
       "4906      5.0  With the fun lyrics and wonderful music, it is...         2010   \n",
       "\n",
       "                publisher             categories  published_year  helpfulness  \n",
       "14782       Mariner Books     [Juvenile Fiction]            2012          0.0  \n",
       "1891        Thomas Nelson             [Religion]            2000          1.0  \n",
       "11638             Spectra              [Fiction]            2011          1.0  \n",
       "5127              Penguin              [Fiction]            2006          1.0  \n",
       "4906   Workman Publishing  [Juvenile Nonfiction]            2002          1.0  "
      ]
     },
     "execution_count": 237,
     "metadata": {},
     "output_type": "execute_result"
    }
   ],
   "source": [
    "df_all_data_filtered_processed.sample(5, random_state=45)"
   ]
  },
  {
   "cell_type": "code",
   "execution_count": 238,
   "metadata": {},
   "outputs": [
    {
     "data": {
      "text/html": [
       "<div>\n",
       "<style scoped>\n",
       "    .dataframe tbody tr th:only-of-type {\n",
       "        vertical-align: middle;\n",
       "    }\n",
       "\n",
       "    .dataframe tbody tr th {\n",
       "        vertical-align: top;\n",
       "    }\n",
       "\n",
       "    .dataframe thead th {\n",
       "        text-align: right;\n",
       "    }\n",
       "</style>\n",
       "<table border=\"1\" class=\"dataframe\">\n",
       "  <thead>\n",
       "    <tr style=\"text-align: right;\">\n",
       "      <th></th>\n",
       "      <th>review</th>\n",
       "      <th>text</th>\n",
       "      <th>review_year</th>\n",
       "      <th>publisher</th>\n",
       "      <th>categories</th>\n",
       "      <th>published_year</th>\n",
       "      <th>helpfulness</th>\n",
       "    </tr>\n",
       "  </thead>\n",
       "  <tbody>\n",
       "    <tr>\n",
       "      <th>14782</th>\n",
       "      <td>1.0</td>\n",
       "      <td>The book is about a young hobit that goes on a...</td>\n",
       "      <td>2013</td>\n",
       "      <td>Mariner Books</td>\n",
       "      <td>[Juvenile Fiction]</td>\n",
       "      <td>2012</td>\n",
       "      <td>0.0</td>\n",
       "    </tr>\n",
       "    <tr>\n",
       "      <th>1891</th>\n",
       "      <td>5.0</td>\n",
       "      <td>This book was a total inspiration to read. Mat...</td>\n",
       "      <td>2011</td>\n",
       "      <td>Thomas Nelson</td>\n",
       "      <td>[Religion]</td>\n",
       "      <td>2000</td>\n",
       "      <td>1.0</td>\n",
       "    </tr>\n",
       "    <tr>\n",
       "      <th>11638</th>\n",
       "      <td>3.0</td>\n",
       "      <td>I really do enjoy the story but the imagery is...</td>\n",
       "      <td>2012</td>\n",
       "      <td>Spectra</td>\n",
       "      <td>[Fiction]</td>\n",
       "      <td>2011</td>\n",
       "      <td>1.0</td>\n",
       "    </tr>\n",
       "    <tr>\n",
       "      <th>5127</th>\n",
       "      <td>5.0</td>\n",
       "      <td>This book deserves another 5 star review. I pl...</td>\n",
       "      <td>2011</td>\n",
       "      <td>Penguin</td>\n",
       "      <td>[Fiction]</td>\n",
       "      <td>2006</td>\n",
       "      <td>1.0</td>\n",
       "    </tr>\n",
       "    <tr>\n",
       "      <th>4906</th>\n",
       "      <td>5.0</td>\n",
       "      <td>With the fun lyrics and wonderful music, it is...</td>\n",
       "      <td>2010</td>\n",
       "      <td>Workman Publishing</td>\n",
       "      <td>[Juvenile Nonfiction]</td>\n",
       "      <td>2002</td>\n",
       "      <td>1.0</td>\n",
       "    </tr>\n",
       "  </tbody>\n",
       "</table>\n",
       "</div>"
      ],
      "text/plain": [
       "       review                                               text  review_year  \\\n",
       "14782     1.0  The book is about a young hobit that goes on a...         2013   \n",
       "1891      5.0  This book was a total inspiration to read. Mat...         2011   \n",
       "11638     3.0  I really do enjoy the story but the imagery is...         2012   \n",
       "5127      5.0  This book deserves another 5 star review. I pl...         2011   \n",
       "4906      5.0  With the fun lyrics and wonderful music, it is...         2010   \n",
       "\n",
       "                publisher             categories  published_year  helpfulness  \n",
       "14782       Mariner Books     [Juvenile Fiction]            2012          0.0  \n",
       "1891        Thomas Nelson             [Religion]            2000          1.0  \n",
       "11638             Spectra              [Fiction]            2011          1.0  \n",
       "5127              Penguin              [Fiction]            2006          1.0  \n",
       "4906   Workman Publishing  [Juvenile Nonfiction]            2002          1.0  "
      ]
     },
     "execution_count": 238,
     "metadata": {},
     "output_type": "execute_result"
    }
   ],
   "source": [
    "# Some of the authors list contains 'Other' multiple times.\n",
    "df_all_data_filtered_processed['categories'] = df_all_data_filtered_processed['categories'].apply(lambda x: remove_repeated_values(x))\n",
    "df_all_data_filtered_processed.sample(5, random_state=45)"
   ]
  },
  {
   "cell_type": "code",
   "execution_count": 239,
   "metadata": {},
   "outputs": [
    {
     "data": {
      "text/plain": [
       "categories\n",
       "Family & Relationships        217\n",
       "Juvenile Nonfiction           223\n",
       "Cooking                       250\n",
       "Business & Economics          429\n",
       "History                       562\n",
       "Biography & Autobiography     642\n",
       "Religion                      881\n",
       "Juvenile Fiction             1622\n",
       "Fiction                      5197\n",
       "Other                        5402\n",
       "Name: count, dtype: int64"
      ]
     },
     "execution_count": 239,
     "metadata": {},
     "output_type": "execute_result"
    }
   ],
   "source": [
    "df_all_data_filtered_processed['categories'].explode().value_counts(ascending=True)"
   ]
  },
  {
   "cell_type": "code",
   "execution_count": 240,
   "metadata": {},
   "outputs": [
    {
     "data": {
      "image/png": "[encoded data removed]",
      "text/plain": [
       "<Figure size 800x800 with 1 Axes>"
      ]
     },
     "metadata": {},
     "output_type": "display_data"
    }
   ],
   "source": [
    "#Show a barplot by Percentages\n",
    "category_percetage = df_all_data_filtered_processed['categories'].explode().value_counts(ascending=False)/df_all_data_filtered_processed['categories'].explode().value_counts(ascending=False).sum()*100\n",
    "\n",
    "fig, ax = plt.subplots(figsize=(8, 8))\n",
    "bars = ax.bar(df_all_data_filtered_processed['categories'].explode().value_counts(ascending=False).keys(), category_percetage)\n",
    "\n",
    "# Set the bar labels (percentages) to be displayed above the bars\n",
    "ax.bar_label(bars, fmt='%.1f%%')\n",
    "\n",
    "plt.xlabel('Category')\n",
    "plt.ylabel('Percentage')\n",
    "plt.xticks(rotation=90)\n",
    "plt.title('Percentage of Reviews for top 10 Categories', fontsize = 20)\n",
    "plt.show()"
   ]
  },
  {
   "cell_type": "markdown",
   "metadata": {},
   "source": [
    "Top 10 Categories different than Other have a good representation on the Dataset. This variable is kept."
   ]
  },
  {
   "cell_type": "code",
   "execution_count": 241,
   "metadata": {},
   "outputs": [
    {
     "data": {
      "text/plain": [
       "(15425, 7)"
      ]
     },
     "execution_count": 241,
     "metadata": {},
     "output_type": "execute_result"
    }
   ],
   "source": [
    "df_all_data_filtered_processed.shape"
   ]
  },
  {
   "cell_type": "code",
   "execution_count": 242,
   "metadata": {},
   "outputs": [
    {
     "data": {
      "text/plain": [
       "(15425, 7)"
      ]
     },
     "execution_count": 242,
     "metadata": {},
     "output_type": "execute_result"
    }
   ],
   "source": [
    "df_all_data_filtered_processed = df_all_data_filtered_processed.explode('categories')\n",
    "df_all_data_filtered_processed.shape"
   ]
  },
  {
   "cell_type": "code",
   "execution_count": 243,
   "metadata": {},
   "outputs": [
    {
     "data": {
      "text/html": [
       "<div>\n",
       "<style scoped>\n",
       "    .dataframe tbody tr th:only-of-type {\n",
       "        vertical-align: middle;\n",
       "    }\n",
       "\n",
       "    .dataframe tbody tr th {\n",
       "        vertical-align: top;\n",
       "    }\n",
       "\n",
       "    .dataframe thead th {\n",
       "        text-align: right;\n",
       "    }\n",
       "</style>\n",
       "<table border=\"1\" class=\"dataframe\">\n",
       "  <thead>\n",
       "    <tr style=\"text-align: right;\">\n",
       "      <th></th>\n",
       "      <th>review</th>\n",
       "      <th>text</th>\n",
       "      <th>review_year</th>\n",
       "      <th>publisher</th>\n",
       "      <th>categories</th>\n",
       "      <th>published_year</th>\n",
       "      <th>helpfulness</th>\n",
       "    </tr>\n",
       "  </thead>\n",
       "  <tbody>\n",
       "    <tr>\n",
       "      <th>4770</th>\n",
       "      <td>2.0</td>\n",
       "      <td>The book has many good points. It's true all o...</td>\n",
       "      <td>2012</td>\n",
       "      <td>Shambhala Publications</td>\n",
       "      <td>Religion</td>\n",
       "      <td>2001</td>\n",
       "      <td>0.0</td>\n",
       "    </tr>\n",
       "    <tr>\n",
       "      <th>4367</th>\n",
       "      <td>3.0</td>\n",
       "      <td>There are several reasons why this edition at ...</td>\n",
       "      <td>2012</td>\n",
       "      <td>Penguin Classics</td>\n",
       "      <td>Other</td>\n",
       "      <td>2012</td>\n",
       "      <td>1.0</td>\n",
       "    </tr>\n",
       "    <tr>\n",
       "      <th>8574</th>\n",
       "      <td>5.0</td>\n",
       "      <td>Couldn't find my original copy and wanted the ...</td>\n",
       "      <td>2013</td>\n",
       "      <td>Houghton Mifflin Harcourt</td>\n",
       "      <td>Fiction</td>\n",
       "      <td>2013</td>\n",
       "      <td>1.0</td>\n",
       "    </tr>\n",
       "    <tr>\n",
       "      <th>2306</th>\n",
       "      <td>5.0</td>\n",
       "      <td>This book explains the benefit and importance ...</td>\n",
       "      <td>2010</td>\n",
       "      <td>Albert Whitman Prairie Books (</td>\n",
       "      <td>Juvenile Fiction</td>\n",
       "      <td>2004</td>\n",
       "      <td>1.0</td>\n",
       "    </tr>\n",
       "    <tr>\n",
       "      <th>7638</th>\n",
       "      <td>5.0</td>\n",
       "      <td>This book was outstanding when it was written ...</td>\n",
       "      <td>2010</td>\n",
       "      <td>Delta</td>\n",
       "      <td>Other</td>\n",
       "      <td>2008</td>\n",
       "      <td>1.0</td>\n",
       "    </tr>\n",
       "  </tbody>\n",
       "</table>\n",
       "</div>"
      ],
      "text/plain": [
       "      review                                               text  review_year  \\\n",
       "4770     2.0  The book has many good points. It's true all o...         2012   \n",
       "4367     3.0  There are several reasons why this edition at ...         2012   \n",
       "8574     5.0  Couldn't find my original copy and wanted the ...         2013   \n",
       "2306     5.0  This book explains the benefit and importance ...         2010   \n",
       "7638     5.0  This book was outstanding when it was written ...         2010   \n",
       "\n",
       "                           publisher        categories  published_year  \\\n",
       "4770          Shambhala Publications          Religion            2001   \n",
       "4367                Penguin Classics             Other            2012   \n",
       "8574       Houghton Mifflin Harcourt           Fiction            2013   \n",
       "2306  Albert Whitman Prairie Books (  Juvenile Fiction            2004   \n",
       "7638                           Delta             Other            2008   \n",
       "\n",
       "      helpfulness  \n",
       "4770          0.0  \n",
       "4367          1.0  \n",
       "8574          1.0  \n",
       "2306          1.0  \n",
       "7638          1.0  "
      ]
     },
     "execution_count": 243,
     "metadata": {},
     "output_type": "execute_result"
    }
   ],
   "source": [
    "df_all_data_filtered_processed.sample(5)"
   ]
  },
  {
   "cell_type": "markdown",
   "metadata": {},
   "source": [
    "## Publisher Column"
   ]
  },
  {
   "cell_type": "code",
   "execution_count": 244,
   "metadata": {},
   "outputs": [],
   "source": [
    "publisher_mapping = {\n",
    "    'Penguin UK':'Penguin',\n",
    "    'HarperCollins': 'Harper Collins',\n",
    "    'HarperCollins UK' :  'Harper Collins'\n",
    "    }"
   ]
  },
  {
   "cell_type": "code",
   "execution_count": 245,
   "metadata": {},
   "outputs": [],
   "source": [
    "def standardize_publisher(publisher):\n",
    "    if pd.isna(publisher):        \n",
    "        return publisher  # Return the original value if it's not a list\n",
    "    else:\n",
    "\n",
    "        return publisher_mapping.get(publisher, publisher)"
   ]
  },
  {
   "cell_type": "code",
   "execution_count": 246,
   "metadata": {},
   "outputs": [],
   "source": [
    "df_all_data_filtered_processed['publisher'] = df_all_data_filtered_processed['publisher'].apply(standardize_publisher)"
   ]
  },
  {
   "cell_type": "code",
   "execution_count": 247,
   "metadata": {},
   "outputs": [
    {
     "data": {
      "text/plain": [
       "publisher\n",
       "Penguin                  1186\n",
       "Harper Collins            930\n",
       "Simon and Schuster        736\n",
       "Mariner Books             584\n",
       "Random House              311\n",
       "                         ... \n",
       "Bedford/St. Martin's        1\n",
       "Scholastic UK               1\n",
       "University of Alberta       1\n",
       "Virgin Books                1\n",
       "WH Freeman                  1\n",
       "Name: count, Length: 1893, dtype: int64"
      ]
     },
     "execution_count": 247,
     "metadata": {},
     "output_type": "execute_result"
    }
   ],
   "source": [
    "publisher_counts = df_all_data_filtered_processed['publisher'].value_counts()\n",
    "publisher_counts"
   ]
  },
  {
   "cell_type": "markdown",
   "metadata": {},
   "source": [
    "### Updating the publisher Feature to Categorical, and applying Pareto Principe to reduce the quantity of publishers."
   ]
  },
  {
   "cell_type": "code",
   "execution_count": 248,
   "metadata": {},
   "outputs": [
    {
     "data": {
      "text/plain": [
       "publisher\n",
       "Penguin                              1186\n",
       "Harper Collins                        930\n",
       "Simon and Schuster                    736\n",
       "Mariner Books                         584\n",
       "Random House                          311\n",
       "Vintage                               245\n",
       "Macmillan                             218\n",
       "Houghton Mifflin Harcourt             204\n",
       "Bantam                                165\n",
       "Courier Corporation                   158\n",
       "The Floating Press                    148\n",
       "John Wiley & Sons                     147\n",
       "Hachette UK                           131\n",
       "W. W. Norton & Company                116\n",
       "Baker Books                           101\n",
       "Anchor                                 94\n",
       "Bethany House                          93\n",
       "Ballantine Books                       93\n",
       "Sourcebooks, Inc.                      88\n",
       "Oxford University Press                86\n",
       "Zondervan                              82\n",
       "Tyndale House Publishers, Inc.         77\n",
       "Dial Press Trade Paperback             73\n",
       "Berkley                                68\n",
       "Sterling Publishing Company, Inc.      65\n",
       "Name: count, dtype: int64"
      ]
     },
     "execution_count": 248,
     "metadata": {},
     "output_type": "execute_result"
    }
   ],
   "source": [
    "sorted_publisher_counts = publisher_counts.sort_values(ascending=False)\n",
    "sorted_publisher_counts[:25]"
   ]
  },
  {
   "cell_type": "code",
   "execution_count": 249,
   "metadata": {},
   "outputs": [
    {
     "data": {
      "text/plain": [
       "378"
      ]
     },
     "execution_count": 249,
     "metadata": {},
     "output_type": "execute_result"
    }
   ],
   "source": [
    "pareto_threshold = int(0.2 * len(sorted_publisher_counts))\n",
    "pareto_threshold"
   ]
  },
  {
   "cell_type": "code",
   "execution_count": 250,
   "metadata": {},
   "outputs": [
    {
     "data": {
      "text/plain": [
       "Index(['Penguin', 'Harper Collins', 'Simon and Schuster', 'Mariner Books',\n",
       "       'Random House', 'Vintage', 'Macmillan', 'Houghton Mifflin Harcourt',\n",
       "       'Bantam', 'Courier Corporation',\n",
       "       ...\n",
       "       'Barrons Educational Series Incorporated', 'Piccadilly Books, Ltd.',\n",
       "       'Pearson', 'Running PressBook Pub', 'Doubleday Books for Young Readers',\n",
       "       'Book Publishing Company', 'Avon Books', 'Touchstone Books',\n",
       "       'HarperCollins Children's Books', 'PuddleDancer Press'],\n",
       "      dtype='object', name='publisher', length=378)"
      ]
     },
     "execution_count": 250,
     "metadata": {},
     "output_type": "execute_result"
    }
   ],
   "source": [
    "top_publishers = sorted_publisher_counts.iloc[:pareto_threshold].index\n",
    "top_publishers"
   ]
  },
  {
   "cell_type": "code",
   "execution_count": 251,
   "metadata": {},
   "outputs": [
    {
     "data": {
      "text/plain": [
       "publisher\n",
       "Other                         4007\n",
       "Penguin                       1186\n",
       "Harper Collins                 930\n",
       "Simon and Schuster             736\n",
       "Mariner Books                  584\n",
       "                              ... \n",
       "Bantam Press                     5\n",
       "Workman Publishing Company       5\n",
       "Robert Rose Incorporated         5\n",
       "Touchstone Books                 5\n",
       "Bedford/st Martins               5\n",
       "Name: count, Length: 379, dtype: int64"
      ]
     },
     "execution_count": 251,
     "metadata": {},
     "output_type": "execute_result"
    }
   ],
   "source": [
    "df_all_data_filtered_processed['publisher'] = df_all_data_filtered_processed['publisher'].apply(lambda publisher: publisher if publisher in top_publishers else 'Other')\n",
    "df_all_data_filtered_processed['publisher'].value_counts()"
   ]
  },
  {
   "cell_type": "markdown",
   "metadata": {},
   "source": [
    "After applying Pareto Principle, there are still 380 unique publishers on the dataset. If publishers is considered as a Categorical Feature, it will not add much predictive value because it has a lot of Cardinality.\n",
    "\n",
    "Top 10 publishers with most reviews are kept and the rest of publishers are set to 'Other'. In order to keep the feature and analize the predicting power."
   ]
  },
  {
   "cell_type": "code",
   "execution_count": 252,
   "metadata": {},
   "outputs": [
    {
     "name": "stdout",
     "output_type": "stream",
     "text": [
      "<class 'pandas.core.series.Series'>\n",
      "Index: 15425 entries, 0 to 15424\n",
      "Series name: publisher\n",
      "Non-Null Count  Dtype \n",
      "--------------  ----- \n",
      "15425 non-null  object\n",
      "dtypes: object(1)\n",
      "memory usage: 241.0+ KB\n"
     ]
    }
   ],
   "source": [
    "publishers = df_all_data_filtered_processed['publisher']\n",
    "publishers.info()"
   ]
  },
  {
   "cell_type": "code",
   "execution_count": 253,
   "metadata": {},
   "outputs": [
    {
     "name": "stdout",
     "output_type": "stream",
     "text": [
      "Total of Publishers: 379\n"
     ]
    }
   ],
   "source": [
    "print(f'Total of Publishers: {len(publishers.unique())}')"
   ]
  },
  {
   "cell_type": "code",
   "execution_count": 254,
   "metadata": {},
   "outputs": [
    {
     "data": {
      "text/plain": [
       "publisher\n",
       "Other                         4007\n",
       "Penguin                       1186\n",
       "Harper Collins                 930\n",
       "Simon and Schuster             736\n",
       "Mariner Books                  584\n",
       "                              ... \n",
       "Bantam Press                     5\n",
       "Workman Publishing Company       5\n",
       "Robert Rose Incorporated         5\n",
       "Touchstone Books                 5\n",
       "Bedford/st Martins               5\n",
       "Name: count, Length: 379, dtype: int64"
      ]
     },
     "execution_count": 254,
     "metadata": {},
     "output_type": "execute_result"
    }
   ],
   "source": [
    "publisher_counts = publishers.value_counts(ascending=False)\n",
    "publisher_counts"
   ]
  },
  {
   "cell_type": "code",
   "execution_count": 255,
   "metadata": {},
   "outputs": [
    {
     "data": {
      "text/plain": [
       "publisher\n",
       "Other                        4007\n",
       "Penguin                      1186\n",
       "Harper Collins                930\n",
       "Simon and Schuster            736\n",
       "Mariner Books                 584\n",
       "Random House                  311\n",
       "Vintage                       245\n",
       "Macmillan                     218\n",
       "Houghton Mifflin Harcourt     204\n",
       "Bantam                        165\n",
       "Name: count, dtype: int64"
      ]
     },
     "execution_count": 255,
     "metadata": {},
     "output_type": "execute_result"
    }
   ],
   "source": [
    "top_10_publishers_counts = publisher_counts[:10].sort_values(ascending=False)\n",
    "top_10_publishers_counts"
   ]
  },
  {
   "cell_type": "code",
   "execution_count": 256,
   "metadata": {},
   "outputs": [
    {
     "data": {
      "text/plain": [
       "publisher\n",
       "Courier Corporation           158\n",
       "The Floating Press            148\n",
       "John Wiley & Sons             147\n",
       "Hachette UK                   131\n",
       "W. W. Norton & Company        116\n",
       "                             ... \n",
       "Bantam Press                    5\n",
       "Workman Publishing Company      5\n",
       "Robert Rose Incorporated        5\n",
       "Touchstone Books                5\n",
       "Bedford/st Martins              5\n",
       "Name: count, Length: 369, dtype: int64"
      ]
     },
     "execution_count": 256,
     "metadata": {},
     "output_type": "execute_result"
    }
   ],
   "source": [
    "other_publishers_counts = publisher_counts[10:]\n",
    "other_publishers_counts"
   ]
  },
  {
   "cell_type": "code",
   "execution_count": 257,
   "metadata": {},
   "outputs": [
    {
     "data": {
      "text/plain": [
       "10"
      ]
     },
     "execution_count": 257,
     "metadata": {},
     "output_type": "execute_result"
    }
   ],
   "source": [
    "df_all_data_filtered_processed['publisher'] = df_all_data_filtered_processed['publisher'].apply(lambda publisher: publisher if publisher in top_10_publishers_counts else 'Other')\n",
    "len(df_all_data_filtered_processed['publisher'].unique())"
   ]
  },
  {
   "cell_type": "code",
   "execution_count": 258,
   "metadata": {},
   "outputs": [
    {
     "data": {
      "text/plain": [
       "publisher\n",
       "Other                        10846\n",
       "Penguin                       1186\n",
       "Harper Collins                 930\n",
       "Simon and Schuster             736\n",
       "Mariner Books                  584\n",
       "Random House                   311\n",
       "Vintage                        245\n",
       "Macmillan                      218\n",
       "Houghton Mifflin Harcourt      204\n",
       "Bantam                         165\n",
       "Name: count, dtype: int64"
      ]
     },
     "execution_count": 258,
     "metadata": {},
     "output_type": "execute_result"
    }
   ],
   "source": [
    "df_all_data_filtered_processed['publisher'].value_counts()"
   ]
  },
  {
   "cell_type": "code",
   "execution_count": 259,
   "metadata": {},
   "outputs": [
    {
     "data": {
      "image/png": "[encoded data removed]",
      "text/plain": [
       "<Figure size 800x800 with 1 Axes>"
      ]
     },
     "metadata": {},
     "output_type": "display_data"
    }
   ],
   "source": [
    "#Show a barplot by Percentages\n",
    "publisher_percetage = df_all_data_filtered_processed['publisher'].value_counts(ascending=False)/df_all_data_filtered_processed['publisher'].value_counts(ascending=False).sum()*100\n",
    "\n",
    "fig, ax = plt.subplots(figsize=(8, 8))\n",
    "bars = ax.bar(df_all_data_filtered_processed['publisher'].value_counts(ascending=False).keys(), publisher_percetage)\n",
    "\n",
    "# Set the bar labels (percentages) to be displayed above the bars\n",
    "ax.bar_label(bars, fmt='%.1f%%')\n",
    "\n",
    "plt.xlabel('Publisher')\n",
    "plt.ylabel('Percentage')\n",
    "plt.xticks(rotation=90)\n",
    "plt.title('Percentage of Reviews for top 10 Publishers', fontsize = 20)\n",
    "plt.show()\n"
   ]
  },
  {
   "cell_type": "markdown",
   "metadata": {},
   "source": [
    "Top 10 publishers different than Other represents the 29.68% of the dataset. The variable is kept.\n"
   ]
  },
  {
   "cell_type": "markdown",
   "metadata": {},
   "source": [
    "# Processed Datasets Saving"
   ]
  },
  {
   "cell_type": "code",
   "execution_count": 260,
   "metadata": {},
   "outputs": [
    {
     "name": "stdout",
     "output_type": "stream",
     "text": [
      "<class 'pandas.core.frame.DataFrame'>\n",
      "RangeIndex: 15425 entries, 0 to 15424\n",
      "Data columns (total 8 columns):\n",
      " #   Column          Non-Null Count  Dtype  \n",
      "---  ------          --------------  -----  \n",
      " 0   index           15425 non-null  int64  \n",
      " 1   review          15425 non-null  float64\n",
      " 2   text            15425 non-null  object \n",
      " 3   review_year     15425 non-null  int64  \n",
      " 4   publisher       15425 non-null  object \n",
      " 5   categories      15425 non-null  object \n",
      " 6   published_year  15425 non-null  int64  \n",
      " 7   helpfulness     15425 non-null  float64\n",
      "dtypes: float64(2), int64(3), object(3)\n",
      "memory usage: 964.2+ KB\n"
     ]
    }
   ],
   "source": [
    "df_all_data_filtered_processed = df_all_data_filtered_processed.reset_index()\n",
    "df_all_data_filtered_processed.info()"
   ]
  },
  {
   "cell_type": "code",
   "execution_count": 261,
   "metadata": {},
   "outputs": [
    {
     "data": {
      "text/html": [
       "<div>\n",
       "<style scoped>\n",
       "    .dataframe tbody tr th:only-of-type {\n",
       "        vertical-align: middle;\n",
       "    }\n",
       "\n",
       "    .dataframe tbody tr th {\n",
       "        vertical-align: top;\n",
       "    }\n",
       "\n",
       "    .dataframe thead th {\n",
       "        text-align: right;\n",
       "    }\n",
       "</style>\n",
       "<table border=\"1\" class=\"dataframe\">\n",
       "  <thead>\n",
       "    <tr style=\"text-align: right;\">\n",
       "      <th></th>\n",
       "      <th>num_row</th>\n",
       "      <th>text</th>\n",
       "    </tr>\n",
       "  </thead>\n",
       "  <tbody>\n",
       "    <tr>\n",
       "      <th>8736</th>\n",
       "      <td>8736</td>\n",
       "      <td>This is a classic western, but not what Louis ...</td>\n",
       "    </tr>\n",
       "    <tr>\n",
       "      <th>13778</th>\n",
       "      <td>13778</td>\n",
       "      <td>Awesome book!! Small steps is the sequel to ho...</td>\n",
       "    </tr>\n",
       "    <tr>\n",
       "      <th>5064</th>\n",
       "      <td>5064</td>\n",
       "      <td>This book is not a \"How To Build a Schooner\" b...</td>\n",
       "    </tr>\n",
       "    <tr>\n",
       "      <th>4196</th>\n",
       "      <td>4196</td>\n",
       "      <td>There are few books that change your life, or ...</td>\n",
       "    </tr>\n",
       "    <tr>\n",
       "      <th>2935</th>\n",
       "      <td>2935</td>\n",
       "      <td>When Koontz tells a story he has the ability t...</td>\n",
       "    </tr>\n",
       "    <tr>\n",
       "      <th>2491</th>\n",
       "      <td>2491</td>\n",
       "      <td>I had never read anything from Stuart Woods, b...</td>\n",
       "    </tr>\n",
       "    <tr>\n",
       "      <th>1138</th>\n",
       "      <td>1138</td>\n",
       "      <td>Met Carlos in Viet Nam. Did not know then the ...</td>\n",
       "    </tr>\n",
       "    <tr>\n",
       "      <th>14400</th>\n",
       "      <td>14400</td>\n",
       "      <td>May be easy to follow if you're familiar with ...</td>\n",
       "    </tr>\n",
       "    <tr>\n",
       "      <th>2933</th>\n",
       "      <td>2933</td>\n",
       "      <td>This is a must read book for Christians. I've ...</td>\n",
       "    </tr>\n",
       "    <tr>\n",
       "      <th>6025</th>\n",
       "      <td>6025</td>\n",
       "      <td>I just discovered this author and can I just s...</td>\n",
       "    </tr>\n",
       "  </tbody>\n",
       "</table>\n",
       "</div>"
      ],
      "text/plain": [
       "       num_row                                               text\n",
       "8736      8736  This is a classic western, but not what Louis ...\n",
       "13778    13778  Awesome book!! Small steps is the sequel to ho...\n",
       "5064      5064  This book is not a \"How To Build a Schooner\" b...\n",
       "4196      4196  There are few books that change your life, or ...\n",
       "2935      2935  When Koontz tells a story he has the ability t...\n",
       "2491      2491  I had never read anything from Stuart Woods, b...\n",
       "1138      1138  Met Carlos in Viet Nam. Did not know then the ...\n",
       "14400    14400  May be easy to follow if you're familiar with ...\n",
       "2933      2933  This is a must read book for Christians. I've ...\n",
       "6025      6025  I just discovered this author and can I just s..."
      ]
     },
     "execution_count": 261,
     "metadata": {},
     "output_type": "execute_result"
    }
   ],
   "source": [
    "#A reduced Dataset is created to process Text Column and Apply sentiment Analysis.\n",
    "df_all_data_filtered_processed['num_row'] = np.arange(len(df_all_data_filtered_processed))\n",
    "\n",
    "df_reduced = df_all_data_filtered_processed[['num_row', 'text']].copy()\n",
    "\n",
    "df_reduced.sample(10)"
   ]
  },
  {
   "cell_type": "code",
   "execution_count": 262,
   "metadata": {},
   "outputs": [],
   "source": [
    "df_all_data_filtered_processed.to_csv('../data/processed/filtered_data_processed.csv')"
   ]
  },
  {
   "cell_type": "code",
   "execution_count": 263,
   "metadata": {},
   "outputs": [],
   "source": [
    "df_reduced.to_csv('../data/processed/df_reduced.csv')"
   ]
  }
 ],
 "metadata": {
  "kernelspec": {
   "display_name": ".venv",
   "language": "python",
   "name": "python3"
  },
  "language_info": {
   "codemirror_mode": {
    "name": "ipython",
    "version": 3
   },
   "file_extension": ".py",
   "mimetype": "text/x-python",
   "name": "python",
   "nbconvert_exporter": "python",
   "pygments_lexer": "ipython3",
   "version": "3.8.10"
  }
 },
 "nbformat": 4,
 "nbformat_minor": 2
}
