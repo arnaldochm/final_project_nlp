{
 "cells": [
  {
   "cell_type": "code",
   "execution_count": 1,
   "metadata": {},
   "outputs": [],
   "source": [
    "# Dataset: Amazon Books Reviews\n",
    "# Author: Mohamed Bekheet\n",
    "# Source: Mohamed Bekheet. (2022). Amazon Books Reviews [Data set]. Kaggle. https://www.kaggle.com/datasets/mohamedbakhet/amazon-books-reviews\n",
    "# URL: https://www.kaggle.com/datasets/mohamedbakhet/amazon-books-reviews\n",
    "# This dataset contains 2 files\n",
    "# The first file** reviews** file contain feedback about 3M user on 212404 unique books the data set is \n",
    "# part of the Amazon review Dataset it contains product reviews and metadata from Amazon, including \n",
    "# 142.8 million reviews spanning May 1996 - July 2014.\n",
    "# Reviews Dataset Data Dictionary:\n",
    "# -id:                  The Id of Book\n",
    "# -Title:   \t        Book Title\n",
    "# -Price:               The price of Book\n",
    "# -User_id:             Id of the user who rates the book\n",
    "# -profileName:         Name of the user who rates the book\n",
    "# -review/helpfulness:  helpfulness rating of the review, e.g. 2/3\n",
    "# -review/score:        rating from 0 to 5 for the book\n",
    "# -review/time:         time of given the review\n",
    "# -review/summary:      the summary of a text review\n",
    "# -review/text:         the full text of a review\n",
    "\n",
    "# The second file Books Details file contains details information about 212404 unique books it file is built by using\n",
    "# google books API to get details information about books it rated in the first file\n",
    "# and this file contains\n",
    "\n",
    "# Book Details Dataset Data Dictionary:\n",
    "# Title:\t        Book Title\n",
    "# Descripe:\t        Decription of book\n",
    "# authors:\t        Name of book authors\n",
    "# image:\t        Url for book cover\n",
    "# previewLink:\t    Link to access this book on google Books\n",
    "# publisher:\t    Name of the publisheer\n",
    "# publishedDate:\tThe date of publish\n",
    "# infoLink:\t        Link to get more information about the book on google books\n",
    "# categories:\t    Genres of books\n",
    "# ratingsCount:\t    Averaging rating for book\n",
    "\n",
    "# Both Datasets are linked through the unique tittle of the book."
   ]
  },
  {
   "cell_type": "code",
   "execution_count": 2,
   "metadata": {},
   "outputs": [
    {
     "name": "stderr",
     "output_type": "stream",
     "text": [
      "/home/arnaldochm/Documents/BootCamp_DataScience/Final_Project/final_project_nlp/.venv/lib/python3.8/site-packages/tqdm/auto.py:21: TqdmWarning: IProgress not found. Please update jupyter and ipywidgets. See https://ipywidgets.readthedocs.io/en/stable/user_install.html\n",
      "  from .autonotebook import tqdm as notebook_tqdm\n",
      "2023-11-05 17:12:58.783487: I tensorflow/core/util/port.cc:110] oneDNN custom operations are on. You may see slightly different numerical results due to floating-point round-off errors from different computation orders. To turn them off, set the environment variable `TF_ENABLE_ONEDNN_OPTS=0`.\n",
      "2023-11-05 17:12:58.807470: I tensorflow/tsl/cuda/cudart_stub.cc:28] Could not find cuda drivers on your machine, GPU will not be used.\n",
      "2023-11-05 17:12:58.937088: I tensorflow/tsl/cuda/cudart_stub.cc:28] Could not find cuda drivers on your machine, GPU will not be used.\n",
      "2023-11-05 17:12:58.938246: I tensorflow/core/platform/cpu_feature_guard.cc:182] This TensorFlow binary is optimized to use available CPU instructions in performance-critical operations.\n",
      "To enable the following instructions: AVX2 AVX512F AVX512_VNNI FMA, in other operations, rebuild TensorFlow with the appropriate compiler flags.\n",
      "2023-11-05 17:12:59.941753: W tensorflow/compiler/tf2tensorrt/utils/py_utils.cc:38] TF-TRT Warning: Could not find TensorRT\n"
     ]
    }
   ],
   "source": [
    "# Step 0. Load libraries and custom modules\n",
    "import pandas as pd\n",
    "import numpy as np\n",
    "import matplotlib.pyplot as plt\n",
    "import seaborn as sns\n",
    "import os\n",
    "import nltk\n",
    "from nltk.corpus import stopwords\n",
    "from wordcloud import WordCloud\n",
    "import re\n",
    "from dateutil.parser import parse\n",
    "from datetime import datetime\n",
    "from datetime import date\n",
    "# ------------  PREPROCESING -------------\n",
    "from sklearn.model_selection import train_test_split\n",
    "from sklearn.decomposition import PCA\n",
    "from sklearn.decomposition import FastICA\n",
    "from sklearn.preprocessing import OneHotEncoder\n",
    "from sklearn.preprocessing import StandardScaler\n",
    "from sklearn.feature_extraction.text import TfidfVectorizer\n",
    "from sklearn.feature_extraction.text import CountVectorizer\n",
    "from nltk import download\n",
    "from nltk.corpus import stopwords\n",
    "from nltk.stem import WordNetLemmatizer\n",
    "#-------------- TRANSFORMERS --------------\n",
    "import transformers\n",
    "from transformers.pipelines import PIPELINE_REGISTRY\n",
    "from transformers import pipeline\n",
    "import evaluate\n",
    "from evaluate import load\n",
    "from transformers import Conversation\n",
    "transformers.logging.set_verbosity_error()"
   ]
  },
  {
   "cell_type": "code",
   "execution_count": 3,
   "metadata": {},
   "outputs": [
    {
     "name": "stdout",
     "output_type": "stream",
     "text": [
      "<class 'pandas.core.frame.DataFrame'>\n",
      "RangeIndex: 3000000 entries, 0 to 2999999\n",
      "Data columns (total 10 columns):\n",
      " #   Column              Dtype  \n",
      "---  ------              -----  \n",
      " 0   Id                  object \n",
      " 1   Title               object \n",
      " 2   Price               float64\n",
      " 3   User_id             object \n",
      " 4   profileName         object \n",
      " 5   review/helpfulness  object \n",
      " 6   review/score        float64\n",
      " 7   review/time         int64  \n",
      " 8   review/summary      object \n",
      " 9   review/text         object \n",
      "dtypes: float64(2), int64(1), object(7)\n",
      "memory usage: 228.9+ MB\n"
     ]
    }
   ],
   "source": [
    "#Loading the Datasets\n",
    "df_rating_raw = pd.read_csv('../data/raw/Books_rating.csv')\n",
    "\n",
    "df_rating_raw.info()\n"
   ]
  },
  {
   "cell_type": "code",
   "execution_count": 4,
   "metadata": {},
   "outputs": [
    {
     "data": {
      "text/html": [
       "<div>\n",
       "<style scoped>\n",
       "    .dataframe tbody tr th:only-of-type {\n",
       "        vertical-align: middle;\n",
       "    }\n",
       "\n",
       "    .dataframe tbody tr th {\n",
       "        vertical-align: top;\n",
       "    }\n",
       "\n",
       "    .dataframe thead th {\n",
       "        text-align: right;\n",
       "    }\n",
       "</style>\n",
       "<table border=\"1\" class=\"dataframe\">\n",
       "  <thead>\n",
       "    <tr style=\"text-align: right;\">\n",
       "      <th></th>\n",
       "      <th>Id</th>\n",
       "      <th>Title</th>\n",
       "      <th>Price</th>\n",
       "      <th>User_id</th>\n",
       "      <th>profileName</th>\n",
       "      <th>review/helpfulness</th>\n",
       "      <th>review/score</th>\n",
       "      <th>review/time</th>\n",
       "      <th>review/summary</th>\n",
       "      <th>review/text</th>\n",
       "    </tr>\n",
       "  </thead>\n",
       "  <tbody>\n",
       "    <tr>\n",
       "      <th>162516</th>\n",
       "      <td>B0006ITZ4S</td>\n",
       "      <td>Children of the Mind</td>\n",
       "      <td>NaN</td>\n",
       "      <td>AB68LG08VDFL3</td>\n",
       "      <td>R. Icks</td>\n",
       "      <td>0/0</td>\n",
       "      <td>5.0</td>\n",
       "      <td>1187395200</td>\n",
       "      <td>Yes!!</td>\n",
       "      <td>This novel, the fourth in the Ender's Game ser...</td>\n",
       "    </tr>\n",
       "    <tr>\n",
       "      <th>914778</th>\n",
       "      <td>B00005VPYB</td>\n",
       "      <td>Crawlspace</td>\n",
       "      <td>NaN</td>\n",
       "      <td>A1910QO2FW3OBQ</td>\n",
       "      <td>nusandman \"nusandman\"</td>\n",
       "      <td>11/11</td>\n",
       "      <td>5.0</td>\n",
       "      <td>1011916800</td>\n",
       "      <td>Poor Richard</td>\n",
       "      <td>Crawlspace is a book that my friend Chuck had ...</td>\n",
       "    </tr>\n",
       "    <tr>\n",
       "      <th>1044706</th>\n",
       "      <td>B000J68V8I</td>\n",
       "      <td>Sunk!</td>\n",
       "      <td>NaN</td>\n",
       "      <td>AJUG9BGD03QQL</td>\n",
       "      <td>Gunnarbabramson</td>\n",
       "      <td>0/0</td>\n",
       "      <td>4.0</td>\n",
       "      <td>1178064000</td>\n",
       "      <td>A Good General Insider's History of WWII IJN S...</td>\n",
       "      <td>Sunk! is a good overview of IJN sub ops in WWI...</td>\n",
       "    </tr>\n",
       "    <tr>\n",
       "      <th>507927</th>\n",
       "      <td>B000OVCSWS</td>\n",
       "      <td>Norstrilia</td>\n",
       "      <td>NaN</td>\n",
       "      <td>A21Z8FUB9IZI2L</td>\n",
       "      <td>not4prophet</td>\n",
       "      <td>11/24</td>\n",
       "      <td>3.0</td>\n",
       "      <td>1136419200</td>\n",
       "      <td>Puzzling</td>\n",
       "      <td>I just finished \"Norstrilia\" a couple days ago...</td>\n",
       "    </tr>\n",
       "    <tr>\n",
       "      <th>2577448</th>\n",
       "      <td>0670032093</td>\n",
       "      <td>When Presidents Lie: A History of Official Dec...</td>\n",
       "      <td>NaN</td>\n",
       "      <td>A34BYYNYG6CHNX</td>\n",
       "      <td>Sean R. Funk \"sfunk1x\"</td>\n",
       "      <td>9/11</td>\n",
       "      <td>5.0</td>\n",
       "      <td>1103068800</td>\n",
       "      <td>An excellent examination of recorded events an...</td>\n",
       "      <td>Some people may scoff at the idea of exposing ...</td>\n",
       "    </tr>\n",
       "    <tr>\n",
       "      <th>1129201</th>\n",
       "      <td>0152020195</td>\n",
       "      <td>The Pig in the Spigot</td>\n",
       "      <td>NaN</td>\n",
       "      <td>A9548V2EHM46B</td>\n",
       "      <td>IT Man \"sagamore\"</td>\n",
       "      <td>3/3</td>\n",
       "      <td>5.0</td>\n",
       "      <td>980899200</td>\n",
       "      <td>Phun Phonics!</td>\n",
       "      <td>Great illustrations, a fun addition to a phoni...</td>\n",
       "    </tr>\n",
       "    <tr>\n",
       "      <th>2904418</th>\n",
       "      <td>0962481351</td>\n",
       "      <td>Claim Paid: A Consumers Guide Through the Insu...</td>\n",
       "      <td>NaN</td>\n",
       "      <td>A3SU5P2IT1DCMQ</td>\n",
       "      <td>Jimmy Stewart \"RadioComputerSupply.com\"</td>\n",
       "      <td>1/1</td>\n",
       "      <td>5.0</td>\n",
       "      <td>1229126400</td>\n",
       "      <td>Worth the cost of the book</td>\n",
       "      <td>Used this for my claim and it was worth every ...</td>\n",
       "    </tr>\n",
       "    <tr>\n",
       "      <th>1406071</th>\n",
       "      <td>0763726753</td>\n",
       "      <td>Accounting Fundamentals for Health Care Manage...</td>\n",
       "      <td>88.73</td>\n",
       "      <td>A3DJKLLLWYYMG5</td>\n",
       "      <td>dmos</td>\n",
       "      <td>0/0</td>\n",
       "      <td>4.0</td>\n",
       "      <td>1305331200</td>\n",
       "      <td>I like it</td>\n",
       "      <td>Used it a fair amount for school that only pro...</td>\n",
       "    </tr>\n",
       "    <tr>\n",
       "      <th>765876</th>\n",
       "      <td>B000NIMREG</td>\n",
       "      <td>A Girl of the Limberlost</td>\n",
       "      <td>NaN</td>\n",
       "      <td>AMD7RGC6GT3DQ</td>\n",
       "      <td>Halifig</td>\n",
       "      <td>0/0</td>\n",
       "      <td>5.0</td>\n",
       "      <td>1295308800</td>\n",
       "      <td>Great book</td>\n",
       "      <td>I enjoyed this book a great deal. I was amazed...</td>\n",
       "    </tr>\n",
       "    <tr>\n",
       "      <th>973107</th>\n",
       "      <td>B000P0Y1BE</td>\n",
       "      <td>Journey to the Center of the Earth</td>\n",
       "      <td>NaN</td>\n",
       "      <td>A1C2T3URP6IJ2R</td>\n",
       "      <td>HIDHO</td>\n",
       "      <td>0/0</td>\n",
       "      <td>5.0</td>\n",
       "      <td>1319328000</td>\n",
       "      <td>Thank you Amazon</td>\n",
       "      <td>Thank you Amazon for choosing A Journey to the...</td>\n",
       "    </tr>\n",
       "  </tbody>\n",
       "</table>\n",
       "</div>"
      ],
      "text/plain": [
       "                 Id                                              Title  Price  \\\n",
       "162516   B0006ITZ4S                               Children of the Mind    NaN   \n",
       "914778   B00005VPYB                                         Crawlspace    NaN   \n",
       "1044706  B000J68V8I                                              Sunk!    NaN   \n",
       "507927   B000OVCSWS                                         Norstrilia    NaN   \n",
       "2577448  0670032093  When Presidents Lie: A History of Official Dec...    NaN   \n",
       "1129201  0152020195                              The Pig in the Spigot    NaN   \n",
       "2904418  0962481351  Claim Paid: A Consumers Guide Through the Insu...    NaN   \n",
       "1406071  0763726753  Accounting Fundamentals for Health Care Manage...  88.73   \n",
       "765876   B000NIMREG                           A Girl of the Limberlost    NaN   \n",
       "973107   B000P0Y1BE                 Journey to the Center of the Earth    NaN   \n",
       "\n",
       "                User_id                              profileName  \\\n",
       "162516    AB68LG08VDFL3                                  R. Icks   \n",
       "914778   A1910QO2FW3OBQ                    nusandman \"nusandman\"   \n",
       "1044706   AJUG9BGD03QQL                          Gunnarbabramson   \n",
       "507927   A21Z8FUB9IZI2L                              not4prophet   \n",
       "2577448  A34BYYNYG6CHNX                   Sean R. Funk \"sfunk1x\"   \n",
       "1129201   A9548V2EHM46B                        IT Man \"sagamore\"   \n",
       "2904418  A3SU5P2IT1DCMQ  Jimmy Stewart \"RadioComputerSupply.com\"   \n",
       "1406071  A3DJKLLLWYYMG5                                     dmos   \n",
       "765876    AMD7RGC6GT3DQ                                  Halifig   \n",
       "973107   A1C2T3URP6IJ2R                                    HIDHO   \n",
       "\n",
       "        review/helpfulness  review/score  review/time  \\\n",
       "162516                 0/0           5.0   1187395200   \n",
       "914778               11/11           5.0   1011916800   \n",
       "1044706                0/0           4.0   1178064000   \n",
       "507927               11/24           3.0   1136419200   \n",
       "2577448               9/11           5.0   1103068800   \n",
       "1129201                3/3           5.0    980899200   \n",
       "2904418                1/1           5.0   1229126400   \n",
       "1406071                0/0           4.0   1305331200   \n",
       "765876                 0/0           5.0   1295308800   \n",
       "973107                 0/0           5.0   1319328000   \n",
       "\n",
       "                                            review/summary  \\\n",
       "162516                                               Yes!!   \n",
       "914778                                        Poor Richard   \n",
       "1044706  A Good General Insider's History of WWII IJN S...   \n",
       "507927                                            Puzzling   \n",
       "2577448  An excellent examination of recorded events an...   \n",
       "1129201                                      Phun Phonics!   \n",
       "2904418                         Worth the cost of the book   \n",
       "1406071                                          I like it   \n",
       "765876                                          Great book   \n",
       "973107                                    Thank you Amazon   \n",
       "\n",
       "                                               review/text  \n",
       "162516   This novel, the fourth in the Ender's Game ser...  \n",
       "914778   Crawlspace is a book that my friend Chuck had ...  \n",
       "1044706  Sunk! is a good overview of IJN sub ops in WWI...  \n",
       "507927   I just finished \"Norstrilia\" a couple days ago...  \n",
       "2577448  Some people may scoff at the idea of exposing ...  \n",
       "1129201  Great illustrations, a fun addition to a phoni...  \n",
       "2904418  Used this for my claim and it was worth every ...  \n",
       "1406071  Used it a fair amount for school that only pro...  \n",
       "765876   I enjoyed this book a great deal. I was amazed...  \n",
       "973107   Thank you Amazon for choosing A Journey to the...  "
      ]
     },
     "execution_count": 4,
     "metadata": {},
     "output_type": "execute_result"
    }
   ],
   "source": [
    "df_rating_raw.sample(10)"
   ]
  },
  {
   "cell_type": "code",
   "execution_count": 5,
   "metadata": {},
   "outputs": [
    {
     "name": "stdout",
     "output_type": "stream",
     "text": [
      "<class 'pandas.core.frame.DataFrame'>\n",
      "RangeIndex: 212404 entries, 0 to 212403\n",
      "Data columns (total 10 columns):\n",
      " #   Column         Non-Null Count   Dtype  \n",
      "---  ------         --------------   -----  \n",
      " 0   Title          212403 non-null  object \n",
      " 1   description    143962 non-null  object \n",
      " 2   authors        180991 non-null  object \n",
      " 3   image          160329 non-null  object \n",
      " 4   previewLink    188568 non-null  object \n",
      " 5   publisher      136518 non-null  object \n",
      " 6   publishedDate  187099 non-null  object \n",
      " 7   infoLink       188568 non-null  object \n",
      " 8   categories     171205 non-null  object \n",
      " 9   ratingsCount   49752 non-null   float64\n",
      "dtypes: float64(1), object(9)\n",
      "memory usage: 16.2+ MB\n"
     ]
    }
   ],
   "source": [
    "#Load Books Data Dataset\n",
    "df_data_raw = pd.read_csv('../data/raw/books_data.csv')\n",
    "\n",
    "df_data_raw.info()"
   ]
  },
  {
   "cell_type": "code",
   "execution_count": 6,
   "metadata": {},
   "outputs": [
    {
     "data": {
      "text/html": [
       "<div>\n",
       "<style scoped>\n",
       "    .dataframe tbody tr th:only-of-type {\n",
       "        vertical-align: middle;\n",
       "    }\n",
       "\n",
       "    .dataframe tbody tr th {\n",
       "        vertical-align: top;\n",
       "    }\n",
       "\n",
       "    .dataframe thead th {\n",
       "        text-align: right;\n",
       "    }\n",
       "</style>\n",
       "<table border=\"1\" class=\"dataframe\">\n",
       "  <thead>\n",
       "    <tr style=\"text-align: right;\">\n",
       "      <th></th>\n",
       "      <th>Title</th>\n",
       "      <th>description</th>\n",
       "      <th>authors</th>\n",
       "      <th>image</th>\n",
       "      <th>previewLink</th>\n",
       "      <th>publisher</th>\n",
       "      <th>publishedDate</th>\n",
       "      <th>infoLink</th>\n",
       "      <th>categories</th>\n",
       "      <th>ratingsCount</th>\n",
       "    </tr>\n",
       "  </thead>\n",
       "  <tbody>\n",
       "    <tr>\n",
       "      <th>96914</th>\n",
       "      <td>Sociological Theory in the Classical Era: Text...</td>\n",
       "      <td>Sociological Theory in the Classical Era, Four...</td>\n",
       "      <td>['Laura Desfor Edles', 'Scott Appelrouth']</td>\n",
       "      <td>http://books.google.com/books/content?id=IHXnD...</td>\n",
       "      <td>http://books.google.com/books?id=IHXnDwAAQBAJ&amp;...</td>\n",
       "      <td>SAGE Publications</td>\n",
       "      <td>2020-06-18</td>\n",
       "      <td>http://books.google.com/books?id=IHXnDwAAQBAJ&amp;...</td>\n",
       "      <td>['Social Science']</td>\n",
       "      <td>NaN</td>\n",
       "    </tr>\n",
       "    <tr>\n",
       "      <th>8415</th>\n",
       "      <td>A Plethora of Platitudes: A Collection of Clic...</td>\n",
       "      <td>Platitudes, cliches and adages are pervasive i...</td>\n",
       "      <td>['Jay J. Smith']</td>\n",
       "      <td>http://books.google.com/books/content?id=tWewH...</td>\n",
       "      <td>http://books.google.nl/books?id=tWewH7VmI88C&amp;p...</td>\n",
       "      <td>iUniverse</td>\n",
       "      <td>2000-07-11</td>\n",
       "      <td>https://play.google.com/store/books/details?id...</td>\n",
       "      <td>['Literary Collections']</td>\n",
       "      <td>NaN</td>\n",
       "    </tr>\n",
       "    <tr>\n",
       "      <th>156265</th>\n",
       "      <td>Three who made a revolution,: A biographical h...</td>\n",
       "      <td>Biographical history of Lenin, Trotsky, and St...</td>\n",
       "      <td>['Bertram David Wolfe']</td>\n",
       "      <td>http://books.google.com/books/content?id=-sMeA...</td>\n",
       "      <td>http://books.google.com/books?id=-sMeAAAAMAAJ&amp;...</td>\n",
       "      <td>New York : Dial Press</td>\n",
       "      <td>1964</td>\n",
       "      <td>http://books.google.com/books?id=-sMeAAAAMAAJ&amp;...</td>\n",
       "      <td>['Políticos']</td>\n",
       "      <td>NaN</td>\n",
       "    </tr>\n",
       "    <tr>\n",
       "      <th>112197</th>\n",
       "      <td>A Prescription for Long-Lasting Youth: How els...</td>\n",
       "      <td>After thirty-eight years working in the comput...</td>\n",
       "      <td>['Dian Jen']</td>\n",
       "      <td>http://books.google.com/books/content?id=Z7RbH...</td>\n",
       "      <td>http://books.google.nl/books?id=Z7RbHpkeay0C&amp;p...</td>\n",
       "      <td>Author House</td>\n",
       "      <td>2006-02-17</td>\n",
       "      <td>https://play.google.com/store/books/details?id...</td>\n",
       "      <td>['Health &amp; Fitness']</td>\n",
       "      <td>NaN</td>\n",
       "    </tr>\n",
       "    <tr>\n",
       "      <th>26288</th>\n",
       "      <td>Detroit Then and Now (Then &amp; Now)</td>\n",
       "      <td>Founded in 1701 by Antoine de le Mothe Cadilla...</td>\n",
       "      <td>['Cheri Y. Gay']</td>\n",
       "      <td>http://books.google.com/books/content?id=9lDUD...</td>\n",
       "      <td>http://books.google.com/books?id=9lDUDwAAQBAJ&amp;...</td>\n",
       "      <td>Rizzoli Publications</td>\n",
       "      <td>2016-04-01</td>\n",
       "      <td>http://books.google.com/books?id=9lDUDwAAQBAJ&amp;...</td>\n",
       "      <td>['Photography']</td>\n",
       "      <td>2.0</td>\n",
       "    </tr>\n",
       "    <tr>\n",
       "      <th>103179</th>\n",
       "      <td>Pictorial analysis of power volleyball</td>\n",
       "      <td>NaN</td>\n",
       "      <td>['James E. Coleman', 'Taras N. Liskevych']</td>\n",
       "      <td>NaN</td>\n",
       "      <td>http://books.google.com/books?id=pUopGQAACAAJ&amp;...</td>\n",
       "      <td>NaN</td>\n",
       "      <td>1976</td>\n",
       "      <td>http://books.google.com/books?id=pUopGQAACAAJ&amp;...</td>\n",
       "      <td>['Volleyball']</td>\n",
       "      <td>NaN</td>\n",
       "    </tr>\n",
       "    <tr>\n",
       "      <th>196942</th>\n",
       "      <td>Deep Empire (Deathlands)</td>\n",
       "      <td>Ryan Cawdor and his band of warrior-survivalis...</td>\n",
       "      <td>['James Axler']</td>\n",
       "      <td>NaN</td>\n",
       "      <td>http://books.google.com/books?id=F_NyAAAACAAJ&amp;...</td>\n",
       "      <td>Harlequin Books</td>\n",
       "      <td>1993-12-01</td>\n",
       "      <td>http://books.google.com/books?id=F_NyAAAACAAJ&amp;...</td>\n",
       "      <td>['Fiction']</td>\n",
       "      <td>NaN</td>\n",
       "    </tr>\n",
       "    <tr>\n",
       "      <th>177589</th>\n",
       "      <td>Measuring and Monitoring Biological Diversity:...</td>\n",
       "      <td>NaN</td>\n",
       "      <td>NaN</td>\n",
       "      <td>NaN</td>\n",
       "      <td>NaN</td>\n",
       "      <td>NaN</td>\n",
       "      <td>NaN</td>\n",
       "      <td>NaN</td>\n",
       "      <td>NaN</td>\n",
       "      <td>NaN</td>\n",
       "    </tr>\n",
       "    <tr>\n",
       "      <th>52804</th>\n",
       "      <td>A Suitable Job for a Woman: Inside the World o...</td>\n",
       "      <td>Reviews of the Series: \"The McFarland Companio...</td>\n",
       "      <td>['Margaret Kinsman']</td>\n",
       "      <td>http://books.google.com/books/content?id=se0tD...</td>\n",
       "      <td>http://books.google.com/books?id=se0tDQAAQBAJ&amp;...</td>\n",
       "      <td>McFarland</td>\n",
       "      <td>2016-09-29</td>\n",
       "      <td>http://books.google.com/books?id=se0tDQAAQBAJ&amp;...</td>\n",
       "      <td>['Literary Criticism']</td>\n",
       "      <td>NaN</td>\n",
       "    </tr>\n",
       "    <tr>\n",
       "      <th>62830</th>\n",
       "      <td>Squeaky Clean</td>\n",
       "      <td>Squeaky Clean Keto marries the principles of c...</td>\n",
       "      <td>['Mellissa Sevigny']</td>\n",
       "      <td>http://books.google.com/books/content?id=CZYIE...</td>\n",
       "      <td>http://books.google.com/books?id=CZYIEAAAQBAJ&amp;...</td>\n",
       "      <td>Victory Belt Publishing</td>\n",
       "      <td>2020-06-16</td>\n",
       "      <td>http://books.google.com/books?id=CZYIEAAAQBAJ&amp;...</td>\n",
       "      <td>['Cooking']</td>\n",
       "      <td>NaN</td>\n",
       "    </tr>\n",
       "  </tbody>\n",
       "</table>\n",
       "</div>"
      ],
      "text/plain": [
       "                                                    Title  \\\n",
       "96914   Sociological Theory in the Classical Era: Text...   \n",
       "8415    A Plethora of Platitudes: A Collection of Clic...   \n",
       "156265  Three who made a revolution,: A biographical h...   \n",
       "112197  A Prescription for Long-Lasting Youth: How els...   \n",
       "26288                   Detroit Then and Now (Then & Now)   \n",
       "103179             Pictorial analysis of power volleyball   \n",
       "196942                           Deep Empire (Deathlands)   \n",
       "177589  Measuring and Monitoring Biological Diversity:...   \n",
       "52804   A Suitable Job for a Woman: Inside the World o...   \n",
       "62830                                       Squeaky Clean   \n",
       "\n",
       "                                              description  \\\n",
       "96914   Sociological Theory in the Classical Era, Four...   \n",
       "8415    Platitudes, cliches and adages are pervasive i...   \n",
       "156265  Biographical history of Lenin, Trotsky, and St...   \n",
       "112197  After thirty-eight years working in the comput...   \n",
       "26288   Founded in 1701 by Antoine de le Mothe Cadilla...   \n",
       "103179                                                NaN   \n",
       "196942  Ryan Cawdor and his band of warrior-survivalis...   \n",
       "177589                                                NaN   \n",
       "52804   Reviews of the Series: \"The McFarland Companio...   \n",
       "62830   Squeaky Clean Keto marries the principles of c...   \n",
       "\n",
       "                                           authors  \\\n",
       "96914   ['Laura Desfor Edles', 'Scott Appelrouth']   \n",
       "8415                              ['Jay J. Smith']   \n",
       "156265                     ['Bertram David Wolfe']   \n",
       "112197                                ['Dian Jen']   \n",
       "26288                             ['Cheri Y. Gay']   \n",
       "103179  ['James E. Coleman', 'Taras N. Liskevych']   \n",
       "196942                             ['James Axler']   \n",
       "177589                                         NaN   \n",
       "52804                         ['Margaret Kinsman']   \n",
       "62830                         ['Mellissa Sevigny']   \n",
       "\n",
       "                                                    image  \\\n",
       "96914   http://books.google.com/books/content?id=IHXnD...   \n",
       "8415    http://books.google.com/books/content?id=tWewH...   \n",
       "156265  http://books.google.com/books/content?id=-sMeA...   \n",
       "112197  http://books.google.com/books/content?id=Z7RbH...   \n",
       "26288   http://books.google.com/books/content?id=9lDUD...   \n",
       "103179                                                NaN   \n",
       "196942                                                NaN   \n",
       "177589                                                NaN   \n",
       "52804   http://books.google.com/books/content?id=se0tD...   \n",
       "62830   http://books.google.com/books/content?id=CZYIE...   \n",
       "\n",
       "                                              previewLink  \\\n",
       "96914   http://books.google.com/books?id=IHXnDwAAQBAJ&...   \n",
       "8415    http://books.google.nl/books?id=tWewH7VmI88C&p...   \n",
       "156265  http://books.google.com/books?id=-sMeAAAAMAAJ&...   \n",
       "112197  http://books.google.nl/books?id=Z7RbHpkeay0C&p...   \n",
       "26288   http://books.google.com/books?id=9lDUDwAAQBAJ&...   \n",
       "103179  http://books.google.com/books?id=pUopGQAACAAJ&...   \n",
       "196942  http://books.google.com/books?id=F_NyAAAACAAJ&...   \n",
       "177589                                                NaN   \n",
       "52804   http://books.google.com/books?id=se0tDQAAQBAJ&...   \n",
       "62830   http://books.google.com/books?id=CZYIEAAAQBAJ&...   \n",
       "\n",
       "                      publisher publishedDate  \\\n",
       "96914         SAGE Publications    2020-06-18   \n",
       "8415                  iUniverse    2000-07-11   \n",
       "156265    New York : Dial Press          1964   \n",
       "112197             Author House    2006-02-17   \n",
       "26288      Rizzoli Publications    2016-04-01   \n",
       "103179                      NaN          1976   \n",
       "196942          Harlequin Books    1993-12-01   \n",
       "177589                      NaN           NaN   \n",
       "52804                 McFarland    2016-09-29   \n",
       "62830   Victory Belt Publishing    2020-06-16   \n",
       "\n",
       "                                                 infoLink  \\\n",
       "96914   http://books.google.com/books?id=IHXnDwAAQBAJ&...   \n",
       "8415    https://play.google.com/store/books/details?id...   \n",
       "156265  http://books.google.com/books?id=-sMeAAAAMAAJ&...   \n",
       "112197  https://play.google.com/store/books/details?id...   \n",
       "26288   http://books.google.com/books?id=9lDUDwAAQBAJ&...   \n",
       "103179  http://books.google.com/books?id=pUopGQAACAAJ&...   \n",
       "196942  http://books.google.com/books?id=F_NyAAAACAAJ&...   \n",
       "177589                                                NaN   \n",
       "52804   http://books.google.com/books?id=se0tDQAAQBAJ&...   \n",
       "62830   http://books.google.com/books?id=CZYIEAAAQBAJ&...   \n",
       "\n",
       "                      categories  ratingsCount  \n",
       "96914         ['Social Science']           NaN  \n",
       "8415    ['Literary Collections']           NaN  \n",
       "156265             ['Políticos']           NaN  \n",
       "112197      ['Health & Fitness']           NaN  \n",
       "26288            ['Photography']           2.0  \n",
       "103179            ['Volleyball']           NaN  \n",
       "196942               ['Fiction']           NaN  \n",
       "177589                       NaN           NaN  \n",
       "52804     ['Literary Criticism']           NaN  \n",
       "62830                ['Cooking']           NaN  "
      ]
     },
     "execution_count": 6,
     "metadata": {},
     "output_type": "execute_result"
    }
   ],
   "source": [
    "df_data_raw.sample(10)"
   ]
  },
  {
   "cell_type": "code",
   "execution_count": 7,
   "metadata": {},
   "outputs": [
    {
     "data": {
      "text/plain": [
       "Id                          0\n",
       "Title                     208\n",
       "Price                 2518829\n",
       "User_id                561787\n",
       "profileName            561905\n",
       "review/helpfulness          0\n",
       "review/score                0\n",
       "review/time                 0\n",
       "review/summary            407\n",
       "review/text                 8\n",
       "dtype: int64"
      ]
     },
     "execution_count": 7,
     "metadata": {},
     "output_type": "execute_result"
    }
   ],
   "source": [
    "#Revisar Valores Nulos\n",
    "df_rating_raw.isna().sum()"
   ]
  },
  {
   "cell_type": "code",
   "execution_count": 8,
   "metadata": {},
   "outputs": [
    {
     "data": {
      "text/plain": [
       "Title                 1\n",
       "description       68442\n",
       "authors           31413\n",
       "image             52075\n",
       "previewLink       23836\n",
       "publisher         75886\n",
       "publishedDate     25305\n",
       "infoLink          23836\n",
       "categories        41199\n",
       "ratingsCount     162652\n",
       "dtype: int64"
      ]
     },
     "execution_count": 8,
     "metadata": {},
     "output_type": "execute_result"
    }
   ],
   "source": [
    "df_data_raw.isna().sum()"
   ]
  },
  {
   "cell_type": "code",
   "execution_count": 9,
   "metadata": {},
   "outputs": [],
   "source": [
    "#Innecesary Columns are removed\n",
    "# df_rating: \n",
    "#   - Price: Almost 84% of the entries are null. \n",
    "#   - profileName: Unique identifier for each user performing the review. Variable with cardinality excess. \n",
    "#   - User_id: Unique identifier for each user performing the review. Variable with cardinality excess.\n",
    "#   - Id: Innecesary column.\n",
    "#   - review/summary: Unncesary column for current analysis. Many summaries used are the same Book Title.\n",
    "#   - Title Feature Removal: This feature is unique for each book. And it is extremly correlated with Authors. As the same \n",
    "#       book Title will always have the same author. So, authors feature is kept and Title is removed.    \n",
    "#       This feature is removed later as it will be used to join both Datasets. \n",
    "# df_data:\n",
    "#   - image, previewLink, infoLink: Not useful information.\n",
    "#   - ratingsCount: Information from Google API. Not useful for the analysis.\n",
    "#   - description: Non necesary information for Analysis\n",
    "\n",
    "df_rating_processed = df_rating_raw.drop(['Id','profileName', 'User_id','Price','review/summary'], axis=1).copy()\n",
    "df_data_processed = df_data_raw.drop(['image','previewLink','infoLink','ratingsCount','description'], axis=1).copy()"
   ]
  },
  {
   "cell_type": "code",
   "execution_count": 10,
   "metadata": {},
   "outputs": [
    {
     "data": {
      "text/html": [
       "<div>\n",
       "<style scoped>\n",
       "    .dataframe tbody tr th:only-of-type {\n",
       "        vertical-align: middle;\n",
       "    }\n",
       "\n",
       "    .dataframe tbody tr th {\n",
       "        vertical-align: top;\n",
       "    }\n",
       "\n",
       "    .dataframe thead th {\n",
       "        text-align: right;\n",
       "    }\n",
       "</style>\n",
       "<table border=\"1\" class=\"dataframe\">\n",
       "  <thead>\n",
       "    <tr style=\"text-align: right;\">\n",
       "      <th></th>\n",
       "      <th>Title</th>\n",
       "      <th>review/helpfulness</th>\n",
       "      <th>review/score</th>\n",
       "      <th>review/time</th>\n",
       "      <th>review/text</th>\n",
       "    </tr>\n",
       "  </thead>\n",
       "  <tbody>\n",
       "    <tr>\n",
       "      <th>1508293</th>\n",
       "      <td>Counterpunch: Making Type in the 16th Century,...</td>\n",
       "      <td>3/3</td>\n",
       "      <td>5.0</td>\n",
       "      <td>1011225600</td>\n",
       "      <td>This is a wonderful book. To write it, Fred Sm...</td>\n",
       "    </tr>\n",
       "    <tr>\n",
       "      <th>2634284</th>\n",
       "      <td>Central Philosophy of Buddhism: A Study of Mad...</td>\n",
       "      <td>5/5</td>\n",
       "      <td>5.0</td>\n",
       "      <td>1215820800</td>\n",
       "      <td>This classic is a wonderful exposition of the ...</td>\n",
       "    </tr>\n",
       "    <tr>\n",
       "      <th>1482622</th>\n",
       "      <td>Tezuka School of Animation, 1: Learning the Ba...</td>\n",
       "      <td>3/3</td>\n",
       "      <td>5.0</td>\n",
       "      <td>1141084800</td>\n",
       "      <td>This book is one of the most useful tools for ...</td>\n",
       "    </tr>\n",
       "    <tr>\n",
       "      <th>1544951</th>\n",
       "      <td>Power/Knowledge: Selected Interviews and Other...</td>\n",
       "      <td>12/17</td>\n",
       "      <td>5.0</td>\n",
       "      <td>1008547200</td>\n",
       "      <td>The relationship between knowledge, truth and ...</td>\n",
       "    </tr>\n",
       "    <tr>\n",
       "      <th>423418</th>\n",
       "      <td>How To Make Your Business Run Without You</td>\n",
       "      <td>31/32</td>\n",
       "      <td>5.0</td>\n",
       "      <td>960249600</td>\n",
       "      <td>An associate of mine recommended this book to ...</td>\n",
       "    </tr>\n",
       "    <tr>\n",
       "      <th>2491368</th>\n",
       "      <td>The Hobbit</td>\n",
       "      <td>0/0</td>\n",
       "      <td>4.0</td>\n",
       "      <td>939081600</td>\n",
       "      <td>Poor Bilbo Baggins! Once a short, rather plump...</td>\n",
       "    </tr>\n",
       "    <tr>\n",
       "      <th>1621306</th>\n",
       "      <td>The Matisse Stories</td>\n",
       "      <td>2/6</td>\n",
       "      <td>2.0</td>\n",
       "      <td>1053907200</td>\n",
       "      <td>I think this was probably a bad book to pick. ...</td>\n",
       "    </tr>\n",
       "    <tr>\n",
       "      <th>1135774</th>\n",
       "      <td>Catherine: The Great Journey, Russia, 1743 (Th...</td>\n",
       "      <td>0/1</td>\n",
       "      <td>4.0</td>\n",
       "      <td>1178841600</td>\n",
       "      <td>This diary, about Catherine the Great, was enj...</td>\n",
       "    </tr>\n",
       "    <tr>\n",
       "      <th>2099192</th>\n",
       "      <td>Shibumi/Shibumi (Spanish Edition)</td>\n",
       "      <td>2/2</td>\n",
       "      <td>5.0</td>\n",
       "      <td>982281600</td>\n",
       "      <td>I have read all of Trevanian's books I came ac...</td>\n",
       "    </tr>\n",
       "    <tr>\n",
       "      <th>222659</th>\n",
       "      <td>Chesapeake Blue (Chesapeake Bay Series)</td>\n",
       "      <td>0/1</td>\n",
       "      <td>5.0</td>\n",
       "      <td>1054080000</td>\n",
       "      <td>I bought the CD unabridged. It's the first tim...</td>\n",
       "    </tr>\n",
       "  </tbody>\n",
       "</table>\n",
       "</div>"
      ],
      "text/plain": [
       "                                                     Title review/helpfulness  \\\n",
       "1508293  Counterpunch: Making Type in the 16th Century,...                3/3   \n",
       "2634284  Central Philosophy of Buddhism: A Study of Mad...                5/5   \n",
       "1482622  Tezuka School of Animation, 1: Learning the Ba...                3/3   \n",
       "1544951  Power/Knowledge: Selected Interviews and Other...              12/17   \n",
       "423418           How To Make Your Business Run Without You              31/32   \n",
       "2491368                                         The Hobbit                0/0   \n",
       "1621306                                The Matisse Stories                2/6   \n",
       "1135774  Catherine: The Great Journey, Russia, 1743 (Th...                0/1   \n",
       "2099192                  Shibumi/Shibumi (Spanish Edition)                2/2   \n",
       "222659             Chesapeake Blue (Chesapeake Bay Series)                0/1   \n",
       "\n",
       "         review/score  review/time  \\\n",
       "1508293           5.0   1011225600   \n",
       "2634284           5.0   1215820800   \n",
       "1482622           5.0   1141084800   \n",
       "1544951           5.0   1008547200   \n",
       "423418            5.0    960249600   \n",
       "2491368           4.0    939081600   \n",
       "1621306           2.0   1053907200   \n",
       "1135774           4.0   1178841600   \n",
       "2099192           5.0    982281600   \n",
       "222659            5.0   1054080000   \n",
       "\n",
       "                                               review/text  \n",
       "1508293  This is a wonderful book. To write it, Fred Sm...  \n",
       "2634284  This classic is a wonderful exposition of the ...  \n",
       "1482622  This book is one of the most useful tools for ...  \n",
       "1544951  The relationship between knowledge, truth and ...  \n",
       "423418   An associate of mine recommended this book to ...  \n",
       "2491368  Poor Bilbo Baggins! Once a short, rather plump...  \n",
       "1621306  I think this was probably a bad book to pick. ...  \n",
       "1135774  This diary, about Catherine the Great, was enj...  \n",
       "2099192  I have read all of Trevanian's books I came ac...  \n",
       "222659   I bought the CD unabridged. It's the first tim...  "
      ]
     },
     "execution_count": 10,
     "metadata": {},
     "output_type": "execute_result"
    }
   ],
   "source": [
    "df_rating_processed.sample(10)"
   ]
  },
  {
   "cell_type": "code",
   "execution_count": 11,
   "metadata": {},
   "outputs": [],
   "source": [
    "df_rating_processed = df_rating_processed.rename(columns={'Title':'title',                                                        \n",
    "                                                        'review/helpfulness': 'helpfulness',\n",
    "                                                        'review/score': 'review',\n",
    "                                                        'review/time': 'review_time',\n",
    "                                                        'review/text': 'text'\n",
    "                                                        })\n",
    "df_data_processed = df_data_processed.rename(columns={'Title':'title', \n",
    "                                                        'publishedDate':'published_date'\n",
    "                                                        })"
   ]
  },
  {
   "cell_type": "code",
   "execution_count": 12,
   "metadata": {},
   "outputs": [
    {
     "data": {
      "text/plain": [
       "title          208\n",
       "helpfulness      0\n",
       "review           0\n",
       "review_time      0\n",
       "text             8\n",
       "dtype: int64"
      ]
     },
     "execution_count": 12,
     "metadata": {},
     "output_type": "execute_result"
    }
   ],
   "source": [
    "df_rating_processed.isna().sum()"
   ]
  },
  {
   "cell_type": "code",
   "execution_count": 13,
   "metadata": {},
   "outputs": [
    {
     "data": {
      "text/plain": [
       "title                 1\n",
       "authors           31413\n",
       "publisher         75886\n",
       "published_date    25305\n",
       "categories        41199\n",
       "dtype: int64"
      ]
     },
     "execution_count": 13,
     "metadata": {},
     "output_type": "execute_result"
    }
   ],
   "source": [
    "df_data_processed.isna().sum()"
   ]
  },
  {
   "cell_type": "code",
   "execution_count": 14,
   "metadata": {},
   "outputs": [],
   "source": [
    "#CLEAN THE DATASETS"
   ]
  },
  {
   "cell_type": "code",
   "execution_count": 15,
   "metadata": {},
   "outputs": [],
   "source": [
    "#As both datasets are going to be merged by Title, Rows with Null Title are removed.\n",
    "df_rating_processed = df_rating_processed.dropna(subset=['text'], how='any')\n",
    "\n",
    "df_data_processed = df_data_processed.dropna(subset=['title'])\n",
    "\n",
    "#Drop rows where everything except title is null\n",
    "df_data_processed = df_data_processed.dropna(subset=['authors', 'publisher', 'published_date', 'categories'], how='all')"
   ]
  },
  {
   "cell_type": "code",
   "execution_count": 16,
   "metadata": {},
   "outputs": [
    {
     "data": {
      "text/html": [
       "<div>\n",
       "<style scoped>\n",
       "    .dataframe tbody tr th:only-of-type {\n",
       "        vertical-align: middle;\n",
       "    }\n",
       "\n",
       "    .dataframe tbody tr th {\n",
       "        vertical-align: top;\n",
       "    }\n",
       "\n",
       "    .dataframe thead th {\n",
       "        text-align: right;\n",
       "    }\n",
       "</style>\n",
       "<table border=\"1\" class=\"dataframe\">\n",
       "  <thead>\n",
       "    <tr style=\"text-align: right;\">\n",
       "      <th></th>\n",
       "      <th>title</th>\n",
       "      <th>authors</th>\n",
       "      <th>publisher</th>\n",
       "      <th>published_date</th>\n",
       "      <th>categories</th>\n",
       "    </tr>\n",
       "  </thead>\n",
       "  <tbody>\n",
       "    <tr>\n",
       "      <th>116534</th>\n",
       "      <td>Linear Programming</td>\n",
       "      <td>['Jiri Matousek', 'Bernd Gärtner']</td>\n",
       "      <td>Springer Science &amp; Business Media</td>\n",
       "      <td>2006-10-05</td>\n",
       "      <td>['Mathematics']</td>\n",
       "    </tr>\n",
       "    <tr>\n",
       "      <th>58040</th>\n",
       "      <td>The Individual and His Religion: A Psychologic...</td>\n",
       "      <td>['Gordon Willard Allport']</td>\n",
       "      <td>Macmillan Publishing Company</td>\n",
       "      <td>1960</td>\n",
       "      <td>['Religion']</td>\n",
       "    </tr>\n",
       "    <tr>\n",
       "      <th>81653</th>\n",
       "      <td>What Is the Baha'i Faith?</td>\n",
       "      <td>['Peter Smith']</td>\n",
       "      <td>Cambridge University Press</td>\n",
       "      <td>2008-04-07</td>\n",
       "      <td>['History']</td>\n",
       "    </tr>\n",
       "    <tr>\n",
       "      <th>33642</th>\n",
       "      <td>Environmental Policies in the Third World</td>\n",
       "      <td>['O. P. Dwivedi', 'Dhirendra K. Vajpeyi']</td>\n",
       "      <td>Praeger</td>\n",
       "      <td>1995</td>\n",
       "      <td>['Political Science']</td>\n",
       "    </tr>\n",
       "    <tr>\n",
       "      <th>87094</th>\n",
       "      <td>Shifting Frequencies</td>\n",
       "      <td>['Jonathan Goldman', 'Shamael']</td>\n",
       "      <td>Light Technology Publishing</td>\n",
       "      <td>2010-01-01</td>\n",
       "      <td>['Body, Mind &amp; Spirit']</td>\n",
       "    </tr>\n",
       "  </tbody>\n",
       "</table>\n",
       "</div>"
      ],
      "text/plain": [
       "                                                    title  \\\n",
       "116534                                 Linear Programming   \n",
       "58040   The Individual and His Religion: A Psychologic...   \n",
       "81653                           What Is the Baha'i Faith?   \n",
       "33642           Environmental Policies in the Third World   \n",
       "87094                                Shifting Frequencies   \n",
       "\n",
       "                                          authors  \\\n",
       "116534         ['Jiri Matousek', 'Bernd Gärtner']   \n",
       "58040                  ['Gordon Willard Allport']   \n",
       "81653                             ['Peter Smith']   \n",
       "33642   ['O. P. Dwivedi', 'Dhirendra K. Vajpeyi']   \n",
       "87094             ['Jonathan Goldman', 'Shamael']   \n",
       "\n",
       "                                publisher published_date  \\\n",
       "116534  Springer Science & Business Media     2006-10-05   \n",
       "58040        Macmillan Publishing Company           1960   \n",
       "81653          Cambridge University Press     2008-04-07   \n",
       "33642                             Praeger           1995   \n",
       "87094         Light Technology Publishing     2010-01-01   \n",
       "\n",
       "                     categories  \n",
       "116534          ['Mathematics']  \n",
       "58040              ['Religion']  \n",
       "81653               ['History']  \n",
       "33642     ['Political Science']  \n",
       "87094   ['Body, Mind & Spirit']  "
      ]
     },
     "execution_count": 16,
     "metadata": {},
     "output_type": "execute_result"
    }
   ],
   "source": [
    "df_data_processed.sample(5)"
   ]
  },
  {
   "cell_type": "code",
   "execution_count": 17,
   "metadata": {},
   "outputs": [],
   "source": [
    "# Found 143 published_date entries with the format YYYY*\n",
    "# Found 76 published_date entries with the format YYY?\n",
    "# Found 52 published_date entries with the format YY??\n",
    "\n",
    "def convert_to_year(date_in):    \n",
    "    try:    \n",
    "        patern_1 = r'\\d\\d\\d\\?'\n",
    "        patern_2 = r'\\d\\d\\?\\?'\n",
    "\n",
    "        #Some dates only contain the Year with the format YYYY*. For those cases, the symbol * is removed.\n",
    "        date = date_in.replace('*', '')\n",
    "\n",
    "        #Other cases contains an ? symbol instead of a number on the Year. YYY? or YY??\n",
    "        #For this specific case, the rounded mean from 0 to 9 is used: 5\n",
    "        if re.match(patern_1, date):\n",
    "            date = date.replace('?', '5')\n",
    "\n",
    "        if re.match(patern_2, date):\n",
    "            return None\n",
    "\n",
    "        date = parse(date)\n",
    "        \n",
    "        return date.strftime(\"%Y\")\n",
    "    except:        \n",
    "        return None"
   ]
  },
  {
   "cell_type": "code",
   "execution_count": 18,
   "metadata": {},
   "outputs": [],
   "source": [
    "#Use only the year for published_date\n",
    "df_data_processed['published_year'] = df_data_processed['published_date'].apply(lambda x: convert_to_year(x) if pd.notna(x) else x)\n",
    "\n",
    "df_data_processed['published_year'] = df_data_processed['published_year'].fillna('0')\n",
    "\n",
    "df_data_processed['published_year'] = df_data_processed['published_year'].astype('int32')\n",
    "\n",
    "#Drop published_date column \n",
    "df_data_processed = df_data_processed.drop(['published_date'], axis=1)"
   ]
  },
  {
   "cell_type": "code",
   "execution_count": 19,
   "metadata": {},
   "outputs": [
    {
     "data": {
      "text/plain": [
       "1981"
      ]
     },
     "execution_count": 19,
     "metadata": {},
     "output_type": "execute_result"
    }
   ],
   "source": [
    "mean_published_year = int(df_data_processed['published_year'].mean())\n",
    "mean_published_year"
   ]
  },
  {
   "cell_type": "code",
   "execution_count": 20,
   "metadata": {},
   "outputs": [
    {
     "data": {
      "text/html": [
       "<div>\n",
       "<style scoped>\n",
       "    .dataframe tbody tr th:only-of-type {\n",
       "        vertical-align: middle;\n",
       "    }\n",
       "\n",
       "    .dataframe tbody tr th {\n",
       "        vertical-align: top;\n",
       "    }\n",
       "\n",
       "    .dataframe thead th {\n",
       "        text-align: right;\n",
       "    }\n",
       "</style>\n",
       "<table border=\"1\" class=\"dataframe\">\n",
       "  <thead>\n",
       "    <tr style=\"text-align: right;\">\n",
       "      <th></th>\n",
       "      <th>title</th>\n",
       "      <th>authors</th>\n",
       "      <th>publisher</th>\n",
       "      <th>categories</th>\n",
       "      <th>published_year</th>\n",
       "    </tr>\n",
       "  </thead>\n",
       "  <tbody>\n",
       "    <tr>\n",
       "      <th>118086</th>\n",
       "      <td>The Forever Stories-Boxed Set, 5 Vol.</td>\n",
       "      <td>['Carolyn Byers']</td>\n",
       "      <td>Review &amp; Herald Publishing</td>\n",
       "      <td>NaN</td>\n",
       "      <td>1990</td>\n",
       "    </tr>\n",
       "    <tr>\n",
       "      <th>155780</th>\n",
       "      <td>Everybody's Historic London: A History and Guide</td>\n",
       "      <td>['Jonathan Kiek']</td>\n",
       "      <td>NaN</td>\n",
       "      <td>['Travel']</td>\n",
       "      <td>1984</td>\n",
       "    </tr>\n",
       "    <tr>\n",
       "      <th>4366</th>\n",
       "      <td>Design and construction of the Pochuck Quagmir...</td>\n",
       "      <td>['Tibor Latincsics']</td>\n",
       "      <td>NaN</td>\n",
       "      <td>['Suspension bridges']</td>\n",
       "      <td>1998</td>\n",
       "    </tr>\n",
       "    <tr>\n",
       "      <th>142786</th>\n",
       "      <td>Passing Time</td>\n",
       "      <td>['W.D. Ehrhart']</td>\n",
       "      <td>McFarland</td>\n",
       "      <td>['History']</td>\n",
       "      <td>2016</td>\n",
       "    </tr>\n",
       "    <tr>\n",
       "      <th>139185</th>\n",
       "      <td>The Backup Book: Disaster Recovery from Deskto...</td>\n",
       "      <td>['Dorian Cougias']</td>\n",
       "      <td>Turtleback</td>\n",
       "      <td>NaN</td>\n",
       "      <td>2003</td>\n",
       "    </tr>\n",
       "    <tr>\n",
       "      <th>112180</th>\n",
       "      <td>Esoteric astrology (A treatise on the seven rays)</td>\n",
       "      <td>['Alice A. Bailey']</td>\n",
       "      <td>Lucis Pub</td>\n",
       "      <td>['Body, Mind &amp; Spirit']</td>\n",
       "      <td>1975</td>\n",
       "    </tr>\n",
       "    <tr>\n",
       "      <th>119765</th>\n",
       "      <td>The River of Light: Spirituality, Judaism, Con...</td>\n",
       "      <td>['Lawrence Kushner']</td>\n",
       "      <td>Jewish Lights Pub</td>\n",
       "      <td>['Religion']</td>\n",
       "      <td>1990</td>\n",
       "    </tr>\n",
       "    <tr>\n",
       "      <th>122386</th>\n",
       "      <td>The Significance of Silence</td>\n",
       "      <td>['Arnold T. Olson']</td>\n",
       "      <td>NaN</td>\n",
       "      <td>NaN</td>\n",
       "      <td>1981</td>\n",
       "    </tr>\n",
       "    <tr>\n",
       "      <th>25987</th>\n",
       "      <td>The AWK Programming Language</td>\n",
       "      <td>['Alfred V. Aho', 'Brian W. Kernighan', 'Peter...</td>\n",
       "      <td>Addison-Wesley</td>\n",
       "      <td>['Computers']</td>\n",
       "      <td>1988</td>\n",
       "    </tr>\n",
       "    <tr>\n",
       "      <th>19695</th>\n",
       "      <td>The Family of Man</td>\n",
       "      <td>['The Museum of Modern Art (New York)']</td>\n",
       "      <td>NaN</td>\n",
       "      <td>NaN</td>\n",
       "      <td>1955</td>\n",
       "    </tr>\n",
       "  </tbody>\n",
       "</table>\n",
       "</div>"
      ],
      "text/plain": [
       "                                                    title  \\\n",
       "118086              The Forever Stories-Boxed Set, 5 Vol.   \n",
       "155780   Everybody's Historic London: A History and Guide   \n",
       "4366    Design and construction of the Pochuck Quagmir...   \n",
       "142786                                       Passing Time   \n",
       "139185  The Backup Book: Disaster Recovery from Deskto...   \n",
       "112180  Esoteric astrology (A treatise on the seven rays)   \n",
       "119765  The River of Light: Spirituality, Judaism, Con...   \n",
       "122386                        The Significance of Silence   \n",
       "25987                        The AWK Programming Language   \n",
       "19695                                   The Family of Man   \n",
       "\n",
       "                                                  authors  \\\n",
       "118086                                  ['Carolyn Byers']   \n",
       "155780                                  ['Jonathan Kiek']   \n",
       "4366                                 ['Tibor Latincsics']   \n",
       "142786                                   ['W.D. Ehrhart']   \n",
       "139185                                 ['Dorian Cougias']   \n",
       "112180                                ['Alice A. Bailey']   \n",
       "119765                               ['Lawrence Kushner']   \n",
       "122386                                ['Arnold T. Olson']   \n",
       "25987   ['Alfred V. Aho', 'Brian W. Kernighan', 'Peter...   \n",
       "19695             ['The Museum of Modern Art (New York)']   \n",
       "\n",
       "                         publisher               categories  published_year  \n",
       "118086  Review & Herald Publishing                      NaN            1990  \n",
       "155780                         NaN               ['Travel']            1984  \n",
       "4366                           NaN   ['Suspension bridges']            1998  \n",
       "142786                   McFarland              ['History']            2016  \n",
       "139185                  Turtleback                      NaN            2003  \n",
       "112180                   Lucis Pub  ['Body, Mind & Spirit']            1975  \n",
       "119765           Jewish Lights Pub             ['Religion']            1990  \n",
       "122386                         NaN                      NaN            1981  \n",
       "25987               Addison-Wesley            ['Computers']            1988  \n",
       "19695                          NaN                      NaN            1955  "
      ]
     },
     "execution_count": 20,
     "metadata": {},
     "output_type": "execute_result"
    }
   ],
   "source": [
    "df_data_processed['published_year'] = df_data_processed['published_year'].apply(lambda x: mean_published_year if x==0 else x)\n",
    "df_data_processed.sample(10)"
   ]
  },
  {
   "cell_type": "code",
   "execution_count": 21,
   "metadata": {},
   "outputs": [],
   "source": [
    "def custom_string_to_list(s):\n",
    "    if isinstance(s, str):\n",
    "        return [item.strip(\" '[]\") for item in s.split(',')]\n",
    "    else:\n",
    "        return s"
   ]
  },
  {
   "cell_type": "code",
   "execution_count": 22,
   "metadata": {},
   "outputs": [],
   "source": [
    "#Updating the Authors to a list.\n",
    "#Updating Categories to list\n",
    "df_data_processed['authors'] = df_data_processed['authors'].apply(custom_string_to_list)\n",
    "df_data_processed['categories'] = df_data_processed['categories'].apply(custom_string_to_list)"
   ]
  },
  {
   "cell_type": "code",
   "execution_count": 23,
   "metadata": {},
   "outputs": [
    {
     "data": {
      "text/html": [
       "<div>\n",
       "<style scoped>\n",
       "    .dataframe tbody tr th:only-of-type {\n",
       "        vertical-align: middle;\n",
       "    }\n",
       "\n",
       "    .dataframe tbody tr th {\n",
       "        vertical-align: top;\n",
       "    }\n",
       "\n",
       "    .dataframe thead th {\n",
       "        text-align: right;\n",
       "    }\n",
       "</style>\n",
       "<table border=\"1\" class=\"dataframe\">\n",
       "  <thead>\n",
       "    <tr style=\"text-align: right;\">\n",
       "      <th></th>\n",
       "      <th>title</th>\n",
       "      <th>authors</th>\n",
       "      <th>publisher</th>\n",
       "      <th>categories</th>\n",
       "      <th>published_year</th>\n",
       "    </tr>\n",
       "  </thead>\n",
       "  <tbody>\n",
       "    <tr>\n",
       "      <th>134060</th>\n",
       "      <td>Galois theory;: Lectures delivered at the Univ...</td>\n",
       "      <td>[Emil Artin]</td>\n",
       "      <td>Courier Corporation</td>\n",
       "      <td>[Mathematics]</td>\n",
       "      <td>2012</td>\n",
       "    </tr>\n",
       "    <tr>\n",
       "      <th>2306</th>\n",
       "      <td>The Sunday Tertulia: A Novel</td>\n",
       "      <td>[Lori Marie Carlson]</td>\n",
       "      <td>Harper Collins</td>\n",
       "      <td>[Fiction]</td>\n",
       "      <td>2009</td>\n",
       "    </tr>\n",
       "    <tr>\n",
       "      <th>49270</th>\n",
       "      <td>Suddenly They're 13</td>\n",
       "      <td>[David and Claudia Arp]</td>\n",
       "      <td>Zondervan</td>\n",
       "      <td>[Religion]</td>\n",
       "      <td>2010</td>\n",
       "    </tr>\n",
       "    <tr>\n",
       "      <th>115253</th>\n",
       "      <td>BEYOND MONSTERS AND CLOWNS. THE COMBAT SS. : D...</td>\n",
       "      <td>[Karl H. Theile]</td>\n",
       "      <td>University Press of Amer</td>\n",
       "      <td>[History]</td>\n",
       "      <td>1997</td>\n",
       "    </tr>\n",
       "    <tr>\n",
       "      <th>120696</th>\n",
       "      <td>Virginians at home: Family life in the eightee...</td>\n",
       "      <td>[Edmund Sears Morgan]</td>\n",
       "      <td>Colonial Williamsburg Foundation</td>\n",
       "      <td>[History]</td>\n",
       "      <td>1952</td>\n",
       "    </tr>\n",
       "    <tr>\n",
       "      <th>194758</th>\n",
       "      <td>Food Choice and Obesity in Black America: Crea...</td>\n",
       "      <td>[Eric J. Bailey]</td>\n",
       "      <td>Greenwood Publishing Group</td>\n",
       "      <td>[African Americans]</td>\n",
       "      <td>2006</td>\n",
       "    </tr>\n",
       "    <tr>\n",
       "      <th>10043</th>\n",
       "      <td>Lake Geneva in Vintage Postcards (WI) (Postcar...</td>\n",
       "      <td>[Carolyn Hope Smeltzer, Martha Kiefer Cucco]</td>\n",
       "      <td>Arcadia Publishing</td>\n",
       "      <td>[History]</td>\n",
       "      <td>2005</td>\n",
       "    </tr>\n",
       "    <tr>\n",
       "      <th>16651</th>\n",
       "      <td>Where Are You Going, Manyoni?</td>\n",
       "      <td>[Catherine Stock]</td>\n",
       "      <td>Harpercollins Childrens Books</td>\n",
       "      <td>[Juvenile Fiction]</td>\n",
       "      <td>1993</td>\n",
       "    </tr>\n",
       "    <tr>\n",
       "      <th>61146</th>\n",
       "      <td>Twenty One Days to a Trained Dog</td>\n",
       "      <td>[Dick Maller, Jeffrey Feinman]</td>\n",
       "      <td>Simon and Schuster</td>\n",
       "      <td>[Pets]</td>\n",
       "      <td>1979</td>\n",
       "    </tr>\n",
       "    <tr>\n",
       "      <th>55622</th>\n",
       "      <td>The German campaigns in the Balkans (spring, 1...</td>\n",
       "      <td>[George E. Blau]</td>\n",
       "      <td>NaN</td>\n",
       "      <td>[World War, 1939-1945]</td>\n",
       "      <td>1986</td>\n",
       "    </tr>\n",
       "  </tbody>\n",
       "</table>\n",
       "</div>"
      ],
      "text/plain": [
       "                                                    title  \\\n",
       "134060  Galois theory;: Lectures delivered at the Univ...   \n",
       "2306                         The Sunday Tertulia: A Novel   \n",
       "49270                                 Suddenly They're 13   \n",
       "115253  BEYOND MONSTERS AND CLOWNS. THE COMBAT SS. : D...   \n",
       "120696  Virginians at home: Family life in the eightee...   \n",
       "194758  Food Choice and Obesity in Black America: Crea...   \n",
       "10043   Lake Geneva in Vintage Postcards (WI) (Postcar...   \n",
       "16651                       Where Are You Going, Manyoni?   \n",
       "61146                    Twenty One Days to a Trained Dog   \n",
       "55622   The German campaigns in the Balkans (spring, 1...   \n",
       "\n",
       "                                             authors  \\\n",
       "134060                                  [Emil Artin]   \n",
       "2306                            [Lori Marie Carlson]   \n",
       "49270                        [David and Claudia Arp]   \n",
       "115253                              [Karl H. Theile]   \n",
       "120696                         [Edmund Sears Morgan]   \n",
       "194758                              [Eric J. Bailey]   \n",
       "10043   [Carolyn Hope Smeltzer, Martha Kiefer Cucco]   \n",
       "16651                              [Catherine Stock]   \n",
       "61146                 [Dick Maller, Jeffrey Feinman]   \n",
       "55622                               [George E. Blau]   \n",
       "\n",
       "                               publisher              categories  \\\n",
       "134060               Courier Corporation           [Mathematics]   \n",
       "2306                      Harper Collins               [Fiction]   \n",
       "49270                          Zondervan              [Religion]   \n",
       "115253          University Press of Amer               [History]   \n",
       "120696  Colonial Williamsburg Foundation               [History]   \n",
       "194758        Greenwood Publishing Group     [African Americans]   \n",
       "10043                 Arcadia Publishing               [History]   \n",
       "16651      Harpercollins Childrens Books      [Juvenile Fiction]   \n",
       "61146                 Simon and Schuster                  [Pets]   \n",
       "55622                                NaN  [World War, 1939-1945]   \n",
       "\n",
       "        published_year  \n",
       "134060            2012  \n",
       "2306              2009  \n",
       "49270             2010  \n",
       "115253            1997  \n",
       "120696            1952  \n",
       "194758            2006  \n",
       "10043             2005  \n",
       "16651             1993  \n",
       "61146             1979  \n",
       "55622             1986  "
      ]
     },
     "execution_count": 23,
     "metadata": {},
     "output_type": "execute_result"
    }
   ],
   "source": [
    "df_data_processed.sample(10, random_state=20)"
   ]
  },
  {
   "cell_type": "code",
   "execution_count": 24,
   "metadata": {},
   "outputs": [
    {
     "data": {
      "text/html": [
       "<div>\n",
       "<style scoped>\n",
       "    .dataframe tbody tr th:only-of-type {\n",
       "        vertical-align: middle;\n",
       "    }\n",
       "\n",
       "    .dataframe tbody tr th {\n",
       "        vertical-align: top;\n",
       "    }\n",
       "\n",
       "    .dataframe thead th {\n",
       "        text-align: right;\n",
       "    }\n",
       "</style>\n",
       "<table border=\"1\" class=\"dataframe\">\n",
       "  <thead>\n",
       "    <tr style=\"text-align: right;\">\n",
       "      <th></th>\n",
       "      <th>title</th>\n",
       "      <th>helpfulness</th>\n",
       "      <th>review</th>\n",
       "      <th>review_time</th>\n",
       "      <th>text</th>\n",
       "    </tr>\n",
       "  </thead>\n",
       "  <tbody>\n",
       "    <tr>\n",
       "      <th>2694026</th>\n",
       "      <td>The grouchy ladybug</td>\n",
       "      <td>3/4</td>\n",
       "      <td>1.0</td>\n",
       "      <td>1317081600</td>\n",
       "      <td>Throughout this book the same words are repeat...</td>\n",
       "    </tr>\n",
       "    <tr>\n",
       "      <th>44773</th>\n",
       "      <td>A Woman of Substance</td>\n",
       "      <td>0/0</td>\n",
       "      <td>5.0</td>\n",
       "      <td>1335744000</td>\n",
       "      <td>I read this book years ago when it first came ...</td>\n",
       "    </tr>\n",
       "    <tr>\n",
       "      <th>2692735</th>\n",
       "      <td>Investing for Dummies, Second Edition</td>\n",
       "      <td>81/86</td>\n",
       "      <td>3.0</td>\n",
       "      <td>1019347200</td>\n",
       "      <td>I enjoyed this book and found the investment i...</td>\n",
       "    </tr>\n",
       "    <tr>\n",
       "      <th>1014533</th>\n",
       "      <td>Sphere</td>\n",
       "      <td>0/1</td>\n",
       "      <td>4.0</td>\n",
       "      <td>1043452800</td>\n",
       "      <td>Many reviewers here have complained about the ...</td>\n",
       "    </tr>\n",
       "    <tr>\n",
       "      <th>665798</th>\n",
       "      <td>Emma (Progress English)</td>\n",
       "      <td>0/0</td>\n",
       "      <td>2.0</td>\n",
       "      <td>1357257600</td>\n",
       "      <td>I didn't enjoy reading this in college and I d...</td>\n",
       "    </tr>\n",
       "  </tbody>\n",
       "</table>\n",
       "</div>"
      ],
      "text/plain": [
       "                                         title helpfulness  review  \\\n",
       "2694026                    The grouchy ladybug         3/4     1.0   \n",
       "44773                     A Woman of Substance         0/0     5.0   \n",
       "2692735  Investing for Dummies, Second Edition       81/86     3.0   \n",
       "1014533                                 Sphere         0/1     4.0   \n",
       "665798                 Emma (Progress English)         0/0     2.0   \n",
       "\n",
       "         review_time                                               text  \n",
       "2694026   1317081600  Throughout this book the same words are repeat...  \n",
       "44773     1335744000  I read this book years ago when it first came ...  \n",
       "2692735   1019347200  I enjoyed this book and found the investment i...  \n",
       "1014533   1043452800  Many reviewers here have complained about the ...  \n",
       "665798    1357257600  I didn't enjoy reading this in college and I d...  "
      ]
     },
     "execution_count": 24,
     "metadata": {},
     "output_type": "execute_result"
    }
   ],
   "source": [
    "df_rating_processed.sample(5)"
   ]
  },
  {
   "cell_type": "code",
   "execution_count": 25,
   "metadata": {},
   "outputs": [],
   "source": [
    "# CLEANING DATA FOR REVIEWS DATASET\n",
    "df_rating_processed['review_year'] = df_rating_processed['review_time'].apply(lambda x: datetime.utcfromtimestamp(x).year)\n",
    "\n",
    "df_rating_processed = df_rating_processed.drop(['review_time'], axis=1)"
   ]
  },
  {
   "cell_type": "code",
   "execution_count": 26,
   "metadata": {},
   "outputs": [
    {
     "data": {
      "text/html": [
       "<div>\n",
       "<style scoped>\n",
       "    .dataframe tbody tr th:only-of-type {\n",
       "        vertical-align: middle;\n",
       "    }\n",
       "\n",
       "    .dataframe tbody tr th {\n",
       "        vertical-align: top;\n",
       "    }\n",
       "\n",
       "    .dataframe thead th {\n",
       "        text-align: right;\n",
       "    }\n",
       "</style>\n",
       "<table border=\"1\" class=\"dataframe\">\n",
       "  <thead>\n",
       "    <tr style=\"text-align: right;\">\n",
       "      <th></th>\n",
       "      <th>title</th>\n",
       "      <th>helpfulness</th>\n",
       "      <th>review</th>\n",
       "      <th>text</th>\n",
       "      <th>review_year</th>\n",
       "    </tr>\n",
       "  </thead>\n",
       "  <tbody>\n",
       "    <tr>\n",
       "      <th>2647218</th>\n",
       "      <td>Hippopotamus</td>\n",
       "      <td>5/5</td>\n",
       "      <td>4.0</td>\n",
       "      <td>When your first novel is as good as _The Liar_...</td>\n",
       "      <td>2000</td>\n",
       "    </tr>\n",
       "    <tr>\n",
       "      <th>1149375</th>\n",
       "      <td>ADVENTURES IN MY YOUTH: A German Soldier on th...</td>\n",
       "      <td>0/1</td>\n",
       "      <td>3.0</td>\n",
       "      <td>Although this biography was not intended to be...</td>\n",
       "      <td>2012</td>\n",
       "    </tr>\n",
       "    <tr>\n",
       "      <th>2322898</th>\n",
       "      <td>Holy Feast and Holy Fast: The Religious Signif...</td>\n",
       "      <td>6/6</td>\n",
       "      <td>5.0</td>\n",
       "      <td>Holy Feast and Holy Fast: The Religious Signif...</td>\n",
       "      <td>2009</td>\n",
       "    </tr>\n",
       "    <tr>\n",
       "      <th>1655359</th>\n",
       "      <td>The Cyberiad</td>\n",
       "      <td>2/2</td>\n",
       "      <td>5.0</td>\n",
       "      <td>Lem is great at between-the-eyes satire, roll-...</td>\n",
       "      <td>1998</td>\n",
       "    </tr>\n",
       "    <tr>\n",
       "      <th>397609</th>\n",
       "      <td>Hidden</td>\n",
       "      <td>0/1</td>\n",
       "      <td>4.0</td>\n",
       "      <td>I enjoyed this book very much, I have only rea...</td>\n",
       "      <td>2005</td>\n",
       "    </tr>\n",
       "    <tr>\n",
       "      <th>1133987</th>\n",
       "      <td>George Orwell 1984</td>\n",
       "      <td>0/0</td>\n",
       "      <td>5.0</td>\n",
       "      <td>George Orwell has written another well written...</td>\n",
       "      <td>2000</td>\n",
       "    </tr>\n",
       "    <tr>\n",
       "      <th>137137</th>\n",
       "      <td>The Princess Bride</td>\n",
       "      <td>0/0</td>\n",
       "      <td>5.0</td>\n",
       "      <td>I absolutely LOVED this book. The movie is als...</td>\n",
       "      <td>1999</td>\n",
       "    </tr>\n",
       "    <tr>\n",
       "      <th>1795641</th>\n",
       "      <td>Lonesome Dove</td>\n",
       "      <td>2/2</td>\n",
       "      <td>5.0</td>\n",
       "      <td>What more can say that hasn't already been sai...</td>\n",
       "      <td>2005</td>\n",
       "    </tr>\n",
       "    <tr>\n",
       "      <th>1650694</th>\n",
       "      <td>The Rough Guide to Rome Map (Rough Guide City ...</td>\n",
       "      <td>0/0</td>\n",
       "      <td>5.0</td>\n",
       "      <td>I was in Rome for a week during Holy Week no l...</td>\n",
       "      <td>2010</td>\n",
       "    </tr>\n",
       "    <tr>\n",
       "      <th>1604306</th>\n",
       "      <td>Who Moved My Cheese? An-Amazing Way to Deal wi...</td>\n",
       "      <td>14/16</td>\n",
       "      <td>1.0</td>\n",
       "      <td>Last June our new Executive Director at work g...</td>\n",
       "      <td>2000</td>\n",
       "    </tr>\n",
       "  </tbody>\n",
       "</table>\n",
       "</div>"
      ],
      "text/plain": [
       "                                                     title helpfulness  \\\n",
       "2647218                                       Hippopotamus         5/5   \n",
       "1149375  ADVENTURES IN MY YOUTH: A German Soldier on th...         0/1   \n",
       "2322898  Holy Feast and Holy Fast: The Religious Signif...         6/6   \n",
       "1655359                                       The Cyberiad         2/2   \n",
       "397609                                              Hidden         0/1   \n",
       "1133987                                 George Orwell 1984         0/0   \n",
       "137137                                  The Princess Bride         0/0   \n",
       "1795641                                      Lonesome Dove         2/2   \n",
       "1650694  The Rough Guide to Rome Map (Rough Guide City ...         0/0   \n",
       "1604306  Who Moved My Cheese? An-Amazing Way to Deal wi...       14/16   \n",
       "\n",
       "         review                                               text  \\\n",
       "2647218     4.0  When your first novel is as good as _The Liar_...   \n",
       "1149375     3.0  Although this biography was not intended to be...   \n",
       "2322898     5.0  Holy Feast and Holy Fast: The Religious Signif...   \n",
       "1655359     5.0  Lem is great at between-the-eyes satire, roll-...   \n",
       "397609      4.0  I enjoyed this book very much, I have only rea...   \n",
       "1133987     5.0  George Orwell has written another well written...   \n",
       "137137      5.0  I absolutely LOVED this book. The movie is als...   \n",
       "1795641     5.0  What more can say that hasn't already been sai...   \n",
       "1650694     5.0  I was in Rome for a week during Holy Week no l...   \n",
       "1604306     1.0  Last June our new Executive Director at work g...   \n",
       "\n",
       "         review_year  \n",
       "2647218         2000  \n",
       "1149375         2012  \n",
       "2322898         2009  \n",
       "1655359         1998  \n",
       "397609          2005  \n",
       "1133987         2000  \n",
       "137137          1999  \n",
       "1795641         2005  \n",
       "1650694         2010  \n",
       "1604306         2000  "
      ]
     },
     "execution_count": 26,
     "metadata": {},
     "output_type": "execute_result"
    }
   ],
   "source": [
    "df_rating_processed.sample(10)"
   ]
  },
  {
   "cell_type": "code",
   "execution_count": 27,
   "metadata": {},
   "outputs": [],
   "source": [
    "#Changing helpfulness to a porcentual value\n",
    "def get_helpfulness_as_porcentual_value_0(x):\n",
    "    if  x == '0/0':\n",
    "        return 0\n",
    "    elif x.split('/')[0] == '0':\n",
    "        return 0\n",
    "    else:\n",
    "        dividend = int(x.split('/')[0])\n",
    "        divisor = int(x.split('/')[1])\n",
    "        return dividend/divisor\n",
    "    \n",
    "def get_helpfulness_as_porcentual_value_1(x):\n",
    "    if  x == '0/0':\n",
    "        return 1\n",
    "    elif x.split('/')[0] == '0':\n",
    "        return 0\n",
    "    else:\n",
    "        dividend = int(x.split('/')[0])\n",
    "        divisor = int(x.split('/')[1])\n",
    "        return dividend/divisor"
   ]
  },
  {
   "cell_type": "code",
   "execution_count": 28,
   "metadata": {},
   "outputs": [],
   "source": [
    "df_rating_processed['helpfulness_0'] = df_rating_processed['helpfulness'].apply(lambda x: get_helpfulness_as_porcentual_value_0(x))\n",
    "df_rating_processed['helpfulness_1'] = df_rating_processed['helpfulness'].apply(lambda x: get_helpfulness_as_porcentual_value_1(x))\n",
    "df_rating_processed = df_rating_processed.drop(['helpfulness'], axis=1)"
   ]
  },
  {
   "cell_type": "code",
   "execution_count": 29,
   "metadata": {},
   "outputs": [
    {
     "data": {
      "text/html": [
       "<div>\n",
       "<style scoped>\n",
       "    .dataframe tbody tr th:only-of-type {\n",
       "        vertical-align: middle;\n",
       "    }\n",
       "\n",
       "    .dataframe tbody tr th {\n",
       "        vertical-align: top;\n",
       "    }\n",
       "\n",
       "    .dataframe thead th {\n",
       "        text-align: right;\n",
       "    }\n",
       "</style>\n",
       "<table border=\"1\" class=\"dataframe\">\n",
       "  <thead>\n",
       "    <tr style=\"text-align: right;\">\n",
       "      <th></th>\n",
       "      <th>title</th>\n",
       "      <th>review</th>\n",
       "      <th>text</th>\n",
       "      <th>review_year</th>\n",
       "      <th>helpfulness_0</th>\n",
       "      <th>helpfulness_1</th>\n",
       "    </tr>\n",
       "  </thead>\n",
       "  <tbody>\n",
       "    <tr>\n",
       "      <th>2457929</th>\n",
       "      <td>Southern Spice</td>\n",
       "      <td>4.0</td>\n",
       "      <td>I am not a vegetarian and wouldn't normally bu...</td>\n",
       "      <td>2011</td>\n",
       "      <td>0.000000</td>\n",
       "      <td>1.000000</td>\n",
       "    </tr>\n",
       "    <tr>\n",
       "      <th>1468006</th>\n",
       "      <td>Fire-hunter</td>\n",
       "      <td>5.0</td>\n",
       "      <td>I've read sf stories and many novels that lift...</td>\n",
       "      <td>2002</td>\n",
       "      <td>0.000000</td>\n",
       "      <td>1.000000</td>\n",
       "    </tr>\n",
       "    <tr>\n",
       "      <th>1365410</th>\n",
       "      <td>The Red Tent (Bestselling Backlist)</td>\n",
       "      <td>5.0</td>\n",
       "      <td>The book The Red Tent, by Anita Diamant, was a...</td>\n",
       "      <td>2002</td>\n",
       "      <td>0.750000</td>\n",
       "      <td>0.750000</td>\n",
       "    </tr>\n",
       "    <tr>\n",
       "      <th>486565</th>\n",
       "      <td>Alice's Adventures in Wonderland and Through t...</td>\n",
       "      <td>5.0</td>\n",
       "      <td>I have an avid young reader in my family and i...</td>\n",
       "      <td>2012</td>\n",
       "      <td>0.000000</td>\n",
       "      <td>1.000000</td>\n",
       "    </tr>\n",
       "    <tr>\n",
       "      <th>1876610</th>\n",
       "      <td>Heart of Darkness. (Heritage Club Series)</td>\n",
       "      <td>5.0</td>\n",
       "      <td>A Gripping tale told by a writer who ought to ...</td>\n",
       "      <td>2013</td>\n",
       "      <td>0.000000</td>\n",
       "      <td>1.000000</td>\n",
       "    </tr>\n",
       "    <tr>\n",
       "      <th>1056257</th>\n",
       "      <td>Frankenstein (Running Press classics)</td>\n",
       "      <td>5.0</td>\n",
       "      <td>What can you say about Frankenstein? Mary Shel...</td>\n",
       "      <td>2000</td>\n",
       "      <td>0.000000</td>\n",
       "      <td>0.000000</td>\n",
       "    </tr>\n",
       "    <tr>\n",
       "      <th>2300007</th>\n",
       "      <td>The sun also rises (The Modern library of the ...</td>\n",
       "      <td>5.0</td>\n",
       "      <td>somehow, hemmingway managed to create a novel ...</td>\n",
       "      <td>2000</td>\n",
       "      <td>0.000000</td>\n",
       "      <td>0.000000</td>\n",
       "    </tr>\n",
       "    <tr>\n",
       "      <th>932714</th>\n",
       "      <td>We Band of Angels: The Untold Story of America...</td>\n",
       "      <td>5.0</td>\n",
       "      <td>This is a fantastic book that tells the herois...</td>\n",
       "      <td>1999</td>\n",
       "      <td>1.000000</td>\n",
       "      <td>1.000000</td>\n",
       "    </tr>\n",
       "    <tr>\n",
       "      <th>483742</th>\n",
       "      <td>Making the Fascist state,</td>\n",
       "      <td>5.0</td>\n",
       "      <td>The author was a research fellow in Italy in 1...</td>\n",
       "      <td>2007</td>\n",
       "      <td>0.500000</td>\n",
       "      <td>0.500000</td>\n",
       "    </tr>\n",
       "    <tr>\n",
       "      <th>370234</th>\n",
       "      <td>The Sword in the Stone</td>\n",
       "      <td>5.0</td>\n",
       "      <td>The Sword in the Stone is a truly wonderful bo...</td>\n",
       "      <td>2001</td>\n",
       "      <td>0.863636</td>\n",
       "      <td>0.863636</td>\n",
       "    </tr>\n",
       "  </tbody>\n",
       "</table>\n",
       "</div>"
      ],
      "text/plain": [
       "                                                     title  review  \\\n",
       "2457929                                     Southern Spice     4.0   \n",
       "1468006                                        Fire-hunter     5.0   \n",
       "1365410                The Red Tent (Bestselling Backlist)     5.0   \n",
       "486565   Alice's Adventures in Wonderland and Through t...     5.0   \n",
       "1876610          Heart of Darkness. (Heritage Club Series)     5.0   \n",
       "1056257              Frankenstein (Running Press classics)     5.0   \n",
       "2300007  The sun also rises (The Modern library of the ...     5.0   \n",
       "932714   We Band of Angels: The Untold Story of America...     5.0   \n",
       "483742                           Making the Fascist state,     5.0   \n",
       "370234                              The Sword in the Stone     5.0   \n",
       "\n",
       "                                                      text  review_year  \\\n",
       "2457929  I am not a vegetarian and wouldn't normally bu...         2011   \n",
       "1468006  I've read sf stories and many novels that lift...         2002   \n",
       "1365410  The book The Red Tent, by Anita Diamant, was a...         2002   \n",
       "486565   I have an avid young reader in my family and i...         2012   \n",
       "1876610  A Gripping tale told by a writer who ought to ...         2013   \n",
       "1056257  What can you say about Frankenstein? Mary Shel...         2000   \n",
       "2300007  somehow, hemmingway managed to create a novel ...         2000   \n",
       "932714   This is a fantastic book that tells the herois...         1999   \n",
       "483742   The author was a research fellow in Italy in 1...         2007   \n",
       "370234   The Sword in the Stone is a truly wonderful bo...         2001   \n",
       "\n",
       "         helpfulness_0  helpfulness_1  \n",
       "2457929       0.000000       1.000000  \n",
       "1468006       0.000000       1.000000  \n",
       "1365410       0.750000       0.750000  \n",
       "486565        0.000000       1.000000  \n",
       "1876610       0.000000       1.000000  \n",
       "1056257       0.000000       0.000000  \n",
       "2300007       0.000000       0.000000  \n",
       "932714        1.000000       1.000000  \n",
       "483742        0.500000       0.500000  \n",
       "370234        0.863636       0.863636  "
      ]
     },
     "execution_count": 29,
     "metadata": {},
     "output_type": "execute_result"
    }
   ],
   "source": [
    "df_rating_processed.sample(10)"
   ]
  },
  {
   "cell_type": "code",
   "execution_count": 30,
   "metadata": {},
   "outputs": [
    {
     "name": "stdout",
     "output_type": "stream",
     "text": [
      "<class 'pandas.core.frame.DataFrame'>\n",
      "RangeIndex: 2666314 entries, 0 to 2666313\n",
      "Data columns (total 10 columns):\n",
      " #   Column          Dtype  \n",
      "---  ------          -----  \n",
      " 0   title           object \n",
      " 1   review          float64\n",
      " 2   text            object \n",
      " 3   review_year     int64  \n",
      " 4   helpfulness_0   float64\n",
      " 5   helpfulness_1   float64\n",
      " 6   authors         object \n",
      " 7   publisher       object \n",
      " 8   categories      object \n",
      " 9   published_year  int64  \n",
      "dtypes: float64(3), int64(2), object(5)\n",
      "memory usage: 203.4+ MB\n"
     ]
    }
   ],
   "source": [
    "#Merge The Two Datasets.\n",
    "df_all_data_processed = pd.merge(df_rating_processed, df_data_processed, on='title', how='inner')\n",
    "df_all_data_processed.info()"
   ]
  },
  {
   "cell_type": "markdown",
   "metadata": {},
   "source": [
    "Title Feature Removal: This feature is unique for each book. And it is extremly correlated with Authors. As the same \n",
    "        book Title will always have the same author. So, authors feature is kept and Title is removed."
   ]
  },
  {
   "cell_type": "code",
   "execution_count": 31,
   "metadata": {},
   "outputs": [],
   "source": [
    "df_all_data_processed = df_all_data_processed.drop(['title'], axis=1)"
   ]
  },
  {
   "cell_type": "code",
   "execution_count": 32,
   "metadata": {},
   "outputs": [
    {
     "data": {
      "text/html": [
       "<div>\n",
       "<style scoped>\n",
       "    .dataframe tbody tr th:only-of-type {\n",
       "        vertical-align: middle;\n",
       "    }\n",
       "\n",
       "    .dataframe tbody tr th {\n",
       "        vertical-align: top;\n",
       "    }\n",
       "\n",
       "    .dataframe thead th {\n",
       "        text-align: right;\n",
       "    }\n",
       "</style>\n",
       "<table border=\"1\" class=\"dataframe\">\n",
       "  <thead>\n",
       "    <tr style=\"text-align: right;\">\n",
       "      <th></th>\n",
       "      <th>review</th>\n",
       "      <th>text</th>\n",
       "      <th>review_year</th>\n",
       "      <th>helpfulness_0</th>\n",
       "      <th>helpfulness_1</th>\n",
       "      <th>authors</th>\n",
       "      <th>publisher</th>\n",
       "      <th>categories</th>\n",
       "      <th>published_year</th>\n",
       "    </tr>\n",
       "  </thead>\n",
       "  <tbody>\n",
       "    <tr>\n",
       "      <th>1619661</th>\n",
       "      <td>5.0</td>\n",
       "      <td>I really enjoy Lisa Kleypas books. She gets th...</td>\n",
       "      <td>2008</td>\n",
       "      <td>0.666667</td>\n",
       "      <td>0.666667</td>\n",
       "      <td>[Jennifer Weiner]</td>\n",
       "      <td>Simon and Schuster</td>\n",
       "      <td>[Fiction]</td>\n",
       "      <td>2012</td>\n",
       "    </tr>\n",
       "    <tr>\n",
       "      <th>2100736</th>\n",
       "      <td>5.0</td>\n",
       "      <td>Ordered on Nov 26 &amp; received on Dec 2, 2010. V...</td>\n",
       "      <td>2010</td>\n",
       "      <td>0.000000</td>\n",
       "      <td>1.000000</td>\n",
       "      <td>[Barbara Bush]</td>\n",
       "      <td>Simon and Schuster</td>\n",
       "      <td>[Biography &amp; Autobiography]</td>\n",
       "      <td>2015</td>\n",
       "    </tr>\n",
       "    <tr>\n",
       "      <th>1455000</th>\n",
       "      <td>5.0</td>\n",
       "      <td>I was on a USMC book kick a couple years ago, ...</td>\n",
       "      <td>2008</td>\n",
       "      <td>1.000000</td>\n",
       "      <td>1.000000</td>\n",
       "      <td>[G. F. Borden]</td>\n",
       "      <td>Presidio Press</td>\n",
       "      <td>[Fiction]</td>\n",
       "      <td>1995</td>\n",
       "    </tr>\n",
       "    <tr>\n",
       "      <th>1253187</th>\n",
       "      <td>5.0</td>\n",
       "      <td>Starship Troopers is the story of Johnny Rico,...</td>\n",
       "      <td>2006</td>\n",
       "      <td>1.000000</td>\n",
       "      <td>1.000000</td>\n",
       "      <td>[Robert Anson Heinlein]</td>\n",
       "      <td>Penguin</td>\n",
       "      <td>[Fiction]</td>\n",
       "      <td>1987</td>\n",
       "    </tr>\n",
       "    <tr>\n",
       "      <th>687368</th>\n",
       "      <td>3.0</td>\n",
       "      <td>I like the explanations for different oils, ad...</td>\n",
       "      <td>2007</td>\n",
       "      <td>0.988636</td>\n",
       "      <td>0.988636</td>\n",
       "      <td>[Dorie Byers]</td>\n",
       "      <td>Square One Publishers, Inc.</td>\n",
       "      <td>[Health &amp; Fitness]</td>\n",
       "      <td>2013</td>\n",
       "    </tr>\n",
       "    <tr>\n",
       "      <th>2325181</th>\n",
       "      <td>5.0</td>\n",
       "      <td>This is truly a monumental work. Thank you on ...</td>\n",
       "      <td>2002</td>\n",
       "      <td>0.666667</td>\n",
       "      <td>0.666667</td>\n",
       "      <td>[Timothy C. Cahill]</td>\n",
       "      <td>NaN</td>\n",
       "      <td>[India]</td>\n",
       "      <td>2001</td>\n",
       "    </tr>\n",
       "    <tr>\n",
       "      <th>269912</th>\n",
       "      <td>5.0</td>\n",
       "      <td>Victor Niederhoffer is one of the true origina...</td>\n",
       "      <td>2003</td>\n",
       "      <td>0.533333</td>\n",
       "      <td>0.533333</td>\n",
       "      <td>[Victor Niederhoffer]</td>\n",
       "      <td>John Wiley &amp; Sons</td>\n",
       "      <td>[Business &amp; Economics]</td>\n",
       "      <td>1998</td>\n",
       "    </tr>\n",
       "    <tr>\n",
       "      <th>1829100</th>\n",
       "      <td>1.0</td>\n",
       "      <td>Let me tell you something.I feel concern about...</td>\n",
       "      <td>2009</td>\n",
       "      <td>0.000000</td>\n",
       "      <td>0.000000</td>\n",
       "      <td>[Tom Bassarear, Meg Moss]</td>\n",
       "      <td>NaN</td>\n",
       "      <td>NaN</td>\n",
       "      <td>2019</td>\n",
       "    </tr>\n",
       "    <tr>\n",
       "      <th>282346</th>\n",
       "      <td>5.0</td>\n",
       "      <td>I work for a record label, and this collection...</td>\n",
       "      <td>2006</td>\n",
       "      <td>0.500000</td>\n",
       "      <td>0.500000</td>\n",
       "      <td>[Shelly Field]</td>\n",
       "      <td>Infobase Publishing</td>\n",
       "      <td>[Business &amp; Economics]</td>\n",
       "      <td>2008</td>\n",
       "    </tr>\n",
       "    <tr>\n",
       "      <th>2336276</th>\n",
       "      <td>5.0</td>\n",
       "      <td>If you like Law &amp; Order, if you like getting i...</td>\n",
       "      <td>2013</td>\n",
       "      <td>0.000000</td>\n",
       "      <td>1.000000</td>\n",
       "      <td>[Joelle Jones, Jamie S Rich, Raquel Moritz]</td>\n",
       "      <td>NaN</td>\n",
       "      <td>NaN</td>\n",
       "      <td>1981</td>\n",
       "    </tr>\n",
       "  </tbody>\n",
       "</table>\n",
       "</div>"
      ],
      "text/plain": [
       "         review                                               text  \\\n",
       "1619661     5.0  I really enjoy Lisa Kleypas books. She gets th...   \n",
       "2100736     5.0  Ordered on Nov 26 & received on Dec 2, 2010. V...   \n",
       "1455000     5.0  I was on a USMC book kick a couple years ago, ...   \n",
       "1253187     5.0  Starship Troopers is the story of Johnny Rico,...   \n",
       "687368      3.0  I like the explanations for different oils, ad...   \n",
       "2325181     5.0  This is truly a monumental work. Thank you on ...   \n",
       "269912      5.0  Victor Niederhoffer is one of the true origina...   \n",
       "1829100     1.0  Let me tell you something.I feel concern about...   \n",
       "282346      5.0  I work for a record label, and this collection...   \n",
       "2336276     5.0  If you like Law & Order, if you like getting i...   \n",
       "\n",
       "         review_year  helpfulness_0  helpfulness_1  \\\n",
       "1619661         2008       0.666667       0.666667   \n",
       "2100736         2010       0.000000       1.000000   \n",
       "1455000         2008       1.000000       1.000000   \n",
       "1253187         2006       1.000000       1.000000   \n",
       "687368          2007       0.988636       0.988636   \n",
       "2325181         2002       0.666667       0.666667   \n",
       "269912          2003       0.533333       0.533333   \n",
       "1829100         2009       0.000000       0.000000   \n",
       "282346          2006       0.500000       0.500000   \n",
       "2336276         2013       0.000000       1.000000   \n",
       "\n",
       "                                             authors  \\\n",
       "1619661                            [Jennifer Weiner]   \n",
       "2100736                               [Barbara Bush]   \n",
       "1455000                               [G. F. Borden]   \n",
       "1253187                      [Robert Anson Heinlein]   \n",
       "687368                                 [Dorie Byers]   \n",
       "2325181                          [Timothy C. Cahill]   \n",
       "269912                         [Victor Niederhoffer]   \n",
       "1829100                    [Tom Bassarear, Meg Moss]   \n",
       "282346                                [Shelly Field]   \n",
       "2336276  [Joelle Jones, Jamie S Rich, Raquel Moritz]   \n",
       "\n",
       "                           publisher                   categories  \\\n",
       "1619661           Simon and Schuster                    [Fiction]   \n",
       "2100736           Simon and Schuster  [Biography & Autobiography]   \n",
       "1455000               Presidio Press                    [Fiction]   \n",
       "1253187                      Penguin                    [Fiction]   \n",
       "687368   Square One Publishers, Inc.           [Health & Fitness]   \n",
       "2325181                          NaN                      [India]   \n",
       "269912             John Wiley & Sons       [Business & Economics]   \n",
       "1829100                          NaN                          NaN   \n",
       "282346           Infobase Publishing       [Business & Economics]   \n",
       "2336276                          NaN                          NaN   \n",
       "\n",
       "         published_year  \n",
       "1619661            2012  \n",
       "2100736            2015  \n",
       "1455000            1995  \n",
       "1253187            1987  \n",
       "687368             2013  \n",
       "2325181            2001  \n",
       "269912             1998  \n",
       "1829100            2019  \n",
       "282346             2008  \n",
       "2336276            1981  "
      ]
     },
     "execution_count": 32,
     "metadata": {},
     "output_type": "execute_result"
    }
   ],
   "source": [
    "df_all_data_processed.sample(10)"
   ]
  },
  {
   "cell_type": "markdown",
   "metadata": {},
   "source": [
    "## Dataset Reduction/Sampling\n",
    "\n",
    "Sample Size Calculation formula from Survey Monkey (https://www.surveymonkey.com/mp/sample-size-calculator/) is used to calculate a extract a ramdom sample of the dataset.\n",
    "In order to reduce the dataset size and apply NLP to the text column.\n",
    "\n",
    "For the given formula: \n",
    "\n",
    "   $$ sample size =  \\frac{\\frac{z^2xp(1-p)}{e^2}}{1 + \\frac{z^2xp(1-p)}{e^2N}} $$\n",
    "\n",
    "with:\n",
    "- N = population size \n",
    "- e = Margin of error (percentage in decimal form) \n",
    "- z = z-score\n",
    "- p = sample proportion\n",
    "\n",
    "\n",
    "| Desired confidence level\t| z-score |\n",
    "|--------------------------|---------|\n",
    "|            80%           |   1.28  |\n",
    "|            85%\t         |   1.44  |\n",
    "|            90%\t         |   1.65  |\n",
    "|            95%\t         |   1.96  |\n",
    "|            99%\t         |   2.58  |\n",
    "\n",
    "\n",
    "Setting N = 2 666 313, e = 99% and z = 2.58\n",
    "\n",
    "sample size = 578995. \n",
    "\n",
    "A sample of **578 995** entries will be extracted from the Dataset to be processed and to train and test the model."
   ]
  },
  {
   "cell_type": "code",
   "execution_count": 33,
   "metadata": {},
   "outputs": [
    {
     "name": "stdout",
     "output_type": "stream",
     "text": [
      "Sample size is: 578995\n"
     ]
    }
   ],
   "source": [
    "N = df_all_data_processed.shape[0] - 1\n",
    "e = 0.0015 #Margin of error = 0.15%\n",
    "z = 2.58 # Desired confidence level = 99%, so z-score = 2.58\n",
    "p = 0.5 #Used 0.5 as a conservative approach. It will give the largest sample size\n",
    "\n",
    "sample_size = ( ((z*z)*p*(1-p))/(e*e) )/(1 + ((z*z)*p*(1-p))/(e*e*N) )\n",
    "\n",
    "sample_size = round(sample_size)\n",
    "\n",
    "print(f'Sample size is: {sample_size}')"
   ]
  },
  {
   "cell_type": "code",
   "execution_count": 34,
   "metadata": {},
   "outputs": [],
   "source": [
    "#Extract the sample of 578995 entries from the dataset.\n",
    "df_all_data_filtered_processed = df_all_data_processed.sample(n=sample_size, random_state=2125)"
   ]
  },
  {
   "cell_type": "code",
   "execution_count": 35,
   "metadata": {},
   "outputs": [
    {
     "name": "stdout",
     "output_type": "stream",
     "text": [
      "<class 'pandas.core.frame.DataFrame'>\n",
      "RangeIndex: 578995 entries, 0 to 578994\n",
      "Data columns (total 9 columns):\n",
      " #   Column          Non-Null Count   Dtype  \n",
      "---  ------          --------------   -----  \n",
      " 0   review          578995 non-null  float64\n",
      " 1   text            578995 non-null  object \n",
      " 2   review_year     578995 non-null  int64  \n",
      " 3   helpfulness_0   578995 non-null  float64\n",
      " 4   helpfulness_1   578995 non-null  float64\n",
      " 5   authors         566598 non-null  object \n",
      " 6   publisher       481622 non-null  object \n",
      " 7   categories      531722 non-null  object \n",
      " 8   published_year  578995 non-null  int64  \n",
      "dtypes: float64(3), int64(2), object(4)\n",
      "memory usage: 39.8+ MB\n"
     ]
    }
   ],
   "source": [
    "df_all_data_filtered_processed.reset_index(drop=True, inplace=True)\n",
    "df_all_data_filtered_processed.info()"
   ]
  },
  {
   "cell_type": "code",
   "execution_count": 36,
   "metadata": {},
   "outputs": [
    {
     "data": {
      "text/plain": [
       "review\n",
       "5.0    349011\n",
       "4.0    113195\n",
       "3.0     48855\n",
       "1.0     38541\n",
       "2.0     29393\n",
       "Name: count, dtype: int64"
      ]
     },
     "execution_count": 36,
     "metadata": {},
     "output_type": "execute_result"
    }
   ],
   "source": [
    "df_all_data_filtered_processed['review'].value_counts()"
   ]
  },
  {
   "cell_type": "code",
   "execution_count": 37,
   "metadata": {},
   "outputs": [
    {
     "data": {
      "image/png": "[encoded data removed]",
      "text/plain": [
       "<Figure size 640x480 with 1 Axes>"
      ]
     },
     "metadata": {},
     "output_type": "display_data"
    }
   ],
   "source": [
    "df_all_data_filtered_processed['review'].hist()\n",
    "plt.show()\n",
    "#Add axes."
   ]
  },
  {
   "cell_type": "code",
   "execution_count": 38,
   "metadata": {},
   "outputs": [
    {
     "data": {
      "text/plain": [
       "review                0\n",
       "text                  0\n",
       "review_year           0\n",
       "helpfulness_0         0\n",
       "helpfulness_1         0\n",
       "authors           12397\n",
       "publisher         97373\n",
       "categories        47273\n",
       "published_year        0\n",
       "dtype: int64"
      ]
     },
     "execution_count": 38,
     "metadata": {},
     "output_type": "execute_result"
    }
   ],
   "source": [
    "df_all_data_filtered_processed.isna().sum()"
   ]
  },
  {
   "cell_type": "code",
   "execution_count": 39,
   "metadata": {},
   "outputs": [
    {
     "data": {
      "text/html": [
       "<div>\n",
       "<style scoped>\n",
       "    .dataframe tbody tr th:only-of-type {\n",
       "        vertical-align: middle;\n",
       "    }\n",
       "\n",
       "    .dataframe tbody tr th {\n",
       "        vertical-align: top;\n",
       "    }\n",
       "\n",
       "    .dataframe thead th {\n",
       "        text-align: right;\n",
       "    }\n",
       "</style>\n",
       "<table border=\"1\" class=\"dataframe\">\n",
       "  <thead>\n",
       "    <tr style=\"text-align: right;\">\n",
       "      <th></th>\n",
       "      <th>review</th>\n",
       "      <th>text</th>\n",
       "      <th>review_year</th>\n",
       "      <th>helpfulness_0</th>\n",
       "      <th>helpfulness_1</th>\n",
       "      <th>authors</th>\n",
       "      <th>publisher</th>\n",
       "      <th>categories</th>\n",
       "      <th>published_year</th>\n",
       "    </tr>\n",
       "  </thead>\n",
       "  <tbody>\n",
       "    <tr>\n",
       "      <th>433174</th>\n",
       "      <td>4.0</td>\n",
       "      <td>This book is a biography of Martin Johnson, wr...</td>\n",
       "      <td>2006</td>\n",
       "      <td>0.800000</td>\n",
       "      <td>0.800000</td>\n",
       "      <td>[Osa Johnson]</td>\n",
       "      <td>Vertical Inc</td>\n",
       "      <td>[Travel]</td>\n",
       "      <td>2019</td>\n",
       "    </tr>\n",
       "    <tr>\n",
       "      <th>334423</th>\n",
       "      <td>3.0</td>\n",
       "      <td>I've read several reviews for Captivating and ...</td>\n",
       "      <td>2006</td>\n",
       "      <td>0.769231</td>\n",
       "      <td>0.769231</td>\n",
       "      <td>[John Eldredge, Stasi Eldredge]</td>\n",
       "      <td>Thomas Nelson Inc</td>\n",
       "      <td>[Religion]</td>\n",
       "      <td>2010</td>\n",
       "    </tr>\n",
       "    <tr>\n",
       "      <th>106344</th>\n",
       "      <td>5.0</td>\n",
       "      <td>The writing was wonderful, and very descriptiv...</td>\n",
       "      <td>2007</td>\n",
       "      <td>0.500000</td>\n",
       "      <td>0.500000</td>\n",
       "      <td>[Charles II (koning van Groot-Brittannië en Ie...</td>\n",
       "      <td>NaN</td>\n",
       "      <td>NaN</td>\n",
       "      <td>1672</td>\n",
       "    </tr>\n",
       "    <tr>\n",
       "      <th>202813</th>\n",
       "      <td>4.0</td>\n",
       "      <td>Joyce Sullivan makes a welcome return to form ...</td>\n",
       "      <td>1999</td>\n",
       "      <td>1.000000</td>\n",
       "      <td>1.000000</td>\n",
       "      <td>[Joyce Sullivan]</td>\n",
       "      <td>Harlequin Treasury-Harlequin Intrigue 90s</td>\n",
       "      <td>[Fiction]</td>\n",
       "      <td>2000</td>\n",
       "    </tr>\n",
       "    <tr>\n",
       "      <th>178955</th>\n",
       "      <td>5.0</td>\n",
       "      <td>I have had enough acne to worry about coping w...</td>\n",
       "      <td>2005</td>\n",
       "      <td>1.000000</td>\n",
       "      <td>1.000000</td>\n",
       "      <td>[Lydia Preston]</td>\n",
       "      <td>Simon and Schuster</td>\n",
       "      <td>[Health &amp; Fitness]</td>\n",
       "      <td>2007</td>\n",
       "    </tr>\n",
       "    <tr>\n",
       "      <th>385315</th>\n",
       "      <td>3.0</td>\n",
       "      <td>This book contains a depth of content that its...</td>\n",
       "      <td>1999</td>\n",
       "      <td>0.705882</td>\n",
       "      <td>0.705882</td>\n",
       "      <td>[G. K. Chesterton]</td>\n",
       "      <td>Open Road Media</td>\n",
       "      <td>[Philosophy]</td>\n",
       "      <td>2015</td>\n",
       "    </tr>\n",
       "    <tr>\n",
       "      <th>71538</th>\n",
       "      <td>4.0</td>\n",
       "      <td>Very interesting book. His ideas on the rise a...</td>\n",
       "      <td>2007</td>\n",
       "      <td>0.000000</td>\n",
       "      <td>0.000000</td>\n",
       "      <td>[Jared Diamond]</td>\n",
       "      <td>W. W. Norton &amp; Company</td>\n",
       "      <td>[History]</td>\n",
       "      <td>2017</td>\n",
       "    </tr>\n",
       "    <tr>\n",
       "      <th>503357</th>\n",
       "      <td>5.0</td>\n",
       "      <td>This is a wonderful book. Too bad the medical ...</td>\n",
       "      <td>2012</td>\n",
       "      <td>1.000000</td>\n",
       "      <td>1.000000</td>\n",
       "      <td>[Eydie Mae, Chris Loeffler]</td>\n",
       "      <td>Avery</td>\n",
       "      <td>[Social Science]</td>\n",
       "      <td>1992</td>\n",
       "    </tr>\n",
       "    <tr>\n",
       "      <th>407036</th>\n",
       "      <td>5.0</td>\n",
       "      <td>I love this book. It's easy to read in that yo...</td>\n",
       "      <td>2008</td>\n",
       "      <td>1.000000</td>\n",
       "      <td>1.000000</td>\n",
       "      <td>[Catherine Ponder, General Press]</td>\n",
       "      <td>GENERAL PRESS</td>\n",
       "      <td>[Self-Help]</td>\n",
       "      <td>2018</td>\n",
       "    </tr>\n",
       "    <tr>\n",
       "      <th>361147</th>\n",
       "      <td>4.0</td>\n",
       "      <td>Steve is on the phone (and never appears in th...</td>\n",
       "      <td>2004</td>\n",
       "      <td>0.000000</td>\n",
       "      <td>1.000000</td>\n",
       "      <td>[Angela C. Santomero]</td>\n",
       "      <td>Turtleback</td>\n",
       "      <td>[Juvenile Fiction]</td>\n",
       "      <td>2002</td>\n",
       "    </tr>\n",
       "  </tbody>\n",
       "</table>\n",
       "</div>"
      ],
      "text/plain": [
       "        review                                               text  \\\n",
       "433174     4.0  This book is a biography of Martin Johnson, wr...   \n",
       "334423     3.0  I've read several reviews for Captivating and ...   \n",
       "106344     5.0  The writing was wonderful, and very descriptiv...   \n",
       "202813     4.0  Joyce Sullivan makes a welcome return to form ...   \n",
       "178955     5.0  I have had enough acne to worry about coping w...   \n",
       "385315     3.0  This book contains a depth of content that its...   \n",
       "71538      4.0  Very interesting book. His ideas on the rise a...   \n",
       "503357     5.0  This is a wonderful book. Too bad the medical ...   \n",
       "407036     5.0  I love this book. It's easy to read in that yo...   \n",
       "361147     4.0  Steve is on the phone (and never appears in th...   \n",
       "\n",
       "        review_year  helpfulness_0  helpfulness_1  \\\n",
       "433174         2006       0.800000       0.800000   \n",
       "334423         2006       0.769231       0.769231   \n",
       "106344         2007       0.500000       0.500000   \n",
       "202813         1999       1.000000       1.000000   \n",
       "178955         2005       1.000000       1.000000   \n",
       "385315         1999       0.705882       0.705882   \n",
       "71538          2007       0.000000       0.000000   \n",
       "503357         2012       1.000000       1.000000   \n",
       "407036         2008       1.000000       1.000000   \n",
       "361147         2004       0.000000       1.000000   \n",
       "\n",
       "                                                  authors  \\\n",
       "433174                                      [Osa Johnson]   \n",
       "334423                    [John Eldredge, Stasi Eldredge]   \n",
       "106344  [Charles II (koning van Groot-Brittannië en Ie...   \n",
       "202813                                   [Joyce Sullivan]   \n",
       "178955                                    [Lydia Preston]   \n",
       "385315                                 [G. K. Chesterton]   \n",
       "71538                                     [Jared Diamond]   \n",
       "503357                        [Eydie Mae, Chris Loeffler]   \n",
       "407036                  [Catherine Ponder, General Press]   \n",
       "361147                              [Angela C. Santomero]   \n",
       "\n",
       "                                        publisher          categories  \\\n",
       "433174                               Vertical Inc            [Travel]   \n",
       "334423                          Thomas Nelson Inc          [Religion]   \n",
       "106344                                        NaN                 NaN   \n",
       "202813  Harlequin Treasury-Harlequin Intrigue 90s           [Fiction]   \n",
       "178955                         Simon and Schuster  [Health & Fitness]   \n",
       "385315                            Open Road Media        [Philosophy]   \n",
       "71538                      W. W. Norton & Company           [History]   \n",
       "503357                                      Avery    [Social Science]   \n",
       "407036                              GENERAL PRESS         [Self-Help]   \n",
       "361147                                 Turtleback  [Juvenile Fiction]   \n",
       "\n",
       "        published_year  \n",
       "433174            2019  \n",
       "334423            2010  \n",
       "106344            1672  \n",
       "202813            2000  \n",
       "178955            2007  \n",
       "385315            2015  \n",
       "71538             2017  \n",
       "503357            1992  \n",
       "407036            2018  \n",
       "361147            2002  "
      ]
     },
     "execution_count": 39,
     "metadata": {},
     "output_type": "execute_result"
    }
   ],
   "source": [
    "df_all_data_filtered_processed.sample(10)"
   ]
  },
  {
   "cell_type": "code",
   "execution_count": 40,
   "metadata": {},
   "outputs": [
    {
     "name": "stdout",
     "output_type": "stream",
     "text": [
      "<class 'pandas.core.frame.DataFrame'>\n",
      "RangeIndex: 502046 entries, 0 to 502045\n",
      "Data columns (total 9 columns):\n",
      " #   Column          Non-Null Count   Dtype  \n",
      "---  ------          --------------   -----  \n",
      " 0   review          502046 non-null  float64\n",
      " 1   text            502046 non-null  object \n",
      " 2   review_year     502046 non-null  int64  \n",
      " 3   helpfulness_0   502046 non-null  float64\n",
      " 4   helpfulness_1   502046 non-null  float64\n",
      " 5   authors         490973 non-null  object \n",
      " 6   publisher       420055 non-null  object \n",
      " 7   categories      467215 non-null  object \n",
      " 8   published_year  502046 non-null  int64  \n",
      "dtypes: float64(3), int64(2), object(4)\n",
      "memory usage: 34.5+ MB\n"
     ]
    }
   ],
   "source": [
    "df_all_data_filtered_processed = df_all_data_filtered_processed.drop_duplicates(subset=['review', 'text'])\n",
    "df_all_data_filtered_processed.reset_index(drop=True, inplace=True)\n",
    "df_all_data_filtered_processed.info()"
   ]
  },
  {
   "cell_type": "code",
   "execution_count": 41,
   "metadata": {},
   "outputs": [
    {
     "data": {
      "text/html": [
       "<div>\n",
       "<style scoped>\n",
       "    .dataframe tbody tr th:only-of-type {\n",
       "        vertical-align: middle;\n",
       "    }\n",
       "\n",
       "    .dataframe tbody tr th {\n",
       "        vertical-align: top;\n",
       "    }\n",
       "\n",
       "    .dataframe thead th {\n",
       "        text-align: right;\n",
       "    }\n",
       "</style>\n",
       "<table border=\"1\" class=\"dataframe\">\n",
       "  <thead>\n",
       "    <tr style=\"text-align: right;\">\n",
       "      <th></th>\n",
       "      <th>review</th>\n",
       "      <th>text</th>\n",
       "      <th>review_year</th>\n",
       "      <th>helpfulness_0</th>\n",
       "      <th>helpfulness_1</th>\n",
       "      <th>authors</th>\n",
       "      <th>publisher</th>\n",
       "      <th>categories</th>\n",
       "      <th>published_year</th>\n",
       "    </tr>\n",
       "  </thead>\n",
       "  <tbody>\n",
       "    <tr>\n",
       "      <th>369302</th>\n",
       "      <td>5.0</td>\n",
       "      <td>I was ignorant with respect to the mind &amp; any ...</td>\n",
       "      <td>2002</td>\n",
       "      <td>0.118644</td>\n",
       "      <td>0.118644</td>\n",
       "      <td>[L. Ron Hubbard]</td>\n",
       "      <td>NaN</td>\n",
       "      <td>NaN</td>\n",
       "      <td>2007</td>\n",
       "    </tr>\n",
       "    <tr>\n",
       "      <th>501029</th>\n",
       "      <td>4.0</td>\n",
       "      <td>I really enjoyed this book. I love historical ...</td>\n",
       "      <td>2010</td>\n",
       "      <td>0.000000</td>\n",
       "      <td>1.000000</td>\n",
       "      <td>[Ross Morton]</td>\n",
       "      <td>Linford</td>\n",
       "      <td>[Fiction]</td>\n",
       "      <td>2012</td>\n",
       "    </tr>\n",
       "    <tr>\n",
       "      <th>129891</th>\n",
       "      <td>2.0</td>\n",
       "      <td>This book is a fairly typical historical roman...</td>\n",
       "      <td>2010</td>\n",
       "      <td>0.000000</td>\n",
       "      <td>1.000000</td>\n",
       "      <td>[Rachel L. Demeter]</td>\n",
       "      <td>Createspace Independent Publishing Platform</td>\n",
       "      <td>NaN</td>\n",
       "      <td>2017</td>\n",
       "    </tr>\n",
       "    <tr>\n",
       "      <th>172349</th>\n",
       "      <td>5.0</td>\n",
       "      <td>Very entertaining read of the author's trip th...</td>\n",
       "      <td>2002</td>\n",
       "      <td>1.000000</td>\n",
       "      <td>1.000000</td>\n",
       "      <td>[Frances Milton Trollope]</td>\n",
       "      <td>NaN</td>\n",
       "      <td>[Electronic books]</td>\n",
       "      <td>1949</td>\n",
       "    </tr>\n",
       "    <tr>\n",
       "      <th>212760</th>\n",
       "      <td>5.0</td>\n",
       "      <td>LEft behind is one of the best books I have ev...</td>\n",
       "      <td>2000</td>\n",
       "      <td>0.416667</td>\n",
       "      <td>0.416667</td>\n",
       "      <td>[Tim F. LaHaye, Jerry B. Jenkins]</td>\n",
       "      <td>Tyndale House Publishers, Inc.</td>\n",
       "      <td>[FICTION]</td>\n",
       "      <td>2011</td>\n",
       "    </tr>\n",
       "    <tr>\n",
       "      <th>154401</th>\n",
       "      <td>5.0</td>\n",
       "      <td>This is without a doubt the best book in the w...</td>\n",
       "      <td>2001</td>\n",
       "      <td>1.000000</td>\n",
       "      <td>1.000000</td>\n",
       "      <td>[Margaret Mitchell]</td>\n",
       "      <td>Random House</td>\n",
       "      <td>[Fiction]</td>\n",
       "      <td>2020</td>\n",
       "    </tr>\n",
       "    <tr>\n",
       "      <th>269966</th>\n",
       "      <td>5.0</td>\n",
       "      <td>This was definetly one of the best books I hav...</td>\n",
       "      <td>2011</td>\n",
       "      <td>0.000000</td>\n",
       "      <td>1.000000</td>\n",
       "      <td>[John Flanagan]</td>\n",
       "      <td>Penguin</td>\n",
       "      <td>[Juvenile Fiction]</td>\n",
       "      <td>2006</td>\n",
       "    </tr>\n",
       "    <tr>\n",
       "      <th>85393</th>\n",
       "      <td>4.0</td>\n",
       "      <td>Before Gwen Stefani, Madonna and Courtney Love...</td>\n",
       "      <td>2005</td>\n",
       "      <td>0.000000</td>\n",
       "      <td>1.000000</td>\n",
       "      <td>[Cathay Che]</td>\n",
       "      <td>Andre Deutsch Limited</td>\n",
       "      <td>[Biography &amp; Autobiography]</td>\n",
       "      <td>2005</td>\n",
       "    </tr>\n",
       "    <tr>\n",
       "      <th>66788</th>\n",
       "      <td>2.0</td>\n",
       "      <td>short and sweet-Jix's antics and dialog are di...</td>\n",
       "      <td>2006</td>\n",
       "      <td>0.714286</td>\n",
       "      <td>0.714286</td>\n",
       "      <td>[Fiona Grant]</td>\n",
       "      <td>Blue Gem Publishing</td>\n",
       "      <td>[Fiction]</td>\n",
       "      <td>2017</td>\n",
       "    </tr>\n",
       "    <tr>\n",
       "      <th>482905</th>\n",
       "      <td>5.0</td>\n",
       "      <td>This has helpped the Grandchildren to learn mo...</td>\n",
       "      <td>2008</td>\n",
       "      <td>0.666667</td>\n",
       "      <td>0.666667</td>\n",
       "      <td>[David Walters]</td>\n",
       "      <td>Good News Ministries</td>\n",
       "      <td>[Apologetics]</td>\n",
       "      <td>1991</td>\n",
       "    </tr>\n",
       "  </tbody>\n",
       "</table>\n",
       "</div>"
      ],
      "text/plain": [
       "        review                                               text  \\\n",
       "369302     5.0  I was ignorant with respect to the mind & any ...   \n",
       "501029     4.0  I really enjoyed this book. I love historical ...   \n",
       "129891     2.0  This book is a fairly typical historical roman...   \n",
       "172349     5.0  Very entertaining read of the author's trip th...   \n",
       "212760     5.0  LEft behind is one of the best books I have ev...   \n",
       "154401     5.0  This is without a doubt the best book in the w...   \n",
       "269966     5.0  This was definetly one of the best books I hav...   \n",
       "85393      4.0  Before Gwen Stefani, Madonna and Courtney Love...   \n",
       "66788      2.0  short and sweet-Jix's antics and dialog are di...   \n",
       "482905     5.0  This has helpped the Grandchildren to learn mo...   \n",
       "\n",
       "        review_year  helpfulness_0  helpfulness_1  \\\n",
       "369302         2002       0.118644       0.118644   \n",
       "501029         2010       0.000000       1.000000   \n",
       "129891         2010       0.000000       1.000000   \n",
       "172349         2002       1.000000       1.000000   \n",
       "212760         2000       0.416667       0.416667   \n",
       "154401         2001       1.000000       1.000000   \n",
       "269966         2011       0.000000       1.000000   \n",
       "85393          2005       0.000000       1.000000   \n",
       "66788          2006       0.714286       0.714286   \n",
       "482905         2008       0.666667       0.666667   \n",
       "\n",
       "                                  authors  \\\n",
       "369302                   [L. Ron Hubbard]   \n",
       "501029                      [Ross Morton]   \n",
       "129891                [Rachel L. Demeter]   \n",
       "172349          [Frances Milton Trollope]   \n",
       "212760  [Tim F. LaHaye, Jerry B. Jenkins]   \n",
       "154401                [Margaret Mitchell]   \n",
       "269966                    [John Flanagan]   \n",
       "85393                        [Cathay Che]   \n",
       "66788                       [Fiona Grant]   \n",
       "482905                    [David Walters]   \n",
       "\n",
       "                                          publisher  \\\n",
       "369302                                          NaN   \n",
       "501029                                      Linford   \n",
       "129891  Createspace Independent Publishing Platform   \n",
       "172349                                          NaN   \n",
       "212760               Tyndale House Publishers, Inc.   \n",
       "154401                                 Random House   \n",
       "269966                                      Penguin   \n",
       "85393                         Andre Deutsch Limited   \n",
       "66788                           Blue Gem Publishing   \n",
       "482905                         Good News Ministries   \n",
       "\n",
       "                         categories  published_year  \n",
       "369302                          NaN            2007  \n",
       "501029                    [Fiction]            2012  \n",
       "129891                          NaN            2017  \n",
       "172349           [Electronic books]            1949  \n",
       "212760                    [FICTION]            2011  \n",
       "154401                    [Fiction]            2020  \n",
       "269966           [Juvenile Fiction]            2006  \n",
       "85393   [Biography & Autobiography]            2005  \n",
       "66788                     [Fiction]            2017  \n",
       "482905                [Apologetics]            1991  "
      ]
     },
     "execution_count": 41,
     "metadata": {},
     "output_type": "execute_result"
    }
   ],
   "source": [
    "df_all_data_filtered_processed.sample(10)"
   ]
  },
  {
   "cell_type": "markdown",
   "metadata": {},
   "source": [
    "# Initial EDA and Final Preprocesing"
   ]
  },
  {
   "cell_type": "markdown",
   "metadata": {},
   "source": [
    "## Helpfulness Column"
   ]
  },
  {
   "cell_type": "markdown",
   "metadata": {},
   "source": [
    "### Removing Outliers"
   ]
  },
  {
   "cell_type": "markdown",
   "metadata": {},
   "source": [
    "Porcentual helpfulness variable values should be between 0 and 1. Outliers are remove as they are just 2 entries from the entire dataset."
   ]
  },
  {
   "cell_type": "code",
   "execution_count": 42,
   "metadata": {},
   "outputs": [
    {
     "data": {
      "text/plain": [
       "count    502046.000000\n",
       "mean          0.504319\n",
       "std           0.429890\n",
       "min           0.000000\n",
       "25%           0.000000\n",
       "50%           0.545455\n",
       "75%           1.000000\n",
       "max           2.000000\n",
       "Name: helpfulness_0, dtype: float64"
      ]
     },
     "execution_count": 42,
     "metadata": {},
     "output_type": "execute_result"
    }
   ],
   "source": [
    "df_all_data_filtered_processed['helpfulness_0'].describe().T"
   ]
  },
  {
   "cell_type": "code",
   "execution_count": 43,
   "metadata": {},
   "outputs": [
    {
     "data": {
      "text/plain": [
       "count    502046.000000\n",
       "mean          0.789840\n",
       "std           0.317517\n",
       "min           0.000000\n",
       "25%           0.666667\n",
       "50%           1.000000\n",
       "75%           1.000000\n",
       "max           2.000000\n",
       "Name: helpfulness_1, dtype: float64"
      ]
     },
     "execution_count": 43,
     "metadata": {},
     "output_type": "execute_result"
    }
   ],
   "source": [
    "df_all_data_filtered_processed['helpfulness_1'].describe().T"
   ]
  },
  {
   "cell_type": "code",
   "execution_count": 44,
   "metadata": {},
   "outputs": [
    {
     "data": {
      "text/plain": [
       "(502046, 9)"
      ]
     },
     "execution_count": 44,
     "metadata": {},
     "output_type": "execute_result"
    }
   ],
   "source": [
    "df_all_data_filtered_processed.shape"
   ]
  },
  {
   "cell_type": "code",
   "execution_count": 45,
   "metadata": {},
   "outputs": [
    {
     "data": {
      "text/plain": [
       "Series([], Name: count, dtype: int64)"
      ]
     },
     "execution_count": 45,
     "metadata": {},
     "output_type": "execute_result"
    }
   ],
   "source": [
    "df_all_data_filtered_processed = df_all_data_filtered_processed.drop(df_all_data_filtered_processed[df_all_data_filtered_processed['helpfulness_0'] == 2].index)\n",
    "df_all_data_filtered_processed[df_all_data_filtered_processed['helpfulness_0'] == 2]['helpfulness_0'].value_counts()"
   ]
  },
  {
   "cell_type": "code",
   "execution_count": 46,
   "metadata": {},
   "outputs": [],
   "source": [
    "df_all_data_filtered_processed.reset_index(drop=True, inplace=True)"
   ]
  },
  {
   "cell_type": "code",
   "execution_count": 47,
   "metadata": {},
   "outputs": [
    {
     "data": {
      "text/plain": [
       "(502044, 9)"
      ]
     },
     "execution_count": 47,
     "metadata": {},
     "output_type": "execute_result"
    }
   ],
   "source": [
    "df_all_data_filtered_processed.shape"
   ]
  },
  {
   "cell_type": "code",
   "execution_count": 48,
   "metadata": {},
   "outputs": [
    {
     "data": {
      "text/plain": [
       "count    502044.000000\n",
       "mean          0.789835\n",
       "std           0.317508\n",
       "min           0.000000\n",
       "25%           0.666667\n",
       "50%           1.000000\n",
       "75%           1.000000\n",
       "max           1.000000\n",
       "Name: helpfulness_1, dtype: float64"
      ]
     },
     "execution_count": 48,
     "metadata": {},
     "output_type": "execute_result"
    }
   ],
   "source": [
    "df_all_data_filtered_processed['helpfulness_1'].describe().T"
   ]
  },
  {
   "cell_type": "code",
   "execution_count": 49,
   "metadata": {},
   "outputs": [
    {
     "data": {
      "text/plain": [
       "count    502044.000000\n",
       "mean          0.504313\n",
       "std           0.429881\n",
       "min           0.000000\n",
       "25%           0.000000\n",
       "50%           0.545455\n",
       "75%           1.000000\n",
       "max           1.000000\n",
       "Name: helpfulness_0, dtype: float64"
      ]
     },
     "execution_count": 49,
     "metadata": {},
     "output_type": "execute_result"
    }
   ],
   "source": [
    "df_all_data_filtered_processed['helpfulness_0'].describe().T"
   ]
  },
  {
   "cell_type": "code",
   "execution_count": 50,
   "metadata": {},
   "outputs": [
    {
     "data": {
      "text/html": [
       "<style type=\"text/css\">\n",
       "#T_f7fca_row0_col0, #T_f7fca_row1_col1, #T_f7fca_row2_col2 {\n",
       "  background-color: #08306b;\n",
       "  color: #f1f1f1;\n",
       "}\n",
       "#T_f7fca_row0_col1, #T_f7fca_row0_col2, #T_f7fca_row2_col0 {\n",
       "  background-color: #f7fbff;\n",
       "  color: #000000;\n",
       "}\n",
       "#T_f7fca_row1_col0 {\n",
       "  background-color: #c7dbef;\n",
       "  color: #000000;\n",
       "}\n",
       "#T_f7fca_row1_col2 {\n",
       "  background-color: #c6dbef;\n",
       "  color: #000000;\n",
       "}\n",
       "#T_f7fca_row2_col1 {\n",
       "  background-color: #f6faff;\n",
       "  color: #000000;\n",
       "}\n",
       "</style>\n",
       "<table id=\"T_f7fca\">\n",
       "  <thead>\n",
       "    <tr>\n",
       "      <th class=\"blank level0\" >&nbsp;</th>\n",
       "      <th id=\"T_f7fca_level0_col0\" class=\"col_heading level0 col0\" >helpfulness_0</th>\n",
       "      <th id=\"T_f7fca_level0_col1\" class=\"col_heading level0 col1\" >helpfulness_1</th>\n",
       "      <th id=\"T_f7fca_level0_col2\" class=\"col_heading level0 col2\" >review</th>\n",
       "    </tr>\n",
       "  </thead>\n",
       "  <tbody>\n",
       "    <tr>\n",
       "      <th id=\"T_f7fca_level0_row0\" class=\"row_heading level0 row0\" >helpfulness_0</th>\n",
       "      <td id=\"T_f7fca_row0_col0\" class=\"data row0 col0\" >1.000000</td>\n",
       "      <td id=\"T_f7fca_row0_col1\" class=\"data row0 col1\" >0.298954</td>\n",
       "      <td id=\"T_f7fca_row0_col2\" class=\"data row0 col2\" >0.067885</td>\n",
       "    </tr>\n",
       "    <tr>\n",
       "      <th id=\"T_f7fca_level0_row1\" class=\"row_heading level0 row1\" >helpfulness_1</th>\n",
       "      <td id=\"T_f7fca_row1_col0\" class=\"data row1 col0\" >0.298954</td>\n",
       "      <td id=\"T_f7fca_row1_col1\" class=\"data row1 col1\" >1.000000</td>\n",
       "      <td id=\"T_f7fca_row1_col2\" class=\"data row1 col2\" >0.302753</td>\n",
       "    </tr>\n",
       "    <tr>\n",
       "      <th id=\"T_f7fca_level0_row2\" class=\"row_heading level0 row2\" >review</th>\n",
       "      <td id=\"T_f7fca_row2_col0\" class=\"data row2 col0\" >0.067885</td>\n",
       "      <td id=\"T_f7fca_row2_col1\" class=\"data row2 col1\" >0.302753</td>\n",
       "      <td id=\"T_f7fca_row2_col2\" class=\"data row2 col2\" >1.000000</td>\n",
       "    </tr>\n",
       "  </tbody>\n",
       "</table>\n"
      ],
      "text/plain": [
       "<pandas.io.formats.style.Styler at 0x7fe7b21e5f10>"
      ]
     },
     "execution_count": 50,
     "metadata": {},
     "output_type": "execute_result"
    }
   ],
   "source": [
    "#Correlation Analysis \n",
    "df_all_data_filtered_processed[['helpfulness_0','helpfulness_1','review']].corr().style.background_gradient(cmap='Blues')"
   ]
  },
  {
   "cell_type": "markdown",
   "metadata": {},
   "source": [
    "Correlation matrix shows that helpfulness_0 and helpfulness_1 are not much correlated. But helpfulness_0 and helpfulness_1 provide the same information. Based on the correlation with 'review' column, helpfulness_1 is kept and helpfulness_0 is removed. In order to avoid repeated information."
   ]
  },
  {
   "cell_type": "code",
   "execution_count": 51,
   "metadata": {},
   "outputs": [],
   "source": [
    "df_all_data_filtered_processed = df_all_data_filtered_processed.drop(['helpfulness_0'], axis=1)"
   ]
  },
  {
   "cell_type": "code",
   "execution_count": 52,
   "metadata": {},
   "outputs": [
    {
     "data": {
      "text/html": [
       "<div>\n",
       "<style scoped>\n",
       "    .dataframe tbody tr th:only-of-type {\n",
       "        vertical-align: middle;\n",
       "    }\n",
       "\n",
       "    .dataframe tbody tr th {\n",
       "        vertical-align: top;\n",
       "    }\n",
       "\n",
       "    .dataframe thead th {\n",
       "        text-align: right;\n",
       "    }\n",
       "</style>\n",
       "<table border=\"1\" class=\"dataframe\">\n",
       "  <thead>\n",
       "    <tr style=\"text-align: right;\">\n",
       "      <th></th>\n",
       "      <th>review</th>\n",
       "      <th>text</th>\n",
       "      <th>review_year</th>\n",
       "      <th>authors</th>\n",
       "      <th>publisher</th>\n",
       "      <th>categories</th>\n",
       "      <th>published_year</th>\n",
       "      <th>helpfulness</th>\n",
       "    </tr>\n",
       "  </thead>\n",
       "  <tbody>\n",
       "    <tr>\n",
       "      <th>66751</th>\n",
       "      <td>5.0</td>\n",
       "      <td>Fierce. That about sums it up, whether she wri...</td>\n",
       "      <td>2007</td>\n",
       "      <td>[Anna Świrszczyńska]</td>\n",
       "      <td>NaN</td>\n",
       "      <td>[Poetry]</td>\n",
       "      <td>1996</td>\n",
       "      <td>1.0</td>\n",
       "    </tr>\n",
       "    <tr>\n",
       "      <th>140080</th>\n",
       "      <td>5.0</td>\n",
       "      <td>I enjoyed this book very much. It is a fun pic...</td>\n",
       "      <td>2003</td>\n",
       "      <td>[Ken Woodward]</td>\n",
       "      <td>Publishamerica Incorporated</td>\n",
       "      <td>[Fiction]</td>\n",
       "      <td>2003</td>\n",
       "      <td>1.0</td>\n",
       "    </tr>\n",
       "    <tr>\n",
       "      <th>402271</th>\n",
       "      <td>5.0</td>\n",
       "      <td>If you like to read about excentrics, this is ...</td>\n",
       "      <td>2011</td>\n",
       "      <td>[Paul R. Masson]</td>\n",
       "      <td>NaN</td>\n",
       "      <td>NaN</td>\n",
       "      <td>2006</td>\n",
       "      <td>1.0</td>\n",
       "    </tr>\n",
       "    <tr>\n",
       "      <th>28100</th>\n",
       "      <td>5.0</td>\n",
       "      <td>Best book I've had the pleasure of reading in ...</td>\n",
       "      <td>2013</td>\n",
       "      <td>[Charlotte Brontë]</td>\n",
       "      <td>NaN</td>\n",
       "      <td>[Literary Criticism]</td>\n",
       "      <td>2017</td>\n",
       "      <td>1.0</td>\n",
       "    </tr>\n",
       "    <tr>\n",
       "      <th>147785</th>\n",
       "      <td>4.0</td>\n",
       "      <td>I really enjoyed this book. It had adventure a...</td>\n",
       "      <td>2012</td>\n",
       "      <td>[Kathy Coatney]</td>\n",
       "      <td>Kathy Coatney</td>\n",
       "      <td>[Fiction]</td>\n",
       "      <td>2021</td>\n",
       "      <td>1.0</td>\n",
       "    </tr>\n",
       "  </tbody>\n",
       "</table>\n",
       "</div>"
      ],
      "text/plain": [
       "        review                                               text  \\\n",
       "66751      5.0  Fierce. That about sums it up, whether she wri...   \n",
       "140080     5.0  I enjoyed this book very much. It is a fun pic...   \n",
       "402271     5.0  If you like to read about excentrics, this is ...   \n",
       "28100      5.0  Best book I've had the pleasure of reading in ...   \n",
       "147785     4.0  I really enjoyed this book. It had adventure a...   \n",
       "\n",
       "        review_year               authors                    publisher  \\\n",
       "66751          2007  [Anna Świrszczyńska]                          NaN   \n",
       "140080         2003        [Ken Woodward]  Publishamerica Incorporated   \n",
       "402271         2011      [Paul R. Masson]                          NaN   \n",
       "28100          2013    [Charlotte Brontë]                          NaN   \n",
       "147785         2012       [Kathy Coatney]                Kathy Coatney   \n",
       "\n",
       "                  categories  published_year  helpfulness  \n",
       "66751               [Poetry]            1996          1.0  \n",
       "140080             [Fiction]            2003          1.0  \n",
       "402271                   NaN            2006          1.0  \n",
       "28100   [Literary Criticism]            2017          1.0  \n",
       "147785             [Fiction]            2021          1.0  "
      ]
     },
     "execution_count": 52,
     "metadata": {},
     "output_type": "execute_result"
    }
   ],
   "source": [
    "df_all_data_filtered_processed['helpfulness'] = df_all_data_filtered_processed['helpfulness_1']\n",
    "df_all_data_filtered_processed = df_all_data_filtered_processed.drop(['helpfulness_1'], axis=1)\n",
    "df_all_data_filtered_processed.sample(5)"
   ]
  },
  {
   "cell_type": "markdown",
   "metadata": {},
   "source": [
    "## Authors Column"
   ]
  },
  {
   "cell_type": "markdown",
   "metadata": {},
   "source": [
    "### Authors Names Standarization\n",
    "\n",
    "During the Exploratory Data Analysis it was discovered that some authors are reviewed under diferent formats of their names. Based on this, the Dataset is simplified to contain only one name format."
   ]
  },
  {
   "cell_type": "code",
   "execution_count": 53,
   "metadata": {},
   "outputs": [],
   "source": [
    "#The examples are:\n",
    "author_mapping = {\n",
    "    'John Ronald Reuel Tolkien':'J. R. R. Tolkien',\n",
    "    'J. R. R. Tolkien':'J. R. R. Tolkien',\n",
    "    'J.R.R. Tolkien':'J. R. R. Tolkien',\n",
    "    'Joseph Smith':'Joseph Smith',\n",
    "    'Joseph Smith (Jr.)':'Joseph Smith',\n",
    "    'Jr.':'Joseph Smith',\n",
    "    'Gabriel Garcia Marquez':'Gabriel Garcia Marquez',\n",
    "    'Gabriel García Márquez':'Gabriel Garcia Marquez',\n",
    "    'Charlotte Brontë':'Charlotte Brontë',\n",
    "    'Charlotte Bronte':'Charlotte Brontë',\n",
    "    'Emily Brontë':'Emily Brontë',\n",
    "    'Emily Bronte':'Emily Brontë',\n",
    "    'Joseph Smith':'Joseph Smith',\n",
    "    'Joseph Smith (Jr.)':'Joseph Smith',\n",
    "    'Jr.':'Joseph Smith'\n",
    "    }\n"
   ]
  },
  {
   "cell_type": "code",
   "execution_count": 54,
   "metadata": {},
   "outputs": [
    {
     "name": "stdout",
     "output_type": "stream",
     "text": [
      "<class 'pandas.core.frame.DataFrame'>\n",
      "RangeIndex: 502044 entries, 0 to 502043\n",
      "Data columns (total 8 columns):\n",
      " #   Column          Non-Null Count   Dtype  \n",
      "---  ------          --------------   -----  \n",
      " 0   review          502044 non-null  float64\n",
      " 1   text            502044 non-null  object \n",
      " 2   review_year     502044 non-null  int64  \n",
      " 3   authors         490971 non-null  object \n",
      " 4   publisher       420053 non-null  object \n",
      " 5   categories      467213 non-null  object \n",
      " 6   published_year  502044 non-null  int64  \n",
      " 7   helpfulness     502044 non-null  float64\n",
      "dtypes: float64(2), int64(2), object(4)\n",
      "memory usage: 30.6+ MB\n"
     ]
    }
   ],
   "source": [
    "df_all_data_filtered_processed.info()"
   ]
  },
  {
   "cell_type": "code",
   "execution_count": 55,
   "metadata": {},
   "outputs": [],
   "source": [
    "def standardize_authors(authors):\n",
    "    if isinstance(authors, list):\n",
    "        return [author_mapping.get(author, author) for author in authors]\n",
    "    else:\n",
    "        return authors  # Return the original value if it's not a list"
   ]
  },
  {
   "cell_type": "code",
   "execution_count": 56,
   "metadata": {},
   "outputs": [],
   "source": [
    "df_all_data_filtered_processed['authors'] = df_all_data_filtered_processed['authors'].apply(standardize_authors)"
   ]
  },
  {
   "cell_type": "markdown",
   "metadata": {},
   "source": [
    "### Updating the Authors Feature to Categorical, and applying Pareto Principe to reduce the quantity of authors."
   ]
  },
  {
   "cell_type": "code",
   "execution_count": 57,
   "metadata": {},
   "outputs": [
    {
     "data": {
      "text/plain": [
       "authors\n",
       "J. R. R. Tolkien         6547\n",
       "Jane Austen              2857\n",
       "Charles Dickens          2581\n",
       "John Steinbeck           2437\n",
       "J. K. Rowling            2170\n",
       "                         ... \n",
       "Campbell Soup Company       1\n",
       "Van Dyke Henry              1\n",
       "Ivan Conrad Karp            1\n",
       "Joel Anderson               1\n",
       "Frederic H. Martini         1\n",
       "Name: count, Length: 89409, dtype: int64"
      ]
     },
     "execution_count": 57,
     "metadata": {},
     "output_type": "execute_result"
    }
   ],
   "source": [
    "author_counts = df_all_data_filtered_processed['authors'].explode().value_counts()\n",
    "author_counts"
   ]
  },
  {
   "cell_type": "code",
   "execution_count": 58,
   "metadata": {},
   "outputs": [
    {
     "data": {
      "text/plain": [
       "authors\n",
       "J. R. R. Tolkien       6547\n",
       "Jane Austen            2857\n",
       "Charles Dickens        2581\n",
       "John Steinbeck         2437\n",
       "J. K. Rowling          2170\n",
       "                       ... \n",
       "Rob Scrimger              1\n",
       "Patrick J. Jung           1\n",
       "Kenichi Sawai             1\n",
       "James P. Johnston         1\n",
       "Frederic H. Martini       1\n",
       "Name: count, Length: 89409, dtype: int64"
      ]
     },
     "execution_count": 58,
     "metadata": {},
     "output_type": "execute_result"
    }
   ],
   "source": [
    "sorted_author_counts = author_counts.sort_values(ascending=False)\n",
    "sorted_author_counts"
   ]
  },
  {
   "cell_type": "code",
   "execution_count": 59,
   "metadata": {},
   "outputs": [
    {
     "data": {
      "text/plain": [
       "17881"
      ]
     },
     "execution_count": 59,
     "metadata": {},
     "output_type": "execute_result"
    }
   ],
   "source": [
    "pareto_threshold = int(0.2 * len(sorted_author_counts))\n",
    "pareto_threshold"
   ]
  },
  {
   "cell_type": "code",
   "execution_count": 60,
   "metadata": {},
   "outputs": [
    {
     "data": {
      "text/plain": [
       "Index(['J. R. R. Tolkien', 'Jane Austen', 'Charles Dickens', 'John Steinbeck',\n",
       "       'J. K. Rowling', 'Stephen King', 'Robert Jordan', 'Harper Lee',\n",
       "       'C. S. Lewis', 'Ray Bradbury',\n",
       "       ...\n",
       "       'Mary Daly', 'Edward Dolnick', 'Simon Lewis', 'Greg Rossel',\n",
       "       'Irving Shulman', 'Louis Begley', 'Allen P. Ross', 'Kerstin P. Ouellet',\n",
       "       'Steven R. Lindsay', 'Brenda Brathwaite'],\n",
       "      dtype='object', name='authors', length=17881)"
      ]
     },
     "execution_count": 60,
     "metadata": {},
     "output_type": "execute_result"
    }
   ],
   "source": [
    "top_authors = sorted_author_counts.iloc[:pareto_threshold].index\n",
    "top_authors"
   ]
  },
  {
   "cell_type": "code",
   "execution_count": 61,
   "metadata": {
    "tags": [
     "parameters"
    ]
   },
   "outputs": [
    {
     "data": {
      "text/plain": [
       "17882"
      ]
     },
     "execution_count": 61,
     "metadata": {},
     "output_type": "execute_result"
    }
   ],
   "source": [
    "df_all_data_filtered_processed['authors'] = df_all_data_filtered_processed['authors'].apply(lambda x: [author if author in top_authors else 'Other' for author in x] if isinstance(x, list) else ['Other'])\n",
    "len(df_all_data_filtered_processed['authors'].explode().unique())"
   ]
  },
  {
   "cell_type": "markdown",
   "metadata": {},
   "source": [
    "After applying Pareto Principle, there are still 17923 unique authors on the dataset. If authors is considered as a Categorical Feature, it will not have much predictive because it has a lot of Cardinality.\n",
    "\n",
    "Top 10 authors with most reviews are kept and the rest of authors are set to 'Other'. In order to keep the feature and analize the predicting power."
   ]
  },
  {
   "cell_type": "code",
   "execution_count": 62,
   "metadata": {},
   "outputs": [
    {
     "name": "stdout",
     "output_type": "stream",
     "text": [
      "<class 'pandas.core.series.Series'>\n",
      "Index: 595351 entries, 0 to 502043\n",
      "Series name: authors\n",
      "Non-Null Count   Dtype \n",
      "--------------   ----- \n",
      "595351 non-null  object\n",
      "dtypes: object(1)\n",
      "memory usage: 9.1+ MB\n"
     ]
    }
   ],
   "source": [
    "authors = df_all_data_filtered_processed['authors'].explode()\n",
    "authors.info()"
   ]
  },
  {
   "cell_type": "code",
   "execution_count": 63,
   "metadata": {},
   "outputs": [
    {
     "name": "stdout",
     "output_type": "stream",
     "text": [
      "Total of Authors: 17882\n"
     ]
    }
   ],
   "source": [
    "print(f'Total of Authors: {len(authors.unique())}')"
   ]
  },
  {
   "cell_type": "code",
   "execution_count": 64,
   "metadata": {},
   "outputs": [
    {
     "name": "stdout",
     "output_type": "stream",
     "text": [
      "Total of entries after explode authors column 595351\n"
     ]
    }
   ],
   "source": [
    "author_counts = authors.value_counts(ascending=False)\n",
    "print(f'Total of entries after explode authors column {author_counts.sum()}')"
   ]
  },
  {
   "cell_type": "code",
   "execution_count": 65,
   "metadata": {},
   "outputs": [
    {
     "data": {
      "text/plain": [
       "authors\n",
       "Other               137978\n",
       "J. R. R. Tolkien      6547\n",
       "Jane Austen           2857\n",
       "Charles Dickens       2581\n",
       "John Steinbeck        2437\n",
       "J. K. Rowling         2170\n",
       "Stephen King          2093\n",
       "Robert Jordan         1873\n",
       "Harper Lee            1848\n",
       "C. S. Lewis           1704\n",
       "Name: count, dtype: int64"
      ]
     },
     "execution_count": 65,
     "metadata": {},
     "output_type": "execute_result"
    }
   ],
   "source": [
    "top_10_authors_counts = author_counts[:10].sort_values(ascending=False)\n",
    "top_10_authors_counts"
   ]
  },
  {
   "cell_type": "code",
   "execution_count": 66,
   "metadata": {},
   "outputs": [
    {
     "data": {
      "text/plain": [
       "authors\n",
       "Ray Bradbury              1684\n",
       "Kurt Vonnegut             1652\n",
       "George Orwell             1649\n",
       "Agatha Christie           1562\n",
       "Lois Lowry                1540\n",
       "                          ... \n",
       "Bob Fitrakis                 5\n",
       "Robert J. Fitrakis           5\n",
       "Herbert Charles Corben       5\n",
       "Philip Stehle                5\n",
       "Mary Herczog                 5\n",
       "Name: count, Length: 17872, dtype: int64"
      ]
     },
     "execution_count": 66,
     "metadata": {},
     "output_type": "execute_result"
    }
   ],
   "source": [
    "other_authors_counts = author_counts[10:]\n",
    "other_authors_counts"
   ]
  },
  {
   "cell_type": "code",
   "execution_count": 67,
   "metadata": {},
   "outputs": [
    {
     "data": {
      "text/plain": [
       "10"
      ]
     },
     "execution_count": 67,
     "metadata": {},
     "output_type": "execute_result"
    }
   ],
   "source": [
    "df_all_data_filtered_processed['authors'] = df_all_data_filtered_processed['authors'].apply(lambda x: [author if author in top_10_authors_counts else 'Other' for author in x] if isinstance(x, list) else ['Other'])\n",
    "len(df_all_data_filtered_processed['authors'].explode().unique())"
   ]
  },
  {
   "cell_type": "code",
   "execution_count": 68,
   "metadata": {},
   "outputs": [
    {
     "data": {
      "text/plain": [
       "authors\n",
       "Other               571241\n",
       "J. R. R. Tolkien      6547\n",
       "Jane Austen           2857\n",
       "Charles Dickens       2581\n",
       "John Steinbeck        2437\n",
       "J. K. Rowling         2170\n",
       "Stephen King          2093\n",
       "Robert Jordan         1873\n",
       "Harper Lee            1848\n",
       "C. S. Lewis           1704\n",
       "Name: count, dtype: int64"
      ]
     },
     "execution_count": 68,
     "metadata": {},
     "output_type": "execute_result"
    }
   ],
   "source": [
    "df_all_data_filtered_processed['authors'].explode().value_counts()"
   ]
  },
  {
   "cell_type": "code",
   "execution_count": 69,
   "metadata": {},
   "outputs": [],
   "source": [
    "def remove_repeated_values(in_list):\n",
    "    unique_list = []\n",
    "    for item in in_list:\n",
    "        if item not in unique_list:\n",
    "            unique_list.append(item)\n",
    "\n",
    "    return unique_list"
   ]
  },
  {
   "cell_type": "code",
   "execution_count": 70,
   "metadata": {},
   "outputs": [
    {
     "data": {
      "text/html": [
       "<div>\n",
       "<style scoped>\n",
       "    .dataframe tbody tr th:only-of-type {\n",
       "        vertical-align: middle;\n",
       "    }\n",
       "\n",
       "    .dataframe tbody tr th {\n",
       "        vertical-align: top;\n",
       "    }\n",
       "\n",
       "    .dataframe thead th {\n",
       "        text-align: right;\n",
       "    }\n",
       "</style>\n",
       "<table border=\"1\" class=\"dataframe\">\n",
       "  <thead>\n",
       "    <tr style=\"text-align: right;\">\n",
       "      <th></th>\n",
       "      <th>review</th>\n",
       "      <th>text</th>\n",
       "      <th>review_year</th>\n",
       "      <th>authors</th>\n",
       "      <th>publisher</th>\n",
       "      <th>categories</th>\n",
       "      <th>published_year</th>\n",
       "      <th>helpfulness</th>\n",
       "    </tr>\n",
       "  </thead>\n",
       "  <tbody>\n",
       "    <tr>\n",
       "      <th>293059</th>\n",
       "      <td>5.0</td>\n",
       "      <td>Reading &amp;quot;Aint't No River&amp;quot; was a beau...</td>\n",
       "      <td>2001</td>\n",
       "      <td>[Other]</td>\n",
       "      <td>NaN</td>\n",
       "      <td>[Fiction]</td>\n",
       "      <td>2003</td>\n",
       "      <td>1.000000</td>\n",
       "    </tr>\n",
       "    <tr>\n",
       "      <th>482591</th>\n",
       "      <td>1.0</td>\n",
       "      <td>THIS TOTALLY SUCK ! DON'T BUY THIS!! HE IS STE...</td>\n",
       "      <td>2003</td>\n",
       "      <td>[Other]</td>\n",
       "      <td>Nicholas Direct Incorporated</td>\n",
       "      <td>[Business &amp; Economics]</td>\n",
       "      <td>1998</td>\n",
       "      <td>0.235294</td>\n",
       "    </tr>\n",
       "    <tr>\n",
       "      <th>216543</th>\n",
       "      <td>5.0</td>\n",
       "      <td>The combination of pure insight and Ms. Kushel...</td>\n",
       "      <td>1999</td>\n",
       "      <td>[Other, Other]</td>\n",
       "      <td>The Princeton Review</td>\n",
       "      <td>[Business &amp; Economics]</td>\n",
       "      <td>1999</td>\n",
       "      <td>0.833333</td>\n",
       "    </tr>\n",
       "    <tr>\n",
       "      <th>405672</th>\n",
       "      <td>3.0</td>\n",
       "      <td>This is a decent book touching on Gerrymanderi...</td>\n",
       "      <td>2002</td>\n",
       "      <td>[Other]</td>\n",
       "      <td>University of Chicago Press</td>\n",
       "      <td>[Political Science]</td>\n",
       "      <td>2001</td>\n",
       "      <td>0.312500</td>\n",
       "    </tr>\n",
       "    <tr>\n",
       "      <th>164802</th>\n",
       "      <td>5.0</td>\n",
       "      <td>The highly pined for MBA degree is something t...</td>\n",
       "      <td>2005</td>\n",
       "      <td>[Other, Other]</td>\n",
       "      <td>Random House Digital, Inc.</td>\n",
       "      <td>[Business &amp; Economics]</td>\n",
       "      <td>2004</td>\n",
       "      <td>0.600000</td>\n",
       "    </tr>\n",
       "  </tbody>\n",
       "</table>\n",
       "</div>"
      ],
      "text/plain": [
       "        review                                               text  \\\n",
       "293059     5.0  Reading &quot;Aint't No River&quot; was a beau...   \n",
       "482591     1.0  THIS TOTALLY SUCK ! DON'T BUY THIS!! HE IS STE...   \n",
       "216543     5.0  The combination of pure insight and Ms. Kushel...   \n",
       "405672     3.0  This is a decent book touching on Gerrymanderi...   \n",
       "164802     5.0  The highly pined for MBA degree is something t...   \n",
       "\n",
       "        review_year         authors                     publisher  \\\n",
       "293059         2001         [Other]                           NaN   \n",
       "482591         2003         [Other]  Nicholas Direct Incorporated   \n",
       "216543         1999  [Other, Other]          The Princeton Review   \n",
       "405672         2002         [Other]   University of Chicago Press   \n",
       "164802         2005  [Other, Other]    Random House Digital, Inc.   \n",
       "\n",
       "                    categories  published_year  helpfulness  \n",
       "293059               [Fiction]            2003     1.000000  \n",
       "482591  [Business & Economics]            1998     0.235294  \n",
       "216543  [Business & Economics]            1999     0.833333  \n",
       "405672     [Political Science]            2001     0.312500  \n",
       "164802  [Business & Economics]            2004     0.600000  "
      ]
     },
     "execution_count": 70,
     "metadata": {},
     "output_type": "execute_result"
    }
   ],
   "source": [
    "df_all_data_filtered_processed.sample(5, random_state=10)"
   ]
  },
  {
   "cell_type": "code",
   "execution_count": 71,
   "metadata": {},
   "outputs": [],
   "source": [
    "# Some of the authors list contains 'Other' multiple times.\n",
    "df_all_data_filtered_processed['authors'] = df_all_data_filtered_processed['authors'].apply(lambda x: remove_repeated_values(x))"
   ]
  },
  {
   "cell_type": "code",
   "execution_count": 72,
   "metadata": {},
   "outputs": [
    {
     "data": {
      "text/html": [
       "<div>\n",
       "<style scoped>\n",
       "    .dataframe tbody tr th:only-of-type {\n",
       "        vertical-align: middle;\n",
       "    }\n",
       "\n",
       "    .dataframe tbody tr th {\n",
       "        vertical-align: top;\n",
       "    }\n",
       "\n",
       "    .dataframe thead th {\n",
       "        text-align: right;\n",
       "    }\n",
       "</style>\n",
       "<table border=\"1\" class=\"dataframe\">\n",
       "  <thead>\n",
       "    <tr style=\"text-align: right;\">\n",
       "      <th></th>\n",
       "      <th>review</th>\n",
       "      <th>text</th>\n",
       "      <th>review_year</th>\n",
       "      <th>authors</th>\n",
       "      <th>publisher</th>\n",
       "      <th>categories</th>\n",
       "      <th>published_year</th>\n",
       "      <th>helpfulness</th>\n",
       "    </tr>\n",
       "  </thead>\n",
       "  <tbody>\n",
       "    <tr>\n",
       "      <th>293059</th>\n",
       "      <td>5.0</td>\n",
       "      <td>Reading &amp;quot;Aint't No River&amp;quot; was a beau...</td>\n",
       "      <td>2001</td>\n",
       "      <td>[Other]</td>\n",
       "      <td>NaN</td>\n",
       "      <td>[Fiction]</td>\n",
       "      <td>2003</td>\n",
       "      <td>1.000000</td>\n",
       "    </tr>\n",
       "    <tr>\n",
       "      <th>482591</th>\n",
       "      <td>1.0</td>\n",
       "      <td>THIS TOTALLY SUCK ! DON'T BUY THIS!! HE IS STE...</td>\n",
       "      <td>2003</td>\n",
       "      <td>[Other]</td>\n",
       "      <td>Nicholas Direct Incorporated</td>\n",
       "      <td>[Business &amp; Economics]</td>\n",
       "      <td>1998</td>\n",
       "      <td>0.235294</td>\n",
       "    </tr>\n",
       "    <tr>\n",
       "      <th>216543</th>\n",
       "      <td>5.0</td>\n",
       "      <td>The combination of pure insight and Ms. Kushel...</td>\n",
       "      <td>1999</td>\n",
       "      <td>[Other]</td>\n",
       "      <td>The Princeton Review</td>\n",
       "      <td>[Business &amp; Economics]</td>\n",
       "      <td>1999</td>\n",
       "      <td>0.833333</td>\n",
       "    </tr>\n",
       "    <tr>\n",
       "      <th>405672</th>\n",
       "      <td>3.0</td>\n",
       "      <td>This is a decent book touching on Gerrymanderi...</td>\n",
       "      <td>2002</td>\n",
       "      <td>[Other]</td>\n",
       "      <td>University of Chicago Press</td>\n",
       "      <td>[Political Science]</td>\n",
       "      <td>2001</td>\n",
       "      <td>0.312500</td>\n",
       "    </tr>\n",
       "    <tr>\n",
       "      <th>164802</th>\n",
       "      <td>5.0</td>\n",
       "      <td>The highly pined for MBA degree is something t...</td>\n",
       "      <td>2005</td>\n",
       "      <td>[Other]</td>\n",
       "      <td>Random House Digital, Inc.</td>\n",
       "      <td>[Business &amp; Economics]</td>\n",
       "      <td>2004</td>\n",
       "      <td>0.600000</td>\n",
       "    </tr>\n",
       "  </tbody>\n",
       "</table>\n",
       "</div>"
      ],
      "text/plain": [
       "        review                                               text  \\\n",
       "293059     5.0  Reading &quot;Aint't No River&quot; was a beau...   \n",
       "482591     1.0  THIS TOTALLY SUCK ! DON'T BUY THIS!! HE IS STE...   \n",
       "216543     5.0  The combination of pure insight and Ms. Kushel...   \n",
       "405672     3.0  This is a decent book touching on Gerrymanderi...   \n",
       "164802     5.0  The highly pined for MBA degree is something t...   \n",
       "\n",
       "        review_year  authors                     publisher  \\\n",
       "293059         2001  [Other]                           NaN   \n",
       "482591         2003  [Other]  Nicholas Direct Incorporated   \n",
       "216543         1999  [Other]          The Princeton Review   \n",
       "405672         2002  [Other]   University of Chicago Press   \n",
       "164802         2005  [Other]    Random House Digital, Inc.   \n",
       "\n",
       "                    categories  published_year  helpfulness  \n",
       "293059               [Fiction]            2003     1.000000  \n",
       "482591  [Business & Economics]            1998     0.235294  \n",
       "216543  [Business & Economics]            1999     0.833333  \n",
       "405672     [Political Science]            2001     0.312500  \n",
       "164802  [Business & Economics]            2004     0.600000  "
      ]
     },
     "execution_count": 72,
     "metadata": {},
     "output_type": "execute_result"
    }
   ],
   "source": [
    "df_all_data_filtered_processed.sample(5, random_state=10)"
   ]
  },
  {
   "cell_type": "code",
   "execution_count": 73,
   "metadata": {},
   "outputs": [
    {
     "data": {
      "text/plain": [
       "authors\n",
       "Other               478802\n",
       "J. R. R. Tolkien      6547\n",
       "Jane Austen           2857\n",
       "Charles Dickens       2581\n",
       "John Steinbeck        2437\n",
       "J. K. Rowling         2170\n",
       "Stephen King          2093\n",
       "Robert Jordan         1873\n",
       "Harper Lee            1848\n",
       "C. S. Lewis           1704\n",
       "Name: count, dtype: int64"
      ]
     },
     "execution_count": 73,
     "metadata": {},
     "output_type": "execute_result"
    }
   ],
   "source": [
    "df_all_data_filtered_processed['authors'].explode().value_counts()"
   ]
  },
  {
   "cell_type": "markdown",
   "metadata": {},
   "source": [
    "## Cateogories Column"
   ]
  },
  {
   "cell_type": "markdown",
   "metadata": {},
   "source": [
    "### Updating the Categories Feature to Categorical, and applying Pareto Principe to reduce the quantity of Categories."
   ]
  },
  {
   "cell_type": "code",
   "execution_count": 74,
   "metadata": {},
   "outputs": [
    {
     "data": {
      "text/plain": [
       "categories\n",
       "Fiction                         148514\n",
       "Juvenile Fiction                 38390\n",
       "Biography & Autobiography        21608\n",
       "Religion                         19505\n",
       "History                          18091\n",
       "                                 ...  \n",
       "Sales personnel                      1\n",
       "Musical intervals and scales         1\n",
       "FOREIGN LANGUAGE STUDY               1\n",
       "Nuclear submarines                   1\n",
       "Galveston (Tex.)                     1\n",
       "Name: count, Length: 6675, dtype: int64"
      ]
     },
     "execution_count": 74,
     "metadata": {},
     "output_type": "execute_result"
    }
   ],
   "source": [
    "categories_counts = df_all_data_filtered_processed['categories'].explode().value_counts()\n",
    "categories_counts"
   ]
  },
  {
   "cell_type": "code",
   "execution_count": 75,
   "metadata": {},
   "outputs": [
    {
     "data": {
      "text/plain": [
       "categories\n",
       "Fiction                        148514\n",
       "Juvenile Fiction                38390\n",
       "Biography & Autobiography       21608\n",
       "Religion                        19505\n",
       "History                         18091\n",
       "                                ...  \n",
       "Congo (Democratic Republic)         1\n",
       "Alien labor                         1\n",
       "Nuns                                1\n",
       "Communalism                         1\n",
       "Galveston (Tex.)                    1\n",
       "Name: count, Length: 6675, dtype: int64"
      ]
     },
     "execution_count": 75,
     "metadata": {},
     "output_type": "execute_result"
    }
   ],
   "source": [
    "sorted_category_counts = categories_counts.sort_values(ascending=False)\n",
    "sorted_category_counts"
   ]
  },
  {
   "cell_type": "code",
   "execution_count": 76,
   "metadata": {},
   "outputs": [
    {
     "data": {
      "text/plain": [
       "1335"
      ]
     },
     "execution_count": 76,
     "metadata": {},
     "output_type": "execute_result"
    }
   ],
   "source": [
    "pareto_threshold = int(0.2 * len(sorted_category_counts))\n",
    "pareto_threshold"
   ]
  },
  {
   "cell_type": "code",
   "execution_count": 77,
   "metadata": {},
   "outputs": [
    {
     "data": {
      "text/plain": [
       "Index(['Fiction', 'Juvenile Fiction', 'Biography & Autobiography', 'Religion',\n",
       "       'History', 'Business & Economics', 'Computers', 'Cooking',\n",
       "       'Social Science', 'Family & Relationships',\n",
       "       ...\n",
       "       'Homeric', 'Christian poetry', 'Autobiography',\n",
       "       'Star Wars: The Roleplaying Game (Game)', 'Strategic planning',\n",
       "       'African American authors', 'Hindu mathematics', 'Motorcycles',\n",
       "       'Compulsive behavior', 'Metaphysics'],\n",
       "      dtype='object', name='categories', length=1335)"
      ]
     },
     "execution_count": 77,
     "metadata": {},
     "output_type": "execute_result"
    }
   ],
   "source": [
    "top_categories = sorted_category_counts.iloc[:pareto_threshold].index\n",
    "top_categories"
   ]
  },
  {
   "cell_type": "code",
   "execution_count": 78,
   "metadata": {},
   "outputs": [
    {
     "data": {
      "text/plain": [
       "categories\n",
       "Fiction                      148514\n",
       "Other                         46618\n",
       "Juvenile Fiction              38390\n",
       "Biography & Autobiography     21608\n",
       "Religion                      19505\n",
       "                              ...  \n",
       "Sicilian Vespers                  8\n",
       "Mental illness                    8\n",
       "Anthropologists                   8\n",
       "Great Plague                      8\n",
       "Attitude (Psychology)             8\n",
       "Name: count, Length: 1336, dtype: int64"
      ]
     },
     "execution_count": 78,
     "metadata": {},
     "output_type": "execute_result"
    }
   ],
   "source": [
    "df_all_data_filtered_processed['categories'] = df_all_data_filtered_processed['categories'].apply(lambda x: [category if category in top_categories else 'Other' for category in x] if isinstance(x, list) else ['Other'])\n",
    "df_all_data_filtered_processed['categories'].explode().value_counts()"
   ]
  },
  {
   "cell_type": "markdown",
   "metadata": {},
   "source": [
    "After applying Pareto Principle, there are still 1342 unique categories on the dataset. If categories is considered as a Categorical Feature, it will not add much predictive value because it has a lot of Cardinality.\n",
    "\n",
    "Top 10 categories with most reviews are kept and the rest of categories are set to 'Other'. In order to keep the feature and analize the predicting power."
   ]
  },
  {
   "cell_type": "code",
   "execution_count": 79,
   "metadata": {},
   "outputs": [
    {
     "name": "stdout",
     "output_type": "stream",
     "text": [
      "<class 'pandas.core.series.Series'>\n",
      "Index: 514251 entries, 0 to 502043\n",
      "Series name: categories\n",
      "Non-Null Count   Dtype \n",
      "--------------   ----- \n",
      "514251 non-null  object\n",
      "dtypes: object(1)\n",
      "memory usage: 7.8+ MB\n"
     ]
    }
   ],
   "source": [
    "categories = df_all_data_filtered_processed['categories'].explode()\n",
    "categories.info()"
   ]
  },
  {
   "cell_type": "code",
   "execution_count": 80,
   "metadata": {},
   "outputs": [
    {
     "name": "stdout",
     "output_type": "stream",
     "text": [
      "Total of Categories: 1336\n"
     ]
    }
   ],
   "source": [
    "print(f'Total of Categories: {len(categories.unique())}')"
   ]
  },
  {
   "cell_type": "code",
   "execution_count": 81,
   "metadata": {},
   "outputs": [
    {
     "name": "stdout",
     "output_type": "stream",
     "text": [
      "Total of entries after explode Categories column 514251\n"
     ]
    }
   ],
   "source": [
    "categories_counts = categories.value_counts(ascending=False)\n",
    "print(f'Total of entries after explode Categories column {categories_counts.sum()}')"
   ]
  },
  {
   "cell_type": "code",
   "execution_count": 82,
   "metadata": {},
   "outputs": [
    {
     "data": {
      "text/plain": [
       "categories\n",
       "Fiction                      148514\n",
       "Other                         46618\n",
       "Juvenile Fiction              38390\n",
       "Biography & Autobiography     21608\n",
       "Religion                      19505\n",
       "History                       18091\n",
       "Business & Economics          13935\n",
       "Computers                      9140\n",
       "Cooking                        6544\n",
       "Social Science                 6363\n",
       "Name: count, dtype: int64"
      ]
     },
     "execution_count": 82,
     "metadata": {},
     "output_type": "execute_result"
    }
   ],
   "source": [
    "top_10_categories_counts = categories_counts[:10].sort_values(ascending=False)\n",
    "top_10_categories_counts"
   ]
  },
  {
   "cell_type": "code",
   "execution_count": 83,
   "metadata": {},
   "outputs": [
    {
     "data": {
      "text/plain": [
       "categories\n",
       "Family & Relationships    6126\n",
       "Self-Help                 6021\n",
       "Body                      5978\n",
       "Mind & Spirit             5975\n",
       "Juvenile Nonfiction       5922\n",
       "                          ... \n",
       "Sicilian Vespers             8\n",
       "Mental illness               8\n",
       "Anthropologists              8\n",
       "Great Plague                 8\n",
       "Attitude (Psychology)        8\n",
       "Name: count, Length: 1326, dtype: int64"
      ]
     },
     "execution_count": 83,
     "metadata": {},
     "output_type": "execute_result"
    }
   ],
   "source": [
    "other_categories_counts = categories_counts[10:]\n",
    "other_categories_counts"
   ]
  },
  {
   "cell_type": "code",
   "execution_count": 84,
   "metadata": {},
   "outputs": [
    {
     "data": {
      "text/plain": [
       "10"
      ]
     },
     "execution_count": 84,
     "metadata": {},
     "output_type": "execute_result"
    }
   ],
   "source": [
    "df_all_data_filtered_processed['categories'] = df_all_data_filtered_processed['categories'].apply(lambda x: [category if category in top_10_categories_counts else 'Other' for category in x] if isinstance(x, list) else ['Other'])\n",
    "len(df_all_data_filtered_processed['categories'].explode().unique())"
   ]
  },
  {
   "cell_type": "code",
   "execution_count": 85,
   "metadata": {},
   "outputs": [
    {
     "data": {
      "text/plain": [
       "categories\n",
       "Other                        232161\n",
       "Fiction                      148514\n",
       "Juvenile Fiction              38390\n",
       "Biography & Autobiography     21608\n",
       "Religion                      19505\n",
       "History                       18091\n",
       "Business & Economics          13935\n",
       "Computers                      9140\n",
       "Cooking                        6544\n",
       "Social Science                 6363\n",
       "Name: count, dtype: int64"
      ]
     },
     "execution_count": 85,
     "metadata": {},
     "output_type": "execute_result"
    }
   ],
   "source": [
    "df_all_data_filtered_processed['categories'].explode().value_counts()"
   ]
  },
  {
   "cell_type": "code",
   "execution_count": 86,
   "metadata": {},
   "outputs": [
    {
     "data": {
      "text/html": [
       "<div>\n",
       "<style scoped>\n",
       "    .dataframe tbody tr th:only-of-type {\n",
       "        vertical-align: middle;\n",
       "    }\n",
       "\n",
       "    .dataframe tbody tr th {\n",
       "        vertical-align: top;\n",
       "    }\n",
       "\n",
       "    .dataframe thead th {\n",
       "        text-align: right;\n",
       "    }\n",
       "</style>\n",
       "<table border=\"1\" class=\"dataframe\">\n",
       "  <thead>\n",
       "    <tr style=\"text-align: right;\">\n",
       "      <th></th>\n",
       "      <th>review</th>\n",
       "      <th>text</th>\n",
       "      <th>review_year</th>\n",
       "      <th>authors</th>\n",
       "      <th>publisher</th>\n",
       "      <th>categories</th>\n",
       "      <th>published_year</th>\n",
       "      <th>helpfulness</th>\n",
       "    </tr>\n",
       "  </thead>\n",
       "  <tbody>\n",
       "    <tr>\n",
       "      <th>131904</th>\n",
       "      <td>5.0</td>\n",
       "      <td>Some background first: I'm studying memoir as ...</td>\n",
       "      <td>2011</td>\n",
       "      <td>[Other]</td>\n",
       "      <td>Picador</td>\n",
       "      <td>[Other]</td>\n",
       "      <td>2015</td>\n",
       "      <td>0.000000</td>\n",
       "    </tr>\n",
       "    <tr>\n",
       "      <th>326762</th>\n",
       "      <td>1.0</td>\n",
       "      <td>This is a horribly printed book. The actual st...</td>\n",
       "      <td>2009</td>\n",
       "      <td>[Other]</td>\n",
       "      <td>Random House Trade Paperbacks</td>\n",
       "      <td>[Fiction]</td>\n",
       "      <td>1996</td>\n",
       "      <td>0.906977</td>\n",
       "    </tr>\n",
       "    <tr>\n",
       "      <th>343900</th>\n",
       "      <td>1.0</td>\n",
       "      <td>After reading Riptide a while back I thought I...</td>\n",
       "      <td>2004</td>\n",
       "      <td>[Other]</td>\n",
       "      <td>Penguin</td>\n",
       "      <td>[Fiction]</td>\n",
       "      <td>2005</td>\n",
       "      <td>1.000000</td>\n",
       "    </tr>\n",
       "    <tr>\n",
       "      <th>336391</th>\n",
       "      <td>5.0</td>\n",
       "      <td>This is a great marketing book. No hype and no...</td>\n",
       "      <td>2003</td>\n",
       "      <td>[Other]</td>\n",
       "      <td>Routledge</td>\n",
       "      <td>[Business &amp; Economics]</td>\n",
       "      <td>2002</td>\n",
       "      <td>1.000000</td>\n",
       "    </tr>\n",
       "    <tr>\n",
       "      <th>314424</th>\n",
       "      <td>3.0</td>\n",
       "      <td>I have used this book in my reading classes fo...</td>\n",
       "      <td>2000</td>\n",
       "      <td>[Other]</td>\n",
       "      <td>NaN</td>\n",
       "      <td>[Other]</td>\n",
       "      <td>2006</td>\n",
       "      <td>0.875000</td>\n",
       "    </tr>\n",
       "  </tbody>\n",
       "</table>\n",
       "</div>"
      ],
      "text/plain": [
       "        review                                               text  \\\n",
       "131904     5.0  Some background first: I'm studying memoir as ...   \n",
       "326762     1.0  This is a horribly printed book. The actual st...   \n",
       "343900     1.0  After reading Riptide a while back I thought I...   \n",
       "336391     5.0  This is a great marketing book. No hype and no...   \n",
       "314424     3.0  I have used this book in my reading classes fo...   \n",
       "\n",
       "        review_year  authors                      publisher  \\\n",
       "131904         2011  [Other]                        Picador   \n",
       "326762         2009  [Other]  Random House Trade Paperbacks   \n",
       "343900         2004  [Other]                        Penguin   \n",
       "336391         2003  [Other]                      Routledge   \n",
       "314424         2000  [Other]                            NaN   \n",
       "\n",
       "                    categories  published_year  helpfulness  \n",
       "131904                 [Other]            2015     0.000000  \n",
       "326762               [Fiction]            1996     0.906977  \n",
       "343900               [Fiction]            2005     1.000000  \n",
       "336391  [Business & Economics]            2002     1.000000  \n",
       "314424                 [Other]            2006     0.875000  "
      ]
     },
     "execution_count": 86,
     "metadata": {},
     "output_type": "execute_result"
    }
   ],
   "source": [
    "df_all_data_filtered_processed.sample(5, random_state=45)"
   ]
  },
  {
   "cell_type": "code",
   "execution_count": 87,
   "metadata": {},
   "outputs": [
    {
     "data": {
      "text/html": [
       "<div>\n",
       "<style scoped>\n",
       "    .dataframe tbody tr th:only-of-type {\n",
       "        vertical-align: middle;\n",
       "    }\n",
       "\n",
       "    .dataframe tbody tr th {\n",
       "        vertical-align: top;\n",
       "    }\n",
       "\n",
       "    .dataframe thead th {\n",
       "        text-align: right;\n",
       "    }\n",
       "</style>\n",
       "<table border=\"1\" class=\"dataframe\">\n",
       "  <thead>\n",
       "    <tr style=\"text-align: right;\">\n",
       "      <th></th>\n",
       "      <th>review</th>\n",
       "      <th>text</th>\n",
       "      <th>review_year</th>\n",
       "      <th>authors</th>\n",
       "      <th>publisher</th>\n",
       "      <th>categories</th>\n",
       "      <th>published_year</th>\n",
       "      <th>helpfulness</th>\n",
       "    </tr>\n",
       "  </thead>\n",
       "  <tbody>\n",
       "    <tr>\n",
       "      <th>131904</th>\n",
       "      <td>5.0</td>\n",
       "      <td>Some background first: I'm studying memoir as ...</td>\n",
       "      <td>2011</td>\n",
       "      <td>[Other]</td>\n",
       "      <td>Picador</td>\n",
       "      <td>[Other]</td>\n",
       "      <td>2015</td>\n",
       "      <td>0.000000</td>\n",
       "    </tr>\n",
       "    <tr>\n",
       "      <th>326762</th>\n",
       "      <td>1.0</td>\n",
       "      <td>This is a horribly printed book. The actual st...</td>\n",
       "      <td>2009</td>\n",
       "      <td>[Other]</td>\n",
       "      <td>Random House Trade Paperbacks</td>\n",
       "      <td>[Fiction]</td>\n",
       "      <td>1996</td>\n",
       "      <td>0.906977</td>\n",
       "    </tr>\n",
       "    <tr>\n",
       "      <th>343900</th>\n",
       "      <td>1.0</td>\n",
       "      <td>After reading Riptide a while back I thought I...</td>\n",
       "      <td>2004</td>\n",
       "      <td>[Other]</td>\n",
       "      <td>Penguin</td>\n",
       "      <td>[Fiction]</td>\n",
       "      <td>2005</td>\n",
       "      <td>1.000000</td>\n",
       "    </tr>\n",
       "    <tr>\n",
       "      <th>336391</th>\n",
       "      <td>5.0</td>\n",
       "      <td>This is a great marketing book. No hype and no...</td>\n",
       "      <td>2003</td>\n",
       "      <td>[Other]</td>\n",
       "      <td>Routledge</td>\n",
       "      <td>[Business &amp; Economics]</td>\n",
       "      <td>2002</td>\n",
       "      <td>1.000000</td>\n",
       "    </tr>\n",
       "    <tr>\n",
       "      <th>314424</th>\n",
       "      <td>3.0</td>\n",
       "      <td>I have used this book in my reading classes fo...</td>\n",
       "      <td>2000</td>\n",
       "      <td>[Other]</td>\n",
       "      <td>NaN</td>\n",
       "      <td>[Other]</td>\n",
       "      <td>2006</td>\n",
       "      <td>0.875000</td>\n",
       "    </tr>\n",
       "  </tbody>\n",
       "</table>\n",
       "</div>"
      ],
      "text/plain": [
       "        review                                               text  \\\n",
       "131904     5.0  Some background first: I'm studying memoir as ...   \n",
       "326762     1.0  This is a horribly printed book. The actual st...   \n",
       "343900     1.0  After reading Riptide a while back I thought I...   \n",
       "336391     5.0  This is a great marketing book. No hype and no...   \n",
       "314424     3.0  I have used this book in my reading classes fo...   \n",
       "\n",
       "        review_year  authors                      publisher  \\\n",
       "131904         2011  [Other]                        Picador   \n",
       "326762         2009  [Other]  Random House Trade Paperbacks   \n",
       "343900         2004  [Other]                        Penguin   \n",
       "336391         2003  [Other]                      Routledge   \n",
       "314424         2000  [Other]                            NaN   \n",
       "\n",
       "                    categories  published_year  helpfulness  \n",
       "131904                 [Other]            2015     0.000000  \n",
       "326762               [Fiction]            1996     0.906977  \n",
       "343900               [Fiction]            2005     1.000000  \n",
       "336391  [Business & Economics]            2002     1.000000  \n",
       "314424                 [Other]            2006     0.875000  "
      ]
     },
     "execution_count": 87,
     "metadata": {},
     "output_type": "execute_result"
    }
   ],
   "source": [
    "# Some of the authors list contains 'Other' multiple times.\n",
    "df_all_data_filtered_processed['categories'] = df_all_data_filtered_processed['categories'].apply(lambda x: remove_repeated_values(x))\n",
    "df_all_data_filtered_processed.sample(5, random_state=45)"
   ]
  },
  {
   "cell_type": "code",
   "execution_count": 88,
   "metadata": {},
   "outputs": [
    {
     "data": {
      "text/plain": [
       "categories\n",
       "Other                        220055\n",
       "Fiction                      148514\n",
       "Juvenile Fiction              38390\n",
       "Biography & Autobiography     21608\n",
       "Religion                      19505\n",
       "History                       18091\n",
       "Business & Economics          13935\n",
       "Computers                      9140\n",
       "Cooking                        6544\n",
       "Social Science                 6363\n",
       "Name: count, dtype: int64"
      ]
     },
     "execution_count": 88,
     "metadata": {},
     "output_type": "execute_result"
    }
   ],
   "source": [
    "df_all_data_filtered_processed['categories'].explode().value_counts()"
   ]
  },
  {
   "cell_type": "markdown",
   "metadata": {},
   "source": [
    "## Publisher Column"
   ]
  },
  {
   "cell_type": "code",
   "execution_count": 89,
   "metadata": {},
   "outputs": [
    {
     "data": {
      "text/plain": [
       "publisher\n",
       "Penguin                         25291\n",
       "Simon and Schuster              23284\n",
       "Harper Collins                  15718\n",
       "Vintage                          8116\n",
       "Random House                     7971\n",
       "                                ...  \n",
       "Squaredance Fundamentals            1\n",
       "Pearson Custom Pub                  1\n",
       "Blooming Twig Books                 1\n",
       "Oxford : Phaidon, Christie's        1\n",
       "Src Pub.                            1\n",
       "Name: count, Length: 10945, dtype: int64"
      ]
     },
     "execution_count": 89,
     "metadata": {},
     "output_type": "execute_result"
    }
   ],
   "source": [
    "publisher_counts = df_all_data_filtered_processed['publisher'].value_counts()\n",
    "publisher_counts"
   ]
  },
  {
   "cell_type": "markdown",
   "metadata": {},
   "source": [
    "### Updating the publisher Feature to Categorical, and applying Pareto Principe to reduce the quantity of publishers."
   ]
  },
  {
   "cell_type": "code",
   "execution_count": 90,
   "metadata": {},
   "outputs": [
    {
     "data": {
      "text/plain": [
       "publisher\n",
       "Penguin                               25291\n",
       "Simon and Schuster                    23284\n",
       "Harper Collins                        15718\n",
       "Vintage                                8116\n",
       "Random House                           7971\n",
       "                                      ...  \n",
       "Sawday                                    1\n",
       "Beech Tree Books                          1\n",
       "Rainbow Morning Music Alternatives        1\n",
       "Strident Publishing                       1\n",
       "Src Pub.                                  1\n",
       "Name: count, Length: 10945, dtype: int64"
      ]
     },
     "execution_count": 90,
     "metadata": {},
     "output_type": "execute_result"
    }
   ],
   "source": [
    "sorted_publisher_counts = publisher_counts.sort_values(ascending=False)\n",
    "sorted_publisher_counts"
   ]
  },
  {
   "cell_type": "code",
   "execution_count": 91,
   "metadata": {},
   "outputs": [
    {
     "data": {
      "text/plain": [
       "2189"
      ]
     },
     "execution_count": 91,
     "metadata": {},
     "output_type": "execute_result"
    }
   ],
   "source": [
    "pareto_threshold = int(0.2 * len(sorted_publisher_counts))\n",
    "pareto_threshold"
   ]
  },
  {
   "cell_type": "code",
   "execution_count": 92,
   "metadata": {},
   "outputs": [
    {
     "data": {
      "text/plain": [
       "Index(['Penguin', 'Simon and Schuster', 'Harper Collins', 'Vintage',\n",
       "       'Random House', 'Macmillan', 'Houghton Mifflin Harcourt', 'Bantam',\n",
       "       'HarperCollins', 'John Wiley & Sons',\n",
       "       ...\n",
       "       'World Scientific Publishing Company', 'Prestel Pub',\n",
       "       'McSweeneys Books', 'Financial Times/Prentice Hall', 'M J F Books',\n",
       "       'Laurence King Publishing', 'Marshall Cavendish',\n",
       "       'Sky Publishing Corporation', 'MDPI', 'I.B. Tauris'],\n",
       "      dtype='object', name='publisher', length=2189)"
      ]
     },
     "execution_count": 92,
     "metadata": {},
     "output_type": "execute_result"
    }
   ],
   "source": [
    "top_publishers = sorted_publisher_counts.iloc[:pareto_threshold].index\n",
    "top_publishers"
   ]
  },
  {
   "cell_type": "code",
   "execution_count": 93,
   "metadata": {},
   "outputs": [
    {
     "data": {
      "text/plain": [
       "publisher\n",
       "Other                               110339\n",
       "Penguin                              25291\n",
       "Simon and Schuster                   23284\n",
       "Harper Collins                       15718\n",
       "Vintage                               8116\n",
       "                                     ...  \n",
       "Laurence Holt Books Incorporated        14\n",
       "Phoenix Publishing (WA)                 14\n",
       "Lothian Children's Books                14\n",
       "Haynes Publishing UK                    14\n",
       "Berklee PressPublications               14\n",
       "Name: count, Length: 2190, dtype: int64"
      ]
     },
     "execution_count": 93,
     "metadata": {},
     "output_type": "execute_result"
    }
   ],
   "source": [
    "df_all_data_filtered_processed['publisher'] = df_all_data_filtered_processed['publisher'].apply(lambda publisher: publisher if publisher in top_publishers else 'Other')\n",
    "df_all_data_filtered_processed['publisher'].value_counts()"
   ]
  },
  {
   "cell_type": "markdown",
   "metadata": {},
   "source": [
    "After applying Pareto Principle, there are still 2194 unique publishers on the dataset. If publishers is considered as a Categorical Feature, it will not add much predictive value because it has a lot of Cardinality.\n",
    "\n",
    "Top 10 publishers with most reviews are kept and the rest of publishers are set to 'Other'. In order to keep the feature and analize the predicting power."
   ]
  },
  {
   "cell_type": "code",
   "execution_count": 94,
   "metadata": {},
   "outputs": [
    {
     "name": "stdout",
     "output_type": "stream",
     "text": [
      "<class 'pandas.core.series.Series'>\n",
      "RangeIndex: 502044 entries, 0 to 502043\n",
      "Series name: publisher\n",
      "Non-Null Count   Dtype \n",
      "--------------   ----- \n",
      "502044 non-null  object\n",
      "dtypes: object(1)\n",
      "memory usage: 3.8+ MB\n"
     ]
    }
   ],
   "source": [
    "publishers = df_all_data_filtered_processed['publisher']\n",
    "publishers.info()"
   ]
  },
  {
   "cell_type": "code",
   "execution_count": 95,
   "metadata": {},
   "outputs": [
    {
     "name": "stdout",
     "output_type": "stream",
     "text": [
      "Total of Publishers: 2190\n"
     ]
    }
   ],
   "source": [
    "print(f'Total of Publishers: {len(publishers.unique())}')"
   ]
  },
  {
   "cell_type": "code",
   "execution_count": 96,
   "metadata": {},
   "outputs": [
    {
     "data": {
      "text/plain": [
       "publisher\n",
       "Other                               110339\n",
       "Penguin                              25291\n",
       "Simon and Schuster                   23284\n",
       "Harper Collins                       15718\n",
       "Vintage                               8116\n",
       "                                     ...  \n",
       "Laurence Holt Books Incorporated        14\n",
       "Phoenix Publishing (WA)                 14\n",
       "Lothian Children's Books                14\n",
       "Haynes Publishing UK                    14\n",
       "Berklee PressPublications               14\n",
       "Name: count, Length: 2190, dtype: int64"
      ]
     },
     "execution_count": 96,
     "metadata": {},
     "output_type": "execute_result"
    }
   ],
   "source": [
    "publisher_counts = publishers.value_counts(ascending=False)\n",
    "publisher_counts"
   ]
  },
  {
   "cell_type": "code",
   "execution_count": 97,
   "metadata": {},
   "outputs": [
    {
     "data": {
      "text/plain": [
       "publisher\n",
       "Other                        110339\n",
       "Penguin                       25291\n",
       "Simon and Schuster            23284\n",
       "Harper Collins                15718\n",
       "Vintage                        8116\n",
       "Random House                   7971\n",
       "Macmillan                      5971\n",
       "Houghton Mifflin Harcourt      5096\n",
       "Bantam                         4831\n",
       "HarperCollins                  4789\n",
       "Name: count, dtype: int64"
      ]
     },
     "execution_count": 97,
     "metadata": {},
     "output_type": "execute_result"
    }
   ],
   "source": [
    "top_10_publishers_counts = publisher_counts[:10].sort_values(ascending=False)\n",
    "top_10_publishers_counts"
   ]
  },
  {
   "cell_type": "code",
   "execution_count": 98,
   "metadata": {},
   "outputs": [
    {
     "data": {
      "text/plain": [
       "publisher\n",
       "John Wiley & Sons                   4775\n",
       "Courier Corporation                 4392\n",
       "Hachette UK                         4286\n",
       "Penguin UK                          4092\n",
       "Ballantine Books                    3522\n",
       "                                    ... \n",
       "Laurence Holt Books Incorporated      14\n",
       "Phoenix Publishing (WA)               14\n",
       "Lothian Children's Books              14\n",
       "Haynes Publishing UK                  14\n",
       "Berklee PressPublications             14\n",
       "Name: count, Length: 2180, dtype: int64"
      ]
     },
     "execution_count": 98,
     "metadata": {},
     "output_type": "execute_result"
    }
   ],
   "source": [
    "other_publishers_counts = publisher_counts[10:]\n",
    "other_publishers_counts"
   ]
  },
  {
   "cell_type": "code",
   "execution_count": 99,
   "metadata": {},
   "outputs": [
    {
     "data": {
      "text/plain": [
       "10"
      ]
     },
     "execution_count": 99,
     "metadata": {},
     "output_type": "execute_result"
    }
   ],
   "source": [
    "df_all_data_filtered_processed['publisher'] = df_all_data_filtered_processed['publisher'].apply(lambda publisher: publisher if publisher in top_10_publishers_counts else 'Other')\n",
    "len(df_all_data_filtered_processed['publisher'].unique())"
   ]
  },
  {
   "cell_type": "code",
   "execution_count": 100,
   "metadata": {},
   "outputs": [
    {
     "data": {
      "text/plain": [
       "publisher\n",
       "Other                        400977\n",
       "Penguin                       25291\n",
       "Simon and Schuster            23284\n",
       "Harper Collins                15718\n",
       "Vintage                        8116\n",
       "Random House                   7971\n",
       "Macmillan                      5971\n",
       "Houghton Mifflin Harcourt      5096\n",
       "Bantam                         4831\n",
       "HarperCollins                  4789\n",
       "Name: count, dtype: int64"
      ]
     },
     "execution_count": 100,
     "metadata": {},
     "output_type": "execute_result"
    }
   ],
   "source": [
    "df_all_data_filtered_processed['publisher'].value_counts()"
   ]
  },
  {
   "cell_type": "code",
   "execution_count": 101,
   "metadata": {},
   "outputs": [
    {
     "data": {
      "text/html": [
       "<div>\n",
       "<style scoped>\n",
       "    .dataframe tbody tr th:only-of-type {\n",
       "        vertical-align: middle;\n",
       "    }\n",
       "\n",
       "    .dataframe tbody tr th {\n",
       "        vertical-align: top;\n",
       "    }\n",
       "\n",
       "    .dataframe thead th {\n",
       "        text-align: right;\n",
       "    }\n",
       "</style>\n",
       "<table border=\"1\" class=\"dataframe\">\n",
       "  <thead>\n",
       "    <tr style=\"text-align: right;\">\n",
       "      <th></th>\n",
       "      <th>review</th>\n",
       "      <th>text</th>\n",
       "      <th>review_year</th>\n",
       "      <th>authors</th>\n",
       "      <th>publisher</th>\n",
       "      <th>categories</th>\n",
       "      <th>published_year</th>\n",
       "      <th>helpfulness</th>\n",
       "    </tr>\n",
       "  </thead>\n",
       "  <tbody>\n",
       "    <tr>\n",
       "      <th>496705</th>\n",
       "      <td>5.0</td>\n",
       "      <td>Call me weird, but around Thanksgiving, my int...</td>\n",
       "      <td>2005</td>\n",
       "      <td>[Other]</td>\n",
       "      <td>Other</td>\n",
       "      <td>[Other]</td>\n",
       "      <td>1994</td>\n",
       "      <td>0.555556</td>\n",
       "    </tr>\n",
       "    <tr>\n",
       "      <th>306164</th>\n",
       "      <td>5.0</td>\n",
       "      <td>This set is great, and it's actually the only ...</td>\n",
       "      <td>2000</td>\n",
       "      <td>[Other]</td>\n",
       "      <td>Other</td>\n",
       "      <td>[Other]</td>\n",
       "      <td>2008</td>\n",
       "      <td>1.000000</td>\n",
       "    </tr>\n",
       "    <tr>\n",
       "      <th>68306</th>\n",
       "      <td>5.0</td>\n",
       "      <td>At least in me. I read this book in 3rd grade ...</td>\n",
       "      <td>2003</td>\n",
       "      <td>[Other]</td>\n",
       "      <td>Other</td>\n",
       "      <td>[Other]</td>\n",
       "      <td>2003</td>\n",
       "      <td>1.000000</td>\n",
       "    </tr>\n",
       "    <tr>\n",
       "      <th>101575</th>\n",
       "      <td>4.0</td>\n",
       "      <td>Excellent book! It gave me an insider's view o...</td>\n",
       "      <td>2002</td>\n",
       "      <td>[Other]</td>\n",
       "      <td>Harper Collins</td>\n",
       "      <td>[Biography &amp; Autobiography]</td>\n",
       "      <td>2009</td>\n",
       "      <td>0.666667</td>\n",
       "    </tr>\n",
       "    <tr>\n",
       "      <th>499905</th>\n",
       "      <td>4.0</td>\n",
       "      <td>This is a good book. The author obviously has ...</td>\n",
       "      <td>2001</td>\n",
       "      <td>[Other]</td>\n",
       "      <td>Other</td>\n",
       "      <td>[Other]</td>\n",
       "      <td>2006</td>\n",
       "      <td>0.333333</td>\n",
       "    </tr>\n",
       "    <tr>\n",
       "      <th>310964</th>\n",
       "      <td>4.0</td>\n",
       "      <td>Excellent book on TA, and this edition improve...</td>\n",
       "      <td>2003</td>\n",
       "      <td>[Other]</td>\n",
       "      <td>Other</td>\n",
       "      <td>[Business &amp; Economics]</td>\n",
       "      <td>2007</td>\n",
       "      <td>0.730769</td>\n",
       "    </tr>\n",
       "    <tr>\n",
       "      <th>206497</th>\n",
       "      <td>5.0</td>\n",
       "      <td>Love him or hate him, Jon Krakauer hits a subj...</td>\n",
       "      <td>2003</td>\n",
       "      <td>[Other]</td>\n",
       "      <td>Other</td>\n",
       "      <td>[Other]</td>\n",
       "      <td>2004</td>\n",
       "      <td>0.833333</td>\n",
       "    </tr>\n",
       "    <tr>\n",
       "      <th>447610</th>\n",
       "      <td>4.0</td>\n",
       "      <td>Four stars to this story of a baptist families...</td>\n",
       "      <td>2001</td>\n",
       "      <td>[Other]</td>\n",
       "      <td>Other</td>\n",
       "      <td>[Fiction]</td>\n",
       "      <td>2008</td>\n",
       "      <td>0.000000</td>\n",
       "    </tr>\n",
       "    <tr>\n",
       "      <th>297084</th>\n",
       "      <td>5.0</td>\n",
       "      <td>A brilliant novel. Twain's best, if you ask me...</td>\n",
       "      <td>2000</td>\n",
       "      <td>[Other]</td>\n",
       "      <td>Other</td>\n",
       "      <td>[Other]</td>\n",
       "      <td>1972</td>\n",
       "      <td>0.500000</td>\n",
       "    </tr>\n",
       "    <tr>\n",
       "      <th>256682</th>\n",
       "      <td>5.0</td>\n",
       "      <td>The moral of the story that sticks with me yea...</td>\n",
       "      <td>1999</td>\n",
       "      <td>[Other]</td>\n",
       "      <td>Other</td>\n",
       "      <td>[Fiction]</td>\n",
       "      <td>2016</td>\n",
       "      <td>1.000000</td>\n",
       "    </tr>\n",
       "  </tbody>\n",
       "</table>\n",
       "</div>"
      ],
      "text/plain": [
       "        review                                               text  \\\n",
       "496705     5.0  Call me weird, but around Thanksgiving, my int...   \n",
       "306164     5.0  This set is great, and it's actually the only ...   \n",
       "68306      5.0  At least in me. I read this book in 3rd grade ...   \n",
       "101575     4.0  Excellent book! It gave me an insider's view o...   \n",
       "499905     4.0  This is a good book. The author obviously has ...   \n",
       "310964     4.0  Excellent book on TA, and this edition improve...   \n",
       "206497     5.0  Love him or hate him, Jon Krakauer hits a subj...   \n",
       "447610     4.0  Four stars to this story of a baptist families...   \n",
       "297084     5.0  A brilliant novel. Twain's best, if you ask me...   \n",
       "256682     5.0  The moral of the story that sticks with me yea...   \n",
       "\n",
       "        review_year  authors       publisher                   categories  \\\n",
       "496705         2005  [Other]           Other                      [Other]   \n",
       "306164         2000  [Other]           Other                      [Other]   \n",
       "68306          2003  [Other]           Other                      [Other]   \n",
       "101575         2002  [Other]  Harper Collins  [Biography & Autobiography]   \n",
       "499905         2001  [Other]           Other                      [Other]   \n",
       "310964         2003  [Other]           Other       [Business & Economics]   \n",
       "206497         2003  [Other]           Other                      [Other]   \n",
       "447610         2001  [Other]           Other                    [Fiction]   \n",
       "297084         2000  [Other]           Other                      [Other]   \n",
       "256682         1999  [Other]           Other                    [Fiction]   \n",
       "\n",
       "        published_year  helpfulness  \n",
       "496705            1994     0.555556  \n",
       "306164            2008     1.000000  \n",
       "68306             2003     1.000000  \n",
       "101575            2009     0.666667  \n",
       "499905            2006     0.333333  \n",
       "310964            2007     0.730769  \n",
       "206497            2004     0.833333  \n",
       "447610            2008     0.000000  \n",
       "297084            1972     0.500000  \n",
       "256682            2016     1.000000  "
      ]
     },
     "execution_count": 101,
     "metadata": {},
     "output_type": "execute_result"
    }
   ],
   "source": [
    "df_all_data_filtered_processed.sample(10)"
   ]
  },
  {
   "cell_type": "markdown",
   "metadata": {},
   "source": [
    "## Published Year Column"
   ]
  },
  {
   "cell_type": "code",
   "execution_count": 102,
   "metadata": {},
   "outputs": [
    {
     "data": {
      "text/plain": [
       "count    502044.000000\n",
       "mean       2000.607662\n",
       "std          25.941981\n",
       "min         101.000000\n",
       "25%        1999.000000\n",
       "50%        2005.000000\n",
       "75%        2012.000000\n",
       "max        2030.000000\n",
       "Name: published_year, dtype: float64"
      ]
     },
     "execution_count": 102,
     "metadata": {},
     "output_type": "execute_result"
    }
   ],
   "source": [
    "df_all_data_filtered_processed['published_year'].describe().T"
   ]
  },
  {
   "cell_type": "code",
   "execution_count": 103,
   "metadata": {},
   "outputs": [
    {
     "data": {
      "text/plain": [
       "2023"
      ]
     },
     "execution_count": 103,
     "metadata": {},
     "output_type": "execute_result"
    }
   ],
   "source": [
    "datetime.today().year"
   ]
  },
  {
   "cell_type": "code",
   "execution_count": 104,
   "metadata": {},
   "outputs": [
    {
     "data": {
      "text/html": [
       "<div>\n",
       "<style scoped>\n",
       "    .dataframe tbody tr th:only-of-type {\n",
       "        vertical-align: middle;\n",
       "    }\n",
       "\n",
       "    .dataframe tbody tr th {\n",
       "        vertical-align: top;\n",
       "    }\n",
       "\n",
       "    .dataframe thead th {\n",
       "        text-align: right;\n",
       "    }\n",
       "</style>\n",
       "<table border=\"1\" class=\"dataframe\">\n",
       "  <thead>\n",
       "    <tr style=\"text-align: right;\">\n",
       "      <th></th>\n",
       "      <th>review</th>\n",
       "      <th>text</th>\n",
       "      <th>review_year</th>\n",
       "      <th>authors</th>\n",
       "      <th>publisher</th>\n",
       "      <th>categories</th>\n",
       "      <th>published_year</th>\n",
       "      <th>helpfulness</th>\n",
       "    </tr>\n",
       "  </thead>\n",
       "  <tbody>\n",
       "    <tr>\n",
       "      <th>61300</th>\n",
       "      <td>2.0</td>\n",
       "      <td>I guess my expectations of this book would be ...</td>\n",
       "      <td>2002</td>\n",
       "      <td>[Other]</td>\n",
       "      <td>Other</td>\n",
       "      <td>[Other]</td>\n",
       "      <td>2024</td>\n",
       "      <td>0.500000</td>\n",
       "    </tr>\n",
       "    <tr>\n",
       "      <th>201009</th>\n",
       "      <td>5.0</td>\n",
       "      <td>Thanks to Dr. Cosby and Renee Pouissant we now...</td>\n",
       "      <td>2004</td>\n",
       "      <td>[Other]</td>\n",
       "      <td>Simon and Schuster</td>\n",
       "      <td>[Biography &amp; Autobiography]</td>\n",
       "      <td>2030</td>\n",
       "      <td>0.941176</td>\n",
       "    </tr>\n",
       "    <tr>\n",
       "      <th>398835</th>\n",
       "      <td>5.0</td>\n",
       "      <td>Scott Malensek's third offering, while a depar...</td>\n",
       "      <td>2002</td>\n",
       "      <td>[Other]</td>\n",
       "      <td>Other</td>\n",
       "      <td>[Other]</td>\n",
       "      <td>2024</td>\n",
       "      <td>0.600000</td>\n",
       "    </tr>\n",
       "  </tbody>\n",
       "</table>\n",
       "</div>"
      ],
      "text/plain": [
       "        review                                               text  \\\n",
       "61300      2.0  I guess my expectations of this book would be ...   \n",
       "201009     5.0  Thanks to Dr. Cosby and Renee Pouissant we now...   \n",
       "398835     5.0  Scott Malensek's third offering, while a depar...   \n",
       "\n",
       "        review_year  authors           publisher                   categories  \\\n",
       "61300          2002  [Other]               Other                      [Other]   \n",
       "201009         2004  [Other]  Simon and Schuster  [Biography & Autobiography]   \n",
       "398835         2002  [Other]               Other                      [Other]   \n",
       "\n",
       "        published_year  helpfulness  \n",
       "61300             2024     0.500000  \n",
       "201009            2030     0.941176  \n",
       "398835            2024     0.600000  "
      ]
     },
     "execution_count": 104,
     "metadata": {},
     "output_type": "execute_result"
    }
   ],
   "source": [
    "df_all_data_filtered_processed[df_all_data_filtered_processed['published_year'] > datetime.today().year]"
   ]
  },
  {
   "cell_type": "markdown",
   "metadata": {},
   "source": [
    "Found values where the published year is grather than the current year are removed as they are just 3 values. Do not affects the dataset of + 500 000 entries"
   ]
  },
  {
   "cell_type": "code",
   "execution_count": 105,
   "metadata": {},
   "outputs": [
    {
     "data": {
      "text/plain": [
       "(502044, 8)"
      ]
     },
     "execution_count": 105,
     "metadata": {},
     "output_type": "execute_result"
    }
   ],
   "source": [
    "df_all_data_filtered_processed.shape"
   ]
  },
  {
   "cell_type": "code",
   "execution_count": 106,
   "metadata": {},
   "outputs": [
    {
     "data": {
      "text/plain": [
       "(502041, 8)"
      ]
     },
     "execution_count": 106,
     "metadata": {},
     "output_type": "execute_result"
    }
   ],
   "source": [
    "df_all_data_filtered_processed = df_all_data_filtered_processed.drop(df_all_data_filtered_processed[df_all_data_filtered_processed['published_year'] > datetime.today().year].index)\n",
    "df_all_data_filtered_processed.shape"
   ]
  },
  {
   "cell_type": "code",
   "execution_count": 107,
   "metadata": {},
   "outputs": [
    {
     "data": {
      "text/plain": [
       "<Axes: >"
      ]
     },
     "execution_count": 107,
     "metadata": {},
     "output_type": "execute_result"
    },
    {
     "data": {
      "image/png": "[encoded data removed]",
      "text/plain": [
       "<Figure size 640x480 with 1 Axes>"
      ]
     },
     "metadata": {},
     "output_type": "display_data"
    }
   ],
   "source": [
    "df_all_data_filtered_processed.boxplot(column='published_year')"
   ]
  },
  {
   "cell_type": "markdown",
   "metadata": {},
   "source": [
    "## Review Year Column"
   ]
  },
  {
   "cell_type": "code",
   "execution_count": 108,
   "metadata": {},
   "outputs": [
    {
     "data": {
      "text/plain": [
       "count    502041.000000\n",
       "mean       2005.294233\n",
       "std           4.675203\n",
       "min        1969.000000\n",
       "25%        2001.000000\n",
       "50%        2005.000000\n",
       "75%        2009.000000\n",
       "max        2013.000000\n",
       "Name: review_year, dtype: float64"
      ]
     },
     "execution_count": 108,
     "metadata": {},
     "output_type": "execute_result"
    }
   ],
   "source": [
    "df_all_data_filtered_processed['review_year'].describe().T"
   ]
  },
  {
   "cell_type": "markdown",
   "metadata": {},
   "source": [
    "On July 16, 1995, Amazon opened as an online bookseller. So, all reviews older than 1995 are removed."
   ]
  },
  {
   "cell_type": "code",
   "execution_count": 109,
   "metadata": {},
   "outputs": [
    {
     "data": {
      "text/html": [
       "<div>\n",
       "<style scoped>\n",
       "    .dataframe tbody tr th:only-of-type {\n",
       "        vertical-align: middle;\n",
       "    }\n",
       "\n",
       "    .dataframe tbody tr th {\n",
       "        vertical-align: top;\n",
       "    }\n",
       "\n",
       "    .dataframe thead th {\n",
       "        text-align: right;\n",
       "    }\n",
       "</style>\n",
       "<table border=\"1\" class=\"dataframe\">\n",
       "  <thead>\n",
       "    <tr style=\"text-align: right;\">\n",
       "      <th></th>\n",
       "      <th>review</th>\n",
       "      <th>text</th>\n",
       "      <th>review_year</th>\n",
       "      <th>authors</th>\n",
       "      <th>publisher</th>\n",
       "      <th>categories</th>\n",
       "      <th>published_year</th>\n",
       "      <th>helpfulness</th>\n",
       "    </tr>\n",
       "  </thead>\n",
       "  <tbody>\n",
       "    <tr>\n",
       "      <th>187490</th>\n",
       "      <td>5.0</td>\n",
       "      <td>This book was given to me when I was three yea...</td>\n",
       "      <td>1969</td>\n",
       "      <td>[Other]</td>\n",
       "      <td>Other</td>\n",
       "      <td>[Other]</td>\n",
       "      <td>1837</td>\n",
       "      <td>1.0</td>\n",
       "    </tr>\n",
       "    <tr>\n",
       "      <th>323578</th>\n",
       "      <td>5.0</td>\n",
       "      <td>Pretty good at providing me with the fundament...</td>\n",
       "      <td>1969</td>\n",
       "      <td>[Other]</td>\n",
       "      <td>Other</td>\n",
       "      <td>[Other]</td>\n",
       "      <td>2006</td>\n",
       "      <td>1.0</td>\n",
       "    </tr>\n",
       "    <tr>\n",
       "      <th>351462</th>\n",
       "      <td>1.0</td>\n",
       "      <td>A book as messy and nasty as some of the autho...</td>\n",
       "      <td>1969</td>\n",
       "      <td>[Other]</td>\n",
       "      <td>Other</td>\n",
       "      <td>[Other]</td>\n",
       "      <td>2005</td>\n",
       "      <td>0.7</td>\n",
       "    </tr>\n",
       "  </tbody>\n",
       "</table>\n",
       "</div>"
      ],
      "text/plain": [
       "        review                                               text  \\\n",
       "187490     5.0  This book was given to me when I was three yea...   \n",
       "323578     5.0  Pretty good at providing me with the fundament...   \n",
       "351462     1.0  A book as messy and nasty as some of the autho...   \n",
       "\n",
       "        review_year  authors publisher categories  published_year  helpfulness  \n",
       "187490         1969  [Other]     Other    [Other]            1837          1.0  \n",
       "323578         1969  [Other]     Other    [Other]            2006          1.0  \n",
       "351462         1969  [Other]     Other    [Other]            2005          0.7  "
      ]
     },
     "execution_count": 109,
     "metadata": {},
     "output_type": "execute_result"
    }
   ],
   "source": [
    "df_all_data_filtered_processed[df_all_data_filtered_processed['review_year'] < 1995]"
   ]
  },
  {
   "cell_type": "code",
   "execution_count": 110,
   "metadata": {},
   "outputs": [
    {
     "data": {
      "text/plain": [
       "(502041, 8)"
      ]
     },
     "execution_count": 110,
     "metadata": {},
     "output_type": "execute_result"
    }
   ],
   "source": [
    "df_all_data_filtered_processed.shape"
   ]
  },
  {
   "cell_type": "code",
   "execution_count": 112,
   "metadata": {},
   "outputs": [
    {
     "data": {
      "text/html": [
       "<div>\n",
       "<style scoped>\n",
       "    .dataframe tbody tr th:only-of-type {\n",
       "        vertical-align: middle;\n",
       "    }\n",
       "\n",
       "    .dataframe tbody tr th {\n",
       "        vertical-align: top;\n",
       "    }\n",
       "\n",
       "    .dataframe thead th {\n",
       "        text-align: right;\n",
       "    }\n",
       "</style>\n",
       "<table border=\"1\" class=\"dataframe\">\n",
       "  <thead>\n",
       "    <tr style=\"text-align: right;\">\n",
       "      <th></th>\n",
       "      <th>review</th>\n",
       "      <th>text</th>\n",
       "      <th>review_year</th>\n",
       "      <th>authors</th>\n",
       "      <th>publisher</th>\n",
       "      <th>categories</th>\n",
       "      <th>published_year</th>\n",
       "      <th>helpfulness</th>\n",
       "    </tr>\n",
       "  </thead>\n",
       "  <tbody>\n",
       "    <tr>\n",
       "      <th>0</th>\n",
       "      <td>4.0</td>\n",
       "      <td>This is a pretty good book with clear content,...</td>\n",
       "      <td>2005</td>\n",
       "      <td>[Other]</td>\n",
       "      <td>Other</td>\n",
       "      <td>[Other]</td>\n",
       "      <td>2011</td>\n",
       "      <td>0.764706</td>\n",
       "    </tr>\n",
       "    <tr>\n",
       "      <th>1</th>\n",
       "      <td>4.0</td>\n",
       "      <td>Terry Pratchett's first novel, \"The Carpet Peo...</td>\n",
       "      <td>2009</td>\n",
       "      <td>[Other]</td>\n",
       "      <td>Harper Collins</td>\n",
       "      <td>[Fiction]</td>\n",
       "      <td>2009</td>\n",
       "      <td>1.000000</td>\n",
       "    </tr>\n",
       "    <tr>\n",
       "      <th>2</th>\n",
       "      <td>4.0</td>\n",
       "      <td>It must have been around 1870 when very capabl...</td>\n",
       "      <td>2011</td>\n",
       "      <td>[Other]</td>\n",
       "      <td>Other</td>\n",
       "      <td>[Other]</td>\n",
       "      <td>1908</td>\n",
       "      <td>1.000000</td>\n",
       "    </tr>\n",
       "    <tr>\n",
       "      <th>3</th>\n",
       "      <td>5.0</td>\n",
       "      <td>I first read this book when I was in my early ...</td>\n",
       "      <td>2007</td>\n",
       "      <td>[C. S. Lewis]</td>\n",
       "      <td>Other</td>\n",
       "      <td>[Fiction]</td>\n",
       "      <td>2017</td>\n",
       "      <td>1.000000</td>\n",
       "    </tr>\n",
       "    <tr>\n",
       "      <th>4</th>\n",
       "      <td>3.0</td>\n",
       "      <td>When Patrick Kelsey learns that it is a woman ...</td>\n",
       "      <td>2002</td>\n",
       "      <td>[Other]</td>\n",
       "      <td>Other</td>\n",
       "      <td>[Other]</td>\n",
       "      <td>1992</td>\n",
       "      <td>1.000000</td>\n",
       "    </tr>\n",
       "    <tr>\n",
       "      <th>...</th>\n",
       "      <td>...</td>\n",
       "      <td>...</td>\n",
       "      <td>...</td>\n",
       "      <td>...</td>\n",
       "      <td>...</td>\n",
       "      <td>...</td>\n",
       "      <td>...</td>\n",
       "      <td>...</td>\n",
       "    </tr>\n",
       "    <tr>\n",
       "      <th>502039</th>\n",
       "      <td>4.0</td>\n",
       "      <td>Once you realize these are intended as fun lig...</td>\n",
       "      <td>2004</td>\n",
       "      <td>[Other]</td>\n",
       "      <td>Other</td>\n",
       "      <td>[Fiction]</td>\n",
       "      <td>2002</td>\n",
       "      <td>1.000000</td>\n",
       "    </tr>\n",
       "    <tr>\n",
       "      <th>502040</th>\n",
       "      <td>3.0</td>\n",
       "      <td>In an utterly realistic, noir novel, the reade...</td>\n",
       "      <td>2010</td>\n",
       "      <td>[Other]</td>\n",
       "      <td>Other</td>\n",
       "      <td>[Other]</td>\n",
       "      <td>1992</td>\n",
       "      <td>0.833333</td>\n",
       "    </tr>\n",
       "    <tr>\n",
       "      <th>502041</th>\n",
       "      <td>5.0</td>\n",
       "      <td>This Bible commentary was recommended to me by...</td>\n",
       "      <td>2007</td>\n",
       "      <td>[Other]</td>\n",
       "      <td>Other</td>\n",
       "      <td>[Religion]</td>\n",
       "      <td>2016</td>\n",
       "      <td>1.000000</td>\n",
       "    </tr>\n",
       "    <tr>\n",
       "      <th>502042</th>\n",
       "      <td>5.0</td>\n",
       "      <td>It is a beautiful illustration of a childs lif...</td>\n",
       "      <td>2013</td>\n",
       "      <td>[Other]</td>\n",
       "      <td>Other</td>\n",
       "      <td>[Other]</td>\n",
       "      <td>2016</td>\n",
       "      <td>1.000000</td>\n",
       "    </tr>\n",
       "    <tr>\n",
       "      <th>502043</th>\n",
       "      <td>5.0</td>\n",
       "      <td>The Time Machine is possibly one of the greate...</td>\n",
       "      <td>1998</td>\n",
       "      <td>[Other]</td>\n",
       "      <td>Other</td>\n",
       "      <td>[Biography &amp; Autobiography]</td>\n",
       "      <td>2012</td>\n",
       "      <td>1.000000</td>\n",
       "    </tr>\n",
       "  </tbody>\n",
       "</table>\n",
       "<p>502038 rows × 8 columns</p>\n",
       "</div>"
      ],
      "text/plain": [
       "        review                                               text  \\\n",
       "0          4.0  This is a pretty good book with clear content,...   \n",
       "1          4.0  Terry Pratchett's first novel, \"The Carpet Peo...   \n",
       "2          4.0  It must have been around 1870 when very capabl...   \n",
       "3          5.0  I first read this book when I was in my early ...   \n",
       "4          3.0  When Patrick Kelsey learns that it is a woman ...   \n",
       "...        ...                                                ...   \n",
       "502039     4.0  Once you realize these are intended as fun lig...   \n",
       "502040     3.0  In an utterly realistic, noir novel, the reade...   \n",
       "502041     5.0  This Bible commentary was recommended to me by...   \n",
       "502042     5.0  It is a beautiful illustration of a childs lif...   \n",
       "502043     5.0  The Time Machine is possibly one of the greate...   \n",
       "\n",
       "        review_year        authors       publisher  \\\n",
       "0              2005        [Other]           Other   \n",
       "1              2009        [Other]  Harper Collins   \n",
       "2              2011        [Other]           Other   \n",
       "3              2007  [C. S. Lewis]           Other   \n",
       "4              2002        [Other]           Other   \n",
       "...             ...            ...             ...   \n",
       "502039         2004        [Other]           Other   \n",
       "502040         2010        [Other]           Other   \n",
       "502041         2007        [Other]           Other   \n",
       "502042         2013        [Other]           Other   \n",
       "502043         1998        [Other]           Other   \n",
       "\n",
       "                         categories  published_year  helpfulness  \n",
       "0                           [Other]            2011     0.764706  \n",
       "1                         [Fiction]            2009     1.000000  \n",
       "2                           [Other]            1908     1.000000  \n",
       "3                         [Fiction]            2017     1.000000  \n",
       "4                           [Other]            1992     1.000000  \n",
       "...                             ...             ...          ...  \n",
       "502039                    [Fiction]            2002     1.000000  \n",
       "502040                      [Other]            1992     0.833333  \n",
       "502041                   [Religion]            2016     1.000000  \n",
       "502042                      [Other]            2016     1.000000  \n",
       "502043  [Biography & Autobiography]            2012     1.000000  \n",
       "\n",
       "[502038 rows x 8 columns]"
      ]
     },
     "execution_count": 112,
     "metadata": {},
     "output_type": "execute_result"
    }
   ],
   "source": [
    "df_all_data_filtered_processed = df_all_data_filtered_processed[df_all_data_filtered_processed['review_year'] >= 1995]\n",
    "df_all_data_filtered_processed"
   ]
  },
  {
   "cell_type": "code",
   "execution_count": 113,
   "metadata": {},
   "outputs": [
    {
     "data": {
      "text/plain": [
       "(502038, 8)"
      ]
     },
     "execution_count": 113,
     "metadata": {},
     "output_type": "execute_result"
    }
   ],
   "source": [
    "df_all_data_filtered_processed.shape"
   ]
  },
  {
   "cell_type": "markdown",
   "metadata": {},
   "source": [
    "# Processed Datasets Saving"
   ]
  },
  {
   "cell_type": "code",
   "execution_count": 114,
   "metadata": {},
   "outputs": [
    {
     "name": "stdout",
     "output_type": "stream",
     "text": [
      "<class 'pandas.core.frame.DataFrame'>\n",
      "RangeIndex: 502038 entries, 0 to 502037\n",
      "Data columns (total 9 columns):\n",
      " #   Column          Non-Null Count   Dtype  \n",
      "---  ------          --------------   -----  \n",
      " 0   index           502038 non-null  int64  \n",
      " 1   review          502038 non-null  float64\n",
      " 2   text            502038 non-null  object \n",
      " 3   review_year     502038 non-null  int64  \n",
      " 4   authors         502038 non-null  object \n",
      " 5   publisher       502038 non-null  object \n",
      " 6   categories      502038 non-null  object \n",
      " 7   published_year  502038 non-null  int64  \n",
      " 8   helpfulness     502038 non-null  float64\n",
      "dtypes: float64(2), int64(3), object(4)\n",
      "memory usage: 34.5+ MB\n"
     ]
    }
   ],
   "source": [
    "df_all_data_filtered_processed = df_all_data_filtered_processed.reset_index()\n",
    "df_all_data_filtered_processed.info()"
   ]
  },
  {
   "cell_type": "code",
   "execution_count": 115,
   "metadata": {},
   "outputs": [
    {
     "data": {
      "text/html": [
       "<div>\n",
       "<style scoped>\n",
       "    .dataframe tbody tr th:only-of-type {\n",
       "        vertical-align: middle;\n",
       "    }\n",
       "\n",
       "    .dataframe tbody tr th {\n",
       "        vertical-align: top;\n",
       "    }\n",
       "\n",
       "    .dataframe thead th {\n",
       "        text-align: right;\n",
       "    }\n",
       "</style>\n",
       "<table border=\"1\" class=\"dataframe\">\n",
       "  <thead>\n",
       "    <tr style=\"text-align: right;\">\n",
       "      <th></th>\n",
       "      <th>num_row</th>\n",
       "      <th>text</th>\n",
       "    </tr>\n",
       "  </thead>\n",
       "  <tbody>\n",
       "    <tr>\n",
       "      <th>387345</th>\n",
       "      <td>387345</td>\n",
       "      <td>I liked this book because it was discriptive a...</td>\n",
       "    </tr>\n",
       "    <tr>\n",
       "      <th>260305</th>\n",
       "      <td>260305</td>\n",
       "      <td>If anyone hasn't read this book before I recom...</td>\n",
       "    </tr>\n",
       "    <tr>\n",
       "      <th>340897</th>\n",
       "      <td>340897</td>\n",
       "      <td>For decades devout Christians have hunkered in...</td>\n",
       "    </tr>\n",
       "    <tr>\n",
       "      <th>325501</th>\n",
       "      <td>325501</td>\n",
       "      <td>I had high hopes for this book after enjoying ...</td>\n",
       "    </tr>\n",
       "    <tr>\n",
       "      <th>116137</th>\n",
       "      <td>116137</td>\n",
       "      <td>He wowed us with the tale of a board game that...</td>\n",
       "    </tr>\n",
       "    <tr>\n",
       "      <th>304232</th>\n",
       "      <td>304232</td>\n",
       "      <td>The Spiritual Tourist's greatest strength is t...</td>\n",
       "    </tr>\n",
       "    <tr>\n",
       "      <th>117227</th>\n",
       "      <td>117227</td>\n",
       "      <td>This is one of those &amp;quot;must own&amp;quot; book...</td>\n",
       "    </tr>\n",
       "    <tr>\n",
       "      <th>231953</th>\n",
       "      <td>231953</td>\n",
       "      <td>I don't think I've been forced to read a book ...</td>\n",
       "    </tr>\n",
       "    <tr>\n",
       "      <th>21834</th>\n",
       "      <td>21834</td>\n",
       "      <td>This was one of my favorite books as a child, ...</td>\n",
       "    </tr>\n",
       "    <tr>\n",
       "      <th>94893</th>\n",
       "      <td>94893</td>\n",
       "      <td>Melanie Wiggins' \"Torpedoes in the Gulf\" (pape...</td>\n",
       "    </tr>\n",
       "  </tbody>\n",
       "</table>\n",
       "</div>"
      ],
      "text/plain": [
       "        num_row                                               text\n",
       "387345   387345  I liked this book because it was discriptive a...\n",
       "260305   260305  If anyone hasn't read this book before I recom...\n",
       "340897   340897  For decades devout Christians have hunkered in...\n",
       "325501   325501  I had high hopes for this book after enjoying ...\n",
       "116137   116137  He wowed us with the tale of a board game that...\n",
       "304232   304232  The Spiritual Tourist's greatest strength is t...\n",
       "117227   117227  This is one of those &quot;must own&quot; book...\n",
       "231953   231953  I don't think I've been forced to read a book ...\n",
       "21834     21834  This was one of my favorite books as a child, ...\n",
       "94893     94893  Melanie Wiggins' \"Torpedoes in the Gulf\" (pape..."
      ]
     },
     "execution_count": 115,
     "metadata": {},
     "output_type": "execute_result"
    }
   ],
   "source": [
    "#A reduced Dataset is created to process Text Column and Apply sentiment Analysis.\n",
    "df_all_data_filtered_processed['num_row'] = np.arange(len(df_all_data_filtered_processed))\n",
    "\n",
    "df_reduced = df_all_data_filtered_processed[['num_row', 'text']].copy()\n",
    "\n",
    "df_reduced.sample(10)"
   ]
  },
  {
   "cell_type": "code",
   "execution_count": 116,
   "metadata": {},
   "outputs": [],
   "source": [
    "df_all_data_filtered_processed.to_csv('../data/processed/filtered_data_processed.csv')"
   ]
  },
  {
   "cell_type": "code",
   "execution_count": 117,
   "metadata": {},
   "outputs": [],
   "source": [
    "df_reduced.to_csv('../data/processed/df_reduced.csv')"
   ]
  }
 ],
 "metadata": {
  "kernelspec": {
   "display_name": ".venv",
   "language": "python",
   "name": "python3"
  },
  "language_info": {
   "codemirror_mode": {
    "name": "ipython",
    "version": 3
   },
   "file_extension": ".py",
   "mimetype": "text/x-python",
   "name": "python",
   "nbconvert_exporter": "python",
   "pygments_lexer": "ipython3",
   "version": "3.8.10"
  }
 },
 "nbformat": 4,
 "nbformat_minor": 2
}
