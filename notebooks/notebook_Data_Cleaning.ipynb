{
 "cells": [
  {
   "cell_type": "code",
   "execution_count": 1,
   "metadata": {},
   "outputs": [],
   "source": [
    "# Dataset: Amazon Books Reviews\n",
    "# Author: Mohamed Bekheet\n",
    "# Source: Mohamed Bekheet. (2022). Amazon Books Reviews [Data set]. Kaggle. https://www.kaggle.com/datasets/mohamedbakhet/amazon-books-reviews\n",
    "# URL: https://www.kaggle.com/datasets/mohamedbakhet/amazon-books-reviews\n",
    "# This dataset contains 2 files\n",
    "# The first file** reviews** file contain feedback about 3M user on 212404 unique books the data set is \n",
    "# part of the Amazon review Dataset it contains product reviews and metadata from Amazon, including \n",
    "# 142.8 million reviews spanning May 1996 - July 2014.\n",
    "# Reviews Dataset Data Dictionary:\n",
    "# -id:                  The Id of Book\n",
    "# -Title:   \t        Book Title\n",
    "# -Price:               The price of Book\n",
    "# -User_id:             Id of the user who rates the book\n",
    "# -profileName:         Name of the user who rates the book\n",
    "# -review/helpfulness:  helpfulness rating of the review, e.g. 2/3\n",
    "# -review/score:        rating from 0 to 5 for the book\n",
    "# -review/time:         time of given the review\n",
    "# -review/summary:      the summary of a text review\n",
    "# -review/text:         the full text of a review\n",
    "\n",
    "# The second file Books Details file contains details information about 212404 unique books it file is built by using\n",
    "# google books API to get details information about books it rated in the first file\n",
    "# and this file contains\n",
    "\n",
    "# Book Details Dataset Data Dictionary:\n",
    "# Title:\t        Book Title\n",
    "# Descripe:\t        Decription of book\n",
    "# authors:\t        Name of book authors\n",
    "# image:\t        Url for book cover\n",
    "# previewLink:\t    Link to access this book on google Books\n",
    "# publisher:\t    Name of the publisheer\n",
    "# publishedDate:\tThe date of publish\n",
    "# infoLink:\t        Link to get more information about the book on google books\n",
    "# categories:\t    Genres of books\n",
    "# ratingsCount:\t    Averaging rating for book\n",
    "\n",
    "# Both Datasets are linked through the unique tittle of the book."
   ]
  },
  {
   "cell_type": "code",
   "execution_count": 2,
   "metadata": {},
   "outputs": [
    {
     "name": "stderr",
     "output_type": "stream",
     "text": [
      "/home/arnaldochm/Documents/BootCamp_DataScience/Final_Project/final_project_nlp/.venv/lib/python3.8/site-packages/tqdm/auto.py:21: TqdmWarning: IProgress not found. Please update jupyter and ipywidgets. See https://ipywidgets.readthedocs.io/en/stable/user_install.html\n",
      "  from .autonotebook import tqdm as notebook_tqdm\n",
      "2023-11-04 13:54:21.280884: I tensorflow/core/util/port.cc:110] oneDNN custom operations are on. You may see slightly different numerical results due to floating-point round-off errors from different computation orders. To turn them off, set the environment variable `TF_ENABLE_ONEDNN_OPTS=0`.\n",
      "2023-11-04 13:54:21.308493: I tensorflow/tsl/cuda/cudart_stub.cc:28] Could not find cuda drivers on your machine, GPU will not be used.\n",
      "2023-11-04 13:54:21.505653: I tensorflow/tsl/cuda/cudart_stub.cc:28] Could not find cuda drivers on your machine, GPU will not be used.\n",
      "2023-11-04 13:54:21.508064: I tensorflow/core/platform/cpu_feature_guard.cc:182] This TensorFlow binary is optimized to use available CPU instructions in performance-critical operations.\n",
      "To enable the following instructions: AVX2 AVX512F AVX512_VNNI FMA, in other operations, rebuild TensorFlow with the appropriate compiler flags.\n",
      "2023-11-04 13:54:22.929708: W tensorflow/compiler/tf2tensorrt/utils/py_utils.cc:38] TF-TRT Warning: Could not find TensorRT\n"
     ]
    }
   ],
   "source": [
    "# Step 0. Load libraries and custom modules\n",
    "import pandas as pd\n",
    "import numpy as np\n",
    "import matplotlib.pyplot as plt\n",
    "import seaborn as sns\n",
    "import os\n",
    "import nltk\n",
    "from nltk.corpus import stopwords\n",
    "from wordcloud import WordCloud\n",
    "import re\n",
    "from dateutil.parser import parse\n",
    "from datetime import datetime\n",
    "# ------------  PREPROCESING -------------\n",
    "from sklearn.model_selection import train_test_split\n",
    "from sklearn.decomposition import PCA\n",
    "from sklearn.decomposition import FastICA\n",
    "from sklearn.preprocessing import OneHotEncoder\n",
    "from sklearn.preprocessing import StandardScaler\n",
    "from sklearn.feature_extraction.text import TfidfVectorizer\n",
    "from sklearn.feature_extraction.text import CountVectorizer\n",
    "from nltk import download\n",
    "from nltk.corpus import stopwords\n",
    "from nltk.stem import WordNetLemmatizer\n",
    "#-------------- TRANSFORMERS --------------\n",
    "import transformers\n",
    "from transformers.pipelines import PIPELINE_REGISTRY\n",
    "from transformers import pipeline\n",
    "import evaluate\n",
    "from evaluate import load\n",
    "from transformers import Conversation\n",
    "transformers.logging.set_verbosity_error()"
   ]
  },
  {
   "cell_type": "code",
   "execution_count": 3,
   "metadata": {},
   "outputs": [
    {
     "name": "stdout",
     "output_type": "stream",
     "text": [
      "<class 'pandas.core.frame.DataFrame'>\n",
      "RangeIndex: 3000000 entries, 0 to 2999999\n",
      "Data columns (total 10 columns):\n",
      " #   Column              Dtype  \n",
      "---  ------              -----  \n",
      " 0   Id                  object \n",
      " 1   Title               object \n",
      " 2   Price               float64\n",
      " 3   User_id             object \n",
      " 4   profileName         object \n",
      " 5   review/helpfulness  object \n",
      " 6   review/score        float64\n",
      " 7   review/time         int64  \n",
      " 8   review/summary      object \n",
      " 9   review/text         object \n",
      "dtypes: float64(2), int64(1), object(7)\n",
      "memory usage: 228.9+ MB\n"
     ]
    }
   ],
   "source": [
    "#Loading the Datasets\n",
    "df_rating_raw = pd.read_csv('../data/raw/Books_rating.csv')\n",
    "\n",
    "df_rating_raw.info()\n"
   ]
  },
  {
   "cell_type": "code",
   "execution_count": 4,
   "metadata": {},
   "outputs": [
    {
     "data": {
      "text/html": [
       "<div>\n",
       "<style scoped>\n",
       "    .dataframe tbody tr th:only-of-type {\n",
       "        vertical-align: middle;\n",
       "    }\n",
       "\n",
       "    .dataframe tbody tr th {\n",
       "        vertical-align: top;\n",
       "    }\n",
       "\n",
       "    .dataframe thead th {\n",
       "        text-align: right;\n",
       "    }\n",
       "</style>\n",
       "<table border=\"1\" class=\"dataframe\">\n",
       "  <thead>\n",
       "    <tr style=\"text-align: right;\">\n",
       "      <th></th>\n",
       "      <th>Id</th>\n",
       "      <th>Title</th>\n",
       "      <th>Price</th>\n",
       "      <th>User_id</th>\n",
       "      <th>profileName</th>\n",
       "      <th>review/helpfulness</th>\n",
       "      <th>review/score</th>\n",
       "      <th>review/time</th>\n",
       "      <th>review/summary</th>\n",
       "      <th>review/text</th>\n",
       "    </tr>\n",
       "  </thead>\n",
       "  <tbody>\n",
       "    <tr>\n",
       "      <th>2563144</th>\n",
       "      <td>0786125179</td>\n",
       "      <td>Ascendant Sun (Saga of the Skolian Empire)</td>\n",
       "      <td>62.95</td>\n",
       "      <td>A2SFPZ5CABWMC6</td>\n",
       "      <td>David W. Kriebel</td>\n",
       "      <td>13/13</td>\n",
       "      <td>5.0</td>\n",
       "      <td>961027200</td>\n",
       "      <td>Catherine Asaro: Writing (and Thinking) Outsid...</td>\n",
       "      <td>Male-female relations are thoroughly explored ...</td>\n",
       "    </tr>\n",
       "    <tr>\n",
       "      <th>2904370</th>\n",
       "      <td>B0006AV69I</td>\n",
       "      <td>New Orleans sketches</td>\n",
       "      <td>NaN</td>\n",
       "      <td>A281YN2K4M72JQ</td>\n",
       "      <td>Ryan C. Holiday</td>\n",
       "      <td>2/2</td>\n",
       "      <td>3.0</td>\n",
       "      <td>1332115200</td>\n",
       "      <td>Signs of Later Life</td>\n",
       "      <td>Faulkner moved to New Orleans in 1925 at the a...</td>\n",
       "    </tr>\n",
       "    <tr>\n",
       "      <th>2785877</th>\n",
       "      <td>B0008CSBW4</td>\n",
       "      <td>Experience and education (The Kappa Delta Pi l...</td>\n",
       "      <td>NaN</td>\n",
       "      <td>ADVXGHSDR0O25</td>\n",
       "      <td>Buck the Hog</td>\n",
       "      <td>6/7</td>\n",
       "      <td>5.0</td>\n",
       "      <td>1269561600</td>\n",
       "      <td>DO-WE value experience?</td>\n",
       "      <td>Here is the essential question Dewey poses in ...</td>\n",
       "    </tr>\n",
       "    <tr>\n",
       "      <th>1468437</th>\n",
       "      <td>B0006BYP1S</td>\n",
       "      <td>Slaughterhouse-Five</td>\n",
       "      <td>NaN</td>\n",
       "      <td>A2ZK4DSGK04KOE</td>\n",
       "      <td>Andrew Cowell</td>\n",
       "      <td>0/0</td>\n",
       "      <td>5.0</td>\n",
       "      <td>1241308800</td>\n",
       "      <td>Buy It For The Kid of the Kid You'll Have In 3...</td>\n",
       "      <td>It's quite difficult to throw a few stars and ...</td>\n",
       "    </tr>\n",
       "    <tr>\n",
       "      <th>2222218</th>\n",
       "      <td>B000G9WDBY</td>\n",
       "      <td>The Enchanted April (Virago Modern Classics)</td>\n",
       "      <td>NaN</td>\n",
       "      <td>ANUJ9I55DD8DB</td>\n",
       "      <td>Galadrial</td>\n",
       "      <td>6/6</td>\n",
       "      <td>3.0</td>\n",
       "      <td>1213488000</td>\n",
       "      <td>Edit issue</td>\n",
       "      <td>This is a lovely story. However, this particul...</td>\n",
       "    </tr>\n",
       "    <tr>\n",
       "      <th>372127</th>\n",
       "      <td>0435126083</td>\n",
       "      <td>Wuthering Heights (New Windmill)</td>\n",
       "      <td>NaN</td>\n",
       "      <td>A2UJGJAD59HQUM</td>\n",
       "      <td>Patricia Bridges</td>\n",
       "      <td>0/0</td>\n",
       "      <td>5.0</td>\n",
       "      <td>1359072000</td>\n",
       "      <td>A classic</td>\n",
       "      <td>Wuthering Heights is a Emily Bronte classic an...</td>\n",
       "    </tr>\n",
       "    <tr>\n",
       "      <th>1269344</th>\n",
       "      <td>1576835324</td>\n",
       "      <td>Pitch Black: Color Me Lost (True Colors Series...</td>\n",
       "      <td>10.94</td>\n",
       "      <td>A3C2RQD3XEHSQ8</td>\n",
       "      <td>C. Miley</td>\n",
       "      <td>0/0</td>\n",
       "      <td>5.0</td>\n",
       "      <td>1306627200</td>\n",
       "      <td>Pitch black</td>\n",
       "      <td>I had heard of Melody Carlson before, but had ...</td>\n",
       "    </tr>\n",
       "    <tr>\n",
       "      <th>2878630</th>\n",
       "      <td>0679729852</td>\n",
       "      <td>The Dictionary of Global Culture: What Every A...</td>\n",
       "      <td>25.00</td>\n",
       "      <td>A1KAFA2JZLRQQD</td>\n",
       "      <td>V. O. Camposeco</td>\n",
       "      <td>1/4</td>\n",
       "      <td>1.0</td>\n",
       "      <td>1262908800</td>\n",
       "      <td>Globalization from the islamic point of view</td>\n",
       "      <td>With an unnecessary long Introduction --the mo...</td>\n",
       "    </tr>\n",
       "    <tr>\n",
       "      <th>2974575</th>\n",
       "      <td>B000Q032UY</td>\n",
       "      <td>The Hobbit or There and Back Again</td>\n",
       "      <td>NaN</td>\n",
       "      <td>A1YXTQDQ5I290H</td>\n",
       "      <td>Josh Nicholas</td>\n",
       "      <td>0/0</td>\n",
       "      <td>5.0</td>\n",
       "      <td>1360022400</td>\n",
       "      <td>Great Book!!</td>\n",
       "      <td>Love this book!! This is a great collector's p...</td>\n",
       "    </tr>\n",
       "    <tr>\n",
       "      <th>2048647</th>\n",
       "      <td>B000N6R5A4</td>\n",
       "      <td>QUANTUM MECHANICS FOR CHEMISTS</td>\n",
       "      <td>NaN</td>\n",
       "      <td>A27V0S2I3M9ZOJ</td>\n",
       "      <td>Mead C. Whorton Jr.</td>\n",
       "      <td>10/10</td>\n",
       "      <td>5.0</td>\n",
       "      <td>1231891200</td>\n",
       "      <td>BASIC PRINCIPLES OF QUANTUM MECHANICS</td>\n",
       "      <td>After reading the first two chapters of Quantu...</td>\n",
       "    </tr>\n",
       "  </tbody>\n",
       "</table>\n",
       "</div>"
      ],
      "text/plain": [
       "                 Id                                              Title  Price  \\\n",
       "2563144  0786125179         Ascendant Sun (Saga of the Skolian Empire)  62.95   \n",
       "2904370  B0006AV69I                               New Orleans sketches    NaN   \n",
       "2785877  B0008CSBW4  Experience and education (The Kappa Delta Pi l...    NaN   \n",
       "1468437  B0006BYP1S                                Slaughterhouse-Five    NaN   \n",
       "2222218  B000G9WDBY       The Enchanted April (Virago Modern Classics)    NaN   \n",
       "372127   0435126083                   Wuthering Heights (New Windmill)    NaN   \n",
       "1269344  1576835324  Pitch Black: Color Me Lost (True Colors Series...  10.94   \n",
       "2878630  0679729852  The Dictionary of Global Culture: What Every A...  25.00   \n",
       "2974575  B000Q032UY                 The Hobbit or There and Back Again    NaN   \n",
       "2048647  B000N6R5A4                     QUANTUM MECHANICS FOR CHEMISTS    NaN   \n",
       "\n",
       "                User_id          profileName review/helpfulness  review/score  \\\n",
       "2563144  A2SFPZ5CABWMC6     David W. Kriebel              13/13           5.0   \n",
       "2904370  A281YN2K4M72JQ      Ryan C. Holiday                2/2           3.0   \n",
       "2785877   ADVXGHSDR0O25         Buck the Hog                6/7           5.0   \n",
       "1468437  A2ZK4DSGK04KOE        Andrew Cowell                0/0           5.0   \n",
       "2222218   ANUJ9I55DD8DB            Galadrial                6/6           3.0   \n",
       "372127   A2UJGJAD59HQUM     Patricia Bridges                0/0           5.0   \n",
       "1269344  A3C2RQD3XEHSQ8             C. Miley                0/0           5.0   \n",
       "2878630  A1KAFA2JZLRQQD      V. O. Camposeco                1/4           1.0   \n",
       "2974575  A1YXTQDQ5I290H        Josh Nicholas                0/0           5.0   \n",
       "2048647  A27V0S2I3M9ZOJ  Mead C. Whorton Jr.              10/10           5.0   \n",
       "\n",
       "         review/time                                     review/summary  \\\n",
       "2563144    961027200  Catherine Asaro: Writing (and Thinking) Outsid...   \n",
       "2904370   1332115200                                Signs of Later Life   \n",
       "2785877   1269561600                            DO-WE value experience?   \n",
       "1468437   1241308800  Buy It For The Kid of the Kid You'll Have In 3...   \n",
       "2222218   1213488000                                         Edit issue   \n",
       "372127    1359072000                                          A classic   \n",
       "1269344   1306627200                                        Pitch black   \n",
       "2878630   1262908800       Globalization from the islamic point of view   \n",
       "2974575   1360022400                                       Great Book!!   \n",
       "2048647   1231891200              BASIC PRINCIPLES OF QUANTUM MECHANICS   \n",
       "\n",
       "                                               review/text  \n",
       "2563144  Male-female relations are thoroughly explored ...  \n",
       "2904370  Faulkner moved to New Orleans in 1925 at the a...  \n",
       "2785877  Here is the essential question Dewey poses in ...  \n",
       "1468437  It's quite difficult to throw a few stars and ...  \n",
       "2222218  This is a lovely story. However, this particul...  \n",
       "372127   Wuthering Heights is a Emily Bronte classic an...  \n",
       "1269344  I had heard of Melody Carlson before, but had ...  \n",
       "2878630  With an unnecessary long Introduction --the mo...  \n",
       "2974575  Love this book!! This is a great collector's p...  \n",
       "2048647  After reading the first two chapters of Quantu...  "
      ]
     },
     "execution_count": 4,
     "metadata": {},
     "output_type": "execute_result"
    }
   ],
   "source": [
    "df_rating_raw.sample(10)"
   ]
  },
  {
   "cell_type": "code",
   "execution_count": 5,
   "metadata": {},
   "outputs": [
    {
     "name": "stdout",
     "output_type": "stream",
     "text": [
      "<class 'pandas.core.frame.DataFrame'>\n",
      "RangeIndex: 212404 entries, 0 to 212403\n",
      "Data columns (total 10 columns):\n",
      " #   Column         Non-Null Count   Dtype  \n",
      "---  ------         --------------   -----  \n",
      " 0   Title          212403 non-null  object \n",
      " 1   description    143962 non-null  object \n",
      " 2   authors        180991 non-null  object \n",
      " 3   image          160329 non-null  object \n",
      " 4   previewLink    188568 non-null  object \n",
      " 5   publisher      136518 non-null  object \n",
      " 6   publishedDate  187099 non-null  object \n",
      " 7   infoLink       188568 non-null  object \n",
      " 8   categories     171205 non-null  object \n",
      " 9   ratingsCount   49752 non-null   float64\n",
      "dtypes: float64(1), object(9)\n",
      "memory usage: 16.2+ MB\n"
     ]
    }
   ],
   "source": [
    "#Load Books Data Dataset\n",
    "df_data_raw = pd.read_csv('../data/raw/books_data.csv')\n",
    "\n",
    "df_data_raw.info()"
   ]
  },
  {
   "cell_type": "code",
   "execution_count": 6,
   "metadata": {},
   "outputs": [
    {
     "data": {
      "text/html": [
       "<div>\n",
       "<style scoped>\n",
       "    .dataframe tbody tr th:only-of-type {\n",
       "        vertical-align: middle;\n",
       "    }\n",
       "\n",
       "    .dataframe tbody tr th {\n",
       "        vertical-align: top;\n",
       "    }\n",
       "\n",
       "    .dataframe thead th {\n",
       "        text-align: right;\n",
       "    }\n",
       "</style>\n",
       "<table border=\"1\" class=\"dataframe\">\n",
       "  <thead>\n",
       "    <tr style=\"text-align: right;\">\n",
       "      <th></th>\n",
       "      <th>Title</th>\n",
       "      <th>description</th>\n",
       "      <th>authors</th>\n",
       "      <th>image</th>\n",
       "      <th>previewLink</th>\n",
       "      <th>publisher</th>\n",
       "      <th>publishedDate</th>\n",
       "      <th>infoLink</th>\n",
       "      <th>categories</th>\n",
       "      <th>ratingsCount</th>\n",
       "    </tr>\n",
       "  </thead>\n",
       "  <tbody>\n",
       "    <tr>\n",
       "      <th>22288</th>\n",
       "      <td>Mommy Magic : 450 Ways to Nurture Your Child</td>\n",
       "      <td>When a child is born, God sprinkles a little m...</td>\n",
       "      <td>['Adria Manary']</td>\n",
       "      <td>http://books.google.com/books/content?id=nGiqF...</td>\n",
       "      <td>http://books.google.com/books?id=nGiqF4PVUMYC&amp;...</td>\n",
       "      <td>NaN</td>\n",
       "      <td>2000</td>\n",
       "      <td>http://books.google.com/books?id=nGiqF4PVUMYC&amp;...</td>\n",
       "      <td>['Family &amp; Relationships']</td>\n",
       "      <td>NaN</td>\n",
       "    </tr>\n",
       "    <tr>\n",
       "      <th>82140</th>\n",
       "      <td>Ayurveda: A Life of Balance: The Complete Guid...</td>\n",
       "      <td>NaN</td>\n",
       "      <td>NaN</td>\n",
       "      <td>NaN</td>\n",
       "      <td>NaN</td>\n",
       "      <td>NaN</td>\n",
       "      <td>NaN</td>\n",
       "      <td>NaN</td>\n",
       "      <td>NaN</td>\n",
       "      <td>NaN</td>\n",
       "    </tr>\n",
       "    <tr>\n",
       "      <th>106414</th>\n",
       "      <td>Harold and the Purple Crayon: The Birthday Pre...</td>\n",
       "      <td>Harold uses his purple crayon to search for a ...</td>\n",
       "      <td>['Valerie Garfield']</td>\n",
       "      <td>http://books.google.com/books/content?id=hwsEA...</td>\n",
       "      <td>http://books.google.com/books?id=hwsEAAAACAAJ&amp;...</td>\n",
       "      <td>Turtleback Books</td>\n",
       "      <td>2002-01-01</td>\n",
       "      <td>http://books.google.com/books?id=hwsEAAAACAAJ&amp;...</td>\n",
       "      <td>['Juvenile Fiction']</td>\n",
       "      <td>NaN</td>\n",
       "    </tr>\n",
       "    <tr>\n",
       "      <th>73454</th>\n",
       "      <td>Tarot of an Old Gypsy</td>\n",
       "      <td>NaN</td>\n",
       "      <td>NaN</td>\n",
       "      <td>NaN</td>\n",
       "      <td>NaN</td>\n",
       "      <td>NaN</td>\n",
       "      <td>NaN</td>\n",
       "      <td>NaN</td>\n",
       "      <td>NaN</td>\n",
       "      <td>NaN</td>\n",
       "    </tr>\n",
       "    <tr>\n",
       "      <th>126043</th>\n",
       "      <td>The Art of Tarot (Tiny Folio)</td>\n",
       "      <td>NaN</td>\n",
       "      <td>['Christina Olsen']</td>\n",
       "      <td>http://books.google.com/books/content?id=IbHBG...</td>\n",
       "      <td>http://books.google.nl/books?id=IbHBGJclG5oC&amp;q...</td>\n",
       "      <td>NaN</td>\n",
       "      <td>1995</td>\n",
       "      <td>http://books.google.nl/books?id=IbHBGJclG5oC&amp;d...</td>\n",
       "      <td>['Body, Mind &amp; Spirit']</td>\n",
       "      <td>NaN</td>\n",
       "    </tr>\n",
       "    <tr>\n",
       "      <th>5280</th>\n",
       "      <td>A course of modern analysis,: An introduction ...</td>\n",
       "      <td>This classic work has been a unique resource f...</td>\n",
       "      <td>['E. T. Whittaker', 'G. N. Watson']</td>\n",
       "      <td>http://books.google.com/books/content?id=u9ZHz...</td>\n",
       "      <td>http://books.google.nl/books?id=u9ZHzgEACAAJ&amp;d...</td>\n",
       "      <td>Cambridge University Press</td>\n",
       "      <td>2021-08-31</td>\n",
       "      <td>http://books.google.nl/books?id=u9ZHzgEACAAJ&amp;d...</td>\n",
       "      <td>['Mathematics']</td>\n",
       "      <td>NaN</td>\n",
       "    </tr>\n",
       "    <tr>\n",
       "      <th>186740</th>\n",
       "      <td>Australian Football: Steps to Success (Steps t...</td>\n",
       "      <td>\"From basic ball handling to more challenging ...</td>\n",
       "      <td>['Andrew McLeod', 'Trevor D. Jaques']</td>\n",
       "      <td>http://books.google.com/books/content?id=av8cd...</td>\n",
       "      <td>http://books.google.com/books?id=av8cdbCw2G8C&amp;...</td>\n",
       "      <td>Human Kinetics</td>\n",
       "      <td>2006</td>\n",
       "      <td>http://books.google.com/books?id=av8cdbCw2G8C&amp;...</td>\n",
       "      <td>['Sports &amp; Recreation']</td>\n",
       "      <td>NaN</td>\n",
       "    </tr>\n",
       "    <tr>\n",
       "      <th>141591</th>\n",
       "      <td>Blaze and the lost quarry</td>\n",
       "      <td>NaN</td>\n",
       "      <td>NaN</td>\n",
       "      <td>NaN</td>\n",
       "      <td>NaN</td>\n",
       "      <td>NaN</td>\n",
       "      <td>NaN</td>\n",
       "      <td>NaN</td>\n",
       "      <td>NaN</td>\n",
       "      <td>NaN</td>\n",
       "    </tr>\n",
       "    <tr>\n",
       "      <th>191764</th>\n",
       "      <td>Moon Over Morocco</td>\n",
       "      <td>NaN</td>\n",
       "      <td>['Hermina Black']</td>\n",
       "      <td>NaN</td>\n",
       "      <td>http://books.google.com/books?id=xRjvngEACAAJ&amp;...</td>\n",
       "      <td>NaN</td>\n",
       "      <td>1969</td>\n",
       "      <td>http://books.google.com/books?id=xRjvngEACAAJ&amp;...</td>\n",
       "      <td>['Large type books']</td>\n",
       "      <td>NaN</td>\n",
       "    </tr>\n",
       "    <tr>\n",
       "      <th>44784</th>\n",
       "      <td>Tables and Diagrams of the Thermal Properties ...</td>\n",
       "      <td>NaN</td>\n",
       "      <td>['Lionel Simeon Marks', 'Harvey Nathaniel Davis']</td>\n",
       "      <td>http://books.google.com/books/content?id=SicOA...</td>\n",
       "      <td>http://books.google.com/books?id=SicOAAAAYAAJ&amp;...</td>\n",
       "      <td>NaN</td>\n",
       "      <td>1909</td>\n",
       "      <td>https://play.google.com/store/books/details?id...</td>\n",
       "      <td>['Steam']</td>\n",
       "      <td>NaN</td>\n",
       "    </tr>\n",
       "  </tbody>\n",
       "</table>\n",
       "</div>"
      ],
      "text/plain": [
       "                                                    Title  \\\n",
       "22288        Mommy Magic : 450 Ways to Nurture Your Child   \n",
       "82140   Ayurveda: A Life of Balance: The Complete Guid...   \n",
       "106414  Harold and the Purple Crayon: The Birthday Pre...   \n",
       "73454                               Tarot of an Old Gypsy   \n",
       "126043                      The Art of Tarot (Tiny Folio)   \n",
       "5280    A course of modern analysis,: An introduction ...   \n",
       "186740  Australian Football: Steps to Success (Steps t...   \n",
       "141591                          Blaze and the lost quarry   \n",
       "191764                                  Moon Over Morocco   \n",
       "44784   Tables and Diagrams of the Thermal Properties ...   \n",
       "\n",
       "                                              description  \\\n",
       "22288   When a child is born, God sprinkles a little m...   \n",
       "82140                                                 NaN   \n",
       "106414  Harold uses his purple crayon to search for a ...   \n",
       "73454                                                 NaN   \n",
       "126043                                                NaN   \n",
       "5280    This classic work has been a unique resource f...   \n",
       "186740  \"From basic ball handling to more challenging ...   \n",
       "141591                                                NaN   \n",
       "191764                                                NaN   \n",
       "44784                                                 NaN   \n",
       "\n",
       "                                                  authors  \\\n",
       "22288                                    ['Adria Manary']   \n",
       "82140                                                 NaN   \n",
       "106414                               ['Valerie Garfield']   \n",
       "73454                                                 NaN   \n",
       "126043                                ['Christina Olsen']   \n",
       "5280                  ['E. T. Whittaker', 'G. N. Watson']   \n",
       "186740              ['Andrew McLeod', 'Trevor D. Jaques']   \n",
       "141591                                                NaN   \n",
       "191764                                  ['Hermina Black']   \n",
       "44784   ['Lionel Simeon Marks', 'Harvey Nathaniel Davis']   \n",
       "\n",
       "                                                    image  \\\n",
       "22288   http://books.google.com/books/content?id=nGiqF...   \n",
       "82140                                                 NaN   \n",
       "106414  http://books.google.com/books/content?id=hwsEA...   \n",
       "73454                                                 NaN   \n",
       "126043  http://books.google.com/books/content?id=IbHBG...   \n",
       "5280    http://books.google.com/books/content?id=u9ZHz...   \n",
       "186740  http://books.google.com/books/content?id=av8cd...   \n",
       "141591                                                NaN   \n",
       "191764                                                NaN   \n",
       "44784   http://books.google.com/books/content?id=SicOA...   \n",
       "\n",
       "                                              previewLink  \\\n",
       "22288   http://books.google.com/books?id=nGiqF4PVUMYC&...   \n",
       "82140                                                 NaN   \n",
       "106414  http://books.google.com/books?id=hwsEAAAACAAJ&...   \n",
       "73454                                                 NaN   \n",
       "126043  http://books.google.nl/books?id=IbHBGJclG5oC&q...   \n",
       "5280    http://books.google.nl/books?id=u9ZHzgEACAAJ&d...   \n",
       "186740  http://books.google.com/books?id=av8cdbCw2G8C&...   \n",
       "141591                                                NaN   \n",
       "191764  http://books.google.com/books?id=xRjvngEACAAJ&...   \n",
       "44784   http://books.google.com/books?id=SicOAAAAYAAJ&...   \n",
       "\n",
       "                         publisher publishedDate  \\\n",
       "22288                          NaN          2000   \n",
       "82140                          NaN           NaN   \n",
       "106414            Turtleback Books    2002-01-01   \n",
       "73454                          NaN           NaN   \n",
       "126043                         NaN          1995   \n",
       "5280    Cambridge University Press    2021-08-31   \n",
       "186740              Human Kinetics          2006   \n",
       "141591                         NaN           NaN   \n",
       "191764                         NaN          1969   \n",
       "44784                          NaN          1909   \n",
       "\n",
       "                                                 infoLink  \\\n",
       "22288   http://books.google.com/books?id=nGiqF4PVUMYC&...   \n",
       "82140                                                 NaN   \n",
       "106414  http://books.google.com/books?id=hwsEAAAACAAJ&...   \n",
       "73454                                                 NaN   \n",
       "126043  http://books.google.nl/books?id=IbHBGJclG5oC&d...   \n",
       "5280    http://books.google.nl/books?id=u9ZHzgEACAAJ&d...   \n",
       "186740  http://books.google.com/books?id=av8cdbCw2G8C&...   \n",
       "141591                                                NaN   \n",
       "191764  http://books.google.com/books?id=xRjvngEACAAJ&...   \n",
       "44784   https://play.google.com/store/books/details?id...   \n",
       "\n",
       "                        categories  ratingsCount  \n",
       "22288   ['Family & Relationships']           NaN  \n",
       "82140                          NaN           NaN  \n",
       "106414        ['Juvenile Fiction']           NaN  \n",
       "73454                          NaN           NaN  \n",
       "126043     ['Body, Mind & Spirit']           NaN  \n",
       "5280               ['Mathematics']           NaN  \n",
       "186740     ['Sports & Recreation']           NaN  \n",
       "141591                         NaN           NaN  \n",
       "191764        ['Large type books']           NaN  \n",
       "44784                    ['Steam']           NaN  "
      ]
     },
     "execution_count": 6,
     "metadata": {},
     "output_type": "execute_result"
    }
   ],
   "source": [
    "df_data_raw.sample(10)"
   ]
  },
  {
   "cell_type": "code",
   "execution_count": 7,
   "metadata": {},
   "outputs": [
    {
     "data": {
      "text/plain": [
       "Id                          0\n",
       "Title                     208\n",
       "Price                 2518829\n",
       "User_id                561787\n",
       "profileName            561905\n",
       "review/helpfulness          0\n",
       "review/score                0\n",
       "review/time                 0\n",
       "review/summary            407\n",
       "review/text                 8\n",
       "dtype: int64"
      ]
     },
     "execution_count": 7,
     "metadata": {},
     "output_type": "execute_result"
    }
   ],
   "source": [
    "#Revisar Valores Nulos\n",
    "df_rating_raw.isna().sum()"
   ]
  },
  {
   "cell_type": "code",
   "execution_count": 8,
   "metadata": {},
   "outputs": [
    {
     "data": {
      "text/plain": [
       "Title                 1\n",
       "description       68442\n",
       "authors           31413\n",
       "image             52075\n",
       "previewLink       23836\n",
       "publisher         75886\n",
       "publishedDate     25305\n",
       "infoLink          23836\n",
       "categories        41199\n",
       "ratingsCount     162652\n",
       "dtype: int64"
      ]
     },
     "execution_count": 8,
     "metadata": {},
     "output_type": "execute_result"
    }
   ],
   "source": [
    "df_data_raw.isna().sum()"
   ]
  },
  {
   "cell_type": "code",
   "execution_count": 9,
   "metadata": {},
   "outputs": [],
   "source": [
    "#Innecesary Columns are removed\n",
    "# df_rating: \n",
    "#   - Price: Almost 84% of the entries are null. \n",
    "#   - profileName: Unique identifier for each user performing the review. Variable with cardinality excess. \n",
    "#   - User_id: Unique identifier for each user performing the review. Variable with cardinality excess.\n",
    "#   - Id: Innecesary column.\n",
    "#   - review/summary: Unncesary column for current analysis. Many summaries used are the same Book Title.\n",
    "#   - Title Feature Removal: This feature is unique for each book. And it is extremly correlated with Authors. As the same \n",
    "#       book Title will always have the same author. So, authors feature is kept and Title is removed.    \n",
    "#       This feature is removed later as it will be used to join both Datasets. \n",
    "# df_data:\n",
    "#   - image, previewLink, infoLink: Not useful information.\n",
    "#   - ratingsCount: Information from Google API. Not useful for the analysis.\n",
    "#   - description: Non necesary information for Analysis\n",
    "\n",
    "df_rating_processed = df_rating_raw.drop(['Id','profileName', 'User_id','Price','review/summary'], axis=1).copy()\n",
    "df_data_processed = df_data_raw.drop(['image','previewLink','infoLink','ratingsCount','description'], axis=1).copy()"
   ]
  },
  {
   "cell_type": "code",
   "execution_count": 10,
   "metadata": {},
   "outputs": [
    {
     "data": {
      "text/html": [
       "<div>\n",
       "<style scoped>\n",
       "    .dataframe tbody tr th:only-of-type {\n",
       "        vertical-align: middle;\n",
       "    }\n",
       "\n",
       "    .dataframe tbody tr th {\n",
       "        vertical-align: top;\n",
       "    }\n",
       "\n",
       "    .dataframe thead th {\n",
       "        text-align: right;\n",
       "    }\n",
       "</style>\n",
       "<table border=\"1\" class=\"dataframe\">\n",
       "  <thead>\n",
       "    <tr style=\"text-align: right;\">\n",
       "      <th></th>\n",
       "      <th>Title</th>\n",
       "      <th>review/helpfulness</th>\n",
       "      <th>review/score</th>\n",
       "      <th>review/time</th>\n",
       "      <th>review/text</th>\n",
       "    </tr>\n",
       "  </thead>\n",
       "  <tbody>\n",
       "    <tr>\n",
       "      <th>2196333</th>\n",
       "      <td>Cousin Kate</td>\n",
       "      <td>0/1</td>\n",
       "      <td>2.0</td>\n",
       "      <td>1352419200</td>\n",
       "      <td>I love almost everything written by Georgette ...</td>\n",
       "    </tr>\n",
       "    <tr>\n",
       "      <th>2218256</th>\n",
       "      <td>The Forsythe Saga</td>\n",
       "      <td>43/46</td>\n",
       "      <td>5.0</td>\n",
       "      <td>1041206400</td>\n",
       "      <td>What an infinite study of character, the Forsy...</td>\n",
       "    </tr>\n",
       "    <tr>\n",
       "      <th>2048855</th>\n",
       "      <td>I Can't Hear You Laughing . . . Anymore: Based...</td>\n",
       "      <td>0/0</td>\n",
       "      <td>5.0</td>\n",
       "      <td>1018483200</td>\n",
       "      <td>This story is of a woman named Elizabeth with ...</td>\n",
       "    </tr>\n",
       "    <tr>\n",
       "      <th>1680221</th>\n",
       "      <td>The Hobbit</td>\n",
       "      <td>1/2</td>\n",
       "      <td>5.0</td>\n",
       "      <td>1153526400</td>\n",
       "      <td>This book really is a genius story, although, ...</td>\n",
       "    </tr>\n",
       "    <tr>\n",
       "      <th>2691092</th>\n",
       "      <td>House of Mirth</td>\n",
       "      <td>1/7</td>\n",
       "      <td>2.0</td>\n",
       "      <td>1337904000</td>\n",
       "      <td>Despite its title, this must be one of the lea...</td>\n",
       "    </tr>\n",
       "    <tr>\n",
       "      <th>2198223</th>\n",
       "      <td>WCW/NWO Revenge (Prima's Official Strategy Guide)</td>\n",
       "      <td>0/0</td>\n",
       "      <td>1.0</td>\n",
       "      <td>913248000</td>\n",
       "      <td>Why would ANYONE need this book? All it does i...</td>\n",
       "    </tr>\n",
       "    <tr>\n",
       "      <th>1531967</th>\n",
       "      <td>The Tale of the Body Thief</td>\n",
       "      <td>0/0</td>\n",
       "      <td>3.0</td>\n",
       "      <td>955065600</td>\n",
       "      <td>As in all Rice novels you must go into it with...</td>\n",
       "    </tr>\n",
       "    <tr>\n",
       "      <th>124430</th>\n",
       "      <td>The Two Towers</td>\n",
       "      <td>0/0</td>\n",
       "      <td>4.0</td>\n",
       "      <td>1015804800</td>\n",
       "      <td>The Two Towers is the second part to the lord ...</td>\n",
       "    </tr>\n",
       "    <tr>\n",
       "      <th>2595939</th>\n",
       "      <td>A Christmas Carol (Enriched Classics (Pocket))</td>\n",
       "      <td>3/3</td>\n",
       "      <td>5.0</td>\n",
       "      <td>1261526400</td>\n",
       "      <td>As Scrooge says as he wakes Christmas morning ...</td>\n",
       "    </tr>\n",
       "    <tr>\n",
       "      <th>2810871</th>\n",
       "      <td>Ultra Black Hair Growth II 2000 Edition</td>\n",
       "      <td>27/29</td>\n",
       "      <td>5.0</td>\n",
       "      <td>1130112000</td>\n",
       "      <td>I've been using Cathy's system for about 6 yea...</td>\n",
       "    </tr>\n",
       "  </tbody>\n",
       "</table>\n",
       "</div>"
      ],
      "text/plain": [
       "                                                     Title review/helpfulness  \\\n",
       "2196333                                        Cousin Kate                0/1   \n",
       "2218256                                  The Forsythe Saga              43/46   \n",
       "2048855  I Can't Hear You Laughing . . . Anymore: Based...                0/0   \n",
       "1680221                                         The Hobbit                1/2   \n",
       "2691092                                     House of Mirth                1/7   \n",
       "2198223  WCW/NWO Revenge (Prima's Official Strategy Guide)                0/0   \n",
       "1531967                         The Tale of the Body Thief                0/0   \n",
       "124430                                      The Two Towers                0/0   \n",
       "2595939     A Christmas Carol (Enriched Classics (Pocket))                3/3   \n",
       "2810871            Ultra Black Hair Growth II 2000 Edition              27/29   \n",
       "\n",
       "         review/score  review/time  \\\n",
       "2196333           2.0   1352419200   \n",
       "2218256           5.0   1041206400   \n",
       "2048855           5.0   1018483200   \n",
       "1680221           5.0   1153526400   \n",
       "2691092           2.0   1337904000   \n",
       "2198223           1.0    913248000   \n",
       "1531967           3.0    955065600   \n",
       "124430            4.0   1015804800   \n",
       "2595939           5.0   1261526400   \n",
       "2810871           5.0   1130112000   \n",
       "\n",
       "                                               review/text  \n",
       "2196333  I love almost everything written by Georgette ...  \n",
       "2218256  What an infinite study of character, the Forsy...  \n",
       "2048855  This story is of a woman named Elizabeth with ...  \n",
       "1680221  This book really is a genius story, although, ...  \n",
       "2691092  Despite its title, this must be one of the lea...  \n",
       "2198223  Why would ANYONE need this book? All it does i...  \n",
       "1531967  As in all Rice novels you must go into it with...  \n",
       "124430   The Two Towers is the second part to the lord ...  \n",
       "2595939  As Scrooge says as he wakes Christmas morning ...  \n",
       "2810871  I've been using Cathy's system for about 6 yea...  "
      ]
     },
     "execution_count": 10,
     "metadata": {},
     "output_type": "execute_result"
    }
   ],
   "source": [
    "df_rating_processed.sample(10)"
   ]
  },
  {
   "cell_type": "code",
   "execution_count": 11,
   "metadata": {},
   "outputs": [],
   "source": [
    "df_rating_processed = df_rating_processed.rename(columns={'Title':'title',                                                        \n",
    "                                                        'review/helpfulness': 'helpfulness',\n",
    "                                                        'review/score': 'review',\n",
    "                                                        'review/time': 'review_time',\n",
    "                                                        'review/text': 'text'\n",
    "                                                        })\n",
    "df_data_processed = df_data_processed.rename(columns={'Title':'title', \n",
    "                                                        'publishedDate':'published_date'\n",
    "                                                        })"
   ]
  },
  {
   "cell_type": "code",
   "execution_count": 12,
   "metadata": {},
   "outputs": [
    {
     "data": {
      "text/plain": [
       "title          208\n",
       "helpfulness      0\n",
       "review           0\n",
       "review_time      0\n",
       "text             8\n",
       "dtype: int64"
      ]
     },
     "execution_count": 12,
     "metadata": {},
     "output_type": "execute_result"
    }
   ],
   "source": [
    "df_rating_processed.isna().sum()"
   ]
  },
  {
   "cell_type": "code",
   "execution_count": 13,
   "metadata": {},
   "outputs": [
    {
     "data": {
      "text/plain": [
       "title                 1\n",
       "authors           31413\n",
       "publisher         75886\n",
       "published_date    25305\n",
       "categories        41199\n",
       "dtype: int64"
      ]
     },
     "execution_count": 13,
     "metadata": {},
     "output_type": "execute_result"
    }
   ],
   "source": [
    "df_data_processed.isna().sum()"
   ]
  },
  {
   "cell_type": "code",
   "execution_count": 14,
   "metadata": {},
   "outputs": [],
   "source": [
    "#CLEAN THE DATASETS"
   ]
  },
  {
   "cell_type": "code",
   "execution_count": 15,
   "metadata": {},
   "outputs": [],
   "source": [
    "#As both datasets are going to be merged by Title, Rows with Null Title are removed.\n",
    "df_rating_processed = df_rating_processed.dropna(subset=['text'], how='any')\n",
    "\n",
    "df_data_processed = df_data_processed.dropna(subset=['title'])\n",
    "\n",
    "#Drop rows where everything except title is null\n",
    "df_data_processed = df_data_processed.dropna(subset=['authors', 'publisher', 'published_date', 'categories'], how='all')"
   ]
  },
  {
   "cell_type": "code",
   "execution_count": 16,
   "metadata": {},
   "outputs": [
    {
     "data": {
      "text/html": [
       "<div>\n",
       "<style scoped>\n",
       "    .dataframe tbody tr th:only-of-type {\n",
       "        vertical-align: middle;\n",
       "    }\n",
       "\n",
       "    .dataframe tbody tr th {\n",
       "        vertical-align: top;\n",
       "    }\n",
       "\n",
       "    .dataframe thead th {\n",
       "        text-align: right;\n",
       "    }\n",
       "</style>\n",
       "<table border=\"1\" class=\"dataframe\">\n",
       "  <thead>\n",
       "    <tr style=\"text-align: right;\">\n",
       "      <th></th>\n",
       "      <th>title</th>\n",
       "      <th>authors</th>\n",
       "      <th>publisher</th>\n",
       "      <th>published_date</th>\n",
       "      <th>categories</th>\n",
       "    </tr>\n",
       "  </thead>\n",
       "  <tbody>\n",
       "    <tr>\n",
       "      <th>118847</th>\n",
       "      <td>High-Performance Ford Focus Builder's Handbook...</td>\n",
       "      <td>['Richard Holdener']</td>\n",
       "      <td>CarTech Inc</td>\n",
       "      <td>2003</td>\n",
       "      <td>['Transportation']</td>\n",
       "    </tr>\n",
       "    <tr>\n",
       "      <th>51426</th>\n",
       "      <td>Jumble BrainBusters!: A Workout for Your Mind ...</td>\n",
       "      <td>['David L. Hoyt', 'Tribune Media Services', 'R...</td>\n",
       "      <td>Benchmark Press</td>\n",
       "      <td>2004-04-01</td>\n",
       "      <td>['Education']</td>\n",
       "    </tr>\n",
       "    <tr>\n",
       "      <th>29997</th>\n",
       "      <td>American Voices: Culture and Community</td>\n",
       "      <td>['Dolores LaGuardia', 'Hans Paul Guth']</td>\n",
       "      <td>McGraw-Hill Humanities, Social Sciences &amp; Worl...</td>\n",
       "      <td>2000</td>\n",
       "      <td>['College readers']</td>\n",
       "    </tr>\n",
       "    <tr>\n",
       "      <th>183851</th>\n",
       "      <td>Sugimoto Portraits</td>\n",
       "      <td>['Hiroshi Sugimoto']</td>\n",
       "      <td>Damiani Limited</td>\n",
       "      <td>2018-03-27</td>\n",
       "      <td>NaN</td>\n",
       "    </tr>\n",
       "    <tr>\n",
       "      <th>20760</th>\n",
       "      <td>Where's My Nose?</td>\n",
       "      <td>['Susan Ring', 'Stephanie Peterson']</td>\n",
       "      <td>NaN</td>\n",
       "      <td>2001</td>\n",
       "      <td>['Juvenile Fiction']</td>\n",
       "    </tr>\n",
       "  </tbody>\n",
       "</table>\n",
       "</div>"
      ],
      "text/plain": [
       "                                                    title  \\\n",
       "118847  High-Performance Ford Focus Builder's Handbook...   \n",
       "51426   Jumble BrainBusters!: A Workout for Your Mind ...   \n",
       "29997              American Voices: Culture and Community   \n",
       "183851                                 Sugimoto Portraits   \n",
       "20760                                    Where's My Nose?   \n",
       "\n",
       "                                                  authors  \\\n",
       "118847                               ['Richard Holdener']   \n",
       "51426   ['David L. Hoyt', 'Tribune Media Services', 'R...   \n",
       "29997             ['Dolores LaGuardia', 'Hans Paul Guth']   \n",
       "183851                               ['Hiroshi Sugimoto']   \n",
       "20760                ['Susan Ring', 'Stephanie Peterson']   \n",
       "\n",
       "                                                publisher published_date  \\\n",
       "118847                                        CarTech Inc           2003   \n",
       "51426                                     Benchmark Press     2004-04-01   \n",
       "29997   McGraw-Hill Humanities, Social Sciences & Worl...           2000   \n",
       "183851                                    Damiani Limited     2018-03-27   \n",
       "20760                                                 NaN           2001   \n",
       "\n",
       "                  categories  \n",
       "118847    ['Transportation']  \n",
       "51426          ['Education']  \n",
       "29997    ['College readers']  \n",
       "183851                   NaN  \n",
       "20760   ['Juvenile Fiction']  "
      ]
     },
     "execution_count": 16,
     "metadata": {},
     "output_type": "execute_result"
    }
   ],
   "source": [
    "df_data_processed.sample(5)"
   ]
  },
  {
   "cell_type": "code",
   "execution_count": 17,
   "metadata": {},
   "outputs": [],
   "source": [
    "# Found 143 published_date entries with the format YYYY*\n",
    "# Found 76 published_date entries with the format YYY?\n",
    "# Found 52 published_date entries with the format YY??\n",
    "\n",
    "def convert_to_year(date_in):    \n",
    "    try:    \n",
    "        patern_1 = r'\\d\\d\\d\\?'\n",
    "        patern_2 = r'\\d\\d\\?\\?'\n",
    "\n",
    "        #Some dates only contain the Year with the format YYYY*. For those cases, the symbol * is removed.\n",
    "        date = date_in.replace('*', '')\n",
    "\n",
    "        #Other cases contains an ? symbol instead of a number on the Year. YYY? or YY??\n",
    "        #For this specific case, the rounded mean from 0 to 9 is used: 5\n",
    "        if re.match(patern_1, date):\n",
    "            date = date.replace('?', '5')\n",
    "\n",
    "        if re.match(patern_2, date):\n",
    "            return None\n",
    "\n",
    "        date = parse(date)\n",
    "        \n",
    "        return date.strftime(\"%Y\")\n",
    "    except:        \n",
    "        return None"
   ]
  },
  {
   "cell_type": "code",
   "execution_count": 18,
   "metadata": {},
   "outputs": [],
   "source": [
    "#Use only the year for published_date\n",
    "df_data_processed['published_year'] = df_data_processed['published_date'].apply(lambda x: convert_to_year(x) if pd.notna(x) else x)\n",
    "\n",
    "df_data_processed['published_year'] = df_data_processed['published_year'].fillna('0')\n",
    "\n",
    "df_data_processed['published_year'] = df_data_processed['published_year'].astype('int32')\n",
    "\n",
    "#Drop published_date column \n",
    "df_data_processed = df_data_processed.drop(['published_date'], axis=1)"
   ]
  },
  {
   "cell_type": "code",
   "execution_count": 19,
   "metadata": {},
   "outputs": [
    {
     "data": {
      "text/plain": [
       "1981"
      ]
     },
     "execution_count": 19,
     "metadata": {},
     "output_type": "execute_result"
    }
   ],
   "source": [
    "mean_published_year = int(df_data_processed['published_year'].mean())\n",
    "mean_published_year"
   ]
  },
  {
   "cell_type": "code",
   "execution_count": 20,
   "metadata": {},
   "outputs": [
    {
     "data": {
      "text/html": [
       "<div>\n",
       "<style scoped>\n",
       "    .dataframe tbody tr th:only-of-type {\n",
       "        vertical-align: middle;\n",
       "    }\n",
       "\n",
       "    .dataframe tbody tr th {\n",
       "        vertical-align: top;\n",
       "    }\n",
       "\n",
       "    .dataframe thead th {\n",
       "        text-align: right;\n",
       "    }\n",
       "</style>\n",
       "<table border=\"1\" class=\"dataframe\">\n",
       "  <thead>\n",
       "    <tr style=\"text-align: right;\">\n",
       "      <th></th>\n",
       "      <th>title</th>\n",
       "      <th>authors</th>\n",
       "      <th>publisher</th>\n",
       "      <th>categories</th>\n",
       "      <th>published_year</th>\n",
       "    </tr>\n",
       "  </thead>\n",
       "  <tbody>\n",
       "    <tr>\n",
       "      <th>204907</th>\n",
       "      <td>Elvis: The Golden Anniversary Tribute</td>\n",
       "      <td>['Richard Peters']</td>\n",
       "      <td>Salem House Publishers</td>\n",
       "      <td>['Singers']</td>\n",
       "      <td>1984</td>\n",
       "    </tr>\n",
       "    <tr>\n",
       "      <th>188418</th>\n",
       "      <td>The Business Valuation Book (With CD-ROM)</td>\n",
       "      <td>['Trugman']</td>\n",
       "      <td>John Wiley &amp; Sons</td>\n",
       "      <td>['Business &amp; Economics']</td>\n",
       "      <td>2018</td>\n",
       "    </tr>\n",
       "    <tr>\n",
       "      <th>130034</th>\n",
       "      <td>Ten Cate's Oral Histology: Development, Struct...</td>\n",
       "      <td>['Antonio Nanci']</td>\n",
       "      <td>Elsevier India</td>\n",
       "      <td>NaN</td>\n",
       "      <td>2012</td>\n",
       "    </tr>\n",
       "    <tr>\n",
       "      <th>197154</th>\n",
       "      <td>Jeremy Poldark</td>\n",
       "      <td>['Winston Graham']</td>\n",
       "      <td>Sourcebooks, Inc.</td>\n",
       "      <td>['Fiction']</td>\n",
       "      <td>2015</td>\n",
       "    </tr>\n",
       "    <tr>\n",
       "      <th>203297</th>\n",
       "      <td>The Impact of Awakening: Excerpts From the Tea...</td>\n",
       "      <td>NaN</td>\n",
       "      <td>NaN</td>\n",
       "      <td>NaN</td>\n",
       "      <td>2013</td>\n",
       "    </tr>\n",
       "    <tr>\n",
       "      <th>112547</th>\n",
       "      <td>STORM WARNING</td>\n",
       "      <td>['Linda Sue Park']</td>\n",
       "      <td>Scholastic Inc.</td>\n",
       "      <td>['Juvenile Fiction']</td>\n",
       "      <td>2010</td>\n",
       "    </tr>\n",
       "    <tr>\n",
       "      <th>4433</th>\n",
       "      <td>Cordon of Steel: The US Navy and the Cuban Mis...</td>\n",
       "      <td>['Curtis A. Utz']</td>\n",
       "      <td>Naval Historical Center</td>\n",
       "      <td>['History']</td>\n",
       "      <td>1993</td>\n",
       "    </tr>\n",
       "    <tr>\n",
       "      <th>93903</th>\n",
       "      <td>Light and Glory</td>\n",
       "      <td>['Peter Marshall', 'David Manuel']</td>\n",
       "      <td>Fleming H Revell Company</td>\n",
       "      <td>['Religion']</td>\n",
       "      <td>1977</td>\n",
       "    </tr>\n",
       "    <tr>\n",
       "      <th>13546</th>\n",
       "      <td>Searchlight Nevada</td>\n",
       "      <td>['Ralph Vitale']</td>\n",
       "      <td>Northwest Pub</td>\n",
       "      <td>['Prostitution']</td>\n",
       "      <td>1995</td>\n",
       "    </tr>\n",
       "    <tr>\n",
       "      <th>114436</th>\n",
       "      <td>Julie Taymor, Playing with Fire: Theater, Oper...</td>\n",
       "      <td>['Eileen Blumenthal', 'Julie Taymor']</td>\n",
       "      <td>Harry N Abrams Incorporated</td>\n",
       "      <td>['Performing Arts']</td>\n",
       "      <td>1999</td>\n",
       "    </tr>\n",
       "  </tbody>\n",
       "</table>\n",
       "</div>"
      ],
      "text/plain": [
       "                                                    title  \\\n",
       "204907              Elvis: The Golden Anniversary Tribute   \n",
       "188418          The Business Valuation Book (With CD-ROM)   \n",
       "130034  Ten Cate's Oral Histology: Development, Struct...   \n",
       "197154                                     Jeremy Poldark   \n",
       "203297  The Impact of Awakening: Excerpts From the Tea...   \n",
       "112547                                      STORM WARNING   \n",
       "4433    Cordon of Steel: The US Navy and the Cuban Mis...   \n",
       "93903                                     Light and Glory   \n",
       "13546                                  Searchlight Nevada   \n",
       "114436  Julie Taymor, Playing with Fire: Theater, Oper...   \n",
       "\n",
       "                                      authors                    publisher  \\\n",
       "204907                     ['Richard Peters']       Salem House Publishers   \n",
       "188418                            ['Trugman']            John Wiley & Sons   \n",
       "130034                      ['Antonio Nanci']               Elsevier India   \n",
       "197154                     ['Winston Graham']            Sourcebooks, Inc.   \n",
       "203297                                    NaN                          NaN   \n",
       "112547                     ['Linda Sue Park']              Scholastic Inc.   \n",
       "4433                        ['Curtis A. Utz']      Naval Historical Center   \n",
       "93903      ['Peter Marshall', 'David Manuel']     Fleming H Revell Company   \n",
       "13546                        ['Ralph Vitale']                Northwest Pub   \n",
       "114436  ['Eileen Blumenthal', 'Julie Taymor']  Harry N Abrams Incorporated   \n",
       "\n",
       "                      categories  published_year  \n",
       "204907               ['Singers']            1984  \n",
       "188418  ['Business & Economics']            2018  \n",
       "130034                       NaN            2012  \n",
       "197154               ['Fiction']            2015  \n",
       "203297                       NaN            2013  \n",
       "112547      ['Juvenile Fiction']            2010  \n",
       "4433                 ['History']            1993  \n",
       "93903               ['Religion']            1977  \n",
       "13546           ['Prostitution']            1995  \n",
       "114436       ['Performing Arts']            1999  "
      ]
     },
     "execution_count": 20,
     "metadata": {},
     "output_type": "execute_result"
    }
   ],
   "source": [
    "df_data_processed['published_year'] = df_data_processed['published_year'].apply(lambda x: mean_published_year if x==0 else x)\n",
    "df_data_processed.sample(10)"
   ]
  },
  {
   "cell_type": "code",
   "execution_count": 21,
   "metadata": {},
   "outputs": [],
   "source": [
    "def custom_string_to_list(s):\n",
    "    if isinstance(s, str):\n",
    "        return [item.strip(\" '[]\") for item in s.split(',')]\n",
    "    else:\n",
    "        return s"
   ]
  },
  {
   "cell_type": "code",
   "execution_count": 22,
   "metadata": {},
   "outputs": [],
   "source": [
    "#Updating the Authors to a list.\n",
    "#Updating Categories to list\n",
    "df_data_processed['authors'] = df_data_processed['authors'].apply(custom_string_to_list)\n",
    "df_data_processed['categories'] = df_data_processed['categories'].apply(custom_string_to_list)"
   ]
  },
  {
   "cell_type": "code",
   "execution_count": 23,
   "metadata": {},
   "outputs": [
    {
     "data": {
      "text/html": [
       "<div>\n",
       "<style scoped>\n",
       "    .dataframe tbody tr th:only-of-type {\n",
       "        vertical-align: middle;\n",
       "    }\n",
       "\n",
       "    .dataframe tbody tr th {\n",
       "        vertical-align: top;\n",
       "    }\n",
       "\n",
       "    .dataframe thead th {\n",
       "        text-align: right;\n",
       "    }\n",
       "</style>\n",
       "<table border=\"1\" class=\"dataframe\">\n",
       "  <thead>\n",
       "    <tr style=\"text-align: right;\">\n",
       "      <th></th>\n",
       "      <th>title</th>\n",
       "      <th>authors</th>\n",
       "      <th>publisher</th>\n",
       "      <th>categories</th>\n",
       "      <th>published_year</th>\n",
       "    </tr>\n",
       "  </thead>\n",
       "  <tbody>\n",
       "    <tr>\n",
       "      <th>134060</th>\n",
       "      <td>Galois theory;: Lectures delivered at the Univ...</td>\n",
       "      <td>[Emil Artin]</td>\n",
       "      <td>Courier Corporation</td>\n",
       "      <td>[Mathematics]</td>\n",
       "      <td>2012</td>\n",
       "    </tr>\n",
       "    <tr>\n",
       "      <th>2306</th>\n",
       "      <td>The Sunday Tertulia: A Novel</td>\n",
       "      <td>[Lori Marie Carlson]</td>\n",
       "      <td>Harper Collins</td>\n",
       "      <td>[Fiction]</td>\n",
       "      <td>2009</td>\n",
       "    </tr>\n",
       "    <tr>\n",
       "      <th>49270</th>\n",
       "      <td>Suddenly They're 13</td>\n",
       "      <td>[David and Claudia Arp]</td>\n",
       "      <td>Zondervan</td>\n",
       "      <td>[Religion]</td>\n",
       "      <td>2010</td>\n",
       "    </tr>\n",
       "    <tr>\n",
       "      <th>115253</th>\n",
       "      <td>BEYOND MONSTERS AND CLOWNS. THE COMBAT SS. : D...</td>\n",
       "      <td>[Karl H. Theile]</td>\n",
       "      <td>University Press of Amer</td>\n",
       "      <td>[History]</td>\n",
       "      <td>1997</td>\n",
       "    </tr>\n",
       "    <tr>\n",
       "      <th>120696</th>\n",
       "      <td>Virginians at home: Family life in the eightee...</td>\n",
       "      <td>[Edmund Sears Morgan]</td>\n",
       "      <td>Colonial Williamsburg Foundation</td>\n",
       "      <td>[History]</td>\n",
       "      <td>1952</td>\n",
       "    </tr>\n",
       "    <tr>\n",
       "      <th>194758</th>\n",
       "      <td>Food Choice and Obesity in Black America: Crea...</td>\n",
       "      <td>[Eric J. Bailey]</td>\n",
       "      <td>Greenwood Publishing Group</td>\n",
       "      <td>[African Americans]</td>\n",
       "      <td>2006</td>\n",
       "    </tr>\n",
       "    <tr>\n",
       "      <th>10043</th>\n",
       "      <td>Lake Geneva in Vintage Postcards (WI) (Postcar...</td>\n",
       "      <td>[Carolyn Hope Smeltzer, Martha Kiefer Cucco]</td>\n",
       "      <td>Arcadia Publishing</td>\n",
       "      <td>[History]</td>\n",
       "      <td>2005</td>\n",
       "    </tr>\n",
       "    <tr>\n",
       "      <th>16651</th>\n",
       "      <td>Where Are You Going, Manyoni?</td>\n",
       "      <td>[Catherine Stock]</td>\n",
       "      <td>Harpercollins Childrens Books</td>\n",
       "      <td>[Juvenile Fiction]</td>\n",
       "      <td>1993</td>\n",
       "    </tr>\n",
       "    <tr>\n",
       "      <th>61146</th>\n",
       "      <td>Twenty One Days to a Trained Dog</td>\n",
       "      <td>[Dick Maller, Jeffrey Feinman]</td>\n",
       "      <td>Simon and Schuster</td>\n",
       "      <td>[Pets]</td>\n",
       "      <td>1979</td>\n",
       "    </tr>\n",
       "    <tr>\n",
       "      <th>55622</th>\n",
       "      <td>The German campaigns in the Balkans (spring, 1...</td>\n",
       "      <td>[George E. Blau]</td>\n",
       "      <td>NaN</td>\n",
       "      <td>[World War, 1939-1945]</td>\n",
       "      <td>1986</td>\n",
       "    </tr>\n",
       "  </tbody>\n",
       "</table>\n",
       "</div>"
      ],
      "text/plain": [
       "                                                    title  \\\n",
       "134060  Galois theory;: Lectures delivered at the Univ...   \n",
       "2306                         The Sunday Tertulia: A Novel   \n",
       "49270                                 Suddenly They're 13   \n",
       "115253  BEYOND MONSTERS AND CLOWNS. THE COMBAT SS. : D...   \n",
       "120696  Virginians at home: Family life in the eightee...   \n",
       "194758  Food Choice and Obesity in Black America: Crea...   \n",
       "10043   Lake Geneva in Vintage Postcards (WI) (Postcar...   \n",
       "16651                       Where Are You Going, Manyoni?   \n",
       "61146                    Twenty One Days to a Trained Dog   \n",
       "55622   The German campaigns in the Balkans (spring, 1...   \n",
       "\n",
       "                                             authors  \\\n",
       "134060                                  [Emil Artin]   \n",
       "2306                            [Lori Marie Carlson]   \n",
       "49270                        [David and Claudia Arp]   \n",
       "115253                              [Karl H. Theile]   \n",
       "120696                         [Edmund Sears Morgan]   \n",
       "194758                              [Eric J. Bailey]   \n",
       "10043   [Carolyn Hope Smeltzer, Martha Kiefer Cucco]   \n",
       "16651                              [Catherine Stock]   \n",
       "61146                 [Dick Maller, Jeffrey Feinman]   \n",
       "55622                               [George E. Blau]   \n",
       "\n",
       "                               publisher              categories  \\\n",
       "134060               Courier Corporation           [Mathematics]   \n",
       "2306                      Harper Collins               [Fiction]   \n",
       "49270                          Zondervan              [Religion]   \n",
       "115253          University Press of Amer               [History]   \n",
       "120696  Colonial Williamsburg Foundation               [History]   \n",
       "194758        Greenwood Publishing Group     [African Americans]   \n",
       "10043                 Arcadia Publishing               [History]   \n",
       "16651      Harpercollins Childrens Books      [Juvenile Fiction]   \n",
       "61146                 Simon and Schuster                  [Pets]   \n",
       "55622                                NaN  [World War, 1939-1945]   \n",
       "\n",
       "        published_year  \n",
       "134060            2012  \n",
       "2306              2009  \n",
       "49270             2010  \n",
       "115253            1997  \n",
       "120696            1952  \n",
       "194758            2006  \n",
       "10043             2005  \n",
       "16651             1993  \n",
       "61146             1979  \n",
       "55622             1986  "
      ]
     },
     "execution_count": 23,
     "metadata": {},
     "output_type": "execute_result"
    }
   ],
   "source": [
    "df_data_processed.sample(10, random_state=20)"
   ]
  },
  {
   "cell_type": "code",
   "execution_count": 24,
   "metadata": {},
   "outputs": [
    {
     "data": {
      "text/html": [
       "<div>\n",
       "<style scoped>\n",
       "    .dataframe tbody tr th:only-of-type {\n",
       "        vertical-align: middle;\n",
       "    }\n",
       "\n",
       "    .dataframe tbody tr th {\n",
       "        vertical-align: top;\n",
       "    }\n",
       "\n",
       "    .dataframe thead th {\n",
       "        text-align: right;\n",
       "    }\n",
       "</style>\n",
       "<table border=\"1\" class=\"dataframe\">\n",
       "  <thead>\n",
       "    <tr style=\"text-align: right;\">\n",
       "      <th></th>\n",
       "      <th>title</th>\n",
       "      <th>helpfulness</th>\n",
       "      <th>review</th>\n",
       "      <th>review_time</th>\n",
       "      <th>text</th>\n",
       "    </tr>\n",
       "  </thead>\n",
       "  <tbody>\n",
       "    <tr>\n",
       "      <th>1572261</th>\n",
       "      <td>Assassin's Apprentice</td>\n",
       "      <td>0/0</td>\n",
       "      <td>5.0</td>\n",
       "      <td>1271376000</td>\n",
       "      <td>I've only recently begun to read fiction and f...</td>\n",
       "    </tr>\n",
       "    <tr>\n",
       "      <th>1786797</th>\n",
       "      <td>Return to Mars (Bookcassette(r) Edition)</td>\n",
       "      <td>4/4</td>\n",
       "      <td>5.0</td>\n",
       "      <td>959731200</td>\n",
       "      <td>Jamie Waterman gets a chance to go back to the...</td>\n",
       "    </tr>\n",
       "    <tr>\n",
       "      <th>1536006</th>\n",
       "      <td>Cold Mountain A Novel</td>\n",
       "      <td>0/0</td>\n",
       "      <td>5.0</td>\n",
       "      <td>885254400</td>\n",
       "      <td>I grew up in the area where this story takes p...</td>\n",
       "    </tr>\n",
       "    <tr>\n",
       "      <th>621543</th>\n",
       "      <td>KILLER SMILE</td>\n",
       "      <td>0/0</td>\n",
       "      <td>4.0</td>\n",
       "      <td>1336003200</td>\n",
       "      <td>Mary is a blonde bombshell lawyer with the car...</td>\n",
       "    </tr>\n",
       "    <tr>\n",
       "      <th>834147</th>\n",
       "      <td>Triumph of Hope : From Theresienstadt and Ausc...</td>\n",
       "      <td>1/1</td>\n",
       "      <td>5.0</td>\n",
       "      <td>1091664000</td>\n",
       "      <td>I finished reading Triumph of Hope this mornin...</td>\n",
       "    </tr>\n",
       "  </tbody>\n",
       "</table>\n",
       "</div>"
      ],
      "text/plain": [
       "                                                     title helpfulness  \\\n",
       "1572261                              Assassin's Apprentice         0/0   \n",
       "1786797           Return to Mars (Bookcassette(r) Edition)         4/4   \n",
       "1536006                              Cold Mountain A Novel         0/0   \n",
       "621543                                        KILLER SMILE         0/0   \n",
       "834147   Triumph of Hope : From Theresienstadt and Ausc...         1/1   \n",
       "\n",
       "         review  review_time  \\\n",
       "1572261     5.0   1271376000   \n",
       "1786797     5.0    959731200   \n",
       "1536006     5.0    885254400   \n",
       "621543      4.0   1336003200   \n",
       "834147      5.0   1091664000   \n",
       "\n",
       "                                                      text  \n",
       "1572261  I've only recently begun to read fiction and f...  \n",
       "1786797  Jamie Waterman gets a chance to go back to the...  \n",
       "1536006  I grew up in the area where this story takes p...  \n",
       "621543   Mary is a blonde bombshell lawyer with the car...  \n",
       "834147   I finished reading Triumph of Hope this mornin...  "
      ]
     },
     "execution_count": 24,
     "metadata": {},
     "output_type": "execute_result"
    }
   ],
   "source": [
    "df_rating_processed.sample(5)"
   ]
  },
  {
   "cell_type": "code",
   "execution_count": 25,
   "metadata": {},
   "outputs": [],
   "source": [
    "# CLEANING DATA FOR REVIEWS DATASET\n",
    "df_rating_processed['review_year'] = df_rating_processed['review_time'].apply(lambda x: datetime.utcfromtimestamp(x).year)\n",
    "\n",
    "df_rating_processed = df_rating_processed.drop(['review_time'], axis=1)"
   ]
  },
  {
   "cell_type": "code",
   "execution_count": 26,
   "metadata": {},
   "outputs": [
    {
     "data": {
      "text/html": [
       "<div>\n",
       "<style scoped>\n",
       "    .dataframe tbody tr th:only-of-type {\n",
       "        vertical-align: middle;\n",
       "    }\n",
       "\n",
       "    .dataframe tbody tr th {\n",
       "        vertical-align: top;\n",
       "    }\n",
       "\n",
       "    .dataframe thead th {\n",
       "        text-align: right;\n",
       "    }\n",
       "</style>\n",
       "<table border=\"1\" class=\"dataframe\">\n",
       "  <thead>\n",
       "    <tr style=\"text-align: right;\">\n",
       "      <th></th>\n",
       "      <th>title</th>\n",
       "      <th>helpfulness</th>\n",
       "      <th>review</th>\n",
       "      <th>text</th>\n",
       "      <th>review_year</th>\n",
       "    </tr>\n",
       "  </thead>\n",
       "  <tbody>\n",
       "    <tr>\n",
       "      <th>1962620</th>\n",
       "      <td>Wuthering Heights (College classics in English)</td>\n",
       "      <td>0/0</td>\n",
       "      <td>5.0</td>\n",
       "      <td>As with most people interested in classic lite...</td>\n",
       "      <td>2011</td>\n",
       "    </tr>\n",
       "    <tr>\n",
       "      <th>1888246</th>\n",
       "      <td>The everlasting man (A Doubleday Image book)</td>\n",
       "      <td>24/25</td>\n",
       "      <td>1.0</td>\n",
       "      <td>While Chesterton is truly a monumental figure,...</td>\n",
       "      <td>2009</td>\n",
       "    </tr>\n",
       "    <tr>\n",
       "      <th>2689113</th>\n",
       "      <td>Thailand Handbook (Thailand Handbook, 2nd ed)</td>\n",
       "      <td>0/0</td>\n",
       "      <td>5.0</td>\n",
       "      <td>I strongly recommend this travel guide over se...</td>\n",
       "      <td>1998</td>\n",
       "    </tr>\n",
       "    <tr>\n",
       "      <th>566576</th>\n",
       "      <td>Adventures of Huckleberry Finn (Simple English)</td>\n",
       "      <td>0/0</td>\n",
       "      <td>5.0</td>\n",
       "      <td>This book has inspired me for so many years. I...</td>\n",
       "      <td>2011</td>\n",
       "    </tr>\n",
       "    <tr>\n",
       "      <th>269754</th>\n",
       "      <td>Uglies (Uglies Trilogy, Book 1)</td>\n",
       "      <td>0/0</td>\n",
       "      <td>4.0</td>\n",
       "      <td>This book has an amazing plot and will keep yo...</td>\n",
       "      <td>2012</td>\n",
       "    </tr>\n",
       "    <tr>\n",
       "      <th>1482453</th>\n",
       "      <td>The Deputy</td>\n",
       "      <td>11/17</td>\n",
       "      <td>5.0</td>\n",
       "      <td>No literary work about the holocaust has so mu...</td>\n",
       "      <td>1999</td>\n",
       "    </tr>\n",
       "    <tr>\n",
       "      <th>1760942</th>\n",
       "      <td>Night and Day</td>\n",
       "      <td>0/2</td>\n",
       "      <td>3.0</td>\n",
       "      <td>I have always enjoyed the works of Robert Park...</td>\n",
       "      <td>2012</td>\n",
       "    </tr>\n",
       "    <tr>\n",
       "      <th>2614840</th>\n",
       "      <td>Jutland: The German Perspective (Cassell Milit...</td>\n",
       "      <td>3/3</td>\n",
       "      <td>4.0</td>\n",
       "      <td>This book earns its stars through being great ...</td>\n",
       "      <td>2004</td>\n",
       "    </tr>\n",
       "    <tr>\n",
       "      <th>1895187</th>\n",
       "      <td>Toronto City Guide</td>\n",
       "      <td>2/9</td>\n",
       "      <td>5.0</td>\n",
       "      <td>I was so glad to have this book on my trip!</td>\n",
       "      <td>2002</td>\n",
       "    </tr>\n",
       "    <tr>\n",
       "      <th>1248189</th>\n",
       "      <td>Chief!</td>\n",
       "      <td>0/0</td>\n",
       "      <td>5.0</td>\n",
       "      <td>I read the book knowing that Al Seedman had a ...</td>\n",
       "      <td>2012</td>\n",
       "    </tr>\n",
       "  </tbody>\n",
       "</table>\n",
       "</div>"
      ],
      "text/plain": [
       "                                                     title helpfulness  \\\n",
       "1962620    Wuthering Heights (College classics in English)         0/0   \n",
       "1888246       The everlasting man (A Doubleday Image book)       24/25   \n",
       "2689113      Thailand Handbook (Thailand Handbook, 2nd ed)         0/0   \n",
       "566576     Adventures of Huckleberry Finn (Simple English)         0/0   \n",
       "269754                     Uglies (Uglies Trilogy, Book 1)         0/0   \n",
       "1482453                                         The Deputy       11/17   \n",
       "1760942                                      Night and Day         0/2   \n",
       "2614840  Jutland: The German Perspective (Cassell Milit...         3/3   \n",
       "1895187                                 Toronto City Guide         2/9   \n",
       "1248189                                             Chief!         0/0   \n",
       "\n",
       "         review                                               text  \\\n",
       "1962620     5.0  As with most people interested in classic lite...   \n",
       "1888246     1.0  While Chesterton is truly a monumental figure,...   \n",
       "2689113     5.0  I strongly recommend this travel guide over se...   \n",
       "566576      5.0  This book has inspired me for so many years. I...   \n",
       "269754      4.0  This book has an amazing plot and will keep yo...   \n",
       "1482453     5.0  No literary work about the holocaust has so mu...   \n",
       "1760942     3.0  I have always enjoyed the works of Robert Park...   \n",
       "2614840     4.0  This book earns its stars through being great ...   \n",
       "1895187     5.0        I was so glad to have this book on my trip!   \n",
       "1248189     5.0  I read the book knowing that Al Seedman had a ...   \n",
       "\n",
       "         review_year  \n",
       "1962620         2011  \n",
       "1888246         2009  \n",
       "2689113         1998  \n",
       "566576          2011  \n",
       "269754          2012  \n",
       "1482453         1999  \n",
       "1760942         2012  \n",
       "2614840         2004  \n",
       "1895187         2002  \n",
       "1248189         2012  "
      ]
     },
     "execution_count": 26,
     "metadata": {},
     "output_type": "execute_result"
    }
   ],
   "source": [
    "df_rating_processed.sample(10)"
   ]
  },
  {
   "cell_type": "code",
   "execution_count": 27,
   "metadata": {},
   "outputs": [],
   "source": [
    "#Changing helpfulness to a porcentual value\n",
    "def get_helpfulness_as_porcentual_value_0(x):\n",
    "    if  x == '0/0':\n",
    "        return 0\n",
    "    elif x.split('/')[0] == '0':\n",
    "        return 0\n",
    "    else:\n",
    "        dividend = int(x.split('/')[0])\n",
    "        divisor = int(x.split('/')[1])\n",
    "        return dividend/divisor\n",
    "    \n",
    "def get_helpfulness_as_porcentual_value_1(x):\n",
    "    if  x == '0/0':\n",
    "        return 1\n",
    "    elif x.split('/')[0] == '0':\n",
    "        return 0\n",
    "    else:\n",
    "        dividend = int(x.split('/')[0])\n",
    "        divisor = int(x.split('/')[1])\n",
    "        return dividend/divisor"
   ]
  },
  {
   "cell_type": "code",
   "execution_count": 28,
   "metadata": {},
   "outputs": [],
   "source": [
    "df_rating_processed['helpfulness_0'] = df_rating_processed['helpfulness'].apply(lambda x: get_helpfulness_as_porcentual_value_0(x))\n",
    "df_rating_processed['helpfulness_1'] = df_rating_processed['helpfulness'].apply(lambda x: get_helpfulness_as_porcentual_value_1(x))\n",
    "df_rating_processed = df_rating_processed.drop(['helpfulness'], axis=1)"
   ]
  },
  {
   "cell_type": "code",
   "execution_count": 29,
   "metadata": {},
   "outputs": [
    {
     "data": {
      "text/html": [
       "<div>\n",
       "<style scoped>\n",
       "    .dataframe tbody tr th:only-of-type {\n",
       "        vertical-align: middle;\n",
       "    }\n",
       "\n",
       "    .dataframe tbody tr th {\n",
       "        vertical-align: top;\n",
       "    }\n",
       "\n",
       "    .dataframe thead th {\n",
       "        text-align: right;\n",
       "    }\n",
       "</style>\n",
       "<table border=\"1\" class=\"dataframe\">\n",
       "  <thead>\n",
       "    <tr style=\"text-align: right;\">\n",
       "      <th></th>\n",
       "      <th>title</th>\n",
       "      <th>review</th>\n",
       "      <th>text</th>\n",
       "      <th>review_year</th>\n",
       "      <th>helpfulness_0</th>\n",
       "      <th>helpfulness_1</th>\n",
       "    </tr>\n",
       "  </thead>\n",
       "  <tbody>\n",
       "    <tr>\n",
       "      <th>846202</th>\n",
       "      <td>America Entertains: A Year of Imaginative Parties</td>\n",
       "      <td>5.0</td>\n",
       "      <td>WOW, WOW, WOW! I just received my copy of the ...</td>\n",
       "      <td>2003</td>\n",
       "      <td>0.875000</td>\n",
       "      <td>0.875000</td>\n",
       "    </tr>\n",
       "    <tr>\n",
       "      <th>14180</th>\n",
       "      <td>Present Concerns</td>\n",
       "      <td>5.0</td>\n",
       "      <td>I do not own this book, and am not reviewing i...</td>\n",
       "      <td>2005</td>\n",
       "      <td>0.636364</td>\n",
       "      <td>0.636364</td>\n",
       "    </tr>\n",
       "    <tr>\n",
       "      <th>974890</th>\n",
       "      <td>The Screwtape letters</td>\n",
       "      <td>4.0</td>\n",
       "      <td>The Screwtape Letters is a short work of relig...</td>\n",
       "      <td>2006</td>\n",
       "      <td>1.000000</td>\n",
       "      <td>1.000000</td>\n",
       "    </tr>\n",
       "    <tr>\n",
       "      <th>2634311</th>\n",
       "      <td>100 Simple Ways to Become a More Inspired, Suc...</td>\n",
       "      <td>5.0</td>\n",
       "      <td>I keep this book on my desk, along with Elemen...</td>\n",
       "      <td>2004</td>\n",
       "      <td>0.000000</td>\n",
       "      <td>1.000000</td>\n",
       "    </tr>\n",
       "    <tr>\n",
       "      <th>334956</th>\n",
       "      <td>How Can I Keep From Singing: Pete Seeger</td>\n",
       "      <td>5.0</td>\n",
       "      <td>PETE SEEGER WAS MY FIRST POLITICAL HERO. HIS M...</td>\n",
       "      <td>2006</td>\n",
       "      <td>0.900000</td>\n",
       "      <td>0.900000</td>\n",
       "    </tr>\n",
       "    <tr>\n",
       "      <th>1706371</th>\n",
       "      <td>Sunshine</td>\n",
       "      <td>5.0</td>\n",
       "      <td>This is an incredible work. The voice of the m...</td>\n",
       "      <td>2006</td>\n",
       "      <td>1.000000</td>\n",
       "      <td>1.000000</td>\n",
       "    </tr>\n",
       "    <tr>\n",
       "      <th>2042775</th>\n",
       "      <td>Dreams (Unabridged Classics in Audio)</td>\n",
       "      <td>4.0</td>\n",
       "      <td>In a letter to his confidant and friend, Wilhe...</td>\n",
       "      <td>2002</td>\n",
       "      <td>0.800000</td>\n",
       "      <td>0.800000</td>\n",
       "    </tr>\n",
       "    <tr>\n",
       "      <th>263297</th>\n",
       "      <td>The Notebook</td>\n",
       "      <td>3.0</td>\n",
       "      <td>Another case where I have read the book after ...</td>\n",
       "      <td>2011</td>\n",
       "      <td>0.000000</td>\n",
       "      <td>1.000000</td>\n",
       "    </tr>\n",
       "    <tr>\n",
       "      <th>2228702</th>\n",
       "      <td>Ubik (The Gregg Press science fiction series)</td>\n",
       "      <td>5.0</td>\n",
       "      <td>Come on, Queenie from Phil. This is PKD at his...</td>\n",
       "      <td>1998</td>\n",
       "      <td>0.000000</td>\n",
       "      <td>1.000000</td>\n",
       "    </tr>\n",
       "    <tr>\n",
       "      <th>1453788</th>\n",
       "      <td>Murder, My Suite (Bed-And-Breakfast Mysteries)</td>\n",
       "      <td>4.0</td>\n",
       "      <td>Quick, easy reads. But be sure to read every w...</td>\n",
       "      <td>2012</td>\n",
       "      <td>0.000000</td>\n",
       "      <td>1.000000</td>\n",
       "    </tr>\n",
       "  </tbody>\n",
       "</table>\n",
       "</div>"
      ],
      "text/plain": [
       "                                                     title  review  \\\n",
       "846202   America Entertains: A Year of Imaginative Parties     5.0   \n",
       "14180                                     Present Concerns     5.0   \n",
       "974890                               The Screwtape letters     4.0   \n",
       "2634311  100 Simple Ways to Become a More Inspired, Suc...     5.0   \n",
       "334956            How Can I Keep From Singing: Pete Seeger     5.0   \n",
       "1706371                                           Sunshine     5.0   \n",
       "2042775              Dreams (Unabridged Classics in Audio)     4.0   \n",
       "263297                                        The Notebook     3.0   \n",
       "2228702      Ubik (The Gregg Press science fiction series)     5.0   \n",
       "1453788     Murder, My Suite (Bed-And-Breakfast Mysteries)     4.0   \n",
       "\n",
       "                                                      text  review_year  \\\n",
       "846202   WOW, WOW, WOW! I just received my copy of the ...         2003   \n",
       "14180    I do not own this book, and am not reviewing i...         2005   \n",
       "974890   The Screwtape Letters is a short work of relig...         2006   \n",
       "2634311  I keep this book on my desk, along with Elemen...         2004   \n",
       "334956   PETE SEEGER WAS MY FIRST POLITICAL HERO. HIS M...         2006   \n",
       "1706371  This is an incredible work. The voice of the m...         2006   \n",
       "2042775  In a letter to his confidant and friend, Wilhe...         2002   \n",
       "263297   Another case where I have read the book after ...         2011   \n",
       "2228702  Come on, Queenie from Phil. This is PKD at his...         1998   \n",
       "1453788  Quick, easy reads. But be sure to read every w...         2012   \n",
       "\n",
       "         helpfulness_0  helpfulness_1  \n",
       "846202        0.875000       0.875000  \n",
       "14180         0.636364       0.636364  \n",
       "974890        1.000000       1.000000  \n",
       "2634311       0.000000       1.000000  \n",
       "334956        0.900000       0.900000  \n",
       "1706371       1.000000       1.000000  \n",
       "2042775       0.800000       0.800000  \n",
       "263297        0.000000       1.000000  \n",
       "2228702       0.000000       1.000000  \n",
       "1453788       0.000000       1.000000  "
      ]
     },
     "execution_count": 29,
     "metadata": {},
     "output_type": "execute_result"
    }
   ],
   "source": [
    "df_rating_processed.sample(10)"
   ]
  },
  {
   "cell_type": "code",
   "execution_count": 30,
   "metadata": {},
   "outputs": [
    {
     "name": "stdout",
     "output_type": "stream",
     "text": [
      "<class 'pandas.core.frame.DataFrame'>\n",
      "RangeIndex: 2666314 entries, 0 to 2666313\n",
      "Data columns (total 10 columns):\n",
      " #   Column          Dtype  \n",
      "---  ------          -----  \n",
      " 0   title           object \n",
      " 1   review          float64\n",
      " 2   text            object \n",
      " 3   review_year     int64  \n",
      " 4   helpfulness_0   float64\n",
      " 5   helpfulness_1   float64\n",
      " 6   authors         object \n",
      " 7   publisher       object \n",
      " 8   categories      object \n",
      " 9   published_year  int64  \n",
      "dtypes: float64(3), int64(2), object(5)\n",
      "memory usage: 203.4+ MB\n"
     ]
    }
   ],
   "source": [
    "#Merge The Two Datasets.\n",
    "df_all_data_processed = pd.merge(df_rating_processed, df_data_processed, on='title', how='inner')\n",
    "df_all_data_processed.info()"
   ]
  },
  {
   "cell_type": "markdown",
   "metadata": {},
   "source": [
    "Title Feature Removal: This feature is unique for each book. And it is extremly correlated with Authors. As the same \n",
    "        book Title will always have the same author. So, authors feature is kept and Title is removed."
   ]
  },
  {
   "cell_type": "code",
   "execution_count": 31,
   "metadata": {},
   "outputs": [],
   "source": [
    "df_all_data_processed = df_all_data_processed.drop(['title'], axis=1)"
   ]
  },
  {
   "cell_type": "code",
   "execution_count": 32,
   "metadata": {},
   "outputs": [
    {
     "data": {
      "text/html": [
       "<div>\n",
       "<style scoped>\n",
       "    .dataframe tbody tr th:only-of-type {\n",
       "        vertical-align: middle;\n",
       "    }\n",
       "\n",
       "    .dataframe tbody tr th {\n",
       "        vertical-align: top;\n",
       "    }\n",
       "\n",
       "    .dataframe thead th {\n",
       "        text-align: right;\n",
       "    }\n",
       "</style>\n",
       "<table border=\"1\" class=\"dataframe\">\n",
       "  <thead>\n",
       "    <tr style=\"text-align: right;\">\n",
       "      <th></th>\n",
       "      <th>review</th>\n",
       "      <th>text</th>\n",
       "      <th>review_year</th>\n",
       "      <th>helpfulness_0</th>\n",
       "      <th>helpfulness_1</th>\n",
       "      <th>authors</th>\n",
       "      <th>publisher</th>\n",
       "      <th>categories</th>\n",
       "      <th>published_year</th>\n",
       "    </tr>\n",
       "  </thead>\n",
       "  <tbody>\n",
       "    <tr>\n",
       "      <th>84848</th>\n",
       "      <td>4.0</td>\n",
       "      <td>What fun this book was! My only complaint is t...</td>\n",
       "      <td>1999</td>\n",
       "      <td>0.000000</td>\n",
       "      <td>1.000000</td>\n",
       "      <td>[Robert B Parker]</td>\n",
       "      <td>Oldcastle Books</td>\n",
       "      <td>[Fiction]</td>\n",
       "      <td>2014</td>\n",
       "    </tr>\n",
       "    <tr>\n",
       "      <th>1061318</th>\n",
       "      <td>4.0</td>\n",
       "      <td>Tally has gone from Ugly to Pretty to dreaded ...</td>\n",
       "      <td>2011</td>\n",
       "      <td>0.000000</td>\n",
       "      <td>1.000000</td>\n",
       "      <td>[Scott Westerfeld]</td>\n",
       "      <td>Simon and Schuster</td>\n",
       "      <td>[Juvenile Fiction]</td>\n",
       "      <td>2011</td>\n",
       "    </tr>\n",
       "    <tr>\n",
       "      <th>1198743</th>\n",
       "      <td>3.0</td>\n",
       "      <td>About thirty years ago, when Spiderman and the...</td>\n",
       "      <td>2004</td>\n",
       "      <td>0.600000</td>\n",
       "      <td>0.600000</td>\n",
       "      <td>[Lee Child]</td>\n",
       "      <td>Delacorte Press</td>\n",
       "      <td>[Fiction]</td>\n",
       "      <td>2003</td>\n",
       "    </tr>\n",
       "    <tr>\n",
       "      <th>559293</th>\n",
       "      <td>5.0</td>\n",
       "      <td>I usually by hardcover, but my kids wanted thi...</td>\n",
       "      <td>2013</td>\n",
       "      <td>0.000000</td>\n",
       "      <td>1.000000</td>\n",
       "      <td>[J. R. R. Tolkien]</td>\n",
       "      <td>Mariner Books</td>\n",
       "      <td>[Juvenile Fiction]</td>\n",
       "      <td>2012</td>\n",
       "    </tr>\n",
       "    <tr>\n",
       "      <th>729539</th>\n",
       "      <td>5.0</td>\n",
       "      <td>This was a free book and it is an exciting acc...</td>\n",
       "      <td>2011</td>\n",
       "      <td>0.000000</td>\n",
       "      <td>1.000000</td>\n",
       "      <td>[Ernest Henry Shackleton Sir]</td>\n",
       "      <td>Voyageur Press</td>\n",
       "      <td>[Biography &amp; Autobiography]</td>\n",
       "      <td>2019</td>\n",
       "    </tr>\n",
       "    <tr>\n",
       "      <th>2273355</th>\n",
       "      <td>5.0</td>\n",
       "      <td>My husband gave me this book about 2 yrs ago a...</td>\n",
       "      <td>2005</td>\n",
       "      <td>1.000000</td>\n",
       "      <td>1.000000</td>\n",
       "      <td>[Nancy Owen Lewis]</td>\n",
       "      <td>University of New Mexico Press</td>\n",
       "      <td>[History]</td>\n",
       "      <td>2016</td>\n",
       "    </tr>\n",
       "    <tr>\n",
       "      <th>459488</th>\n",
       "      <td>5.0</td>\n",
       "      <td>This book is a work of art, of poetry and of e...</td>\n",
       "      <td>2013</td>\n",
       "      <td>0.000000</td>\n",
       "      <td>1.000000</td>\n",
       "      <td>[Neale Donald Walsch]</td>\n",
       "      <td>Simon and Schuster</td>\n",
       "      <td>[Family &amp; Relationships]</td>\n",
       "      <td>2007</td>\n",
       "    </tr>\n",
       "    <tr>\n",
       "      <th>1813973</th>\n",
       "      <td>5.0</td>\n",
       "      <td>Hats off to the author in his debut as a novel...</td>\n",
       "      <td>2001</td>\n",
       "      <td>0.857143</td>\n",
       "      <td>0.857143</td>\n",
       "      <td>NaN</td>\n",
       "      <td>Ronald Reed Jackson</td>\n",
       "      <td>[Interplanetary voyages]</td>\n",
       "      <td>1999</td>\n",
       "    </tr>\n",
       "    <tr>\n",
       "      <th>582443</th>\n",
       "      <td>5.0</td>\n",
       "      <td>Great phrase book! I found it very useful. I b...</td>\n",
       "      <td>2012</td>\n",
       "      <td>1.000000</td>\n",
       "      <td>1.000000</td>\n",
       "      <td>[Dover Publications, Inc, Leon J. Cohen]</td>\n",
       "      <td>Courier Dover Publications</td>\n",
       "      <td>[Foreign Language Study]</td>\n",
       "      <td>1994</td>\n",
       "    </tr>\n",
       "    <tr>\n",
       "      <th>649126</th>\n",
       "      <td>3.0</td>\n",
       "      <td>Nancy Taylor Rosenberg is one of the recognize...</td>\n",
       "      <td>2002</td>\n",
       "      <td>0.000000</td>\n",
       "      <td>1.000000</td>\n",
       "      <td>[Michael Davis, Andrew Stark]</td>\n",
       "      <td>Oxford University Press</td>\n",
       "      <td>[Philosophy]</td>\n",
       "      <td>2001</td>\n",
       "    </tr>\n",
       "  </tbody>\n",
       "</table>\n",
       "</div>"
      ],
      "text/plain": [
       "         review                                               text  \\\n",
       "84848       4.0  What fun this book was! My only complaint is t...   \n",
       "1061318     4.0  Tally has gone from Ugly to Pretty to dreaded ...   \n",
       "1198743     3.0  About thirty years ago, when Spiderman and the...   \n",
       "559293      5.0  I usually by hardcover, but my kids wanted thi...   \n",
       "729539      5.0  This was a free book and it is an exciting acc...   \n",
       "2273355     5.0  My husband gave me this book about 2 yrs ago a...   \n",
       "459488      5.0  This book is a work of art, of poetry and of e...   \n",
       "1813973     5.0  Hats off to the author in his debut as a novel...   \n",
       "582443      5.0  Great phrase book! I found it very useful. I b...   \n",
       "649126      3.0  Nancy Taylor Rosenberg is one of the recognize...   \n",
       "\n",
       "         review_year  helpfulness_0  helpfulness_1  \\\n",
       "84848           1999       0.000000       1.000000   \n",
       "1061318         2011       0.000000       1.000000   \n",
       "1198743         2004       0.600000       0.600000   \n",
       "559293          2013       0.000000       1.000000   \n",
       "729539          2011       0.000000       1.000000   \n",
       "2273355         2005       1.000000       1.000000   \n",
       "459488          2013       0.000000       1.000000   \n",
       "1813973         2001       0.857143       0.857143   \n",
       "582443          2012       1.000000       1.000000   \n",
       "649126          2002       0.000000       1.000000   \n",
       "\n",
       "                                          authors  \\\n",
       "84848                           [Robert B Parker]   \n",
       "1061318                        [Scott Westerfeld]   \n",
       "1198743                               [Lee Child]   \n",
       "559293                         [J. R. R. Tolkien]   \n",
       "729539              [Ernest Henry Shackleton Sir]   \n",
       "2273355                        [Nancy Owen Lewis]   \n",
       "459488                      [Neale Donald Walsch]   \n",
       "1813973                                       NaN   \n",
       "582443   [Dover Publications, Inc, Leon J. Cohen]   \n",
       "649126              [Michael Davis, Andrew Stark]   \n",
       "\n",
       "                              publisher                   categories  \\\n",
       "84848                   Oldcastle Books                    [Fiction]   \n",
       "1061318              Simon and Schuster           [Juvenile Fiction]   \n",
       "1198743                 Delacorte Press                    [Fiction]   \n",
       "559293                    Mariner Books           [Juvenile Fiction]   \n",
       "729539                   Voyageur Press  [Biography & Autobiography]   \n",
       "2273355  University of New Mexico Press                    [History]   \n",
       "459488               Simon and Schuster     [Family & Relationships]   \n",
       "1813973             Ronald Reed Jackson     [Interplanetary voyages]   \n",
       "582443       Courier Dover Publications     [Foreign Language Study]   \n",
       "649126          Oxford University Press                 [Philosophy]   \n",
       "\n",
       "         published_year  \n",
       "84848              2014  \n",
       "1061318            2011  \n",
       "1198743            2003  \n",
       "559293             2012  \n",
       "729539             2019  \n",
       "2273355            2016  \n",
       "459488             2007  \n",
       "1813973            1999  \n",
       "582443             1994  \n",
       "649126             2001  "
      ]
     },
     "execution_count": 32,
     "metadata": {},
     "output_type": "execute_result"
    }
   ],
   "source": [
    "df_all_data_processed.sample(10)"
   ]
  },
  {
   "cell_type": "markdown",
   "metadata": {},
   "source": [
    "## Dataset Reduction/Sampling\n",
    "\n",
    "Sample Size Calculation formula from Survey Monkey (https://www.surveymonkey.com/mp/sample-size-calculator/) is used to calculate a extract a ramdom sample of the dataset.\n",
    "In order to reduce the dataset size and apply NLP to the text column.\n",
    "\n",
    "For the given formula: \n",
    "\n",
    "   $$ sample size =  \\frac{\\frac{z^2xp(1-p)}{e^2}}{1 + \\frac{z^2xp(1-p)}{e^2N}} $$\n",
    "\n",
    "with:\n",
    "- N = population size \n",
    "- e = Margin of error (percentage in decimal form) \n",
    "- z = z-score\n",
    "- p = sample proportion\n",
    "\n",
    "\n",
    "| Desired confidence level\t| z-score |\n",
    "|--------------------------|---------|\n",
    "|            80%           |   1.28  |\n",
    "|            85%\t         |   1.44  |\n",
    "|            90%\t         |   1.65  |\n",
    "|            95%\t         |   1.96  |\n",
    "|            99%\t         |   2.58  |\n",
    "\n",
    "\n",
    "Setting N = 2 666 313, e = 99% and z = 2.58\n",
    "\n",
    "sample size = 578995. \n",
    "\n",
    "A sample of **578 995** entries will be extracted from the Dataset to be processed and to train and test the model."
   ]
  },
  {
   "cell_type": "code",
   "execution_count": 33,
   "metadata": {},
   "outputs": [
    {
     "name": "stdout",
     "output_type": "stream",
     "text": [
      "Sample size is: 578995\n"
     ]
    }
   ],
   "source": [
    "N = df_all_data_processed.shape[0] - 1\n",
    "e = 0.0015 #Margin of error = 0.15%\n",
    "z = 2.58 # Desired confidence level = 99%, so z-score = 2.58\n",
    "p = 0.5 #Used 0.5 as a conservative approach. It will give the largest sample size\n",
    "\n",
    "sample_size = ( ((z*z)*p*(1-p))/(e*e) )/(1 + ((z*z)*p*(1-p))/(e*e*N) )\n",
    "\n",
    "sample_size = round(sample_size)\n",
    "\n",
    "print(f'Sample size is: {sample_size}')"
   ]
  },
  {
   "cell_type": "code",
   "execution_count": 34,
   "metadata": {},
   "outputs": [],
   "source": [
    "#Extract the sample of 578995 entries from the dataset.\n",
    "df_all_data_filtered_processed = df_all_data_processed.sample(n=sample_size, random_state=2125)"
   ]
  },
  {
   "cell_type": "code",
   "execution_count": 35,
   "metadata": {},
   "outputs": [
    {
     "name": "stdout",
     "output_type": "stream",
     "text": [
      "<class 'pandas.core.frame.DataFrame'>\n",
      "RangeIndex: 578995 entries, 0 to 578994\n",
      "Data columns (total 9 columns):\n",
      " #   Column          Non-Null Count   Dtype  \n",
      "---  ------          --------------   -----  \n",
      " 0   review          578995 non-null  float64\n",
      " 1   text            578995 non-null  object \n",
      " 2   review_year     578995 non-null  int64  \n",
      " 3   helpfulness_0   578995 non-null  float64\n",
      " 4   helpfulness_1   578995 non-null  float64\n",
      " 5   authors         566598 non-null  object \n",
      " 6   publisher       481622 non-null  object \n",
      " 7   categories      531722 non-null  object \n",
      " 8   published_year  578995 non-null  int64  \n",
      "dtypes: float64(3), int64(2), object(4)\n",
      "memory usage: 39.8+ MB\n"
     ]
    }
   ],
   "source": [
    "df_all_data_filtered_processed.reset_index(drop=True, inplace=True)\n",
    "df_all_data_filtered_processed.info()"
   ]
  },
  {
   "cell_type": "code",
   "execution_count": 36,
   "metadata": {},
   "outputs": [
    {
     "data": {
      "text/plain": [
       "review\n",
       "5.0    349011\n",
       "4.0    113195\n",
       "3.0     48855\n",
       "1.0     38541\n",
       "2.0     29393\n",
       "Name: count, dtype: int64"
      ]
     },
     "execution_count": 36,
     "metadata": {},
     "output_type": "execute_result"
    }
   ],
   "source": [
    "df_all_data_filtered_processed['review'].value_counts()"
   ]
  },
  {
   "cell_type": "code",
   "execution_count": 37,
   "metadata": {},
   "outputs": [
    {
     "data": {
      "image/png": "[encoded data removed]",
      "text/plain": [
       "<Figure size 640x480 with 1 Axes>"
      ]
     },
     "metadata": {},
     "output_type": "display_data"
    }
   ],
   "source": [
    "df_all_data_filtered_processed['review'].hist()\n",
    "plt.show()\n",
    "#Add axes."
   ]
  },
  {
   "cell_type": "code",
   "execution_count": 38,
   "metadata": {},
   "outputs": [
    {
     "data": {
      "text/plain": [
       "review                0\n",
       "text                  0\n",
       "review_year           0\n",
       "helpfulness_0         0\n",
       "helpfulness_1         0\n",
       "authors           12397\n",
       "publisher         97373\n",
       "categories        47273\n",
       "published_year        0\n",
       "dtype: int64"
      ]
     },
     "execution_count": 38,
     "metadata": {},
     "output_type": "execute_result"
    }
   ],
   "source": [
    "df_all_data_filtered_processed.isna().sum()"
   ]
  },
  {
   "cell_type": "code",
   "execution_count": 39,
   "metadata": {},
   "outputs": [
    {
     "data": {
      "text/html": [
       "<div>\n",
       "<style scoped>\n",
       "    .dataframe tbody tr th:only-of-type {\n",
       "        vertical-align: middle;\n",
       "    }\n",
       "\n",
       "    .dataframe tbody tr th {\n",
       "        vertical-align: top;\n",
       "    }\n",
       "\n",
       "    .dataframe thead th {\n",
       "        text-align: right;\n",
       "    }\n",
       "</style>\n",
       "<table border=\"1\" class=\"dataframe\">\n",
       "  <thead>\n",
       "    <tr style=\"text-align: right;\">\n",
       "      <th></th>\n",
       "      <th>review</th>\n",
       "      <th>text</th>\n",
       "      <th>review_year</th>\n",
       "      <th>helpfulness_0</th>\n",
       "      <th>helpfulness_1</th>\n",
       "      <th>authors</th>\n",
       "      <th>publisher</th>\n",
       "      <th>categories</th>\n",
       "      <th>published_year</th>\n",
       "    </tr>\n",
       "  </thead>\n",
       "  <tbody>\n",
       "    <tr>\n",
       "      <th>348488</th>\n",
       "      <td>5.0</td>\n",
       "      <td>J.R.R. Tolkien created the Lord of the Rings b...</td>\n",
       "      <td>2004</td>\n",
       "      <td>0.000000</td>\n",
       "      <td>1.000000</td>\n",
       "      <td>[J. R. R. Tolkien]</td>\n",
       "      <td>Houghton Mifflin Harcourt</td>\n",
       "      <td>[Fiction]</td>\n",
       "      <td>2013</td>\n",
       "    </tr>\n",
       "    <tr>\n",
       "      <th>543860</th>\n",
       "      <td>4.0</td>\n",
       "      <td>Frankly, I'm a bit shocked that there aren't a...</td>\n",
       "      <td>2000</td>\n",
       "      <td>0.900000</td>\n",
       "      <td>0.900000</td>\n",
       "      <td>[Bernard Rudofsky]</td>\n",
       "      <td>Houghton Mifflin Harcourt P</td>\n",
       "      <td>[Architecture]</td>\n",
       "      <td>1977</td>\n",
       "    </tr>\n",
       "    <tr>\n",
       "      <th>300920</th>\n",
       "      <td>5.0</td>\n",
       "      <td>In short, I love this book. It gels. It feels ...</td>\n",
       "      <td>2011</td>\n",
       "      <td>1.000000</td>\n",
       "      <td>1.000000</td>\n",
       "      <td>[Jon Krakauer]</td>\n",
       "      <td>Anchor</td>\n",
       "      <td>[True Crime]</td>\n",
       "      <td>2004</td>\n",
       "    </tr>\n",
       "    <tr>\n",
       "      <th>503570</th>\n",
       "      <td>4.0</td>\n",
       "      <td>The analysis of the Siemens Electric Motor Wor...</td>\n",
       "      <td>2000</td>\n",
       "      <td>1.000000</td>\n",
       "      <td>1.000000</td>\n",
       "      <td>[John K. Shank, Vijay Govindarajan]</td>\n",
       "      <td>Simon and Schuster</td>\n",
       "      <td>[Business &amp; Economics]</td>\n",
       "      <td>1993</td>\n",
       "    </tr>\n",
       "    <tr>\n",
       "      <th>379706</th>\n",
       "      <td>5.0</td>\n",
       "      <td>THIS BOOK IS THE BEST. IT SHOWS A FAMILY TRAGE...</td>\n",
       "      <td>1997</td>\n",
       "      <td>0.000000</td>\n",
       "      <td>1.000000</td>\n",
       "      <td>[Pope John Paul II]</td>\n",
       "      <td>Image</td>\n",
       "      <td>[Biography &amp; Autobiography]</td>\n",
       "      <td>1996</td>\n",
       "    </tr>\n",
       "    <tr>\n",
       "      <th>50892</th>\n",
       "      <td>5.0</td>\n",
       "      <td>I received this book as a Christmas gift. The ...</td>\n",
       "      <td>2008</td>\n",
       "      <td>0.000000</td>\n",
       "      <td>1.000000</td>\n",
       "      <td>[Nora Roberts]</td>\n",
       "      <td>Piatkus Books</td>\n",
       "      <td>[Adoptees]</td>\n",
       "      <td>2010</td>\n",
       "    </tr>\n",
       "    <tr>\n",
       "      <th>116622</th>\n",
       "      <td>5.0</td>\n",
       "      <td>Fox's translation of the Hebrew brings forth t...</td>\n",
       "      <td>1998</td>\n",
       "      <td>0.833333</td>\n",
       "      <td>0.833333</td>\n",
       "      <td>[Everett Fox]</td>\n",
       "      <td>Schocken</td>\n",
       "      <td>[Religion]</td>\n",
       "      <td>1997</td>\n",
       "    </tr>\n",
       "    <tr>\n",
       "      <th>418498</th>\n",
       "      <td>5.0</td>\n",
       "      <td>To start off with, THIS BOOK IS AWSOME!!!!! An...</td>\n",
       "      <td>2004</td>\n",
       "      <td>1.000000</td>\n",
       "      <td>1.000000</td>\n",
       "      <td>[J. R. R. Tolkien]</td>\n",
       "      <td>Houghton Mifflin Harcourt</td>\n",
       "      <td>[Fiction]</td>\n",
       "      <td>2013</td>\n",
       "    </tr>\n",
       "    <tr>\n",
       "      <th>68186</th>\n",
       "      <td>5.0</td>\n",
       "      <td>Not much is left to say about Jonathan Franzen...</td>\n",
       "      <td>2003</td>\n",
       "      <td>0.750000</td>\n",
       "      <td>0.750000</td>\n",
       "      <td>[Jonathan Franzen]</td>\n",
       "      <td>Macmillan</td>\n",
       "      <td>[Fiction]</td>\n",
       "      <td>2001</td>\n",
       "    </tr>\n",
       "    <tr>\n",
       "      <th>398134</th>\n",
       "      <td>5.0</td>\n",
       "      <td>An excellent read. I really liked Deja Dead, b...</td>\n",
       "      <td>1999</td>\n",
       "      <td>0.000000</td>\n",
       "      <td>0.000000</td>\n",
       "      <td>[Kathy Reichs]</td>\n",
       "      <td>Simon and Schuster</td>\n",
       "      <td>[Fiction]</td>\n",
       "      <td>2015</td>\n",
       "    </tr>\n",
       "  </tbody>\n",
       "</table>\n",
       "</div>"
      ],
      "text/plain": [
       "        review                                               text  \\\n",
       "348488     5.0  J.R.R. Tolkien created the Lord of the Rings b...   \n",
       "543860     4.0  Frankly, I'm a bit shocked that there aren't a...   \n",
       "300920     5.0  In short, I love this book. It gels. It feels ...   \n",
       "503570     4.0  The analysis of the Siemens Electric Motor Wor...   \n",
       "379706     5.0  THIS BOOK IS THE BEST. IT SHOWS A FAMILY TRAGE...   \n",
       "50892      5.0  I received this book as a Christmas gift. The ...   \n",
       "116622     5.0  Fox's translation of the Hebrew brings forth t...   \n",
       "418498     5.0  To start off with, THIS BOOK IS AWSOME!!!!! An...   \n",
       "68186      5.0  Not much is left to say about Jonathan Franzen...   \n",
       "398134     5.0  An excellent read. I really liked Deja Dead, b...   \n",
       "\n",
       "        review_year  helpfulness_0  helpfulness_1  \\\n",
       "348488         2004       0.000000       1.000000   \n",
       "543860         2000       0.900000       0.900000   \n",
       "300920         2011       1.000000       1.000000   \n",
       "503570         2000       1.000000       1.000000   \n",
       "379706         1997       0.000000       1.000000   \n",
       "50892          2008       0.000000       1.000000   \n",
       "116622         1998       0.833333       0.833333   \n",
       "418498         2004       1.000000       1.000000   \n",
       "68186          2003       0.750000       0.750000   \n",
       "398134         1999       0.000000       0.000000   \n",
       "\n",
       "                                    authors                    publisher  \\\n",
       "348488                   [J. R. R. Tolkien]    Houghton Mifflin Harcourt   \n",
       "543860                   [Bernard Rudofsky]  Houghton Mifflin Harcourt P   \n",
       "300920                       [Jon Krakauer]                       Anchor   \n",
       "503570  [John K. Shank, Vijay Govindarajan]           Simon and Schuster   \n",
       "379706                  [Pope John Paul II]                        Image   \n",
       "50892                        [Nora Roberts]                Piatkus Books   \n",
       "116622                        [Everett Fox]                     Schocken   \n",
       "418498                   [J. R. R. Tolkien]    Houghton Mifflin Harcourt   \n",
       "68186                    [Jonathan Franzen]                    Macmillan   \n",
       "398134                       [Kathy Reichs]           Simon and Schuster   \n",
       "\n",
       "                         categories  published_year  \n",
       "348488                    [Fiction]            2013  \n",
       "543860               [Architecture]            1977  \n",
       "300920                 [True Crime]            2004  \n",
       "503570       [Business & Economics]            1993  \n",
       "379706  [Biography & Autobiography]            1996  \n",
       "50892                    [Adoptees]            2010  \n",
       "116622                   [Religion]            1997  \n",
       "418498                    [Fiction]            2013  \n",
       "68186                     [Fiction]            2001  \n",
       "398134                    [Fiction]            2015  "
      ]
     },
     "execution_count": 39,
     "metadata": {},
     "output_type": "execute_result"
    }
   ],
   "source": [
    "df_all_data_filtered_processed.sample(10)"
   ]
  },
  {
   "cell_type": "code",
   "execution_count": 40,
   "metadata": {},
   "outputs": [
    {
     "name": "stdout",
     "output_type": "stream",
     "text": [
      "<class 'pandas.core.frame.DataFrame'>\n",
      "RangeIndex: 502046 entries, 0 to 502045\n",
      "Data columns (total 9 columns):\n",
      " #   Column          Non-Null Count   Dtype  \n",
      "---  ------          --------------   -----  \n",
      " 0   review          502046 non-null  float64\n",
      " 1   text            502046 non-null  object \n",
      " 2   review_year     502046 non-null  int64  \n",
      " 3   helpfulness_0   502046 non-null  float64\n",
      " 4   helpfulness_1   502046 non-null  float64\n",
      " 5   authors         490973 non-null  object \n",
      " 6   publisher       420055 non-null  object \n",
      " 7   categories      467215 non-null  object \n",
      " 8   published_year  502046 non-null  int64  \n",
      "dtypes: float64(3), int64(2), object(4)\n",
      "memory usage: 34.5+ MB\n"
     ]
    }
   ],
   "source": [
    "df_all_data_filtered_processed = df_all_data_filtered_processed.drop_duplicates(subset=['review', 'text'])\n",
    "df_all_data_filtered_processed.reset_index(drop=True, inplace=True)\n",
    "df_all_data_filtered_processed.info()"
   ]
  },
  {
   "cell_type": "code",
   "execution_count": 41,
   "metadata": {},
   "outputs": [
    {
     "data": {
      "text/html": [
       "<div>\n",
       "<style scoped>\n",
       "    .dataframe tbody tr th:only-of-type {\n",
       "        vertical-align: middle;\n",
       "    }\n",
       "\n",
       "    .dataframe tbody tr th {\n",
       "        vertical-align: top;\n",
       "    }\n",
       "\n",
       "    .dataframe thead th {\n",
       "        text-align: right;\n",
       "    }\n",
       "</style>\n",
       "<table border=\"1\" class=\"dataframe\">\n",
       "  <thead>\n",
       "    <tr style=\"text-align: right;\">\n",
       "      <th></th>\n",
       "      <th>review</th>\n",
       "      <th>text</th>\n",
       "      <th>review_year</th>\n",
       "      <th>helpfulness_0</th>\n",
       "      <th>helpfulness_1</th>\n",
       "      <th>authors</th>\n",
       "      <th>publisher</th>\n",
       "      <th>categories</th>\n",
       "      <th>published_year</th>\n",
       "    </tr>\n",
       "  </thead>\n",
       "  <tbody>\n",
       "    <tr>\n",
       "      <th>493805</th>\n",
       "      <td>5.0</td>\n",
       "      <td>After finishing it, I picked it up and re-read...</td>\n",
       "      <td>2006</td>\n",
       "      <td>0.500000</td>\n",
       "      <td>0.500000</td>\n",
       "      <td>[Marilynne Robinson]</td>\n",
       "      <td>Farrar, Straus and Giroux</td>\n",
       "      <td>[Fiction]</td>\n",
       "      <td>2020</td>\n",
       "    </tr>\n",
       "    <tr>\n",
       "      <th>63952</th>\n",
       "      <td>5.0</td>\n",
       "      <td>I see a compliment to the power of Ayn Rand's ...</td>\n",
       "      <td>2005</td>\n",
       "      <td>0.680000</td>\n",
       "      <td>0.680000</td>\n",
       "      <td>[Ayn Rand]</td>\n",
       "      <td>Penguin Modern Classics</td>\n",
       "      <td>[Architects]</td>\n",
       "      <td>2007</td>\n",
       "    </tr>\n",
       "    <tr>\n",
       "      <th>416923</th>\n",
       "      <td>1.0</td>\n",
       "      <td>This book is mythologically inaccurate, sexist...</td>\n",
       "      <td>1997</td>\n",
       "      <td>0.000000</td>\n",
       "      <td>0.000000</td>\n",
       "      <td>[Bernard Evslin]</td>\n",
       "      <td>Chelsea House</td>\n",
       "      <td>[Juvenile Nonfiction]</td>\n",
       "      <td>1987</td>\n",
       "    </tr>\n",
       "    <tr>\n",
       "      <th>396327</th>\n",
       "      <td>5.0</td>\n",
       "      <td>This book is good. If you you want to learn ba...</td>\n",
       "      <td>1999</td>\n",
       "      <td>1.000000</td>\n",
       "      <td>1.000000</td>\n",
       "      <td>[Louis Gary Lamit]</td>\n",
       "      <td>Pws Publishing Company</td>\n",
       "      <td>[Computers]</td>\n",
       "      <td>1998</td>\n",
       "    </tr>\n",
       "    <tr>\n",
       "      <th>143998</th>\n",
       "      <td>5.0</td>\n",
       "      <td>This book offers beautiful photography and use...</td>\n",
       "      <td>2007</td>\n",
       "      <td>1.000000</td>\n",
       "      <td>1.000000</td>\n",
       "      <td>[Jacques Kelly]</td>\n",
       "      <td>NaN</td>\n",
       "      <td>[Transportation]</td>\n",
       "      <td>2003</td>\n",
       "    </tr>\n",
       "    <tr>\n",
       "      <th>173498</th>\n",
       "      <td>5.0</td>\n",
       "      <td>If I only had two books to own (other than the...</td>\n",
       "      <td>2013</td>\n",
       "      <td>0.000000</td>\n",
       "      <td>1.000000</td>\n",
       "      <td>[W. Ian Thomas]</td>\n",
       "      <td>Zondervan</td>\n",
       "      <td>[Religion]</td>\n",
       "      <td>1989</td>\n",
       "    </tr>\n",
       "    <tr>\n",
       "      <th>50536</th>\n",
       "      <td>4.0</td>\n",
       "      <td>I have read many of Nancy Drew books and like ...</td>\n",
       "      <td>1999</td>\n",
       "      <td>0.750000</td>\n",
       "      <td>0.750000</td>\n",
       "      <td>[Carolyn Keene]</td>\n",
       "      <td>Penguin</td>\n",
       "      <td>[Juvenile Fiction]</td>\n",
       "      <td>1940</td>\n",
       "    </tr>\n",
       "    <tr>\n",
       "      <th>263946</th>\n",
       "      <td>4.0</td>\n",
       "      <td>Wow. Reading the first 17 reviews of this book...</td>\n",
       "      <td>2006</td>\n",
       "      <td>0.666667</td>\n",
       "      <td>0.666667</td>\n",
       "      <td>[Robi Ludwig, Matt Birkbeck]</td>\n",
       "      <td>Simon and Schuster</td>\n",
       "      <td>[True Crime]</td>\n",
       "      <td>2006</td>\n",
       "    </tr>\n",
       "    <tr>\n",
       "      <th>365570</th>\n",
       "      <td>5.0</td>\n",
       "      <td>Anthony DiDomenico 65 May 14, 1999The book I r...</td>\n",
       "      <td>1999</td>\n",
       "      <td>0.000000</td>\n",
       "      <td>1.000000</td>\n",
       "      <td>[Jerry Spinelli]</td>\n",
       "      <td>Little, Brown Books for Young Readers</td>\n",
       "      <td>[Juvenile Fiction]</td>\n",
       "      <td>2014</td>\n",
       "    </tr>\n",
       "    <tr>\n",
       "      <th>212534</th>\n",
       "      <td>5.0</td>\n",
       "      <td>Have you ever read a book where you felt like ...</td>\n",
       "      <td>2002</td>\n",
       "      <td>1.000000</td>\n",
       "      <td>1.000000</td>\n",
       "      <td>[Jess Lair]</td>\n",
       "      <td>Fawcett Books</td>\n",
       "      <td>[Self-Help]</td>\n",
       "      <td>1995</td>\n",
       "    </tr>\n",
       "  </tbody>\n",
       "</table>\n",
       "</div>"
      ],
      "text/plain": [
       "        review                                               text  \\\n",
       "493805     5.0  After finishing it, I picked it up and re-read...   \n",
       "63952      5.0  I see a compliment to the power of Ayn Rand's ...   \n",
       "416923     1.0  This book is mythologically inaccurate, sexist...   \n",
       "396327     5.0  This book is good. If you you want to learn ba...   \n",
       "143998     5.0  This book offers beautiful photography and use...   \n",
       "173498     5.0  If I only had two books to own (other than the...   \n",
       "50536      4.0  I have read many of Nancy Drew books and like ...   \n",
       "263946     4.0  Wow. Reading the first 17 reviews of this book...   \n",
       "365570     5.0  Anthony DiDomenico 65 May 14, 1999The book I r...   \n",
       "212534     5.0  Have you ever read a book where you felt like ...   \n",
       "\n",
       "        review_year  helpfulness_0  helpfulness_1  \\\n",
       "493805         2006       0.500000       0.500000   \n",
       "63952          2005       0.680000       0.680000   \n",
       "416923         1997       0.000000       0.000000   \n",
       "396327         1999       1.000000       1.000000   \n",
       "143998         2007       1.000000       1.000000   \n",
       "173498         2013       0.000000       1.000000   \n",
       "50536          1999       0.750000       0.750000   \n",
       "263946         2006       0.666667       0.666667   \n",
       "365570         1999       0.000000       1.000000   \n",
       "212534         2002       1.000000       1.000000   \n",
       "\n",
       "                             authors                              publisher  \\\n",
       "493805          [Marilynne Robinson]              Farrar, Straus and Giroux   \n",
       "63952                     [Ayn Rand]                Penguin Modern Classics   \n",
       "416923              [Bernard Evslin]                          Chelsea House   \n",
       "396327            [Louis Gary Lamit]                 Pws Publishing Company   \n",
       "143998               [Jacques Kelly]                                    NaN   \n",
       "173498               [W. Ian Thomas]                              Zondervan   \n",
       "50536                [Carolyn Keene]                                Penguin   \n",
       "263946  [Robi Ludwig, Matt Birkbeck]                     Simon and Schuster   \n",
       "365570              [Jerry Spinelli]  Little, Brown Books for Young Readers   \n",
       "212534                   [Jess Lair]                          Fawcett Books   \n",
       "\n",
       "                   categories  published_year  \n",
       "493805              [Fiction]            2020  \n",
       "63952            [Architects]            2007  \n",
       "416923  [Juvenile Nonfiction]            1987  \n",
       "396327            [Computers]            1998  \n",
       "143998       [Transportation]            2003  \n",
       "173498             [Religion]            1989  \n",
       "50536      [Juvenile Fiction]            1940  \n",
       "263946           [True Crime]            2006  \n",
       "365570     [Juvenile Fiction]            2014  \n",
       "212534            [Self-Help]            1995  "
      ]
     },
     "execution_count": 41,
     "metadata": {},
     "output_type": "execute_result"
    }
   ],
   "source": [
    "df_all_data_filtered_processed.sample(10)"
   ]
  },
  {
   "cell_type": "markdown",
   "metadata": {},
   "source": [
    "# Initial EDA and Final Preprocesing"
   ]
  },
  {
   "cell_type": "markdown",
   "metadata": {},
   "source": [
    "## Helpfulness Column"
   ]
  },
  {
   "cell_type": "markdown",
   "metadata": {},
   "source": [
    "### Removing Outliers"
   ]
  },
  {
   "cell_type": "markdown",
   "metadata": {},
   "source": [
    "Porcentual helpfulness variable values should be between 0 and 1. Outliers are remove as they are just 2 entries from the entire dataset."
   ]
  },
  {
   "cell_type": "code",
   "execution_count": 42,
   "metadata": {},
   "outputs": [
    {
     "data": {
      "text/plain": [
       "count    502046.000000\n",
       "mean          0.504319\n",
       "std           0.429890\n",
       "min           0.000000\n",
       "25%           0.000000\n",
       "50%           0.545455\n",
       "75%           1.000000\n",
       "max           2.000000\n",
       "Name: helpfulness_0, dtype: float64"
      ]
     },
     "execution_count": 42,
     "metadata": {},
     "output_type": "execute_result"
    }
   ],
   "source": [
    "df_all_data_filtered_processed['helpfulness_0'].describe().T"
   ]
  },
  {
   "cell_type": "code",
   "execution_count": 43,
   "metadata": {},
   "outputs": [
    {
     "data": {
      "text/plain": [
       "count    502046.000000\n",
       "mean          0.789840\n",
       "std           0.317517\n",
       "min           0.000000\n",
       "25%           0.666667\n",
       "50%           1.000000\n",
       "75%           1.000000\n",
       "max           2.000000\n",
       "Name: helpfulness_1, dtype: float64"
      ]
     },
     "execution_count": 43,
     "metadata": {},
     "output_type": "execute_result"
    }
   ],
   "source": [
    "df_all_data_filtered_processed['helpfulness_1'].describe().T"
   ]
  },
  {
   "cell_type": "code",
   "execution_count": 44,
   "metadata": {},
   "outputs": [
    {
     "data": {
      "text/plain": [
       "(502046, 9)"
      ]
     },
     "execution_count": 44,
     "metadata": {},
     "output_type": "execute_result"
    }
   ],
   "source": [
    "df_all_data_filtered_processed.shape"
   ]
  },
  {
   "cell_type": "code",
   "execution_count": 45,
   "metadata": {},
   "outputs": [
    {
     "data": {
      "text/plain": [
       "Series([], Name: count, dtype: int64)"
      ]
     },
     "execution_count": 45,
     "metadata": {},
     "output_type": "execute_result"
    }
   ],
   "source": [
    "df_all_data_filtered_processed = df_all_data_filtered_processed.drop(df_all_data_filtered_processed[df_all_data_filtered_processed['helpfulness_0'] == 2].index)\n",
    "df_all_data_filtered_processed[df_all_data_filtered_processed['helpfulness_0'] == 2]['helpfulness_0'].value_counts()"
   ]
  },
  {
   "cell_type": "code",
   "execution_count": 46,
   "metadata": {},
   "outputs": [],
   "source": [
    "df_all_data_filtered_processed.reset_index(drop=True, inplace=True)"
   ]
  },
  {
   "cell_type": "code",
   "execution_count": 47,
   "metadata": {},
   "outputs": [
    {
     "data": {
      "text/plain": [
       "(502044, 9)"
      ]
     },
     "execution_count": 47,
     "metadata": {},
     "output_type": "execute_result"
    }
   ],
   "source": [
    "df_all_data_filtered_processed.shape"
   ]
  },
  {
   "cell_type": "code",
   "execution_count": 48,
   "metadata": {},
   "outputs": [
    {
     "data": {
      "text/plain": [
       "count    502044.000000\n",
       "mean          0.789835\n",
       "std           0.317508\n",
       "min           0.000000\n",
       "25%           0.666667\n",
       "50%           1.000000\n",
       "75%           1.000000\n",
       "max           1.000000\n",
       "Name: helpfulness_1, dtype: float64"
      ]
     },
     "execution_count": 48,
     "metadata": {},
     "output_type": "execute_result"
    }
   ],
   "source": [
    "df_all_data_filtered_processed['helpfulness_1'].describe().T"
   ]
  },
  {
   "cell_type": "code",
   "execution_count": 49,
   "metadata": {},
   "outputs": [
    {
     "data": {
      "text/plain": [
       "count    502044.000000\n",
       "mean          0.504313\n",
       "std           0.429881\n",
       "min           0.000000\n",
       "25%           0.000000\n",
       "50%           0.545455\n",
       "75%           1.000000\n",
       "max           1.000000\n",
       "Name: helpfulness_0, dtype: float64"
      ]
     },
     "execution_count": 49,
     "metadata": {},
     "output_type": "execute_result"
    }
   ],
   "source": [
    "df_all_data_filtered_processed['helpfulness_0'].describe().T"
   ]
  },
  {
   "cell_type": "code",
   "execution_count": 50,
   "metadata": {},
   "outputs": [
    {
     "data": {
      "text/html": [
       "<style type=\"text/css\">\n",
       "#T_db25d_row0_col0, #T_db25d_row1_col1, #T_db25d_row2_col2 {\n",
       "  background-color: #08306b;\n",
       "  color: #f1f1f1;\n",
       "}\n",
       "#T_db25d_row0_col1, #T_db25d_row0_col2, #T_db25d_row2_col0 {\n",
       "  background-color: #f7fbff;\n",
       "  color: #000000;\n",
       "}\n",
       "#T_db25d_row1_col0 {\n",
       "  background-color: #c7dbef;\n",
       "  color: #000000;\n",
       "}\n",
       "#T_db25d_row1_col2 {\n",
       "  background-color: #c6dbef;\n",
       "  color: #000000;\n",
       "}\n",
       "#T_db25d_row2_col1 {\n",
       "  background-color: #f6faff;\n",
       "  color: #000000;\n",
       "}\n",
       "</style>\n",
       "<table id=\"T_db25d\">\n",
       "  <thead>\n",
       "    <tr>\n",
       "      <th class=\"blank level0\" >&nbsp;</th>\n",
       "      <th id=\"T_db25d_level0_col0\" class=\"col_heading level0 col0\" >helpfulness_0</th>\n",
       "      <th id=\"T_db25d_level0_col1\" class=\"col_heading level0 col1\" >helpfulness_1</th>\n",
       "      <th id=\"T_db25d_level0_col2\" class=\"col_heading level0 col2\" >review</th>\n",
       "    </tr>\n",
       "  </thead>\n",
       "  <tbody>\n",
       "    <tr>\n",
       "      <th id=\"T_db25d_level0_row0\" class=\"row_heading level0 row0\" >helpfulness_0</th>\n",
       "      <td id=\"T_db25d_row0_col0\" class=\"data row0 col0\" >1.000000</td>\n",
       "      <td id=\"T_db25d_row0_col1\" class=\"data row0 col1\" >0.298954</td>\n",
       "      <td id=\"T_db25d_row0_col2\" class=\"data row0 col2\" >0.067885</td>\n",
       "    </tr>\n",
       "    <tr>\n",
       "      <th id=\"T_db25d_level0_row1\" class=\"row_heading level0 row1\" >helpfulness_1</th>\n",
       "      <td id=\"T_db25d_row1_col0\" class=\"data row1 col0\" >0.298954</td>\n",
       "      <td id=\"T_db25d_row1_col1\" class=\"data row1 col1\" >1.000000</td>\n",
       "      <td id=\"T_db25d_row1_col2\" class=\"data row1 col2\" >0.302753</td>\n",
       "    </tr>\n",
       "    <tr>\n",
       "      <th id=\"T_db25d_level0_row2\" class=\"row_heading level0 row2\" >review</th>\n",
       "      <td id=\"T_db25d_row2_col0\" class=\"data row2 col0\" >0.067885</td>\n",
       "      <td id=\"T_db25d_row2_col1\" class=\"data row2 col1\" >0.302753</td>\n",
       "      <td id=\"T_db25d_row2_col2\" class=\"data row2 col2\" >1.000000</td>\n",
       "    </tr>\n",
       "  </tbody>\n",
       "</table>\n"
      ],
      "text/plain": [
       "<pandas.io.formats.style.Styler at 0x7f387c53b0a0>"
      ]
     },
     "execution_count": 50,
     "metadata": {},
     "output_type": "execute_result"
    }
   ],
   "source": [
    "#Correlation Analysis \n",
    "df_all_data_filtered_processed[['helpfulness_0','helpfulness_1','review']].corr().style.background_gradient(cmap='Blues')"
   ]
  },
  {
   "cell_type": "markdown",
   "metadata": {},
   "source": [
    "Correlation matrix shows that helpfulness_0 and helpfulness_1 are not much correlated. But helpfulness_0 and helpfulness_1 provide the same information. Based on the correlation with 'review' column, helpfulness_1 is kept and helpfulness_0 is removed. In order to avoid repeated information."
   ]
  },
  {
   "cell_type": "code",
   "execution_count": 51,
   "metadata": {},
   "outputs": [],
   "source": [
    "df_all_data_filtered_processed = df_all_data_filtered_processed.drop(['helpfulness_0'], axis=1)"
   ]
  },
  {
   "cell_type": "code",
   "execution_count": 52,
   "metadata": {},
   "outputs": [
    {
     "data": {
      "text/html": [
       "<div>\n",
       "<style scoped>\n",
       "    .dataframe tbody tr th:only-of-type {\n",
       "        vertical-align: middle;\n",
       "    }\n",
       "\n",
       "    .dataframe tbody tr th {\n",
       "        vertical-align: top;\n",
       "    }\n",
       "\n",
       "    .dataframe thead th {\n",
       "        text-align: right;\n",
       "    }\n",
       "</style>\n",
       "<table border=\"1\" class=\"dataframe\">\n",
       "  <thead>\n",
       "    <tr style=\"text-align: right;\">\n",
       "      <th></th>\n",
       "      <th>review</th>\n",
       "      <th>text</th>\n",
       "      <th>review_year</th>\n",
       "      <th>authors</th>\n",
       "      <th>publisher</th>\n",
       "      <th>categories</th>\n",
       "      <th>published_year</th>\n",
       "      <th>helpfulness</th>\n",
       "    </tr>\n",
       "  </thead>\n",
       "  <tbody>\n",
       "    <tr>\n",
       "      <th>175980</th>\n",
       "      <td>5.0</td>\n",
       "      <td>Este mundo de desorden capitalista--la realida...</td>\n",
       "      <td>2005</td>\n",
       "      <td>[Che Guevara]</td>\n",
       "      <td>NaN</td>\n",
       "      <td>[Communism]</td>\n",
       "      <td>1965</td>\n",
       "      <td>1.0</td>\n",
       "    </tr>\n",
       "    <tr>\n",
       "      <th>384745</th>\n",
       "      <td>5.0</td>\n",
       "      <td>I work in a dental office and I loved this boo...</td>\n",
       "      <td>2004</td>\n",
       "      <td>[Ed Kugler]</td>\n",
       "      <td>NaN</td>\n",
       "      <td>[Business &amp; Economics]</td>\n",
       "      <td>2002</td>\n",
       "      <td>1.0</td>\n",
       "    </tr>\n",
       "    <tr>\n",
       "      <th>449109</th>\n",
       "      <td>5.0</td>\n",
       "      <td>I read this book in three days!! I didn't have...</td>\n",
       "      <td>1998</td>\n",
       "      <td>[Livia Bitton-Jackson]</td>\n",
       "      <td>Simon and Schuster</td>\n",
       "      <td>[Young Adult Nonfiction]</td>\n",
       "      <td>2011</td>\n",
       "      <td>1.0</td>\n",
       "    </tr>\n",
       "    <tr>\n",
       "      <th>495748</th>\n",
       "      <td>5.0</td>\n",
       "      <td>Be warned: Spivak is speaking a different lang...</td>\n",
       "      <td>2010</td>\n",
       "      <td>[Michael Spivak]</td>\n",
       "      <td>Hachette UK</td>\n",
       "      <td>[Science]</td>\n",
       "      <td>1971</td>\n",
       "      <td>0.7</td>\n",
       "    </tr>\n",
       "    <tr>\n",
       "      <th>299613</th>\n",
       "      <td>5.0</td>\n",
       "      <td>To do a bit of research on our Certificate Bas...</td>\n",
       "      <td>2011</td>\n",
       "      <td>[Tim Speed, Juanita Ellis]</td>\n",
       "      <td>Elsevier</td>\n",
       "      <td>[Computers]</td>\n",
       "      <td>2003</td>\n",
       "      <td>1.0</td>\n",
       "    </tr>\n",
       "  </tbody>\n",
       "</table>\n",
       "</div>"
      ],
      "text/plain": [
       "        review                                               text  \\\n",
       "175980     5.0  Este mundo de desorden capitalista--la realida...   \n",
       "384745     5.0  I work in a dental office and I loved this boo...   \n",
       "449109     5.0  I read this book in three days!! I didn't have...   \n",
       "495748     5.0  Be warned: Spivak is speaking a different lang...   \n",
       "299613     5.0  To do a bit of research on our Certificate Bas...   \n",
       "\n",
       "        review_year                     authors           publisher  \\\n",
       "175980         2005               [Che Guevara]                 NaN   \n",
       "384745         2004                 [Ed Kugler]                 NaN   \n",
       "449109         1998      [Livia Bitton-Jackson]  Simon and Schuster   \n",
       "495748         2010            [Michael Spivak]         Hachette UK   \n",
       "299613         2011  [Tim Speed, Juanita Ellis]            Elsevier   \n",
       "\n",
       "                      categories  published_year  helpfulness  \n",
       "175980               [Communism]            1965          1.0  \n",
       "384745    [Business & Economics]            2002          1.0  \n",
       "449109  [Young Adult Nonfiction]            2011          1.0  \n",
       "495748                 [Science]            1971          0.7  \n",
       "299613               [Computers]            2003          1.0  "
      ]
     },
     "execution_count": 52,
     "metadata": {},
     "output_type": "execute_result"
    }
   ],
   "source": [
    "df_all_data_filtered_processed['helpfulness'] = df_all_data_filtered_processed['helpfulness_1']\n",
    "df_all_data_filtered_processed = df_all_data_filtered_processed.drop(['helpfulness_1'], axis=1)\n",
    "df_all_data_filtered_processed.sample(5)"
   ]
  },
  {
   "cell_type": "markdown",
   "metadata": {},
   "source": [
    "## Authors Column"
   ]
  },
  {
   "cell_type": "markdown",
   "metadata": {},
   "source": [
    "### Authors Names Standarization\n",
    "\n",
    "During the Exploratory Data Analysis it was discovered that some authors are reviewed under diferent formats of their names. Based on this, the Dataset is simplified to contain only one name format."
   ]
  },
  {
   "cell_type": "code",
   "execution_count": 53,
   "metadata": {},
   "outputs": [],
   "source": [
    "#The examples are:\n",
    "author_mapping = {\n",
    "    'John Ronald Reuel Tolkien':'J. R. R. Tolkien',\n",
    "    'J. R. R. Tolkien':'J. R. R. Tolkien',\n",
    "    'J.R.R. Tolkien':'J. R. R. Tolkien',\n",
    "    'Joseph Smith':'Joseph Smith',\n",
    "    'Joseph Smith (Jr.)':'Joseph Smith',\n",
    "    'Jr.':'Joseph Smith',\n",
    "    'Gabriel Garcia Marquez':'Gabriel Garcia Marquez',\n",
    "    'Gabriel García Márquez':'Gabriel Garcia Marquez',\n",
    "    'Charlotte Brontë':'Charlotte Brontë',\n",
    "    'Charlotte Bronte':'Charlotte Brontë',\n",
    "    'Emily Brontë':'Emily Brontë',\n",
    "    'Emily Bronte':'Emily Brontë',\n",
    "    'Joseph Smith':'Joseph Smith',\n",
    "    'Joseph Smith (Jr.)':'Joseph Smith',\n",
    "    'Jr.':'Joseph Smith'\n",
    "    }\n"
   ]
  },
  {
   "cell_type": "code",
   "execution_count": 54,
   "metadata": {},
   "outputs": [
    {
     "name": "stdout",
     "output_type": "stream",
     "text": [
      "<class 'pandas.core.frame.DataFrame'>\n",
      "RangeIndex: 502044 entries, 0 to 502043\n",
      "Data columns (total 8 columns):\n",
      " #   Column          Non-Null Count   Dtype  \n",
      "---  ------          --------------   -----  \n",
      " 0   review          502044 non-null  float64\n",
      " 1   text            502044 non-null  object \n",
      " 2   review_year     502044 non-null  int64  \n",
      " 3   authors         490971 non-null  object \n",
      " 4   publisher       420053 non-null  object \n",
      " 5   categories      467213 non-null  object \n",
      " 6   published_year  502044 non-null  int64  \n",
      " 7   helpfulness     502044 non-null  float64\n",
      "dtypes: float64(2), int64(2), object(4)\n",
      "memory usage: 30.6+ MB\n"
     ]
    }
   ],
   "source": [
    "df_all_data_filtered_processed.info()"
   ]
  },
  {
   "cell_type": "code",
   "execution_count": 55,
   "metadata": {},
   "outputs": [],
   "source": [
    "def standardize_authors(authors):\n",
    "    if isinstance(authors, list):\n",
    "        return [author_mapping.get(author, author) for author in authors]\n",
    "    else:\n",
    "        return authors  # Return the original value if it's not a list"
   ]
  },
  {
   "cell_type": "code",
   "execution_count": 56,
   "metadata": {},
   "outputs": [],
   "source": [
    "df_all_data_filtered_processed['authors'] = df_all_data_filtered_processed['authors'].apply(standardize_authors)"
   ]
  },
  {
   "cell_type": "markdown",
   "metadata": {},
   "source": [
    "### Updating the Authors Feature to Categorical, and applying Pareto Principe to reduce the quantity of authors."
   ]
  },
  {
   "cell_type": "code",
   "execution_count": 57,
   "metadata": {},
   "outputs": [
    {
     "data": {
      "text/plain": [
       "authors\n",
       "J. R. R. Tolkien         6547\n",
       "Jane Austen              2857\n",
       "Charles Dickens          2581\n",
       "John Steinbeck           2437\n",
       "J. K. Rowling            2170\n",
       "                         ... \n",
       "Campbell Soup Company       1\n",
       "Van Dyke Henry              1\n",
       "Ivan Conrad Karp            1\n",
       "Joel Anderson               1\n",
       "Frederic H. Martini         1\n",
       "Name: count, Length: 89409, dtype: int64"
      ]
     },
     "execution_count": 57,
     "metadata": {},
     "output_type": "execute_result"
    }
   ],
   "source": [
    "author_counts = df_all_data_filtered_processed['authors'].explode().value_counts()\n",
    "author_counts"
   ]
  },
  {
   "cell_type": "code",
   "execution_count": 58,
   "metadata": {},
   "outputs": [
    {
     "data": {
      "text/plain": [
       "authors\n",
       "J. R. R. Tolkien       6547\n",
       "Jane Austen            2857\n",
       "Charles Dickens        2581\n",
       "John Steinbeck         2437\n",
       "J. K. Rowling          2170\n",
       "                       ... \n",
       "Rob Scrimger              1\n",
       "Patrick J. Jung           1\n",
       "Kenichi Sawai             1\n",
       "James P. Johnston         1\n",
       "Frederic H. Martini       1\n",
       "Name: count, Length: 89409, dtype: int64"
      ]
     },
     "execution_count": 58,
     "metadata": {},
     "output_type": "execute_result"
    }
   ],
   "source": [
    "sorted_author_counts = author_counts.sort_values(ascending=False)\n",
    "sorted_author_counts"
   ]
  },
  {
   "cell_type": "code",
   "execution_count": 59,
   "metadata": {},
   "outputs": [
    {
     "data": {
      "text/plain": [
       "17881"
      ]
     },
     "execution_count": 59,
     "metadata": {},
     "output_type": "execute_result"
    }
   ],
   "source": [
    "pareto_threshold = int(0.2 * len(sorted_author_counts))\n",
    "pareto_threshold"
   ]
  },
  {
   "cell_type": "code",
   "execution_count": 60,
   "metadata": {},
   "outputs": [
    {
     "data": {
      "text/plain": [
       "Index(['J. R. R. Tolkien', 'Jane Austen', 'Charles Dickens', 'John Steinbeck',\n",
       "       'J. K. Rowling', 'Stephen King', 'Robert Jordan', 'Harper Lee',\n",
       "       'C. S. Lewis', 'Ray Bradbury',\n",
       "       ...\n",
       "       'Mary Daly', 'Edward Dolnick', 'Simon Lewis', 'Greg Rossel',\n",
       "       'Irving Shulman', 'Louis Begley', 'Allen P. Ross', 'Kerstin P. Ouellet',\n",
       "       'Steven R. Lindsay', 'Brenda Brathwaite'],\n",
       "      dtype='object', name='authors', length=17881)"
      ]
     },
     "execution_count": 60,
     "metadata": {},
     "output_type": "execute_result"
    }
   ],
   "source": [
    "top_authors = sorted_author_counts.iloc[:pareto_threshold].index\n",
    "top_authors"
   ]
  },
  {
   "cell_type": "code",
   "execution_count": 61,
   "metadata": {
    "tags": [
     "parameters"
    ]
   },
   "outputs": [
    {
     "data": {
      "text/plain": [
       "17882"
      ]
     },
     "execution_count": 61,
     "metadata": {},
     "output_type": "execute_result"
    }
   ],
   "source": [
    "df_all_data_filtered_processed['authors'] = df_all_data_filtered_processed['authors'].apply(lambda x: [author if author in top_authors else 'Other' for author in x] if isinstance(x, list) else ['Other'])\n",
    "len(df_all_data_filtered_processed['authors'].explode().unique())"
   ]
  },
  {
   "cell_type": "markdown",
   "metadata": {},
   "source": [
    "After applying Pareto Principle, there are still 17923 unique authors on the dataset. If authors is considered as a Categorical Feature, it will not have much predictive because it has a lot of Cardinality.\n",
    "\n",
    "Top 10 authors with most reviews are kept and the rest of authors are set to 'Other'. In order to keep the feature and analize the predicting power."
   ]
  },
  {
   "cell_type": "code",
   "execution_count": 62,
   "metadata": {},
   "outputs": [
    {
     "name": "stdout",
     "output_type": "stream",
     "text": [
      "<class 'pandas.core.series.Series'>\n",
      "Index: 595351 entries, 0 to 502043\n",
      "Series name: authors\n",
      "Non-Null Count   Dtype \n",
      "--------------   ----- \n",
      "595351 non-null  object\n",
      "dtypes: object(1)\n",
      "memory usage: 9.1+ MB\n"
     ]
    }
   ],
   "source": [
    "authors = df_all_data_filtered_processed['authors'].explode()\n",
    "authors.info()"
   ]
  },
  {
   "cell_type": "code",
   "execution_count": 63,
   "metadata": {},
   "outputs": [
    {
     "name": "stdout",
     "output_type": "stream",
     "text": [
      "Total of Authors: 17882\n"
     ]
    }
   ],
   "source": [
    "print(f'Total of Authors: {len(authors.unique())}')"
   ]
  },
  {
   "cell_type": "code",
   "execution_count": 64,
   "metadata": {},
   "outputs": [
    {
     "name": "stdout",
     "output_type": "stream",
     "text": [
      "Total of entries after explode authors column 595351\n"
     ]
    }
   ],
   "source": [
    "author_counts = authors.value_counts(ascending=False)\n",
    "print(f'Total of entries after explode authors column {author_counts.sum()}')"
   ]
  },
  {
   "cell_type": "code",
   "execution_count": 65,
   "metadata": {},
   "outputs": [
    {
     "data": {
      "text/plain": [
       "authors\n",
       "Other               137978\n",
       "J. R. R. Tolkien      6547\n",
       "Jane Austen           2857\n",
       "Charles Dickens       2581\n",
       "John Steinbeck        2437\n",
       "J. K. Rowling         2170\n",
       "Stephen King          2093\n",
       "Robert Jordan         1873\n",
       "Harper Lee            1848\n",
       "C. S. Lewis           1704\n",
       "Name: count, dtype: int64"
      ]
     },
     "execution_count": 65,
     "metadata": {},
     "output_type": "execute_result"
    }
   ],
   "source": [
    "top_10_authors_counts = author_counts[:10].sort_values(ascending=False)\n",
    "top_10_authors_counts"
   ]
  },
  {
   "cell_type": "code",
   "execution_count": 66,
   "metadata": {},
   "outputs": [
    {
     "data": {
      "text/plain": [
       "authors\n",
       "Ray Bradbury              1684\n",
       "Kurt Vonnegut             1652\n",
       "George Orwell             1649\n",
       "Agatha Christie           1562\n",
       "Lois Lowry                1540\n",
       "                          ... \n",
       "Bob Fitrakis                 5\n",
       "Robert J. Fitrakis           5\n",
       "Herbert Charles Corben       5\n",
       "Philip Stehle                5\n",
       "Mary Herczog                 5\n",
       "Name: count, Length: 17872, dtype: int64"
      ]
     },
     "execution_count": 66,
     "metadata": {},
     "output_type": "execute_result"
    }
   ],
   "source": [
    "other_authors_counts = author_counts[10:]\n",
    "other_authors_counts"
   ]
  },
  {
   "cell_type": "code",
   "execution_count": 67,
   "metadata": {},
   "outputs": [
    {
     "data": {
      "text/plain": [
       "10"
      ]
     },
     "execution_count": 67,
     "metadata": {},
     "output_type": "execute_result"
    }
   ],
   "source": [
    "df_all_data_filtered_processed['authors'] = df_all_data_filtered_processed['authors'].apply(lambda x: [author if author in top_10_authors_counts else 'Other' for author in x] if isinstance(x, list) else ['Other'])\n",
    "len(df_all_data_filtered_processed['authors'].explode().unique())"
   ]
  },
  {
   "cell_type": "code",
   "execution_count": 68,
   "metadata": {},
   "outputs": [
    {
     "data": {
      "text/plain": [
       "authors\n",
       "Other               571241\n",
       "J. R. R. Tolkien      6547\n",
       "Jane Austen           2857\n",
       "Charles Dickens       2581\n",
       "John Steinbeck        2437\n",
       "J. K. Rowling         2170\n",
       "Stephen King          2093\n",
       "Robert Jordan         1873\n",
       "Harper Lee            1848\n",
       "C. S. Lewis           1704\n",
       "Name: count, dtype: int64"
      ]
     },
     "execution_count": 68,
     "metadata": {},
     "output_type": "execute_result"
    }
   ],
   "source": [
    "df_all_data_filtered_processed['authors'].explode().value_counts()"
   ]
  },
  {
   "cell_type": "code",
   "execution_count": 69,
   "metadata": {},
   "outputs": [],
   "source": [
    "def remove_repeated_values(in_list):\n",
    "    unique_list = []\n",
    "    for item in in_list:\n",
    "        if item not in unique_list:\n",
    "            unique_list.append(item)\n",
    "\n",
    "    return unique_list"
   ]
  },
  {
   "cell_type": "code",
   "execution_count": 70,
   "metadata": {},
   "outputs": [
    {
     "data": {
      "text/html": [
       "<div>\n",
       "<style scoped>\n",
       "    .dataframe tbody tr th:only-of-type {\n",
       "        vertical-align: middle;\n",
       "    }\n",
       "\n",
       "    .dataframe tbody tr th {\n",
       "        vertical-align: top;\n",
       "    }\n",
       "\n",
       "    .dataframe thead th {\n",
       "        text-align: right;\n",
       "    }\n",
       "</style>\n",
       "<table border=\"1\" class=\"dataframe\">\n",
       "  <thead>\n",
       "    <tr style=\"text-align: right;\">\n",
       "      <th></th>\n",
       "      <th>review</th>\n",
       "      <th>text</th>\n",
       "      <th>review_year</th>\n",
       "      <th>authors</th>\n",
       "      <th>publisher</th>\n",
       "      <th>categories</th>\n",
       "      <th>published_year</th>\n",
       "      <th>helpfulness</th>\n",
       "    </tr>\n",
       "  </thead>\n",
       "  <tbody>\n",
       "    <tr>\n",
       "      <th>293059</th>\n",
       "      <td>5.0</td>\n",
       "      <td>Reading &amp;quot;Aint't No River&amp;quot; was a beau...</td>\n",
       "      <td>2001</td>\n",
       "      <td>[Other]</td>\n",
       "      <td>NaN</td>\n",
       "      <td>[Fiction]</td>\n",
       "      <td>2003</td>\n",
       "      <td>1.000000</td>\n",
       "    </tr>\n",
       "    <tr>\n",
       "      <th>482591</th>\n",
       "      <td>1.0</td>\n",
       "      <td>THIS TOTALLY SUCK ! DON'T BUY THIS!! HE IS STE...</td>\n",
       "      <td>2003</td>\n",
       "      <td>[Other]</td>\n",
       "      <td>Nicholas Direct Incorporated</td>\n",
       "      <td>[Business &amp; Economics]</td>\n",
       "      <td>1998</td>\n",
       "      <td>0.235294</td>\n",
       "    </tr>\n",
       "    <tr>\n",
       "      <th>216543</th>\n",
       "      <td>5.0</td>\n",
       "      <td>The combination of pure insight and Ms. Kushel...</td>\n",
       "      <td>1999</td>\n",
       "      <td>[Other, Other]</td>\n",
       "      <td>The Princeton Review</td>\n",
       "      <td>[Business &amp; Economics]</td>\n",
       "      <td>1999</td>\n",
       "      <td>0.833333</td>\n",
       "    </tr>\n",
       "    <tr>\n",
       "      <th>405672</th>\n",
       "      <td>3.0</td>\n",
       "      <td>This is a decent book touching on Gerrymanderi...</td>\n",
       "      <td>2002</td>\n",
       "      <td>[Other]</td>\n",
       "      <td>University of Chicago Press</td>\n",
       "      <td>[Political Science]</td>\n",
       "      <td>2001</td>\n",
       "      <td>0.312500</td>\n",
       "    </tr>\n",
       "    <tr>\n",
       "      <th>164802</th>\n",
       "      <td>5.0</td>\n",
       "      <td>The highly pined for MBA degree is something t...</td>\n",
       "      <td>2005</td>\n",
       "      <td>[Other, Other]</td>\n",
       "      <td>Random House Digital, Inc.</td>\n",
       "      <td>[Business &amp; Economics]</td>\n",
       "      <td>2004</td>\n",
       "      <td>0.600000</td>\n",
       "    </tr>\n",
       "  </tbody>\n",
       "</table>\n",
       "</div>"
      ],
      "text/plain": [
       "        review                                               text  \\\n",
       "293059     5.0  Reading &quot;Aint't No River&quot; was a beau...   \n",
       "482591     1.0  THIS TOTALLY SUCK ! DON'T BUY THIS!! HE IS STE...   \n",
       "216543     5.0  The combination of pure insight and Ms. Kushel...   \n",
       "405672     3.0  This is a decent book touching on Gerrymanderi...   \n",
       "164802     5.0  The highly pined for MBA degree is something t...   \n",
       "\n",
       "        review_year         authors                     publisher  \\\n",
       "293059         2001         [Other]                           NaN   \n",
       "482591         2003         [Other]  Nicholas Direct Incorporated   \n",
       "216543         1999  [Other, Other]          The Princeton Review   \n",
       "405672         2002         [Other]   University of Chicago Press   \n",
       "164802         2005  [Other, Other]    Random House Digital, Inc.   \n",
       "\n",
       "                    categories  published_year  helpfulness  \n",
       "293059               [Fiction]            2003     1.000000  \n",
       "482591  [Business & Economics]            1998     0.235294  \n",
       "216543  [Business & Economics]            1999     0.833333  \n",
       "405672     [Political Science]            2001     0.312500  \n",
       "164802  [Business & Economics]            2004     0.600000  "
      ]
     },
     "execution_count": 70,
     "metadata": {},
     "output_type": "execute_result"
    }
   ],
   "source": [
    "df_all_data_filtered_processed.sample(5, random_state=10)"
   ]
  },
  {
   "cell_type": "code",
   "execution_count": 71,
   "metadata": {},
   "outputs": [],
   "source": [
    "# Some of the authors list contains 'Other' multiple times.\n",
    "df_all_data_filtered_processed['authors'] = df_all_data_filtered_processed['authors'].apply(lambda x: remove_repeated_values(x))"
   ]
  },
  {
   "cell_type": "code",
   "execution_count": 72,
   "metadata": {},
   "outputs": [
    {
     "data": {
      "text/html": [
       "<div>\n",
       "<style scoped>\n",
       "    .dataframe tbody tr th:only-of-type {\n",
       "        vertical-align: middle;\n",
       "    }\n",
       "\n",
       "    .dataframe tbody tr th {\n",
       "        vertical-align: top;\n",
       "    }\n",
       "\n",
       "    .dataframe thead th {\n",
       "        text-align: right;\n",
       "    }\n",
       "</style>\n",
       "<table border=\"1\" class=\"dataframe\">\n",
       "  <thead>\n",
       "    <tr style=\"text-align: right;\">\n",
       "      <th></th>\n",
       "      <th>review</th>\n",
       "      <th>text</th>\n",
       "      <th>review_year</th>\n",
       "      <th>authors</th>\n",
       "      <th>publisher</th>\n",
       "      <th>categories</th>\n",
       "      <th>published_year</th>\n",
       "      <th>helpfulness</th>\n",
       "    </tr>\n",
       "  </thead>\n",
       "  <tbody>\n",
       "    <tr>\n",
       "      <th>293059</th>\n",
       "      <td>5.0</td>\n",
       "      <td>Reading &amp;quot;Aint't No River&amp;quot; was a beau...</td>\n",
       "      <td>2001</td>\n",
       "      <td>[Other]</td>\n",
       "      <td>NaN</td>\n",
       "      <td>[Fiction]</td>\n",
       "      <td>2003</td>\n",
       "      <td>1.000000</td>\n",
       "    </tr>\n",
       "    <tr>\n",
       "      <th>482591</th>\n",
       "      <td>1.0</td>\n",
       "      <td>THIS TOTALLY SUCK ! DON'T BUY THIS!! HE IS STE...</td>\n",
       "      <td>2003</td>\n",
       "      <td>[Other]</td>\n",
       "      <td>Nicholas Direct Incorporated</td>\n",
       "      <td>[Business &amp; Economics]</td>\n",
       "      <td>1998</td>\n",
       "      <td>0.235294</td>\n",
       "    </tr>\n",
       "    <tr>\n",
       "      <th>216543</th>\n",
       "      <td>5.0</td>\n",
       "      <td>The combination of pure insight and Ms. Kushel...</td>\n",
       "      <td>1999</td>\n",
       "      <td>[Other]</td>\n",
       "      <td>The Princeton Review</td>\n",
       "      <td>[Business &amp; Economics]</td>\n",
       "      <td>1999</td>\n",
       "      <td>0.833333</td>\n",
       "    </tr>\n",
       "    <tr>\n",
       "      <th>405672</th>\n",
       "      <td>3.0</td>\n",
       "      <td>This is a decent book touching on Gerrymanderi...</td>\n",
       "      <td>2002</td>\n",
       "      <td>[Other]</td>\n",
       "      <td>University of Chicago Press</td>\n",
       "      <td>[Political Science]</td>\n",
       "      <td>2001</td>\n",
       "      <td>0.312500</td>\n",
       "    </tr>\n",
       "    <tr>\n",
       "      <th>164802</th>\n",
       "      <td>5.0</td>\n",
       "      <td>The highly pined for MBA degree is something t...</td>\n",
       "      <td>2005</td>\n",
       "      <td>[Other]</td>\n",
       "      <td>Random House Digital, Inc.</td>\n",
       "      <td>[Business &amp; Economics]</td>\n",
       "      <td>2004</td>\n",
       "      <td>0.600000</td>\n",
       "    </tr>\n",
       "  </tbody>\n",
       "</table>\n",
       "</div>"
      ],
      "text/plain": [
       "        review                                               text  \\\n",
       "293059     5.0  Reading &quot;Aint't No River&quot; was a beau...   \n",
       "482591     1.0  THIS TOTALLY SUCK ! DON'T BUY THIS!! HE IS STE...   \n",
       "216543     5.0  The combination of pure insight and Ms. Kushel...   \n",
       "405672     3.0  This is a decent book touching on Gerrymanderi...   \n",
       "164802     5.0  The highly pined for MBA degree is something t...   \n",
       "\n",
       "        review_year  authors                     publisher  \\\n",
       "293059         2001  [Other]                           NaN   \n",
       "482591         2003  [Other]  Nicholas Direct Incorporated   \n",
       "216543         1999  [Other]          The Princeton Review   \n",
       "405672         2002  [Other]   University of Chicago Press   \n",
       "164802         2005  [Other]    Random House Digital, Inc.   \n",
       "\n",
       "                    categories  published_year  helpfulness  \n",
       "293059               [Fiction]            2003     1.000000  \n",
       "482591  [Business & Economics]            1998     0.235294  \n",
       "216543  [Business & Economics]            1999     0.833333  \n",
       "405672     [Political Science]            2001     0.312500  \n",
       "164802  [Business & Economics]            2004     0.600000  "
      ]
     },
     "execution_count": 72,
     "metadata": {},
     "output_type": "execute_result"
    }
   ],
   "source": [
    "df_all_data_filtered_processed.sample(5, random_state=10)"
   ]
  },
  {
   "cell_type": "code",
   "execution_count": 73,
   "metadata": {},
   "outputs": [
    {
     "data": {
      "text/plain": [
       "authors\n",
       "Other               478802\n",
       "J. R. R. Tolkien      6547\n",
       "Jane Austen           2857\n",
       "Charles Dickens       2581\n",
       "John Steinbeck        2437\n",
       "J. K. Rowling         2170\n",
       "Stephen King          2093\n",
       "Robert Jordan         1873\n",
       "Harper Lee            1848\n",
       "C. S. Lewis           1704\n",
       "Name: count, dtype: int64"
      ]
     },
     "execution_count": 73,
     "metadata": {},
     "output_type": "execute_result"
    }
   ],
   "source": [
    "df_all_data_filtered_processed['authors'].explode().value_counts()"
   ]
  },
  {
   "cell_type": "markdown",
   "metadata": {},
   "source": [
    "## Cateogories Column"
   ]
  },
  {
   "cell_type": "markdown",
   "metadata": {},
   "source": [
    "### Updating the Categories Feature to Categorical, and applying Pareto Principe to reduce the quantity of Categories."
   ]
  },
  {
   "cell_type": "code",
   "execution_count": 74,
   "metadata": {},
   "outputs": [
    {
     "data": {
      "text/plain": [
       "categories\n",
       "Fiction                         148514\n",
       "Juvenile Fiction                 38390\n",
       "Biography & Autobiography        21608\n",
       "Religion                         19505\n",
       "History                          18091\n",
       "                                 ...  \n",
       "Sales personnel                      1\n",
       "Musical intervals and scales         1\n",
       "FOREIGN LANGUAGE STUDY               1\n",
       "Nuclear submarines                   1\n",
       "Galveston (Tex.)                     1\n",
       "Name: count, Length: 6675, dtype: int64"
      ]
     },
     "execution_count": 74,
     "metadata": {},
     "output_type": "execute_result"
    }
   ],
   "source": [
    "categories_counts = df_all_data_filtered_processed['categories'].explode().value_counts()\n",
    "categories_counts"
   ]
  },
  {
   "cell_type": "code",
   "execution_count": 75,
   "metadata": {},
   "outputs": [
    {
     "data": {
      "text/plain": [
       "categories\n",
       "Fiction                        148514\n",
       "Juvenile Fiction                38390\n",
       "Biography & Autobiography       21608\n",
       "Religion                        19505\n",
       "History                         18091\n",
       "                                ...  \n",
       "Congo (Democratic Republic)         1\n",
       "Alien labor                         1\n",
       "Nuns                                1\n",
       "Communalism                         1\n",
       "Galveston (Tex.)                    1\n",
       "Name: count, Length: 6675, dtype: int64"
      ]
     },
     "execution_count": 75,
     "metadata": {},
     "output_type": "execute_result"
    }
   ],
   "source": [
    "sorted_category_counts = categories_counts.sort_values(ascending=False)\n",
    "sorted_category_counts"
   ]
  },
  {
   "cell_type": "code",
   "execution_count": 76,
   "metadata": {},
   "outputs": [
    {
     "data": {
      "text/plain": [
       "1335"
      ]
     },
     "execution_count": 76,
     "metadata": {},
     "output_type": "execute_result"
    }
   ],
   "source": [
    "pareto_threshold = int(0.2 * len(sorted_category_counts))\n",
    "pareto_threshold"
   ]
  },
  {
   "cell_type": "code",
   "execution_count": 77,
   "metadata": {},
   "outputs": [
    {
     "data": {
      "text/plain": [
       "Index(['Fiction', 'Juvenile Fiction', 'Biography & Autobiography', 'Religion',\n",
       "       'History', 'Business & Economics', 'Computers', 'Cooking',\n",
       "       'Social Science', 'Family & Relationships',\n",
       "       ...\n",
       "       'Homeric', 'Christian poetry', 'Autobiography',\n",
       "       'Star Wars: The Roleplaying Game (Game)', 'Strategic planning',\n",
       "       'African American authors', 'Hindu mathematics', 'Motorcycles',\n",
       "       'Compulsive behavior', 'Metaphysics'],\n",
       "      dtype='object', name='categories', length=1335)"
      ]
     },
     "execution_count": 77,
     "metadata": {},
     "output_type": "execute_result"
    }
   ],
   "source": [
    "top_categories = sorted_category_counts.iloc[:pareto_threshold].index\n",
    "top_categories"
   ]
  },
  {
   "cell_type": "code",
   "execution_count": 78,
   "metadata": {},
   "outputs": [
    {
     "data": {
      "text/plain": [
       "categories\n",
       "Fiction                      148514\n",
       "Other                         46618\n",
       "Juvenile Fiction              38390\n",
       "Biography & Autobiography     21608\n",
       "Religion                      19505\n",
       "                              ...  \n",
       "Sicilian Vespers                  8\n",
       "Mental illness                    8\n",
       "Anthropologists                   8\n",
       "Great Plague                      8\n",
       "Attitude (Psychology)             8\n",
       "Name: count, Length: 1336, dtype: int64"
      ]
     },
     "execution_count": 78,
     "metadata": {},
     "output_type": "execute_result"
    }
   ],
   "source": [
    "df_all_data_filtered_processed['categories'] = df_all_data_filtered_processed['categories'].apply(lambda x: [category if category in top_categories else 'Other' for category in x] if isinstance(x, list) else ['Other'])\n",
    "df_all_data_filtered_processed['categories'].explode().value_counts()"
   ]
  },
  {
   "cell_type": "markdown",
   "metadata": {},
   "source": [
    "After applying Pareto Principle, there are still 1342 unique categories on the dataset. If categories is considered as a Categorical Feature, it will not add much predictive value because it has a lot of Cardinality.\n",
    "\n",
    "Top 10 categories with most reviews are kept and the rest of categories are set to 'Other'. In order to keep the feature and analize the predicting power."
   ]
  },
  {
   "cell_type": "code",
   "execution_count": 79,
   "metadata": {},
   "outputs": [
    {
     "name": "stdout",
     "output_type": "stream",
     "text": [
      "<class 'pandas.core.series.Series'>\n",
      "Index: 514251 entries, 0 to 502043\n",
      "Series name: categories\n",
      "Non-Null Count   Dtype \n",
      "--------------   ----- \n",
      "514251 non-null  object\n",
      "dtypes: object(1)\n",
      "memory usage: 7.8+ MB\n"
     ]
    }
   ],
   "source": [
    "categories = df_all_data_filtered_processed['categories'].explode()\n",
    "categories.info()"
   ]
  },
  {
   "cell_type": "code",
   "execution_count": 80,
   "metadata": {},
   "outputs": [
    {
     "name": "stdout",
     "output_type": "stream",
     "text": [
      "Total of Categories: 1336\n"
     ]
    }
   ],
   "source": [
    "print(f'Total of Categories: {len(categories.unique())}')"
   ]
  },
  {
   "cell_type": "code",
   "execution_count": 81,
   "metadata": {},
   "outputs": [
    {
     "name": "stdout",
     "output_type": "stream",
     "text": [
      "Total of entries after explode Categories column 514251\n"
     ]
    }
   ],
   "source": [
    "categories_counts = categories.value_counts(ascending=False)\n",
    "print(f'Total of entries after explode Categories column {categories_counts.sum()}')"
   ]
  },
  {
   "cell_type": "code",
   "execution_count": 82,
   "metadata": {},
   "outputs": [
    {
     "data": {
      "text/plain": [
       "categories\n",
       "Fiction                      148514\n",
       "Other                         46618\n",
       "Juvenile Fiction              38390\n",
       "Biography & Autobiography     21608\n",
       "Religion                      19505\n",
       "History                       18091\n",
       "Business & Economics          13935\n",
       "Computers                      9140\n",
       "Cooking                        6544\n",
       "Social Science                 6363\n",
       "Name: count, dtype: int64"
      ]
     },
     "execution_count": 82,
     "metadata": {},
     "output_type": "execute_result"
    }
   ],
   "source": [
    "top_10_categories_counts = categories_counts[:10].sort_values(ascending=False)\n",
    "top_10_categories_counts"
   ]
  },
  {
   "cell_type": "code",
   "execution_count": 83,
   "metadata": {},
   "outputs": [
    {
     "data": {
      "text/plain": [
       "categories\n",
       "Family & Relationships    6126\n",
       "Self-Help                 6021\n",
       "Body                      5978\n",
       "Mind & Spirit             5975\n",
       "Juvenile Nonfiction       5922\n",
       "                          ... \n",
       "Sicilian Vespers             8\n",
       "Mental illness               8\n",
       "Anthropologists              8\n",
       "Great Plague                 8\n",
       "Attitude (Psychology)        8\n",
       "Name: count, Length: 1326, dtype: int64"
      ]
     },
     "execution_count": 83,
     "metadata": {},
     "output_type": "execute_result"
    }
   ],
   "source": [
    "other_categories_counts = categories_counts[10:]\n",
    "other_categories_counts"
   ]
  },
  {
   "cell_type": "code",
   "execution_count": 84,
   "metadata": {},
   "outputs": [
    {
     "data": {
      "text/plain": [
       "10"
      ]
     },
     "execution_count": 84,
     "metadata": {},
     "output_type": "execute_result"
    }
   ],
   "source": [
    "df_all_data_filtered_processed['categories'] = df_all_data_filtered_processed['categories'].apply(lambda x: [category if category in top_10_categories_counts else 'Other' for category in x] if isinstance(x, list) else ['Other'])\n",
    "len(df_all_data_filtered_processed['categories'].explode().unique())"
   ]
  },
  {
   "cell_type": "code",
   "execution_count": 85,
   "metadata": {},
   "outputs": [
    {
     "data": {
      "text/plain": [
       "categories\n",
       "Other                        232161\n",
       "Fiction                      148514\n",
       "Juvenile Fiction              38390\n",
       "Biography & Autobiography     21608\n",
       "Religion                      19505\n",
       "History                       18091\n",
       "Business & Economics          13935\n",
       "Computers                      9140\n",
       "Cooking                        6544\n",
       "Social Science                 6363\n",
       "Name: count, dtype: int64"
      ]
     },
     "execution_count": 85,
     "metadata": {},
     "output_type": "execute_result"
    }
   ],
   "source": [
    "df_all_data_filtered_processed['categories'].explode().value_counts()"
   ]
  },
  {
   "cell_type": "code",
   "execution_count": 86,
   "metadata": {},
   "outputs": [
    {
     "data": {
      "text/html": [
       "<div>\n",
       "<style scoped>\n",
       "    .dataframe tbody tr th:only-of-type {\n",
       "        vertical-align: middle;\n",
       "    }\n",
       "\n",
       "    .dataframe tbody tr th {\n",
       "        vertical-align: top;\n",
       "    }\n",
       "\n",
       "    .dataframe thead th {\n",
       "        text-align: right;\n",
       "    }\n",
       "</style>\n",
       "<table border=\"1\" class=\"dataframe\">\n",
       "  <thead>\n",
       "    <tr style=\"text-align: right;\">\n",
       "      <th></th>\n",
       "      <th>review</th>\n",
       "      <th>text</th>\n",
       "      <th>review_year</th>\n",
       "      <th>authors</th>\n",
       "      <th>publisher</th>\n",
       "      <th>categories</th>\n",
       "      <th>published_year</th>\n",
       "      <th>helpfulness</th>\n",
       "    </tr>\n",
       "  </thead>\n",
       "  <tbody>\n",
       "    <tr>\n",
       "      <th>131904</th>\n",
       "      <td>5.0</td>\n",
       "      <td>Some background first: I'm studying memoir as ...</td>\n",
       "      <td>2011</td>\n",
       "      <td>[Other]</td>\n",
       "      <td>Picador</td>\n",
       "      <td>[Other]</td>\n",
       "      <td>2015</td>\n",
       "      <td>0.000000</td>\n",
       "    </tr>\n",
       "    <tr>\n",
       "      <th>326762</th>\n",
       "      <td>1.0</td>\n",
       "      <td>This is a horribly printed book. The actual st...</td>\n",
       "      <td>2009</td>\n",
       "      <td>[Other]</td>\n",
       "      <td>Random House Trade Paperbacks</td>\n",
       "      <td>[Fiction]</td>\n",
       "      <td>1996</td>\n",
       "      <td>0.906977</td>\n",
       "    </tr>\n",
       "    <tr>\n",
       "      <th>343900</th>\n",
       "      <td>1.0</td>\n",
       "      <td>After reading Riptide a while back I thought I...</td>\n",
       "      <td>2004</td>\n",
       "      <td>[Other]</td>\n",
       "      <td>Penguin</td>\n",
       "      <td>[Fiction]</td>\n",
       "      <td>2005</td>\n",
       "      <td>1.000000</td>\n",
       "    </tr>\n",
       "    <tr>\n",
       "      <th>336391</th>\n",
       "      <td>5.0</td>\n",
       "      <td>This is a great marketing book. No hype and no...</td>\n",
       "      <td>2003</td>\n",
       "      <td>[Other]</td>\n",
       "      <td>Routledge</td>\n",
       "      <td>[Business &amp; Economics]</td>\n",
       "      <td>2002</td>\n",
       "      <td>1.000000</td>\n",
       "    </tr>\n",
       "    <tr>\n",
       "      <th>314424</th>\n",
       "      <td>3.0</td>\n",
       "      <td>I have used this book in my reading classes fo...</td>\n",
       "      <td>2000</td>\n",
       "      <td>[Other]</td>\n",
       "      <td>NaN</td>\n",
       "      <td>[Other]</td>\n",
       "      <td>2006</td>\n",
       "      <td>0.875000</td>\n",
       "    </tr>\n",
       "  </tbody>\n",
       "</table>\n",
       "</div>"
      ],
      "text/plain": [
       "        review                                               text  \\\n",
       "131904     5.0  Some background first: I'm studying memoir as ...   \n",
       "326762     1.0  This is a horribly printed book. The actual st...   \n",
       "343900     1.0  After reading Riptide a while back I thought I...   \n",
       "336391     5.0  This is a great marketing book. No hype and no...   \n",
       "314424     3.0  I have used this book in my reading classes fo...   \n",
       "\n",
       "        review_year  authors                      publisher  \\\n",
       "131904         2011  [Other]                        Picador   \n",
       "326762         2009  [Other]  Random House Trade Paperbacks   \n",
       "343900         2004  [Other]                        Penguin   \n",
       "336391         2003  [Other]                      Routledge   \n",
       "314424         2000  [Other]                            NaN   \n",
       "\n",
       "                    categories  published_year  helpfulness  \n",
       "131904                 [Other]            2015     0.000000  \n",
       "326762               [Fiction]            1996     0.906977  \n",
       "343900               [Fiction]            2005     1.000000  \n",
       "336391  [Business & Economics]            2002     1.000000  \n",
       "314424                 [Other]            2006     0.875000  "
      ]
     },
     "execution_count": 86,
     "metadata": {},
     "output_type": "execute_result"
    }
   ],
   "source": [
    "df_all_data_filtered_processed.sample(5, random_state=45)"
   ]
  },
  {
   "cell_type": "code",
   "execution_count": 87,
   "metadata": {},
   "outputs": [
    {
     "data": {
      "text/html": [
       "<div>\n",
       "<style scoped>\n",
       "    .dataframe tbody tr th:only-of-type {\n",
       "        vertical-align: middle;\n",
       "    }\n",
       "\n",
       "    .dataframe tbody tr th {\n",
       "        vertical-align: top;\n",
       "    }\n",
       "\n",
       "    .dataframe thead th {\n",
       "        text-align: right;\n",
       "    }\n",
       "</style>\n",
       "<table border=\"1\" class=\"dataframe\">\n",
       "  <thead>\n",
       "    <tr style=\"text-align: right;\">\n",
       "      <th></th>\n",
       "      <th>review</th>\n",
       "      <th>text</th>\n",
       "      <th>review_year</th>\n",
       "      <th>authors</th>\n",
       "      <th>publisher</th>\n",
       "      <th>categories</th>\n",
       "      <th>published_year</th>\n",
       "      <th>helpfulness</th>\n",
       "    </tr>\n",
       "  </thead>\n",
       "  <tbody>\n",
       "    <tr>\n",
       "      <th>131904</th>\n",
       "      <td>5.0</td>\n",
       "      <td>Some background first: I'm studying memoir as ...</td>\n",
       "      <td>2011</td>\n",
       "      <td>[Other]</td>\n",
       "      <td>Picador</td>\n",
       "      <td>[Other]</td>\n",
       "      <td>2015</td>\n",
       "      <td>0.000000</td>\n",
       "    </tr>\n",
       "    <tr>\n",
       "      <th>326762</th>\n",
       "      <td>1.0</td>\n",
       "      <td>This is a horribly printed book. The actual st...</td>\n",
       "      <td>2009</td>\n",
       "      <td>[Other]</td>\n",
       "      <td>Random House Trade Paperbacks</td>\n",
       "      <td>[Fiction]</td>\n",
       "      <td>1996</td>\n",
       "      <td>0.906977</td>\n",
       "    </tr>\n",
       "    <tr>\n",
       "      <th>343900</th>\n",
       "      <td>1.0</td>\n",
       "      <td>After reading Riptide a while back I thought I...</td>\n",
       "      <td>2004</td>\n",
       "      <td>[Other]</td>\n",
       "      <td>Penguin</td>\n",
       "      <td>[Fiction]</td>\n",
       "      <td>2005</td>\n",
       "      <td>1.000000</td>\n",
       "    </tr>\n",
       "    <tr>\n",
       "      <th>336391</th>\n",
       "      <td>5.0</td>\n",
       "      <td>This is a great marketing book. No hype and no...</td>\n",
       "      <td>2003</td>\n",
       "      <td>[Other]</td>\n",
       "      <td>Routledge</td>\n",
       "      <td>[Business &amp; Economics]</td>\n",
       "      <td>2002</td>\n",
       "      <td>1.000000</td>\n",
       "    </tr>\n",
       "    <tr>\n",
       "      <th>314424</th>\n",
       "      <td>3.0</td>\n",
       "      <td>I have used this book in my reading classes fo...</td>\n",
       "      <td>2000</td>\n",
       "      <td>[Other]</td>\n",
       "      <td>NaN</td>\n",
       "      <td>[Other]</td>\n",
       "      <td>2006</td>\n",
       "      <td>0.875000</td>\n",
       "    </tr>\n",
       "  </tbody>\n",
       "</table>\n",
       "</div>"
      ],
      "text/plain": [
       "        review                                               text  \\\n",
       "131904     5.0  Some background first: I'm studying memoir as ...   \n",
       "326762     1.0  This is a horribly printed book. The actual st...   \n",
       "343900     1.0  After reading Riptide a while back I thought I...   \n",
       "336391     5.0  This is a great marketing book. No hype and no...   \n",
       "314424     3.0  I have used this book in my reading classes fo...   \n",
       "\n",
       "        review_year  authors                      publisher  \\\n",
       "131904         2011  [Other]                        Picador   \n",
       "326762         2009  [Other]  Random House Trade Paperbacks   \n",
       "343900         2004  [Other]                        Penguin   \n",
       "336391         2003  [Other]                      Routledge   \n",
       "314424         2000  [Other]                            NaN   \n",
       "\n",
       "                    categories  published_year  helpfulness  \n",
       "131904                 [Other]            2015     0.000000  \n",
       "326762               [Fiction]            1996     0.906977  \n",
       "343900               [Fiction]            2005     1.000000  \n",
       "336391  [Business & Economics]            2002     1.000000  \n",
       "314424                 [Other]            2006     0.875000  "
      ]
     },
     "execution_count": 87,
     "metadata": {},
     "output_type": "execute_result"
    }
   ],
   "source": [
    "# Some of the authors list contains 'Other' multiple times.\n",
    "df_all_data_filtered_processed['categories'] = df_all_data_filtered_processed['categories'].apply(lambda x: remove_repeated_values(x))\n",
    "df_all_data_filtered_processed.sample(5, random_state=45)"
   ]
  },
  {
   "cell_type": "code",
   "execution_count": 88,
   "metadata": {},
   "outputs": [
    {
     "data": {
      "text/plain": [
       "categories\n",
       "Other                        220055\n",
       "Fiction                      148514\n",
       "Juvenile Fiction              38390\n",
       "Biography & Autobiography     21608\n",
       "Religion                      19505\n",
       "History                       18091\n",
       "Business & Economics          13935\n",
       "Computers                      9140\n",
       "Cooking                        6544\n",
       "Social Science                 6363\n",
       "Name: count, dtype: int64"
      ]
     },
     "execution_count": 88,
     "metadata": {},
     "output_type": "execute_result"
    }
   ],
   "source": [
    "df_all_data_filtered_processed['categories'].explode().value_counts()"
   ]
  },
  {
   "cell_type": "markdown",
   "metadata": {},
   "source": [
    "## Publisher Column"
   ]
  },
  {
   "cell_type": "code",
   "execution_count": 89,
   "metadata": {},
   "outputs": [
    {
     "data": {
      "text/plain": [
       "publisher\n",
       "Penguin                         25291\n",
       "Simon and Schuster              23284\n",
       "Harper Collins                  15718\n",
       "Vintage                          8116\n",
       "Random House                     7971\n",
       "                                ...  \n",
       "Squaredance Fundamentals            1\n",
       "Pearson Custom Pub                  1\n",
       "Blooming Twig Books                 1\n",
       "Oxford : Phaidon, Christie's        1\n",
       "Src Pub.                            1\n",
       "Name: count, Length: 10945, dtype: int64"
      ]
     },
     "execution_count": 89,
     "metadata": {},
     "output_type": "execute_result"
    }
   ],
   "source": [
    "publisher_counts = df_all_data_filtered_processed['publisher'].value_counts()\n",
    "publisher_counts"
   ]
  },
  {
   "cell_type": "markdown",
   "metadata": {},
   "source": [
    "### Updating the publisher Feature to Categorical, and applying Pareto Principe to reduce the quantity of publishers."
   ]
  },
  {
   "cell_type": "code",
   "execution_count": 90,
   "metadata": {},
   "outputs": [
    {
     "data": {
      "text/plain": [
       "publisher\n",
       "Penguin                               25291\n",
       "Simon and Schuster                    23284\n",
       "Harper Collins                        15718\n",
       "Vintage                                8116\n",
       "Random House                           7971\n",
       "                                      ...  \n",
       "Sawday                                    1\n",
       "Beech Tree Books                          1\n",
       "Rainbow Morning Music Alternatives        1\n",
       "Strident Publishing                       1\n",
       "Src Pub.                                  1\n",
       "Name: count, Length: 10945, dtype: int64"
      ]
     },
     "execution_count": 90,
     "metadata": {},
     "output_type": "execute_result"
    }
   ],
   "source": [
    "sorted_publisher_counts = publisher_counts.sort_values(ascending=False)\n",
    "sorted_publisher_counts"
   ]
  },
  {
   "cell_type": "code",
   "execution_count": 91,
   "metadata": {},
   "outputs": [
    {
     "data": {
      "text/plain": [
       "2189"
      ]
     },
     "execution_count": 91,
     "metadata": {},
     "output_type": "execute_result"
    }
   ],
   "source": [
    "pareto_threshold = int(0.2 * len(sorted_publisher_counts))\n",
    "pareto_threshold"
   ]
  },
  {
   "cell_type": "code",
   "execution_count": 92,
   "metadata": {},
   "outputs": [
    {
     "data": {
      "text/plain": [
       "Index(['Penguin', 'Simon and Schuster', 'Harper Collins', 'Vintage',\n",
       "       'Random House', 'Macmillan', 'Houghton Mifflin Harcourt', 'Bantam',\n",
       "       'HarperCollins', 'John Wiley & Sons',\n",
       "       ...\n",
       "       'World Scientific Publishing Company', 'Prestel Pub',\n",
       "       'McSweeneys Books', 'Financial Times/Prentice Hall', 'M J F Books',\n",
       "       'Laurence King Publishing', 'Marshall Cavendish',\n",
       "       'Sky Publishing Corporation', 'MDPI', 'I.B. Tauris'],\n",
       "      dtype='object', name='publisher', length=2189)"
      ]
     },
     "execution_count": 92,
     "metadata": {},
     "output_type": "execute_result"
    }
   ],
   "source": [
    "top_publishers = sorted_publisher_counts.iloc[:pareto_threshold].index\n",
    "top_publishers"
   ]
  },
  {
   "cell_type": "code",
   "execution_count": 93,
   "metadata": {},
   "outputs": [
    {
     "data": {
      "text/plain": [
       "publisher\n",
       "Other                               110339\n",
       "Penguin                              25291\n",
       "Simon and Schuster                   23284\n",
       "Harper Collins                       15718\n",
       "Vintage                               8116\n",
       "                                     ...  \n",
       "Laurence Holt Books Incorporated        14\n",
       "Phoenix Publishing (WA)                 14\n",
       "Lothian Children's Books                14\n",
       "Haynes Publishing UK                    14\n",
       "Berklee PressPublications               14\n",
       "Name: count, Length: 2190, dtype: int64"
      ]
     },
     "execution_count": 93,
     "metadata": {},
     "output_type": "execute_result"
    }
   ],
   "source": [
    "df_all_data_filtered_processed['publisher'] = df_all_data_filtered_processed['publisher'].apply(lambda publisher: publisher if publisher in top_publishers else 'Other')\n",
    "df_all_data_filtered_processed['publisher'].value_counts()"
   ]
  },
  {
   "cell_type": "markdown",
   "metadata": {},
   "source": [
    "After applying Pareto Principle, there are still 2194 unique publishers on the dataset. If publishers is considered as a Categorical Feature, it will not add much predictive value because it has a lot of Cardinality.\n",
    "\n",
    "Top 10 publishers with most reviews are kept and the rest of publishers are set to 'Other'. In order to keep the feature and analize the predicting power."
   ]
  },
  {
   "cell_type": "code",
   "execution_count": 94,
   "metadata": {},
   "outputs": [
    {
     "name": "stdout",
     "output_type": "stream",
     "text": [
      "<class 'pandas.core.series.Series'>\n",
      "RangeIndex: 502044 entries, 0 to 502043\n",
      "Series name: publisher\n",
      "Non-Null Count   Dtype \n",
      "--------------   ----- \n",
      "502044 non-null  object\n",
      "dtypes: object(1)\n",
      "memory usage: 3.8+ MB\n"
     ]
    }
   ],
   "source": [
    "publishers = df_all_data_filtered_processed['publisher']\n",
    "publishers.info()"
   ]
  },
  {
   "cell_type": "code",
   "execution_count": 95,
   "metadata": {},
   "outputs": [
    {
     "name": "stdout",
     "output_type": "stream",
     "text": [
      "Total of Publishers: 2190\n"
     ]
    }
   ],
   "source": [
    "print(f'Total of Publishers: {len(publishers.unique())}')"
   ]
  },
  {
   "cell_type": "code",
   "execution_count": 96,
   "metadata": {},
   "outputs": [
    {
     "data": {
      "text/plain": [
       "publisher\n",
       "Other                               110339\n",
       "Penguin                              25291\n",
       "Simon and Schuster                   23284\n",
       "Harper Collins                       15718\n",
       "Vintage                               8116\n",
       "                                     ...  \n",
       "Laurence Holt Books Incorporated        14\n",
       "Phoenix Publishing (WA)                 14\n",
       "Lothian Children's Books                14\n",
       "Haynes Publishing UK                    14\n",
       "Berklee PressPublications               14\n",
       "Name: count, Length: 2190, dtype: int64"
      ]
     },
     "execution_count": 96,
     "metadata": {},
     "output_type": "execute_result"
    }
   ],
   "source": [
    "publisher_counts = publishers.value_counts(ascending=False)\n",
    "publisher_counts"
   ]
  },
  {
   "cell_type": "code",
   "execution_count": 97,
   "metadata": {},
   "outputs": [
    {
     "data": {
      "text/plain": [
       "publisher\n",
       "Other                        110339\n",
       "Penguin                       25291\n",
       "Simon and Schuster            23284\n",
       "Harper Collins                15718\n",
       "Vintage                        8116\n",
       "Random House                   7971\n",
       "Macmillan                      5971\n",
       "Houghton Mifflin Harcourt      5096\n",
       "Bantam                         4831\n",
       "HarperCollins                  4789\n",
       "Name: count, dtype: int64"
      ]
     },
     "execution_count": 97,
     "metadata": {},
     "output_type": "execute_result"
    }
   ],
   "source": [
    "top_10_publishers_counts = publisher_counts[:10].sort_values(ascending=False)\n",
    "top_10_publishers_counts"
   ]
  },
  {
   "cell_type": "code",
   "execution_count": 98,
   "metadata": {},
   "outputs": [
    {
     "data": {
      "text/plain": [
       "publisher\n",
       "John Wiley & Sons                   4775\n",
       "Courier Corporation                 4392\n",
       "Hachette UK                         4286\n",
       "Penguin UK                          4092\n",
       "Ballantine Books                    3522\n",
       "                                    ... \n",
       "Laurence Holt Books Incorporated      14\n",
       "Phoenix Publishing (WA)               14\n",
       "Lothian Children's Books              14\n",
       "Haynes Publishing UK                  14\n",
       "Berklee PressPublications             14\n",
       "Name: count, Length: 2180, dtype: int64"
      ]
     },
     "execution_count": 98,
     "metadata": {},
     "output_type": "execute_result"
    }
   ],
   "source": [
    "other_publishers_counts = publisher_counts[10:]\n",
    "other_publishers_counts"
   ]
  },
  {
   "cell_type": "code",
   "execution_count": 99,
   "metadata": {},
   "outputs": [
    {
     "data": {
      "text/plain": [
       "10"
      ]
     },
     "execution_count": 99,
     "metadata": {},
     "output_type": "execute_result"
    }
   ],
   "source": [
    "df_all_data_filtered_processed['publisher'] = df_all_data_filtered_processed['publisher'].apply(lambda publisher: publisher if publisher in top_10_publishers_counts else 'Other')\n",
    "len(df_all_data_filtered_processed['publisher'].unique())"
   ]
  },
  {
   "cell_type": "code",
   "execution_count": 100,
   "metadata": {},
   "outputs": [
    {
     "data": {
      "text/plain": [
       "publisher\n",
       "Other                        400977\n",
       "Penguin                       25291\n",
       "Simon and Schuster            23284\n",
       "Harper Collins                15718\n",
       "Vintage                        8116\n",
       "Random House                   7971\n",
       "Macmillan                      5971\n",
       "Houghton Mifflin Harcourt      5096\n",
       "Bantam                         4831\n",
       "HarperCollins                  4789\n",
       "Name: count, dtype: int64"
      ]
     },
     "execution_count": 100,
     "metadata": {},
     "output_type": "execute_result"
    }
   ],
   "source": [
    "df_all_data_filtered_processed['publisher'].value_counts()"
   ]
  },
  {
   "cell_type": "code",
   "execution_count": 101,
   "metadata": {},
   "outputs": [
    {
     "data": {
      "text/html": [
       "<div>\n",
       "<style scoped>\n",
       "    .dataframe tbody tr th:only-of-type {\n",
       "        vertical-align: middle;\n",
       "    }\n",
       "\n",
       "    .dataframe tbody tr th {\n",
       "        vertical-align: top;\n",
       "    }\n",
       "\n",
       "    .dataframe thead th {\n",
       "        text-align: right;\n",
       "    }\n",
       "</style>\n",
       "<table border=\"1\" class=\"dataframe\">\n",
       "  <thead>\n",
       "    <tr style=\"text-align: right;\">\n",
       "      <th></th>\n",
       "      <th>review</th>\n",
       "      <th>text</th>\n",
       "      <th>review_year</th>\n",
       "      <th>authors</th>\n",
       "      <th>publisher</th>\n",
       "      <th>categories</th>\n",
       "      <th>published_year</th>\n",
       "      <th>helpfulness</th>\n",
       "    </tr>\n",
       "  </thead>\n",
       "  <tbody>\n",
       "    <tr>\n",
       "      <th>123275</th>\n",
       "      <td>5.0</td>\n",
       "      <td>I received a hip injury at work that retired m...</td>\n",
       "      <td>2010</td>\n",
       "      <td>[Other]</td>\n",
       "      <td>Other</td>\n",
       "      <td>[Other]</td>\n",
       "      <td>1999</td>\n",
       "      <td>1.000000</td>\n",
       "    </tr>\n",
       "    <tr>\n",
       "      <th>32211</th>\n",
       "      <td>4.0</td>\n",
       "      <td>I read this book because it was quoted in the ...</td>\n",
       "      <td>2012</td>\n",
       "      <td>[Other]</td>\n",
       "      <td>Penguin</td>\n",
       "      <td>[Fiction]</td>\n",
       "      <td>2003</td>\n",
       "      <td>1.000000</td>\n",
       "    </tr>\n",
       "    <tr>\n",
       "      <th>498320</th>\n",
       "      <td>1.0</td>\n",
       "      <td>At first glance the book seems like a 'neutral...</td>\n",
       "      <td>2011</td>\n",
       "      <td>[Other]</td>\n",
       "      <td>Other</td>\n",
       "      <td>[Other]</td>\n",
       "      <td>2022</td>\n",
       "      <td>0.368421</td>\n",
       "    </tr>\n",
       "    <tr>\n",
       "      <th>205848</th>\n",
       "      <td>1.0</td>\n",
       "      <td>This was the first book I read by this author,...</td>\n",
       "      <td>2003</td>\n",
       "      <td>[Other]</td>\n",
       "      <td>Other</td>\n",
       "      <td>[Fiction]</td>\n",
       "      <td>2014</td>\n",
       "      <td>0.500000</td>\n",
       "    </tr>\n",
       "    <tr>\n",
       "      <th>250861</th>\n",
       "      <td>5.0</td>\n",
       "      <td>Read this book in under 2 Hours...stopping her...</td>\n",
       "      <td>2011</td>\n",
       "      <td>[Other]</td>\n",
       "      <td>Other</td>\n",
       "      <td>[Fiction]</td>\n",
       "      <td>2006</td>\n",
       "      <td>1.000000</td>\n",
       "    </tr>\n",
       "    <tr>\n",
       "      <th>249851</th>\n",
       "      <td>5.0</td>\n",
       "      <td>This is the book to choose if you would like t...</td>\n",
       "      <td>2012</td>\n",
       "      <td>[Charles Dickens]</td>\n",
       "      <td>Other</td>\n",
       "      <td>[Other]</td>\n",
       "      <td>2012</td>\n",
       "      <td>1.000000</td>\n",
       "    </tr>\n",
       "    <tr>\n",
       "      <th>96316</th>\n",
       "      <td>4.0</td>\n",
       "      <td>This in a very good book about a group of men ...</td>\n",
       "      <td>2002</td>\n",
       "      <td>[Other]</td>\n",
       "      <td>Other</td>\n",
       "      <td>[Fiction]</td>\n",
       "      <td>2014</td>\n",
       "      <td>1.000000</td>\n",
       "    </tr>\n",
       "    <tr>\n",
       "      <th>65730</th>\n",
       "      <td>4.0</td>\n",
       "      <td>For decades now, San Francisco theatregoers ha...</td>\n",
       "      <td>2005</td>\n",
       "      <td>[Other]</td>\n",
       "      <td>Other</td>\n",
       "      <td>[Juvenile Fiction]</td>\n",
       "      <td>2018</td>\n",
       "      <td>1.000000</td>\n",
       "    </tr>\n",
       "    <tr>\n",
       "      <th>136770</th>\n",
       "      <td>2.0</td>\n",
       "      <td>A Seperate made me think about what really hap...</td>\n",
       "      <td>1999</td>\n",
       "      <td>[Other]</td>\n",
       "      <td>Other</td>\n",
       "      <td>[Fiction]</td>\n",
       "      <td>2003</td>\n",
       "      <td>1.000000</td>\n",
       "    </tr>\n",
       "    <tr>\n",
       "      <th>179317</th>\n",
       "      <td>5.0</td>\n",
       "      <td>Jeff Strong has put together a wonderful book ...</td>\n",
       "      <td>2002</td>\n",
       "      <td>[Other]</td>\n",
       "      <td>Other</td>\n",
       "      <td>[Other]</td>\n",
       "      <td>2020</td>\n",
       "      <td>1.000000</td>\n",
       "    </tr>\n",
       "  </tbody>\n",
       "</table>\n",
       "</div>"
      ],
      "text/plain": [
       "        review                                               text  \\\n",
       "123275     5.0  I received a hip injury at work that retired m...   \n",
       "32211      4.0  I read this book because it was quoted in the ...   \n",
       "498320     1.0  At first glance the book seems like a 'neutral...   \n",
       "205848     1.0  This was the first book I read by this author,...   \n",
       "250861     5.0  Read this book in under 2 Hours...stopping her...   \n",
       "249851     5.0  This is the book to choose if you would like t...   \n",
       "96316      4.0  This in a very good book about a group of men ...   \n",
       "65730      4.0  For decades now, San Francisco theatregoers ha...   \n",
       "136770     2.0  A Seperate made me think about what really hap...   \n",
       "179317     5.0  Jeff Strong has put together a wonderful book ...   \n",
       "\n",
       "        review_year            authors publisher          categories  \\\n",
       "123275         2010            [Other]     Other             [Other]   \n",
       "32211          2012            [Other]   Penguin           [Fiction]   \n",
       "498320         2011            [Other]     Other             [Other]   \n",
       "205848         2003            [Other]     Other           [Fiction]   \n",
       "250861         2011            [Other]     Other           [Fiction]   \n",
       "249851         2012  [Charles Dickens]     Other             [Other]   \n",
       "96316          2002            [Other]     Other           [Fiction]   \n",
       "65730          2005            [Other]     Other  [Juvenile Fiction]   \n",
       "136770         1999            [Other]     Other           [Fiction]   \n",
       "179317         2002            [Other]     Other             [Other]   \n",
       "\n",
       "        published_year  helpfulness  \n",
       "123275            1999     1.000000  \n",
       "32211             2003     1.000000  \n",
       "498320            2022     0.368421  \n",
       "205848            2014     0.500000  \n",
       "250861            2006     1.000000  \n",
       "249851            2012     1.000000  \n",
       "96316             2014     1.000000  \n",
       "65730             2018     1.000000  \n",
       "136770            2003     1.000000  \n",
       "179317            2020     1.000000  "
      ]
     },
     "execution_count": 101,
     "metadata": {},
     "output_type": "execute_result"
    }
   ],
   "source": [
    "df_all_data_filtered_processed.sample(10)"
   ]
  },
  {
   "cell_type": "markdown",
   "metadata": {},
   "source": [
    "# Processed Datasets Saving"
   ]
  },
  {
   "cell_type": "code",
   "execution_count": 102,
   "metadata": {},
   "outputs": [
    {
     "name": "stdout",
     "output_type": "stream",
     "text": [
      "<class 'pandas.core.frame.DataFrame'>\n",
      "RangeIndex: 502044 entries, 0 to 502043\n",
      "Data columns (total 9 columns):\n",
      " #   Column          Non-Null Count   Dtype  \n",
      "---  ------          --------------   -----  \n",
      " 0   index           502044 non-null  int64  \n",
      " 1   review          502044 non-null  float64\n",
      " 2   text            502044 non-null  object \n",
      " 3   review_year     502044 non-null  int64  \n",
      " 4   authors         502044 non-null  object \n",
      " 5   publisher       502044 non-null  object \n",
      " 6   categories      502044 non-null  object \n",
      " 7   published_year  502044 non-null  int64  \n",
      " 8   helpfulness     502044 non-null  float64\n",
      "dtypes: float64(2), int64(3), object(4)\n",
      "memory usage: 34.5+ MB\n"
     ]
    }
   ],
   "source": [
    "df_all_data_filtered_processed = df_all_data_filtered_processed.reset_index()\n",
    "df_all_data_filtered_processed.info()"
   ]
  },
  {
   "cell_type": "code",
   "execution_count": 103,
   "metadata": {},
   "outputs": [
    {
     "data": {
      "text/html": [
       "<div>\n",
       "<style scoped>\n",
       "    .dataframe tbody tr th:only-of-type {\n",
       "        vertical-align: middle;\n",
       "    }\n",
       "\n",
       "    .dataframe tbody tr th {\n",
       "        vertical-align: top;\n",
       "    }\n",
       "\n",
       "    .dataframe thead th {\n",
       "        text-align: right;\n",
       "    }\n",
       "</style>\n",
       "<table border=\"1\" class=\"dataframe\">\n",
       "  <thead>\n",
       "    <tr style=\"text-align: right;\">\n",
       "      <th></th>\n",
       "      <th>num_row</th>\n",
       "      <th>text</th>\n",
       "    </tr>\n",
       "  </thead>\n",
       "  <tbody>\n",
       "    <tr>\n",
       "      <th>46542</th>\n",
       "      <td>46542</td>\n",
       "      <td>As a reader, this book was shockingly fantasti...</td>\n",
       "    </tr>\n",
       "    <tr>\n",
       "      <th>301125</th>\n",
       "      <td>301125</td>\n",
       "      <td>I first read Dawn's Early Light and the other ...</td>\n",
       "    </tr>\n",
       "    <tr>\n",
       "      <th>431568</th>\n",
       "      <td>431568</td>\n",
       "      <td>As with \"The Tipping Point,\" Malcolm Gladwell ...</td>\n",
       "    </tr>\n",
       "    <tr>\n",
       "      <th>358191</th>\n",
       "      <td>358191</td>\n",
       "      <td>Eric Newby is really one of the greatest and w...</td>\n",
       "    </tr>\n",
       "    <tr>\n",
       "      <th>185260</th>\n",
       "      <td>185260</td>\n",
       "      <td>Arthur Miller's return to the stage after a br...</td>\n",
       "    </tr>\n",
       "    <tr>\n",
       "      <th>297198</th>\n",
       "      <td>297198</td>\n",
       "      <td>John Cleese does an excellent job as the voice...</td>\n",
       "    </tr>\n",
       "    <tr>\n",
       "      <th>70737</th>\n",
       "      <td>70737</td>\n",
       "      <td>The book by David Kenik has a lot of great poi...</td>\n",
       "    </tr>\n",
       "    <tr>\n",
       "      <th>26625</th>\n",
       "      <td>26625</td>\n",
       "      <td>20,000 leagues under the sea is a ok book if y...</td>\n",
       "    </tr>\n",
       "    <tr>\n",
       "      <th>36134</th>\n",
       "      <td>36134</td>\n",
       "      <td>Of all of the books by Jane Austen this was my...</td>\n",
       "    </tr>\n",
       "    <tr>\n",
       "      <th>348981</th>\n",
       "      <td>348981</td>\n",
       "      <td>I enjoyed the storyline but not the plot. You ...</td>\n",
       "    </tr>\n",
       "  </tbody>\n",
       "</table>\n",
       "</div>"
      ],
      "text/plain": [
       "        num_row                                               text\n",
       "46542     46542  As a reader, this book was shockingly fantasti...\n",
       "301125   301125  I first read Dawn's Early Light and the other ...\n",
       "431568   431568  As with \"The Tipping Point,\" Malcolm Gladwell ...\n",
       "358191   358191  Eric Newby is really one of the greatest and w...\n",
       "185260   185260  Arthur Miller's return to the stage after a br...\n",
       "297198   297198  John Cleese does an excellent job as the voice...\n",
       "70737     70737  The book by David Kenik has a lot of great poi...\n",
       "26625     26625  20,000 leagues under the sea is a ok book if y...\n",
       "36134     36134  Of all of the books by Jane Austen this was my...\n",
       "348981   348981  I enjoyed the storyline but not the plot. You ..."
      ]
     },
     "execution_count": 103,
     "metadata": {},
     "output_type": "execute_result"
    }
   ],
   "source": [
    "#A reduced Dataset is created to process Text Column and Apply sentiment Analysis.\n",
    "df_all_data_filtered_processed['num_row'] = np.arange(len(df_all_data_filtered_processed))\n",
    "\n",
    "df_reduced = df_all_data_filtered_processed[['num_row', 'text']].copy()\n",
    "\n",
    "df_reduced.sample(10)"
   ]
  },
  {
   "cell_type": "code",
   "execution_count": 104,
   "metadata": {},
   "outputs": [],
   "source": [
    "df_all_data_filtered_processed.to_csv('../data/processed/filtered_data_processed.csv')"
   ]
  },
  {
   "cell_type": "code",
   "execution_count": 105,
   "metadata": {},
   "outputs": [],
   "source": [
    "df_reduced.to_csv('../data/processed/df_reduced.csv')"
   ]
  }
 ],
 "metadata": {
  "kernelspec": {
   "display_name": ".venv",
   "language": "python",
   "name": "python3"
  },
  "language_info": {
   "codemirror_mode": {
    "name": "ipython",
    "version": 3
   },
   "file_extension": ".py",
   "mimetype": "text/x-python",
   "name": "python",
   "nbconvert_exporter": "python",
   "pygments_lexer": "ipython3",
   "version": "3.8.10"
  }
 },
 "nbformat": 4,
 "nbformat_minor": 2
}
