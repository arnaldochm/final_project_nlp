{
 "cells": [
  {
   "cell_type": "code",
   "execution_count": 1,
   "metadata": {},
   "outputs": [],
   "source": [
    "# Dataset: Amazon Books Reviews\n",
    "# Author: Mohamed Bekheet\n",
    "# Source: Mohamed Bekheet. (2022). Amazon Books Reviews [Data set]. Kaggle. https://www.kaggle.com/datasets/mohamedbakhet/amazon-books-reviews\n",
    "# URL: https://www.kaggle.com/datasets/mohamedbakhet/amazon-books-reviews\n",
    "# This dataset contains 2 files\n",
    "# The first file** reviews** file contain feedback about 3M user on 212404 unique books the data set is \n",
    "# part of the Amazon review Dataset it contains product reviews and metadata from Amazon, including \n",
    "# 142.8 million reviews spanning May 1996 - July 2014.\n",
    "# Reviews Dataset Data Dictionary:\n",
    "# -id:                  The Id of Book\n",
    "# -Title:   \t        Book Title\n",
    "# -Price:               The price of Book\n",
    "# -User_id:             Id of the user who rates the book\n",
    "# -profileName:         Name of the user who rates the book\n",
    "# -review/helpfulness:  helpfulness rating of the review, e.g. 2/3\n",
    "# -review/score:        rating from 0 to 5 for the book\n",
    "# -review/time:         time of given the review\n",
    "# -review/summary:      the summary of a text review\n",
    "# -review/text:         the full text of a review\n",
    "\n",
    "# The second file Books Details file contains details information about 212404 unique books it file is built by using\n",
    "# google books API to get details information about books it rated in the first file\n",
    "# and this file contains\n",
    "\n",
    "# Book Details Dataset Data Dictionary:\n",
    "# Title:\t        Book Title\n",
    "# Descripe:\t        Decription of book\n",
    "# authors:\t        Name of book authors\n",
    "# image:\t        Url for book cover\n",
    "# previewLink:\t    Link to access this book on google Books\n",
    "# publisher:\t    Name of the publisheer\n",
    "# publishedDate:\tThe date of publish\n",
    "# infoLink:\t        Link to get more information about the book on google books\n",
    "# categories:\t    Genres of books\n",
    "# ratingsCount:\t    Averaging rating for book\n",
    "\n",
    "# Both Datasets are linked through the unique tittle of the book."
   ]
  },
  {
   "cell_type": "code",
   "execution_count": 2,
   "metadata": {},
   "outputs": [
    {
     "name": "stderr",
     "output_type": "stream",
     "text": [
      "/home/arnaldochm/Documents/BootCamp_DataScience/Final_Project/final_project_nlp/.venv/lib/python3.8/site-packages/tqdm/auto.py:21: TqdmWarning: IProgress not found. Please update jupyter and ipywidgets. See https://ipywidgets.readthedocs.io/en/stable/user_install.html\n",
      "  from .autonotebook import tqdm as notebook_tqdm\n",
      "2023-11-07 21:04:07.419379: I tensorflow/core/util/port.cc:110] oneDNN custom operations are on. You may see slightly different numerical results due to floating-point round-off errors from different computation orders. To turn them off, set the environment variable `TF_ENABLE_ONEDNN_OPTS=0`.\n",
      "2023-11-07 21:04:07.422409: I tensorflow/tsl/cuda/cudart_stub.cc:28] Could not find cuda drivers on your machine, GPU will not be used.\n",
      "2023-11-07 21:04:07.481600: I tensorflow/tsl/cuda/cudart_stub.cc:28] Could not find cuda drivers on your machine, GPU will not be used.\n",
      "2023-11-07 21:04:07.482877: I tensorflow/core/platform/cpu_feature_guard.cc:182] This TensorFlow binary is optimized to use available CPU instructions in performance-critical operations.\n",
      "To enable the following instructions: AVX2 AVX512F AVX512_VNNI FMA, in other operations, rebuild TensorFlow with the appropriate compiler flags.\n",
      "2023-11-07 21:04:08.443235: W tensorflow/compiler/tf2tensorrt/utils/py_utils.cc:38] TF-TRT Warning: Could not find TensorRT\n"
     ]
    }
   ],
   "source": [
    "# Step 0. Load libraries and custom modules\n",
    "import pandas as pd\n",
    "import numpy as np\n",
    "import matplotlib.pyplot as plt\n",
    "import seaborn as sns\n",
    "import os\n",
    "import nltk\n",
    "from nltk.corpus import stopwords\n",
    "from wordcloud import WordCloud\n",
    "import re\n",
    "from dateutil.parser import parse\n",
    "from datetime import datetime\n",
    "from datetime import date\n",
    "# ------------  PREPROCESING -------------\n",
    "from sklearn.model_selection import train_test_split\n",
    "from sklearn.decomposition import PCA\n",
    "from sklearn.decomposition import FastICA\n",
    "from sklearn.preprocessing import OneHotEncoder\n",
    "from sklearn.preprocessing import StandardScaler\n",
    "from sklearn.feature_extraction.text import TfidfVectorizer\n",
    "from sklearn.feature_extraction.text import CountVectorizer\n",
    "from nltk import download\n",
    "from nltk.corpus import stopwords\n",
    "from nltk.stem import WordNetLemmatizer\n",
    "#-------------- TRANSFORMERS --------------\n",
    "import transformers\n",
    "from transformers.pipelines import PIPELINE_REGISTRY\n",
    "from transformers import pipeline\n",
    "import evaluate\n",
    "from evaluate import load\n",
    "from transformers import Conversation\n",
    "transformers.logging.set_verbosity_error()"
   ]
  },
  {
   "cell_type": "code",
   "execution_count": 3,
   "metadata": {},
   "outputs": [
    {
     "name": "stdout",
     "output_type": "stream",
     "text": [
      "<class 'pandas.core.frame.DataFrame'>\n",
      "RangeIndex: 3000000 entries, 0 to 2999999\n",
      "Data columns (total 10 columns):\n",
      " #   Column              Dtype  \n",
      "---  ------              -----  \n",
      " 0   Id                  object \n",
      " 1   Title               object \n",
      " 2   Price               float64\n",
      " 3   User_id             object \n",
      " 4   profileName         object \n",
      " 5   review/helpfulness  object \n",
      " 6   review/score        float64\n",
      " 7   review/time         int64  \n",
      " 8   review/summary      object \n",
      " 9   review/text         object \n",
      "dtypes: float64(2), int64(1), object(7)\n",
      "memory usage: 228.9+ MB\n"
     ]
    }
   ],
   "source": [
    "#Loading the Datasets\n",
    "df_rating_raw = pd.read_csv('../data/raw/Books_rating.csv')\n",
    "\n",
    "df_rating_raw.info()\n"
   ]
  },
  {
   "cell_type": "code",
   "execution_count": 4,
   "metadata": {},
   "outputs": [
    {
     "data": {
      "text/html": [
       "<div>\n",
       "<style scoped>\n",
       "    .dataframe tbody tr th:only-of-type {\n",
       "        vertical-align: middle;\n",
       "    }\n",
       "\n",
       "    .dataframe tbody tr th {\n",
       "        vertical-align: top;\n",
       "    }\n",
       "\n",
       "    .dataframe thead th {\n",
       "        text-align: right;\n",
       "    }\n",
       "</style>\n",
       "<table border=\"1\" class=\"dataframe\">\n",
       "  <thead>\n",
       "    <tr style=\"text-align: right;\">\n",
       "      <th></th>\n",
       "      <th>Id</th>\n",
       "      <th>Title</th>\n",
       "      <th>Price</th>\n",
       "      <th>User_id</th>\n",
       "      <th>profileName</th>\n",
       "      <th>review/helpfulness</th>\n",
       "      <th>review/score</th>\n",
       "      <th>review/time</th>\n",
       "      <th>review/summary</th>\n",
       "      <th>review/text</th>\n",
       "    </tr>\n",
       "  </thead>\n",
       "  <tbody>\n",
       "    <tr>\n",
       "      <th>330703</th>\n",
       "      <td>1589269063</td>\n",
       "      <td>The Five Love Languages: The Secret to Love th...</td>\n",
       "      <td>19.25</td>\n",
       "      <td>A3PCVWXJ0NL2GW</td>\n",
       "      <td>Deborah</td>\n",
       "      <td>0/0</td>\n",
       "      <td>5.0</td>\n",
       "      <td>1356566400</td>\n",
       "      <td>Run, Dick, Run for Marriages!</td>\n",
       "      <td>Who knew it was this simple? Dr. Chapman's ide...</td>\n",
       "    </tr>\n",
       "    <tr>\n",
       "      <th>1062850</th>\n",
       "      <td>B000PCESRE</td>\n",
       "      <td>The Catcher in the Rye</td>\n",
       "      <td>NaN</td>\n",
       "      <td>NaN</td>\n",
       "      <td>NaN</td>\n",
       "      <td>0/1</td>\n",
       "      <td>5.0</td>\n",
       "      <td>1085356800</td>\n",
       "      <td>great book</td>\n",
       "      <td>this is truly a great book, i love the way the...</td>\n",
       "    </tr>\n",
       "    <tr>\n",
       "      <th>2119103</th>\n",
       "      <td>0553049771</td>\n",
       "      <td>Raise The Titanic</td>\n",
       "      <td>NaN</td>\n",
       "      <td>AUHQU01D9NEAG</td>\n",
       "      <td>K. York</td>\n",
       "      <td>0/0</td>\n",
       "      <td>5.0</td>\n",
       "      <td>1360972800</td>\n",
       "      <td>One of my fave books AND movies</td>\n",
       "      <td>I know it sounds nutty and is one of those how...</td>\n",
       "    </tr>\n",
       "    <tr>\n",
       "      <th>2014763</th>\n",
       "      <td>B0007FJEAK</td>\n",
       "      <td>Brideshead revisited: The sacred and profane m...</td>\n",
       "      <td>NaN</td>\n",
       "      <td>A2T7JK9FLC8V0N</td>\n",
       "      <td>S Riaz \"S Riaz\"</td>\n",
       "      <td>3/3</td>\n",
       "      <td>5.0</td>\n",
       "      <td>1351728000</td>\n",
       "      <td>Brideshead Revisited</td>\n",
       "      <td>A novel which the author himself referred to a...</td>\n",
       "    </tr>\n",
       "    <tr>\n",
       "      <th>1621678</th>\n",
       "      <td>0373089228</td>\n",
       "      <td>Haunted Husband (Silhouette Romance)</td>\n",
       "      <td>NaN</td>\n",
       "      <td>A3V42N60OWYWMH</td>\n",
       "      <td>Merry Reader \"Sissy\"</td>\n",
       "      <td>1/1</td>\n",
       "      <td>5.0</td>\n",
       "      <td>1212710400</td>\n",
       "      <td>Next-door daddy</td>\n",
       "      <td>From the back of the book:Chief of Police That...</td>\n",
       "    </tr>\n",
       "    <tr>\n",
       "      <th>1546175</th>\n",
       "      <td>1557361630</td>\n",
       "      <td>The Cay</td>\n",
       "      <td>NaN</td>\n",
       "      <td>AXZ26IHM7HZMY</td>\n",
       "      <td>Samantha</td>\n",
       "      <td>17/19</td>\n",
       "      <td>5.0</td>\n",
       "      <td>954115200</td>\n",
       "      <td>The Cay</td>\n",
       "      <td>This book was awesome! It started out with a b...</td>\n",
       "    </tr>\n",
       "    <tr>\n",
       "      <th>2252927</th>\n",
       "      <td>1566190932</td>\n",
       "      <td>Pride and Prejudice</td>\n",
       "      <td>NaN</td>\n",
       "      <td>A1796BFN7L774T</td>\n",
       "      <td>Christopher B. Jonnes</td>\n",
       "      <td>12/13</td>\n",
       "      <td>5.0</td>\n",
       "      <td>982195200</td>\n",
       "      <td>A Timeless Classic.</td>\n",
       "      <td>For the typical male, the only thing worse tha...</td>\n",
       "    </tr>\n",
       "    <tr>\n",
       "      <th>2899750</th>\n",
       "      <td>0399530703</td>\n",
       "      <td>Parenting Your Asperger Child: Individualized ...</td>\n",
       "      <td>10.85</td>\n",
       "      <td>A1HLGBLHPF8NBA</td>\n",
       "      <td>Ruth A. Mayer \"gammaruth\"</td>\n",
       "      <td>0/0</td>\n",
       "      <td>5.0</td>\n",
       "      <td>1207526400</td>\n",
       "      <td>Parenting Your Asperger Child</td>\n",
       "      <td>My \"child\" is almost eighteen, but this is an ...</td>\n",
       "    </tr>\n",
       "    <tr>\n",
       "      <th>623399</th>\n",
       "      <td>0750523115</td>\n",
       "      <td>By the Mast Divided</td>\n",
       "      <td>NaN</td>\n",
       "      <td>ATBB7JAGJZ926</td>\n",
       "      <td>George E. Hover \"Reel Slick\"</td>\n",
       "      <td>0/0</td>\n",
       "      <td>5.0</td>\n",
       "      <td>1358899200</td>\n",
       "      <td>A Great Below decks yarn</td>\n",
       "      <td>a fine sea tale from the impressed seamans vie...</td>\n",
       "    </tr>\n",
       "    <tr>\n",
       "      <th>1767601</th>\n",
       "      <td>B0006VUFO4</td>\n",
       "      <td>One day in the life of Ivan Denisovich (Praege...</td>\n",
       "      <td>NaN</td>\n",
       "      <td>NaN</td>\n",
       "      <td>NaN</td>\n",
       "      <td>2/3</td>\n",
       "      <td>4.0</td>\n",
       "      <td>940291200</td>\n",
       "      <td>A GRAFICAL DEPICTION OF SIBERIAN LABOR CAMPS</td>\n",
       "      <td>SOLZHENITSYN DID AN EXELLENT JOB OF DEPICTING ...</td>\n",
       "    </tr>\n",
       "  </tbody>\n",
       "</table>\n",
       "</div>"
      ],
      "text/plain": [
       "                 Id                                              Title  Price  \\\n",
       "330703   1589269063  The Five Love Languages: The Secret to Love th...  19.25   \n",
       "1062850  B000PCESRE                             The Catcher in the Rye    NaN   \n",
       "2119103  0553049771                                  Raise The Titanic    NaN   \n",
       "2014763  B0007FJEAK  Brideshead revisited: The sacred and profane m...    NaN   \n",
       "1621678  0373089228               Haunted Husband (Silhouette Romance)    NaN   \n",
       "1546175  1557361630                                            The Cay    NaN   \n",
       "2252927  1566190932                                Pride and Prejudice    NaN   \n",
       "2899750  0399530703  Parenting Your Asperger Child: Individualized ...  10.85   \n",
       "623399   0750523115                                By the Mast Divided    NaN   \n",
       "1767601  B0006VUFO4  One day in the life of Ivan Denisovich (Praege...    NaN   \n",
       "\n",
       "                User_id                   profileName review/helpfulness  \\\n",
       "330703   A3PCVWXJ0NL2GW                       Deborah                0/0   \n",
       "1062850             NaN                           NaN                0/1   \n",
       "2119103   AUHQU01D9NEAG                       K. York                0/0   \n",
       "2014763  A2T7JK9FLC8V0N               S Riaz \"S Riaz\"                3/3   \n",
       "1621678  A3V42N60OWYWMH          Merry Reader \"Sissy\"                1/1   \n",
       "1546175   AXZ26IHM7HZMY                      Samantha              17/19   \n",
       "2252927  A1796BFN7L774T         Christopher B. Jonnes              12/13   \n",
       "2899750  A1HLGBLHPF8NBA     Ruth A. Mayer \"gammaruth\"                0/0   \n",
       "623399    ATBB7JAGJZ926  George E. Hover \"Reel Slick\"                0/0   \n",
       "1767601             NaN                           NaN                2/3   \n",
       "\n",
       "         review/score  review/time  \\\n",
       "330703            5.0   1356566400   \n",
       "1062850           5.0   1085356800   \n",
       "2119103           5.0   1360972800   \n",
       "2014763           5.0   1351728000   \n",
       "1621678           5.0   1212710400   \n",
       "1546175           5.0    954115200   \n",
       "2252927           5.0    982195200   \n",
       "2899750           5.0   1207526400   \n",
       "623399            5.0   1358899200   \n",
       "1767601           4.0    940291200   \n",
       "\n",
       "                                       review/summary  \\\n",
       "330703                  Run, Dick, Run for Marriages!   \n",
       "1062850                                    great book   \n",
       "2119103               One of my fave books AND movies   \n",
       "2014763                          Brideshead Revisited   \n",
       "1621678                               Next-door daddy   \n",
       "1546175                                       The Cay   \n",
       "2252927                           A Timeless Classic.   \n",
       "2899750                 Parenting Your Asperger Child   \n",
       "623399                       A Great Below decks yarn   \n",
       "1767601  A GRAFICAL DEPICTION OF SIBERIAN LABOR CAMPS   \n",
       "\n",
       "                                               review/text  \n",
       "330703   Who knew it was this simple? Dr. Chapman's ide...  \n",
       "1062850  this is truly a great book, i love the way the...  \n",
       "2119103  I know it sounds nutty and is one of those how...  \n",
       "2014763  A novel which the author himself referred to a...  \n",
       "1621678  From the back of the book:Chief of Police That...  \n",
       "1546175  This book was awesome! It started out with a b...  \n",
       "2252927  For the typical male, the only thing worse tha...  \n",
       "2899750  My \"child\" is almost eighteen, but this is an ...  \n",
       "623399   a fine sea tale from the impressed seamans vie...  \n",
       "1767601  SOLZHENITSYN DID AN EXELLENT JOB OF DEPICTING ...  "
      ]
     },
     "execution_count": 4,
     "metadata": {},
     "output_type": "execute_result"
    }
   ],
   "source": [
    "df_rating_raw.sample(10)"
   ]
  },
  {
   "cell_type": "code",
   "execution_count": 5,
   "metadata": {},
   "outputs": [
    {
     "name": "stdout",
     "output_type": "stream",
     "text": [
      "<class 'pandas.core.frame.DataFrame'>\n",
      "RangeIndex: 212404 entries, 0 to 212403\n",
      "Data columns (total 10 columns):\n",
      " #   Column         Non-Null Count   Dtype  \n",
      "---  ------         --------------   -----  \n",
      " 0   Title          212403 non-null  object \n",
      " 1   description    143962 non-null  object \n",
      " 2   authors        180991 non-null  object \n",
      " 3   image          160329 non-null  object \n",
      " 4   previewLink    188568 non-null  object \n",
      " 5   publisher      136518 non-null  object \n",
      " 6   publishedDate  187099 non-null  object \n",
      " 7   infoLink       188568 non-null  object \n",
      " 8   categories     171205 non-null  object \n",
      " 9   ratingsCount   49752 non-null   float64\n",
      "dtypes: float64(1), object(9)\n",
      "memory usage: 16.2+ MB\n"
     ]
    }
   ],
   "source": [
    "#Load Books Data Dataset\n",
    "df_data_raw = pd.read_csv('../data/raw/books_data.csv')\n",
    "\n",
    "df_data_raw.info()"
   ]
  },
  {
   "cell_type": "code",
   "execution_count": 6,
   "metadata": {},
   "outputs": [
    {
     "data": {
      "text/html": [
       "<div>\n",
       "<style scoped>\n",
       "    .dataframe tbody tr th:only-of-type {\n",
       "        vertical-align: middle;\n",
       "    }\n",
       "\n",
       "    .dataframe tbody tr th {\n",
       "        vertical-align: top;\n",
       "    }\n",
       "\n",
       "    .dataframe thead th {\n",
       "        text-align: right;\n",
       "    }\n",
       "</style>\n",
       "<table border=\"1\" class=\"dataframe\">\n",
       "  <thead>\n",
       "    <tr style=\"text-align: right;\">\n",
       "      <th></th>\n",
       "      <th>Title</th>\n",
       "      <th>description</th>\n",
       "      <th>authors</th>\n",
       "      <th>image</th>\n",
       "      <th>previewLink</th>\n",
       "      <th>publisher</th>\n",
       "      <th>publishedDate</th>\n",
       "      <th>infoLink</th>\n",
       "      <th>categories</th>\n",
       "      <th>ratingsCount</th>\n",
       "    </tr>\n",
       "  </thead>\n",
       "  <tbody>\n",
       "    <tr>\n",
       "      <th>186863</th>\n",
       "      <td>MUTINY: A HISTORY OF NAVAL INSURRECTION</td>\n",
       "      <td>Examines mutinies that have occurred worldwide...</td>\n",
       "      <td>['Leonard F. Guttridge']</td>\n",
       "      <td>http://books.google.com/books/content?id=yea6J...</td>\n",
       "      <td>http://books.google.com/books?id=yea6JSftkBMC&amp;...</td>\n",
       "      <td>Berkley Publishing Group</td>\n",
       "      <td>2002</td>\n",
       "      <td>http://books.google.com/books?id=yea6JSftkBMC&amp;...</td>\n",
       "      <td>['History']</td>\n",
       "      <td>NaN</td>\n",
       "    </tr>\n",
       "    <tr>\n",
       "      <th>97479</th>\n",
       "      <td>Double Image</td>\n",
       "      <td>After a harrowing experience in Bosnia, war ph...</td>\n",
       "      <td>['David R. Morrell']</td>\n",
       "      <td>http://books.google.com/books/content?id=ZkrHk...</td>\n",
       "      <td>http://books.google.com/books?id=ZkrHkYg4ji4C&amp;...</td>\n",
       "      <td>Grand Central Publishing</td>\n",
       "      <td>2001-05-01</td>\n",
       "      <td>https://play.google.com/store/books/details?id...</td>\n",
       "      <td>['Fiction']</td>\n",
       "      <td>1.0</td>\n",
       "    </tr>\n",
       "    <tr>\n",
       "      <th>90346</th>\n",
       "      <td>The Temple of Shamanic Witchcraft: Meditation ...</td>\n",
       "      <td>Explore your Inner Temple—your personal sacred...</td>\n",
       "      <td>['Christopher Penczak']</td>\n",
       "      <td>http://books.google.com/books/content?id=1OFlk...</td>\n",
       "      <td>http://books.google.com/books?id=1OFlkaKSZmoC&amp;...</td>\n",
       "      <td>Llewellyn Worldwide</td>\n",
       "      <td>2002</td>\n",
       "      <td>https://play.google.com/store/books/details?id...</td>\n",
       "      <td>['Body, Mind &amp; Spirit']</td>\n",
       "      <td>4.0</td>\n",
       "    </tr>\n",
       "    <tr>\n",
       "      <th>97793</th>\n",
       "      <td>The Ghost Downstairs</td>\n",
       "      <td>After making a fatal mistake on the job, Lina ...</td>\n",
       "      <td>['Molly Ringle']</td>\n",
       "      <td>http://books.google.com/books/content?id=n2toP...</td>\n",
       "      <td>http://books.google.com/books?id=n2toPgAACAAJ&amp;...</td>\n",
       "      <td>NaN</td>\n",
       "      <td>2009-03</td>\n",
       "      <td>http://books.google.com/books?id=n2toPgAACAAJ&amp;...</td>\n",
       "      <td>['Fiction']</td>\n",
       "      <td>NaN</td>\n",
       "    </tr>\n",
       "    <tr>\n",
       "      <th>46130</th>\n",
       "      <td>Woman, Thou Art Loosed! The Book and Devotiona...</td>\n",
       "      <td>Heal the Wounds of the Past! This insightful d...</td>\n",
       "      <td>['T. D. Jakes']</td>\n",
       "      <td>http://books.google.com/books/content?id=GY8uG...</td>\n",
       "      <td>http://books.google.com/books?id=GY8uGQAACAAJ&amp;...</td>\n",
       "      <td>Bethany House Publishers</td>\n",
       "      <td>2007-10-01</td>\n",
       "      <td>http://books.google.com/books?id=GY8uGQAACAAJ&amp;...</td>\n",
       "      <td>['Religion']</td>\n",
       "      <td>1.0</td>\n",
       "    </tr>\n",
       "    <tr>\n",
       "      <th>47559</th>\n",
       "      <td>THE LITTLE SISTER.</td>\n",
       "      <td>Kriminalroman.</td>\n",
       "      <td>['Raymond Chandler']</td>\n",
       "      <td>NaN</td>\n",
       "      <td>http://books.google.com/books?id=7XeDzgEACAAJ&amp;...</td>\n",
       "      <td>NaN</td>\n",
       "      <td>1969</td>\n",
       "      <td>http://books.google.com/books?id=7XeDzgEACAAJ&amp;...</td>\n",
       "      <td>['Crime']</td>\n",
       "      <td>NaN</td>\n",
       "    </tr>\n",
       "    <tr>\n",
       "      <th>139094</th>\n",
       "      <td>The Torah: A modern commentary</td>\n",
       "      <td>NaN</td>\n",
       "      <td>NaN</td>\n",
       "      <td>NaN</td>\n",
       "      <td>NaN</td>\n",
       "      <td>NaN</td>\n",
       "      <td>NaN</td>\n",
       "      <td>NaN</td>\n",
       "      <td>NaN</td>\n",
       "      <td>NaN</td>\n",
       "    </tr>\n",
       "    <tr>\n",
       "      <th>204111</th>\n",
       "      <td>Ghost Behind Me</td>\n",
       "      <td>A young girl is pursued by a ghost from the pa...</td>\n",
       "      <td>['Eve Bunting']</td>\n",
       "      <td>http://books.google.com/books/content?id=i6nEj...</td>\n",
       "      <td>http://books.google.com/books?id=i6nEjbgIAgMC&amp;...</td>\n",
       "      <td>NaN</td>\n",
       "      <td>1984</td>\n",
       "      <td>http://books.google.com/books?id=i6nEjbgIAgMC&amp;...</td>\n",
       "      <td>['Ghost stories']</td>\n",
       "      <td>2.0</td>\n",
       "    </tr>\n",
       "    <tr>\n",
       "      <th>40176</th>\n",
       "      <td>Whispers from Our Soul: The Voice of Tahkamenon</td>\n",
       "      <td>The beautiful words of a higher spiritual enti...</td>\n",
       "      <td>['Valerie Wilkinson', 'Russell Reed']</td>\n",
       "      <td>http://books.google.com/books/content?id=ab-UB...</td>\n",
       "      <td>http://books.google.com/books?id=ab-UBmXgbfEC&amp;...</td>\n",
       "      <td>Hampton Roads Publishing Company Incorporated</td>\n",
       "      <td>1999</td>\n",
       "      <td>http://books.google.com/books?id=ab-UBmXgbfEC&amp;...</td>\n",
       "      <td>['Body, Mind &amp; Spirit']</td>\n",
       "      <td>NaN</td>\n",
       "    </tr>\n",
       "    <tr>\n",
       "      <th>46624</th>\n",
       "      <td>Confessions of a First-Year Maestro: A Guide f...</td>\n",
       "      <td>Written in journal format, this book captures ...</td>\n",
       "      <td>['Catherine Bell Robertson']</td>\n",
       "      <td>http://books.google.com/books/content?id=g4hbQ...</td>\n",
       "      <td>http://books.google.com/books?id=g4hbQAhD240C&amp;...</td>\n",
       "      <td>Boydell &amp; Brewer Ltd</td>\n",
       "      <td>2003</td>\n",
       "      <td>http://books.google.com/books?id=g4hbQAhD240C&amp;...</td>\n",
       "      <td>['Education']</td>\n",
       "      <td>NaN</td>\n",
       "    </tr>\n",
       "  </tbody>\n",
       "</table>\n",
       "</div>"
      ],
      "text/plain": [
       "                                                    Title  \\\n",
       "186863            MUTINY: A HISTORY OF NAVAL INSURRECTION   \n",
       "97479                                        Double Image   \n",
       "90346   The Temple of Shamanic Witchcraft: Meditation ...   \n",
       "97793                                The Ghost Downstairs   \n",
       "46130   Woman, Thou Art Loosed! The Book and Devotiona...   \n",
       "47559                                  THE LITTLE SISTER.   \n",
       "139094                     The Torah: A modern commentary   \n",
       "204111                                    Ghost Behind Me   \n",
       "40176     Whispers from Our Soul: The Voice of Tahkamenon   \n",
       "46624   Confessions of a First-Year Maestro: A Guide f...   \n",
       "\n",
       "                                              description  \\\n",
       "186863  Examines mutinies that have occurred worldwide...   \n",
       "97479   After a harrowing experience in Bosnia, war ph...   \n",
       "90346   Explore your Inner Temple—your personal sacred...   \n",
       "97793   After making a fatal mistake on the job, Lina ...   \n",
       "46130   Heal the Wounds of the Past! This insightful d...   \n",
       "47559                                      Kriminalroman.   \n",
       "139094                                                NaN   \n",
       "204111  A young girl is pursued by a ghost from the pa...   \n",
       "40176   The beautiful words of a higher spiritual enti...   \n",
       "46624   Written in journal format, this book captures ...   \n",
       "\n",
       "                                      authors  \\\n",
       "186863               ['Leonard F. Guttridge']   \n",
       "97479                    ['David R. Morrell']   \n",
       "90346                 ['Christopher Penczak']   \n",
       "97793                        ['Molly Ringle']   \n",
       "46130                         ['T. D. Jakes']   \n",
       "47559                    ['Raymond Chandler']   \n",
       "139094                                    NaN   \n",
       "204111                        ['Eve Bunting']   \n",
       "40176   ['Valerie Wilkinson', 'Russell Reed']   \n",
       "46624            ['Catherine Bell Robertson']   \n",
       "\n",
       "                                                    image  \\\n",
       "186863  http://books.google.com/books/content?id=yea6J...   \n",
       "97479   http://books.google.com/books/content?id=ZkrHk...   \n",
       "90346   http://books.google.com/books/content?id=1OFlk...   \n",
       "97793   http://books.google.com/books/content?id=n2toP...   \n",
       "46130   http://books.google.com/books/content?id=GY8uG...   \n",
       "47559                                                 NaN   \n",
       "139094                                                NaN   \n",
       "204111  http://books.google.com/books/content?id=i6nEj...   \n",
       "40176   http://books.google.com/books/content?id=ab-UB...   \n",
       "46624   http://books.google.com/books/content?id=g4hbQ...   \n",
       "\n",
       "                                              previewLink  \\\n",
       "186863  http://books.google.com/books?id=yea6JSftkBMC&...   \n",
       "97479   http://books.google.com/books?id=ZkrHkYg4ji4C&...   \n",
       "90346   http://books.google.com/books?id=1OFlkaKSZmoC&...   \n",
       "97793   http://books.google.com/books?id=n2toPgAACAAJ&...   \n",
       "46130   http://books.google.com/books?id=GY8uGQAACAAJ&...   \n",
       "47559   http://books.google.com/books?id=7XeDzgEACAAJ&...   \n",
       "139094                                                NaN   \n",
       "204111  http://books.google.com/books?id=i6nEjbgIAgMC&...   \n",
       "40176   http://books.google.com/books?id=ab-UBmXgbfEC&...   \n",
       "46624   http://books.google.com/books?id=g4hbQAhD240C&...   \n",
       "\n",
       "                                            publisher publishedDate  \\\n",
       "186863                       Berkley Publishing Group          2002   \n",
       "97479                        Grand Central Publishing    2001-05-01   \n",
       "90346                             Llewellyn Worldwide          2002   \n",
       "97793                                             NaN       2009-03   \n",
       "46130                        Bethany House Publishers    2007-10-01   \n",
       "47559                                             NaN          1969   \n",
       "139094                                            NaN           NaN   \n",
       "204111                                            NaN          1984   \n",
       "40176   Hampton Roads Publishing Company Incorporated          1999   \n",
       "46624                            Boydell & Brewer Ltd          2003   \n",
       "\n",
       "                                                 infoLink  \\\n",
       "186863  http://books.google.com/books?id=yea6JSftkBMC&...   \n",
       "97479   https://play.google.com/store/books/details?id...   \n",
       "90346   https://play.google.com/store/books/details?id...   \n",
       "97793   http://books.google.com/books?id=n2toPgAACAAJ&...   \n",
       "46130   http://books.google.com/books?id=GY8uGQAACAAJ&...   \n",
       "47559   http://books.google.com/books?id=7XeDzgEACAAJ&...   \n",
       "139094                                                NaN   \n",
       "204111  http://books.google.com/books?id=i6nEjbgIAgMC&...   \n",
       "40176   http://books.google.com/books?id=ab-UBmXgbfEC&...   \n",
       "46624   http://books.google.com/books?id=g4hbQAhD240C&...   \n",
       "\n",
       "                     categories  ratingsCount  \n",
       "186863              ['History']           NaN  \n",
       "97479               ['Fiction']           1.0  \n",
       "90346   ['Body, Mind & Spirit']           4.0  \n",
       "97793               ['Fiction']           NaN  \n",
       "46130              ['Religion']           1.0  \n",
       "47559                 ['Crime']           NaN  \n",
       "139094                      NaN           NaN  \n",
       "204111        ['Ghost stories']           2.0  \n",
       "40176   ['Body, Mind & Spirit']           NaN  \n",
       "46624             ['Education']           NaN  "
      ]
     },
     "execution_count": 6,
     "metadata": {},
     "output_type": "execute_result"
    }
   ],
   "source": [
    "df_data_raw.sample(10)"
   ]
  },
  {
   "cell_type": "code",
   "execution_count": 7,
   "metadata": {},
   "outputs": [
    {
     "data": {
      "text/plain": [
       "Id                          0\n",
       "Title                     208\n",
       "Price                 2518829\n",
       "User_id                561787\n",
       "profileName            561905\n",
       "review/helpfulness          0\n",
       "review/score                0\n",
       "review/time                 0\n",
       "review/summary            407\n",
       "review/text                 8\n",
       "dtype: int64"
      ]
     },
     "execution_count": 7,
     "metadata": {},
     "output_type": "execute_result"
    }
   ],
   "source": [
    "#Revisar Valores Nulos\n",
    "df_rating_raw.isna().sum()"
   ]
  },
  {
   "cell_type": "code",
   "execution_count": 8,
   "metadata": {},
   "outputs": [
    {
     "data": {
      "text/plain": [
       "Title                 1\n",
       "description       68442\n",
       "authors           31413\n",
       "image             52075\n",
       "previewLink       23836\n",
       "publisher         75886\n",
       "publishedDate     25305\n",
       "infoLink          23836\n",
       "categories        41199\n",
       "ratingsCount     162652\n",
       "dtype: int64"
      ]
     },
     "execution_count": 8,
     "metadata": {},
     "output_type": "execute_result"
    }
   ],
   "source": [
    "df_data_raw.isna().sum()"
   ]
  },
  {
   "cell_type": "code",
   "execution_count": 9,
   "metadata": {},
   "outputs": [
    {
     "data": {
      "text/plain": [
       "(3000000, 10)"
      ]
     },
     "execution_count": 9,
     "metadata": {},
     "output_type": "execute_result"
    }
   ],
   "source": [
    "df_rating_raw.shape"
   ]
  },
  {
   "cell_type": "code",
   "execution_count": 10,
   "metadata": {},
   "outputs": [
    {
     "data": {
      "text/plain": [
       "854145"
      ]
     },
     "execution_count": 10,
     "metadata": {},
     "output_type": "execute_result"
    }
   ],
   "source": [
    "df_rating_raw['profileName'].nunique()"
   ]
  },
  {
   "cell_type": "code",
   "execution_count": 11,
   "metadata": {},
   "outputs": [
    {
     "data": {
      "text/plain": [
       "1008972"
      ]
     },
     "execution_count": 11,
     "metadata": {},
     "output_type": "execute_result"
    }
   ],
   "source": [
    "df_rating_raw['User_id'].nunique()"
   ]
  },
  {
   "cell_type": "code",
   "execution_count": 12,
   "metadata": {},
   "outputs": [
    {
     "data": {
      "text/plain": [
       "(212404, 10)"
      ]
     },
     "execution_count": 12,
     "metadata": {},
     "output_type": "execute_result"
    }
   ],
   "source": [
    "df_data_raw.shape"
   ]
  },
  {
   "cell_type": "code",
   "execution_count": 13,
   "metadata": {},
   "outputs": [
    {
     "data": {
      "text/plain": [
       "212403"
      ]
     },
     "execution_count": 13,
     "metadata": {},
     "output_type": "execute_result"
    }
   ],
   "source": [
    "df_data_raw['Title'].nunique()"
   ]
  },
  {
   "cell_type": "code",
   "execution_count": 14,
   "metadata": {},
   "outputs": [],
   "source": [
    "#Innecesary Columns are removed\n",
    "# df_rating: \n",
    "#   - Price: Almost 84% of the entries are null. \n",
    "#   - profileName: Unique identifier for each user performing the review. Variable with cardinality excess. \n",
    "#   - User_id: Unique identifier for each user performing the review. Variable with cardinality excess.\n",
    "#   - Id: Innecesary column.\n",
    "#   - review/summary: Unncesary column for current analysis. Many summaries used are the same Book Title.\n",
    "#   - Title Feature Removal: This feature is unique for each book. And it is extremly correlated with Authors. As the same \n",
    "#       book Title will always have the same author. So, authors feature is kept and Title is removed.    \n",
    "#       This feature is removed later as it will be used to join both Datasets. \n",
    "# df_data:\n",
    "#   - image, previewLink, infoLink: Not useful information.\n",
    "#   - ratingsCount: Information from Google API. Not useful for the analysis.\n",
    "#   - description: Non necesary information for Analysis\n",
    "\n",
    "df_rating_processed = df_rating_raw.drop(['Id','profileName', 'User_id','Price','review/summary'], axis=1).copy()\n",
    "df_data_processed = df_data_raw.drop(['image','previewLink','infoLink','ratingsCount','description'], axis=1).copy()"
   ]
  },
  {
   "cell_type": "code",
   "execution_count": 15,
   "metadata": {},
   "outputs": [
    {
     "data": {
      "text/html": [
       "<div>\n",
       "<style scoped>\n",
       "    .dataframe tbody tr th:only-of-type {\n",
       "        vertical-align: middle;\n",
       "    }\n",
       "\n",
       "    .dataframe tbody tr th {\n",
       "        vertical-align: top;\n",
       "    }\n",
       "\n",
       "    .dataframe thead th {\n",
       "        text-align: right;\n",
       "    }\n",
       "</style>\n",
       "<table border=\"1\" class=\"dataframe\">\n",
       "  <thead>\n",
       "    <tr style=\"text-align: right;\">\n",
       "      <th></th>\n",
       "      <th>Title</th>\n",
       "      <th>review/helpfulness</th>\n",
       "      <th>review/score</th>\n",
       "      <th>review/time</th>\n",
       "      <th>review/text</th>\n",
       "    </tr>\n",
       "  </thead>\n",
       "  <tbody>\n",
       "    <tr>\n",
       "      <th>580585</th>\n",
       "      <td>Wait till next year</td>\n",
       "      <td>2/3</td>\n",
       "      <td>4.0</td>\n",
       "      <td>977097600</td>\n",
       "      <td>When I was six, my father gave me a bright-red...</td>\n",
       "    </tr>\n",
       "    <tr>\n",
       "      <th>1335522</th>\n",
       "      <td>Suburban Nation: the Rise of Sprawl and the De...</td>\n",
       "      <td>36/67</td>\n",
       "      <td>1.0</td>\n",
       "      <td>1129593600</td>\n",
       "      <td>I purchased this book hoping to get a fresh pe...</td>\n",
       "    </tr>\n",
       "    <tr>\n",
       "      <th>735610</th>\n",
       "      <td>Drums of Autumn Hardcover First Edition</td>\n",
       "      <td>0/0</td>\n",
       "      <td>5.0</td>\n",
       "      <td>1328054400</td>\n",
       "      <td>Drums of Autmun continues the story of Claire ...</td>\n",
       "    </tr>\n",
       "    <tr>\n",
       "      <th>2436402</th>\n",
       "      <td>Harvest</td>\n",
       "      <td>0/0</td>\n",
       "      <td>5.0</td>\n",
       "      <td>1360368000</td>\n",
       "      <td>I was so bored until I got almost to the end. ...</td>\n",
       "    </tr>\n",
       "    <tr>\n",
       "      <th>2957343</th>\n",
       "      <td>Little Men</td>\n",
       "      <td>1/1</td>\n",
       "      <td>4.0</td>\n",
       "      <td>997833600</td>\n",
       "      <td>There is not that much to say about this brill...</td>\n",
       "    </tr>\n",
       "    <tr>\n",
       "      <th>1536095</th>\n",
       "      <td>Cold Mountain A Novel</td>\n",
       "      <td>2/2</td>\n",
       "      <td>5.0</td>\n",
       "      <td>1146182400</td>\n",
       "      <td>I have listened to Charles Frazier's rendition...</td>\n",
       "    </tr>\n",
       "    <tr>\n",
       "      <th>1421508</th>\n",
       "      <td>Clan Novel: Setite</td>\n",
       "      <td>4/4</td>\n",
       "      <td>5.0</td>\n",
       "      <td>961632000</td>\n",
       "      <td>I've read everything in this series so far (th...</td>\n",
       "    </tr>\n",
       "    <tr>\n",
       "      <th>1875641</th>\n",
       "      <td>Shostakovich the Gadfly Cdrom</td>\n",
       "      <td>0/5</td>\n",
       "      <td>4.0</td>\n",
       "      <td>943488000</td>\n",
       "      <td>&amp;quot;R.Witherspoon, That says it all ! I'am h...</td>\n",
       "    </tr>\n",
       "    <tr>\n",
       "      <th>807522</th>\n",
       "      <td>Pregnancy Sucks For Men: What to Do When Your ...</td>\n",
       "      <td>0/0</td>\n",
       "      <td>5.0</td>\n",
       "      <td>1312156800</td>\n",
       "      <td>This book was better than all of the other typ...</td>\n",
       "    </tr>\n",
       "    <tr>\n",
       "      <th>145327</th>\n",
       "      <td>Keeping Faith</td>\n",
       "      <td>7/9</td>\n",
       "      <td>5.0</td>\n",
       "      <td>960940800</td>\n",
       "      <td>Once again, Jodi Picoult has written a masterp...</td>\n",
       "    </tr>\n",
       "  </tbody>\n",
       "</table>\n",
       "</div>"
      ],
      "text/plain": [
       "                                                     Title review/helpfulness  \\\n",
       "580585                                 Wait till next year                2/3   \n",
       "1335522  Suburban Nation: the Rise of Sprawl and the De...              36/67   \n",
       "735610             Drums of Autumn Hardcover First Edition                0/0   \n",
       "2436402                                            Harvest                0/0   \n",
       "2957343                                         Little Men                1/1   \n",
       "1536095                              Cold Mountain A Novel                2/2   \n",
       "1421508                                 Clan Novel: Setite                4/4   \n",
       "1875641                      Shostakovich the Gadfly Cdrom                0/5   \n",
       "807522   Pregnancy Sucks For Men: What to Do When Your ...                0/0   \n",
       "145327                                       Keeping Faith                7/9   \n",
       "\n",
       "         review/score  review/time  \\\n",
       "580585            4.0    977097600   \n",
       "1335522           1.0   1129593600   \n",
       "735610            5.0   1328054400   \n",
       "2436402           5.0   1360368000   \n",
       "2957343           4.0    997833600   \n",
       "1536095           5.0   1146182400   \n",
       "1421508           5.0    961632000   \n",
       "1875641           4.0    943488000   \n",
       "807522            5.0   1312156800   \n",
       "145327            5.0    960940800   \n",
       "\n",
       "                                               review/text  \n",
       "580585   When I was six, my father gave me a bright-red...  \n",
       "1335522  I purchased this book hoping to get a fresh pe...  \n",
       "735610   Drums of Autmun continues the story of Claire ...  \n",
       "2436402  I was so bored until I got almost to the end. ...  \n",
       "2957343  There is not that much to say about this brill...  \n",
       "1536095  I have listened to Charles Frazier's rendition...  \n",
       "1421508  I've read everything in this series so far (th...  \n",
       "1875641  &quot;R.Witherspoon, That says it all ! I'am h...  \n",
       "807522   This book was better than all of the other typ...  \n",
       "145327   Once again, Jodi Picoult has written a masterp...  "
      ]
     },
     "execution_count": 15,
     "metadata": {},
     "output_type": "execute_result"
    }
   ],
   "source": [
    "df_rating_processed.sample(10)"
   ]
  },
  {
   "cell_type": "code",
   "execution_count": 16,
   "metadata": {},
   "outputs": [],
   "source": [
    "df_rating_processed = df_rating_processed.rename(columns={'Title':'title',                                                        \n",
    "                                                        'review/helpfulness': 'helpfulness',\n",
    "                                                        'review/score': 'review',\n",
    "                                                        'review/time': 'review_time',\n",
    "                                                        'review/text': 'text'\n",
    "                                                        })\n",
    "df_data_processed = df_data_processed.rename(columns={'Title':'title', \n",
    "                                                        'publishedDate':'published_date'\n",
    "                                                        })"
   ]
  },
  {
   "cell_type": "code",
   "execution_count": 17,
   "metadata": {},
   "outputs": [
    {
     "data": {
      "text/plain": [
       "title          208\n",
       "helpfulness      0\n",
       "review           0\n",
       "review_time      0\n",
       "text             8\n",
       "dtype: int64"
      ]
     },
     "execution_count": 17,
     "metadata": {},
     "output_type": "execute_result"
    }
   ],
   "source": [
    "df_rating_processed.isna().sum()"
   ]
  },
  {
   "cell_type": "code",
   "execution_count": 18,
   "metadata": {},
   "outputs": [
    {
     "data": {
      "text/plain": [
       "title                 1\n",
       "authors           31413\n",
       "publisher         75886\n",
       "published_date    25305\n",
       "categories        41199\n",
       "dtype: int64"
      ]
     },
     "execution_count": 18,
     "metadata": {},
     "output_type": "execute_result"
    }
   ],
   "source": [
    "df_data_processed.isna().sum()"
   ]
  },
  {
   "cell_type": "code",
   "execution_count": 19,
   "metadata": {},
   "outputs": [],
   "source": [
    "#CLEAN THE DATASETS"
   ]
  },
  {
   "cell_type": "code",
   "execution_count": 20,
   "metadata": {},
   "outputs": [],
   "source": [
    "#As both datasets are going to be merged by Title, Rows with Null Title are removed.\n",
    "df_rating_processed = df_rating_processed.dropna(subset=['text'], how='any')\n",
    "\n",
    "df_data_processed = df_data_processed.dropna(subset=['title'])\n",
    "\n",
    "#Drop rows where everything except title is null\n",
    "df_data_processed = df_data_processed.dropna(subset=['authors', 'publisher', 'published_date', 'categories'], how='all')"
   ]
  },
  {
   "cell_type": "code",
   "execution_count": 21,
   "metadata": {},
   "outputs": [
    {
     "data": {
      "text/html": [
       "<div>\n",
       "<style scoped>\n",
       "    .dataframe tbody tr th:only-of-type {\n",
       "        vertical-align: middle;\n",
       "    }\n",
       "\n",
       "    .dataframe tbody tr th {\n",
       "        vertical-align: top;\n",
       "    }\n",
       "\n",
       "    .dataframe thead th {\n",
       "        text-align: right;\n",
       "    }\n",
       "</style>\n",
       "<table border=\"1\" class=\"dataframe\">\n",
       "  <thead>\n",
       "    <tr style=\"text-align: right;\">\n",
       "      <th></th>\n",
       "      <th>title</th>\n",
       "      <th>authors</th>\n",
       "      <th>publisher</th>\n",
       "      <th>published_date</th>\n",
       "      <th>categories</th>\n",
       "    </tr>\n",
       "  </thead>\n",
       "  <tbody>\n",
       "    <tr>\n",
       "      <th>144448</th>\n",
       "      <td>Instant Immersion English Grammar &amp; Pronunciat...</td>\n",
       "      <td>NaN</td>\n",
       "      <td>NaN</td>\n",
       "      <td>2003</td>\n",
       "      <td>['English language']</td>\n",
       "    </tr>\n",
       "    <tr>\n",
       "      <th>98386</th>\n",
       "      <td>Titian: Prince of Painters (Art)</td>\n",
       "      <td>['Titian', 'Tiziano', 'Filippa M. Aliberti Gau...</td>\n",
       "      <td>Prestel Pub</td>\n",
       "      <td>1990</td>\n",
       "      <td>['Art']</td>\n",
       "    </tr>\n",
       "    <tr>\n",
       "      <th>120192</th>\n",
       "      <td>Ninja Soccer Moms (Samantha Shaw Mysteries)</td>\n",
       "      <td>['Jennifer Apodaca']</td>\n",
       "      <td>Kensington Publishing Corp.</td>\n",
       "      <td>2005-04-01</td>\n",
       "      <td>['Fiction']</td>\n",
       "    </tr>\n",
       "    <tr>\n",
       "      <th>94512</th>\n",
       "      <td>Number Nine Or the Mind Sweepers</td>\n",
       "      <td>['Alan Patrick Herbert']</td>\n",
       "      <td>London : Methuen</td>\n",
       "      <td>1951</td>\n",
       "      <td>['Admirals']</td>\n",
       "    </tr>\n",
       "    <tr>\n",
       "      <th>141258</th>\n",
       "      <td>Practical Patent Strategies Used by Successful...</td>\n",
       "      <td>['Eric Stasik', 'Guy Stasik']</td>\n",
       "      <td>Althos Incorporated</td>\n",
       "      <td>2003-11-01</td>\n",
       "      <td>['Law']</td>\n",
       "    </tr>\n",
       "  </tbody>\n",
       "</table>\n",
       "</div>"
      ],
      "text/plain": [
       "                                                    title  \\\n",
       "144448  Instant Immersion English Grammar & Pronunciat...   \n",
       "98386                    Titian: Prince of Painters (Art)   \n",
       "120192        Ninja Soccer Moms (Samantha Shaw Mysteries)   \n",
       "94512                    Number Nine Or the Mind Sweepers   \n",
       "141258  Practical Patent Strategies Used by Successful...   \n",
       "\n",
       "                                                  authors  \\\n",
       "144448                                                NaN   \n",
       "98386   ['Titian', 'Tiziano', 'Filippa M. Aliberti Gau...   \n",
       "120192                               ['Jennifer Apodaca']   \n",
       "94512                            ['Alan Patrick Herbert']   \n",
       "141258                      ['Eric Stasik', 'Guy Stasik']   \n",
       "\n",
       "                          publisher published_date            categories  \n",
       "144448                          NaN           2003  ['English language']  \n",
       "98386                   Prestel Pub           1990               ['Art']  \n",
       "120192  Kensington Publishing Corp.     2005-04-01           ['Fiction']  \n",
       "94512              London : Methuen           1951          ['Admirals']  \n",
       "141258          Althos Incorporated     2003-11-01               ['Law']  "
      ]
     },
     "execution_count": 21,
     "metadata": {},
     "output_type": "execute_result"
    }
   ],
   "source": [
    "df_data_processed.sample(5)"
   ]
  },
  {
   "cell_type": "code",
   "execution_count": 22,
   "metadata": {},
   "outputs": [],
   "source": [
    "# Found 143 published_date entries with the format YYYY*\n",
    "# Found 76 published_date entries with the format YYY?\n",
    "# Found 52 published_date entries with the format YY??\n",
    "\n",
    "def convert_to_year(date_in):    \n",
    "    try:    \n",
    "        patern_1 = r'\\d\\d\\d\\?'\n",
    "        patern_2 = r'\\d\\d\\?\\?'\n",
    "\n",
    "        #Some dates only contain the Year with the format YYYY*. For those cases, the symbol * is removed.\n",
    "        date = date_in.replace('*', '')\n",
    "\n",
    "        #Other cases contains an ? symbol instead of a number on the Year. YYY? or YY??\n",
    "        #For this specific case, the rounded mean from 0 to 9 is used: 5\n",
    "        if re.match(patern_1, date):\n",
    "            date = date.replace('?', '5')\n",
    "\n",
    "        if re.match(patern_2, date):\n",
    "            return None\n",
    "\n",
    "        date = parse(date)\n",
    "        \n",
    "        return date.strftime(\"%Y\")\n",
    "    except:        \n",
    "        return None"
   ]
  },
  {
   "cell_type": "code",
   "execution_count": 23,
   "metadata": {},
   "outputs": [],
   "source": [
    "#Use only the year for published_date\n",
    "df_data_processed['published_year'] = df_data_processed['published_date'].apply(lambda x: convert_to_year(x) if pd.notna(x) else x)\n",
    "\n",
    "df_data_processed['published_year'] = df_data_processed['published_year'].fillna('0')\n",
    "\n",
    "df_data_processed['published_year'] = df_data_processed['published_year'].astype('int32')\n",
    "\n",
    "#Drop published_date column \n",
    "df_data_processed = df_data_processed.drop(['published_date'], axis=1)"
   ]
  },
  {
   "cell_type": "code",
   "execution_count": 24,
   "metadata": {},
   "outputs": [
    {
     "data": {
      "text/plain": [
       "1981"
      ]
     },
     "execution_count": 24,
     "metadata": {},
     "output_type": "execute_result"
    }
   ],
   "source": [
    "mean_published_year = int(df_data_processed['published_year'].mean())\n",
    "mean_published_year"
   ]
  },
  {
   "cell_type": "code",
   "execution_count": 25,
   "metadata": {},
   "outputs": [
    {
     "data": {
      "text/html": [
       "<div>\n",
       "<style scoped>\n",
       "    .dataframe tbody tr th:only-of-type {\n",
       "        vertical-align: middle;\n",
       "    }\n",
       "\n",
       "    .dataframe tbody tr th {\n",
       "        vertical-align: top;\n",
       "    }\n",
       "\n",
       "    .dataframe thead th {\n",
       "        text-align: right;\n",
       "    }\n",
       "</style>\n",
       "<table border=\"1\" class=\"dataframe\">\n",
       "  <thead>\n",
       "    <tr style=\"text-align: right;\">\n",
       "      <th></th>\n",
       "      <th>title</th>\n",
       "      <th>authors</th>\n",
       "      <th>publisher</th>\n",
       "      <th>categories</th>\n",
       "      <th>published_year</th>\n",
       "    </tr>\n",
       "  </thead>\n",
       "  <tbody>\n",
       "    <tr>\n",
       "      <th>187636</th>\n",
       "      <td>Feeling Good at Work</td>\n",
       "      <td>['Annie McKee']</td>\n",
       "      <td>Harvard Business Press</td>\n",
       "      <td>['Business &amp; Economics']</td>\n",
       "      <td>2018</td>\n",
       "    </tr>\n",
       "    <tr>\n",
       "      <th>138588</th>\n",
       "      <td>You know me Al;</td>\n",
       "      <td>['Ring Lardner']</td>\n",
       "      <td>Barnes &amp; Noble Publishing</td>\n",
       "      <td>['Baseball players']</td>\n",
       "      <td>2004</td>\n",
       "    </tr>\n",
       "    <tr>\n",
       "      <th>20787</th>\n",
       "      <td>The Rationality of Emotion (Bradford Books)</td>\n",
       "      <td>['Ronald De Sousa']</td>\n",
       "      <td>MIT Press</td>\n",
       "      <td>['Philosophy']</td>\n",
       "      <td>1990</td>\n",
       "    </tr>\n",
       "    <tr>\n",
       "      <th>168131</th>\n",
       "      <td>Guide to Spanish Idioms</td>\n",
       "      <td>['Peter Weibel']</td>\n",
       "      <td>McGraw Hill Professional</td>\n",
       "      <td>['Foreign Language Study']</td>\n",
       "      <td>2004</td>\n",
       "    </tr>\n",
       "    <tr>\n",
       "      <th>79276</th>\n",
       "      <td>The Corsican Woman: Unabridged</td>\n",
       "      <td>['Alexandre Dumas']</td>\n",
       "      <td>e-artnow</td>\n",
       "      <td>['Fiction']</td>\n",
       "      <td>2016</td>\n",
       "    </tr>\n",
       "    <tr>\n",
       "      <th>206133</th>\n",
       "      <td>Joyworks: The Story of Marquette Electronics (...</td>\n",
       "      <td>['Michael J. Cudahy', 'Mike Cudahy']</td>\n",
       "      <td>Milwaukee County Historical</td>\n",
       "      <td>['Biography &amp; Autobiography']</td>\n",
       "      <td>2002</td>\n",
       "    </tr>\n",
       "    <tr>\n",
       "      <th>6663</th>\n",
       "      <td>Of Heretics and Martyrs in Meiji Japan: Buddhi...</td>\n",
       "      <td>['James Edward Ketelaar']</td>\n",
       "      <td>Princeton University Press</td>\n",
       "      <td>['History']</td>\n",
       "      <td>2020</td>\n",
       "    </tr>\n",
       "    <tr>\n",
       "      <th>10402</th>\n",
       "      <td>A+ Complete Lab Manual</td>\n",
       "      <td>['Stephen L. Herman']</td>\n",
       "      <td>Cengage Learning</td>\n",
       "      <td>['Education']</td>\n",
       "      <td>2015</td>\n",
       "    </tr>\n",
       "    <tr>\n",
       "      <th>116075</th>\n",
       "      <td>A day of pleasant bread</td>\n",
       "      <td>['David Grayson']</td>\n",
       "      <td>NaN</td>\n",
       "      <td>NaN</td>\n",
       "      <td>1939</td>\n",
       "    </tr>\n",
       "    <tr>\n",
       "      <th>122883</th>\n",
       "      <td>The Gift of the Giggles</td>\n",
       "      <td>['Lindy Creehan Kravec', 'George Titonis', 'Jo...</td>\n",
       "      <td>Bellaboozle Books Incorporated</td>\n",
       "      <td>['Juvenile Fiction']</td>\n",
       "      <td>2005</td>\n",
       "    </tr>\n",
       "  </tbody>\n",
       "</table>\n",
       "</div>"
      ],
      "text/plain": [
       "                                                    title  \\\n",
       "187636                               Feeling Good at Work   \n",
       "138588                                    You know me Al;   \n",
       "20787         The Rationality of Emotion (Bradford Books)   \n",
       "168131                            Guide to Spanish Idioms   \n",
       "79276                      The Corsican Woman: Unabridged   \n",
       "206133  Joyworks: The Story of Marquette Electronics (...   \n",
       "6663    Of Heretics and Martyrs in Meiji Japan: Buddhi...   \n",
       "10402                              A+ Complete Lab Manual   \n",
       "116075                            A day of pleasant bread   \n",
       "122883                            The Gift of the Giggles   \n",
       "\n",
       "                                                  authors  \\\n",
       "187636                                    ['Annie McKee']   \n",
       "138588                                   ['Ring Lardner']   \n",
       "20787                                 ['Ronald De Sousa']   \n",
       "168131                                   ['Peter Weibel']   \n",
       "79276                                 ['Alexandre Dumas']   \n",
       "206133               ['Michael J. Cudahy', 'Mike Cudahy']   \n",
       "6663                            ['James Edward Ketelaar']   \n",
       "10402                               ['Stephen L. Herman']   \n",
       "116075                                  ['David Grayson']   \n",
       "122883  ['Lindy Creehan Kravec', 'George Titonis', 'Jo...   \n",
       "\n",
       "                             publisher                     categories  \\\n",
       "187636          Harvard Business Press       ['Business & Economics']   \n",
       "138588       Barnes & Noble Publishing           ['Baseball players']   \n",
       "20787                        MIT Press                 ['Philosophy']   \n",
       "168131        McGraw Hill Professional     ['Foreign Language Study']   \n",
       "79276                         e-artnow                    ['Fiction']   \n",
       "206133     Milwaukee County Historical  ['Biography & Autobiography']   \n",
       "6663        Princeton University Press                    ['History']   \n",
       "10402                 Cengage Learning                  ['Education']   \n",
       "116075                             NaN                            NaN   \n",
       "122883  Bellaboozle Books Incorporated           ['Juvenile Fiction']   \n",
       "\n",
       "        published_year  \n",
       "187636            2018  \n",
       "138588            2004  \n",
       "20787             1990  \n",
       "168131            2004  \n",
       "79276             2016  \n",
       "206133            2002  \n",
       "6663              2020  \n",
       "10402             2015  \n",
       "116075            1939  \n",
       "122883            2005  "
      ]
     },
     "execution_count": 25,
     "metadata": {},
     "output_type": "execute_result"
    }
   ],
   "source": [
    "df_data_processed['published_year'] = df_data_processed['published_year'].apply(lambda x: mean_published_year if x==0 else x)\n",
    "df_data_processed.sample(10)"
   ]
  },
  {
   "cell_type": "code",
   "execution_count": 26,
   "metadata": {},
   "outputs": [],
   "source": [
    "def custom_string_to_list(s):\n",
    "    if isinstance(s, str):\n",
    "        return [item.strip(\" '[]\") for item in s.split(',')]\n",
    "    else:\n",
    "        return s"
   ]
  },
  {
   "cell_type": "code",
   "execution_count": 27,
   "metadata": {},
   "outputs": [],
   "source": [
    "#Updating the Authors to a list.\n",
    "#Updating Categories to list\n",
    "df_data_processed['authors'] = df_data_processed['authors'].apply(custom_string_to_list)\n",
    "df_data_processed['categories'] = df_data_processed['categories'].apply(custom_string_to_list)"
   ]
  },
  {
   "cell_type": "code",
   "execution_count": 28,
   "metadata": {},
   "outputs": [
    {
     "data": {
      "text/html": [
       "<div>\n",
       "<style scoped>\n",
       "    .dataframe tbody tr th:only-of-type {\n",
       "        vertical-align: middle;\n",
       "    }\n",
       "\n",
       "    .dataframe tbody tr th {\n",
       "        vertical-align: top;\n",
       "    }\n",
       "\n",
       "    .dataframe thead th {\n",
       "        text-align: right;\n",
       "    }\n",
       "</style>\n",
       "<table border=\"1\" class=\"dataframe\">\n",
       "  <thead>\n",
       "    <tr style=\"text-align: right;\">\n",
       "      <th></th>\n",
       "      <th>title</th>\n",
       "      <th>authors</th>\n",
       "      <th>publisher</th>\n",
       "      <th>categories</th>\n",
       "      <th>published_year</th>\n",
       "    </tr>\n",
       "  </thead>\n",
       "  <tbody>\n",
       "    <tr>\n",
       "      <th>134060</th>\n",
       "      <td>Galois theory;: Lectures delivered at the Univ...</td>\n",
       "      <td>[Emil Artin]</td>\n",
       "      <td>Courier Corporation</td>\n",
       "      <td>[Mathematics]</td>\n",
       "      <td>2012</td>\n",
       "    </tr>\n",
       "    <tr>\n",
       "      <th>2306</th>\n",
       "      <td>The Sunday Tertulia: A Novel</td>\n",
       "      <td>[Lori Marie Carlson]</td>\n",
       "      <td>Harper Collins</td>\n",
       "      <td>[Fiction]</td>\n",
       "      <td>2009</td>\n",
       "    </tr>\n",
       "    <tr>\n",
       "      <th>49270</th>\n",
       "      <td>Suddenly They're 13</td>\n",
       "      <td>[David and Claudia Arp]</td>\n",
       "      <td>Zondervan</td>\n",
       "      <td>[Religion]</td>\n",
       "      <td>2010</td>\n",
       "    </tr>\n",
       "    <tr>\n",
       "      <th>115253</th>\n",
       "      <td>BEYOND MONSTERS AND CLOWNS. THE COMBAT SS. : D...</td>\n",
       "      <td>[Karl H. Theile]</td>\n",
       "      <td>University Press of Amer</td>\n",
       "      <td>[History]</td>\n",
       "      <td>1997</td>\n",
       "    </tr>\n",
       "    <tr>\n",
       "      <th>120696</th>\n",
       "      <td>Virginians at home: Family life in the eightee...</td>\n",
       "      <td>[Edmund Sears Morgan]</td>\n",
       "      <td>Colonial Williamsburg Foundation</td>\n",
       "      <td>[History]</td>\n",
       "      <td>1952</td>\n",
       "    </tr>\n",
       "    <tr>\n",
       "      <th>194758</th>\n",
       "      <td>Food Choice and Obesity in Black America: Crea...</td>\n",
       "      <td>[Eric J. Bailey]</td>\n",
       "      <td>Greenwood Publishing Group</td>\n",
       "      <td>[African Americans]</td>\n",
       "      <td>2006</td>\n",
       "    </tr>\n",
       "    <tr>\n",
       "      <th>10043</th>\n",
       "      <td>Lake Geneva in Vintage Postcards (WI) (Postcar...</td>\n",
       "      <td>[Carolyn Hope Smeltzer, Martha Kiefer Cucco]</td>\n",
       "      <td>Arcadia Publishing</td>\n",
       "      <td>[History]</td>\n",
       "      <td>2005</td>\n",
       "    </tr>\n",
       "    <tr>\n",
       "      <th>16651</th>\n",
       "      <td>Where Are You Going, Manyoni?</td>\n",
       "      <td>[Catherine Stock]</td>\n",
       "      <td>Harpercollins Childrens Books</td>\n",
       "      <td>[Juvenile Fiction]</td>\n",
       "      <td>1993</td>\n",
       "    </tr>\n",
       "    <tr>\n",
       "      <th>61146</th>\n",
       "      <td>Twenty One Days to a Trained Dog</td>\n",
       "      <td>[Dick Maller, Jeffrey Feinman]</td>\n",
       "      <td>Simon and Schuster</td>\n",
       "      <td>[Pets]</td>\n",
       "      <td>1979</td>\n",
       "    </tr>\n",
       "    <tr>\n",
       "      <th>55622</th>\n",
       "      <td>The German campaigns in the Balkans (spring, 1...</td>\n",
       "      <td>[George E. Blau]</td>\n",
       "      <td>NaN</td>\n",
       "      <td>[World War, 1939-1945]</td>\n",
       "      <td>1986</td>\n",
       "    </tr>\n",
       "  </tbody>\n",
       "</table>\n",
       "</div>"
      ],
      "text/plain": [
       "                                                    title  \\\n",
       "134060  Galois theory;: Lectures delivered at the Univ...   \n",
       "2306                         The Sunday Tertulia: A Novel   \n",
       "49270                                 Suddenly They're 13   \n",
       "115253  BEYOND MONSTERS AND CLOWNS. THE COMBAT SS. : D...   \n",
       "120696  Virginians at home: Family life in the eightee...   \n",
       "194758  Food Choice and Obesity in Black America: Crea...   \n",
       "10043   Lake Geneva in Vintage Postcards (WI) (Postcar...   \n",
       "16651                       Where Are You Going, Manyoni?   \n",
       "61146                    Twenty One Days to a Trained Dog   \n",
       "55622   The German campaigns in the Balkans (spring, 1...   \n",
       "\n",
       "                                             authors  \\\n",
       "134060                                  [Emil Artin]   \n",
       "2306                            [Lori Marie Carlson]   \n",
       "49270                        [David and Claudia Arp]   \n",
       "115253                              [Karl H. Theile]   \n",
       "120696                         [Edmund Sears Morgan]   \n",
       "194758                              [Eric J. Bailey]   \n",
       "10043   [Carolyn Hope Smeltzer, Martha Kiefer Cucco]   \n",
       "16651                              [Catherine Stock]   \n",
       "61146                 [Dick Maller, Jeffrey Feinman]   \n",
       "55622                               [George E. Blau]   \n",
       "\n",
       "                               publisher              categories  \\\n",
       "134060               Courier Corporation           [Mathematics]   \n",
       "2306                      Harper Collins               [Fiction]   \n",
       "49270                          Zondervan              [Religion]   \n",
       "115253          University Press of Amer               [History]   \n",
       "120696  Colonial Williamsburg Foundation               [History]   \n",
       "194758        Greenwood Publishing Group     [African Americans]   \n",
       "10043                 Arcadia Publishing               [History]   \n",
       "16651      Harpercollins Childrens Books      [Juvenile Fiction]   \n",
       "61146                 Simon and Schuster                  [Pets]   \n",
       "55622                                NaN  [World War, 1939-1945]   \n",
       "\n",
       "        published_year  \n",
       "134060            2012  \n",
       "2306              2009  \n",
       "49270             2010  \n",
       "115253            1997  \n",
       "120696            1952  \n",
       "194758            2006  \n",
       "10043             2005  \n",
       "16651             1993  \n",
       "61146             1979  \n",
       "55622             1986  "
      ]
     },
     "execution_count": 28,
     "metadata": {},
     "output_type": "execute_result"
    }
   ],
   "source": [
    "df_data_processed.sample(10, random_state=20)"
   ]
  },
  {
   "cell_type": "code",
   "execution_count": 29,
   "metadata": {},
   "outputs": [
    {
     "data": {
      "text/html": [
       "<div>\n",
       "<style scoped>\n",
       "    .dataframe tbody tr th:only-of-type {\n",
       "        vertical-align: middle;\n",
       "    }\n",
       "\n",
       "    .dataframe tbody tr th {\n",
       "        vertical-align: top;\n",
       "    }\n",
       "\n",
       "    .dataframe thead th {\n",
       "        text-align: right;\n",
       "    }\n",
       "</style>\n",
       "<table border=\"1\" class=\"dataframe\">\n",
       "  <thead>\n",
       "    <tr style=\"text-align: right;\">\n",
       "      <th></th>\n",
       "      <th>title</th>\n",
       "      <th>helpfulness</th>\n",
       "      <th>review</th>\n",
       "      <th>review_time</th>\n",
       "      <th>text</th>\n",
       "    </tr>\n",
       "  </thead>\n",
       "  <tbody>\n",
       "    <tr>\n",
       "      <th>2068221</th>\n",
       "      <td>Circle of Friends</td>\n",
       "      <td>9/22</td>\n",
       "      <td>1.0</td>\n",
       "      <td>998611200</td>\n",
       "      <td>I read Circle of Friends a few years ago when ...</td>\n",
       "    </tr>\n",
       "    <tr>\n",
       "      <th>55931</th>\n",
       "      <td>Catspaw</td>\n",
       "      <td>0/1</td>\n",
       "      <td>5.0</td>\n",
       "      <td>978825600</td>\n",
       "      <td>You are taken on a ride perched on Cat's shoul...</td>\n",
       "    </tr>\n",
       "    <tr>\n",
       "      <th>227460</th>\n",
       "      <td>The Hidden Diary of Marie Antoinette (Robert A...</td>\n",
       "      <td>7/9</td>\n",
       "      <td>4.0</td>\n",
       "      <td>1125446400</td>\n",
       "      <td>In 1769, Father Kunibert demands that thirteen...</td>\n",
       "    </tr>\n",
       "    <tr>\n",
       "      <th>937168</th>\n",
       "      <td>Secrets of an Irresistible Woman: Smart Rules ...</td>\n",
       "      <td>5/5</td>\n",
       "      <td>5.0</td>\n",
       "      <td>1049760000</td>\n",
       "      <td>I have a very large library. This book and oth...</td>\n",
       "    </tr>\n",
       "    <tr>\n",
       "      <th>325814</th>\n",
       "      <td>Little women, or, Meg, Jo, Beth, and Amy</td>\n",
       "      <td>5/6</td>\n",
       "      <td>5.0</td>\n",
       "      <td>948067200</td>\n",
       "      <td>This book,was the best book I had ever read.It...</td>\n",
       "    </tr>\n",
       "  </tbody>\n",
       "</table>\n",
       "</div>"
      ],
      "text/plain": [
       "                                                     title helpfulness  \\\n",
       "2068221                                  Circle of Friends        9/22   \n",
       "55931                                              Catspaw         0/1   \n",
       "227460   The Hidden Diary of Marie Antoinette (Robert A...         7/9   \n",
       "937168   Secrets of an Irresistible Woman: Smart Rules ...         5/5   \n",
       "325814            Little women, or, Meg, Jo, Beth, and Amy         5/6   \n",
       "\n",
       "         review  review_time  \\\n",
       "2068221     1.0    998611200   \n",
       "55931       5.0    978825600   \n",
       "227460      4.0   1125446400   \n",
       "937168      5.0   1049760000   \n",
       "325814      5.0    948067200   \n",
       "\n",
       "                                                      text  \n",
       "2068221  I read Circle of Friends a few years ago when ...  \n",
       "55931    You are taken on a ride perched on Cat's shoul...  \n",
       "227460   In 1769, Father Kunibert demands that thirteen...  \n",
       "937168   I have a very large library. This book and oth...  \n",
       "325814   This book,was the best book I had ever read.It...  "
      ]
     },
     "execution_count": 29,
     "metadata": {},
     "output_type": "execute_result"
    }
   ],
   "source": [
    "df_rating_processed.sample(5)"
   ]
  },
  {
   "cell_type": "code",
   "execution_count": 30,
   "metadata": {},
   "outputs": [],
   "source": [
    "# CLEANING DATA FOR REVIEWS DATASET\n",
    "df_rating_processed['review_year'] = df_rating_processed['review_time'].apply(lambda x: datetime.utcfromtimestamp(x).year)\n",
    "\n",
    "df_rating_processed = df_rating_processed.drop(['review_time'], axis=1)"
   ]
  },
  {
   "cell_type": "code",
   "execution_count": 31,
   "metadata": {},
   "outputs": [
    {
     "data": {
      "text/html": [
       "<div>\n",
       "<style scoped>\n",
       "    .dataframe tbody tr th:only-of-type {\n",
       "        vertical-align: middle;\n",
       "    }\n",
       "\n",
       "    .dataframe tbody tr th {\n",
       "        vertical-align: top;\n",
       "    }\n",
       "\n",
       "    .dataframe thead th {\n",
       "        text-align: right;\n",
       "    }\n",
       "</style>\n",
       "<table border=\"1\" class=\"dataframe\">\n",
       "  <thead>\n",
       "    <tr style=\"text-align: right;\">\n",
       "      <th></th>\n",
       "      <th>title</th>\n",
       "      <th>helpfulness</th>\n",
       "      <th>review</th>\n",
       "      <th>text</th>\n",
       "      <th>review_year</th>\n",
       "    </tr>\n",
       "  </thead>\n",
       "  <tbody>\n",
       "    <tr>\n",
       "      <th>1009864</th>\n",
       "      <td>Sons</td>\n",
       "      <td>12/12</td>\n",
       "      <td>4.0</td>\n",
       "      <td>After devouring \"The Good Earth,\" I was dying ...</td>\n",
       "      <td>2006</td>\n",
       "    </tr>\n",
       "    <tr>\n",
       "      <th>2425398</th>\n",
       "      <td>Lucifer's Hammer</td>\n",
       "      <td>0/0</td>\n",
       "      <td>5.0</td>\n",
       "      <td>I've read this book 3 or 4 times since it came...</td>\n",
       "      <td>2012</td>\n",
       "    </tr>\n",
       "    <tr>\n",
       "      <th>2761104</th>\n",
       "      <td>The plague</td>\n",
       "      <td>1/1</td>\n",
       "      <td>5.0</td>\n",
       "      <td>This book will stay with me for a long time.It...</td>\n",
       "      <td>2012</td>\n",
       "    </tr>\n",
       "    <tr>\n",
       "      <th>2559655</th>\n",
       "      <td>The Dog of the South: Library Edition</td>\n",
       "      <td>1/1</td>\n",
       "      <td>5.0</td>\n",
       "      <td>The title works because this is the single bes...</td>\n",
       "      <td>2011</td>\n",
       "    </tr>\n",
       "    <tr>\n",
       "      <th>2413102</th>\n",
       "      <td>Eldest (Inheritance, Book 2)</td>\n",
       "      <td>11/16</td>\n",
       "      <td>5.0</td>\n",
       "      <td>I really loved this book. That's why I gave it...</td>\n",
       "      <td>2005</td>\n",
       "    </tr>\n",
       "    <tr>\n",
       "      <th>1931599</th>\n",
       "      <td>Lord of the Silent</td>\n",
       "      <td>1/1</td>\n",
       "      <td>5.0</td>\n",
       "      <td>This is an awesome book, blending romance, int...</td>\n",
       "      <td>2012</td>\n",
       "    </tr>\n",
       "    <tr>\n",
       "      <th>303071</th>\n",
       "      <td>Forbidden Flowers: More Women's Sexual Fantasies</td>\n",
       "      <td>28/30</td>\n",
       "      <td>2.0</td>\n",
       "      <td>While the book was plentiful of wild, sensual ...</td>\n",
       "      <td>1999</td>\n",
       "    </tr>\n",
       "    <tr>\n",
       "      <th>1720088</th>\n",
       "      <td>Baby Whisperer Solves All Your Problems</td>\n",
       "      <td>10/13</td>\n",
       "      <td>5.0</td>\n",
       "      <td>Like most people, I read various parenting boo...</td>\n",
       "      <td>2005</td>\n",
       "    </tr>\n",
       "    <tr>\n",
       "      <th>1044702</th>\n",
       "      <td>Nathaniel</td>\n",
       "      <td>0/0</td>\n",
       "      <td>5.0</td>\n",
       "      <td>This is the type of horror story in which you ...</td>\n",
       "      <td>1996</td>\n",
       "    </tr>\n",
       "    <tr>\n",
       "      <th>2953667</th>\n",
       "      <td>Cane River</td>\n",
       "      <td>5/7</td>\n",
       "      <td>5.0</td>\n",
       "      <td>I loved this book! The writer does an incredib...</td>\n",
       "      <td>2006</td>\n",
       "    </tr>\n",
       "  </tbody>\n",
       "</table>\n",
       "</div>"
      ],
      "text/plain": [
       "                                                    title helpfulness  review  \\\n",
       "1009864                                              Sons       12/12     4.0   \n",
       "2425398                                  Lucifer's Hammer         0/0     5.0   \n",
       "2761104                                        The plague         1/1     5.0   \n",
       "2559655             The Dog of the South: Library Edition         1/1     5.0   \n",
       "2413102                      Eldest (Inheritance, Book 2)       11/16     5.0   \n",
       "1931599                                Lord of the Silent         1/1     5.0   \n",
       "303071   Forbidden Flowers: More Women's Sexual Fantasies       28/30     2.0   \n",
       "1720088           Baby Whisperer Solves All Your Problems       10/13     5.0   \n",
       "1044702                                         Nathaniel         0/0     5.0   \n",
       "2953667                                        Cane River         5/7     5.0   \n",
       "\n",
       "                                                      text  review_year  \n",
       "1009864  After devouring \"The Good Earth,\" I was dying ...         2006  \n",
       "2425398  I've read this book 3 or 4 times since it came...         2012  \n",
       "2761104  This book will stay with me for a long time.It...         2012  \n",
       "2559655  The title works because this is the single bes...         2011  \n",
       "2413102  I really loved this book. That's why I gave it...         2005  \n",
       "1931599  This is an awesome book, blending romance, int...         2012  \n",
       "303071   While the book was plentiful of wild, sensual ...         1999  \n",
       "1720088  Like most people, I read various parenting boo...         2005  \n",
       "1044702  This is the type of horror story in which you ...         1996  \n",
       "2953667  I loved this book! The writer does an incredib...         2006  "
      ]
     },
     "execution_count": 31,
     "metadata": {},
     "output_type": "execute_result"
    }
   ],
   "source": [
    "df_rating_processed.sample(10)"
   ]
  },
  {
   "cell_type": "code",
   "execution_count": 32,
   "metadata": {},
   "outputs": [],
   "source": [
    "#Changing helpfulness to a porcentual value\n",
    "def get_helpfulness_as_porcentual_value_0(x):\n",
    "    if  x == '0/0':\n",
    "        return 0\n",
    "    elif x.split('/')[0] == '0':\n",
    "        return 0\n",
    "    else:\n",
    "        dividend = int(x.split('/')[0])\n",
    "        divisor = int(x.split('/')[1])\n",
    "        return dividend/divisor\n",
    "    \n",
    "def get_helpfulness_as_porcentual_value_1(x):\n",
    "    if  x == '0/0':\n",
    "        return 1\n",
    "    elif x.split('/')[0] == '0':\n",
    "        return 0\n",
    "    else:\n",
    "        dividend = int(x.split('/')[0])\n",
    "        divisor = int(x.split('/')[1])\n",
    "        return dividend/divisor"
   ]
  },
  {
   "cell_type": "code",
   "execution_count": 33,
   "metadata": {},
   "outputs": [],
   "source": [
    "df_rating_processed['helpfulness_0'] = df_rating_processed['helpfulness'].apply(lambda x: get_helpfulness_as_porcentual_value_0(x))\n",
    "df_rating_processed['helpfulness_1'] = df_rating_processed['helpfulness'].apply(lambda x: get_helpfulness_as_porcentual_value_1(x))\n",
    "df_rating_processed = df_rating_processed.drop(['helpfulness'], axis=1)"
   ]
  },
  {
   "cell_type": "code",
   "execution_count": 34,
   "metadata": {},
   "outputs": [
    {
     "data": {
      "text/html": [
       "<div>\n",
       "<style scoped>\n",
       "    .dataframe tbody tr th:only-of-type {\n",
       "        vertical-align: middle;\n",
       "    }\n",
       "\n",
       "    .dataframe tbody tr th {\n",
       "        vertical-align: top;\n",
       "    }\n",
       "\n",
       "    .dataframe thead th {\n",
       "        text-align: right;\n",
       "    }\n",
       "</style>\n",
       "<table border=\"1\" class=\"dataframe\">\n",
       "  <thead>\n",
       "    <tr style=\"text-align: right;\">\n",
       "      <th></th>\n",
       "      <th>title</th>\n",
       "      <th>review</th>\n",
       "      <th>text</th>\n",
       "      <th>review_year</th>\n",
       "      <th>helpfulness_0</th>\n",
       "      <th>helpfulness_1</th>\n",
       "    </tr>\n",
       "  </thead>\n",
       "  <tbody>\n",
       "    <tr>\n",
       "      <th>1962809</th>\n",
       "      <td>Wuthering Heights (College classics in English)</td>\n",
       "      <td>5.0</td>\n",
       "      <td>This is the only novel by Emily Bronte, one of...</td>\n",
       "      <td>2006</td>\n",
       "      <td>0.500000</td>\n",
       "      <td>0.500000</td>\n",
       "    </tr>\n",
       "    <tr>\n",
       "      <th>2110720</th>\n",
       "      <td>Wuthering Heights</td>\n",
       "      <td>4.0</td>\n",
       "      <td>Though this may be a romance, it isn't one in ...</td>\n",
       "      <td>2004</td>\n",
       "      <td>0.333333</td>\n",
       "      <td>0.333333</td>\n",
       "    </tr>\n",
       "    <tr>\n",
       "      <th>2305005</th>\n",
       "      <td>The Lantern Bearers</td>\n",
       "      <td>4.0</td>\n",
       "      <td>amusing story, would not reccomend for many pe...</td>\n",
       "      <td>2008</td>\n",
       "      <td>0.000000</td>\n",
       "      <td>0.000000</td>\n",
       "    </tr>\n",
       "    <tr>\n",
       "      <th>924577</th>\n",
       "      <td>Reporters: Memoirs of a Young Newspaperman</td>\n",
       "      <td>5.0</td>\n",
       "      <td>This book conincides with the interview I had ...</td>\n",
       "      <td>2005</td>\n",
       "      <td>1.000000</td>\n",
       "      <td>1.000000</td>\n",
       "    </tr>\n",
       "    <tr>\n",
       "      <th>261314</th>\n",
       "      <td>Different Dances</td>\n",
       "      <td>5.0</td>\n",
       "      <td>These simple drawings, one or just a few per p...</td>\n",
       "      <td>2004</td>\n",
       "      <td>1.000000</td>\n",
       "      <td>1.000000</td>\n",
       "    </tr>\n",
       "    <tr>\n",
       "      <th>1394618</th>\n",
       "      <td>Beauty's Punishment</td>\n",
       "      <td>5.0</td>\n",
       "      <td>Used books were received very quickly, and in ...</td>\n",
       "      <td>2010</td>\n",
       "      <td>0.333333</td>\n",
       "      <td>0.333333</td>\n",
       "    </tr>\n",
       "    <tr>\n",
       "      <th>1636298</th>\n",
       "      <td>Effective Interviewing and Interrogation Techn...</td>\n",
       "      <td>5.0</td>\n",
       "      <td>I've never done much of this kind of stuff bef...</td>\n",
       "      <td>2010</td>\n",
       "      <td>0.500000</td>\n",
       "      <td>0.500000</td>\n",
       "    </tr>\n",
       "    <tr>\n",
       "      <th>1291952</th>\n",
       "      <td>Rabble In Arms</td>\n",
       "      <td>4.0</td>\n",
       "      <td>This novel was my first Roberts, and probably ...</td>\n",
       "      <td>2007</td>\n",
       "      <td>1.000000</td>\n",
       "      <td>1.000000</td>\n",
       "    </tr>\n",
       "    <tr>\n",
       "      <th>385128</th>\n",
       "      <td>Greek Myths for Young Children</td>\n",
       "      <td>5.0</td>\n",
       "      <td>This is a fantastic way to get kids reading Gr...</td>\n",
       "      <td>2012</td>\n",
       "      <td>0.000000</td>\n",
       "      <td>1.000000</td>\n",
       "    </tr>\n",
       "    <tr>\n",
       "      <th>2195816</th>\n",
       "      <td>Spyro the Dragon: Prima's Official Strategy Guide</td>\n",
       "      <td>5.0</td>\n",
       "      <td>This is perfect for finding all the secrets an...</td>\n",
       "      <td>2010</td>\n",
       "      <td>0.000000</td>\n",
       "      <td>1.000000</td>\n",
       "    </tr>\n",
       "  </tbody>\n",
       "</table>\n",
       "</div>"
      ],
      "text/plain": [
       "                                                     title  review  \\\n",
       "1962809    Wuthering Heights (College classics in English)     5.0   \n",
       "2110720                                  Wuthering Heights     4.0   \n",
       "2305005                                The Lantern Bearers     4.0   \n",
       "924577          Reporters: Memoirs of a Young Newspaperman     5.0   \n",
       "261314                                    Different Dances     5.0   \n",
       "1394618                                Beauty's Punishment     5.0   \n",
       "1636298  Effective Interviewing and Interrogation Techn...     5.0   \n",
       "1291952                                     Rabble In Arms     4.0   \n",
       "385128                      Greek Myths for Young Children     5.0   \n",
       "2195816  Spyro the Dragon: Prima's Official Strategy Guide     5.0   \n",
       "\n",
       "                                                      text  review_year  \\\n",
       "1962809  This is the only novel by Emily Bronte, one of...         2006   \n",
       "2110720  Though this may be a romance, it isn't one in ...         2004   \n",
       "2305005  amusing story, would not reccomend for many pe...         2008   \n",
       "924577   This book conincides with the interview I had ...         2005   \n",
       "261314   These simple drawings, one or just a few per p...         2004   \n",
       "1394618  Used books were received very quickly, and in ...         2010   \n",
       "1636298  I've never done much of this kind of stuff bef...         2010   \n",
       "1291952  This novel was my first Roberts, and probably ...         2007   \n",
       "385128   This is a fantastic way to get kids reading Gr...         2012   \n",
       "2195816  This is perfect for finding all the secrets an...         2010   \n",
       "\n",
       "         helpfulness_0  helpfulness_1  \n",
       "1962809       0.500000       0.500000  \n",
       "2110720       0.333333       0.333333  \n",
       "2305005       0.000000       0.000000  \n",
       "924577        1.000000       1.000000  \n",
       "261314        1.000000       1.000000  \n",
       "1394618       0.333333       0.333333  \n",
       "1636298       0.500000       0.500000  \n",
       "1291952       1.000000       1.000000  \n",
       "385128        0.000000       1.000000  \n",
       "2195816       0.000000       1.000000  "
      ]
     },
     "execution_count": 34,
     "metadata": {},
     "output_type": "execute_result"
    }
   ],
   "source": [
    "df_rating_processed.sample(10)"
   ]
  },
  {
   "cell_type": "code",
   "execution_count": 35,
   "metadata": {},
   "outputs": [
    {
     "name": "stdout",
     "output_type": "stream",
     "text": [
      "<class 'pandas.core.frame.DataFrame'>\n",
      "RangeIndex: 2666314 entries, 0 to 2666313\n",
      "Data columns (total 10 columns):\n",
      " #   Column          Dtype  \n",
      "---  ------          -----  \n",
      " 0   title           object \n",
      " 1   review          float64\n",
      " 2   text            object \n",
      " 3   review_year     int64  \n",
      " 4   helpfulness_0   float64\n",
      " 5   helpfulness_1   float64\n",
      " 6   authors         object \n",
      " 7   publisher       object \n",
      " 8   categories      object \n",
      " 9   published_year  int64  \n",
      "dtypes: float64(3), int64(2), object(5)\n",
      "memory usage: 203.4+ MB\n"
     ]
    }
   ],
   "source": [
    "#Merge The Two Datasets.\n",
    "df_all_data_processed = pd.merge(df_rating_processed, df_data_processed, on='title', how='inner')\n",
    "df_all_data_processed.info()"
   ]
  },
  {
   "cell_type": "markdown",
   "metadata": {},
   "source": [
    "Title Feature Removal: This feature is unique for each book. And it is extremly correlated with Authors. As the same \n",
    "        book Title will always have the same author. So, authors feature is kept and Title is removed."
   ]
  },
  {
   "cell_type": "code",
   "execution_count": 36,
   "metadata": {},
   "outputs": [],
   "source": [
    "df_all_data_processed = df_all_data_processed.drop(['title'], axis=1)"
   ]
  },
  {
   "cell_type": "code",
   "execution_count": 37,
   "metadata": {},
   "outputs": [
    {
     "data": {
      "text/html": [
       "<div>\n",
       "<style scoped>\n",
       "    .dataframe tbody tr th:only-of-type {\n",
       "        vertical-align: middle;\n",
       "    }\n",
       "\n",
       "    .dataframe tbody tr th {\n",
       "        vertical-align: top;\n",
       "    }\n",
       "\n",
       "    .dataframe thead th {\n",
       "        text-align: right;\n",
       "    }\n",
       "</style>\n",
       "<table border=\"1\" class=\"dataframe\">\n",
       "  <thead>\n",
       "    <tr style=\"text-align: right;\">\n",
       "      <th></th>\n",
       "      <th>review</th>\n",
       "      <th>text</th>\n",
       "      <th>review_year</th>\n",
       "      <th>helpfulness_0</th>\n",
       "      <th>helpfulness_1</th>\n",
       "      <th>authors</th>\n",
       "      <th>publisher</th>\n",
       "      <th>categories</th>\n",
       "      <th>published_year</th>\n",
       "    </tr>\n",
       "  </thead>\n",
       "  <tbody>\n",
       "    <tr>\n",
       "      <th>1082240</th>\n",
       "      <td>5.0</td>\n",
       "      <td>Brought memories of many wonderful, frustratin...</td>\n",
       "      <td>2002</td>\n",
       "      <td>1.000000</td>\n",
       "      <td>1.000000</td>\n",
       "      <td>[Brooke McEldowney]</td>\n",
       "      <td>Andrews McMeel Publishing</td>\n",
       "      <td>[Humor]</td>\n",
       "      <td>2002</td>\n",
       "    </tr>\n",
       "    <tr>\n",
       "      <th>1395657</th>\n",
       "      <td>5.0</td>\n",
       "      <td>It is said by some to be the best novel of the...</td>\n",
       "      <td>2013</td>\n",
       "      <td>0.000000</td>\n",
       "      <td>1.000000</td>\n",
       "      <td>[J. R. R. Tolkien]</td>\n",
       "      <td>NaN</td>\n",
       "      <td>[Baggins, Bilbo (Fictitious character)]</td>\n",
       "      <td>1996</td>\n",
       "    </tr>\n",
       "    <tr>\n",
       "      <th>1212926</th>\n",
       "      <td>5.0</td>\n",
       "      <td>Anita Shreve outdid herself on this work. I tu...</td>\n",
       "      <td>2009</td>\n",
       "      <td>0.000000</td>\n",
       "      <td>1.000000</td>\n",
       "      <td>[Jennifer A. Nielsen]</td>\n",
       "      <td>Scholastic Press</td>\n",
       "      <td>[Juvenile Fiction]</td>\n",
       "      <td>2018</td>\n",
       "    </tr>\n",
       "    <tr>\n",
       "      <th>1916059</th>\n",
       "      <td>3.0</td>\n",
       "      <td>As some of the other reviewers mentioned, this...</td>\n",
       "      <td>2006</td>\n",
       "      <td>1.000000</td>\n",
       "      <td>1.000000</td>\n",
       "      <td>[Ron K.C. Cheng]</td>\n",
       "      <td>Cengage Learning</td>\n",
       "      <td>[Technology &amp; Engineering]</td>\n",
       "      <td>2013</td>\n",
       "    </tr>\n",
       "    <tr>\n",
       "      <th>2520646</th>\n",
       "      <td>5.0</td>\n",
       "      <td>Guinness Book of World Records (Dad gave it to...</td>\n",
       "      <td>2002</td>\n",
       "      <td>0.000000</td>\n",
       "      <td>0.000000</td>\n",
       "      <td>[Mark C. Young]</td>\n",
       "      <td>Bantam</td>\n",
       "      <td>[Reference]</td>\n",
       "      <td>2001</td>\n",
       "    </tr>\n",
       "    <tr>\n",
       "      <th>1438450</th>\n",
       "      <td>5.0</td>\n",
       "      <td>She: A History of Adventure is a sensual class...</td>\n",
       "      <td>2011</td>\n",
       "      <td>0.000000</td>\n",
       "      <td>0.000000</td>\n",
       "      <td>[Tanya Markul]</td>\n",
       "      <td>Andrews McMeel Publishing</td>\n",
       "      <td>[Poetry]</td>\n",
       "      <td>2019</td>\n",
       "    </tr>\n",
       "    <tr>\n",
       "      <th>1772603</th>\n",
       "      <td>5.0</td>\n",
       "      <td>This would be an excellent choice to bring bac...</td>\n",
       "      <td>2001</td>\n",
       "      <td>1.000000</td>\n",
       "      <td>1.000000</td>\n",
       "      <td>[Charles N. Brown, William Contento]</td>\n",
       "      <td>Locus Pub</td>\n",
       "      <td>[Science fiction]</td>\n",
       "      <td>1986</td>\n",
       "    </tr>\n",
       "    <tr>\n",
       "      <th>2078457</th>\n",
       "      <td>5.0</td>\n",
       "      <td>This book provided valuble insight into the wo...</td>\n",
       "      <td>1998</td>\n",
       "      <td>1.000000</td>\n",
       "      <td>1.000000</td>\n",
       "      <td>[James G. Simmonds]</td>\n",
       "      <td>Springer Science &amp; Business Media</td>\n",
       "      <td>[Mathematics]</td>\n",
       "      <td>2012</td>\n",
       "    </tr>\n",
       "    <tr>\n",
       "      <th>1987776</th>\n",
       "      <td>5.0</td>\n",
       "      <td>it's the most revolutionary book in print... I...</td>\n",
       "      <td>1998</td>\n",
       "      <td>0.857143</td>\n",
       "      <td>0.857143</td>\n",
       "      <td>[Mary Baker Eddy]</td>\n",
       "      <td>Aequus Institute Publications</td>\n",
       "      <td>[Body, Mind &amp; Spirit]</td>\n",
       "      <td>1986</td>\n",
       "    </tr>\n",
       "    <tr>\n",
       "      <th>448871</th>\n",
       "      <td>5.0</td>\n",
       "      <td>This is a must read book for married couples (...</td>\n",
       "      <td>2012</td>\n",
       "      <td>1.000000</td>\n",
       "      <td>1.000000</td>\n",
       "      <td>[Gary Chapman]</td>\n",
       "      <td>Moody Publishers</td>\n",
       "      <td>[Family &amp; Relationships]</td>\n",
       "      <td>2014</td>\n",
       "    </tr>\n",
       "  </tbody>\n",
       "</table>\n",
       "</div>"
      ],
      "text/plain": [
       "         review                                               text  \\\n",
       "1082240     5.0  Brought memories of many wonderful, frustratin...   \n",
       "1395657     5.0  It is said by some to be the best novel of the...   \n",
       "1212926     5.0  Anita Shreve outdid herself on this work. I tu...   \n",
       "1916059     3.0  As some of the other reviewers mentioned, this...   \n",
       "2520646     5.0  Guinness Book of World Records (Dad gave it to...   \n",
       "1438450     5.0  She: A History of Adventure is a sensual class...   \n",
       "1772603     5.0  This would be an excellent choice to bring bac...   \n",
       "2078457     5.0  This book provided valuble insight into the wo...   \n",
       "1987776     5.0  it's the most revolutionary book in print... I...   \n",
       "448871      5.0  This is a must read book for married couples (...   \n",
       "\n",
       "         review_year  helpfulness_0  helpfulness_1  \\\n",
       "1082240         2002       1.000000       1.000000   \n",
       "1395657         2013       0.000000       1.000000   \n",
       "1212926         2009       0.000000       1.000000   \n",
       "1916059         2006       1.000000       1.000000   \n",
       "2520646         2002       0.000000       0.000000   \n",
       "1438450         2011       0.000000       0.000000   \n",
       "1772603         2001       1.000000       1.000000   \n",
       "2078457         1998       1.000000       1.000000   \n",
       "1987776         1998       0.857143       0.857143   \n",
       "448871          2012       1.000000       1.000000   \n",
       "\n",
       "                                      authors  \\\n",
       "1082240                   [Brooke McEldowney]   \n",
       "1395657                    [J. R. R. Tolkien]   \n",
       "1212926                 [Jennifer A. Nielsen]   \n",
       "1916059                      [Ron K.C. Cheng]   \n",
       "2520646                       [Mark C. Young]   \n",
       "1438450                        [Tanya Markul]   \n",
       "1772603  [Charles N. Brown, William Contento]   \n",
       "2078457                   [James G. Simmonds]   \n",
       "1987776                     [Mary Baker Eddy]   \n",
       "448871                         [Gary Chapman]   \n",
       "\n",
       "                                 publisher  \\\n",
       "1082240          Andrews McMeel Publishing   \n",
       "1395657                                NaN   \n",
       "1212926                   Scholastic Press   \n",
       "1916059                   Cengage Learning   \n",
       "2520646                             Bantam   \n",
       "1438450          Andrews McMeel Publishing   \n",
       "1772603                          Locus Pub   \n",
       "2078457  Springer Science & Business Media   \n",
       "1987776      Aequus Institute Publications   \n",
       "448871                    Moody Publishers   \n",
       "\n",
       "                                      categories  published_year  \n",
       "1082240                                  [Humor]            2002  \n",
       "1395657  [Baggins, Bilbo (Fictitious character)]            1996  \n",
       "1212926                       [Juvenile Fiction]            2018  \n",
       "1916059               [Technology & Engineering]            2013  \n",
       "2520646                              [Reference]            2001  \n",
       "1438450                                 [Poetry]            2019  \n",
       "1772603                        [Science fiction]            1986  \n",
       "2078457                            [Mathematics]            2012  \n",
       "1987776                    [Body, Mind & Spirit]            1986  \n",
       "448871                  [Family & Relationships]            2014  "
      ]
     },
     "execution_count": 37,
     "metadata": {},
     "output_type": "execute_result"
    }
   ],
   "source": [
    "df_all_data_processed.sample(10)"
   ]
  },
  {
   "cell_type": "code",
   "execution_count": 38,
   "metadata": {},
   "outputs": [],
   "source": [
    "#FIXME\n",
    "# Primero Aplico al Dataset Original acoto por los años que voy a tomar\n",
    "# Sobre ese valor calculo el dataset.\n",
    "# Hago el train test split sobre el sample aplico el EDA."
   ]
  },
  {
   "cell_type": "markdown",
   "metadata": {},
   "source": [
    "## Dataset Filtering and Sampling"
   ]
  },
  {
   "cell_type": "markdown",
   "metadata": {},
   "source": [
    "### Filtering\n",
    "\n",
    "The hypotesis of the current analysis is predicting the review score of the review, based on the review and book information contained on this dataset.\n",
    "\n",
    "\n",
    "- Microsoft Internet Explorer was first release on 1995\n",
    "- Google was released on August 1996\n",
    "- Yahoo! was resleased on 1994\n",
    "\n",
    "Web Browsers History\n",
    "- Safari was first released on 2003\n",
    "- Firefox was first released on 2004\n",
    "- Opera Browser was first release on 2005\n",
    "- Google Chrome was first released on 2008\n",
    "- Microsoft Edge was first released on 2015\n",
    "\n",
    "\n",
    "\n",
    "\n",
    "\n",
    "Review Year: Based on the tools (web browsers, access to internet, culture, digitalization) available during the last decade of the reviews on the Dataset, the scope of the analysis is reduced to reviews performed from 2003 and until 2013."
   ]
  },
  {
   "cell_type": "code",
   "execution_count": 39,
   "metadata": {},
   "outputs": [
    {
     "data": {
      "text/plain": [
       "count    2.666314e+06\n",
       "mean     2.005394e+03\n",
       "std      4.747336e+00\n",
       "min      1.969000e+03\n",
       "25%      2.001000e+03\n",
       "50%      2.005000e+03\n",
       "75%      2.010000e+03\n",
       "max      2.013000e+03\n",
       "Name: review_year, dtype: float64"
      ]
     },
     "execution_count": 39,
     "metadata": {},
     "output_type": "execute_result"
    }
   ],
   "source": [
    "df_all_data_processed['review_year'].describe().T"
   ]
  },
  {
   "cell_type": "code",
   "execution_count": 40,
   "metadata": {},
   "outputs": [
    {
     "data": {
      "image/png": "[encoded data removed]",
      "text/plain": [
       "<Figure size 640x480 with 1 Axes>"
      ]
     },
     "metadata": {},
     "output_type": "display_data"
    }
   ],
   "source": [
    "df_all_data_processed['review_year'].hist(bins=30)\n",
    "plt.show()"
   ]
  },
  {
   "cell_type": "code",
   "execution_count": 41,
   "metadata": {},
   "outputs": [],
   "source": [
    "df_all_data_processed = df_all_data_processed[df_all_data_processed['review_year']>=2003]"
   ]
  },
  {
   "cell_type": "code",
   "execution_count": 42,
   "metadata": {},
   "outputs": [],
   "source": [
    "df_all_data_processed.reset_index(drop=True, inplace=True)"
   ]
  },
  {
   "cell_type": "code",
   "execution_count": 43,
   "metadata": {},
   "outputs": [
    {
     "name": "stdout",
     "output_type": "stream",
     "text": [
      "<class 'pandas.core.frame.DataFrame'>\n",
      "RangeIndex: 1782972 entries, 0 to 1782971\n",
      "Data columns (total 9 columns):\n",
      " #   Column          Dtype  \n",
      "---  ------          -----  \n",
      " 0   review          float64\n",
      " 1   text            object \n",
      " 2   review_year     int64  \n",
      " 3   helpfulness_0   float64\n",
      " 4   helpfulness_1   float64\n",
      " 5   authors         object \n",
      " 6   publisher       object \n",
      " 7   categories      object \n",
      " 8   published_year  int64  \n",
      "dtypes: float64(3), int64(2), object(4)\n",
      "memory usage: 122.4+ MB\n"
     ]
    }
   ],
   "source": [
    "df_all_data_processed.info()"
   ]
  },
  {
   "cell_type": "code",
   "execution_count": 44,
   "metadata": {},
   "outputs": [
    {
     "data": {
      "image/png": "[encoded data removed]",
      "text/plain": [
       "<Figure size 640x480 with 1 Axes>"
      ]
     },
     "metadata": {},
     "output_type": "display_data"
    }
   ],
   "source": [
    "df_all_data_processed['review_year'].hist(bins=30)\n",
    "plt.show()"
   ]
  },
  {
   "cell_type": "markdown",
   "metadata": {},
   "source": [
    "Dataset is filtered by published year. Amazon Books was founded on 1995. Books published before this year are removed from the dataset. Scope is reduced to Books published during the Amazon Books Web Store existance."
   ]
  },
  {
   "cell_type": "code",
   "execution_count": 45,
   "metadata": {},
   "outputs": [],
   "source": [
    "df_all_data_processed = df_all_data_processed[(df_all_data_processed['published_year'] > 2003) & (df_all_data_processed['published_year'] <= 2013)]"
   ]
  },
  {
   "cell_type": "code",
   "execution_count": 46,
   "metadata": {},
   "outputs": [],
   "source": [
    "df_all_data_processed.reset_index(drop=True, inplace=True)"
   ]
  },
  {
   "cell_type": "code",
   "execution_count": 47,
   "metadata": {},
   "outputs": [
    {
     "name": "stdout",
     "output_type": "stream",
     "text": [
      "<class 'pandas.core.frame.DataFrame'>\n",
      "RangeIndex: 736644 entries, 0 to 736643\n",
      "Data columns (total 9 columns):\n",
      " #   Column          Non-Null Count   Dtype  \n",
      "---  ------          --------------   -----  \n",
      " 0   review          736644 non-null  float64\n",
      " 1   text            736644 non-null  object \n",
      " 2   review_year     736644 non-null  int64  \n",
      " 3   helpfulness_0   736644 non-null  float64\n",
      " 4   helpfulness_1   736644 non-null  float64\n",
      " 5   authors         728054 non-null  object \n",
      " 6   publisher       677789 non-null  object \n",
      " 7   categories      720895 non-null  object \n",
      " 8   published_year  736644 non-null  int64  \n",
      "dtypes: float64(3), int64(2), object(4)\n",
      "memory usage: 50.6+ MB\n"
     ]
    }
   ],
   "source": [
    "df_all_data_processed.info()"
   ]
  },
  {
   "cell_type": "code",
   "execution_count": 48,
   "metadata": {},
   "outputs": [
    {
     "data": {
      "image/png": "[encoded data removed]",
      "text/plain": [
       "<Figure size 640x480 with 1 Axes>"
      ]
     },
     "metadata": {},
     "output_type": "display_data"
    }
   ],
   "source": [
    "df_all_data_processed['published_year'].hist(bins=30)\n",
    "plt.show()"
   ]
  },
  {
   "cell_type": "code",
   "execution_count": 49,
   "metadata": {},
   "outputs": [
    {
     "name": "stdout",
     "output_type": "stream",
     "text": [
      "<class 'pandas.core.frame.DataFrame'>\n",
      "RangeIndex: 400982 entries, 0 to 400981\n",
      "Data columns (total 9 columns):\n",
      " #   Column          Non-Null Count   Dtype  \n",
      "---  ------          --------------   -----  \n",
      " 0   review          400982 non-null  float64\n",
      " 1   text            400982 non-null  object \n",
      " 2   review_year     400982 non-null  int64  \n",
      " 3   helpfulness_0   400982 non-null  float64\n",
      " 4   helpfulness_1   400982 non-null  float64\n",
      " 5   authors         395251 non-null  object \n",
      " 6   publisher       363953 non-null  object \n",
      " 7   categories      393307 non-null  object \n",
      " 8   published_year  400982 non-null  int64  \n",
      "dtypes: float64(3), int64(2), object(4)\n",
      "memory usage: 27.5+ MB\n"
     ]
    }
   ],
   "source": [
    "df_all_data_processed = df_all_data_processed[df_all_data_processed['review_year'] >= df_all_data_processed['published_year']]\n",
    "df_all_data_processed.reset_index(drop=True, inplace=True)\n",
    "df_all_data_processed.info()"
   ]
  },
  {
   "cell_type": "code",
   "execution_count": 50,
   "metadata": {},
   "outputs": [
    {
     "data": {
      "image/png": "[encoded data removed]",
      "text/plain": [
       "<Figure size 640x480 with 1 Axes>"
      ]
     },
     "metadata": {},
     "output_type": "display_data"
    }
   ],
   "source": [
    "df_all_data_processed['published_year'].hist(bins=30)\n",
    "plt.show()"
   ]
  },
  {
   "cell_type": "code",
   "execution_count": 51,
   "metadata": {},
   "outputs": [
    {
     "data": {
      "image/png": "[encoded data removed]",
      "text/plain": [
       "<Figure size 640x480 with 1 Axes>"
      ]
     },
     "metadata": {},
     "output_type": "display_data"
    }
   ],
   "source": [
    "df_all_data_processed['review_year'].hist(bins=30)\n",
    "plt.show()"
   ]
  },
  {
   "cell_type": "markdown",
   "metadata": {},
   "source": [
    "### Sampling\n",
    "\n",
    "Sample Size Calculation formula from Survey Monkey (https://www.surveymonkey.com/mp/sample-size-calculator/) is used to calculate a extract a ramdom sample of the dataset.\n",
    "In order to reduce the dataset size and apply NLP to the text column.\n",
    "\n",
    "For the given formula: \n",
    "\n",
    "   $$ sample size =  \\frac{\\frac{z^2xp(1-p)}{e^2}}{1 + \\frac{z^2xp(1-p)}{e^2N}} $$\n",
    "\n",
    "with:\n",
    "- N = population size \n",
    "- e = Margin of error (percentage in decimal form) \n",
    "- z = z-score\n",
    "- p = sample proportion\n",
    "\n",
    "\n",
    "| Desired confidence level\t| z-score |\n",
    "|--------------------------|---------|\n",
    "|            80%           |   1.28  |\n",
    "|            85%\t         |   1.44  |\n",
    "|            90%\t         |   1.65  |\n",
    "|            95%\t         |   1.96  |\n",
    "|            99%\t         |   2.58  |\n",
    "\n",
    "\n",
    "Setting N = 400 982, e = 0.1% and z = 2.58\n",
    "\n",
    "sample size = 15978. \n",
    "\n",
    "A sample of **15978** entries will be extracted from the Dataset to be processed and to train and test the model."
   ]
  },
  {
   "cell_type": "code",
   "execution_count": 52,
   "metadata": {},
   "outputs": [
    {
     "name": "stdout",
     "output_type": "stream",
     "text": [
      "Sample size is: 15978\n"
     ]
    }
   ],
   "source": [
    "N = df_all_data_processed.shape[0] - 1\n",
    "e = 0.01 #Margin of error = 0.1%\n",
    "z = 2.58 # Desired confidence level = 99%, so z-score = 2.58\n",
    "p = 0.5 #Used 0.5 as a conservative approach. It will give the largest sample size\n",
    "\n",
    "sample_size = ( ((z*z)*p*(1-p))/(e*e) )/(1 + ((z*z)*p*(1-p))/(e*e*N) )\n",
    "\n",
    "sample_size = round(sample_size)\n",
    "\n",
    "print(f'Sample size is: {sample_size}')"
   ]
  },
  {
   "cell_type": "code",
   "execution_count": 53,
   "metadata": {},
   "outputs": [],
   "source": [
    "#Extract the sample of 15851 entries from the dataset.\n",
    "df_all_data_filtered_processed = df_all_data_processed.sample(n=sample_size, random_state=2125)"
   ]
  },
  {
   "cell_type": "code",
   "execution_count": 54,
   "metadata": {},
   "outputs": [
    {
     "name": "stdout",
     "output_type": "stream",
     "text": [
      "<class 'pandas.core.frame.DataFrame'>\n",
      "RangeIndex: 15978 entries, 0 to 15977\n",
      "Data columns (total 9 columns):\n",
      " #   Column          Non-Null Count  Dtype  \n",
      "---  ------          --------------  -----  \n",
      " 0   review          15978 non-null  float64\n",
      " 1   text            15978 non-null  object \n",
      " 2   review_year     15978 non-null  int64  \n",
      " 3   helpfulness_0   15978 non-null  float64\n",
      " 4   helpfulness_1   15978 non-null  float64\n",
      " 5   authors         15747 non-null  object \n",
      " 6   publisher       14523 non-null  object \n",
      " 7   categories      15681 non-null  object \n",
      " 8   published_year  15978 non-null  int64  \n",
      "dtypes: float64(3), int64(2), object(4)\n",
      "memory usage: 1.1+ MB\n"
     ]
    }
   ],
   "source": [
    "df_all_data_filtered_processed.reset_index(drop=True, inplace=True)\n",
    "df_all_data_filtered_processed.info()"
   ]
  },
  {
   "cell_type": "code",
   "execution_count": 55,
   "metadata": {},
   "outputs": [
    {
     "data": {
      "text/plain": [
       "review\n",
       "5.0    9464\n",
       "4.0    3244\n",
       "3.0    1420\n",
       "1.0    1028\n",
       "2.0     822\n",
       "Name: count, dtype: int64"
      ]
     },
     "execution_count": 55,
     "metadata": {},
     "output_type": "execute_result"
    }
   ],
   "source": [
    "df_all_data_filtered_processed['review'].value_counts()"
   ]
  },
  {
   "cell_type": "code",
   "execution_count": 56,
   "metadata": {},
   "outputs": [
    {
     "data": {
      "image/png": "[encoded data removed]",
      "text/plain": [
       "<Figure size 640x480 with 1 Axes>"
      ]
     },
     "metadata": {},
     "output_type": "display_data"
    }
   ],
   "source": [
    "df_all_data_filtered_processed['review'].hist()\n",
    "plt.show()\n",
    "#Add axes."
   ]
  },
  {
   "cell_type": "code",
   "execution_count": 57,
   "metadata": {},
   "outputs": [
    {
     "data": {
      "text/plain": [
       "review               0\n",
       "text                 0\n",
       "review_year          0\n",
       "helpfulness_0        0\n",
       "helpfulness_1        0\n",
       "authors            231\n",
       "publisher         1455\n",
       "categories         297\n",
       "published_year       0\n",
       "dtype: int64"
      ]
     },
     "execution_count": 57,
     "metadata": {},
     "output_type": "execute_result"
    }
   ],
   "source": [
    "df_all_data_filtered_processed.isna().sum()"
   ]
  },
  {
   "cell_type": "code",
   "execution_count": 58,
   "metadata": {},
   "outputs": [
    {
     "data": {
      "text/html": [
       "<div>\n",
       "<style scoped>\n",
       "    .dataframe tbody tr th:only-of-type {\n",
       "        vertical-align: middle;\n",
       "    }\n",
       "\n",
       "    .dataframe tbody tr th {\n",
       "        vertical-align: top;\n",
       "    }\n",
       "\n",
       "    .dataframe thead th {\n",
       "        text-align: right;\n",
       "    }\n",
       "</style>\n",
       "<table border=\"1\" class=\"dataframe\">\n",
       "  <thead>\n",
       "    <tr style=\"text-align: right;\">\n",
       "      <th></th>\n",
       "      <th>review</th>\n",
       "      <th>text</th>\n",
       "      <th>review_year</th>\n",
       "      <th>helpfulness_0</th>\n",
       "      <th>helpfulness_1</th>\n",
       "      <th>authors</th>\n",
       "      <th>publisher</th>\n",
       "      <th>categories</th>\n",
       "      <th>published_year</th>\n",
       "    </tr>\n",
       "  </thead>\n",
       "  <tbody>\n",
       "    <tr>\n",
       "      <th>948</th>\n",
       "      <td>5.0</td>\n",
       "      <td>I am a Music teacher for students in Kindergar...</td>\n",
       "      <td>2012</td>\n",
       "      <td>0.000000</td>\n",
       "      <td>1.000000</td>\n",
       "      <td>[Sharon Burch]</td>\n",
       "      <td>Mystic Pub</td>\n",
       "      <td>[Music]</td>\n",
       "      <td>2010</td>\n",
       "    </tr>\n",
       "    <tr>\n",
       "      <th>13911</th>\n",
       "      <td>5.0</td>\n",
       "      <td>when I read the first book in this series I th...</td>\n",
       "      <td>2009</td>\n",
       "      <td>1.000000</td>\n",
       "      <td>1.000000</td>\n",
       "      <td>[Lynne Matallana, Ph. D. Bradley, Laurence, La...</td>\n",
       "      <td>Penguin</td>\n",
       "      <td>[Health &amp; Fitness]</td>\n",
       "      <td>2009</td>\n",
       "    </tr>\n",
       "    <tr>\n",
       "      <th>808</th>\n",
       "      <td>5.0</td>\n",
       "      <td>I studied media communication and am well awar...</td>\n",
       "      <td>2012</td>\n",
       "      <td>0.000000</td>\n",
       "      <td>0.000000</td>\n",
       "      <td>[Elizabeth George]</td>\n",
       "      <td>Harper Collins</td>\n",
       "      <td>[Fiction]</td>\n",
       "      <td>2009</td>\n",
       "    </tr>\n",
       "    <tr>\n",
       "      <th>6556</th>\n",
       "      <td>5.0</td>\n",
       "      <td>All of characters peopling this work actually ...</td>\n",
       "      <td>2009</td>\n",
       "      <td>1.000000</td>\n",
       "      <td>1.000000</td>\n",
       "      <td>[Emily Arnold McCully]</td>\n",
       "      <td>Farrar, Straus and Giroux (BYR)</td>\n",
       "      <td>[Juvenile Fiction]</td>\n",
       "      <td>2004</td>\n",
       "    </tr>\n",
       "    <tr>\n",
       "      <th>5222</th>\n",
       "      <td>5.0</td>\n",
       "      <td>Honestly-- this is a book that makes you want ...</td>\n",
       "      <td>2012</td>\n",
       "      <td>0.000000</td>\n",
       "      <td>0.000000</td>\n",
       "      <td>[Susanna Clarke]</td>\n",
       "      <td>Bloomsbury Publishing USA</td>\n",
       "      <td>[Fiction]</td>\n",
       "      <td>2010</td>\n",
       "    </tr>\n",
       "    <tr>\n",
       "      <th>4456</th>\n",
       "      <td>5.0</td>\n",
       "      <td>Kat Spencer needs to get away before her weddi...</td>\n",
       "      <td>2006</td>\n",
       "      <td>1.000000</td>\n",
       "      <td>1.000000</td>\n",
       "      <td>[Dixie Dansercoer]</td>\n",
       "      <td>Lannoo Uitgeverij</td>\n",
       "      <td>[Adventure and adventurers]</td>\n",
       "      <td>2005</td>\n",
       "    </tr>\n",
       "    <tr>\n",
       "      <th>13547</th>\n",
       "      <td>4.0</td>\n",
       "      <td>My sister read both books by Tatum O'Neal and ...</td>\n",
       "      <td>2011</td>\n",
       "      <td>0.000000</td>\n",
       "      <td>0.000000</td>\n",
       "      <td>[\"Tatum O'Neal\"]</td>\n",
       "      <td>Harper Collins</td>\n",
       "      <td>[Biography &amp; Autobiography]</td>\n",
       "      <td>2005</td>\n",
       "    </tr>\n",
       "    <tr>\n",
       "      <th>9075</th>\n",
       "      <td>5.0</td>\n",
       "      <td>What kind of life would you want to live?one w...</td>\n",
       "      <td>2011</td>\n",
       "      <td>0.500000</td>\n",
       "      <td>0.500000</td>\n",
       "      <td>[Aldous Huxley]</td>\n",
       "      <td>Random House</td>\n",
       "      <td>[Fiction]</td>\n",
       "      <td>2008</td>\n",
       "    </tr>\n",
       "    <tr>\n",
       "      <th>1132</th>\n",
       "      <td>5.0</td>\n",
       "      <td>Some books are timeless and A Woman After God'...</td>\n",
       "      <td>2010</td>\n",
       "      <td>0.000000</td>\n",
       "      <td>0.000000</td>\n",
       "      <td>[Elizabeth George]</td>\n",
       "      <td>Christian Large Print</td>\n",
       "      <td>[Religion]</td>\n",
       "      <td>2004</td>\n",
       "    </tr>\n",
       "    <tr>\n",
       "      <th>13500</th>\n",
       "      <td>5.0</td>\n",
       "      <td>I finally got my hands on one of these books.G...</td>\n",
       "      <td>2004</td>\n",
       "      <td>0.296296</td>\n",
       "      <td>0.296296</td>\n",
       "      <td>[Brian Clevinger]</td>\n",
       "      <td>NaN</td>\n",
       "      <td>[Fiction]</td>\n",
       "      <td>2004</td>\n",
       "    </tr>\n",
       "  </tbody>\n",
       "</table>\n",
       "</div>"
      ],
      "text/plain": [
       "       review                                               text  review_year  \\\n",
       "948       5.0  I am a Music teacher for students in Kindergar...         2012   \n",
       "13911     5.0  when I read the first book in this series I th...         2009   \n",
       "808       5.0  I studied media communication and am well awar...         2012   \n",
       "6556      5.0  All of characters peopling this work actually ...         2009   \n",
       "5222      5.0  Honestly-- this is a book that makes you want ...         2012   \n",
       "4456      5.0  Kat Spencer needs to get away before her weddi...         2006   \n",
       "13547     4.0  My sister read both books by Tatum O'Neal and ...         2011   \n",
       "9075      5.0  What kind of life would you want to live?one w...         2011   \n",
       "1132      5.0  Some books are timeless and A Woman After God'...         2010   \n",
       "13500     5.0  I finally got my hands on one of these books.G...         2004   \n",
       "\n",
       "       helpfulness_0  helpfulness_1  \\\n",
       "948         0.000000       1.000000   \n",
       "13911       1.000000       1.000000   \n",
       "808         0.000000       0.000000   \n",
       "6556        1.000000       1.000000   \n",
       "5222        0.000000       0.000000   \n",
       "4456        1.000000       1.000000   \n",
       "13547       0.000000       0.000000   \n",
       "9075        0.500000       0.500000   \n",
       "1132        0.000000       0.000000   \n",
       "13500       0.296296       0.296296   \n",
       "\n",
       "                                                 authors  \\\n",
       "948                                       [Sharon Burch]   \n",
       "13911  [Lynne Matallana, Ph. D. Bradley, Laurence, La...   \n",
       "808                                   [Elizabeth George]   \n",
       "6556                              [Emily Arnold McCully]   \n",
       "5222                                    [Susanna Clarke]   \n",
       "4456                                  [Dixie Dansercoer]   \n",
       "13547                                   [\"Tatum O'Neal\"]   \n",
       "9075                                     [Aldous Huxley]   \n",
       "1132                                  [Elizabeth George]   \n",
       "13500                                  [Brian Clevinger]   \n",
       "\n",
       "                             publisher                   categories  \\\n",
       "948                         Mystic Pub                      [Music]   \n",
       "13911                          Penguin           [Health & Fitness]   \n",
       "808                     Harper Collins                    [Fiction]   \n",
       "6556   Farrar, Straus and Giroux (BYR)           [Juvenile Fiction]   \n",
       "5222         Bloomsbury Publishing USA                    [Fiction]   \n",
       "4456                 Lannoo Uitgeverij  [Adventure and adventurers]   \n",
       "13547                   Harper Collins  [Biography & Autobiography]   \n",
       "9075                      Random House                    [Fiction]   \n",
       "1132             Christian Large Print                   [Religion]   \n",
       "13500                              NaN                    [Fiction]   \n",
       "\n",
       "       published_year  \n",
       "948              2010  \n",
       "13911            2009  \n",
       "808              2009  \n",
       "6556             2004  \n",
       "5222             2010  \n",
       "4456             2005  \n",
       "13547            2005  \n",
       "9075             2008  \n",
       "1132             2004  \n",
       "13500            2004  "
      ]
     },
     "execution_count": 58,
     "metadata": {},
     "output_type": "execute_result"
    }
   ],
   "source": [
    "df_all_data_filtered_processed.sample(10)"
   ]
  },
  {
   "cell_type": "code",
   "execution_count": 59,
   "metadata": {},
   "outputs": [
    {
     "name": "stdout",
     "output_type": "stream",
     "text": [
      "<class 'pandas.core.frame.DataFrame'>\n",
      "RangeIndex: 15738 entries, 0 to 15737\n",
      "Data columns (total 9 columns):\n",
      " #   Column          Non-Null Count  Dtype  \n",
      "---  ------          --------------  -----  \n",
      " 0   review          15738 non-null  float64\n",
      " 1   text            15738 non-null  object \n",
      " 2   review_year     15738 non-null  int64  \n",
      " 3   helpfulness_0   15738 non-null  float64\n",
      " 4   helpfulness_1   15738 non-null  float64\n",
      " 5   authors         15507 non-null  object \n",
      " 6   publisher       14295 non-null  object \n",
      " 7   categories      15441 non-null  object \n",
      " 8   published_year  15738 non-null  int64  \n",
      "dtypes: float64(3), int64(2), object(4)\n",
      "memory usage: 1.1+ MB\n"
     ]
    }
   ],
   "source": [
    "df_all_data_filtered_processed = df_all_data_filtered_processed.drop_duplicates(subset=['review', 'text'])\n",
    "df_all_data_filtered_processed.reset_index(drop=True, inplace=True)\n",
    "df_all_data_filtered_processed.info()"
   ]
  },
  {
   "cell_type": "code",
   "execution_count": 60,
   "metadata": {},
   "outputs": [
    {
     "data": {
      "text/html": [
       "<div>\n",
       "<style scoped>\n",
       "    .dataframe tbody tr th:only-of-type {\n",
       "        vertical-align: middle;\n",
       "    }\n",
       "\n",
       "    .dataframe tbody tr th {\n",
       "        vertical-align: top;\n",
       "    }\n",
       "\n",
       "    .dataframe thead th {\n",
       "        text-align: right;\n",
       "    }\n",
       "</style>\n",
       "<table border=\"1\" class=\"dataframe\">\n",
       "  <thead>\n",
       "    <tr style=\"text-align: right;\">\n",
       "      <th></th>\n",
       "      <th>review</th>\n",
       "      <th>text</th>\n",
       "      <th>review_year</th>\n",
       "      <th>helpfulness_0</th>\n",
       "      <th>helpfulness_1</th>\n",
       "      <th>authors</th>\n",
       "      <th>publisher</th>\n",
       "      <th>categories</th>\n",
       "      <th>published_year</th>\n",
       "    </tr>\n",
       "  </thead>\n",
       "  <tbody>\n",
       "    <tr>\n",
       "      <th>1300</th>\n",
       "      <td>5.0</td>\n",
       "      <td>I first read this book when I was 13 and have ...</td>\n",
       "      <td>2009</td>\n",
       "      <td>1.000000</td>\n",
       "      <td>1.000000</td>\n",
       "      <td>[V.C. Andrews]</td>\n",
       "      <td>Simon and Schuster</td>\n",
       "      <td>[Fiction]</td>\n",
       "      <td>2005</td>\n",
       "    </tr>\n",
       "    <tr>\n",
       "      <th>8535</th>\n",
       "      <td>5.0</td>\n",
       "      <td>I was so happy to find this. Legend of Sleepy ...</td>\n",
       "      <td>2011</td>\n",
       "      <td>0.000000</td>\n",
       "      <td>1.000000</td>\n",
       "      <td>[Washington Irving]</td>\n",
       "      <td>Simon and Schuster</td>\n",
       "      <td>[Juvenile Fiction]</td>\n",
       "      <td>2007</td>\n",
       "    </tr>\n",
       "    <tr>\n",
       "      <th>2103</th>\n",
       "      <td>1.0</td>\n",
       "      <td>This book was Christian prayers with God and J...</td>\n",
       "      <td>2006</td>\n",
       "      <td>0.944444</td>\n",
       "      <td>0.944444</td>\n",
       "      <td>[Mark Ventimiglia]</td>\n",
       "      <td>Citadel Press</td>\n",
       "      <td>[Religion]</td>\n",
       "      <td>2006</td>\n",
       "    </tr>\n",
       "    <tr>\n",
       "      <th>8926</th>\n",
       "      <td>4.0</td>\n",
       "      <td>Awesome plot I particularly liked the theme to...</td>\n",
       "      <td>2013</td>\n",
       "      <td>0.000000</td>\n",
       "      <td>1.000000</td>\n",
       "      <td>[Nathaniel Hawthorne]</td>\n",
       "      <td>Penguin UK</td>\n",
       "      <td>[Adultery]</td>\n",
       "      <td>2012</td>\n",
       "    </tr>\n",
       "    <tr>\n",
       "      <th>2741</th>\n",
       "      <td>3.0</td>\n",
       "      <td>You need a formal teacher to lead you through ...</td>\n",
       "      <td>2011</td>\n",
       "      <td>1.000000</td>\n",
       "      <td>1.000000</td>\n",
       "      <td>[刘珣]</td>\n",
       "      <td>Beijing Language &amp; Culture University Press</td>\n",
       "      <td>[Foreign Language Study]</td>\n",
       "      <td>2004</td>\n",
       "    </tr>\n",
       "    <tr>\n",
       "      <th>14878</th>\n",
       "      <td>2.0</td>\n",
       "      <td>When I ordered this book they said it was in e...</td>\n",
       "      <td>2010</td>\n",
       "      <td>0.200000</td>\n",
       "      <td>0.200000</td>\n",
       "      <td>[Loung Ung]</td>\n",
       "      <td>Harper Collins</td>\n",
       "      <td>[History]</td>\n",
       "      <td>2010</td>\n",
       "    </tr>\n",
       "    <tr>\n",
       "      <th>5888</th>\n",
       "      <td>1.0</td>\n",
       "      <td>Hugh Farnham is a blue-collar survivalist who ...</td>\n",
       "      <td>2006</td>\n",
       "      <td>0.571429</td>\n",
       "      <td>0.571429</td>\n",
       "      <td>[Robert A. Heinlein]</td>\n",
       "      <td>Baen Publishing Enterprises</td>\n",
       "      <td>[Fiction]</td>\n",
       "      <td>2006</td>\n",
       "    </tr>\n",
       "    <tr>\n",
       "      <th>9132</th>\n",
       "      <td>4.0</td>\n",
       "      <td>The seemingly split personality between intern...</td>\n",
       "      <td>2006</td>\n",
       "      <td>0.500000</td>\n",
       "      <td>0.500000</td>\n",
       "      <td>[Kashō Abe, Casio Abe]</td>\n",
       "      <td>Kaya Production</td>\n",
       "      <td>[Biography &amp; Autobiography]</td>\n",
       "      <td>2005</td>\n",
       "    </tr>\n",
       "    <tr>\n",
       "      <th>1637</th>\n",
       "      <td>5.0</td>\n",
       "      <td>Ignore old reviews about this being out of dat...</td>\n",
       "      <td>2011</td>\n",
       "      <td>1.000000</td>\n",
       "      <td>1.000000</td>\n",
       "      <td>NaN</td>\n",
       "      <td>Billiard Congress of Amer</td>\n",
       "      <td>[Sports &amp; Recreation]</td>\n",
       "      <td>2004</td>\n",
       "    </tr>\n",
       "    <tr>\n",
       "      <th>7931</th>\n",
       "      <td>5.0</td>\n",
       "      <td>I spent nearly a week reading this wonderful b...</td>\n",
       "      <td>2010</td>\n",
       "      <td>1.000000</td>\n",
       "      <td>1.000000</td>\n",
       "      <td>[Tama J. Kieves]</td>\n",
       "      <td>Tarcher</td>\n",
       "      <td>[Self-Help]</td>\n",
       "      <td>2004</td>\n",
       "    </tr>\n",
       "  </tbody>\n",
       "</table>\n",
       "</div>"
      ],
      "text/plain": [
       "       review                                               text  review_year  \\\n",
       "1300      5.0  I first read this book when I was 13 and have ...         2009   \n",
       "8535      5.0  I was so happy to find this. Legend of Sleepy ...         2011   \n",
       "2103      1.0  This book was Christian prayers with God and J...         2006   \n",
       "8926      4.0  Awesome plot I particularly liked the theme to...         2013   \n",
       "2741      3.0  You need a formal teacher to lead you through ...         2011   \n",
       "14878     2.0  When I ordered this book they said it was in e...         2010   \n",
       "5888      1.0  Hugh Farnham is a blue-collar survivalist who ...         2006   \n",
       "9132      4.0  The seemingly split personality between intern...         2006   \n",
       "1637      5.0  Ignore old reviews about this being out of dat...         2011   \n",
       "7931      5.0  I spent nearly a week reading this wonderful b...         2010   \n",
       "\n",
       "       helpfulness_0  helpfulness_1                 authors  \\\n",
       "1300        1.000000       1.000000          [V.C. Andrews]   \n",
       "8535        0.000000       1.000000     [Washington Irving]   \n",
       "2103        0.944444       0.944444      [Mark Ventimiglia]   \n",
       "8926        0.000000       1.000000   [Nathaniel Hawthorne]   \n",
       "2741        1.000000       1.000000                    [刘珣]   \n",
       "14878       0.200000       0.200000             [Loung Ung]   \n",
       "5888        0.571429       0.571429    [Robert A. Heinlein]   \n",
       "9132        0.500000       0.500000  [Kashō Abe, Casio Abe]   \n",
       "1637        1.000000       1.000000                     NaN   \n",
       "7931        1.000000       1.000000        [Tama J. Kieves]   \n",
       "\n",
       "                                         publisher  \\\n",
       "1300                            Simon and Schuster   \n",
       "8535                            Simon and Schuster   \n",
       "2103                                 Citadel Press   \n",
       "8926                                    Penguin UK   \n",
       "2741   Beijing Language & Culture University Press   \n",
       "14878                               Harper Collins   \n",
       "5888                   Baen Publishing Enterprises   \n",
       "9132                               Kaya Production   \n",
       "1637                     Billiard Congress of Amer   \n",
       "7931                                       Tarcher   \n",
       "\n",
       "                        categories  published_year  \n",
       "1300                     [Fiction]            2005  \n",
       "8535            [Juvenile Fiction]            2007  \n",
       "2103                    [Religion]            2006  \n",
       "8926                    [Adultery]            2012  \n",
       "2741      [Foreign Language Study]            2004  \n",
       "14878                    [History]            2010  \n",
       "5888                     [Fiction]            2006  \n",
       "9132   [Biography & Autobiography]            2005  \n",
       "1637         [Sports & Recreation]            2004  \n",
       "7931                   [Self-Help]            2004  "
      ]
     },
     "execution_count": 60,
     "metadata": {},
     "output_type": "execute_result"
    }
   ],
   "source": [
    "df_all_data_filtered_processed.sample(10)"
   ]
  },
  {
   "cell_type": "markdown",
   "metadata": {},
   "source": [
    "# Initial EDA and Final Preprocesing"
   ]
  },
  {
   "cell_type": "markdown",
   "metadata": {},
   "source": [
    "## Helpfulness Column"
   ]
  },
  {
   "cell_type": "markdown",
   "metadata": {},
   "source": [
    "### Removing Outliers"
   ]
  },
  {
   "cell_type": "code",
   "execution_count": 61,
   "metadata": {},
   "outputs": [
    {
     "data": {
      "image/png": "[encoded data removed]",
      "text/plain": [
       "<Figure size 640x480 with 1 Axes>"
      ]
     },
     "metadata": {},
     "output_type": "display_data"
    }
   ],
   "source": [
    "df_all_data_filtered_processed['helpfulness_0'].hist()\n",
    "plt.show()"
   ]
  },
  {
   "cell_type": "code",
   "execution_count": 62,
   "metadata": {},
   "outputs": [
    {
     "data": {
      "image/png": "[encoded data removed]",
      "text/plain": [
       "<Figure size 640x480 with 1 Axes>"
      ]
     },
     "metadata": {},
     "output_type": "display_data"
    }
   ],
   "source": [
    "df_all_data_filtered_processed['helpfulness_1'].hist()\n",
    "plt.show()"
   ]
  },
  {
   "cell_type": "markdown",
   "metadata": {},
   "source": [
    "Porcentual helpfulness variable values should be between 0 and 1. Outliers are remove as they are just 2 entries from the entire dataset."
   ]
  },
  {
   "cell_type": "code",
   "execution_count": 63,
   "metadata": {},
   "outputs": [
    {
     "data": {
      "text/plain": [
       "(15738, 9)"
      ]
     },
     "execution_count": 63,
     "metadata": {},
     "output_type": "execute_result"
    }
   ],
   "source": [
    "df_all_data_filtered_processed.shape"
   ]
  },
  {
   "cell_type": "code",
   "execution_count": 64,
   "metadata": {},
   "outputs": [
    {
     "data": {
      "text/plain": [
       "count    15738.000000\n",
       "mean         0.820709\n",
       "std          0.313890\n",
       "min          0.000000\n",
       "25%          0.750000\n",
       "50%          1.000000\n",
       "75%          1.000000\n",
       "max          1.000000\n",
       "Name: helpfulness_1, dtype: float64"
      ]
     },
     "execution_count": 64,
     "metadata": {},
     "output_type": "execute_result"
    }
   ],
   "source": [
    "df_all_data_filtered_processed['helpfulness_1'].describe().T"
   ]
  },
  {
   "cell_type": "code",
   "execution_count": 65,
   "metadata": {},
   "outputs": [
    {
     "data": {
      "text/plain": [
       "count    15738.000000\n",
       "mean         0.403312\n",
       "std          0.438223\n",
       "min          0.000000\n",
       "25%          0.000000\n",
       "50%          0.125000\n",
       "75%          1.000000\n",
       "max          1.000000\n",
       "Name: helpfulness_0, dtype: float64"
      ]
     },
     "execution_count": 65,
     "metadata": {},
     "output_type": "execute_result"
    }
   ],
   "source": [
    "df_all_data_filtered_processed['helpfulness_0'].describe().T"
   ]
  },
  {
   "cell_type": "code",
   "execution_count": 66,
   "metadata": {},
   "outputs": [
    {
     "data": {
      "text/html": [
       "<style type=\"text/css\">\n",
       "#T_041cd_row0_col0, #T_041cd_row1_col1, #T_041cd_row2_col2 {\n",
       "  background-color: #08306b;\n",
       "  color: #f1f1f1;\n",
       "}\n",
       "#T_041cd_row0_col1, #T_041cd_row0_col2, #T_041cd_row2_col0 {\n",
       "  background-color: #f7fbff;\n",
       "  color: #000000;\n",
       "}\n",
       "#T_041cd_row1_col0 {\n",
       "  background-color: #d3e4f3;\n",
       "  color: #000000;\n",
       "}\n",
       "#T_041cd_row1_col2 {\n",
       "  background-color: #b8d5ea;\n",
       "  color: #000000;\n",
       "}\n",
       "#T_041cd_row2_col1 {\n",
       "  background-color: #dbe9f6;\n",
       "  color: #000000;\n",
       "}\n",
       "</style>\n",
       "<table id=\"T_041cd\">\n",
       "  <thead>\n",
       "    <tr>\n",
       "      <th class=\"blank level0\" >&nbsp;</th>\n",
       "      <th id=\"T_041cd_level0_col0\" class=\"col_heading level0 col0\" >helpfulness_0</th>\n",
       "      <th id=\"T_041cd_level0_col1\" class=\"col_heading level0 col1\" >helpfulness_1</th>\n",
       "      <th id=\"T_041cd_level0_col2\" class=\"col_heading level0 col2\" >review</th>\n",
       "    </tr>\n",
       "  </thead>\n",
       "  <tbody>\n",
       "    <tr>\n",
       "      <th id=\"T_041cd_level0_row0\" class=\"row_heading level0 row0\" >helpfulness_0</th>\n",
       "      <td id=\"T_041cd_row0_col0\" class=\"data row0 col0\" >1.000000</td>\n",
       "      <td id=\"T_041cd_row0_col1\" class=\"data row0 col1\" >0.172201</td>\n",
       "      <td id=\"T_041cd_row0_col2\" class=\"data row0 col2\" >-0.009705</td>\n",
       "    </tr>\n",
       "    <tr>\n",
       "      <th id=\"T_041cd_level0_row1\" class=\"row_heading level0 row1\" >helpfulness_1</th>\n",
       "      <td id=\"T_041cd_row1_col0\" class=\"data row1 col0\" >0.172201</td>\n",
       "      <td id=\"T_041cd_row1_col1\" class=\"data row1 col1\" >1.000000</td>\n",
       "      <td id=\"T_041cd_row1_col2\" class=\"data row1 col2\" >0.290022</td>\n",
       "    </tr>\n",
       "    <tr>\n",
       "      <th id=\"T_041cd_level0_row2\" class=\"row_heading level0 row2\" >review</th>\n",
       "      <td id=\"T_041cd_row2_col0\" class=\"data row2 col0\" >-0.009705</td>\n",
       "      <td id=\"T_041cd_row2_col1\" class=\"data row2 col1\" >0.290022</td>\n",
       "      <td id=\"T_041cd_row2_col2\" class=\"data row2 col2\" >1.000000</td>\n",
       "    </tr>\n",
       "  </tbody>\n",
       "</table>\n"
      ],
      "text/plain": [
       "<pandas.io.formats.style.Styler at 0x7f7e69961880>"
      ]
     },
     "execution_count": 66,
     "metadata": {},
     "output_type": "execute_result"
    }
   ],
   "source": [
    "#Correlation Analysis \n",
    "df_all_data_filtered_processed[['helpfulness_0','helpfulness_1','review']].corr().style.background_gradient(cmap='Blues')"
   ]
  },
  {
   "cell_type": "markdown",
   "metadata": {},
   "source": [
    "Correlation matrix shows that helpfulness_0 and helpfulness_1 are not much correlated. But helpfulness_0 and helpfulness_1 provide the same information. Based on the correlation with 'review' column, helpfulness_1 is kept and helpfulness_0 is removed. In order to avoid repeated information."
   ]
  },
  {
   "cell_type": "code",
   "execution_count": 67,
   "metadata": {},
   "outputs": [],
   "source": [
    "df_all_data_filtered_processed = df_all_data_filtered_processed.drop(['helpfulness_0'], axis=1)"
   ]
  },
  {
   "cell_type": "code",
   "execution_count": 68,
   "metadata": {},
   "outputs": [
    {
     "data": {
      "text/html": [
       "<div>\n",
       "<style scoped>\n",
       "    .dataframe tbody tr th:only-of-type {\n",
       "        vertical-align: middle;\n",
       "    }\n",
       "\n",
       "    .dataframe tbody tr th {\n",
       "        vertical-align: top;\n",
       "    }\n",
       "\n",
       "    .dataframe thead th {\n",
       "        text-align: right;\n",
       "    }\n",
       "</style>\n",
       "<table border=\"1\" class=\"dataframe\">\n",
       "  <thead>\n",
       "    <tr style=\"text-align: right;\">\n",
       "      <th></th>\n",
       "      <th>review</th>\n",
       "      <th>text</th>\n",
       "      <th>review_year</th>\n",
       "      <th>authors</th>\n",
       "      <th>publisher</th>\n",
       "      <th>categories</th>\n",
       "      <th>published_year</th>\n",
       "      <th>helpfulness</th>\n",
       "    </tr>\n",
       "  </thead>\n",
       "  <tbody>\n",
       "    <tr>\n",
       "      <th>15334</th>\n",
       "      <td>2.0</td>\n",
       "      <td>This book has some good basic information on w...</td>\n",
       "      <td>2005</td>\n",
       "      <td>[Lisa Ann Schreier]</td>\n",
       "      <td>John Wiley &amp; Sons</td>\n",
       "      <td>[Travel]</td>\n",
       "      <td>2005</td>\n",
       "      <td>0.950000</td>\n",
       "    </tr>\n",
       "    <tr>\n",
       "      <th>13282</th>\n",
       "      <td>2.0</td>\n",
       "      <td>I've read several Alex Delaware novels, and ha...</td>\n",
       "      <td>2012</td>\n",
       "      <td>[Jonathan Kellerman]</td>\n",
       "      <td>Random House Digital, Inc.</td>\n",
       "      <td>[Fiction]</td>\n",
       "      <td>2010</td>\n",
       "      <td>1.000000</td>\n",
       "    </tr>\n",
       "    <tr>\n",
       "      <th>7483</th>\n",
       "      <td>2.0</td>\n",
       "      <td>I purchased this book after Ann Bird's appeara...</td>\n",
       "      <td>2005</td>\n",
       "      <td>[Anne Bird]</td>\n",
       "      <td>William Morrow</td>\n",
       "      <td>[Biography &amp; Autobiography]</td>\n",
       "      <td>2005</td>\n",
       "      <td>0.615385</td>\n",
       "    </tr>\n",
       "    <tr>\n",
       "      <th>5099</th>\n",
       "      <td>5.0</td>\n",
       "      <td>this author is wonderful keeps me going I alwa...</td>\n",
       "      <td>2012</td>\n",
       "      <td>[John Saul]</td>\n",
       "      <td>Random House Digital, Inc.</td>\n",
       "      <td>[Fiction]</td>\n",
       "      <td>2006</td>\n",
       "      <td>1.000000</td>\n",
       "    </tr>\n",
       "    <tr>\n",
       "      <th>3782</th>\n",
       "      <td>5.0</td>\n",
       "      <td>Even though the book was published in 1890, th...</td>\n",
       "      <td>2012</td>\n",
       "      <td>[Jacob August Riis]</td>\n",
       "      <td>NaN</td>\n",
       "      <td>[Poor]</td>\n",
       "      <td>2009</td>\n",
       "      <td>1.000000</td>\n",
       "    </tr>\n",
       "  </tbody>\n",
       "</table>\n",
       "</div>"
      ],
      "text/plain": [
       "       review                                               text  review_year  \\\n",
       "15334     2.0  This book has some good basic information on w...         2005   \n",
       "13282     2.0  I've read several Alex Delaware novels, and ha...         2012   \n",
       "7483      2.0  I purchased this book after Ann Bird's appeara...         2005   \n",
       "5099      5.0  this author is wonderful keeps me going I alwa...         2012   \n",
       "3782      5.0  Even though the book was published in 1890, th...         2012   \n",
       "\n",
       "                    authors                   publisher  \\\n",
       "15334   [Lisa Ann Schreier]           John Wiley & Sons   \n",
       "13282  [Jonathan Kellerman]  Random House Digital, Inc.   \n",
       "7483            [Anne Bird]              William Morrow   \n",
       "5099            [John Saul]  Random House Digital, Inc.   \n",
       "3782    [Jacob August Riis]                         NaN   \n",
       "\n",
       "                        categories  published_year  helpfulness  \n",
       "15334                     [Travel]            2005     0.950000  \n",
       "13282                    [Fiction]            2010     1.000000  \n",
       "7483   [Biography & Autobiography]            2005     0.615385  \n",
       "5099                     [Fiction]            2006     1.000000  \n",
       "3782                        [Poor]            2009     1.000000  "
      ]
     },
     "execution_count": 68,
     "metadata": {},
     "output_type": "execute_result"
    }
   ],
   "source": [
    "df_all_data_filtered_processed['helpfulness'] = df_all_data_filtered_processed['helpfulness_1']\n",
    "df_all_data_filtered_processed = df_all_data_filtered_processed.drop(['helpfulness_1'], axis=1)\n",
    "df_all_data_filtered_processed.sample(5)"
   ]
  },
  {
   "cell_type": "markdown",
   "metadata": {},
   "source": [
    "## Authors Column"
   ]
  },
  {
   "cell_type": "markdown",
   "metadata": {},
   "source": [
    "### Authors Names Standarization\n",
    "\n",
    "During the Exploratory Data Analysis it was discovered that some authors are reviewed under diferent formats of their names. Based on this, the Dataset is simplified to contain only one name format."
   ]
  },
  {
   "cell_type": "code",
   "execution_count": 69,
   "metadata": {},
   "outputs": [],
   "source": [
    "#The examples are:\n",
    "author_mapping = {\n",
    "    'John Ronald Reuel Tolkien':'J. R. R. Tolkien',\n",
    "    'J. R. R. Tolkien':'J. R. R. Tolkien',\n",
    "    'J.R.R. Tolkien':'J. R. R. Tolkien',\n",
    "    'Gabriel Garcia Marquez':'Gabriel Garcia Marquez',\n",
    "    'Gabriel García Márquez':'Gabriel Garcia Marquez',\n",
    "    'Charlotte Brontë':'Charlotte Brontë',\n",
    "    'Charlotte Bronte':'Charlotte Brontë',\n",
    "    'Emily Brontë':'Emily Brontë',\n",
    "    'Emily Bronte':'Emily Brontë',\n",
    "    'Joseph Smith':'Joseph Smith',\n",
    "    'Joseph Smith (Jr.)':'Joseph Smith',\n",
    "    'Jr.':'Joseph Smith'\n",
    "    }\n"
   ]
  },
  {
   "cell_type": "code",
   "execution_count": 70,
   "metadata": {},
   "outputs": [
    {
     "name": "stdout",
     "output_type": "stream",
     "text": [
      "<class 'pandas.core.frame.DataFrame'>\n",
      "RangeIndex: 15738 entries, 0 to 15737\n",
      "Data columns (total 8 columns):\n",
      " #   Column          Non-Null Count  Dtype  \n",
      "---  ------          --------------  -----  \n",
      " 0   review          15738 non-null  float64\n",
      " 1   text            15738 non-null  object \n",
      " 2   review_year     15738 non-null  int64  \n",
      " 3   authors         15507 non-null  object \n",
      " 4   publisher       14295 non-null  object \n",
      " 5   categories      15441 non-null  object \n",
      " 6   published_year  15738 non-null  int64  \n",
      " 7   helpfulness     15738 non-null  float64\n",
      "dtypes: float64(2), int64(2), object(4)\n",
      "memory usage: 983.8+ KB\n"
     ]
    }
   ],
   "source": [
    "df_all_data_filtered_processed.info()"
   ]
  },
  {
   "cell_type": "code",
   "execution_count": 71,
   "metadata": {},
   "outputs": [],
   "source": [
    "def standardize_authors(authors):\n",
    "    if isinstance(authors, list):\n",
    "        return [author_mapping.get(author, author) for author in authors]\n",
    "    else:\n",
    "        return authors  # Return the original value if it's not a list"
   ]
  },
  {
   "cell_type": "code",
   "execution_count": 72,
   "metadata": {},
   "outputs": [],
   "source": [
    "df_all_data_filtered_processed['authors'] = df_all_data_filtered_processed['authors'].apply(standardize_authors)"
   ]
  },
  {
   "cell_type": "markdown",
   "metadata": {},
   "source": [
    "### Updating the Authors Feature to Categorical, and applying Pareto Principe to reduce the quantity of authors."
   ]
  },
  {
   "cell_type": "code",
   "execution_count": 73,
   "metadata": {},
   "outputs": [
    {
     "data": {
      "text/plain": [
       "authors\n",
       "J. R. R. Tolkien       594\n",
       "Lewis Carroll          148\n",
       "C. S. Lewis            129\n",
       "Christopher Paolini    111\n",
       "Charles Dickens        106\n",
       "                      ... \n",
       "Jennifer Quasha          1\n",
       "Alan Wood                1\n",
       "Tim Reeser               1\n",
       "Steve Kaplan             1\n",
       "Jack D. Herrington       1\n",
       "Name: count, Length: 7736, dtype: int64"
      ]
     },
     "execution_count": 73,
     "metadata": {},
     "output_type": "execute_result"
    }
   ],
   "source": [
    "author_counts = df_all_data_filtered_processed['authors'].explode().value_counts()\n",
    "author_counts"
   ]
  },
  {
   "cell_type": "code",
   "execution_count": 74,
   "metadata": {},
   "outputs": [
    {
     "data": {
      "text/plain": [
       "authors\n",
       "J. R. R. Tolkien       594\n",
       "Lewis Carroll          148\n",
       "C. S. Lewis            129\n",
       "Christopher Paolini    111\n",
       "Charles Dickens        106\n",
       "                      ... \n",
       "Paul H. Lange            1\n",
       "Christine Adamec         1\n",
       "The Phat Phree           1\n",
       "Andru J. Reeve           1\n",
       "Jack D. Herrington       1\n",
       "Name: count, Length: 7736, dtype: int64"
      ]
     },
     "execution_count": 74,
     "metadata": {},
     "output_type": "execute_result"
    }
   ],
   "source": [
    "sorted_author_counts = author_counts.sort_values(ascending=False)\n",
    "sorted_author_counts"
   ]
  },
  {
   "cell_type": "code",
   "execution_count": 75,
   "metadata": {},
   "outputs": [
    {
     "data": {
      "text/plain": [
       "1547"
      ]
     },
     "execution_count": 75,
     "metadata": {},
     "output_type": "execute_result"
    }
   ],
   "source": [
    "pareto_threshold = int(0.2 * len(sorted_author_counts))\n",
    "pareto_threshold"
   ]
  },
  {
   "cell_type": "code",
   "execution_count": 76,
   "metadata": {},
   "outputs": [
    {
     "data": {
      "text/plain": [
       "Index(['J. R. R. Tolkien', 'Lewis Carroll', 'C. S. Lewis',\n",
       "       'Christopher Paolini', 'Charles Dickens', 'Aldous Huxley',\n",
       "       'Eckhart Tolle', 'Viktor E Frankl', 'James Patterson',\n",
       "       'Arthur Conan Doyle',\n",
       "       ...\n",
       "       'Martin Jones', 'Holly Robinson Peete', 'Mel Levine', 'Ward S. Albro',\n",
       "       'Joseph Telushkin', 'John Rosemond', 'Scott J. Edgett',\n",
       "       'Thomas Nelson Publishers', 'Jason Whitlock', 'Rochelle Schweizer'],\n",
       "      dtype='object', name='authors', length=1547)"
      ]
     },
     "execution_count": 76,
     "metadata": {},
     "output_type": "execute_result"
    }
   ],
   "source": [
    "top_authors = sorted_author_counts.iloc[:pareto_threshold].index\n",
    "top_authors"
   ]
  },
  {
   "cell_type": "code",
   "execution_count": 77,
   "metadata": {
    "tags": [
     "parameters"
    ]
   },
   "outputs": [
    {
     "data": {
      "text/plain": [
       "1548"
      ]
     },
     "execution_count": 77,
     "metadata": {},
     "output_type": "execute_result"
    }
   ],
   "source": [
    "df_all_data_filtered_processed['authors'] = df_all_data_filtered_processed['authors'].apply(lambda x: [author if author in top_authors else 'Other' for author in x] if isinstance(x, list) else ['Other'])\n",
    "len(df_all_data_filtered_processed['authors'].explode().unique())"
   ]
  },
  {
   "cell_type": "markdown",
   "metadata": {},
   "source": [
    "After applying Pareto Principle, there are still 1548 unique authors on the dataset. If authors is considered as a Categorical Feature, it will not have much predictive because it has a lot of Cardinality.\n",
    "\n",
    "Top 10 authors with most reviews are kept and the rest of authors are set to 'Other'."
   ]
  },
  {
   "cell_type": "code",
   "execution_count": 78,
   "metadata": {},
   "outputs": [
    {
     "name": "stdout",
     "output_type": "stream",
     "text": [
      "<class 'pandas.core.series.Series'>\n",
      "Index: 18914 entries, 0 to 15737\n",
      "Series name: authors\n",
      "Non-Null Count  Dtype \n",
      "--------------  ----- \n",
      "18914 non-null  object\n",
      "dtypes: object(1)\n",
      "memory usage: 295.5+ KB\n"
     ]
    }
   ],
   "source": [
    "authors = df_all_data_filtered_processed['authors'].explode()\n",
    "authors.info()"
   ]
  },
  {
   "cell_type": "code",
   "execution_count": 79,
   "metadata": {},
   "outputs": [
    {
     "name": "stdout",
     "output_type": "stream",
     "text": [
      "Total of Authors: 1548\n"
     ]
    }
   ],
   "source": [
    "print(f'Total of Authors: {len(authors.unique())}')"
   ]
  },
  {
   "cell_type": "code",
   "execution_count": 80,
   "metadata": {},
   "outputs": [
    {
     "name": "stdout",
     "output_type": "stream",
     "text": [
      "Total of entries after explode authors column 18914\n"
     ]
    }
   ],
   "source": [
    "author_counts = authors.value_counts(ascending=False)\n",
    "print(f'Total of entries after explode authors column {author_counts.sum()}')"
   ]
  },
  {
   "cell_type": "code",
   "execution_count": 81,
   "metadata": {},
   "outputs": [
    {
     "data": {
      "text/plain": [
       "authors\n",
       "Other                  7570\n",
       "J. R. R. Tolkien        594\n",
       "Lewis Carroll           148\n",
       "C. S. Lewis             129\n",
       "Christopher Paolini     111\n",
       "Charles Dickens         106\n",
       "Aldous Huxley            85\n",
       "Eckhart Tolle            78\n",
       "Viktor E Frankl          74\n",
       "James Patterson          65\n",
       "Name: count, dtype: int64"
      ]
     },
     "execution_count": 81,
     "metadata": {},
     "output_type": "execute_result"
    }
   ],
   "source": [
    "top_10_authors_counts = author_counts[:10].sort_values(ascending=False)\n",
    "top_10_authors_counts"
   ]
  },
  {
   "cell_type": "code",
   "execution_count": 82,
   "metadata": {},
   "outputs": [
    {
     "data": {
      "text/plain": [
       "authors\n",
       "Arthur Conan Doyle       62\n",
       "Jon Krakauer             61\n",
       "Charlotte Brontë         59\n",
       "Karen Marie Moning       59\n",
       "Stephen King             58\n",
       "                         ..\n",
       "Jennifer LaBrecque        2\n",
       "Wilkie Collins            2\n",
       "Abigail Johnson Dodge     2\n",
       "Boson Software            2\n",
       "Allison Hobbs             2\n",
       "Name: count, Length: 1538, dtype: int64"
      ]
     },
     "execution_count": 82,
     "metadata": {},
     "output_type": "execute_result"
    }
   ],
   "source": [
    "other_authors_counts = author_counts[10:]\n",
    "other_authors_counts"
   ]
  },
  {
   "cell_type": "code",
   "execution_count": 83,
   "metadata": {},
   "outputs": [
    {
     "data": {
      "text/plain": [
       "10"
      ]
     },
     "execution_count": 83,
     "metadata": {},
     "output_type": "execute_result"
    }
   ],
   "source": [
    "df_all_data_filtered_processed['authors'] = df_all_data_filtered_processed['authors'].apply(lambda x: [author if author in top_10_authors_counts else 'Other' for author in x] if isinstance(x, list) else ['Other'])\n",
    "len(df_all_data_filtered_processed['authors'].explode().unique())"
   ]
  },
  {
   "cell_type": "code",
   "execution_count": 84,
   "metadata": {},
   "outputs": [
    {
     "data": {
      "text/plain": [
       "authors\n",
       "Other                  17524\n",
       "J. R. R. Tolkien         594\n",
       "Lewis Carroll            148\n",
       "C. S. Lewis              129\n",
       "Christopher Paolini      111\n",
       "Charles Dickens          106\n",
       "Aldous Huxley             85\n",
       "Eckhart Tolle             78\n",
       "Viktor E Frankl           74\n",
       "James Patterson           65\n",
       "Name: count, dtype: int64"
      ]
     },
     "execution_count": 84,
     "metadata": {},
     "output_type": "execute_result"
    }
   ],
   "source": [
    "df_all_data_filtered_processed['authors'].explode().value_counts()"
   ]
  },
  {
   "cell_type": "code",
   "execution_count": 85,
   "metadata": {},
   "outputs": [],
   "source": [
    "def remove_repeated_values(in_list):\n",
    "    unique_list = []\n",
    "    for item in in_list:\n",
    "        if item not in unique_list:\n",
    "            unique_list.append(item)\n",
    "\n",
    "    return unique_list"
   ]
  },
  {
   "cell_type": "code",
   "execution_count": 86,
   "metadata": {},
   "outputs": [
    {
     "data": {
      "text/html": [
       "<div>\n",
       "<style scoped>\n",
       "    .dataframe tbody tr th:only-of-type {\n",
       "        vertical-align: middle;\n",
       "    }\n",
       "\n",
       "    .dataframe tbody tr th {\n",
       "        vertical-align: top;\n",
       "    }\n",
       "\n",
       "    .dataframe thead th {\n",
       "        text-align: right;\n",
       "    }\n",
       "</style>\n",
       "<table border=\"1\" class=\"dataframe\">\n",
       "  <thead>\n",
       "    <tr style=\"text-align: right;\">\n",
       "      <th></th>\n",
       "      <th>review</th>\n",
       "      <th>text</th>\n",
       "      <th>review_year</th>\n",
       "      <th>authors</th>\n",
       "      <th>publisher</th>\n",
       "      <th>categories</th>\n",
       "      <th>published_year</th>\n",
       "      <th>helpfulness</th>\n",
       "    </tr>\n",
       "  </thead>\n",
       "  <tbody>\n",
       "    <tr>\n",
       "      <th>13339</th>\n",
       "      <td>4.0</td>\n",
       "      <td>You can not deny that Donald Trump is a genius...</td>\n",
       "      <td>2004</td>\n",
       "      <td>[Other]</td>\n",
       "      <td>Currency</td>\n",
       "      <td>[Business &amp; Economics]</td>\n",
       "      <td>2004</td>\n",
       "      <td>0.933333</td>\n",
       "    </tr>\n",
       "    <tr>\n",
       "      <th>3312</th>\n",
       "      <td>4.0</td>\n",
       "      <td>This book was recommended reading to me by a r...</td>\n",
       "      <td>2010</td>\n",
       "      <td>[Other]</td>\n",
       "      <td>Houghton Mifflin Harcourt</td>\n",
       "      <td>[Juvenile Nonfiction]</td>\n",
       "      <td>2010</td>\n",
       "      <td>1.000000</td>\n",
       "    </tr>\n",
       "    <tr>\n",
       "      <th>1612</th>\n",
       "      <td>4.0</td>\n",
       "      <td>Bren finds himself in the midst of a civil war...</td>\n",
       "      <td>2007</td>\n",
       "      <td>[Other]</td>\n",
       "      <td>DAW Hardcover</td>\n",
       "      <td>[Fiction]</td>\n",
       "      <td>2007</td>\n",
       "      <td>1.000000</td>\n",
       "    </tr>\n",
       "    <tr>\n",
       "      <th>6630</th>\n",
       "      <td>5.0</td>\n",
       "      <td>Great Price with Excellent and Timely Service;...</td>\n",
       "      <td>2012</td>\n",
       "      <td>[Other, Other]</td>\n",
       "      <td>Piatkus Books</td>\n",
       "      <td>[Dallas, Eve (Fictitious character)]</td>\n",
       "      <td>2012</td>\n",
       "      <td>1.000000</td>\n",
       "    </tr>\n",
       "    <tr>\n",
       "      <th>14462</th>\n",
       "      <td>4.0</td>\n",
       "      <td>This book was wonderful and i wish it was a se...</td>\n",
       "      <td>2012</td>\n",
       "      <td>[Other]</td>\n",
       "      <td>Yearling</td>\n",
       "      <td>[Juvenile Fiction]</td>\n",
       "      <td>2011</td>\n",
       "      <td>1.000000</td>\n",
       "    </tr>\n",
       "  </tbody>\n",
       "</table>\n",
       "</div>"
      ],
      "text/plain": [
       "       review                                               text  review_year  \\\n",
       "13339     4.0  You can not deny that Donald Trump is a genius...         2004   \n",
       "3312      4.0  This book was recommended reading to me by a r...         2010   \n",
       "1612      4.0  Bren finds himself in the midst of a civil war...         2007   \n",
       "6630      5.0  Great Price with Excellent and Timely Service;...         2012   \n",
       "14462     4.0  This book was wonderful and i wish it was a se...         2012   \n",
       "\n",
       "              authors                  publisher  \\\n",
       "13339         [Other]                   Currency   \n",
       "3312          [Other]  Houghton Mifflin Harcourt   \n",
       "1612          [Other]              DAW Hardcover   \n",
       "6630   [Other, Other]              Piatkus Books   \n",
       "14462         [Other]                   Yearling   \n",
       "\n",
       "                                 categories  published_year  helpfulness  \n",
       "13339                [Business & Economics]            2004     0.933333  \n",
       "3312                  [Juvenile Nonfiction]            2010     1.000000  \n",
       "1612                              [Fiction]            2007     1.000000  \n",
       "6630   [Dallas, Eve (Fictitious character)]            2012     1.000000  \n",
       "14462                    [Juvenile Fiction]            2011     1.000000  "
      ]
     },
     "execution_count": 86,
     "metadata": {},
     "output_type": "execute_result"
    }
   ],
   "source": [
    "df_all_data_filtered_processed.sample(5, random_state=10)"
   ]
  },
  {
   "cell_type": "code",
   "execution_count": 87,
   "metadata": {},
   "outputs": [],
   "source": [
    "# Some of the authors list contains 'Other' multiple times.\n",
    "df_all_data_filtered_processed['authors'] = df_all_data_filtered_processed['authors'].apply(lambda x: remove_repeated_values(x))"
   ]
  },
  {
   "cell_type": "code",
   "execution_count": 88,
   "metadata": {},
   "outputs": [
    {
     "data": {
      "text/html": [
       "<div>\n",
       "<style scoped>\n",
       "    .dataframe tbody tr th:only-of-type {\n",
       "        vertical-align: middle;\n",
       "    }\n",
       "\n",
       "    .dataframe tbody tr th {\n",
       "        vertical-align: top;\n",
       "    }\n",
       "\n",
       "    .dataframe thead th {\n",
       "        text-align: right;\n",
       "    }\n",
       "</style>\n",
       "<table border=\"1\" class=\"dataframe\">\n",
       "  <thead>\n",
       "    <tr style=\"text-align: right;\">\n",
       "      <th></th>\n",
       "      <th>review</th>\n",
       "      <th>text</th>\n",
       "      <th>review_year</th>\n",
       "      <th>authors</th>\n",
       "      <th>publisher</th>\n",
       "      <th>categories</th>\n",
       "      <th>published_year</th>\n",
       "      <th>helpfulness</th>\n",
       "    </tr>\n",
       "  </thead>\n",
       "  <tbody>\n",
       "    <tr>\n",
       "      <th>13339</th>\n",
       "      <td>4.0</td>\n",
       "      <td>You can not deny that Donald Trump is a genius...</td>\n",
       "      <td>2004</td>\n",
       "      <td>[Other]</td>\n",
       "      <td>Currency</td>\n",
       "      <td>[Business &amp; Economics]</td>\n",
       "      <td>2004</td>\n",
       "      <td>0.933333</td>\n",
       "    </tr>\n",
       "    <tr>\n",
       "      <th>3312</th>\n",
       "      <td>4.0</td>\n",
       "      <td>This book was recommended reading to me by a r...</td>\n",
       "      <td>2010</td>\n",
       "      <td>[Other]</td>\n",
       "      <td>Houghton Mifflin Harcourt</td>\n",
       "      <td>[Juvenile Nonfiction]</td>\n",
       "      <td>2010</td>\n",
       "      <td>1.000000</td>\n",
       "    </tr>\n",
       "    <tr>\n",
       "      <th>1612</th>\n",
       "      <td>4.0</td>\n",
       "      <td>Bren finds himself in the midst of a civil war...</td>\n",
       "      <td>2007</td>\n",
       "      <td>[Other]</td>\n",
       "      <td>DAW Hardcover</td>\n",
       "      <td>[Fiction]</td>\n",
       "      <td>2007</td>\n",
       "      <td>1.000000</td>\n",
       "    </tr>\n",
       "    <tr>\n",
       "      <th>6630</th>\n",
       "      <td>5.0</td>\n",
       "      <td>Great Price with Excellent and Timely Service;...</td>\n",
       "      <td>2012</td>\n",
       "      <td>[Other]</td>\n",
       "      <td>Piatkus Books</td>\n",
       "      <td>[Dallas, Eve (Fictitious character)]</td>\n",
       "      <td>2012</td>\n",
       "      <td>1.000000</td>\n",
       "    </tr>\n",
       "    <tr>\n",
       "      <th>14462</th>\n",
       "      <td>4.0</td>\n",
       "      <td>This book was wonderful and i wish it was a se...</td>\n",
       "      <td>2012</td>\n",
       "      <td>[Other]</td>\n",
       "      <td>Yearling</td>\n",
       "      <td>[Juvenile Fiction]</td>\n",
       "      <td>2011</td>\n",
       "      <td>1.000000</td>\n",
       "    </tr>\n",
       "  </tbody>\n",
       "</table>\n",
       "</div>"
      ],
      "text/plain": [
       "       review                                               text  review_year  \\\n",
       "13339     4.0  You can not deny that Donald Trump is a genius...         2004   \n",
       "3312      4.0  This book was recommended reading to me by a r...         2010   \n",
       "1612      4.0  Bren finds himself in the midst of a civil war...         2007   \n",
       "6630      5.0  Great Price with Excellent and Timely Service;...         2012   \n",
       "14462     4.0  This book was wonderful and i wish it was a se...         2012   \n",
       "\n",
       "       authors                  publisher  \\\n",
       "13339  [Other]                   Currency   \n",
       "3312   [Other]  Houghton Mifflin Harcourt   \n",
       "1612   [Other]              DAW Hardcover   \n",
       "6630   [Other]              Piatkus Books   \n",
       "14462  [Other]                   Yearling   \n",
       "\n",
       "                                 categories  published_year  helpfulness  \n",
       "13339                [Business & Economics]            2004     0.933333  \n",
       "3312                  [Juvenile Nonfiction]            2010     1.000000  \n",
       "1612                              [Fiction]            2007     1.000000  \n",
       "6630   [Dallas, Eve (Fictitious character)]            2012     1.000000  \n",
       "14462                    [Juvenile Fiction]            2011     1.000000  "
      ]
     },
     "execution_count": 88,
     "metadata": {},
     "output_type": "execute_result"
    }
   ],
   "source": [
    "df_all_data_filtered_processed.sample(5, random_state=10)"
   ]
  },
  {
   "cell_type": "code",
   "execution_count": 89,
   "metadata": {},
   "outputs": [
    {
     "data": {
      "text/plain": [
       "authors\n",
       "Other                  14364\n",
       "J. R. R. Tolkien         594\n",
       "Lewis Carroll            148\n",
       "C. S. Lewis              129\n",
       "Christopher Paolini      111\n",
       "Charles Dickens          106\n",
       "Aldous Huxley             85\n",
       "Eckhart Tolle             78\n",
       "Viktor E Frankl           74\n",
       "James Patterson           65\n",
       "Name: count, dtype: int64"
      ]
     },
     "execution_count": 89,
     "metadata": {},
     "output_type": "execute_result"
    }
   ],
   "source": [
    "df_all_data_filtered_processed['authors'].explode().value_counts()"
   ]
  },
  {
   "cell_type": "code",
   "execution_count": 90,
   "metadata": {},
   "outputs": [
    {
     "data": {
      "image/png": "[encoded data removed]",
      "text/plain": [
       "<Figure size 800x800 with 1 Axes>"
      ]
     },
     "metadata": {},
     "output_type": "display_data"
    }
   ],
   "source": [
    "#Show a barplot by Percentages\n",
    "author_percetage = df_all_data_filtered_processed['authors'].explode().value_counts()/df_all_data_filtered_processed['authors'].explode().value_counts().sum()*100\n",
    "\n",
    "fig, ax = plt.subplots(figsize=(8, 8))\n",
    "bars = ax.bar(df_all_data_filtered_processed['authors'].explode().unique(), author_percetage)\n",
    "\n",
    "# Set the bar labels (percentages) to be displayed above the bars\n",
    "ax.bar_label(bars, fmt='%.1f%%')\n",
    "\n",
    "plt.xlabel('Author')\n",
    "plt.ylabel('Percentage')\n",
    "plt.xticks(rotation=90)\n",
    "plt.title('Percentage of Reviews for top 10 Authors', fontsize = 20)\n",
    "plt.show()"
   ]
  },
  {
   "cell_type": "markdown",
   "metadata": {},
   "source": [
    "Top 10 authors only represents the 8.8% of the Total Dataset Reviews. Beacause of the Cardinality of this feature, Authors is removed from the Dataset."
   ]
  },
  {
   "cell_type": "code",
   "execution_count": 91,
   "metadata": {},
   "outputs": [
    {
     "name": "stdout",
     "output_type": "stream",
     "text": [
      "<class 'pandas.core.frame.DataFrame'>\n",
      "RangeIndex: 15738 entries, 0 to 15737\n",
      "Data columns (total 7 columns):\n",
      " #   Column          Non-Null Count  Dtype  \n",
      "---  ------          --------------  -----  \n",
      " 0   review          15738 non-null  float64\n",
      " 1   text            15738 non-null  object \n",
      " 2   review_year     15738 non-null  int64  \n",
      " 3   publisher       14295 non-null  object \n",
      " 4   categories      15441 non-null  object \n",
      " 5   published_year  15738 non-null  int64  \n",
      " 6   helpfulness     15738 non-null  float64\n",
      "dtypes: float64(2), int64(2), object(3)\n",
      "memory usage: 860.8+ KB\n"
     ]
    }
   ],
   "source": [
    "df_all_data_filtered_processed = df_all_data_filtered_processed.drop(['authors'], axis=1)\n",
    "df_all_data_filtered_processed.info()"
   ]
  },
  {
   "cell_type": "markdown",
   "metadata": {},
   "source": [
    "## Cateogories Column"
   ]
  },
  {
   "cell_type": "markdown",
   "metadata": {},
   "source": [
    "### Updating the Categories Feature to Categorical, and applying Pareto Principe to reduce the quantity of Categories."
   ]
  },
  {
   "cell_type": "code",
   "execution_count": 92,
   "metadata": {},
   "outputs": [
    {
     "data": {
      "text/plain": [
       "categories\n",
       "Fiction                             5102\n",
       "Juvenile Fiction                    1483\n",
       "Religion                             826\n",
       "Biography & Autobiography            774\n",
       "History                              595\n",
       "                                    ... \n",
       "Motion picture plays                   1\n",
       "Christianity and other religions       1\n",
       "Biographical fiction                   1\n",
       "Highlands (Scotland)                   1\n",
       "Guilt                                  1\n",
       "Name: count, Length: 439, dtype: int64"
      ]
     },
     "execution_count": 92,
     "metadata": {},
     "output_type": "execute_result"
    }
   ],
   "source": [
    "categories_counts = df_all_data_filtered_processed['categories'].explode().value_counts()\n",
    "categories_counts"
   ]
  },
  {
   "cell_type": "code",
   "execution_count": 93,
   "metadata": {},
   "outputs": [
    {
     "data": {
      "text/plain": [
       "categories\n",
       "Fiction                      5102\n",
       "Juvenile Fiction             1483\n",
       "Religion                      826\n",
       "Biography & Autobiography     774\n",
       "History                       595\n",
       "                             ... \n",
       "Indian captivities              1\n",
       "Czech language                  1\n",
       "North Carolina                  1\n",
       "Low-carbohydrate diet           1\n",
       "Guilt                           1\n",
       "Name: count, Length: 439, dtype: int64"
      ]
     },
     "execution_count": 93,
     "metadata": {},
     "output_type": "execute_result"
    }
   ],
   "source": [
    "sorted_category_counts = categories_counts.sort_values(ascending=False)\n",
    "sorted_category_counts"
   ]
  },
  {
   "cell_type": "code",
   "execution_count": 94,
   "metadata": {},
   "outputs": [
    {
     "data": {
      "text/plain": [
       "87"
      ]
     },
     "execution_count": 94,
     "metadata": {},
     "output_type": "execute_result"
    }
   ],
   "source": [
    "pareto_threshold = int(0.2 * len(sorted_category_counts))\n",
    "pareto_threshold"
   ]
  },
  {
   "cell_type": "code",
   "execution_count": 95,
   "metadata": {},
   "outputs": [
    {
     "data": {
      "text/plain": [
       "Index(['Fiction', 'Juvenile Fiction', 'Religion', 'Biography & Autobiography',\n",
       "       'History', 'Business & Economics', 'Self-Help', 'Computers',\n",
       "       'Family & Relationships', 'Cooking', 'Health & Fitness',\n",
       "       'Juvenile Nonfiction', 'Mind & Spirit', 'Social Science', 'Body',\n",
       "       'Sports & Recreation', 'Political Science',\n",
       "       'Language Arts & Disciplines', 'Humor', 'Education', 'True Crime',\n",
       "       'Crafts & Hobbies', 'Comics & Graphic Novels', 'Travel', 'Philosophy',\n",
       "       'Psychology', 'Science', 'Music', 'Young Adult Fiction',\n",
       "       'Foreign Language Study', 'Dragons', 'Medical', 'Art', 'Poetry',\n",
       "       'Existential psychotherapy', 'Reference', 'Nature', 'Pets',\n",
       "       'Performing Arts', 'Drama', 'Bibles', 'Mathematics',\n",
       "       'Technology & Engineering', 'House & Home', 'Transportation',\n",
       "       'Literary Criticism', 'Photography', 'Executions and executioners',\n",
       "       'Games & Activities', '\"Children's stories\"', 'Architects',\n",
       "       'Study Aids', 'Architecture', 'Games', 'Book burning', 'Gardening',\n",
       "       'Law', 'Fantasy fiction', 'Audiobooks', 'Antiques & Collectibles',\n",
       "       'Literary Collections', 'Criminal investigation', 'Cookery', 'French',\n",
       "       'Adultery', 'Christmas stories', 'Authors', 'Amish', 'England',\n",
       "       'Alligators', 'FICTION', 'Adventure stories', 'Design',\n",
       "       'American literature', 'Fables', 'American', 'Bible', 'Children',\n",
       "       'Characters and characteristics in literature', 'Chess',\n",
       "       'Detective and mystery stories', 'Indirect discourse in literature',\n",
       "       'Motion picture actors and actresses', 'Banks and banking', 'etc',\n",
       "       'Love stories', 'strips'],\n",
       "      dtype='object', name='categories')"
      ]
     },
     "execution_count": 95,
     "metadata": {},
     "output_type": "execute_result"
    }
   ],
   "source": [
    "top_categories = sorted_category_counts.iloc[:pareto_threshold].index\n",
    "top_categories"
   ]
  },
  {
   "cell_type": "code",
   "execution_count": 96,
   "metadata": {},
   "outputs": [
    {
     "data": {
      "text/plain": [
       "categories\n",
       "Fiction                                5102\n",
       "Juvenile Fiction                       1483\n",
       "Other                                   939\n",
       "Religion                                826\n",
       "Biography & Autobiography               774\n",
       "                                       ... \n",
       "Banks and banking                         8\n",
       "Motion picture actors and actresses       8\n",
       "etc                                       7\n",
       "strips                                    7\n",
       "Love stories                              7\n",
       "Name: count, Length: 88, dtype: int64"
      ]
     },
     "execution_count": 96,
     "metadata": {},
     "output_type": "execute_result"
    }
   ],
   "source": [
    "df_all_data_filtered_processed['categories'] = df_all_data_filtered_processed['categories'].apply(lambda x: [category if category in top_categories else 'Other' for category in x] if isinstance(x, list) else ['Other'])\n",
    "df_all_data_filtered_processed['categories'].explode().value_counts()"
   ]
  },
  {
   "cell_type": "markdown",
   "metadata": {},
   "source": [
    "After applying Pareto Principle, there are still 117 unique categories on the dataset. If categories is considered as a Categorical Feature, it will not add much predictive value because it has a lot of Cardinality.\n",
    "\n",
    "Top 10 categories with most reviews are kept and the rest of categories are set to 'Other'."
   ]
  },
  {
   "cell_type": "code",
   "execution_count": 97,
   "metadata": {},
   "outputs": [
    {
     "name": "stdout",
     "output_type": "stream",
     "text": [
      "<class 'pandas.core.series.Series'>\n",
      "Index: 16030 entries, 0 to 15737\n",
      "Series name: categories\n",
      "Non-Null Count  Dtype \n",
      "--------------  ----- \n",
      "16030 non-null  object\n",
      "dtypes: object(1)\n",
      "memory usage: 250.5+ KB\n"
     ]
    }
   ],
   "source": [
    "categories = df_all_data_filtered_processed['categories'].explode()\n",
    "categories.info()"
   ]
  },
  {
   "cell_type": "code",
   "execution_count": 98,
   "metadata": {},
   "outputs": [
    {
     "name": "stdout",
     "output_type": "stream",
     "text": [
      "Total of Categories: 88\n"
     ]
    }
   ],
   "source": [
    "print(f'Total of Categories: {len(categories.unique())}')"
   ]
  },
  {
   "cell_type": "code",
   "execution_count": 99,
   "metadata": {},
   "outputs": [
    {
     "name": "stdout",
     "output_type": "stream",
     "text": [
      "Total of entries after explode Categories column 16030\n"
     ]
    }
   ],
   "source": [
    "categories_counts = categories.value_counts(ascending=False)\n",
    "print(f'Total of entries after explode Categories column {categories_counts.sum()}')"
   ]
  },
  {
   "cell_type": "markdown",
   "metadata": {},
   "source": [
    "Categories are groped on 19 Categories. Based on the Literary genre."
   ]
  },
  {
   "cell_type": "code",
   "execution_count": 100,
   "metadata": {},
   "outputs": [
    {
     "data": {
      "text/plain": [
       "categories\n",
       "Fiction                        5102\n",
       "Juvenile Fiction               1483\n",
       "Other                           939\n",
       "Religion                        826\n",
       "Biography & Autobiography       774\n",
       "History                         595\n",
       "Business & Economics            513\n",
       "Self-Help                       293\n",
       "Computers                       290\n",
       "Family & Relationships          272\n",
       "Cooking                         233\n",
       "Health & Fitness                217\n",
       "Juvenile Nonfiction             210\n",
       "Mind & Spirit                   199\n",
       "Body                            199\n",
       "Social Science                  199\n",
       "Sports & Recreation             187\n",
       "Political Science               173\n",
       "Language Arts & Disciplines     145\n",
       "Humor                           144\n",
       "Education                       141\n",
       "True Crime                      139\n",
       "Crafts & Hobbies                135\n",
       "Comics & Graphic Novels         125\n",
       "Travel                          124\n",
       "Name: count, dtype: int64"
      ]
     },
     "execution_count": 100,
     "metadata": {},
     "output_type": "execute_result"
    }
   ],
   "source": [
    "top_categories_counts = categories_counts[:25].sort_values(ascending=False)\n",
    "top_categories_counts"
   ]
  },
  {
   "cell_type": "markdown",
   "metadata": {},
   "source": [
    "After extracting the 25 top categories, some categories are grouped toguether to reduce the cardinatily of the variable."
   ]
  },
  {
   "cell_type": "code",
   "execution_count": 101,
   "metadata": {},
   "outputs": [],
   "source": [
    "categories_mapping = {\n",
    "    'Fiction' : 'Fiction',\n",
    "    'Juvenile Fiction' : 'Fiction',\n",
    "}"
   ]
  },
  {
   "cell_type": "code",
   "execution_count": 102,
   "metadata": {},
   "outputs": [],
   "source": [
    "def standardize_categories(categories):\n",
    "    if isinstance(categories, list):\n",
    "        return [categories_mapping.get(category, category) for category in categories]\n",
    "    else:\n",
    "        return categories  # Return the original value if it's not a list"
   ]
  },
  {
   "cell_type": "code",
   "execution_count": 103,
   "metadata": {},
   "outputs": [],
   "source": [
    "df_all_data_filtered_processed['categories'] = df_all_data_filtered_processed['categories'].apply(standardize_categories)"
   ]
  },
  {
   "cell_type": "code",
   "execution_count": 104,
   "metadata": {},
   "outputs": [
    {
     "name": "stdout",
     "output_type": "stream",
     "text": [
      "<class 'pandas.core.series.Series'>\n",
      "Index: 16030 entries, 0 to 15737\n",
      "Series name: categories\n",
      "Non-Null Count  Dtype \n",
      "--------------  ----- \n",
      "16030 non-null  object\n",
      "dtypes: object(1)\n",
      "memory usage: 250.5+ KB\n"
     ]
    }
   ],
   "source": [
    "categories = df_all_data_filtered_processed['categories'].explode()\n",
    "categories.info()\n",
    "categories_counts = categories.value_counts(ascending=False)"
   ]
  },
  {
   "cell_type": "code",
   "execution_count": 105,
   "metadata": {},
   "outputs": [
    {
     "data": {
      "text/plain": [
       "categories\n",
       "Fiction                      6585\n",
       "Other                         939\n",
       "Religion                      826\n",
       "Biography & Autobiography     774\n",
       "History                       595\n",
       "Business & Economics          513\n",
       "Self-Help                     293\n",
       "Computers                     290\n",
       "Family & Relationships        272\n",
       "Cooking                       233\n",
       "Name: count, dtype: int64"
      ]
     },
     "execution_count": 105,
     "metadata": {},
     "output_type": "execute_result"
    }
   ],
   "source": [
    "top_10_categories_counts = categories_counts[:10].sort_values(ascending=False)\n",
    "top_10_categories_counts"
   ]
  },
  {
   "cell_type": "code",
   "execution_count": 106,
   "metadata": {},
   "outputs": [
    {
     "data": {
      "text/plain": [
       "categories\n",
       "Health & Fitness                       217\n",
       "Juvenile Nonfiction                    210\n",
       "Social Science                         199\n",
       "Mind & Spirit                          199\n",
       "Body                                   199\n",
       "                                      ... \n",
       "Banks and banking                        8\n",
       "Motion picture actors and actresses      8\n",
       "etc                                      7\n",
       "strips                                   7\n",
       "Love stories                             7\n",
       "Name: count, Length: 77, dtype: int64"
      ]
     },
     "execution_count": 106,
     "metadata": {},
     "output_type": "execute_result"
    }
   ],
   "source": [
    "other_categories_counts = categories_counts[10:]\n",
    "other_categories_counts"
   ]
  },
  {
   "cell_type": "code",
   "execution_count": 107,
   "metadata": {},
   "outputs": [
    {
     "data": {
      "text/plain": [
       "10"
      ]
     },
     "execution_count": 107,
     "metadata": {},
     "output_type": "execute_result"
    }
   ],
   "source": [
    "df_all_data_filtered_processed['categories'] = df_all_data_filtered_processed['categories'].apply(lambda x: [category if category in top_10_categories_counts else 'Other' for category in x] if isinstance(x, list) else ['Other'])\n",
    "len(df_all_data_filtered_processed['categories'].explode().unique())"
   ]
  },
  {
   "cell_type": "code",
   "execution_count": 108,
   "metadata": {},
   "outputs": [
    {
     "data": {
      "text/plain": [
       "categories\n",
       "Fiction                      6585\n",
       "Other                        5649\n",
       "Religion                      826\n",
       "Biography & Autobiography     774\n",
       "History                       595\n",
       "Business & Economics          513\n",
       "Self-Help                     293\n",
       "Computers                     290\n",
       "Family & Relationships        272\n",
       "Cooking                       233\n",
       "Name: count, dtype: int64"
      ]
     },
     "execution_count": 108,
     "metadata": {},
     "output_type": "execute_result"
    }
   ],
   "source": [
    "df_all_data_filtered_processed['categories'].explode().value_counts()"
   ]
  },
  {
   "cell_type": "code",
   "execution_count": 109,
   "metadata": {},
   "outputs": [
    {
     "data": {
      "text/html": [
       "<div>\n",
       "<style scoped>\n",
       "    .dataframe tbody tr th:only-of-type {\n",
       "        vertical-align: middle;\n",
       "    }\n",
       "\n",
       "    .dataframe tbody tr th {\n",
       "        vertical-align: top;\n",
       "    }\n",
       "\n",
       "    .dataframe thead th {\n",
       "        text-align: right;\n",
       "    }\n",
       "</style>\n",
       "<table border=\"1\" class=\"dataframe\">\n",
       "  <thead>\n",
       "    <tr style=\"text-align: right;\">\n",
       "      <th></th>\n",
       "      <th>review</th>\n",
       "      <th>text</th>\n",
       "      <th>review_year</th>\n",
       "      <th>publisher</th>\n",
       "      <th>categories</th>\n",
       "      <th>published_year</th>\n",
       "      <th>helpfulness</th>\n",
       "    </tr>\n",
       "  </thead>\n",
       "  <tbody>\n",
       "    <tr>\n",
       "      <th>1605</th>\n",
       "      <td>5.0</td>\n",
       "      <td>Nice to read on the Kindle! I have the book, t...</td>\n",
       "      <td>2013</td>\n",
       "      <td>Houghton Mifflin Harcourt</td>\n",
       "      <td>[Fiction]</td>\n",
       "      <td>2013</td>\n",
       "      <td>1.000000</td>\n",
       "    </tr>\n",
       "    <tr>\n",
       "      <th>12777</th>\n",
       "      <td>4.0</td>\n",
       "      <td>I discovered the previous edition of this book...</td>\n",
       "      <td>2010</td>\n",
       "      <td>W. W. Norton &amp; Company</td>\n",
       "      <td>[Other]</td>\n",
       "      <td>2009</td>\n",
       "      <td>1.000000</td>\n",
       "    </tr>\n",
       "    <tr>\n",
       "      <th>15689</th>\n",
       "      <td>2.0</td>\n",
       "      <td>I am so disappointed in this book I had to com...</td>\n",
       "      <td>2012</td>\n",
       "      <td>Disney Electronic Content</td>\n",
       "      <td>[Fiction]</td>\n",
       "      <td>2009</td>\n",
       "      <td>1.000000</td>\n",
       "    </tr>\n",
       "    <tr>\n",
       "      <th>2758</th>\n",
       "      <td>2.0</td>\n",
       "      <td>Disappointing that she worked so hard and spen...</td>\n",
       "      <td>2009</td>\n",
       "      <td>W. W. Norton &amp; Company</td>\n",
       "      <td>[Other]</td>\n",
       "      <td>2006</td>\n",
       "      <td>0.333333</td>\n",
       "    </tr>\n",
       "    <tr>\n",
       "      <th>14022</th>\n",
       "      <td>5.0</td>\n",
       "      <td>I thought the book was going to be bigger than...</td>\n",
       "      <td>2013</td>\n",
       "      <td>Courier Corporation</td>\n",
       "      <td>[Other]</td>\n",
       "      <td>2012</td>\n",
       "      <td>1.000000</td>\n",
       "    </tr>\n",
       "  </tbody>\n",
       "</table>\n",
       "</div>"
      ],
      "text/plain": [
       "       review                                               text  review_year  \\\n",
       "1605      5.0  Nice to read on the Kindle! I have the book, t...         2013   \n",
       "12777     4.0  I discovered the previous edition of this book...         2010   \n",
       "15689     2.0  I am so disappointed in this book I had to com...         2012   \n",
       "2758      2.0  Disappointing that she worked so hard and spen...         2009   \n",
       "14022     5.0  I thought the book was going to be bigger than...         2013   \n",
       "\n",
       "                       publisher categories  published_year  helpfulness  \n",
       "1605   Houghton Mifflin Harcourt  [Fiction]            2013     1.000000  \n",
       "12777     W. W. Norton & Company    [Other]            2009     1.000000  \n",
       "15689  Disney Electronic Content  [Fiction]            2009     1.000000  \n",
       "2758      W. W. Norton & Company    [Other]            2006     0.333333  \n",
       "14022        Courier Corporation    [Other]            2012     1.000000  "
      ]
     },
     "execution_count": 109,
     "metadata": {},
     "output_type": "execute_result"
    }
   ],
   "source": [
    "df_all_data_filtered_processed.sample(5, random_state=45)"
   ]
  },
  {
   "cell_type": "code",
   "execution_count": 110,
   "metadata": {},
   "outputs": [
    {
     "data": {
      "text/html": [
       "<div>\n",
       "<style scoped>\n",
       "    .dataframe tbody tr th:only-of-type {\n",
       "        vertical-align: middle;\n",
       "    }\n",
       "\n",
       "    .dataframe tbody tr th {\n",
       "        vertical-align: top;\n",
       "    }\n",
       "\n",
       "    .dataframe thead th {\n",
       "        text-align: right;\n",
       "    }\n",
       "</style>\n",
       "<table border=\"1\" class=\"dataframe\">\n",
       "  <thead>\n",
       "    <tr style=\"text-align: right;\">\n",
       "      <th></th>\n",
       "      <th>review</th>\n",
       "      <th>text</th>\n",
       "      <th>review_year</th>\n",
       "      <th>publisher</th>\n",
       "      <th>categories</th>\n",
       "      <th>published_year</th>\n",
       "      <th>helpfulness</th>\n",
       "    </tr>\n",
       "  </thead>\n",
       "  <tbody>\n",
       "    <tr>\n",
       "      <th>1605</th>\n",
       "      <td>5.0</td>\n",
       "      <td>Nice to read on the Kindle! I have the book, t...</td>\n",
       "      <td>2013</td>\n",
       "      <td>Houghton Mifflin Harcourt</td>\n",
       "      <td>[Fiction]</td>\n",
       "      <td>2013</td>\n",
       "      <td>1.000000</td>\n",
       "    </tr>\n",
       "    <tr>\n",
       "      <th>12777</th>\n",
       "      <td>4.0</td>\n",
       "      <td>I discovered the previous edition of this book...</td>\n",
       "      <td>2010</td>\n",
       "      <td>W. W. Norton &amp; Company</td>\n",
       "      <td>[Other]</td>\n",
       "      <td>2009</td>\n",
       "      <td>1.000000</td>\n",
       "    </tr>\n",
       "    <tr>\n",
       "      <th>15689</th>\n",
       "      <td>2.0</td>\n",
       "      <td>I am so disappointed in this book I had to com...</td>\n",
       "      <td>2012</td>\n",
       "      <td>Disney Electronic Content</td>\n",
       "      <td>[Fiction]</td>\n",
       "      <td>2009</td>\n",
       "      <td>1.000000</td>\n",
       "    </tr>\n",
       "    <tr>\n",
       "      <th>2758</th>\n",
       "      <td>2.0</td>\n",
       "      <td>Disappointing that she worked so hard and spen...</td>\n",
       "      <td>2009</td>\n",
       "      <td>W. W. Norton &amp; Company</td>\n",
       "      <td>[Other]</td>\n",
       "      <td>2006</td>\n",
       "      <td>0.333333</td>\n",
       "    </tr>\n",
       "    <tr>\n",
       "      <th>14022</th>\n",
       "      <td>5.0</td>\n",
       "      <td>I thought the book was going to be bigger than...</td>\n",
       "      <td>2013</td>\n",
       "      <td>Courier Corporation</td>\n",
       "      <td>[Other]</td>\n",
       "      <td>2012</td>\n",
       "      <td>1.000000</td>\n",
       "    </tr>\n",
       "  </tbody>\n",
       "</table>\n",
       "</div>"
      ],
      "text/plain": [
       "       review                                               text  review_year  \\\n",
       "1605      5.0  Nice to read on the Kindle! I have the book, t...         2013   \n",
       "12777     4.0  I discovered the previous edition of this book...         2010   \n",
       "15689     2.0  I am so disappointed in this book I had to com...         2012   \n",
       "2758      2.0  Disappointing that she worked so hard and spen...         2009   \n",
       "14022     5.0  I thought the book was going to be bigger than...         2013   \n",
       "\n",
       "                       publisher categories  published_year  helpfulness  \n",
       "1605   Houghton Mifflin Harcourt  [Fiction]            2013     1.000000  \n",
       "12777     W. W. Norton & Company    [Other]            2009     1.000000  \n",
       "15689  Disney Electronic Content  [Fiction]            2009     1.000000  \n",
       "2758      W. W. Norton & Company    [Other]            2006     0.333333  \n",
       "14022        Courier Corporation    [Other]            2012     1.000000  "
      ]
     },
     "execution_count": 110,
     "metadata": {},
     "output_type": "execute_result"
    }
   ],
   "source": [
    "# Some of the authors list contains 'Other' multiple times.\n",
    "df_all_data_filtered_processed['categories'] = df_all_data_filtered_processed['categories'].apply(lambda x: remove_repeated_values(x))\n",
    "df_all_data_filtered_processed.sample(5, random_state=45)"
   ]
  },
  {
   "cell_type": "code",
   "execution_count": 111,
   "metadata": {},
   "outputs": [
    {
     "data": {
      "text/plain": [
       "categories\n",
       "Fiction                      6585\n",
       "Other                        5357\n",
       "Religion                      826\n",
       "Biography & Autobiography     774\n",
       "History                       595\n",
       "Business & Economics          513\n",
       "Self-Help                     293\n",
       "Computers                     290\n",
       "Family & Relationships        272\n",
       "Cooking                       233\n",
       "Name: count, dtype: int64"
      ]
     },
     "execution_count": 111,
     "metadata": {},
     "output_type": "execute_result"
    }
   ],
   "source": [
    "df_all_data_filtered_processed['categories'].explode().value_counts(ascending=False)"
   ]
  },
  {
   "cell_type": "code",
   "execution_count": 112,
   "metadata": {},
   "outputs": [
    {
     "data": {
      "image/png": "[encoded data removed]",
      "text/plain": [
       "<Figure size 800x800 with 1 Axes>"
      ]
     },
     "metadata": {},
     "output_type": "display_data"
    }
   ],
   "source": [
    "#Show a barplot by Percentages\n",
    "category_percetage = df_all_data_filtered_processed['categories'].explode().value_counts(ascending=False)/df_all_data_filtered_processed['categories'].explode().value_counts(ascending=False).sum()*100\n",
    "\n",
    "fig, ax = plt.subplots(figsize=(8, 8))\n",
    "bars = ax.bar(df_all_data_filtered_processed['categories'].explode().value_counts(ascending=False).keys(), category_percetage)\n",
    "\n",
    "# Set the bar labels (percentages) to be displayed above the bars\n",
    "ax.bar_label(bars, fmt='%.1f%%')\n",
    "\n",
    "plt.xlabel('Category')\n",
    "plt.ylabel('Percentage')\n",
    "plt.xticks(rotation=90)\n",
    "plt.title('Percentage of Reviews for top 10 Categories', fontsize = 20)\n",
    "plt.show()"
   ]
  },
  {
   "cell_type": "markdown",
   "metadata": {},
   "source": [
    "Top 10 Categories different than Other have a good representation on the Dataset. This variable is kept."
   ]
  },
  {
   "cell_type": "code",
   "execution_count": 113,
   "metadata": {},
   "outputs": [
    {
     "data": {
      "text/plain": [
       "(15738, 7)"
      ]
     },
     "execution_count": 113,
     "metadata": {},
     "output_type": "execute_result"
    }
   ],
   "source": [
    "df_all_data_filtered_processed.shape"
   ]
  },
  {
   "cell_type": "code",
   "execution_count": 114,
   "metadata": {},
   "outputs": [
    {
     "data": {
      "text/plain": [
       "(15738, 7)"
      ]
     },
     "execution_count": 114,
     "metadata": {},
     "output_type": "execute_result"
    }
   ],
   "source": [
    "df_all_data_filtered_processed = df_all_data_filtered_processed.explode('categories')\n",
    "df_all_data_filtered_processed.shape"
   ]
  },
  {
   "cell_type": "code",
   "execution_count": 115,
   "metadata": {},
   "outputs": [
    {
     "data": {
      "text/html": [
       "<div>\n",
       "<style scoped>\n",
       "    .dataframe tbody tr th:only-of-type {\n",
       "        vertical-align: middle;\n",
       "    }\n",
       "\n",
       "    .dataframe tbody tr th {\n",
       "        vertical-align: top;\n",
       "    }\n",
       "\n",
       "    .dataframe thead th {\n",
       "        text-align: right;\n",
       "    }\n",
       "</style>\n",
       "<table border=\"1\" class=\"dataframe\">\n",
       "  <thead>\n",
       "    <tr style=\"text-align: right;\">\n",
       "      <th></th>\n",
       "      <th>review</th>\n",
       "      <th>text</th>\n",
       "      <th>review_year</th>\n",
       "      <th>publisher</th>\n",
       "      <th>categories</th>\n",
       "      <th>published_year</th>\n",
       "      <th>helpfulness</th>\n",
       "    </tr>\n",
       "  </thead>\n",
       "  <tbody>\n",
       "    <tr>\n",
       "      <th>15633</th>\n",
       "      <td>1.0</td>\n",
       "      <td>This is a really awful book - embarrassingly b...</td>\n",
       "      <td>2007</td>\n",
       "      <td>Hachette UK</td>\n",
       "      <td>Other</td>\n",
       "      <td>2007</td>\n",
       "      <td>0.666667</td>\n",
       "    </tr>\n",
       "    <tr>\n",
       "      <th>872</th>\n",
       "      <td>5.0</td>\n",
       "      <td>This book is excellent: readable, scholarly, h...</td>\n",
       "      <td>2007</td>\n",
       "      <td>NaN</td>\n",
       "      <td>Religion</td>\n",
       "      <td>2007</td>\n",
       "      <td>0.777778</td>\n",
       "    </tr>\n",
       "    <tr>\n",
       "      <th>4733</th>\n",
       "      <td>5.0</td>\n",
       "      <td>I purchased this book for my nephew who is hav...</td>\n",
       "      <td>2012</td>\n",
       "      <td>Frank Schaffer Publications Incorporated</td>\n",
       "      <td>Other</td>\n",
       "      <td>2005</td>\n",
       "      <td>1.000000</td>\n",
       "    </tr>\n",
       "    <tr>\n",
       "      <th>5856</th>\n",
       "      <td>4.0</td>\n",
       "      <td>This book was an especially good one in the se...</td>\n",
       "      <td>2013</td>\n",
       "      <td>Berkley</td>\n",
       "      <td>Fiction</td>\n",
       "      <td>2005</td>\n",
       "      <td>1.000000</td>\n",
       "    </tr>\n",
       "    <tr>\n",
       "      <th>12583</th>\n",
       "      <td>4.0</td>\n",
       "      <td>This book is honestly a little frightening if ...</td>\n",
       "      <td>2007</td>\n",
       "      <td>Simon and Schuster</td>\n",
       "      <td>Fiction</td>\n",
       "      <td>2005</td>\n",
       "      <td>1.000000</td>\n",
       "    </tr>\n",
       "  </tbody>\n",
       "</table>\n",
       "</div>"
      ],
      "text/plain": [
       "       review                                               text  review_year  \\\n",
       "15633     1.0  This is a really awful book - embarrassingly b...         2007   \n",
       "872       5.0  This book is excellent: readable, scholarly, h...         2007   \n",
       "4733      5.0  I purchased this book for my nephew who is hav...         2012   \n",
       "5856      4.0  This book was an especially good one in the se...         2013   \n",
       "12583     4.0  This book is honestly a little frightening if ...         2007   \n",
       "\n",
       "                                      publisher categories  published_year  \\\n",
       "15633                               Hachette UK      Other            2007   \n",
       "872                                         NaN   Religion            2007   \n",
       "4733   Frank Schaffer Publications Incorporated      Other            2005   \n",
       "5856                                    Berkley    Fiction            2005   \n",
       "12583                        Simon and Schuster    Fiction            2005   \n",
       "\n",
       "       helpfulness  \n",
       "15633     0.666667  \n",
       "872       0.777778  \n",
       "4733      1.000000  \n",
       "5856      1.000000  \n",
       "12583     1.000000  "
      ]
     },
     "execution_count": 115,
     "metadata": {},
     "output_type": "execute_result"
    }
   ],
   "source": [
    "df_all_data_filtered_processed.sample(5)"
   ]
  },
  {
   "cell_type": "markdown",
   "metadata": {},
   "source": [
    "## Publisher Column"
   ]
  },
  {
   "cell_type": "code",
   "execution_count": 116,
   "metadata": {},
   "outputs": [],
   "source": [
    "publisher_mapping = {\n",
    "    'Penguin UK':'Penguin',\n",
    "    'HarperCollins': 'Harper Collins',\n",
    "    'HarperCollins UK' :  'Harper Collins',\n",
    "    'Adams Media Corporation': 'Adams Media',\n",
    "    'Addison Wesley Longman' : 'Addison-Wesley',\n",
    "    'Addison Wesley Publishing Company':'Addison-Wesley',\n",
    "    'Addison-Wesley Longman':'Addison-Wesley',\n",
    "    'Addison-Wesley Professional' : 'Addison-Wesley',\n",
    "    '''\"O'Reilly Media, Inc.\"''' : \"O'Reilly Media, Inc.\",\n",
    "    '*Frommers' : 'Frommers',\n",
    "    '*Howell Book House' : 'Howell Book House',\n",
    "    }"
   ]
  },
  {
   "cell_type": "code",
   "execution_count": 117,
   "metadata": {},
   "outputs": [],
   "source": [
    "def standardize_publisher(publisher):\n",
    "    if pd.isna(publisher):        \n",
    "        return publisher  # Return the original value if it's not a list\n",
    "    else:\n",
    "\n",
    "        return publisher_mapping.get(publisher, publisher)"
   ]
  },
  {
   "cell_type": "code",
   "execution_count": 118,
   "metadata": {},
   "outputs": [],
   "source": [
    "df_all_data_filtered_processed['publisher'] = df_all_data_filtered_processed['publisher'].apply(standardize_publisher)"
   ]
  },
  {
   "cell_type": "code",
   "execution_count": 119,
   "metadata": {},
   "outputs": [
    {
     "data": {
      "text/plain": [
       "publisher\n",
       "Penguin                           1228\n",
       "Harper Collins                     946\n",
       "Simon and Schuster                 854\n",
       "Mariner Books                      500\n",
       "Random House                       358\n",
       "                                  ... \n",
       "Bookman Publishing & Marketing       1\n",
       "Basic Health Publications            1\n",
       "Nbm Publishing Company               1\n",
       "Infinite Ideas                       1\n",
       "Dewi Lewis Pub                       1\n",
       "Name: count, Length: 1806, dtype: int64"
      ]
     },
     "execution_count": 119,
     "metadata": {},
     "output_type": "execute_result"
    }
   ],
   "source": [
    "publisher_counts = df_all_data_filtered_processed['publisher'].value_counts()\n",
    "publisher_counts"
   ]
  },
  {
   "cell_type": "markdown",
   "metadata": {},
   "source": [
    "### Updating the publisher Feature to Categorical, and applying Pareto Principe to reduce the quantity of publishers."
   ]
  },
  {
   "cell_type": "code",
   "execution_count": 120,
   "metadata": {},
   "outputs": [
    {
     "data": {
      "text/plain": [
       "publisher\n",
       "Penguin                       1228\n",
       "Harper Collins                 946\n",
       "Simon and Schuster             854\n",
       "Mariner Books                  500\n",
       "Random House                   358\n",
       "Macmillan                      221\n",
       "Vintage                        194\n",
       "Houghton Mifflin Harcourt      172\n",
       "Anchor                         171\n",
       "Bantam                         166\n",
       "John Wiley & Sons              162\n",
       "The Floating Press             139\n",
       "Hachette UK                    124\n",
       "Baker Books                    118\n",
       "Random House Digital, Inc.     113\n",
       "Ballantine Books               102\n",
       "W. W. Norton & Company         100\n",
       "Bethany House                   95\n",
       "Back Bay Books                  84\n",
       "O'Reilly Media, Inc.            82\n",
       "Little, Brown                   79\n",
       "Oxford University Press         79\n",
       "Sourcebooks, Inc.               78\n",
       "Thomas Nelson                   78\n",
       "Crown                           78\n",
       "Name: count, dtype: int64"
      ]
     },
     "execution_count": 120,
     "metadata": {},
     "output_type": "execute_result"
    }
   ],
   "source": [
    "sorted_publisher_counts = publisher_counts.sort_values(ascending=False)\n",
    "sorted_publisher_counts[:25]"
   ]
  },
  {
   "cell_type": "code",
   "execution_count": 121,
   "metadata": {},
   "outputs": [
    {
     "data": {
      "text/plain": [
       "361"
      ]
     },
     "execution_count": 121,
     "metadata": {},
     "output_type": "execute_result"
    }
   ],
   "source": [
    "pareto_threshold = int(0.2 * len(sorted_publisher_counts))\n",
    "pareto_threshold"
   ]
  },
  {
   "cell_type": "code",
   "execution_count": 122,
   "metadata": {},
   "outputs": [
    {
     "data": {
      "text/plain": [
       "Index(['Penguin', 'Harper Collins', 'Simon and Schuster', 'Mariner Books',\n",
       "       'Random House', 'Macmillan', 'Vintage', 'Houghton Mifflin Harcourt',\n",
       "       'Anchor', 'Bantam',\n",
       "       ...\n",
       "       'Liturgical Press', 'Rolling Home Press',\n",
       "       'Dorchester Publishing Company Incorporated', 'Duke University Press',\n",
       "       'Wildside Press LLC', 'Rizzoli Publications', 'Osote Pub',\n",
       "       'Crown Archetype', 'Singel Uitgeverijen', 'Scholastic Paperbacks'],\n",
       "      dtype='object', name='publisher', length=361)"
      ]
     },
     "execution_count": 122,
     "metadata": {},
     "output_type": "execute_result"
    }
   ],
   "source": [
    "top_publishers = sorted_publisher_counts.iloc[:pareto_threshold].index\n",
    "top_publishers"
   ]
  },
  {
   "cell_type": "code",
   "execution_count": 123,
   "metadata": {},
   "outputs": [
    {
     "data": {
      "text/plain": [
       "publisher\n",
       "Other                       3971\n",
       "Penguin                     1228\n",
       "Harper Collins               946\n",
       "Simon and Schuster           854\n",
       "Mariner Books                500\n",
       "                            ... \n",
       "Rizzoli Publications           5\n",
       "Potomac Books, Inc.            5\n",
       "Thomas Nelson Publishers       5\n",
       "Rolling Home Press             5\n",
       "Sams Publishing                5\n",
       "Name: count, Length: 362, dtype: int64"
      ]
     },
     "execution_count": 123,
     "metadata": {},
     "output_type": "execute_result"
    }
   ],
   "source": [
    "df_all_data_filtered_processed['publisher'] = df_all_data_filtered_processed['publisher'].apply(lambda publisher: publisher if publisher in top_publishers else 'Other')\n",
    "df_all_data_filtered_processed['publisher'].value_counts()"
   ]
  },
  {
   "cell_type": "markdown",
   "metadata": {},
   "source": [
    "After applying Pareto Principle, there are still 362 unique publishers on the dataset. If publishers is considered as a Categorical Feature, it will not add much predictive value because it has a lot of Cardinality.\n",
    "\n",
    "Top 10 publishers with most reviews are kept and the rest of publishers are set to 'Other'. In order to keep the feature and analize the predicting power."
   ]
  },
  {
   "cell_type": "code",
   "execution_count": 124,
   "metadata": {},
   "outputs": [
    {
     "name": "stdout",
     "output_type": "stream",
     "text": [
      "<class 'pandas.core.series.Series'>\n",
      "Index: 15738 entries, 0 to 15737\n",
      "Series name: publisher\n",
      "Non-Null Count  Dtype \n",
      "--------------  ----- \n",
      "15738 non-null  object\n",
      "dtypes: object(1)\n",
      "memory usage: 245.9+ KB\n"
     ]
    }
   ],
   "source": [
    "publishers = df_all_data_filtered_processed['publisher']\n",
    "publishers.info()"
   ]
  },
  {
   "cell_type": "code",
   "execution_count": 125,
   "metadata": {},
   "outputs": [
    {
     "name": "stdout",
     "output_type": "stream",
     "text": [
      "Total of Publishers: 362\n"
     ]
    }
   ],
   "source": [
    "print(f'Total of Publishers: {len(publishers.unique())}')"
   ]
  },
  {
   "cell_type": "code",
   "execution_count": 126,
   "metadata": {},
   "outputs": [
    {
     "data": {
      "text/plain": [
       "publisher\n",
       "Other                       3971\n",
       "Penguin                     1228\n",
       "Harper Collins               946\n",
       "Simon and Schuster           854\n",
       "Mariner Books                500\n",
       "                            ... \n",
       "Rizzoli Publications           5\n",
       "Potomac Books, Inc.            5\n",
       "Thomas Nelson Publishers       5\n",
       "Rolling Home Press             5\n",
       "Sams Publishing                5\n",
       "Name: count, Length: 362, dtype: int64"
      ]
     },
     "execution_count": 126,
     "metadata": {},
     "output_type": "execute_result"
    }
   ],
   "source": [
    "publisher_counts = publishers.value_counts(ascending=False)\n",
    "publisher_counts"
   ]
  },
  {
   "cell_type": "code",
   "execution_count": 127,
   "metadata": {},
   "outputs": [
    {
     "data": {
      "text/plain": [
       "publisher\n",
       "Other                        3971\n",
       "Penguin                      1228\n",
       "Harper Collins                946\n",
       "Simon and Schuster            854\n",
       "Mariner Books                 500\n",
       "Random House                  358\n",
       "Macmillan                     221\n",
       "Vintage                       194\n",
       "Houghton Mifflin Harcourt     172\n",
       "Anchor                        171\n",
       "Name: count, dtype: int64"
      ]
     },
     "execution_count": 127,
     "metadata": {},
     "output_type": "execute_result"
    }
   ],
   "source": [
    "top_10_publishers_counts = publisher_counts[:10].sort_values(ascending=False)\n",
    "top_10_publishers_counts"
   ]
  },
  {
   "cell_type": "code",
   "execution_count": 128,
   "metadata": {},
   "outputs": [
    {
     "data": {
      "text/plain": [
       "publisher\n",
       "Bantam                      166\n",
       "John Wiley & Sons           162\n",
       "The Floating Press          139\n",
       "Hachette UK                 124\n",
       "Baker Books                 118\n",
       "                           ... \n",
       "Rizzoli Publications          5\n",
       "Potomac Books, Inc.           5\n",
       "Thomas Nelson Publishers      5\n",
       "Rolling Home Press            5\n",
       "Sams Publishing               5\n",
       "Name: count, Length: 352, dtype: int64"
      ]
     },
     "execution_count": 128,
     "metadata": {},
     "output_type": "execute_result"
    }
   ],
   "source": [
    "other_publishers_counts = publisher_counts[10:]\n",
    "other_publishers_counts"
   ]
  },
  {
   "cell_type": "code",
   "execution_count": 129,
   "metadata": {},
   "outputs": [
    {
     "data": {
      "text/plain": [
       "10"
      ]
     },
     "execution_count": 129,
     "metadata": {},
     "output_type": "execute_result"
    }
   ],
   "source": [
    "df_all_data_filtered_processed['publisher'] = df_all_data_filtered_processed['publisher'].apply(lambda publisher: publisher if publisher in top_10_publishers_counts else 'Other')\n",
    "len(df_all_data_filtered_processed['publisher'].unique())"
   ]
  },
  {
   "cell_type": "code",
   "execution_count": 130,
   "metadata": {},
   "outputs": [
    {
     "data": {
      "text/plain": [
       "publisher\n",
       "Other                        11094\n",
       "Penguin                       1228\n",
       "Harper Collins                 946\n",
       "Simon and Schuster             854\n",
       "Mariner Books                  500\n",
       "Random House                   358\n",
       "Macmillan                      221\n",
       "Vintage                        194\n",
       "Houghton Mifflin Harcourt      172\n",
       "Anchor                         171\n",
       "Name: count, dtype: int64"
      ]
     },
     "execution_count": 130,
     "metadata": {},
     "output_type": "execute_result"
    }
   ],
   "source": [
    "df_all_data_filtered_processed['publisher'].value_counts()"
   ]
  },
  {
   "cell_type": "code",
   "execution_count": 131,
   "metadata": {},
   "outputs": [
    {
     "data": {
      "image/png": "[encoded data removed]",
      "text/plain": [
       "<Figure size 800x800 with 1 Axes>"
      ]
     },
     "metadata": {},
     "output_type": "display_data"
    }
   ],
   "source": [
    "#Show a barplot by Percentages\n",
    "publisher_percetage = df_all_data_filtered_processed['publisher'].value_counts(ascending=False)/df_all_data_filtered_processed['publisher'].value_counts(ascending=False).sum()*100\n",
    "\n",
    "fig, ax = plt.subplots(figsize=(8, 8))\n",
    "bars = ax.bar(df_all_data_filtered_processed['publisher'].value_counts(ascending=False).keys(), publisher_percetage)\n",
    "\n",
    "# Set the bar labels (percentages) to be displayed above the bars\n",
    "ax.bar_label(bars, fmt='%.1f%%')\n",
    "\n",
    "plt.xlabel('Publisher')\n",
    "plt.ylabel('Percentage')\n",
    "plt.xticks(rotation=90)\n",
    "plt.title('Percentage of Reviews for top 10 Publishers', fontsize = 20)\n",
    "plt.show()\n"
   ]
  },
  {
   "cell_type": "markdown",
   "metadata": {},
   "source": [
    "Top 10 publishers different than Other represents the 29.5% of the dataset. The representation of non-other publishers is low, but is grather than 25%, so the variable is kept.\n"
   ]
  },
  {
   "cell_type": "markdown",
   "metadata": {},
   "source": [
    "# Processed Datasets Saving"
   ]
  },
  {
   "cell_type": "code",
   "execution_count": 132,
   "metadata": {},
   "outputs": [
    {
     "name": "stdout",
     "output_type": "stream",
     "text": [
      "<class 'pandas.core.frame.DataFrame'>\n",
      "Index: 15738 entries, 0 to 15737\n",
      "Data columns (total 7 columns):\n",
      " #   Column          Non-Null Count  Dtype  \n",
      "---  ------          --------------  -----  \n",
      " 0   review          15738 non-null  float64\n",
      " 1   text            15738 non-null  object \n",
      " 2   review_year     15738 non-null  int64  \n",
      " 3   publisher       15738 non-null  object \n",
      " 4   categories      15738 non-null  object \n",
      " 5   published_year  15738 non-null  int64  \n",
      " 6   helpfulness     15738 non-null  float64\n",
      "dtypes: float64(2), int64(2), object(3)\n",
      "memory usage: 983.6+ KB\n"
     ]
    }
   ],
   "source": [
    "df_all_data_filtered_processed.info()"
   ]
  },
  {
   "cell_type": "code",
   "execution_count": 133,
   "metadata": {},
   "outputs": [
    {
     "data": {
      "text/plain": [
       "review            0\n",
       "text              0\n",
       "review_year       0\n",
       "publisher         0\n",
       "categories        0\n",
       "published_year    0\n",
       "helpfulness       0\n",
       "dtype: int64"
      ]
     },
     "execution_count": 133,
     "metadata": {},
     "output_type": "execute_result"
    }
   ],
   "source": [
    "df_all_data_filtered_processed.isna().sum()"
   ]
  },
  {
   "cell_type": "code",
   "execution_count": 134,
   "metadata": {},
   "outputs": [
    {
     "data": {
      "text/html": [
       "<div>\n",
       "<style scoped>\n",
       "    .dataframe tbody tr th:only-of-type {\n",
       "        vertical-align: middle;\n",
       "    }\n",
       "\n",
       "    .dataframe tbody tr th {\n",
       "        vertical-align: top;\n",
       "    }\n",
       "\n",
       "    .dataframe thead th {\n",
       "        text-align: right;\n",
       "    }\n",
       "</style>\n",
       "<table border=\"1\" class=\"dataframe\">\n",
       "  <thead>\n",
       "    <tr style=\"text-align: right;\">\n",
       "      <th></th>\n",
       "      <th>review</th>\n",
       "      <th>text</th>\n",
       "      <th>review_year</th>\n",
       "      <th>publisher</th>\n",
       "      <th>categories</th>\n",
       "      <th>published_year</th>\n",
       "      <th>helpfulness</th>\n",
       "    </tr>\n",
       "  </thead>\n",
       "  <tbody>\n",
       "    <tr>\n",
       "      <th>5685</th>\n",
       "      <td>5.0</td>\n",
       "      <td>This learned spiritual treatise on our God of ...</td>\n",
       "      <td>2011</td>\n",
       "      <td>Other</td>\n",
       "      <td>Religion</td>\n",
       "      <td>2005</td>\n",
       "      <td>1.0</td>\n",
       "    </tr>\n",
       "    <tr>\n",
       "      <th>14137</th>\n",
       "      <td>5.0</td>\n",
       "      <td>I really like the book. It was a fast quick re...</td>\n",
       "      <td>2013</td>\n",
       "      <td>Other</td>\n",
       "      <td>Fiction</td>\n",
       "      <td>2010</td>\n",
       "      <td>1.0</td>\n",
       "    </tr>\n",
       "    <tr>\n",
       "      <th>4028</th>\n",
       "      <td>5.0</td>\n",
       "      <td>I've had the companion book, God at Eventide, ...</td>\n",
       "      <td>2012</td>\n",
       "      <td>Other</td>\n",
       "      <td>Religion</td>\n",
       "      <td>2006</td>\n",
       "      <td>1.0</td>\n",
       "    </tr>\n",
       "    <tr>\n",
       "      <th>954</th>\n",
       "      <td>5.0</td>\n",
       "      <td>One of the Absolute Best Ethics Books of all T...</td>\n",
       "      <td>2009</td>\n",
       "      <td>Vintage</td>\n",
       "      <td>Fiction</td>\n",
       "      <td>2008</td>\n",
       "      <td>0.5</td>\n",
       "    </tr>\n",
       "    <tr>\n",
       "      <th>7101</th>\n",
       "      <td>5.0</td>\n",
       "      <td>More people know about the story in relation t...</td>\n",
       "      <td>2012</td>\n",
       "      <td>Penguin</td>\n",
       "      <td>Fiction</td>\n",
       "      <td>2004</td>\n",
       "      <td>1.0</td>\n",
       "    </tr>\n",
       "    <tr>\n",
       "      <th>9723</th>\n",
       "      <td>5.0</td>\n",
       "      <td>She has taken a difficult task and put it into...</td>\n",
       "      <td>2013</td>\n",
       "      <td>Other</td>\n",
       "      <td>Other</td>\n",
       "      <td>2005</td>\n",
       "      <td>1.0</td>\n",
       "    </tr>\n",
       "    <tr>\n",
       "      <th>4116</th>\n",
       "      <td>4.0</td>\n",
       "      <td>As I am finding with all of the Harvard Busine...</td>\n",
       "      <td>2006</td>\n",
       "      <td>Other</td>\n",
       "      <td>Other</td>\n",
       "      <td>2005</td>\n",
       "      <td>1.0</td>\n",
       "    </tr>\n",
       "    <tr>\n",
       "      <th>3755</th>\n",
       "      <td>5.0</td>\n",
       "      <td>Delightful Little Einsteins book about caterpi...</td>\n",
       "      <td>2008</td>\n",
       "      <td>Other</td>\n",
       "      <td>Fiction</td>\n",
       "      <td>2008</td>\n",
       "      <td>1.0</td>\n",
       "    </tr>\n",
       "    <tr>\n",
       "      <th>10643</th>\n",
       "      <td>5.0</td>\n",
       "      <td>before I purchase a item I always research wha...</td>\n",
       "      <td>2009</td>\n",
       "      <td>Other</td>\n",
       "      <td>Other</td>\n",
       "      <td>2004</td>\n",
       "      <td>0.0</td>\n",
       "    </tr>\n",
       "    <tr>\n",
       "      <th>464</th>\n",
       "      <td>4.0</td>\n",
       "      <td>Possible spoilers in review!I'm an avid reader...</td>\n",
       "      <td>2006</td>\n",
       "      <td>Other</td>\n",
       "      <td>Other</td>\n",
       "      <td>2005</td>\n",
       "      <td>0.5</td>\n",
       "    </tr>\n",
       "  </tbody>\n",
       "</table>\n",
       "</div>"
      ],
      "text/plain": [
       "       review                                               text  review_year  \\\n",
       "5685      5.0  This learned spiritual treatise on our God of ...         2011   \n",
       "14137     5.0  I really like the book. It was a fast quick re...         2013   \n",
       "4028      5.0  I've had the companion book, God at Eventide, ...         2012   \n",
       "954       5.0  One of the Absolute Best Ethics Books of all T...         2009   \n",
       "7101      5.0  More people know about the story in relation t...         2012   \n",
       "9723      5.0  She has taken a difficult task and put it into...         2013   \n",
       "4116      4.0  As I am finding with all of the Harvard Busine...         2006   \n",
       "3755      5.0  Delightful Little Einsteins book about caterpi...         2008   \n",
       "10643     5.0  before I purchase a item I always research wha...         2009   \n",
       "464       4.0  Possible spoilers in review!I'm an avid reader...         2006   \n",
       "\n",
       "      publisher categories  published_year  helpfulness  \n",
       "5685      Other   Religion            2005          1.0  \n",
       "14137     Other    Fiction            2010          1.0  \n",
       "4028      Other   Religion            2006          1.0  \n",
       "954     Vintage    Fiction            2008          0.5  \n",
       "7101    Penguin    Fiction            2004          1.0  \n",
       "9723      Other      Other            2005          1.0  \n",
       "4116      Other      Other            2005          1.0  \n",
       "3755      Other    Fiction            2008          1.0  \n",
       "10643     Other      Other            2004          0.0  \n",
       "464       Other      Other            2005          0.5  "
      ]
     },
     "execution_count": 134,
     "metadata": {},
     "output_type": "execute_result"
    }
   ],
   "source": [
    "df_all_data_filtered_processed.sample(10)"
   ]
  },
  {
   "cell_type": "code",
   "execution_count": 135,
   "metadata": {},
   "outputs": [
    {
     "data": {
      "text/html": [
       "<div>\n",
       "<style scoped>\n",
       "    .dataframe tbody tr th:only-of-type {\n",
       "        vertical-align: middle;\n",
       "    }\n",
       "\n",
       "    .dataframe tbody tr th {\n",
       "        vertical-align: top;\n",
       "    }\n",
       "\n",
       "    .dataframe thead th {\n",
       "        text-align: right;\n",
       "    }\n",
       "</style>\n",
       "<table border=\"1\" class=\"dataframe\">\n",
       "  <thead>\n",
       "    <tr style=\"text-align: right;\">\n",
       "      <th></th>\n",
       "      <th>num_row</th>\n",
       "      <th>text</th>\n",
       "    </tr>\n",
       "  </thead>\n",
       "  <tbody>\n",
       "    <tr>\n",
       "      <th>4473</th>\n",
       "      <td>4473</td>\n",
       "      <td>The Missing Piece captivated me. As a man, it ...</td>\n",
       "    </tr>\n",
       "    <tr>\n",
       "      <th>4272</th>\n",
       "      <td>4272</td>\n",
       "      <td>This book explains a lot about what SANs are a...</td>\n",
       "    </tr>\n",
       "    <tr>\n",
       "      <th>7193</th>\n",
       "      <td>7193</td>\n",
       "      <td>This was an excellent book. It was the first I...</td>\n",
       "    </tr>\n",
       "    <tr>\n",
       "      <th>9371</th>\n",
       "      <td>9371</td>\n",
       "      <td>Red Dragon is my favorite out of the Hannibal ...</td>\n",
       "    </tr>\n",
       "    <tr>\n",
       "      <th>15435</th>\n",
       "      <td>15435</td>\n",
       "      <td>I've read all the 'In Death' novels and starte...</td>\n",
       "    </tr>\n",
       "    <tr>\n",
       "      <th>6075</th>\n",
       "      <td>6075</td>\n",
       "      <td>John Krakauer gives a well researched study of...</td>\n",
       "    </tr>\n",
       "    <tr>\n",
       "      <th>4223</th>\n",
       "      <td>4223</td>\n",
       "      <td>I bought this so my learning disabled students...</td>\n",
       "    </tr>\n",
       "    <tr>\n",
       "      <th>6088</th>\n",
       "      <td>6088</td>\n",
       "      <td>Purple Cow is a great book by a great writer. ...</td>\n",
       "    </tr>\n",
       "    <tr>\n",
       "      <th>3702</th>\n",
       "      <td>3702</td>\n",
       "      <td>A fairly good book on doing funerals, it wasn'...</td>\n",
       "    </tr>\n",
       "    <tr>\n",
       "      <th>3293</th>\n",
       "      <td>3293</td>\n",
       "      <td>This is a wonderful book. Some of it is challe...</td>\n",
       "    </tr>\n",
       "  </tbody>\n",
       "</table>\n",
       "</div>"
      ],
      "text/plain": [
       "       num_row                                               text\n",
       "4473      4473  The Missing Piece captivated me. As a man, it ...\n",
       "4272      4272  This book explains a lot about what SANs are a...\n",
       "7193      7193  This was an excellent book. It was the first I...\n",
       "9371      9371  Red Dragon is my favorite out of the Hannibal ...\n",
       "15435    15435  I've read all the 'In Death' novels and starte...\n",
       "6075      6075  John Krakauer gives a well researched study of...\n",
       "4223      4223  I bought this so my learning disabled students...\n",
       "6088      6088  Purple Cow is a great book by a great writer. ...\n",
       "3702      3702  A fairly good book on doing funerals, it wasn'...\n",
       "3293      3293  This is a wonderful book. Some of it is challe..."
      ]
     },
     "execution_count": 135,
     "metadata": {},
     "output_type": "execute_result"
    }
   ],
   "source": [
    "#A reduced Dataset is created to process Text Column and Apply sentiment Analysis.\n",
    "df_all_data_filtered_processed['num_row'] = np.arange(len(df_all_data_filtered_processed))\n",
    "\n",
    "df_reduced = df_all_data_filtered_processed[['num_row', 'text']].copy()\n",
    "\n",
    "df_reduced.sample(10)"
   ]
  },
  {
   "cell_type": "code",
   "execution_count": 136,
   "metadata": {},
   "outputs": [],
   "source": [
    "df_all_data_filtered_processed.to_csv('../data/processed/filtered_data_processed.csv')"
   ]
  },
  {
   "cell_type": "code",
   "execution_count": 137,
   "metadata": {},
   "outputs": [],
   "source": [
    "df_reduced.to_csv('../data/processed/df_reduced.csv')"
   ]
  }
 ],
 "metadata": {
  "kernelspec": {
   "display_name": ".venv",
   "language": "python",
   "name": "python3"
  },
  "language_info": {
   "codemirror_mode": {
    "name": "ipython",
    "version": 3
   },
   "file_extension": ".py",
   "mimetype": "text/x-python",
   "name": "python",
   "nbconvert_exporter": "python",
   "pygments_lexer": "ipython3",
   "version": "3.8.10"
  }
 },
 "nbformat": 4,
 "nbformat_minor": 2
}
